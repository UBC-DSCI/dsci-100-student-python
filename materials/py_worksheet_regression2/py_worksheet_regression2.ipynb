{
 "cells": [
  {
   "cell_type": "markdown",
   "metadata": {
    "deletable": false,
    "editable": false,
    "nbgrader": {
     "cell_type": "markdown",
     "checksum": "54c05a036ba3d273a27ab83dc5e36f24",
     "grade": false,
     "grade_id": "cell-fe148db84368f758",
     "locked": true,
     "schema_version": 3,
     "solution": false,
     "task": false
    }
   },
   "source": [
    "# Worksheet 9 - Regression Continued\n",
    "\n",
    "### Lecture and Tutorial Learning Goals:\n",
    "\n",
    "By the end of the week, students will be able to:\n",
    "\n",
    "- Perform ordinary least squares regression in Python using `scikit-learn` to predict the values for a test dataset.\n",
    "- Compare and contrast predictions obtained from k-nearest neighbour regression to those obtained using simple ordinary least squares regression from the same dataset.\n",
    "- In Python, overlay the ordinary least squares regression lines from `transform_regression` on a single plot."
   ]
  },
  {
   "cell_type": "code",
   "execution_count": null,
   "metadata": {
    "deletable": false,
    "editable": false,
    "nbgrader": {
     "cell_type": "code",
     "checksum": "8bb233cc054b4fa66a0702a03c566c71",
     "grade": false,
     "grade_id": "cell-9d267d6cbb575992",
     "locked": true,
     "schema_version": 3,
     "solution": false,
     "task": false
    }
   },
   "outputs": [],
   "source": [
    "### Run this cell before continuing.\n",
    "import altair as alt\n",
    "import numpy as np\n",
    "import pandas as pd\n",
    "from sklearn.linear_model import LinearRegression\n",
    "from sklearn.model_selection import train_test_split\n",
    "from sklearn.metrics import mean_squared_error"
   ]
  },
  {
   "cell_type": "markdown",
   "metadata": {
    "deletable": false,
    "editable": false,
    "nbgrader": {
     "cell_type": "markdown",
     "checksum": "b2a8bf529074d37a21ef54b01f6aa66e",
     "grade": false,
     "grade_id": "cell-5cd24ea6314eb5a1",
     "locked": true,
     "schema_version": 3,
     "solution": false,
     "task": false
    }
   },
   "source": [
    "### Warm-up Questions\n",
    "\n",
    "Here are some warm-up questions on the topic of multiple regression to get you thinking before we jump into data analysis. The course readings should help you answer these.\n",
    "\n",
    "**Question 1.0**\n",
    "<br> {points: 1}\n",
    "\n",
    "In multivariate k-nn regression with one outcome/target variable and two predictor variables, the predictions take which shape?\n",
    "\n",
    "A. a flat plane\n",
    "\n",
    "B. a wiggly/flexible plane\n",
    "\n",
    "C. A straight line\n",
    "\n",
    "D. a wiggly/flexible line\n",
    "\n",
    "E. a 4D hyperplane\n",
    "\n",
    "F. a 4D wiggly/flexible hyperplane\n",
    "\n",
    "*Assign the letter of your answer to a variable named `answer1_0`. Make sure you put quotations around the letter and pay attention to case (e.g., `\"F\"`).*"
   ]
  },
  {
   "cell_type": "code",
   "execution_count": null,
   "metadata": {
    "deletable": false,
    "nbgrader": {
     "cell_type": "code",
     "checksum": "31f54f3723f9716ced2403ed82229c1d",
     "grade": false,
     "grade_id": "cell-c83bc93df7f00340",
     "locked": false,
     "schema_version": 3,
     "solution": true,
     "task": false
    }
   },
   "outputs": [],
   "source": [
    "# your code here\n",
    "raise NotImplementedError"
   ]
  },
  {
   "cell_type": "code",
   "execution_count": null,
   "metadata": {
    "deletable": false,
    "editable": false,
    "max_height": 100,
    "nbgrader": {
     "cell_type": "code",
     "checksum": "376f7b573f2ccb471aa61a3b2c209db3",
     "grade": true,
     "grade_id": "cell-69d13db813c674a2",
     "locked": true,
     "points": 1,
     "schema_version": 3,
     "solution": false,
     "task": false
    }
   },
   "outputs": [],
   "source": [
    "from hashlib import sha1\n",
    "assert sha1(str(type(answer1_0)).encode(\"utf-8\")+b\"ed66fe4f9cbafadc\").hexdigest() == \"32d18544ab4cbed0380a1b85d899bedee3c80fc6\", \"type of answer1_0 is not str. answer1_0 should be an str\"\n",
    "assert sha1(str(len(answer1_0)).encode(\"utf-8\")+b\"ed66fe4f9cbafadc\").hexdigest() == \"4d4805037c5ac3a32ead7ff73a3c0ee317677f0c\", \"length of answer1_0 is not correct\"\n",
    "assert sha1(str(answer1_0.lower()).encode(\"utf-8\")+b\"ed66fe4f9cbafadc\").hexdigest() == \"c39c429336077df9cdcdd498d5c3249f7a0a166f\", \"value of answer1_0 is not correct\"\n",
    "assert sha1(str(answer1_0).encode(\"utf-8\")+b\"ed66fe4f9cbafadc\").hexdigest() == \"2ef8c42a56a9720ec7b192eb972696b0d1d19a71\", \"correct string value of answer1_0 but incorrect case of letters\"\n",
    "\n",
    "print('Success!')"
   ]
  },
  {
   "cell_type": "markdown",
   "metadata": {
    "deletable": false,
    "editable": false,
    "nbgrader": {
     "cell_type": "markdown",
     "checksum": "71f384f207968e33c04ed5b6372b8727",
     "grade": false,
     "grade_id": "cell-17b50854bfe8bed1",
     "locked": true,
     "schema_version": 3,
     "solution": false,
     "task": false
    }
   },
   "source": [
    "**Question 1.1** \n",
    "<br> {points: 1}\n",
    "\n",
    "In simple linear regression with one outcome/target variable and one predictor variable, the predictions take which shape?\n",
    "\n",
    "A. a flat plane\n",
    "\n",
    "B. a wiggly/flexible plane\n",
    "\n",
    "C. A straight line\n",
    "\n",
    "D. a wiggly/flexible line\n",
    "\n",
    "E. a 4D hyperplane\n",
    "\n",
    "F. a 4D wiggly/flexible hyperplane\n",
    "\n",
    "*Assign the letter of your answer to a variable named `answer1_1`. Make sure you put quotations around the letter and pay attention to case (e.g., `\"F\"`).*"
   ]
  },
  {
   "cell_type": "code",
   "execution_count": null,
   "metadata": {
    "deletable": false,
    "nbgrader": {
     "cell_type": "code",
     "checksum": "94e95a2c91122277ed81b0478e0fecb5",
     "grade": false,
     "grade_id": "cell-4ba2e045fef50db4",
     "locked": false,
     "schema_version": 3,
     "solution": true,
     "task": false
    }
   },
   "outputs": [],
   "source": [
    "# your code here\n",
    "raise NotImplementedError"
   ]
  },
  {
   "cell_type": "code",
   "execution_count": null,
   "metadata": {
    "deletable": false,
    "editable": false,
    "max_height": 100,
    "nbgrader": {
     "cell_type": "code",
     "checksum": "0408d317920be60a62f4dec37fd26619",
     "grade": true,
     "grade_id": "cell-f7542e36e61cd131",
     "locked": true,
     "points": 1,
     "schema_version": 3,
     "solution": false,
     "task": false
    }
   },
   "outputs": [],
   "source": [
    "from hashlib import sha1\n",
    "assert sha1(str(type(answer1_1)).encode(\"utf-8\")+b\"b937ab7c1c093993\").hexdigest() == \"3cc571379a032ac3c9ab8f367879326fda98499c\", \"type of answer1_1 is not str. answer1_1 should be an str\"\n",
    "assert sha1(str(len(answer1_1)).encode(\"utf-8\")+b\"b937ab7c1c093993\").hexdigest() == \"bf0231c989fe202cecde1440db06d286a35362fb\", \"length of answer1_1 is not correct\"\n",
    "assert sha1(str(answer1_1.lower()).encode(\"utf-8\")+b\"b937ab7c1c093993\").hexdigest() == \"7e7a198bf1c4732902f6c9f4635a01aa6cfc955e\", \"value of answer1_1 is not correct\"\n",
    "assert sha1(str(answer1_1).encode(\"utf-8\")+b\"b937ab7c1c093993\").hexdigest() == \"f4a6c8c777fb98d88b4b429747d5fc2eebb6ab33\", \"correct string value of answer1_1 but incorrect case of letters\"\n",
    "\n",
    "print('Success!')"
   ]
  },
  {
   "cell_type": "markdown",
   "metadata": {
    "deletable": false,
    "editable": false,
    "nbgrader": {
     "cell_type": "markdown",
     "checksum": "713d3f6abefc6b9ad75506f5a3ab19e1",
     "grade": false,
     "grade_id": "cell-4c7cb5e7fd4eb668",
     "locked": true,
     "schema_version": 3,
     "solution": false,
     "task": false
    }
   },
   "source": [
    "**Question 1.2**\n",
    "<br> {points: 1}\n",
    "\n",
    "In multiple linear regression with one outcome/target variable and two predictor variables, the predictions take which shape?\n",
    "\n",
    "A. a flat plane\n",
    "\n",
    "B. a wiggly/flexible plane\n",
    "\n",
    "C. A straight line\n",
    "\n",
    "D. a wiggly/flexible line\n",
    "\n",
    "E. a 4D hyperplane\n",
    "\n",
    "F. a 4D wiggly/flexible hyperplane\n",
    "\n",
    "*Assign the letter of your answer to a variable named `answer1_2`. Make sure you put quotations around the letter and pay attention to case (e.g., `\"F\"`).*"
   ]
  },
  {
   "cell_type": "code",
   "execution_count": null,
   "metadata": {
    "deletable": false,
    "nbgrader": {
     "cell_type": "code",
     "checksum": "3d6d421290bc0d308a4f33cfd4c623d3",
     "grade": false,
     "grade_id": "cell-079e531ebcb88c60",
     "locked": false,
     "schema_version": 3,
     "solution": true,
     "task": false
    }
   },
   "outputs": [],
   "source": [
    "# your code here\n",
    "raise NotImplementedError"
   ]
  },
  {
   "cell_type": "code",
   "execution_count": null,
   "metadata": {
    "deletable": false,
    "editable": false,
    "max_height": 100,
    "nbgrader": {
     "cell_type": "code",
     "checksum": "263754f46a38a6d63afe2ac9bbdf4cc3",
     "grade": true,
     "grade_id": "cell-547b82e7a64b9aa1",
     "locked": true,
     "points": 1,
     "schema_version": 3,
     "solution": false,
     "task": false
    }
   },
   "outputs": [],
   "source": [
    "from hashlib import sha1\n",
    "assert sha1(str(type(answer1_2)).encode(\"utf-8\")+b\"21f2ac4ec43bb725\").hexdigest() == \"ac7b5a08f73f3bcf129ad78e6c1ba3b410c1bbd1\", \"type of answer1_2 is not str. answer1_2 should be an str\"\n",
    "assert sha1(str(len(answer1_2)).encode(\"utf-8\")+b\"21f2ac4ec43bb725\").hexdigest() == \"a7f7b50ee56f663f48ef78f602eb90b967f1ba68\", \"length of answer1_2 is not correct\"\n",
    "assert sha1(str(answer1_2.lower()).encode(\"utf-8\")+b\"21f2ac4ec43bb725\").hexdigest() == \"cf8d499ead13c5210edf7c663f53b396461eb3f5\", \"value of answer1_2 is not correct\"\n",
    "assert sha1(str(answer1_2).encode(\"utf-8\")+b\"21f2ac4ec43bb725\").hexdigest() == \"4b47715f0e518100f7404240eb466890f7a6faba\", \"correct string value of answer1_2 but incorrect case of letters\"\n",
    "\n",
    "print('Success!')"
   ]
  },
  {
   "cell_type": "markdown",
   "metadata": {
    "deletable": false,
    "editable": false,
    "nbgrader": {
     "cell_type": "markdown",
     "checksum": "90902cc596c86e241d127a643265bc37",
     "grade": false,
     "grade_id": "cell-6ae21507eed64700",
     "locked": true,
     "schema_version": 3,
     "solution": false,
     "task": false
    }
   },
   "source": [
    "### Understanding Simple Linear Regression\n",
    "\n",
    "Consider this small and simple dataset: "
   ]
  },
  {
   "cell_type": "code",
   "execution_count": null,
   "metadata": {
    "deletable": false,
    "editable": false,
    "nbgrader": {
     "cell_type": "code",
     "checksum": "8c6a287b9fb8dc5d245e10dc110a63d8",
     "grade": false,
     "grade_id": "cell-2850a0b99f14004c",
     "locked": true,
     "schema_version": 3,
     "solution": false,
     "task": false
    }
   },
   "outputs": [],
   "source": [
    "simple_data = pd.DataFrame(\n",
    "    [[1, 1], [2, 1], [3, 3], [6, 5], [7, 7], [7, 6]], columns=[\"X\", \"Y\"]\n",
    ")\n",
    "\n",
    "base = (\n",
    "    alt.Chart(simple_data)\n",
    "    .mark_point(size=20)\n",
    "    .encode(x=alt.X(\"X\", axis=alt.Axis(tickMinStep=1.0)), y=alt.Y(\"Y\"))\n",
    ").properties(width=400, height=400)\n",
    "base"
   ]
  },
  {
   "cell_type": "markdown",
   "metadata": {
    "deletable": false,
    "editable": false,
    "nbgrader": {
     "cell_type": "markdown",
     "checksum": "d61fea0714dff7819361e1783a0ae096",
     "grade": false,
     "grade_id": "cell-158e53f25ab76890",
     "locked": true,
     "schema_version": 3,
     "solution": false,
     "task": false
    }
   },
   "source": [
    "Now consider these three **potential** lines we could fit for the same dataset:"
   ]
  },
  {
   "cell_type": "code",
   "execution_count": null,
   "metadata": {
    "deletable": false,
    "editable": false,
    "nbgrader": {
     "cell_type": "code",
     "checksum": "4254bbcb2d09e117eed1254326fcece0",
     "grade": false,
     "grade_id": "cell-72d1bbcacfd85b37",
     "locked": true,
     "schema_version": 3,
     "solution": false,
     "task": false
    }
   },
   "outputs": [],
   "source": [
    "line_a = (\n",
    "    base\n",
    "    + alt.Chart(\n",
    "        pd.DataFrame([[0.93, 0.017562], [7, 5.9868]], columns=[\"X\", \"Y\"]),\n",
    "        title=\"Line A\",\n",
    "    )\n",
    "    .mark_line(color=\"blue\")\n",
    "    .encode(\n",
    "        x=alt.X(\"X\", axis=alt.Axis(tickMinStep=1.0, tickCount=9)),\n",
    "        y=alt.Y(\"Y\", axis=alt.Axis(tickMinStep=1.0, tickCount=9)),\n",
    "    )\n",
    ").properties(width=400, height=400) \n",
    "line_b = (\n",
    "    base\n",
    "    + alt.Chart(\n",
    "        pd.DataFrame([[0, 0.1022], [7, 6.965]], columns=[\"X\", \"Y\"]), title=\"Line B\"\n",
    "    )\n",
    "    .mark_line(color=\"purple\")\n",
    "    .encode(x=\"X\", y=\"Y\")\n",
    ").properties(width=400, height=400)\n",
    "line_c = (\n",
    "    base\n",
    "    + alt.Chart(\n",
    "        pd.DataFrame([[0.26, 0.003564], [8, 7.0965]], columns=[\"X\", \"Y\"]),\n",
    "        title=\"Line C\",\n",
    "    )\n",
    "    .mark_line(color=\"green\")\n",
    "    .encode(\n",
    "        x=alt.X(\"X\", axis=alt.Axis(tickMinStep=1.0, tickCount=9)),\n",
    "        y=alt.Y(\"Y\", axis=alt.Axis(tickMinStep=1.0, tickCount=9)),\n",
    "    )\n",
    ").properties(width=400, height=400)\n",
    "\n",
    "(line_a + line_b + line_c).configure_axis(labelFontSize=15, titleFontSize=15)"
   ]
  },
  {
   "cell_type": "markdown",
   "metadata": {
    "deletable": false,
    "editable": false,
    "nbgrader": {
     "cell_type": "markdown",
     "checksum": "9cfbcb4ea6c11383794d97a8ee32cabb",
     "grade": false,
     "grade_id": "cell-d7bb06c12cba1681",
     "locked": true,
     "schema_version": 3,
     "solution": false,
     "task": false
    }
   },
   "source": [
    "**Question 2.0**\n",
    "<br> {points: 1}\n",
    "\n",
    "Use the graph below titled \"Line A\" to roughly calculate the average squared vertical distance between the points and the blue line. **Read values of the graph to a precision of 0.25** (e.g. 1, 1.25, 1.5, 1.75, 2). We reprint the plot for you in a larger size to make it easier to estimate the locations on the graph.\n",
    "\n",
    "*Save your answer to a variable named `answer2_0`.*"
   ]
  },
  {
   "cell_type": "code",
   "execution_count": null,
   "metadata": {
    "deletable": false,
    "editable": false,
    "nbgrader": {
     "cell_type": "code",
     "checksum": "9a3e3a06531e1bc0c460b8f6146c8f52",
     "grade": false,
     "grade_id": "cell-4d84f8c3727420a2",
     "locked": true,
     "schema_version": 3,
     "solution": false,
     "task": false
    }
   },
   "outputs": [],
   "source": [
    "# run this code\n",
    "line_a.properties(width=400, height=400)"
   ]
  },
  {
   "cell_type": "code",
   "execution_count": null,
   "metadata": {
    "deletable": false,
    "nbgrader": {
     "cell_type": "code",
     "checksum": "9286a45c72d7b83b0d984ac83c3074f6",
     "grade": false,
     "grade_id": "cell-6cf53cb30ae3cd16",
     "locked": false,
     "schema_version": 3,
     "solution": true
    }
   },
   "outputs": [],
   "source": [
    "# your code here\n",
    "raise NotImplementedError\n",
    "answer2_0"
   ]
  },
  {
   "cell_type": "code",
   "execution_count": null,
   "metadata": {
    "deletable": false,
    "editable": false,
    "max_height": 100,
    "nbgrader": {
     "cell_type": "code",
     "checksum": "abc7cb2620edf9d8673b9624eaad35db",
     "grade": true,
     "grade_id": "cell-9d0a3c3a16e0f47b",
     "locked": true,
     "points": 1,
     "schema_version": 3,
     "solution": false
    }
   },
   "outputs": [],
   "source": [
    "from hashlib import sha1\n",
    "assert sha1(str(type(answer2_0)).encode(\"utf-8\")+b\"01331e11308b56e1\").hexdigest() == \"3383f5f673ca21358f4ebd93dc0ccb7f9f1dd94c\", \"type of answer2_0 is not float. Please make sure it is float and not np.float64, etc. You can cast your value into a float using float()\"\n",
    "assert sha1(str(round(answer2_0, 2)).encode(\"utf-8\")+b\"01331e11308b56e1\").hexdigest() == \"a449aeea35d6132c27461e6e75f00e25c4d34e8a\", \"value of answer2_0 is not correct (rounded to 2 decimal places)\"\n",
    "\n",
    "print('Success!')"
   ]
  },
  {
   "cell_type": "markdown",
   "metadata": {
    "deletable": false,
    "editable": false,
    "nbgrader": {
     "cell_type": "markdown",
     "checksum": "6e5bbe5ae1799f2d9cae5f1088963845",
     "grade": false,
     "grade_id": "cell-7ef45d3d7c403c81",
     "locked": true,
     "schema_version": 3,
     "solution": false,
     "task": false
    }
   },
   "source": [
    "**Question 2.1**\n",
    "<br> {points: 1}\n",
    "\n",
    "Use the graph titled \"Line B\" to roughly calculate the average squared vertical distance between the points and the purple line. **Read values of the graph to a precision of 0.25** (e.g. 1, 1.25, 1.5, 1.75, 2). We reprint the plot for you in a larger size to make it easier to estimate the locations on the graph.\n",
    "\n",
    "*Save your answer to a variable named `answer2_1`.*"
   ]
  },
  {
   "cell_type": "code",
   "execution_count": null,
   "metadata": {
    "deletable": false,
    "editable": false,
    "nbgrader": {
     "cell_type": "code",
     "checksum": "b4fc63bab89fbe33ce264bea5213a088",
     "grade": false,
     "grade_id": "cell-be8bd2be4d762d37",
     "locked": true,
     "schema_version": 3,
     "solution": false,
     "task": false
    }
   },
   "outputs": [],
   "source": [
    "line_b.properties(width=400, height=400)"
   ]
  },
  {
   "cell_type": "code",
   "execution_count": null,
   "metadata": {
    "deletable": false,
    "nbgrader": {
     "cell_type": "code",
     "checksum": "9180418753908bba09b04bc51eaa2048",
     "grade": false,
     "grade_id": "cell-be5564f4bd6cd576",
     "locked": false,
     "schema_version": 3,
     "solution": true
    }
   },
   "outputs": [],
   "source": [
    "# your code here\n",
    "raise NotImplementedError\n",
    "answer2_1"
   ]
  },
  {
   "cell_type": "code",
   "execution_count": null,
   "metadata": {
    "deletable": false,
    "editable": false,
    "max_height": 100,
    "nbgrader": {
     "cell_type": "code",
     "checksum": "cc83fcd493bdc8022868fce540672425",
     "grade": true,
     "grade_id": "cell-840f1140c7655088",
     "locked": true,
     "points": 1,
     "schema_version": 3,
     "solution": false
    }
   },
   "outputs": [],
   "source": [
    "from hashlib import sha1\n",
    "assert sha1(str(type(answer2_1)).encode(\"utf-8\")+b\"37e080bf1ec459b4\").hexdigest() == \"01f552322ee2b839dab58cc397c7c5814aa0cd3d\", \"type of answer2_1 is not float. Please make sure it is float and not np.float64, etc. You can cast your value into a float using float()\"\n",
    "assert sha1(str(round(answer2_1, 2)).encode(\"utf-8\")+b\"37e080bf1ec459b4\").hexdigest() == \"af31ba27999db305bf031aabef6f8daa6e7d9ef4\", \"value of answer2_1 is not correct (rounded to 2 decimal places)\"\n",
    "\n",
    "print('Success!')"
   ]
  },
  {
   "cell_type": "markdown",
   "metadata": {
    "deletable": false,
    "editable": false,
    "nbgrader": {
     "cell_type": "markdown",
     "checksum": "682faea7702291d0aa5e68082a9c80b3",
     "grade": false,
     "grade_id": "cell-69f334fbd3120d91",
     "locked": true,
     "schema_version": 3,
     "solution": false,
     "task": false
    }
   },
   "source": [
    "**Question 2.2** \n",
    "<br> {points: 1}\n",
    "\n",
    "Use the graph titled \"Line C\" to roughly calculate the average squared vertical distance between the points and the green line. **Read values of the graph to a precision of 0.25** (e.g. 1, 1.25, 1.5, 1.75, 2). We reprint the plot for you in a larger size to make it easier to estimate the locations on the graph.\n",
    "\n",
    "*Save your answer to a variable named `answer2_2`.*"
   ]
  },
  {
   "cell_type": "code",
   "execution_count": null,
   "metadata": {
    "deletable": false,
    "editable": false,
    "nbgrader": {
     "cell_type": "code",
     "checksum": "94882397b47c4d1c6fd8e42fedb1812a",
     "grade": false,
     "grade_id": "cell-0634261679ff7469",
     "locked": true,
     "schema_version": 3,
     "solution": false,
     "task": false
    }
   },
   "outputs": [],
   "source": [
    "line_c.properties(width=400, height=400)"
   ]
  },
  {
   "cell_type": "code",
   "execution_count": null,
   "metadata": {
    "deletable": false,
    "nbgrader": {
     "cell_type": "code",
     "checksum": "5d532b920a76b40a105845f45497621f",
     "grade": false,
     "grade_id": "cell-3aed32faefe82978",
     "locked": false,
     "schema_version": 3,
     "solution": true
    }
   },
   "outputs": [],
   "source": [
    "# your code here\n",
    "raise NotImplementedError\n",
    "answer2_2"
   ]
  },
  {
   "cell_type": "code",
   "execution_count": null,
   "metadata": {
    "deletable": false,
    "editable": false,
    "max_height": 100,
    "nbgrader": {
     "cell_type": "code",
     "checksum": "02bfa014212a2ed449e7e493d45cb859",
     "grade": true,
     "grade_id": "cell-3e544bd712b4d796",
     "locked": true,
     "points": 1,
     "schema_version": 3,
     "solution": false
    }
   },
   "outputs": [],
   "source": [
    "from hashlib import sha1\n",
    "assert sha1(str(type(answer2_2)).encode(\"utf-8\")+b\"d9d880d21fc0cf8b\").hexdigest() == \"36a249dc9afaf6cf6e5171b224bfb8516dec07d6\", \"type of answer2_2 is not float. Please make sure it is float and not np.float64, etc. You can cast your value into a float using float()\"\n",
    "assert sha1(str(round(answer2_2, 2)).encode(\"utf-8\")+b\"d9d880d21fc0cf8b\").hexdigest() == \"4a150b67de7c42943c1aab598fd5481fd79344d9\", \"value of answer2_2 is not correct (rounded to 2 decimal places)\"\n",
    "\n",
    "print('Success!')"
   ]
  },
  {
   "cell_type": "markdown",
   "metadata": {
    "deletable": false,
    "editable": false,
    "nbgrader": {
     "cell_type": "markdown",
     "checksum": "f05f1f8b0021b3f17914a5a6b8390f58",
     "grade": false,
     "grade_id": "cell-ca359fbdc2020d22",
     "locked": true,
     "schema_version": 3,
     "solution": false,
     "task": false
    }
   },
   "source": [
    "**Question 2.3**\n",
    "<br> {points: 1}\n",
    "\n",
    "Based on your calculations above, which line would linear regression by ordinary least squares choose given our small and simple dataset? Line A, B or C? \n",
    "\n",
    "*Assign the letter of your answer to a variable named `answer2_3`. Make sure you put quotations around the letter and pay attention to case.*"
   ]
  },
  {
   "cell_type": "code",
   "execution_count": null,
   "metadata": {
    "deletable": false,
    "nbgrader": {
     "cell_type": "code",
     "checksum": "8444419ad84a03a0b279db84705cceb2",
     "grade": false,
     "grade_id": "cell-c3bc0fc1f61fb31b",
     "locked": false,
     "schema_version": 3,
     "solution": true
    }
   },
   "outputs": [],
   "source": [
    "# your code here\n",
    "raise NotImplementedError"
   ]
  },
  {
   "cell_type": "code",
   "execution_count": null,
   "metadata": {
    "deletable": false,
    "editable": false,
    "max_height": 100,
    "nbgrader": {
     "cell_type": "code",
     "checksum": "489eed99856b03bf7c497d2c9832f2db",
     "grade": true,
     "grade_id": "cell-4ae1ac995c661109",
     "locked": true,
     "points": 1,
     "schema_version": 3,
     "solution": false
    }
   },
   "outputs": [],
   "source": [
    "from hashlib import sha1\n",
    "assert sha1(str(type(answer2_3)).encode(\"utf-8\")+b\"3312ffdfa2c7c369\").hexdigest() == \"5f84b7052eb6b5be7ec00965336603fccfad5a2c\", \"type of answer2_3 is not str. answer2_3 should be an str\"\n",
    "assert sha1(str(len(answer2_3)).encode(\"utf-8\")+b\"3312ffdfa2c7c369\").hexdigest() == \"18d0e5830f1d3fbeb8f1a491ded0776a6bf3cc37\", \"length of answer2_3 is not correct\"\n",
    "assert sha1(str(answer2_3.lower()).encode(\"utf-8\")+b\"3312ffdfa2c7c369\").hexdigest() == \"83c29b0c3725cb82780ac320d74a58d85525ba88\", \"value of answer2_3 is not correct\"\n",
    "assert sha1(str(answer2_3).encode(\"utf-8\")+b\"3312ffdfa2c7c369\").hexdigest() == \"5e7086eecb3a78e30dffff569471d3cc8139d3f5\", \"correct string value of answer2_3 but incorrect case of letters\"\n",
    "\n",
    "print('Success!')"
   ]
  },
  {
   "cell_type": "markdown",
   "metadata": {
    "deletable": false,
    "editable": false,
    "nbgrader": {
     "cell_type": "markdown",
     "checksum": "49453d76b4c2fd8fe5322b4875396ce0",
     "grade": false,
     "grade_id": "cell-c450e26cb57e9dc9",
     "locked": true,
     "schema_version": 3,
     "solution": false,
     "task": false
    }
   },
   "source": [
    "## Marathon Training Revisited with Linear Regression!\n",
    "\n",
    "<img src='https://media.giphy.com/media/BDagLpxFIm3SM/giphy.gif' width='400'>\n",
    "\n",
    "Source: https://media.giphy.com/media/BDagLpxFIm3SM/giphy.gif\n",
    "\n",
    "Remember our question from last week: what features predict whether athletes will perform better than others? Specifically, we are interested in marathon runners, and looking at how the maximum distance ran per week during training predicts the time it takes a runner to end the race? \n",
    "\n",
    "This time around, however, we will analyze the data using simple linear regression rather than $k$-nn regression. In the end, we will compare our results to what we found last week with $k$-nn regression."
   ]
  },
  {
   "cell_type": "markdown",
   "metadata": {
    "deletable": false,
    "editable": false,
    "nbgrader": {
     "cell_type": "markdown",
     "checksum": "4a699b0a5deecb53931f26e1b67771c5",
     "grade": false,
     "grade_id": "cell-8655bd26820bea69",
     "locked": true,
     "schema_version": 3,
     "solution": false,
     "task": false
    }
   },
   "source": [
    "**Question 3.0**\n",
    "<br> {points: 1}\n",
    "\n",
    "Load the `marathon` data from the `data/` folder and assign it to an object called `marathon`. "
   ]
  },
  {
   "cell_type": "code",
   "execution_count": null,
   "metadata": {
    "deletable": false,
    "nbgrader": {
     "cell_type": "code",
     "checksum": "040485210178cb10c1f52080c6d2eeb6",
     "grade": false,
     "grade_id": "cell-7429888f4a5a274a",
     "locked": false,
     "schema_version": 3,
     "solution": true
    }
   },
   "outputs": [],
   "source": [
    "# your code here\n",
    "raise NotImplementedError\n",
    "marathon"
   ]
  },
  {
   "cell_type": "code",
   "execution_count": null,
   "metadata": {
    "deletable": false,
    "editable": false,
    "max_height": 100,
    "nbgrader": {
     "cell_type": "code",
     "checksum": "280c3076681acbadd47b32312f0baf6a",
     "grade": true,
     "grade_id": "cell-36eda8d5f9545c0e",
     "locked": true,
     "points": 1,
     "schema_version": 3,
     "solution": false
    }
   },
   "outputs": [],
   "source": [
    "from hashlib import sha1\n",
    "assert sha1(str(type(marathon is None)).encode(\"utf-8\")+b\"b11056da13c48757\").hexdigest() == \"d780b99972d0b727e500092818b639a69a194d94\", \"type of marathon is None is not bool. marathon is None should be a bool\"\n",
    "assert sha1(str(marathon is None).encode(\"utf-8\")+b\"b11056da13c48757\").hexdigest() == \"7800cb5b3655fdd67342ffa181fc0c70128140b6\", \"boolean value of marathon is None is not correct\"\n",
    "\n",
    "assert sha1(str(type(marathon)).encode(\"utf-8\")+b\"a0be8687413109eb\").hexdigest() == \"de8d45479491de731ee3a01ad9bc990fb65cbfd9\", \"type of type(marathon) is not correct\"\n",
    "\n",
    "assert sha1(str(type(marathon.shape)).encode(\"utf-8\")+b\"246964e805d87409\").hexdigest() == \"dc4021c41e7316d04459061bc089da094b1de38f\", \"type of marathon.shape is not tuple. marathon.shape should be a tuple\"\n",
    "assert sha1(str(len(marathon.shape)).encode(\"utf-8\")+b\"246964e805d87409\").hexdigest() == \"a7fbdbb4223d506c16c5fe08902f86d11b121acd\", \"length of marathon.shape is not correct\"\n",
    "assert sha1(str(sorted(map(str, marathon.shape))).encode(\"utf-8\")+b\"246964e805d87409\").hexdigest() == \"b58a24df5db28b268e1795ed62d2466b0e61073b\", \"values of marathon.shape are not correct\"\n",
    "assert sha1(str(marathon.shape).encode(\"utf-8\")+b\"246964e805d87409\").hexdigest() == \"eb5ed8f34ce4a77563492df347540a5ad28edbed\", \"order of elements of marathon.shape is not correct\"\n",
    "\n",
    "assert sha1(str(type(\"time_hrs\" in marathon.columns)).encode(\"utf-8\")+b\"6affb14481760fd8\").hexdigest() == \"461d1bb4950718e234ea04c40c3dfdab0aff7cea\", \"type of \\\"time_hrs\\\" in marathon.columns is not bool. \\\"time_hrs\\\" in marathon.columns should be a bool\"\n",
    "assert sha1(str(\"time_hrs\" in marathon.columns).encode(\"utf-8\")+b\"6affb14481760fd8\").hexdigest() == \"875986c5e82e81bb0fee5817129bcda93bf26123\", \"boolean value of \\\"time_hrs\\\" in marathon.columns is not correct\"\n",
    "\n",
    "assert sha1(str(type(\"max\" in marathon.columns)).encode(\"utf-8\")+b\"2ce4f8b571301743\").hexdigest() == \"b6670fc70e917fd144840b99165c81ae88ad67c6\", \"type of \\\"max\\\" in marathon.columns is not bool. \\\"max\\\" in marathon.columns should be a bool\"\n",
    "assert sha1(str(\"max\" in marathon.columns).encode(\"utf-8\")+b\"2ce4f8b571301743\").hexdigest() == \"ab210b20889947d764b85888d464322fea4c888d\", \"boolean value of \\\"max\\\" in marathon.columns is not correct\"\n",
    "\n",
    "assert sha1(str(type(round(sum(marathon['max']), 0))).encode(\"utf-8\")+b\"651f9111a67ba1ca\").hexdigest() == \"e5cb00423c4b5cc529303b13c6101bce2aa80618\", \"type of round(sum(marathon['max']), 0) is not float. Please make sure it is float and not np.float64, etc. You can cast your value into a float using float()\"\n",
    "assert sha1(str(round(round(sum(marathon['max']), 0), 2)).encode(\"utf-8\")+b\"651f9111a67ba1ca\").hexdigest() == \"abe7787c7f14058e53d9fafc24a2aeb3afe49789\", \"value of round(sum(marathon['max']), 0) is not correct (rounded to 2 decimal places)\"\n",
    "\n",
    "assert sha1(str(type(round(sum(marathon['time_hrs']), 0))).encode(\"utf-8\")+b\"befeec01e189971c\").hexdigest() == \"96dfdf1580c845c806633a126b040be233a3b2b1\", \"type of round(sum(marathon['time_hrs']), 0) is not float. Please make sure it is float and not np.float64, etc. You can cast your value into a float using float()\"\n",
    "assert sha1(str(round(round(sum(marathon['time_hrs']), 0), 2)).encode(\"utf-8\")+b\"befeec01e189971c\").hexdigest() == \"d02d0974596f5ce2cea4f7ef442415b354ece2ef\", \"value of round(sum(marathon['time_hrs']), 0) is not correct (rounded to 2 decimal places)\"\n",
    "\n",
    "print('Success!')"
   ]
  },
  {
   "cell_type": "markdown",
   "metadata": {
    "deletable": false,
    "editable": false,
    "nbgrader": {
     "cell_type": "markdown",
     "checksum": "4b0a950d02e5f2ee19a0652818cbb293",
     "grade": false,
     "grade_id": "cell-439c2ccda058add2",
     "locked": true,
     "schema_version": 3,
     "solution": false,
     "task": false
    }
   },
   "source": [
    "**Question 3.1**\n",
    "<br> {points: 1}\n",
    "\n",
    "Similar to what we have done for the last few weeks, we will first split the dataset into the training and testing datasets, using 75% of the original data as the training data. Remember, we will be putting the test dataset away in a 'lock box' that we will comeback to later after we choose our final model. Assign your training dataset to an object named `marathon_training` and your testing dataset to an object named `marathon_testing`.\n",
    "\n",
    "Next, set the `time_hrs` as the target (y) and `max` as the feature (X). Store the features as `X_train` and `X_test` and targets as `y_train` and `y_test` respectively for the `marathon_training` and `marathon_testing`.\n",
    "\n",
    "*Assign the objects to `marathon_training`, `marathon_testing`, `X_train`, `y_train`, `X_test` and `y_test` respectively.*"
   ]
  },
  {
   "cell_type": "code",
   "execution_count": null,
   "metadata": {
    "deletable": false,
    "nbgrader": {
     "cell_type": "code",
     "checksum": "1217c58253cd5243dedebfba67511de3",
     "grade": false,
     "grade_id": "cell-4862845e3f18eced",
     "locked": false,
     "schema_version": 3,
     "solution": true
    }
   },
   "outputs": [],
   "source": [
    "# ___, ___ = ___(\n",
    "#     ___, test_size=___, random_state=2000 # do not change the random_state\n",
    "# )\n",
    "\n",
    "# X_train = ...\n",
    "# y_train = ...\n",
    "# X_test = ...\n",
    "# y_test = ...\n",
    "\n",
    "# your code here\n",
    "raise NotImplementedError"
   ]
  },
  {
   "cell_type": "code",
   "execution_count": null,
   "metadata": {
    "deletable": false,
    "editable": false,
    "max_height": 100,
    "nbgrader": {
     "cell_type": "code",
     "checksum": "88a827f2593b02e19b57c042b550f06d",
     "grade": true,
     "grade_id": "cell-b1eb46161667bcec",
     "locked": true,
     "points": 1,
     "schema_version": 3,
     "solution": false
    }
   },
   "outputs": [],
   "source": [
    "from hashlib import sha1\n",
    "assert sha1(str(type(marathon_training is None)).encode(\"utf-8\")+b\"f78dd634bca7f478\").hexdigest() == \"772e397a1a8be522c28c9d0a782ff08fec540da8\", \"type of marathon_training is None is not bool. marathon_training is None should be a bool\"\n",
    "assert sha1(str(marathon_training is None).encode(\"utf-8\")+b\"f78dd634bca7f478\").hexdigest() == \"4dcb3be5789d2c639c10aeb41204144b51fa0b94\", \"boolean value of marathon_training is None is not correct\"\n",
    "\n",
    "assert sha1(str(type(marathon_training.shape)).encode(\"utf-8\")+b\"828d26167248f09d\").hexdigest() == \"882fa8470a80b8907bfd878d4815fb237612b451\", \"type of marathon_training.shape is not tuple. marathon_training.shape should be a tuple\"\n",
    "assert sha1(str(len(marathon_training.shape)).encode(\"utf-8\")+b\"828d26167248f09d\").hexdigest() == \"77b98364113e8ba90c871a820c5784b16740b385\", \"length of marathon_training.shape is not correct\"\n",
    "assert sha1(str(sorted(map(str, marathon_training.shape))).encode(\"utf-8\")+b\"828d26167248f09d\").hexdigest() == \"753a04914b854a4a9f6e507cba77e96d50d16273\", \"values of marathon_training.shape are not correct\"\n",
    "assert sha1(str(marathon_training.shape).encode(\"utf-8\")+b\"828d26167248f09d\").hexdigest() == \"b33fad3c95194cf8c8735262450c40da20dbb403\", \"order of elements of marathon_training.shape is not correct\"\n",
    "\n",
    "assert sha1(str(type(sum(marathon_training.age))).encode(\"utf-8\")+b\"38d7b3f6ab4f7f44\").hexdigest() == \"498d6961567a224131031f9c255ed8f7564ae9c4\", \"type of sum(marathon_training.age) is not int. Please make sure it is int and not np.int64, etc. You can cast your value into an int using int()\"\n",
    "assert sha1(str(sum(marathon_training.age)).encode(\"utf-8\")+b\"38d7b3f6ab4f7f44\").hexdigest() == \"215c60272f194fe8fd1ce38891d1178bdbe34d70\", \"value of sum(marathon_training.age) is not correct\"\n",
    "\n",
    "assert sha1(str(type(marathon_testing is None)).encode(\"utf-8\")+b\"ae6030aca1babed2\").hexdigest() == \"6a77c5db096830f5ed27ba87d2e970a7df880c82\", \"type of marathon_testing is None is not bool. marathon_testing is None should be a bool\"\n",
    "assert sha1(str(marathon_testing is None).encode(\"utf-8\")+b\"ae6030aca1babed2\").hexdigest() == \"5674b2fddf2e940645f69cf034ec6394dedb5afd\", \"boolean value of marathon_testing is None is not correct\"\n",
    "\n",
    "assert sha1(str(type(marathon_testing.shape)).encode(\"utf-8\")+b\"8685599191a23629\").hexdigest() == \"3bd807f3a85f5e0038f6bad7ca957ae24d28fdf2\", \"type of marathon_testing.shape is not tuple. marathon_testing.shape should be a tuple\"\n",
    "assert sha1(str(len(marathon_testing.shape)).encode(\"utf-8\")+b\"8685599191a23629\").hexdigest() == \"de131f8120f1fe898b5e8b0a3fa5782deb684706\", \"length of marathon_testing.shape is not correct\"\n",
    "assert sha1(str(sorted(map(str, marathon_testing.shape))).encode(\"utf-8\")+b\"8685599191a23629\").hexdigest() == \"82462c9854f1e191720bf302a4722a31ba170352\", \"values of marathon_testing.shape are not correct\"\n",
    "assert sha1(str(marathon_testing.shape).encode(\"utf-8\")+b\"8685599191a23629\").hexdigest() == \"3a5f5241012d284263c538e9cea5236648702c12\", \"order of elements of marathon_testing.shape is not correct\"\n",
    "\n",
    "assert sha1(str(type(sum(marathon_testing.age))).encode(\"utf-8\")+b\"d1ed29b3876aa68d\").hexdigest() == \"b787462c3e7d186a2c04d1b033db3d8bffba302c\", \"type of sum(marathon_testing.age) is not int. Please make sure it is int and not np.int64, etc. You can cast your value into an int using int()\"\n",
    "assert sha1(str(sum(marathon_testing.age)).encode(\"utf-8\")+b\"d1ed29b3876aa68d\").hexdigest() == \"cc4a969c88f110a66abfc0c9e1d54494573037fc\", \"value of sum(marathon_testing.age) is not correct\"\n",
    "\n",
    "assert sha1(str(type(X_train.columns.values)).encode(\"utf-8\")+b\"10ed4e8a3dd4920e\").hexdigest() == \"0fce4209c71d59b6a0e7b91f688861497c434be5\", \"type of X_train.columns.values is not correct\"\n",
    "assert sha1(str(X_train.columns.values).encode(\"utf-8\")+b\"10ed4e8a3dd4920e\").hexdigest() == \"d3a4f2d5cdf8c0374c01c59ca3461ac9003129bc\", \"value of X_train.columns.values is not correct\"\n",
    "\n",
    "assert sha1(str(type(X_train.shape)).encode(\"utf-8\")+b\"2f52667b8be3c114\").hexdigest() == \"ba0fb12bc92bd1b4831bdebc6b1315b37822d454\", \"type of X_train.shape is not tuple. X_train.shape should be a tuple\"\n",
    "assert sha1(str(len(X_train.shape)).encode(\"utf-8\")+b\"2f52667b8be3c114\").hexdigest() == \"bfba056b44d413b328f88fd3a7a3fda994d4b01f\", \"length of X_train.shape is not correct\"\n",
    "assert sha1(str(sorted(map(str, X_train.shape))).encode(\"utf-8\")+b\"2f52667b8be3c114\").hexdigest() == \"e15398c97fd2a7e85968ffaafdcf531c442106dd\", \"values of X_train.shape are not correct\"\n",
    "assert sha1(str(X_train.shape).encode(\"utf-8\")+b\"2f52667b8be3c114\").hexdigest() == \"dc674285fc735efb9f10db5ee0c9ce96e7a329d9\", \"order of elements of X_train.shape is not correct\"\n",
    "\n",
    "assert sha1(str(type(y_train.name)).encode(\"utf-8\")+b\"53d44b8af94f2aaf\").hexdigest() == \"1abf9498df738d536d02837836ffb305aa3210ae\", \"type of y_train.name is not str. y_train.name should be an str\"\n",
    "assert sha1(str(len(y_train.name)).encode(\"utf-8\")+b\"53d44b8af94f2aaf\").hexdigest() == \"84dcf7cee6f857feb37ca7c476405b665fd96f4d\", \"length of y_train.name is not correct\"\n",
    "assert sha1(str(y_train.name.lower()).encode(\"utf-8\")+b\"53d44b8af94f2aaf\").hexdigest() == \"91ecb66627da96adc314f9e953d11f214fd60212\", \"value of y_train.name is not correct\"\n",
    "assert sha1(str(y_train.name).encode(\"utf-8\")+b\"53d44b8af94f2aaf\").hexdigest() == \"91ecb66627da96adc314f9e953d11f214fd60212\", \"correct string value of y_train.name but incorrect case of letters\"\n",
    "\n",
    "assert sha1(str(type(y_train.shape)).encode(\"utf-8\")+b\"f9fc59098677b333\").hexdigest() == \"7fa14d97f1686852e11d998f37dcade2062d57b4\", \"type of y_train.shape is not tuple. y_train.shape should be a tuple\"\n",
    "assert sha1(str(len(y_train.shape)).encode(\"utf-8\")+b\"f9fc59098677b333\").hexdigest() == \"eab07af34b23dc86f42e76032e63fc42c1abb824\", \"length of y_train.shape is not correct\"\n",
    "assert sha1(str(sorted(map(str, y_train.shape))).encode(\"utf-8\")+b\"f9fc59098677b333\").hexdigest() == \"56578297bb55722662962207b8a6d9f2640583da\", \"values of y_train.shape are not correct\"\n",
    "assert sha1(str(y_train.shape).encode(\"utf-8\")+b\"f9fc59098677b333\").hexdigest() == \"7a63cd3711f86f80967877c4136c0d09c6408096\", \"order of elements of y_train.shape is not correct\"\n",
    "\n",
    "assert sha1(str(type(X_test.columns.values)).encode(\"utf-8\")+b\"193e33e6ab0c8f7a\").hexdigest() == \"b652dfd2ff258ee222922af80e2878836ba7cc64\", \"type of X_test.columns.values is not correct\"\n",
    "assert sha1(str(X_test.columns.values).encode(\"utf-8\")+b\"193e33e6ab0c8f7a\").hexdigest() == \"1b39bc4661ef1139c9a38678e0c1dedaaf1aed63\", \"value of X_test.columns.values is not correct\"\n",
    "\n",
    "assert sha1(str(type(X_test.shape)).encode(\"utf-8\")+b\"dafca432b87616d4\").hexdigest() == \"8012ef6b0d458f0e1f6abe61f964c2c3d9ca06f0\", \"type of X_test.shape is not tuple. X_test.shape should be a tuple\"\n",
    "assert sha1(str(len(X_test.shape)).encode(\"utf-8\")+b\"dafca432b87616d4\").hexdigest() == \"5e1ea34bb213a8b2ea6f010d65dfdd28d37b4ab2\", \"length of X_test.shape is not correct\"\n",
    "assert sha1(str(sorted(map(str, X_test.shape))).encode(\"utf-8\")+b\"dafca432b87616d4\").hexdigest() == \"76189f5fee7785caaa17d526a4f8b1eb1078015b\", \"values of X_test.shape are not correct\"\n",
    "assert sha1(str(X_test.shape).encode(\"utf-8\")+b\"dafca432b87616d4\").hexdigest() == \"672be06b0739736bdd7fae97e0e07720c9486ffb\", \"order of elements of X_test.shape is not correct\"\n",
    "\n",
    "assert sha1(str(type(y_test.name)).encode(\"utf-8\")+b\"9942863c5da20230\").hexdigest() == \"4cafa97af8bd1e3e98482634ed068a9908fd82a1\", \"type of y_test.name is not str. y_test.name should be an str\"\n",
    "assert sha1(str(len(y_test.name)).encode(\"utf-8\")+b\"9942863c5da20230\").hexdigest() == \"77bfb1a26c8c8785f76d669e3df350cfa1487a25\", \"length of y_test.name is not correct\"\n",
    "assert sha1(str(y_test.name.lower()).encode(\"utf-8\")+b\"9942863c5da20230\").hexdigest() == \"2b6cded82b6f937a33433247568cf407de55eaca\", \"value of y_test.name is not correct\"\n",
    "assert sha1(str(y_test.name).encode(\"utf-8\")+b\"9942863c5da20230\").hexdigest() == \"2b6cded82b6f937a33433247568cf407de55eaca\", \"correct string value of y_test.name but incorrect case of letters\"\n",
    "\n",
    "assert sha1(str(type(y_test.shape)).encode(\"utf-8\")+b\"3e44560e8f1d88cc\").hexdigest() == \"1650392ebf1b5b99a1630cc5104fcbb89e01c5d6\", \"type of y_test.shape is not tuple. y_test.shape should be a tuple\"\n",
    "assert sha1(str(len(y_test.shape)).encode(\"utf-8\")+b\"3e44560e8f1d88cc\").hexdigest() == \"6468db498bbe8f57b426c4e858d34c85a62c7d23\", \"length of y_test.shape is not correct\"\n",
    "assert sha1(str(sorted(map(str, y_test.shape))).encode(\"utf-8\")+b\"3e44560e8f1d88cc\").hexdigest() == \"1f57efbcaede7c60c8cf0713c28364edb29c6f59\", \"values of y_test.shape are not correct\"\n",
    "assert sha1(str(y_test.shape).encode(\"utf-8\")+b\"3e44560e8f1d88cc\").hexdigest() == \"bdfdf566dd21b9fa4de2eff1a9704e8dbb7ff447\", \"order of elements of y_test.shape is not correct\"\n",
    "\n",
    "print('Success!')"
   ]
  },
  {
   "cell_type": "markdown",
   "metadata": {
    "deletable": false,
    "editable": false,
    "nbgrader": {
     "cell_type": "markdown",
     "checksum": "e335053881d81bf8c465ad07f0893616",
     "grade": false,
     "grade_id": "cell-0ebfe08674f42eae",
     "locked": true,
     "schema_version": 3,
     "solution": false,
     "task": false
    }
   },
   "source": [
    "**Question 3.2**\n",
    "<br> {points: 1}\n",
    "\n",
    "Using only the observations in the training dataset, create a scatterplot to assess the relationship between race time (`time_hrs`) and maximum distance ran per week during training (`max`). Put `time_hrs` on the y-axis and `max` on the x-axis. Remember to do whatever is necessary to make this an effective visualization.\n",
    "\n",
    "*Assign this plot to an object called `marathon_eda`.*"
   ]
  },
  {
   "cell_type": "code",
   "execution_count": null,
   "metadata": {
    "deletable": false,
    "nbgrader": {
     "cell_type": "code",
     "checksum": "274c159b94d55b6b4b2eaa97d0ad6fc9",
     "grade": false,
     "grade_id": "cell-4a1c52e071e0b23e",
     "locked": false,
     "schema_version": 3,
     "solution": true
    }
   },
   "outputs": [],
   "source": [
    "# your code here\n",
    "raise NotImplementedError\n",
    "marathon_eda"
   ]
  },
  {
   "cell_type": "code",
   "execution_count": null,
   "metadata": {
    "deletable": false,
    "editable": false,
    "max_height": 100,
    "nbgrader": {
     "cell_type": "code",
     "checksum": "31c8917a2f3a89ac20d834fe96311189",
     "grade": true,
     "grade_id": "cell-883edd273699e4b7",
     "locked": true,
     "points": 1,
     "schema_version": 3,
     "solution": false
    }
   },
   "outputs": [],
   "source": [
    "from hashlib import sha1\n",
    "assert sha1(str(type(marathon_eda is None)).encode(\"utf-8\")+b\"fda790f75dbc551f\").hexdigest() == \"c36bded167ff91f5c1920f8aa0353d61e8e891bf\", \"type of marathon_eda is None is not bool. marathon_eda is None should be a bool\"\n",
    "assert sha1(str(marathon_eda is None).encode(\"utf-8\")+b\"fda790f75dbc551f\").hexdigest() == \"e022246638afe57965f792b92bc5a342d2c0b9a4\", \"boolean value of marathon_eda is None is not correct\"\n",
    "\n",
    "assert sha1(str(type(marathon_eda.encoding.x.field)).encode(\"utf-8\")+b\"988cf669422d1265\").hexdigest() == \"071ccc3f636c4186b4821646d26b034677b5cb32\", \"type of marathon_eda.encoding.x.field is not str. marathon_eda.encoding.x.field should be an str\"\n",
    "assert sha1(str(len(marathon_eda.encoding.x.field)).encode(\"utf-8\")+b\"988cf669422d1265\").hexdigest() == \"b525d5102bfeb9b7dd688aa3a5ac2a29bc296407\", \"length of marathon_eda.encoding.x.field is not correct\"\n",
    "assert sha1(str(marathon_eda.encoding.x.field.lower()).encode(\"utf-8\")+b\"988cf669422d1265\").hexdigest() == \"dd99186d9c12df6e09927192478fefd24578f3fa\", \"value of marathon_eda.encoding.x.field is not correct\"\n",
    "assert sha1(str(marathon_eda.encoding.x.field).encode(\"utf-8\")+b\"988cf669422d1265\").hexdigest() == \"dd99186d9c12df6e09927192478fefd24578f3fa\", \"correct string value of marathon_eda.encoding.x.field but incorrect case of letters\"\n",
    "\n",
    "assert sha1(str(type(marathon_eda.encoding.y.field)).encode(\"utf-8\")+b\"c228cb515fa92d74\").hexdigest() == \"46669106001478edaacb7ffdd30f1bb78202853e\", \"type of marathon_eda.encoding.y.field is not str. marathon_eda.encoding.y.field should be an str\"\n",
    "assert sha1(str(len(marathon_eda.encoding.y.field)).encode(\"utf-8\")+b\"c228cb515fa92d74\").hexdigest() == \"c9379b4a588aee8fcb5e615fecbfe51cdd3a56f3\", \"length of marathon_eda.encoding.y.field is not correct\"\n",
    "assert sha1(str(marathon_eda.encoding.y.field.lower()).encode(\"utf-8\")+b\"c228cb515fa92d74\").hexdigest() == \"eec5c88ab0db5e2f958b9961294e387469c2290c\", \"value of marathon_eda.encoding.y.field is not correct\"\n",
    "assert sha1(str(marathon_eda.encoding.y.field).encode(\"utf-8\")+b\"c228cb515fa92d74\").hexdigest() == \"eec5c88ab0db5e2f958b9961294e387469c2290c\", \"correct string value of marathon_eda.encoding.y.field but incorrect case of letters\"\n",
    "\n",
    "assert sha1(str(type(marathon_eda.mark.type)).encode(\"utf-8\")+b\"c06b4db8e86a8c33\").hexdigest() == \"60f9b4c0b08aaa54c7a40c3b500dbef603a402b7\", \"type of marathon_eda.mark.type is not str. marathon_eda.mark.type should be an str\"\n",
    "assert sha1(str(len(marathon_eda.mark.type)).encode(\"utf-8\")+b\"c06b4db8e86a8c33\").hexdigest() == \"64617b7635cc0b0d75699a54ec212c6dd2a8ace4\", \"length of marathon_eda.mark.type is not correct\"\n",
    "assert sha1(str(marathon_eda.mark.type.lower()).encode(\"utf-8\")+b\"c06b4db8e86a8c33\").hexdigest() == \"7581a30e17df1066c641e099cf9d231d624aef75\", \"value of marathon_eda.mark.type is not correct\"\n",
    "assert sha1(str(marathon_eda.mark.type).encode(\"utf-8\")+b\"c06b4db8e86a8c33\").hexdigest() == \"7581a30e17df1066c641e099cf9d231d624aef75\", \"correct string value of marathon_eda.mark.type but incorrect case of letters\"\n",
    "\n",
    "assert sha1(str(type(marathon_eda.data.shape[0])).encode(\"utf-8\")+b\"016ff6e1e0950922\").hexdigest() == \"60b0e781582f843fae6f8f599d51c5e25f9a298e\", \"type of marathon_eda.data.shape[0] is not int. Please make sure it is int and not np.int64, etc. You can cast your value into an int using int()\"\n",
    "assert sha1(str(marathon_eda.data.shape[0]).encode(\"utf-8\")+b\"016ff6e1e0950922\").hexdigest() == \"7d43f7bbe6c1c6be94fdfdab73a1916c28092e93\", \"value of marathon_eda.data.shape[0] is not correct\"\n",
    "\n",
    "assert sha1(str(type(marathon_eda.encoding.x.field != marathon_eda.encoding.x.title)).encode(\"utf-8\")+b\"8b2dd32a98150a9e\").hexdigest() == \"d0ca9dc236e0b0a9a85f0f0e2702b6995d1c2024\", \"type of marathon_eda.encoding.x.field != marathon_eda.encoding.x.title is not bool. marathon_eda.encoding.x.field != marathon_eda.encoding.x.title should be a bool\"\n",
    "assert sha1(str(marathon_eda.encoding.x.field != marathon_eda.encoding.x.title).encode(\"utf-8\")+b\"8b2dd32a98150a9e\").hexdigest() == \"e3275c3ec6d3cd7e62e2ad2e7db50ab6c99e8216\", \"boolean value of marathon_eda.encoding.x.field != marathon_eda.encoding.x.title is not correct\"\n",
    "\n",
    "assert sha1(str(type(marathon_eda.encoding.y.field != marathon_eda.encoding.y.title)).encode(\"utf-8\")+b\"493a362a07f57b56\").hexdigest() == \"e3e380c67df2b9bf26057b008157e64c1d3713d5\", \"type of marathon_eda.encoding.y.field != marathon_eda.encoding.y.title is not bool. marathon_eda.encoding.y.field != marathon_eda.encoding.y.title should be a bool\"\n",
    "assert sha1(str(marathon_eda.encoding.y.field != marathon_eda.encoding.y.title).encode(\"utf-8\")+b\"493a362a07f57b56\").hexdigest() == \"9540013eae950e5e3313371f5618d5c15079f26f\", \"boolean value of marathon_eda.encoding.y.field != marathon_eda.encoding.y.title is not correct\"\n",
    "\n",
    "print('Success!')"
   ]
  },
  {
   "cell_type": "markdown",
   "metadata": {
    "deletable": false,
    "editable": false,
    "nbgrader": {
     "cell_type": "markdown",
     "checksum": "35b720e40d07a3a9496331540d0dd866",
     "grade": false,
     "grade_id": "cell-c66b91eb433ebef7",
     "locked": true,
     "schema_version": 3,
     "solution": false,
     "task": false
    }
   },
   "source": [
    "**Question 3.3**\n",
    "<br> {points: 1}\n",
    "\n",
    "Now that we have our training data, the next step is to build a linear regression model. \n",
    "\n",
    "Instead of using the `KNeighborsRegressor` function, we will be using the `LinearRegression` function to let `scikit-learn` know we want to perform a linear regression.\n",
    "\n",
    "*Assign your answer to an object named `lm`.*"
   ]
  },
  {
   "cell_type": "code",
   "execution_count": null,
   "metadata": {
    "deletable": false,
    "nbgrader": {
     "cell_type": "code",
     "checksum": "4f0a69bf5b2afe873aeea8db0050b891",
     "grade": false,
     "grade_id": "cell-9736241c0c2966b9",
     "locked": false,
     "schema_version": 3,
     "solution": true
    }
   },
   "outputs": [],
   "source": [
    "# lm = _____()\n",
    "\n",
    "# your code here\n",
    "raise NotImplementedError\n",
    "lm"
   ]
  },
  {
   "cell_type": "code",
   "execution_count": null,
   "metadata": {
    "deletable": false,
    "editable": false,
    "max_height": 100,
    "nbgrader": {
     "cell_type": "code",
     "checksum": "581a43afee1baa90a1026d1dc415e049",
     "grade": true,
     "grade_id": "cell-a647adab28a3dfb2",
     "locked": true,
     "points": 1,
     "schema_version": 3,
     "solution": false
    }
   },
   "outputs": [],
   "source": [
    "from hashlib import sha1\n",
    "assert sha1(str(type(lm is None)).encode(\"utf-8\")+b\"2702d345da32aa9d\").hexdigest() == \"c187704fd150f82ce54a34ba28c28063f8a2f2cc\", \"type of lm is None is not bool. lm is None should be a bool\"\n",
    "assert sha1(str(lm is None).encode(\"utf-8\")+b\"2702d345da32aa9d\").hexdigest() == \"f00213d576da5df03e70b733c3c44a6f7393e356\", \"boolean value of lm is None is not correct\"\n",
    "\n",
    "assert sha1(str(type(type(lm))).encode(\"utf-8\")+b\"e0906902cc12b8e7\").hexdigest() == \"0f7044a9508405f992f8baa9230fe5f042ce6e1d\", \"type of type(lm) is not correct\"\n",
    "assert sha1(str(type(lm)).encode(\"utf-8\")+b\"e0906902cc12b8e7\").hexdigest() == \"147c6839d0ba60b6cfe4fc76bc0bffbaa3b483c8\", \"value of type(lm) is not correct\"\n",
    "\n",
    "print('Success!')"
   ]
  },
  {
   "cell_type": "markdown",
   "metadata": {
    "deletable": false,
    "editable": false,
    "nbgrader": {
     "cell_type": "markdown",
     "checksum": "7c12c9eed68edb061bd374bef11b80aa",
     "grade": false,
     "grade_id": "cell-29d06cfa3e0ab3bc",
     "locked": true,
     "schema_version": 3,
     "solution": false,
     "task": false
    }
   },
   "source": [
    "**Question 3.3.1**\n",
    "<br>{points: 1}\n",
    "\n",
    "After we have created our linear regression model, the next step is to fit the training dataset. \n",
    "\n",
    "*Assign your answer to an object named `lm_fit`.*"
   ]
  },
  {
   "cell_type": "code",
   "execution_count": null,
   "metadata": {
    "deletable": false,
    "nbgrader": {
     "cell_type": "code",
     "checksum": "a0a9a46aba76db6f9ec4a02ace3cf55c",
     "grade": false,
     "grade_id": "cell-72f6968d56ed879f",
     "locked": false,
     "schema_version": 3,
     "solution": true,
     "task": false
    }
   },
   "outputs": [],
   "source": [
    "# ___ = ___.fit(___, ___)\n",
    "\n",
    "# your code here\n",
    "raise NotImplementedError\n",
    "lm_fit"
   ]
  },
  {
   "cell_type": "code",
   "execution_count": null,
   "metadata": {
    "deletable": false,
    "editable": false,
    "max_height": 100,
    "nbgrader": {
     "cell_type": "code",
     "checksum": "aaa4604d18b7fcf17c3bbcf50f5b9d52",
     "grade": true,
     "grade_id": "cell-9d3b1ff7fdd3faa5",
     "locked": true,
     "points": 1,
     "schema_version": 3,
     "solution": false,
     "task": false
    }
   },
   "outputs": [],
   "source": [
    "from hashlib import sha1\n",
    "assert sha1(str(type(lm_fit is None)).encode(\"utf-8\")+b\"36d8febf4c3647e4\").hexdigest() == \"b30a93d04f6f964defb2e52c76c7d6ad4965953f\", \"type of lm_fit is None is not bool. lm_fit is None should be a bool\"\n",
    "assert sha1(str(lm_fit is None).encode(\"utf-8\")+b\"36d8febf4c3647e4\").hexdigest() == \"dcdb1fd4c5292fd71830f37bfd8e0baf389c8e31\", \"boolean value of lm_fit is None is not correct\"\n",
    "\n",
    "assert sha1(str(type(type(lm_fit))).encode(\"utf-8\")+b\"0264866332270790\").hexdigest() == \"a15667144c6d8771bd217632824d7480ffe882aa\", \"type of type(lm_fit) is not correct\"\n",
    "assert sha1(str(type(lm_fit)).encode(\"utf-8\")+b\"0264866332270790\").hexdigest() == \"61d9752cf12be7b0ba57430b59bf57e15b45af13\", \"value of type(lm_fit) is not correct\"\n",
    "\n",
    "assert sha1(str(type(lm_fit.coef_)).encode(\"utf-8\")+b\"df9926d171256a66\").hexdigest() == \"8661140f9cc2246442413342c3b4e4d12f559821\", \"type of lm_fit.coef_ is not correct\"\n",
    "assert sha1(str(lm_fit.coef_).encode(\"utf-8\")+b\"df9926d171256a66\").hexdigest() == \"85ea5ecf89b4a4cac9f60798a9f859f3ed3adaa0\", \"value of lm_fit.coef_ is not correct\"\n",
    "\n",
    "assert sha1(str(type(lm_fit.intercept_)).encode(\"utf-8\")+b\"eb1a17403532c278\").hexdigest() == \"b49dd26736083bb419d659c058278f0953478503\", \"type of lm_fit.intercept_ is not correct\"\n",
    "assert sha1(str(lm_fit.intercept_).encode(\"utf-8\")+b\"eb1a17403532c278\").hexdigest() == \"6cc08cae4bc7e2fef12f209e89dfd5bfe4fa14cc\", \"value of lm_fit.intercept_ is not correct\"\n",
    "\n",
    "print('Success!')"
   ]
  },
  {
   "cell_type": "markdown",
   "metadata": {
    "deletable": false,
    "editable": false,
    "nbgrader": {
     "cell_type": "markdown",
     "checksum": "2f6e9701417bb1ab255e1c080c45bc1c",
     "grade": false,
     "grade_id": "cell-dad798df6163dff4",
     "locked": true,
     "schema_version": 3,
     "solution": false,
     "task": false
    }
   },
   "source": [
    "**Question 3.4**\n",
    "<br> {points: 1}\n",
    "\n",
    "Now, let's visualize the model predictions as a straight line overlaid on the training data. Use `transform_regression` on `marathon_eda` we created in **Question 3.2** to visualize the predictions as a straight line. \n",
    "\n",
    "*Name your plot `lm_predictions`.*\n",
    "\n",
    "*The `transform_regression` fits regression models to predict data. Note, crucially, that `transform_regression` will fit to the data displayed in the plot. Since we are plotting our training data right now, `transform_regression` will make the same linear regression fit as `lm` did above. For more information about `transform_regression`, please visit https://altair-viz.github.io/user_guide/transform/regression.html*"
   ]
  },
  {
   "cell_type": "code",
   "execution_count": null,
   "metadata": {
    "deletable": false,
    "nbgrader": {
     "cell_type": "code",
     "checksum": "f17b1266e7235aaf10a042e92d0e022d",
     "grade": false,
     "grade_id": "cell-6131349a47c37876",
     "locked": false,
     "schema_version": 3,
     "solution": true
    }
   },
   "outputs": [],
   "source": [
    "# ___ = marathon_eda + marathon_eda.___(\n",
    "#     ___, ___\n",
    "# ).mark_line(size=3)\n",
    "\n",
    "# your code here\n",
    "raise NotImplementedError\n",
    "lm_predictions"
   ]
  },
  {
   "cell_type": "code",
   "execution_count": null,
   "metadata": {
    "deletable": false,
    "editable": false,
    "max_height": 100,
    "nbgrader": {
     "cell_type": "code",
     "checksum": "9a391f80768ffcff020333dedf4f4b18",
     "grade": true,
     "grade_id": "cell-4664079ebe7d0892",
     "locked": true,
     "points": 1,
     "schema_version": 3,
     "solution": false
    }
   },
   "outputs": [],
   "source": [
    "from hashlib import sha1\n",
    "assert sha1(str(type(lm_predictions is None)).encode(\"utf-8\")+b\"f776cfe6bc93c286\").hexdigest() == \"dcbe5782c1c02205be9775375bf41d5b0dfb4205\", \"type of lm_predictions is None is not bool. lm_predictions is None should be a bool\"\n",
    "assert sha1(str(lm_predictions is None).encode(\"utf-8\")+b\"f776cfe6bc93c286\").hexdigest() == \"04ece74bdcb3176b4613203fe75f077d202f525a\", \"boolean value of lm_predictions is None is not correct\"\n",
    "\n",
    "assert sha1(str(type(len(lm_predictions.layer))).encode(\"utf-8\")+b\"8c76830862075ac4\").hexdigest() == \"46d3409f2f226b273f735b3119028b62a7f75c44\", \"type of len(lm_predictions.layer) is not int. Please make sure it is int and not np.int64, etc. You can cast your value into an int using int()\"\n",
    "assert sha1(str(len(lm_predictions.layer)).encode(\"utf-8\")+b\"8c76830862075ac4\").hexdigest() == \"cc6c59fd793646227d12c29dd6bc2a6c71d0462a\", \"value of len(lm_predictions.layer) is not correct\"\n",
    "\n",
    "print('Success!')"
   ]
  },
  {
   "cell_type": "markdown",
   "metadata": {
    "deletable": false,
    "editable": false,
    "nbgrader": {
     "cell_type": "markdown",
     "checksum": "df71a9c874b539f0e7ef9a912ca6f7ac",
     "grade": false,
     "grade_id": "cell-c4273b717c7a3cb7",
     "locked": true,
     "schema_version": 3,
     "solution": false,
     "task": false
    }
   },
   "source": [
    "**Question 3.5**\n",
    "<br> {points: 1}\n",
    "\n",
    "Great! We can now see the line of best fit on the graph. Now let's calculate the RMSPE using the **test data**. To get to this point, first, use the `lm_fit` to make predictions on the test data. Call the predicted values `lm_preds`. Remember to bind the appropriate columns for the test data. Afterwards, calculate the RMSPE using the `mean_squared_error` function.\n",
    "\n",
    "*Assign your answer to an object called `lm_rmspe`.*"
   ]
  },
  {
   "cell_type": "code",
   "execution_count": null,
   "metadata": {
    "deletable": false,
    "nbgrader": {
     "cell_type": "code",
     "checksum": "3bd2b508ea801409ccd911ec33de6944",
     "grade": false,
     "grade_id": "cell-5f42a9ac9068cfdf",
     "locked": false,
     "schema_version": 3,
     "solution": true
    }
   },
   "outputs": [],
   "source": [
    "# ___ = ___.assign(predictions=___.predict(___))\n",
    "\n",
    "# ___ = ___(___, ___)**(1/2)\n",
    "\n",
    "# your code here\n",
    "raise NotImplementedError\n",
    "lm_rmspe"
   ]
  },
  {
   "cell_type": "code",
   "execution_count": null,
   "metadata": {
    "deletable": false,
    "editable": false,
    "max_height": 100,
    "nbgrader": {
     "cell_type": "code",
     "checksum": "d0f1e66f657c9ace2429ccff1dfc1df0",
     "grade": true,
     "grade_id": "cell-41031aad5e75b436",
     "locked": true,
     "points": 1,
     "schema_version": 3,
     "solution": false
    }
   },
   "outputs": [],
   "source": [
    "from hashlib import sha1\n",
    "assert sha1(str(type(lm_preds is None)).encode(\"utf-8\")+b\"2b0c03b4bd1bc8a3\").hexdigest() == \"59ea1290df87fd6a77d418ae21ffe5f32becc975\", \"type of lm_preds is None is not bool. lm_preds is None should be a bool\"\n",
    "assert sha1(str(lm_preds is None).encode(\"utf-8\")+b\"2b0c03b4bd1bc8a3\").hexdigest() == \"9168f0f67c7d272dc5e1dcc26d2bebe20de2625c\", \"boolean value of lm_preds is None is not correct\"\n",
    "\n",
    "assert sha1(str(type(lm_preds)).encode(\"utf-8\")+b\"20f395c2a403a543\").hexdigest() == \"ec53b46677d83b792bc7107d4d76ebe11348d9a0\", \"type of type(lm_preds) is not correct\"\n",
    "\n",
    "assert sha1(str(type(lm_preds.shape)).encode(\"utf-8\")+b\"51e4955942117890\").hexdigest() == \"50e4324ad666a90dbd6ea8615c2d2fd325d10888\", \"type of lm_preds.shape is not tuple. lm_preds.shape should be a tuple\"\n",
    "assert sha1(str(len(lm_preds.shape)).encode(\"utf-8\")+b\"51e4955942117890\").hexdigest() == \"52c0efb6be3df015f10f6b94591a0f21844365ed\", \"length of lm_preds.shape is not correct\"\n",
    "assert sha1(str(sorted(map(str, lm_preds.shape))).encode(\"utf-8\")+b\"51e4955942117890\").hexdigest() == \"177e6698f92c408a700f76fabf7adc07bd0ddc1b\", \"values of lm_preds.shape are not correct\"\n",
    "assert sha1(str(lm_preds.shape).encode(\"utf-8\")+b\"51e4955942117890\").hexdigest() == \"185cb52ddde95a81eb3387bde3cdd1fb95811429\", \"order of elements of lm_preds.shape is not correct\"\n",
    "\n",
    "assert sha1(str(type(sum(lm_preds.predictions))).encode(\"utf-8\")+b\"acb0786b52464a1c\").hexdigest() == \"5f5924093f8467a051be524d81eb2695f04b4706\", \"type of sum(lm_preds.predictions) is not float. Please make sure it is float and not np.float64, etc. You can cast your value into a float using float()\"\n",
    "assert sha1(str(round(sum(lm_preds.predictions), 2)).encode(\"utf-8\")+b\"acb0786b52464a1c\").hexdigest() == \"c16c199cb24ed1c690770bd921fbf6547bb573d1\", \"value of sum(lm_preds.predictions) is not correct (rounded to 2 decimal places)\"\n",
    "\n",
    "assert sha1(str(type(lm_rmspe is None)).encode(\"utf-8\")+b\"4456305c9a2574a0\").hexdigest() == \"6f4a8aca38b7bdd0043c7091397f47de63e9533e\", \"type of lm_rmspe is None is not bool. lm_rmspe is None should be a bool\"\n",
    "assert sha1(str(lm_rmspe is None).encode(\"utf-8\")+b\"4456305c9a2574a0\").hexdigest() == \"e580b958453bd803bc87bc07721a369f3365eb1c\", \"boolean value of lm_rmspe is None is not correct\"\n",
    "\n",
    "assert sha1(str(type(lm_rmspe)).encode(\"utf-8\")+b\"71bbf05ecc44da22\").hexdigest() == \"02b00917aac7c36c0d5fb0440814dcb69aa66e5c\", \"type of type(lm_rmspe) is not correct\"\n",
    "\n",
    "assert sha1(str(type(round(lm_rmspe, 1))).encode(\"utf-8\")+b\"24ae078b977f3863\").hexdigest() == \"26e41246be1a06f62d125872edb39b0f8e9da070\", \"type of round(lm_rmspe, 1) is not correct\"\n",
    "assert sha1(str(round(lm_rmspe, 1)).encode(\"utf-8\")+b\"24ae078b977f3863\").hexdigest() == \"6e4b54fa885c75b41142992ebddc008004d16378\", \"value of round(lm_rmspe, 1) is not correct\"\n",
    "\n",
    "print('Success!')"
   ]
  },
  {
   "cell_type": "markdown",
   "metadata": {
    "deletable": false,
    "editable": false,
    "nbgrader": {
     "cell_type": "markdown",
     "checksum": "b7576c29454ce4ae336ff4737d6862c0",
     "grade": false,
     "grade_id": "cell-248f1e3467b09c40",
     "locked": true,
     "schema_version": 3,
     "solution": false,
     "task": false
    }
   },
   "source": [
    "**Question 3.5.1**\n",
    "<br> {points: 1}\n",
    "\n",
    "Now, let's visualize the model predictions as a straight line overlaid on the test data. First, create a scatterplot to assess the relationship between race time (`time_hrs`) and maximum distance ran per week during training (`max`) on the **testing data.** Then add a line to the plot corresponding to the predictions (`predictions`) from the fit linear regression model. Remember to do whatever is necessary to make this an effective visualization.\n",
    "\n",
    "*Assign the plot to an object called `lm_predictions_test`.*\n",
    "\n",
    "*Note: we __can not__ use `transform_regression` to visualize the predictions here. This is because `transform_regression` fits the data displayed in the plot; here we are plotting test data, but we want to visualize the predictions from the training data overlaid with the test data. So we have to plot the prediction\n",
    "line ourselves!*"
   ]
  },
  {
   "cell_type": "code",
   "execution_count": null,
   "metadata": {
    "deletable": false,
    "nbgrader": {
     "cell_type": "code",
     "checksum": "4101d0123a5c072eddcbcef884576706",
     "grade": false,
     "grade_id": "cell-498c80d6fa9369a7",
     "locked": false,
     "schema_version": 3,
     "solution": true,
     "task": false
    }
   },
   "outputs": [],
   "source": [
    "# lm_predictions_test = (\n",
    "#    ___.___(lm_preds)\n",
    "#    .mark_point(___=0.25, ___=20)\n",
    "#    .___(\n",
    "#        x=alt.X(\"___\", title=\"___\"),\n",
    "#        y=alt.Y(\"___\", title=\"___\", scale=alt.Scale(zero=False))\n",
    "#    )\n",
    "# )\n",
    "\n",
    "# lm_predictions_test = lm_predictions_test + (\n",
    "#    ___.___(lm_preds)\n",
    "#    .___(size=3)\n",
    "#    .___(\n",
    "#        x=alt.X(\"___\"),\n",
    "#        y=alt.Y(\"___\", scale=alt.Scale(zero=False))\n",
    "#    ) \n",
    "# )\n",
    "\n",
    "# your code here\n",
    "raise NotImplementedError\n",
    "lm_predictions_test"
   ]
  },
  {
   "cell_type": "code",
   "execution_count": null,
   "metadata": {
    "deletable": false,
    "editable": false,
    "max_height": 100,
    "nbgrader": {
     "cell_type": "code",
     "checksum": "bdd87ae1b682a41b7243fc48dd190cde",
     "grade": true,
     "grade_id": "cell-218d130332eebf2a",
     "locked": true,
     "points": 1,
     "schema_version": 3,
     "solution": false,
     "task": false
    }
   },
   "outputs": [],
   "source": [
    "from hashlib import sha1\n",
    "assert sha1(str(type(lm_predictions_test is None)).encode(\"utf-8\")+b\"6c781a3f73718479\").hexdigest() == \"f32f3c28d36d117af066610c96557862bb5c2b35\", \"type of lm_predictions_test is None is not bool. lm_predictions_test is None should be a bool\"\n",
    "assert sha1(str(lm_predictions_test is None).encode(\"utf-8\")+b\"6c781a3f73718479\").hexdigest() == \"2e3f04b3703e9f2bae30f9302d984070960d3453\", \"boolean value of lm_predictions_test is None is not correct\"\n",
    "\n",
    "assert sha1(str(type(lm_predictions_test.data.shape[0])).encode(\"utf-8\")+b\"7a7bf63439a864e6\").hexdigest() == \"9124e8e3a5b467f7e28db4cd6adb41a2669c267e\", \"type of lm_predictions_test.data.shape[0] is not int. Please make sure it is int and not np.int64, etc. You can cast your value into an int using int()\"\n",
    "assert sha1(str(lm_predictions_test.data.shape[0]).encode(\"utf-8\")+b\"7a7bf63439a864e6\").hexdigest() == \"9b3a367fef6c91fe4f90b8af54d157665061dd10\", \"value of lm_predictions_test.data.shape[0] is not correct\"\n",
    "\n",
    "assert sha1(str(type(lm_predictions_test._kwds['layer'][0].encoding.x.shorthand)).encode(\"utf-8\")+b\"d51aec5557344b92\").hexdigest() == \"4789ee00e740664d2532a0a322fc96cd24354784\", \"type of lm_predictions_test._kwds['layer'][0].encoding.x.shorthand is not correct\"\n",
    "assert sha1(str(lm_predictions_test._kwds['layer'][0].encoding.x.shorthand).encode(\"utf-8\")+b\"d51aec5557344b92\").hexdigest() == \"5d7450a8a1de585de4989c25777f29093f56a943\", \"value of lm_predictions_test._kwds['layer'][0].encoding.x.shorthand is not correct\"\n",
    "\n",
    "assert sha1(str(type(lm_predictions_test._kwds['layer'][0].encoding.y.shorthand)).encode(\"utf-8\")+b\"d9b8c4c70de21d0a\").hexdigest() == \"714fcb911f64ffe26aac2d90b9628e1124a382d2\", \"type of lm_predictions_test._kwds['layer'][0].encoding.y.shorthand is not correct\"\n",
    "assert sha1(str(lm_predictions_test._kwds['layer'][0].encoding.y.shorthand).encode(\"utf-8\")+b\"d9b8c4c70de21d0a\").hexdigest() == \"068e6676c8f1f5b6f8111cdfa2f101e36e34b60e\", \"value of lm_predictions_test._kwds['layer'][0].encoding.y.shorthand is not correct\"\n",
    "\n",
    "assert sha1(str(type(lm_predictions_test._kwds['layer'][0].mark.type)).encode(\"utf-8\")+b\"d5496eed6ca75eb1\").hexdigest() == \"c9abf49a756ed466ab2793b56de10c1070e3faee\", \"type of lm_predictions_test._kwds['layer'][0].mark.type is not str. lm_predictions_test._kwds['layer'][0].mark.type should be an str\"\n",
    "assert sha1(str(len(lm_predictions_test._kwds['layer'][0].mark.type)).encode(\"utf-8\")+b\"d5496eed6ca75eb1\").hexdigest() == \"3042d06aec7fab7396112130be6b7436673d23c8\", \"length of lm_predictions_test._kwds['layer'][0].mark.type is not correct\"\n",
    "assert sha1(str(lm_predictions_test._kwds['layer'][0].mark.type.lower()).encode(\"utf-8\")+b\"d5496eed6ca75eb1\").hexdigest() == \"9a2906d90fcf14f4a5826a64a0f8ab8390d5a5c4\", \"value of lm_predictions_test._kwds['layer'][0].mark.type is not correct\"\n",
    "assert sha1(str(lm_predictions_test._kwds['layer'][0].mark.type).encode(\"utf-8\")+b\"d5496eed6ca75eb1\").hexdigest() == \"9a2906d90fcf14f4a5826a64a0f8ab8390d5a5c4\", \"correct string value of lm_predictions_test._kwds['layer'][0].mark.type but incorrect case of letters\"\n",
    "\n",
    "assert sha1(str(type(lm_predictions_test._kwds['layer'][0].encoding.x.shorthand != lm_predictions_test._kwds['layer'][0].encoding.x.title)).encode(\"utf-8\")+b\"774fc93564ddd6c4\").hexdigest() == \"4ba5633100ac5bba06e4257c9d7db92e9ed569a4\", \"type of lm_predictions_test._kwds['layer'][0].encoding.x.shorthand != lm_predictions_test._kwds['layer'][0].encoding.x.title is not bool. lm_predictions_test._kwds['layer'][0].encoding.x.shorthand != lm_predictions_test._kwds['layer'][0].encoding.x.title should be a bool\"\n",
    "assert sha1(str(lm_predictions_test._kwds['layer'][0].encoding.x.shorthand != lm_predictions_test._kwds['layer'][0].encoding.x.title).encode(\"utf-8\")+b\"774fc93564ddd6c4\").hexdigest() == \"48747dafd8b7f421f9869fcc8c49ab23cdab24f9\", \"boolean value of lm_predictions_test._kwds['layer'][0].encoding.x.shorthand != lm_predictions_test._kwds['layer'][0].encoding.x.title is not correct\"\n",
    "\n",
    "assert sha1(str(type(lm_predictions_test._kwds['layer'][0].encoding.y.shorthand != lm_predictions_test._kwds['layer'][0].encoding.y.title)).encode(\"utf-8\")+b\"36643ccddeb1583f\").hexdigest() == \"c809afce239bc94e8a477b6ad2a569e419da9087\", \"type of lm_predictions_test._kwds['layer'][0].encoding.y.shorthand != lm_predictions_test._kwds['layer'][0].encoding.y.title is not bool. lm_predictions_test._kwds['layer'][0].encoding.y.shorthand != lm_predictions_test._kwds['layer'][0].encoding.y.title should be a bool\"\n",
    "assert sha1(str(lm_predictions_test._kwds['layer'][0].encoding.y.shorthand != lm_predictions_test._kwds['layer'][0].encoding.y.title).encode(\"utf-8\")+b\"36643ccddeb1583f\").hexdigest() == \"c3dac088489c842b554476854a184c2f5d03e5e9\", \"boolean value of lm_predictions_test._kwds['layer'][0].encoding.y.shorthand != lm_predictions_test._kwds['layer'][0].encoding.y.title is not correct\"\n",
    "\n",
    "assert sha1(str(type(lm_predictions_test._kwds['layer'][1].encoding.x.shorthand)).encode(\"utf-8\")+b\"81d39f21cc95454a\").hexdigest() == \"da80ad116cb727901b0f561aa7c63a96c7928c2a\", \"type of lm_predictions_test._kwds['layer'][1].encoding.x.shorthand is not correct\"\n",
    "assert sha1(str(lm_predictions_test._kwds['layer'][1].encoding.x.shorthand).encode(\"utf-8\")+b\"81d39f21cc95454a\").hexdigest() == \"4a7118a8bc76ce2cbfa123ddcf70420aaccb4528\", \"value of lm_predictions_test._kwds['layer'][1].encoding.x.shorthand is not correct\"\n",
    "\n",
    "assert sha1(str(type(lm_predictions_test._kwds['layer'][1].encoding.y.shorthand)).encode(\"utf-8\")+b\"99858d2e35efa104\").hexdigest() == \"7f71563a83bbd482cc136700993762602c4eac12\", \"type of lm_predictions_test._kwds['layer'][1].encoding.y.shorthand is not correct\"\n",
    "assert sha1(str(lm_predictions_test._kwds['layer'][1].encoding.y.shorthand).encode(\"utf-8\")+b\"99858d2e35efa104\").hexdigest() == \"f5a6487910e270472c3f40606e71792d5065d19e\", \"value of lm_predictions_test._kwds['layer'][1].encoding.y.shorthand is not correct\"\n",
    "\n",
    "assert sha1(str(type(lm_predictions_test._kwds['layer'][1].mark.type)).encode(\"utf-8\")+b\"cea3f3d325704a57\").hexdigest() == \"913c1821c3bf70e20e861067e34ec4705c4995ad\", \"type of lm_predictions_test._kwds['layer'][1].mark.type is not str. lm_predictions_test._kwds['layer'][1].mark.type should be an str\"\n",
    "assert sha1(str(len(lm_predictions_test._kwds['layer'][1].mark.type)).encode(\"utf-8\")+b\"cea3f3d325704a57\").hexdigest() == \"d7b704d4e1d33723591fc3ec473ec06c6790fa37\", \"length of lm_predictions_test._kwds['layer'][1].mark.type is not correct\"\n",
    "assert sha1(str(lm_predictions_test._kwds['layer'][1].mark.type.lower()).encode(\"utf-8\")+b\"cea3f3d325704a57\").hexdigest() == \"8c8c6fc04a54f63485f7aa18ebc1bcf8fd3b16a0\", \"value of lm_predictions_test._kwds['layer'][1].mark.type is not correct\"\n",
    "assert sha1(str(lm_predictions_test._kwds['layer'][1].mark.type).encode(\"utf-8\")+b\"cea3f3d325704a57\").hexdigest() == \"8c8c6fc04a54f63485f7aa18ebc1bcf8fd3b16a0\", \"correct string value of lm_predictions_test._kwds['layer'][1].mark.type but incorrect case of letters\"\n",
    "\n",
    "assert sha1(str(type(lm_predictions_test._kwds['layer'][1].encoding.x.shorthand != lm_predictions_test._kwds['layer'][1].encoding.x.title)).encode(\"utf-8\")+b\"5e9d5ebd90fb60cd\").hexdigest() == \"4d21f470117c41c1e2328c8837e11deb014b0601\", \"type of lm_predictions_test._kwds['layer'][1].encoding.x.shorthand != lm_predictions_test._kwds['layer'][1].encoding.x.title is not bool. lm_predictions_test._kwds['layer'][1].encoding.x.shorthand != lm_predictions_test._kwds['layer'][1].encoding.x.title should be a bool\"\n",
    "assert sha1(str(lm_predictions_test._kwds['layer'][1].encoding.x.shorthand != lm_predictions_test._kwds['layer'][1].encoding.x.title).encode(\"utf-8\")+b\"5e9d5ebd90fb60cd\").hexdigest() == \"4ec0ad2369120c9eaefc2769f64fdb4e635f7d7c\", \"boolean value of lm_predictions_test._kwds['layer'][1].encoding.x.shorthand != lm_predictions_test._kwds['layer'][1].encoding.x.title is not correct\"\n",
    "\n",
    "assert sha1(str(type(lm_predictions_test._kwds['layer'][1].encoding.y.shorthand != lm_predictions_test._kwds['layer'][1].encoding.y.title)).encode(\"utf-8\")+b\"9dfee9519dce0f64\").hexdigest() == \"4cd34776c5869fe9a40ca41237bee87fe1712080\", \"type of lm_predictions_test._kwds['layer'][1].encoding.y.shorthand != lm_predictions_test._kwds['layer'][1].encoding.y.title is not bool. lm_predictions_test._kwds['layer'][1].encoding.y.shorthand != lm_predictions_test._kwds['layer'][1].encoding.y.title should be a bool\"\n",
    "assert sha1(str(lm_predictions_test._kwds['layer'][1].encoding.y.shorthand != lm_predictions_test._kwds['layer'][1].encoding.y.title).encode(\"utf-8\")+b\"9dfee9519dce0f64\").hexdigest() == \"6a014088b9caf76ec07c290346f768475fcc9078\", \"boolean value of lm_predictions_test._kwds['layer'][1].encoding.y.shorthand != lm_predictions_test._kwds['layer'][1].encoding.y.title is not correct\"\n",
    "\n",
    "print('Success!')"
   ]
  },
  {
   "cell_type": "markdown",
   "metadata": {
    "deletable": false,
    "editable": false,
    "nbgrader": {
     "cell_type": "markdown",
     "checksum": "5ed10968379c215307edd81ff5287107",
     "grade": false,
     "grade_id": "cell-3379505df4a3aef4",
     "locked": true,
     "schema_version": 3,
     "solution": false,
     "task": false
    }
   },
   "source": [
    "**Question 3.6**\n",
    "<br> {points: 1}\n",
    "\n",
    "Compare the RMSPE of k-nn regression (`0.616` from last worksheet) to that of simple linear regression. Which is greater? \n",
    "\n",
    "A. Simple linear regression has a greater RMSPE\n",
    "\n",
    "B. $k$-nn regression has a greater RMSPE\n",
    "\n",
    "C. Neither, they are identical\n",
    "\n",
    "*Save the letter of your answer to a variable named `answer3_6`. Make sure you put quotations around the letter and pay attention to case.*"
   ]
  },
  {
   "cell_type": "code",
   "execution_count": null,
   "metadata": {
    "deletable": false,
    "nbgrader": {
     "cell_type": "code",
     "checksum": "7c2a67c2ac62681fd214327c58ae912e",
     "grade": false,
     "grade_id": "cell-e633b4ce6799432e",
     "locked": false,
     "schema_version": 3,
     "solution": true
    }
   },
   "outputs": [],
   "source": [
    "# your code here\n",
    "raise NotImplementedError"
   ]
  },
  {
   "cell_type": "code",
   "execution_count": null,
   "metadata": {
    "deletable": false,
    "editable": false,
    "max_height": 100,
    "nbgrader": {
     "cell_type": "code",
     "checksum": "e575d40db7229b1a5318ad0bddffb464",
     "grade": true,
     "grade_id": "cell-c180c6230f13243c",
     "locked": true,
     "points": 1,
     "schema_version": 3,
     "solution": false
    }
   },
   "outputs": [],
   "source": [
    "from hashlib import sha1\n",
    "assert sha1(str(type(answer3_6)).encode(\"utf-8\")+b\"b5d324869fa1c5ff\").hexdigest() == \"3612ed160f8708e5d40b75c77fd6c8c265cc0ec6\", \"type of answer3_6 is not str. answer3_6 should be an str\"\n",
    "assert sha1(str(len(answer3_6)).encode(\"utf-8\")+b\"b5d324869fa1c5ff\").hexdigest() == \"2e9ae6f64f425351e71c212305593d75f91a0a1e\", \"length of answer3_6 is not correct\"\n",
    "assert sha1(str(answer3_6.lower()).encode(\"utf-8\")+b\"b5d324869fa1c5ff\").hexdigest() == \"e28bc26aa9a695010067c01a682a4ded9aa300dd\", \"value of answer3_6 is not correct\"\n",
    "assert sha1(str(answer3_6).encode(\"utf-8\")+b\"b5d324869fa1c5ff\").hexdigest() == \"7601d872f039b5a1b2b5781d5d85c22e0420ef13\", \"correct string value of answer3_6 but incorrect case of letters\"\n",
    "\n",
    "print('Success!')"
   ]
  },
  {
   "cell_type": "markdown",
   "metadata": {
    "deletable": false,
    "editable": false,
    "nbgrader": {
     "cell_type": "markdown",
     "checksum": "62fa20bdae136650c9bd49790d51c3a0",
     "grade": false,
     "grade_id": "cell-34ba4508e97d7316",
     "locked": true,
     "schema_version": 3,
     "solution": false,
     "task": false
    }
   },
   "source": [
    "**Question 3.7**\n",
    "<br> {points: 1}\n",
    "\n",
    "Which model does a better job of predicting on the test dataset?\n",
    "\n",
    "A. Simple linear regression \n",
    "\n",
    "B. $k$-nn regression \n",
    "\n",
    "C. Neither, they are identical\n",
    "\n",
    "*Save the letter of your answer to a variable named `answer3_7`. Make sure you put quotations around the letter and pay attention to case.*"
   ]
  },
  {
   "cell_type": "code",
   "execution_count": null,
   "metadata": {
    "deletable": false,
    "nbgrader": {
     "cell_type": "code",
     "checksum": "b306d70a03bc262721916e94da3b34de",
     "grade": false,
     "grade_id": "cell-e090cdac97461555",
     "locked": false,
     "schema_version": 3,
     "solution": true
    }
   },
   "outputs": [],
   "source": [
    "# your code here\n",
    "raise NotImplementedError"
   ]
  },
  {
   "cell_type": "code",
   "execution_count": null,
   "metadata": {
    "deletable": false,
    "editable": false,
    "max_height": 100,
    "nbgrader": {
     "cell_type": "code",
     "checksum": "742f3cfd2ef13783813ff2800dd5e6e2",
     "grade": true,
     "grade_id": "cell-9f902420da757d0a",
     "locked": true,
     "points": 1,
     "schema_version": 3,
     "solution": false
    }
   },
   "outputs": [],
   "source": [
    "from hashlib import sha1\n",
    "assert sha1(str(type(answer3_7)).encode(\"utf-8\")+b\"cc2010df43da5c55\").hexdigest() == \"6c684a090596b481d560b6a1044342a0fa6cd177\", \"type of answer3_7 is not str. answer3_7 should be an str\"\n",
    "assert sha1(str(len(answer3_7)).encode(\"utf-8\")+b\"cc2010df43da5c55\").hexdigest() == \"da6a510b5fdb8ed900a2d4b9ed58e08fefd1d945\", \"length of answer3_7 is not correct\"\n",
    "assert sha1(str(answer3_7.lower()).encode(\"utf-8\")+b\"cc2010df43da5c55\").hexdigest() == \"8157fe4e40177927f1a307bca649294894667ce4\", \"value of answer3_7 is not correct\"\n",
    "assert sha1(str(answer3_7).encode(\"utf-8\")+b\"cc2010df43da5c55\").hexdigest() == \"298771d9382c2cc242de874fcfd3dc1f4bc56305\", \"correct string value of answer3_7 but incorrect case of letters\"\n",
    "\n",
    "print('Success!')"
   ]
  },
  {
   "cell_type": "markdown",
   "metadata": {
    "deletable": false,
    "editable": false,
    "nbgrader": {
     "cell_type": "markdown",
     "checksum": "cca8208a18f0fde60d97f7bebb32904f",
     "grade": false,
     "grade_id": "cell-e0b42a79e704b681",
     "locked": true,
     "schema_version": 3,
     "solution": false,
     "task": false
    }
   },
   "source": [
    "Given that the linear regression model is a straight line, we can write our model as a mathematical equation. We can get the two numbers we need for this from the `coef_` and `intercept_` attributes from `lm_fit`. "
   ]
  },
  {
   "cell_type": "code",
   "execution_count": null,
   "metadata": {
    "deletable": false,
    "editable": false,
    "nbgrader": {
     "cell_type": "code",
     "checksum": "2e941e974c0236fea52ed1c0bbba0adc",
     "grade": false,
     "grade_id": "cell-950e45b9b52f7a59",
     "locked": true,
     "schema_version": 3,
     "solution": false,
     "task": false
    }
   },
   "outputs": [],
   "source": [
    "# run this cell\n",
    "print(f\"The coefficient for the linear regression is {lm_fit.coef_[0]:0.3f}.\")\n",
    "print(f\"The intercept for the linear regression is {lm_fit.intercept_:0.3f}.\")"
   ]
  },
  {
   "cell_type": "markdown",
   "metadata": {
    "deletable": false,
    "editable": false,
    "nbgrader": {
     "cell_type": "markdown",
     "checksum": "0e6c23430086498e84e3e263d7350291",
     "grade": false,
     "grade_id": "cell-936d12f8333ecff6",
     "locked": true,
     "schema_version": 3,
     "solution": false,
     "task": false
    }
   },
   "source": [
    "**Question 3.8.1**\n",
    "<br> {points: 1}\n",
    "\n",
    "Which of the following mathematical equations represents the model based on the numbers output in the cell above? \n",
    "\n",
    "A. $Predicted \\ race \\ time \\ (in \\ hours) = 4.851 - 0.022  * max \\ (in \\ miles)$\n",
    "\n",
    "B. $Predicted \\ race \\ time \\ (in \\ hours) = -0.022 + 4.851 * max \\ (in \\ miles)$\n",
    "\n",
    "C. $Predicted \\ max \\ (in \\ miles) = 4.851 - 0.022 *  \\ race \\ time \\ (in \\ hours)$\n",
    " \n",
    "D. $Predicted \\ max \\ (in \\ miles) = -0.022 + 4.851 *  \\ race \\ time \\ (in \\ hours)$\n",
    "\n",
    "*Save the letter of your answer to a variable named `answer3_8_1`. Make sure you put quotations around the letter and pay attention to case.*"
   ]
  },
  {
   "cell_type": "code",
   "execution_count": null,
   "metadata": {
    "deletable": false,
    "nbgrader": {
     "cell_type": "code",
     "checksum": "c081c066506c9a75ea70e69c635c5cb6",
     "grade": false,
     "grade_id": "cell-e2595c01d8d07897",
     "locked": false,
     "schema_version": 3,
     "solution": true,
     "task": false
    }
   },
   "outputs": [],
   "source": [
    "# your code here\n",
    "raise NotImplementedError"
   ]
  },
  {
   "cell_type": "code",
   "execution_count": null,
   "metadata": {
    "deletable": false,
    "editable": false,
    "max_height": 100,
    "nbgrader": {
     "cell_type": "code",
     "checksum": "5d9ae558926f9c0d1b549a60167f6882",
     "grade": true,
     "grade_id": "cell-5884a2fd9625b2e8",
     "locked": true,
     "points": 1,
     "schema_version": 3,
     "solution": false,
     "task": false
    }
   },
   "outputs": [],
   "source": [
    "from hashlib import sha1\n",
    "assert sha1(str(type(answer3_8_1)).encode(\"utf-8\")+b\"83f6ec327e748d8d\").hexdigest() == \"9d94f0960e9b7e5952a00dd209d35d581c8f060c\", \"type of answer3_8_1 is not str. answer3_8_1 should be an str\"\n",
    "assert sha1(str(len(answer3_8_1)).encode(\"utf-8\")+b\"83f6ec327e748d8d\").hexdigest() == \"67ab6a246caa3cf73911b844eace5c3ce1b5102c\", \"length of answer3_8_1 is not correct\"\n",
    "assert sha1(str(answer3_8_1.lower()).encode(\"utf-8\")+b\"83f6ec327e748d8d\").hexdigest() == \"f8884c104b88f544d1c6395b1555ed2bbfd69001\", \"value of answer3_8_1 is not correct\"\n",
    "assert sha1(str(answer3_8_1).encode(\"utf-8\")+b\"83f6ec327e748d8d\").hexdigest() == \"940faced516863298130b36329b533d9d1c4c5ee\", \"correct string value of answer3_8_1 but incorrect case of letters\"\n",
    "\n",
    "print('Success!')"
   ]
  }
 ],
 "metadata": {
  "kernelspec": {
   "display_name": "Python 3 (ipykernel)",
   "language": "python",
   "name": "python3"
  },
  "language_info": {
   "codemirror_mode": {
    "name": "ipython",
    "version": 3
   },
   "file_extension": ".py",
   "mimetype": "text/x-python",
   "name": "python",
   "nbconvert_exporter": "python",
   "pygments_lexer": "ipython3",
   "version": "3.10.8"
  }
 },
 "nbformat": 4,
 "nbformat_minor": 4
}
