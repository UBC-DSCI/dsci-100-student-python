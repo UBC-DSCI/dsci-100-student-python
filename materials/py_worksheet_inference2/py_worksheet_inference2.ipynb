{
 "cells": [
  {
   "cell_type": "markdown",
   "metadata": {
    "deletable": false,
    "editable": false,
    "nbgrader": {
     "cell_type": "markdown",
     "checksum": "d79f41ef0204beaa753e32623c9017e4",
     "grade": false,
     "grade_id": "cell-f863750069537ead",
     "locked": true,
     "schema_version": 3,
     "solution": false,
     "task": false
    }
   },
   "source": [
    "# Worksheet 12 - The Bootstrap\n",
    "\n",
    "### Lecture and Tutorial Learning Goals:\n",
    "\n",
    "After completing this week's lecture and tutorial work, you will be able to:\n",
    "- Explain why we don't have a sampling distribution in practice/real life.\n",
    "- Define bootstrapping.\n",
    "- Use Python to create a bootstrap distribution to approximate a sampling distribution.\n",
    "- Contrast bootstrap and sampling distributions.\n",
    "\n",
    "This worksheet covers parts of [Chapter 10](https://python.datasciencebook.ca/inference) of the online textbook. You should read this chapter before attempting this assignment. Any place you see `___`, you must fill in the function, variable, or data to complete the code. Substitute the `raise NotImplementedError` with your completed code and answers then proceed to run the cell."
   ]
  },
  {
   "cell_type": "code",
   "execution_count": null,
   "metadata": {
    "deletable": false,
    "editable": false,
    "nbgrader": {
     "cell_type": "code",
     "checksum": "a07aa29e55aa22680ca7df75d02fdac5",
     "grade": false,
     "grade_id": "cell-55b5050a0a343a4f",
     "locked": true,
     "schema_version": 3,
     "solution": false,
     "task": false
    }
   },
   "outputs": [],
   "source": [
    "### Run this cell before continuing.\n",
    "import altair as alt\n",
    "import numpy as np\n",
    "import pandas as pd\n",
    "\n",
    "# Simplify working with large datasets in Altair\n",
    "alt.data_transformers.enable('vegafusion')"
   ]
  },
  {
   "cell_type": "markdown",
   "metadata": {
    "deletable": false,
    "editable": false,
    "nbgrader": {
     "cell_type": "markdown",
     "checksum": "45827f1d33373e875656a0a097fbe1ef",
     "grade": false,
     "grade_id": "cell-b0098728d66708d2",
     "locked": true,
     "schema_version": 3,
     "solution": false,
     "task": false
    }
   },
   "source": [
    "**Question 1.1** True/False:\n",
    "<br> {points: 1}\n",
    "\n",
    "In real life, we typically take many samples from the population and create a sampling distribution when we perform estimation. True or false?\n",
    "\n",
    "*Assign your answer to an object called `answer1_1`. Your answer should be a boolean. i.e. `True` or `False`.*"
   ]
  },
  {
   "cell_type": "code",
   "execution_count": null,
   "metadata": {
    "deletable": false,
    "nbgrader": {
     "cell_type": "code",
     "checksum": "579b8b2a8396e609a0433b4d4864a97c",
     "grade": false,
     "grade_id": "cell-03cc711477e4baf7",
     "locked": false,
     "schema_version": 3,
     "solution": true,
     "task": false
    }
   },
   "outputs": [],
   "source": [
    "# your code here\n",
    "raise NotImplementedError"
   ]
  },
  {
   "cell_type": "code",
   "execution_count": null,
   "metadata": {
    "deletable": false,
    "editable": false,
    "nbgrader": {
     "cell_type": "code",
     "checksum": "049d2d2aa0a95ce23becd0e14ba44947",
     "grade": true,
     "grade_id": "cell-e8aa24da1ef5f535",
     "locked": true,
     "points": 1,
     "schema_version": 3,
     "solution": false,
     "task": false
    }
   },
   "outputs": [],
   "source": [
    "from hashlib import sha1\n",
    "assert sha1(str(type(answer1_1)).encode(\"utf-8\")+b\"7dab1\").hexdigest() == \"9bb5b27272228a3327500df88a38482cb437b5a3\", \"type of answer1_1 is not bool. answer1_1 should be a bool\"\n",
    "assert sha1(str(answer1_1).encode(\"utf-8\")+b\"7dab1\").hexdigest() == \"f2d04d359c7fe55f58eba98627f41f84c123e7df\", \"boolean value of answer1_1 is not correct\"\n",
    "\n",
    "print('Success!')"
   ]
  },
  {
   "cell_type": "markdown",
   "metadata": {
    "deletable": false,
    "editable": false,
    "nbgrader": {
     "cell_type": "markdown",
     "checksum": "0210bbb99abf687e877faf85810a29c8",
     "grade": false,
     "grade_id": "cell-05b19510ad97aeb3",
     "locked": true,
     "schema_version": 3,
     "solution": false,
     "task": false
    }
   },
   "source": [
    "**Question 1.2** Ordering\n",
    "<br> {points: 1}\n",
    "\n",
    "Correctly re-order the steps for creating a bootstrap sample from those listed below. \n",
    "\n",
    "1. record the observation's value\n",
    "2. repeat the above the same number of times as there are observations in the original sample \n",
    "3. return the observation to the original sample\n",
    "4. randomly draw an observation from the original sample (which was drawn from the population)\n",
    "\n",
    "Create your answer by reordering values below in the `answer1_2` list with the correct order for the steps above for creating a bootstrap sample."
   ]
  },
  {
   "cell_type": "code",
   "execution_count": null,
   "metadata": {
    "deletable": false,
    "nbgrader": {
     "cell_type": "code",
     "checksum": "5524eabbbbec4190912c0d4962f5eebc",
     "grade": false,
     "grade_id": "cell-dbdb7facfc6bda43",
     "locked": false,
     "schema_version": 3,
     "solution": true,
     "task": false
    }
   },
   "outputs": [],
   "source": [
    "answer1_2 = [1, 2, 3, 4]  # reorder the values!\n",
    "# your code here\n",
    "raise NotImplementedError"
   ]
  },
  {
   "cell_type": "code",
   "execution_count": null,
   "metadata": {
    "deletable": false,
    "editable": false,
    "nbgrader": {
     "cell_type": "code",
     "checksum": "61128bfc4be2d70ee4555da071d5121c",
     "grade": true,
     "grade_id": "cell-8a257d7535ce46fe",
     "locked": true,
     "points": 1,
     "schema_version": 3,
     "solution": false,
     "task": false
    }
   },
   "outputs": [],
   "source": [
    "from hashlib import sha1\n",
    "assert sha1(str(type(\"\".join(map(str, answer1_2)))).encode(\"utf-8\")+b\"a4b69\").hexdigest() == \"fcb0e77b930c9c9ff41b1fb69dfc8f881ab4739c\", \"type of \\\"\\\".join(map(str, answer1_2)) is not str. \\\"\\\".join(map(str, answer1_2)) should be an str\"\n",
    "assert sha1(str(len(\"\".join(map(str, answer1_2)))).encode(\"utf-8\")+b\"a4b69\").hexdigest() == \"d641cf4c1efc0c23deb37c52f153eb908ca1c146\", \"length of \\\"\\\".join(map(str, answer1_2)) is not correct\"\n",
    "assert sha1(str(\"\".join(map(str, answer1_2)).lower()).encode(\"utf-8\")+b\"a4b69\").hexdigest() == \"ae636edaf5bcf99d2f7c22428ef2eadceac9613a\", \"value of \\\"\\\".join(map(str, answer1_2)) is not correct\"\n",
    "assert sha1(str(\"\".join(map(str, answer1_2))).encode(\"utf-8\")+b\"a4b69\").hexdigest() == \"ae636edaf5bcf99d2f7c22428ef2eadceac9613a\", \"correct string value of \\\"\\\".join(map(str, answer1_2)) but incorrect case of letters\"\n",
    "\n",
    "print('Success!')"
   ]
  },
  {
   "cell_type": "markdown",
   "metadata": {
    "deletable": false,
    "editable": false,
    "nbgrader": {
     "cell_type": "markdown",
     "checksum": "83650d768909b0827002ccde84fb13c7",
     "grade": false,
     "grade_id": "cell-a612ade2b8ba83fc",
     "locked": true,
     "schema_version": 3,
     "solution": false,
     "task": false
    }
   },
   "source": [
    "**Question 1.3** Multiple choice\n",
    "<br> {points: 1}\n",
    "\n",
    "From the list below, choose the correct description of a bootstrap distribution for a point estimate:\n",
    "\n",
    "A. a list of point estimates calculated from many samples drawn with replacement from the population\n",
    "\n",
    "B. a list of point estimates calculated from many samples drawn without replacement from the population\n",
    "\n",
    "C. a list of point estimates calculated from bootstrap samples drawn with replacement from a single sample (that was drawn from the population)\n",
    "\n",
    "D. a list of point estimates calculated from bootstrap samples drawn without replacement from a single sample (that was drawn from the population)\n",
    "\n",
    "*Assign your answer to an object called `answer1_3`. Your answer should be an uppercase letter and is surrounded by quotes. (e.g. `\"F\"`)*"
   ]
  },
  {
   "cell_type": "code",
   "execution_count": null,
   "metadata": {
    "deletable": false,
    "nbgrader": {
     "cell_type": "code",
     "checksum": "2b5e205723a8c4fce7632c22a3fd7766",
     "grade": false,
     "grade_id": "cell-fe8959defed4a439",
     "locked": false,
     "schema_version": 3,
     "solution": true,
     "task": false
    }
   },
   "outputs": [],
   "source": [
    "# your code here\n",
    "raise NotImplementedError"
   ]
  },
  {
   "cell_type": "code",
   "execution_count": null,
   "metadata": {
    "deletable": false,
    "editable": false,
    "nbgrader": {
     "cell_type": "code",
     "checksum": "5549f1cfd68cba1b078b1eb50eb996c2",
     "grade": true,
     "grade_id": "cell-59dbb6a427a133c5",
     "locked": true,
     "points": 1,
     "schema_version": 3,
     "solution": false,
     "task": false
    }
   },
   "outputs": [],
   "source": [
    "from hashlib import sha1\n",
    "assert sha1(str(type(answer1_3)).encode(\"utf-8\")+b\"8eaae\").hexdigest() == \"8236806b120b8f3c719364f30c03cf980d1bd5ef\", \"type of answer1_3 is not str. answer1_3 should be an str\"\n",
    "assert sha1(str(len(answer1_3)).encode(\"utf-8\")+b\"8eaae\").hexdigest() == \"0ef18e313e6525dc4d10b34e4a8a25d96ee21a05\", \"length of answer1_3 is not correct\"\n",
    "assert sha1(str(answer1_3.lower()).encode(\"utf-8\")+b\"8eaae\").hexdigest() == \"33397f53e6d9277b44226cd58359c46214c631f2\", \"value of answer1_3 is not correct\"\n",
    "assert sha1(str(answer1_3).encode(\"utf-8\")+b\"8eaae\").hexdigest() == \"9f0839d3bb14517938815ff856704e4f3b3b4fcc\", \"correct string value of answer1_3 but incorrect case of letters\"\n",
    "\n",
    "print('Success!')"
   ]
  },
  {
   "cell_type": "markdown",
   "metadata": {
    "deletable": false,
    "editable": false,
    "nbgrader": {
     "cell_type": "markdown",
     "checksum": "027e1dbd9f5d9eae8827885d72bfcecb",
     "grade": false,
     "grade_id": "cell-1df2a1ba39ccc80d",
     "locked": true,
     "schema_version": 3,
     "solution": false,
     "task": false
    }
   },
   "source": [
    "**Question 1.4** Multiple choice\n",
    "<br> {points: 1}\n",
    "\n",
    "From the list below, choose the correct explanation of why, when performing estimation, we want to report a plausible **range** for the true population quantity we are trying to estimate along with the point estimate:\n",
    "\n",
    "A. The point estimate is our best guess at the true population quantity we are trying to estimate\n",
    "\n",
    "B. The point estimate will often not be the exact value of the true population quantity we are trying to estimate\n",
    "\n",
    "C. The value of a point estimate from one sample might very well be different than the value of a point estimate from another sample.\n",
    "\n",
    "D. B & C\n",
    "\n",
    "F. A & C\n",
    "\n",
    "E. None of the above\n",
    "\n",
    "*Assign your answer to an object called `answer1_4`. Your answer should be an uppercase letter and is surrounded by quotes (e.g. `\"F\"`).*"
   ]
  },
  {
   "cell_type": "code",
   "execution_count": null,
   "metadata": {
    "deletable": false,
    "nbgrader": {
     "cell_type": "code",
     "checksum": "2637a738c7a900e4e9c741a57d77c698",
     "grade": false,
     "grade_id": "cell-fd7e89338bbb71ca",
     "locked": false,
     "schema_version": 3,
     "solution": true,
     "task": false
    }
   },
   "outputs": [],
   "source": [
    "# your code here\n",
    "raise NotImplementedError"
   ]
  },
  {
   "cell_type": "code",
   "execution_count": null,
   "metadata": {
    "deletable": false,
    "editable": false,
    "nbgrader": {
     "cell_type": "code",
     "checksum": "0de4fbdfd6b13fdb565e7452d0282581",
     "grade": true,
     "grade_id": "cell-9448b3731eccbe8c",
     "locked": true,
     "points": 1,
     "schema_version": 3,
     "solution": false,
     "task": false
    }
   },
   "outputs": [],
   "source": [
    "from hashlib import sha1\n",
    "assert sha1(str(type(answer1_4)).encode(\"utf-8\")+b\"cfdac\").hexdigest() == \"5d910baffabead6858a437a24199aa5008e1d0d8\", \"type of answer1_4 is not str. answer1_4 should be an str\"\n",
    "assert sha1(str(len(answer1_4)).encode(\"utf-8\")+b\"cfdac\").hexdigest() == \"b4b93585cea3569021ea55ce1104209d9d06228e\", \"length of answer1_4 is not correct\"\n",
    "assert sha1(str(answer1_4.lower()).encode(\"utf-8\")+b\"cfdac\").hexdigest() == \"598be569f19acf1c430da7689763029b50e28806\", \"value of answer1_4 is not correct\"\n",
    "assert sha1(str(answer1_4).encode(\"utf-8\")+b\"cfdac\").hexdigest() == \"f4c339df3717ca1512ad9ee61c66d13bdf039628\", \"correct string value of answer1_4 but incorrect case of letters\"\n",
    "\n",
    "print('Success!')"
   ]
  },
  {
   "cell_type": "markdown",
   "metadata": {
    "deletable": false,
    "editable": false,
    "nbgrader": {
     "cell_type": "markdown",
     "checksum": "0a40a5c35842025d17e27bb17bb691e8",
     "grade": false,
     "grade_id": "cell-76363f7f1f56807e",
     "locked": true,
     "schema_version": 3,
     "solution": false,
     "task": false
    }
   },
   "source": [
    "###  Continuing with our virtual population of Canadian seniors from last worksheet\n",
    "\n",
    "Here we re-create the virtual population (ages of all Canadian seniors) we used in the last worksheet. It was bounded by realistic values ($\\geq$ 65 and $\\leq$ 118):"
   ]
  },
  {
   "cell_type": "code",
   "execution_count": null,
   "metadata": {
    "deletable": false,
    "editable": false,
    "nbgrader": {
     "cell_type": "code",
     "checksum": "be29c9e37a8fd4060ff21b414be3e106",
     "grade": false,
     "grade_id": "cell-522aafd1e9430ef3",
     "locked": true,
     "schema_version": 3,
     "solution": false,
     "task": false
    }
   },
   "outputs": [],
   "source": [
    "# Run this cell to simulate a large finite population\n",
    "# Don't change the seed!\n",
    "np.random.seed(4321)\n",
    "\n",
    "can_seniors = pd.DataFrame({\n",
    "    'age': np.random.exponential(1 / 0.1, 2000000) ** 2 + 65,\n",
    "}).query(\n",
    "    \"65 <= age <= 118\"\n",
    ")\n",
    "can_seniors"
   ]
  },
  {
   "cell_type": "markdown",
   "metadata": {
    "deletable": false,
    "editable": false,
    "nbgrader": {
     "cell_type": "markdown",
     "checksum": "5561245d433c1e817a99ae2a8ba5d19c",
     "grade": false,
     "grade_id": "cell-557951d5cb618c2c",
     "locked": true,
     "schema_version": 3,
     "solution": false,
     "task": false
    }
   },
   "source": [
    "Let's remind ourselves of what this population looks like:"
   ]
  },
  {
   "cell_type": "code",
   "execution_count": null,
   "metadata": {
    "deletable": false,
    "editable": false,
    "nbgrader": {
     "cell_type": "code",
     "checksum": "ba419372cc1f1da4c4107ab41ed8772d",
     "grade": false,
     "grade_id": "cell-ac4865a9c4709bbb",
     "locked": true,
     "schema_version": 3,
     "solution": false,
     "task": false
    }
   },
   "outputs": [],
   "source": [
    "# Run this cell\n",
    "pop_dist = alt.Chart(can_seniors, title='Population distribution').mark_bar().encode(\n",
    "    x=alt.X(\"age\")\n",
    "        .title(\"Age (years)\")\n",
    "        .bin(maxbins=30),\n",
    "    y=\"count()\"\n",
    ")\n",
    "pop_dist"
   ]
  },
  {
   "cell_type": "markdown",
   "metadata": {
    "deletable": false,
    "editable": false,
    "nbgrader": {
     "cell_type": "markdown",
     "checksum": "80ca92fd78203ba5c6755adb306bb512",
     "grade": false,
     "grade_id": "cell-f2e798c845edc3ee",
     "locked": true,
     "schema_version": 3,
     "solution": false,
     "task": false
    }
   },
   "source": [
    "### Estimate the mean age of Canadian Seniors\n",
    "\n",
    "Let's say we are interested in estimating the mean age of Canadian Seniors. Given that we have the population (we created it) we could just calculate the mean age from this population data. However in real life, we usually only have one small-ish sample from the population. Also, from our experimentation with sampling distributions, we know that different random samples will give us different point estimates. We also know from these experiments that the point estimates from different random samples will mostly be close to the true population quanitity we are trying to estimate, and how close depends on the sample size.\n",
    "\n",
    "What about in real life though, when we only have one sample? Can we say how close? Or at least give some plausible range of where we would expect the population quanitity we are trying to estimate to fall? Yes! We can do this using a method called bootstrapping! Let's explore how to create a bootstrap distribution from a single sample using Python and then we will discuss how the bootstrap distribution relates to the sampling distribution, and what it can tell us about the true population quantity we are trying to estimate."
   ]
  },
  {
   "cell_type": "markdown",
   "metadata": {
    "deletable": false,
    "editable": false,
    "nbgrader": {
     "cell_type": "markdown",
     "checksum": "5c79b5dab23b2d6c7cf9cf3d3f3ab343",
     "grade": false,
     "grade_id": "cell-9282c2797da1931b",
     "locked": true,
     "schema_version": 3,
     "solution": false,
     "task": false
    }
   },
   "source": [
    "Let's draw a single sample of size 40 from the population and visualize it:"
   ]
  },
  {
   "cell_type": "code",
   "execution_count": null,
   "metadata": {
    "deletable": false,
    "editable": false,
    "nbgrader": {
     "cell_type": "code",
     "checksum": "cd14628713ad4442b4df17a7b5050b85",
     "grade": false,
     "grade_id": "cell-01de9069dec4f4e5",
     "locked": true,
     "schema_version": 3,
     "solution": false,
     "task": false
    }
   },
   "outputs": [],
   "source": [
    "# Run this cell\n",
    "one_sample = can_seniors.sample(40, random_state=12345)\n",
    "one_sample"
   ]
  },
  {
   "cell_type": "code",
   "execution_count": null,
   "metadata": {
    "deletable": false,
    "editable": false,
    "nbgrader": {
     "cell_type": "code",
     "checksum": "bb65312fd841597bc6cf7c912c0c436a",
     "grade": false,
     "grade_id": "cell-1468c684182d5b3b",
     "locked": true,
     "schema_version": 3,
     "solution": false,
     "task": false
    }
   },
   "outputs": [],
   "source": [
    "# Run this cell\n",
    "one_sample_dist = alt.Chart(one_sample, title=\"Distribution of one sample\").mark_bar().encode(\n",
    "    x=alt.X(\"age\")\n",
    "        .title(\"Age (years)\")\n",
    "        .bin(maxbins=30),\n",
    "    y=\"count()\"\n",
    ")\n",
    "one_sample_dist"
   ]
  },
  {
   "cell_type": "markdown",
   "metadata": {
    "deletable": false,
    "editable": false,
    "nbgrader": {
     "cell_type": "markdown",
     "checksum": "d2b8dbe1add87bc2a28074fb65ec08e0",
     "grade": false,
     "grade_id": "cell-aaf103d19b9fba0d",
     "locked": true,
     "schema_version": 3,
     "solution": false,
     "task": false
    }
   },
   "source": [
    "**Question 1.5** \n",
    "<br> {points: 1}\n",
    "\n",
    "Calculate the mean age (our point estimate of interest) from the random sample you just took (`one_sample`). Assign the result to a variable called `one_sample_estimates`."
   ]
  },
  {
   "cell_type": "code",
   "execution_count": null,
   "metadata": {
    "deletable": false,
    "nbgrader": {
     "cell_type": "code",
     "checksum": "f28104353e674cf54cd5099322303646",
     "grade": false,
     "grade_id": "cell-443a7d1dcaf35e9a",
     "locked": false,
     "schema_version": 3,
     "solution": true,
     "task": false
    }
   },
   "outputs": [],
   "source": [
    "# your code here\n",
    "raise NotImplementedError\n",
    "one_sample_estimates"
   ]
  },
  {
   "cell_type": "code",
   "execution_count": null,
   "metadata": {
    "deletable": false,
    "editable": false,
    "nbgrader": {
     "cell_type": "code",
     "checksum": "e6e36e603af6336ab2f8e2c531fc96cb",
     "grade": true,
     "grade_id": "cell-8e9e83895e2967dd",
     "locked": true,
     "points": 1,
     "schema_version": 3,
     "solution": false,
     "task": false
    }
   },
   "outputs": [],
   "source": [
    "from hashlib import sha1\n",
    "assert sha1(str(type(one_sample_estimates.shape[0])).encode(\"utf-8\")+b\"69c8b\").hexdigest() == \"c30e61e32612d6d19ccaad8b9637cf86f83e27bc\", \"type of one_sample_estimates.shape[0] is not int. Please make sure it is int and not np.int64, etc. You can cast your value into an int using int()\"\n",
    "assert sha1(str(one_sample_estimates.shape[0]).encode(\"utf-8\")+b\"69c8b\").hexdigest() == \"e87449233cd75cb168767604f951fc421e71a4d8\", \"value of one_sample_estimates.shape[0] is not correct\"\n",
    "\n",
    "assert sha1(str(type(round(one_sample_estimates, 2))).encode(\"utf-8\")+b\"69c8c\").hexdigest() == \"b53adc0fef715dc44cc86e74f179b68917951689\", \"type of round(one_sample_estimates, 2) is not correct\"\n",
    "assert sha1(str(round(one_sample_estimates, 2)).encode(\"utf-8\")+b\"69c8c\").hexdigest() == \"d3ff7ac06a48e06bf831b0d91503a15ed76408e8\", \"value of round(one_sample_estimates, 2) is not correct\"\n",
    "\n",
    "print('Success!')"
   ]
  },
  {
   "cell_type": "markdown",
   "metadata": {
    "deletable": false,
    "editable": false,
    "nbgrader": {
     "cell_type": "markdown",
     "checksum": "61586671f8e28198caa1f4ebf885cc74",
     "grade": false,
     "grade_id": "cell-5575d82939196fc9",
     "locked": true,
     "schema_version": 3,
     "solution": false,
     "task": false
    }
   },
   "source": [
    "**Question 1.6** \n",
    "<br> {points: 1}\n",
    "\n",
    "To generate a single bootstrap sample in Python, we can use the `sample` method with `frac=1` to indicate that the bootstrap sample size is the same as the original sample. In contrast to when we created a sampling distribution from a population, we will set `replace=True` to ensure we don't end up with the exact same sample each time when perfroming the bootstrap.\n",
    "\n",
    "Use `sample` to take a single bootstrap sample from the sample you drew from the population. Use 4321 as the `random_state` and name this bootstrap sample `boot1`."
   ]
  },
  {
   "cell_type": "code",
   "execution_count": null,
   "metadata": {
    "deletable": false,
    "nbgrader": {
     "cell_type": "code",
     "checksum": "8b7b9cbb599a436317f9e8d58395cf41",
     "grade": false,
     "grade_id": "cell-239c20c4566f1f3c",
     "locked": false,
     "schema_version": 3,
     "solution": true,
     "task": false
    }
   },
   "outputs": [],
   "source": [
    "# ___ = one_sample.___(frac=___, replace=___, random_state=4321)\n",
    "\n",
    "# your code here\n",
    "raise NotImplementedError\n",
    "boot1"
   ]
  },
  {
   "cell_type": "code",
   "execution_count": null,
   "metadata": {
    "deletable": false,
    "editable": false,
    "nbgrader": {
     "cell_type": "code",
     "checksum": "b5f2f784513793c5f80790cefc49068b",
     "grade": true,
     "grade_id": "cell-af716b8959aee1ac",
     "locked": true,
     "points": 1,
     "schema_version": 3,
     "solution": false,
     "task": false
    }
   },
   "outputs": [],
   "source": [
    "from hashlib import sha1\n",
    "assert sha1(str(type(\"\".join(boot1.columns))).encode(\"utf-8\")+b\"24280\").hexdigest() == \"55590431376ea711d4ae8f61bbd4634cb6ff1871\", \"type of \\\"\\\".join(boot1.columns) is not str. \\\"\\\".join(boot1.columns) should be an str\"\n",
    "assert sha1(str(len(\"\".join(boot1.columns))).encode(\"utf-8\")+b\"24280\").hexdigest() == \"47b8c7df4101c80d6bb728cc2ca67a78f0d45771\", \"length of \\\"\\\".join(boot1.columns) is not correct\"\n",
    "assert sha1(str(\"\".join(boot1.columns).lower()).encode(\"utf-8\")+b\"24280\").hexdigest() == \"99c1df075799c51842dc7d34265671b3366c9082\", \"value of \\\"\\\".join(boot1.columns) is not correct\"\n",
    "assert sha1(str(\"\".join(boot1.columns)).encode(\"utf-8\")+b\"24280\").hexdigest() == \"99c1df075799c51842dc7d34265671b3366c9082\", \"correct string value of \\\"\\\".join(boot1.columns) but incorrect case of letters\"\n",
    "\n",
    "assert sha1(str(type(boot1.shape[0])).encode(\"utf-8\")+b\"24281\").hexdigest() == \"c13151ae770ac15e1ed75c3a07067276a9a4e5ef\", \"type of boot1.shape[0] is not int. Please make sure it is int and not np.int64, etc. You can cast your value into an int using int()\"\n",
    "assert sha1(str(boot1.shape[0]).encode(\"utf-8\")+b\"24281\").hexdigest() == \"5f88d6b14c734e049fface3670735f90b2dfa3b9\", \"value of boot1.shape[0] is not correct\"\n",
    "\n",
    "assert sha1(str(type(round(sum(boot1.age), 2))).encode(\"utf-8\")+b\"24282\").hexdigest() == \"0f2f563a8ab32ebe98425aadd14d54c6097fd209\", \"type of round(sum(boot1.age), 2) is not float. Please make sure it is float and not np.float64, etc. You can cast your value into a float using float()\"\n",
    "assert sha1(str(round(round(sum(boot1.age), 2), 2)).encode(\"utf-8\")+b\"24282\").hexdigest() == \"f84e22734002b1c6441526997f3d1c4ad1bc105e\", \"value of round(sum(boot1.age), 2) is not correct (rounded to 2 decimal places)\"\n",
    "\n",
    "assert sha1(str(type(sum(range(boot1.shape[0])))).encode(\"utf-8\")+b\"24283\").hexdigest() == \"1e626cc484c7c45152505e3cbb32a45dad72d8d7\", \"type of sum(range(boot1.shape[0])) is not int. Please make sure it is int and not np.int64, etc. You can cast your value into an int using int()\"\n",
    "assert sha1(str(sum(range(boot1.shape[0]))).encode(\"utf-8\")+b\"24283\").hexdigest() == \"304a9eb714b650a38f762e0eebdb9f0cda120d4a\", \"value of sum(range(boot1.shape[0])) is not correct\"\n",
    "\n",
    "print('Success!')"
   ]
  },
  {
   "cell_type": "markdown",
   "metadata": {
    "deletable": false,
    "editable": false,
    "nbgrader": {
     "cell_type": "markdown",
     "checksum": "6b31a0ff4438ccff63a746d6d0600cb2",
     "grade": false,
     "grade_id": "cell-7760b102574e0887",
     "locked": true,
     "schema_version": 3,
     "solution": false,
     "task": false
    }
   },
   "source": [
    "**Question 1.7** Multiple choice\n",
    "<br> {points: 1}\n",
    "\n",
    "Why do we change `replace` to `TRUE`?\n",
    "\n",
    "A. Taking a bootstrap sample involves drawing observations from the original population without replacement\n",
    "\n",
    "B. Taking a bootstrap sample involves drawing observations from the original population with replacement\n",
    "\n",
    "C. Taking a bootstrap sample involves drawing observations from the original sample without replacement\n",
    "\n",
    "D. Taking a bootstrap sample involves drawing observations from the original sample with replacement\n",
    "\n",
    "*Assign your answer to an object called `answer1_7`. Your answer should be an uppercase letter and is surrounded by quotes (e.g. `\"F\"`).*"
   ]
  },
  {
   "cell_type": "code",
   "execution_count": null,
   "metadata": {
    "deletable": false,
    "nbgrader": {
     "cell_type": "code",
     "checksum": "c9a0b9c0c32e57ee03fed8db30f605cd",
     "grade": false,
     "grade_id": "cell-ba91c2de68609fe7",
     "locked": false,
     "schema_version": 3,
     "solution": true,
     "task": false
    }
   },
   "outputs": [],
   "source": [
    "# your code here\n",
    "raise NotImplementedError"
   ]
  },
  {
   "cell_type": "code",
   "execution_count": null,
   "metadata": {
    "deletable": false,
    "editable": false,
    "nbgrader": {
     "cell_type": "code",
     "checksum": "5ff78ace2d87384478c04a7f04789875",
     "grade": true,
     "grade_id": "cell-1b79e9b905b70215",
     "locked": true,
     "points": 1,
     "schema_version": 3,
     "solution": false,
     "task": false
    }
   },
   "outputs": [],
   "source": [
    "from hashlib import sha1\n",
    "assert sha1(str(type(answer1_7)).encode(\"utf-8\")+b\"522a\").hexdigest() == \"09043d02fa40b8de2026c66f3a769c0f2134511d\", \"type of answer1_7 is not str. answer1_7 should be an str\"\n",
    "assert sha1(str(len(answer1_7)).encode(\"utf-8\")+b\"522a\").hexdigest() == \"55dde6885df787c3468219416d60cf5ad2e955e5\", \"length of answer1_7 is not correct\"\n",
    "assert sha1(str(answer1_7.lower()).encode(\"utf-8\")+b\"522a\").hexdigest() == \"1f974b80e79a76217cf5e02f8c44938902cf954c\", \"value of answer1_7 is not correct\"\n",
    "assert sha1(str(answer1_7).encode(\"utf-8\")+b\"522a\").hexdigest() == \"1e2453c20b80aaf43373782b1d42f49d2d4bf97a\", \"correct string value of answer1_7 but incorrect case of letters\"\n",
    "\n",
    "print('Success!')"
   ]
  },
  {
   "cell_type": "markdown",
   "metadata": {
    "deletable": false,
    "editable": false,
    "nbgrader": {
     "cell_type": "markdown",
     "checksum": "fa0e2f824c4681092e7cb0541d7c9650",
     "grade": false,
     "grade_id": "cell-93ea2b7d26e0e137",
     "locked": true,
     "schema_version": 3,
     "solution": false,
     "task": false
    }
   },
   "source": [
    "**Question 1.8** \n",
    "<br> {points: 1}\n",
    "\n",
    "Visualize the distribution of the bootstrap sample you just took (`boot1`). Set `maxbins=30`, name the plot `boot1_dist`, and give the plot and the x-axis a descriptive title."
   ]
  },
  {
   "cell_type": "code",
   "execution_count": null,
   "metadata": {
    "deletable": false,
    "nbgrader": {
     "cell_type": "code",
     "checksum": "84c2d8fb78a780441b5146d6c17ca260",
     "grade": false,
     "grade_id": "cell-389271affd1fc5af",
     "locked": false,
     "schema_version": 3,
     "solution": true,
     "task": false
    }
   },
   "outputs": [],
   "source": [
    "# your code here\n",
    "raise NotImplementedError\n",
    "boot1_dist"
   ]
  },
  {
   "cell_type": "code",
   "execution_count": null,
   "metadata": {
    "deletable": false,
    "editable": false,
    "nbgrader": {
     "cell_type": "code",
     "checksum": "cf915b13d16fbb0b09e67a777eca4642",
     "grade": true,
     "grade_id": "cell-3b7b4b4c4cc4971e",
     "locked": true,
     "points": 1,
     "schema_version": 3,
     "solution": false,
     "task": false
    }
   },
   "outputs": [],
   "source": [
    "from hashlib import sha1\n",
    "assert sha1(str(type(boot1_dist.encoding.x['shorthand'])).encode(\"utf-8\")+b\"63385\").hexdigest() == \"a3e95260e4b84484531fb67f918a3d91f1b437da\", \"type of boot1_dist.encoding.x['shorthand'] is not str. boot1_dist.encoding.x['shorthand'] should be an str\"\n",
    "assert sha1(str(len(boot1_dist.encoding.x['shorthand'])).encode(\"utf-8\")+b\"63385\").hexdigest() == \"cf4ad25d4e56232b52eb2b8fa6fea0976723b228\", \"length of boot1_dist.encoding.x['shorthand'] is not correct\"\n",
    "assert sha1(str(boot1_dist.encoding.x['shorthand'].lower()).encode(\"utf-8\")+b\"63385\").hexdigest() == \"b620a126677d8cce956a94ede4a79d4b840ceaa2\", \"value of boot1_dist.encoding.x['shorthand'] is not correct\"\n",
    "assert sha1(str(boot1_dist.encoding.x['shorthand']).encode(\"utf-8\")+b\"63385\").hexdigest() == \"b620a126677d8cce956a94ede4a79d4b840ceaa2\", \"correct string value of boot1_dist.encoding.x['shorthand'] but incorrect case of letters\"\n",
    "\n",
    "assert sha1(str(type(boot1_dist.encoding.y['shorthand'])).encode(\"utf-8\")+b\"63386\").hexdigest() == \"501858feb6e97df0ec4b800f3dd4458e68fa42bb\", \"type of boot1_dist.encoding.y['shorthand'] is not str. boot1_dist.encoding.y['shorthand'] should be an str\"\n",
    "assert sha1(str(len(boot1_dist.encoding.y['shorthand'])).encode(\"utf-8\")+b\"63386\").hexdigest() == \"1f9ebde3b2e1fd53b2100fa12ef507f6f4bbbb31\", \"length of boot1_dist.encoding.y['shorthand'] is not correct\"\n",
    "assert sha1(str(boot1_dist.encoding.y['shorthand'].lower()).encode(\"utf-8\")+b\"63386\").hexdigest() == \"862fbfd915802dcac92e7eed80fd701e9f56c406\", \"value of boot1_dist.encoding.y['shorthand'] is not correct\"\n",
    "assert sha1(str(boot1_dist.encoding.y['shorthand']).encode(\"utf-8\")+b\"63386\").hexdigest() == \"862fbfd915802dcac92e7eed80fd701e9f56c406\", \"correct string value of boot1_dist.encoding.y['shorthand'] but incorrect case of letters\"\n",
    "\n",
    "assert sha1(str(type(boot1_dist.mark)).encode(\"utf-8\")+b\"63387\").hexdigest() == \"e34bde974fa6d8fbf139facc182257ef7c308299\", \"type of boot1_dist.mark is not str. boot1_dist.mark should be an str\"\n",
    "assert sha1(str(len(boot1_dist.mark)).encode(\"utf-8\")+b\"63387\").hexdigest() == \"90035ab0026133e11530bf28218c083fae3cf7c7\", \"length of boot1_dist.mark is not correct\"\n",
    "assert sha1(str(boot1_dist.mark.lower()).encode(\"utf-8\")+b\"63387\").hexdigest() == \"0054fa843eff40960817aeb555dfa1d19d1a6ee2\", \"value of boot1_dist.mark is not correct\"\n",
    "assert sha1(str(boot1_dist.mark).encode(\"utf-8\")+b\"63387\").hexdigest() == \"0054fa843eff40960817aeb555dfa1d19d1a6ee2\", \"correct string value of boot1_dist.mark but incorrect case of letters\"\n",
    "\n",
    "assert sha1(str(type(boot1_dist.data.shape[0])).encode(\"utf-8\")+b\"63388\").hexdigest() == \"f2971f93317f47222c9ac882f7b3ade86f5795a9\", \"type of boot1_dist.data.shape[0] is not int. Please make sure it is int and not np.int64, etc. You can cast your value into an int using int()\"\n",
    "assert sha1(str(boot1_dist.data.shape[0]).encode(\"utf-8\")+b\"63388\").hexdigest() == \"89b20ac9fd99155d7e4fd4357117ec7a18b8c72d\", \"value of boot1_dist.data.shape[0] is not correct\"\n",
    "\n",
    "assert sha1(str(type(round(boot1_dist.data.sum(), 2))).encode(\"utf-8\")+b\"63389\").hexdigest() == \"ae038b97e8b8d13ba6f85d765b1af861933a8e43\", \"type of round(boot1_dist.data.sum(), 2) is not correct\"\n",
    "assert sha1(str(round(boot1_dist.data.sum(), 2)).encode(\"utf-8\")+b\"63389\").hexdigest() == \"b005978a399740fa17acf86c47d2f245ad77bb81\", \"value of round(boot1_dist.data.sum(), 2) is not correct\"\n",
    "\n",
    "assert sha1(str(type(isinstance(boot1_dist.encoding.x['title'], str))).encode(\"utf-8\")+b\"6338a\").hexdigest() == \"24e01786aaa798d27799f3ecda326b69fd3ee2f6\", \"type of isinstance(boot1_dist.encoding.x['title'], str) is not bool. isinstance(boot1_dist.encoding.x['title'], str) should be a bool\"\n",
    "assert sha1(str(isinstance(boot1_dist.encoding.x['title'], str)).encode(\"utf-8\")+b\"6338a\").hexdigest() == \"ff2f0a6065f536133d05b33c5c45ead89e17ab8a\", \"boolean value of isinstance(boot1_dist.encoding.x['title'], str) is not correct\"\n",
    "\n",
    "assert sha1(str(type(isinstance(boot1_dist.encoding.y['title'], str))).encode(\"utf-8\")+b\"6338b\").hexdigest() == \"42e63268ea461c85058342f79a636e33d5a4c2cd\", \"type of isinstance(boot1_dist.encoding.y['title'], str) is not bool. isinstance(boot1_dist.encoding.y['title'], str) should be a bool\"\n",
    "assert sha1(str(isinstance(boot1_dist.encoding.y['title'], str)).encode(\"utf-8\")+b\"6338b\").hexdigest() == \"a801ed71a6625b89ff12387f5ec1b8095afc8cd4\", \"boolean value of isinstance(boot1_dist.encoding.y['title'], str) is not correct\"\n",
    "\n",
    "assert sha1(str(type(boot1_dist.title is not None)).encode(\"utf-8\")+b\"6338c\").hexdigest() == \"94ddd5b1c93ff666ae074f84c49e72174deef330\", \"type of boot1_dist.title is not None is not bool. boot1_dist.title is not None should be a bool\"\n",
    "assert sha1(str(boot1_dist.title is not None).encode(\"utf-8\")+b\"6338c\").hexdigest() == \"f67953963f638d9bda3870e8ef52d2a37a4d7567\", \"boolean value of boot1_dist.title is not None is not correct\"\n",
    "\n",
    "print('Success!')"
   ]
  },
  {
   "cell_type": "markdown",
   "metadata": {
    "deletable": false,
    "editable": false,
    "nbgrader": {
     "cell_type": "markdown",
     "checksum": "c691f81e9028349e41fe15d875710e53",
     "grade": false,
     "grade_id": "cell-84ed6755705e4eee",
     "locked": true,
     "schema_version": 3,
     "solution": false,
     "task": false
    }
   },
   "source": [
    "Let's now compare our bootstrap sample to the original random sample that we drew from the population:"
   ]
  },
  {
   "cell_type": "code",
   "execution_count": null,
   "metadata": {
    "deletable": false,
    "editable": false,
    "nbgrader": {
     "cell_type": "code",
     "checksum": "b01b59bf18198c2762c01fd12f2171fe",
     "grade": false,
     "grade_id": "cell-afd154dc6f0c3e39",
     "locked": true,
     "schema_version": 3,
     "solution": false,
     "task": false
    }
   },
   "outputs": [],
   "source": [
    "# Run this code cell\n",
    "one_sample_dist & boot1_dist"
   ]
  },
  {
   "cell_type": "markdown",
   "metadata": {
    "deletable": false,
    "editable": false,
    "nbgrader": {
     "cell_type": "markdown",
     "checksum": "47f3c85bb420a44735999d664286e765",
     "grade": false,
     "grade_id": "cell-fa64eb1f98987c99",
     "locked": true,
     "schema_version": 3,
     "solution": false,
     "task": false
    }
   },
   "source": [
    "Earlier we calculate the mean of our original sample to be about 79.6 years. What is the mean of our bootstrap sample?"
   ]
  },
  {
   "cell_type": "code",
   "execution_count": null,
   "metadata": {
    "deletable": false,
    "editable": false,
    "nbgrader": {
     "cell_type": "code",
     "checksum": "d1a518041a9676d4efadd284fb7ae750",
     "grade": false,
     "grade_id": "cell-77b326e307cf1cf6",
     "locked": true,
     "schema_version": 3,
     "solution": false,
     "task": false
    }
   },
   "outputs": [],
   "source": [
    "# Run this cell\n",
    "boot1.mean()"
   ]
  },
  {
   "cell_type": "markdown",
   "metadata": {
    "deletable": false,
    "editable": false,
    "nbgrader": {
     "cell_type": "markdown",
     "checksum": "a6a6f6afe4ff8ff4ffe61ab9de6af88b",
     "grade": false,
     "grade_id": "cell-c33dd58cb3c572af",
     "locked": true,
     "schema_version": 3,
     "solution": false,
     "task": false
    }
   },
   "source": [
    "We see that original sample distrbution and the bootstrap sample distribution are of similar shape, but not identical. They also have different means. The difference of the frequency of the values in the bootstrap sample (and the difference of the value of the mean) comes from sampling from the original sample with replacement. Why sample with replacement? If we didn't we would end up with the original sample again. What we are trying to do with bootstrapping is to mimic drawing another sample from the population, without actually doing that. \n",
    "\n",
    "Why are we doing this? As mentioned earlier, in real life we typically only have one sample and thus we cannot create a sampling distribution that we can use to tell us about how we might expect our point estimate to behave if we took another sample. What we can do instead, is to use our sample as an estimate of our population, and sample from that with replacement (i.e., bootstrapping) many times to create many bootstrap samples. We can then calculate point estimates for each bootstrap sample and create a bootstrap distribution of our point estimates and use this as a proxy for a sampling distribution. We can finally use this bootstrap distribution of our point estimates to suggest how we might expected our point estimate to behave if we took another sample."
   ]
  },
  {
   "cell_type": "markdown",
   "metadata": {
    "deletable": false,
    "editable": false,
    "nbgrader": {
     "cell_type": "markdown",
     "checksum": "b8d7a4a6b1c82473537c091b8fedb5dc",
     "grade": false,
     "grade_id": "cell-f5b5d685693ffe7f",
     "locked": true,
     "schema_version": 3,
     "solution": false,
     "task": false
    }
   },
   "source": [
    "**Question 1.9** \n",
    "<br> {points: 1}\n",
    "\n",
    "What do 6 different bootstrap samples look like? Use the `sample` method to create a single data frame with 6 bootstrap samples drawn from the original sample we drew from the population, `one_sample`. Assign a new column called `replicate` to mark the sample number `(from 0 to 5)`. Name the data frame `boot6`.\n",
    "\n",
    "Set the seed as `1234`."
   ]
  },
  {
   "cell_type": "code",
   "execution_count": null,
   "metadata": {
    "deletable": false,
    "nbgrader": {
     "cell_type": "code",
     "checksum": "cb7b5423e04df399831cce7bc0ce223d",
     "grade": false,
     "grade_id": "cell-6607b2dec92a2913",
     "locked": false,
     "schema_version": 3,
     "solution": true,
     "task": false
    }
   },
   "outputs": [],
   "source": [
    "np.random.seed(1234)  # DO NOT CHANGE!\n",
    "# your code here\n",
    "raise NotImplementedError\n",
    "boot6"
   ]
  },
  {
   "cell_type": "code",
   "execution_count": null,
   "metadata": {
    "deletable": false,
    "editable": false,
    "nbgrader": {
     "cell_type": "code",
     "checksum": "747da8ad3d457e23ffa9db7c3991139d",
     "grade": true,
     "grade_id": "cell-e57717e45df34f9a",
     "locked": true,
     "points": 1,
     "schema_version": 3,
     "solution": false,
     "task": false
    }
   },
   "outputs": [],
   "source": [
    "from hashlib import sha1\n",
    "assert sha1(str(type(\"\".join(boot6.columns))).encode(\"utf-8\")+b\"d186b\").hexdigest() == \"c66e716694966b3c4e846b3d2821c0d99316f8ae\", \"type of \\\"\\\".join(boot6.columns) is not str. \\\"\\\".join(boot6.columns) should be an str\"\n",
    "assert sha1(str(len(\"\".join(boot6.columns))).encode(\"utf-8\")+b\"d186b\").hexdigest() == \"1e2e4c8f5b4b5040d60b12497bf4b67722bc43fb\", \"length of \\\"\\\".join(boot6.columns) is not correct\"\n",
    "assert sha1(str(\"\".join(boot6.columns).lower()).encode(\"utf-8\")+b\"d186b\").hexdigest() == \"2d27e032defa29039882d70b9edd9647a3987a0a\", \"value of \\\"\\\".join(boot6.columns) is not correct\"\n",
    "assert sha1(str(\"\".join(boot6.columns)).encode(\"utf-8\")+b\"d186b\").hexdigest() == \"2d27e032defa29039882d70b9edd9647a3987a0a\", \"correct string value of \\\"\\\".join(boot6.columns) but incorrect case of letters\"\n",
    "\n",
    "assert sha1(str(type(boot6.shape[0])).encode(\"utf-8\")+b\"d186c\").hexdigest() == \"aaa03f354dbb97b4ab50c9556b86d480ef2827a5\", \"type of boot6.shape[0] is not int. Please make sure it is int and not np.int64, etc. You can cast your value into an int using int()\"\n",
    "assert sha1(str(boot6.shape[0]).encode(\"utf-8\")+b\"d186c\").hexdigest() == \"41414090be6bc4fb76f32d3091c547b25da2d125\", \"value of boot6.shape[0] is not correct\"\n",
    "\n",
    "assert sha1(str(type(round(sum(boot6.age), 2))).encode(\"utf-8\")+b\"d186d\").hexdigest() == \"f05313692b21aaedd6d49c690539e87e6f175d67\", \"type of round(sum(boot6.age), 2) is not float. Please make sure it is float and not np.float64, etc. You can cast your value into a float using float()\"\n",
    "assert sha1(str(round(round(sum(boot6.age), 2), 2)).encode(\"utf-8\")+b\"d186d\").hexdigest() == \"3ba4225f57f7dde91ea8d235584bfef8b64248cd\", \"value of round(sum(boot6.age), 2) is not correct (rounded to 2 decimal places)\"\n",
    "\n",
    "assert sha1(str(type(sum(boot6.replicate.unique()))).encode(\"utf-8\")+b\"d186e\").hexdigest() == \"129f0dbb09ab5cb525a334571083e48b4f6ec8b7\", \"type of sum(boot6.replicate.unique()) is not correct\"\n",
    "assert sha1(str(sum(boot6.replicate.unique())).encode(\"utf-8\")+b\"d186e\").hexdigest() == \"2bbddc28354d82deeb0fcadcc5a12cd159efdb53\", \"value of sum(boot6.replicate.unique()) is not correct\"\n",
    "\n",
    "print('Success!')"
   ]
  },
  {
   "cell_type": "markdown",
   "metadata": {
    "deletable": false,
    "editable": false,
    "nbgrader": {
     "cell_type": "markdown",
     "checksum": "b33288b01f7520dc423fb584d6d1e9b3",
     "grade": false,
     "grade_id": "cell-558b102565ddf4ae",
     "locked": true,
     "schema_version": 3,
     "solution": false,
     "task": false
    }
   },
   "source": [
    "**Question 2.0** \n",
    "<br> {points: 1}\n",
    "\n",
    "Now visualize the six bootstrap sample distributions from `boot6` by faceting the `replicate` column. To facilitate comparing the distribution, lay the plots out in a single column and set each plot's height to 100. Name the plot object `boot6_dist` and give the plot and the x-axis a descriptive title."
   ]
  },
  {
   "cell_type": "code",
   "execution_count": null,
   "metadata": {
    "deletable": false,
    "nbgrader": {
     "cell_type": "code",
     "checksum": "cb0b5f3da32ed11650b02330ec2a2655",
     "grade": false,
     "grade_id": "cell-d1d36a4806776c6c",
     "locked": false,
     "schema_version": 3,
     "solution": true,
     "task": false
    }
   },
   "outputs": [],
   "source": [
    "# ___ = alt.Chart(___, title=___).___().___(\n",
    "#     x=alt.X(___)\n",
    "#         .title(___)\n",
    "#         .___(maxbins=30),\n",
    "#     y=___\n",
    "# ).___(\n",
    "#     ___=100\n",
    "# ).facet(\n",
    "#     \"replicate:N\",\n",
    "#     ___=1\n",
    "# )\n",
    "\n",
    "# your code here\n",
    "raise NotImplementedError\n",
    "boot6_dist"
   ]
  },
  {
   "cell_type": "code",
   "execution_count": null,
   "metadata": {
    "deletable": false,
    "editable": false,
    "nbgrader": {
     "cell_type": "code",
     "checksum": "a985e4d66ca5b6117bba8676f1c7c64f",
     "grade": true,
     "grade_id": "cell-38e6f9e544c5ce17",
     "locked": true,
     "points": 1,
     "schema_version": 3,
     "solution": false,
     "task": false
    }
   },
   "outputs": [],
   "source": [
    "from hashlib import sha1\n",
    "assert sha1(str(type(boot6_dist.facet['shorthand'])).encode(\"utf-8\")+b\"e35d0\").hexdigest() == \"aa0db619f76fbb9a5aca61561b8c2489a3ebcf3d\", \"type of boot6_dist.facet['shorthand'] is not str. boot6_dist.facet['shorthand'] should be an str\"\n",
    "assert sha1(str(len(boot6_dist.facet['shorthand'])).encode(\"utf-8\")+b\"e35d0\").hexdigest() == \"19ea3c32582fe29025f3080b55a592570e21d1c0\", \"length of boot6_dist.facet['shorthand'] is not correct\"\n",
    "assert sha1(str(boot6_dist.facet['shorthand'].lower()).encode(\"utf-8\")+b\"e35d0\").hexdigest() == \"8ad2e00dc33d9a60e013d867366bfba1de560012\", \"value of boot6_dist.facet['shorthand'] is not correct\"\n",
    "assert sha1(str(boot6_dist.facet['shorthand']).encode(\"utf-8\")+b\"e35d0\").hexdigest() == \"7529d751d8018e2f42c4cbc72c2f744526ccbc63\", \"correct string value of boot6_dist.facet['shorthand'] but incorrect case of letters\"\n",
    "\n",
    "assert sha1(str(type(boot6_dist.data.shape[0])).encode(\"utf-8\")+b\"e35d1\").hexdigest() == \"fdd9be6136ee9728e6276365aa197f71429990d4\", \"type of boot6_dist.data.shape[0] is not int. Please make sure it is int and not np.int64, etc. You can cast your value into an int using int()\"\n",
    "assert sha1(str(boot6_dist.data.shape[0]).encode(\"utf-8\")+b\"e35d1\").hexdigest() == \"565bf1da03c8279168e6f52a83d9e2c8347019d7\", \"value of boot6_dist.data.shape[0] is not correct\"\n",
    "\n",
    "assert sha1(str(type(boot6_dist.title is not None)).encode(\"utf-8\")+b\"e35d2\").hexdigest() == \"1ad6f5ede7a7c1bbc761b78285ba793ac5703960\", \"type of boot6_dist.title is not None is not bool. boot6_dist.title is not None should be a bool\"\n",
    "assert sha1(str(boot6_dist.title is not None).encode(\"utf-8\")+b\"e35d2\").hexdigest() == \"a9fde62d062b7e400afdd70bf763993b655daf8d\", \"boolean value of boot6_dist.title is not None is not correct\"\n",
    "\n",
    "print('Success!')"
   ]
  },
  {
   "cell_type": "markdown",
   "metadata": {
    "deletable": false,
    "editable": false,
    "nbgrader": {
     "cell_type": "markdown",
     "checksum": "f61883754408e8b6af7f9c50916d6f83",
     "grade": false,
     "grade_id": "cell-8c48012a69725219",
     "locked": true,
     "schema_version": 3,
     "solution": false,
     "task": false
    }
   },
   "source": [
    "**Question 2.1** \n",
    "<br> {points: 1}\n",
    "\n",
    "Calculate the mean of these 6 bootstrap samples using `groupby` and `mean` and save result into a column called `mean_age`. Use `reset_index` so that the resulting data frame has two columns: `replicate` and `mean`. Name the data frame `boot6_means`."
   ]
  },
  {
   "cell_type": "code",
   "execution_count": null,
   "metadata": {
    "deletable": false,
    "nbgrader": {
     "cell_type": "code",
     "checksum": "91b998b77bcff788c3cf6af2a828a988",
     "grade": false,
     "grade_id": "cell-b9692d80805c724a",
     "locked": false,
     "schema_version": 3,
     "solution": true,
     "task": false
    }
   },
   "outputs": [],
   "source": [
    "# your code here\n",
    "raise NotImplementedError\n",
    "boot6_means"
   ]
  },
  {
   "cell_type": "code",
   "execution_count": null,
   "metadata": {
    "deletable": false,
    "editable": false,
    "nbgrader": {
     "cell_type": "code",
     "checksum": "61be9473f496c622b6422d76f52b6bd1",
     "grade": true,
     "grade_id": "cell-f2cfe994fece602d",
     "locked": true,
     "points": 1,
     "schema_version": 3,
     "solution": false,
     "task": false
    }
   },
   "outputs": [],
   "source": [
    "from hashlib import sha1\n",
    "assert sha1(str(type(boot6_means.shape[0])).encode(\"utf-8\")+b\"73023\").hexdigest() == \"9d19c51bc8f65c5908bdb0b6870b7285541554e5\", \"type of boot6_means.shape[0] is not int. Please make sure it is int and not np.int64, etc. You can cast your value into an int using int()\"\n",
    "assert sha1(str(boot6_means.shape[0]).encode(\"utf-8\")+b\"73023\").hexdigest() == \"278fe6de8faec074e3c026cb72e413cff0d151ee\", \"value of boot6_means.shape[0] is not correct\"\n",
    "\n",
    "assert sha1(str(type(boot6_means.shape[1])).encode(\"utf-8\")+b\"73024\").hexdigest() == \"c6a459d5828555136341ae280afa7e1e9e80177a\", \"type of boot6_means.shape[1] is not int. Please make sure it is int and not np.int64, etc. You can cast your value into an int using int()\"\n",
    "assert sha1(str(boot6_means.shape[1]).encode(\"utf-8\")+b\"73024\").hexdigest() == \"3134ca1dfeddd089418b0733dcc1139566267350\", \"value of boot6_means.shape[1] is not correct\"\n",
    "\n",
    "assert sha1(str(type(\"\".join(boot6_means.columns))).encode(\"utf-8\")+b\"73025\").hexdigest() == \"e353e77ead3aa4f022e22895c6c549d28e108c78\", \"type of \\\"\\\".join(boot6_means.columns) is not str. \\\"\\\".join(boot6_means.columns) should be an str\"\n",
    "assert sha1(str(len(\"\".join(boot6_means.columns))).encode(\"utf-8\")+b\"73025\").hexdigest() == \"dbf33657acbc16d757f7d2b76f65144e2fbfa3ba\", \"length of \\\"\\\".join(boot6_means.columns) is not correct\"\n",
    "assert sha1(str(\"\".join(boot6_means.columns).lower()).encode(\"utf-8\")+b\"73025\").hexdigest() == \"2e7ac26b36b574313a3b93460a758738108cb1ea\", \"value of \\\"\\\".join(boot6_means.columns) is not correct\"\n",
    "assert sha1(str(\"\".join(boot6_means.columns)).encode(\"utf-8\")+b\"73025\").hexdigest() == \"2e7ac26b36b574313a3b93460a758738108cb1ea\", \"correct string value of \\\"\\\".join(boot6_means.columns) but incorrect case of letters\"\n",
    "\n",
    "assert sha1(str(type(round(boot6_means[\"mean_age\"][0], 2))).encode(\"utf-8\")+b\"73026\").hexdigest() == \"b7903f93e4cd3fa764f1e9b2cc7f21478f111915\", \"type of round(boot6_means[\\\"mean_age\\\"][0], 2) is not correct\"\n",
    "assert sha1(str(round(boot6_means[\"mean_age\"][0], 2)).encode(\"utf-8\")+b\"73026\").hexdigest() == \"e9e00d82ae4ed7e2fb5810c2d5122be998e65b8b\", \"value of round(boot6_means[\\\"mean_age\\\"][0], 2) is not correct\"\n",
    "\n",
    "print('Success!')"
   ]
  },
  {
   "cell_type": "markdown",
   "metadata": {
    "deletable": false,
    "editable": false,
    "nbgrader": {
     "cell_type": "markdown",
     "checksum": "5671e699c3e31960d4415c123aaf7e31",
     "grade": false,
     "grade_id": "cell-00909da5655c00a5",
     "locked": true,
     "schema_version": 3,
     "solution": false,
     "task": false
    }
   },
   "source": [
    "**Question 2.2** \n",
    "<br> {points: 1}\n",
    "\n",
    "Let's now take 1000 bootstrap samples from the original sample we drew from the population (`one_sample`). As previously, assign a new column called `replicate` to mark the sample number `(from 0 to 999)`. Name the data frame `boot1000`.\n",
    "\n",
    "Set the seed as `1234`."
   ]
  },
  {
   "cell_type": "code",
   "execution_count": null,
   "metadata": {
    "deletable": false,
    "nbgrader": {
     "cell_type": "code",
     "checksum": "9c086d48ca156ab2e246c0d47b45f47c",
     "grade": false,
     "grade_id": "cell-cd89ca0c9e456e1b",
     "locked": false,
     "schema_version": 3,
     "solution": true,
     "task": false
    }
   },
   "outputs": [],
   "source": [
    "np.random.seed(1234)  # DO NOT CHANGE!\n",
    "# your code here\n",
    "raise NotImplementedError\n",
    "boot1000"
   ]
  },
  {
   "cell_type": "code",
   "execution_count": null,
   "metadata": {
    "deletable": false,
    "editable": false,
    "nbgrader": {
     "cell_type": "code",
     "checksum": "20467d849eb49dac0d9699fe0f66c67d",
     "grade": true,
     "grade_id": "cell-343d880b6f801822",
     "locked": true,
     "points": 1,
     "schema_version": 3,
     "solution": false,
     "task": false
    }
   },
   "outputs": [],
   "source": [
    "from hashlib import sha1\n",
    "assert sha1(str(type(\"\".join(boot1000.columns))).encode(\"utf-8\")+b\"41f48\").hexdigest() == \"30e911154526115bed5bef52608efd2959454b63\", \"type of \\\"\\\".join(boot1000.columns) is not str. \\\"\\\".join(boot1000.columns) should be an str\"\n",
    "assert sha1(str(len(\"\".join(boot1000.columns))).encode(\"utf-8\")+b\"41f48\").hexdigest() == \"978635d09c1ae3a0fd532abe6d7a1b639e45dbd1\", \"length of \\\"\\\".join(boot1000.columns) is not correct\"\n",
    "assert sha1(str(\"\".join(boot1000.columns).lower()).encode(\"utf-8\")+b\"41f48\").hexdigest() == \"3ef1ded059ea2449c2e5d8501b7942de8b37abef\", \"value of \\\"\\\".join(boot1000.columns) is not correct\"\n",
    "assert sha1(str(\"\".join(boot1000.columns)).encode(\"utf-8\")+b\"41f48\").hexdigest() == \"3ef1ded059ea2449c2e5d8501b7942de8b37abef\", \"correct string value of \\\"\\\".join(boot1000.columns) but incorrect case of letters\"\n",
    "\n",
    "assert sha1(str(type(boot1000.shape[0])).encode(\"utf-8\")+b\"41f49\").hexdigest() == \"6b780d3098fd088a47b9b26d7f141b6d741eabdc\", \"type of boot1000.shape[0] is not int. Please make sure it is int and not np.int64, etc. You can cast your value into an int using int()\"\n",
    "assert sha1(str(boot1000.shape[0]).encode(\"utf-8\")+b\"41f49\").hexdigest() == \"838b6347958d0f04bcf9e60e3a645e645c0887e2\", \"value of boot1000.shape[0] is not correct\"\n",
    "\n",
    "assert sha1(str(type(round(sum(boot1000.age), 2))).encode(\"utf-8\")+b\"41f4a\").hexdigest() == \"7d4178bef1d0a81e59537916330273ce4916b16a\", \"type of round(sum(boot1000.age), 2) is not float. Please make sure it is float and not np.float64, etc. You can cast your value into a float using float()\"\n",
    "assert sha1(str(round(round(sum(boot1000.age), 2), 2)).encode(\"utf-8\")+b\"41f4a\").hexdigest() == \"167286448a2b72ca3022938614371a420ed6d5db\", \"value of round(sum(boot1000.age), 2) is not correct (rounded to 2 decimal places)\"\n",
    "\n",
    "assert sha1(str(type(sum([x for x in range(boot1000.shape[0])]))).encode(\"utf-8\")+b\"41f4b\").hexdigest() == \"ad8eb29ef94faf6dadde0c54b376d6a037d21c3c\", \"type of sum([x for x in range(boot1000.shape[0])]) is not int. Please make sure it is int and not np.int64, etc. You can cast your value into an int using int()\"\n",
    "assert sha1(str(sum([x for x in range(boot1000.shape[0])])).encode(\"utf-8\")+b\"41f4b\").hexdigest() == \"351f3f100b04f4bf16033919d2737782acc2c881\", \"value of sum([x for x in range(boot1000.shape[0])]) is not correct\"\n",
    "\n",
    "print('Success!')"
   ]
  },
  {
   "cell_type": "markdown",
   "metadata": {
    "deletable": false,
    "editable": false,
    "nbgrader": {
     "cell_type": "markdown",
     "checksum": "2b364a8e7e238bbd65754aec737f6305",
     "grade": false,
     "grade_id": "cell-85473b296ef14d1c",
     "locked": true,
     "schema_version": 3,
     "solution": false,
     "task": false
    }
   },
   "source": [
    "**Question 2.3** \n",
    "<br> {points: 1}\n",
    "Calculate the mean of these 1000 bootstrap samples using `groupby` and `mean` and save result into a column called `mean_age`. Use `reset_index` so that the resulting data frame has two columns: `replicate` and `mean`. Name the data frame `boot1000_means`."
   ]
  },
  {
   "cell_type": "code",
   "execution_count": null,
   "metadata": {
    "deletable": false,
    "nbgrader": {
     "cell_type": "code",
     "checksum": "dcc7c1d09050e40ec4b40ee6316c5b02",
     "grade": false,
     "grade_id": "cell-51d5f2afbb677369",
     "locked": false,
     "schema_version": 3,
     "solution": true,
     "task": false
    }
   },
   "outputs": [],
   "source": [
    "# your code here\n",
    "raise NotImplementedError\n",
    "boot1000_means"
   ]
  },
  {
   "cell_type": "code",
   "execution_count": null,
   "metadata": {
    "deletable": false,
    "editable": false,
    "nbgrader": {
     "cell_type": "code",
     "checksum": "0460d4f1a5f4c4313a0188d60c515c54",
     "grade": true,
     "grade_id": "cell-bcf16788d57cef52",
     "locked": true,
     "points": 1,
     "schema_version": 3,
     "solution": false,
     "task": false
    }
   },
   "outputs": [],
   "source": [
    "from hashlib import sha1\n",
    "assert sha1(str(type(boot1000_means.shape[0])).encode(\"utf-8\")+b\"7957\").hexdigest() == \"2444a08e453a8d0ef3e793ef78b67b9f2a72516f\", \"type of boot1000_means.shape[0] is not int. Please make sure it is int and not np.int64, etc. You can cast your value into an int using int()\"\n",
    "assert sha1(str(boot1000_means.shape[0]).encode(\"utf-8\")+b\"7957\").hexdigest() == \"e67c2733866e4be1795641a07170facf85eabd0a\", \"value of boot1000_means.shape[0] is not correct\"\n",
    "\n",
    "assert sha1(str(type(boot1000_means.shape[1])).encode(\"utf-8\")+b\"7958\").hexdigest() == \"6a49f74b0b13f81c862cfe564418c3106153c354\", \"type of boot1000_means.shape[1] is not int. Please make sure it is int and not np.int64, etc. You can cast your value into an int using int()\"\n",
    "assert sha1(str(boot1000_means.shape[1]).encode(\"utf-8\")+b\"7958\").hexdigest() == \"478ff26dd09529f6afa9d303012b071cc70194e7\", \"value of boot1000_means.shape[1] is not correct\"\n",
    "\n",
    "assert sha1(str(type(\"\".join(boot1000_means.columns))).encode(\"utf-8\")+b\"7959\").hexdigest() == \"1769e84bf0e8d4e3d25c4600be5ef67a737dfeff\", \"type of \\\"\\\".join(boot1000_means.columns) is not str. \\\"\\\".join(boot1000_means.columns) should be an str\"\n",
    "assert sha1(str(len(\"\".join(boot1000_means.columns))).encode(\"utf-8\")+b\"7959\").hexdigest() == \"e96dc9e7cedac3781fd27040cfd2d1fc05722d39\", \"length of \\\"\\\".join(boot1000_means.columns) is not correct\"\n",
    "assert sha1(str(\"\".join(boot1000_means.columns).lower()).encode(\"utf-8\")+b\"7959\").hexdigest() == \"f8695aa8ea0528dbb7e46625922bf92ece2b375d\", \"value of \\\"\\\".join(boot1000_means.columns) is not correct\"\n",
    "assert sha1(str(\"\".join(boot1000_means.columns)).encode(\"utf-8\")+b\"7959\").hexdigest() == \"f8695aa8ea0528dbb7e46625922bf92ece2b375d\", \"correct string value of \\\"\\\".join(boot1000_means.columns) but incorrect case of letters\"\n",
    "\n",
    "assert sha1(str(type(round(boot1000_means[\"mean_age\"][0], 2))).encode(\"utf-8\")+b\"795a\").hexdigest() == \"51da9319f9acd286c8a97beea5c2ce4d72881baf\", \"type of round(boot1000_means[\\\"mean_age\\\"][0], 2) is not correct\"\n",
    "assert sha1(str(round(boot1000_means[\"mean_age\"][0], 2)).encode(\"utf-8\")+b\"795a\").hexdigest() == \"ec117372e2fbda896fcd538e55953e2d6e185b8a\", \"value of round(boot1000_means[\\\"mean_age\\\"][0], 2) is not correct\"\n",
    "\n",
    "print('Success!')"
   ]
  },
  {
   "cell_type": "markdown",
   "metadata": {
    "deletable": false,
    "editable": false,
    "nbgrader": {
     "cell_type": "markdown",
     "checksum": "311960132a0be6d70c880f89e552da80",
     "grade": false,
     "grade_id": "cell-75683253957d46bd",
     "locked": true,
     "schema_version": 3,
     "solution": false,
     "task": false
    }
   },
   "source": [
    "**Question 2.4** \n",
    "<br> {points: 1}\n",
    "\n",
    "Visualize the distribution of the bootstrap sample point estimates (`boot1000_means`) you just calculated by plotting a histogram with `maxbins=30`. Name the plot `boot_est_dist` and give the plot and the x-axis a descriptive title."
   ]
  },
  {
   "cell_type": "code",
   "execution_count": null,
   "metadata": {
    "deletable": false,
    "nbgrader": {
     "cell_type": "code",
     "checksum": "d7c4aceb49dfc4585495e7454c8ced30",
     "grade": false,
     "grade_id": "cell-21f093a752cc5d8c",
     "locked": false,
     "schema_version": 3,
     "solution": true,
     "task": false
    }
   },
   "outputs": [],
   "source": [
    "# your code here\n",
    "raise NotImplementedError\n",
    "boot_est_dist"
   ]
  },
  {
   "cell_type": "code",
   "execution_count": null,
   "metadata": {
    "deletable": false,
    "editable": false,
    "nbgrader": {
     "cell_type": "code",
     "checksum": "a351dd525326542bd5a16cf06b00277b",
     "grade": true,
     "grade_id": "cell-13a4f6d6fbcd8cbb",
     "locked": true,
     "points": 1,
     "schema_version": 3,
     "solution": false,
     "task": false
    }
   },
   "outputs": [],
   "source": [
    "from hashlib import sha1\n",
    "assert sha1(str(type(boot_est_dist.encoding.x['shorthand'])).encode(\"utf-8\")+b\"b9f2c\").hexdigest() == \"ab79bd2d49ffccda37f0cf3a891326e234c76b4a\", \"type of boot_est_dist.encoding.x['shorthand'] is not str. boot_est_dist.encoding.x['shorthand'] should be an str\"\n",
    "assert sha1(str(len(boot_est_dist.encoding.x['shorthand'])).encode(\"utf-8\")+b\"b9f2c\").hexdigest() == \"d186425dced3a795d7060e9a5d3432bd9e086a55\", \"length of boot_est_dist.encoding.x['shorthand'] is not correct\"\n",
    "assert sha1(str(boot_est_dist.encoding.x['shorthand'].lower()).encode(\"utf-8\")+b\"b9f2c\").hexdigest() == \"ad9d0e089e4e5b351ec75d717aeab1cb32553d38\", \"value of boot_est_dist.encoding.x['shorthand'] is not correct\"\n",
    "assert sha1(str(boot_est_dist.encoding.x['shorthand']).encode(\"utf-8\")+b\"b9f2c\").hexdigest() == \"ad9d0e089e4e5b351ec75d717aeab1cb32553d38\", \"correct string value of boot_est_dist.encoding.x['shorthand'] but incorrect case of letters\"\n",
    "\n",
    "assert sha1(str(type(boot_est_dist.mark)).encode(\"utf-8\")+b\"b9f2d\").hexdigest() == \"f70eec7566f007bbb16aa7586ace375a80c15949\", \"type of boot_est_dist.mark is not str. boot_est_dist.mark should be an str\"\n",
    "assert sha1(str(len(boot_est_dist.mark)).encode(\"utf-8\")+b\"b9f2d\").hexdigest() == \"886ab00c979232d77c229b50f520b1456456f57b\", \"length of boot_est_dist.mark is not correct\"\n",
    "assert sha1(str(boot_est_dist.mark.lower()).encode(\"utf-8\")+b\"b9f2d\").hexdigest() == \"3b4f12686ed5d9ecde5bbfe70bd9cf957ef9fd6f\", \"value of boot_est_dist.mark is not correct\"\n",
    "assert sha1(str(boot_est_dist.mark).encode(\"utf-8\")+b\"b9f2d\").hexdigest() == \"3b4f12686ed5d9ecde5bbfe70bd9cf957ef9fd6f\", \"correct string value of boot_est_dist.mark but incorrect case of letters\"\n",
    "\n",
    "assert sha1(str(type(boot_est_dist.data.shape[0])).encode(\"utf-8\")+b\"b9f2e\").hexdigest() == \"37d2f1b531ee22409045f0ffb0e7d91e5668affa\", \"type of boot_est_dist.data.shape[0] is not int. Please make sure it is int and not np.int64, etc. You can cast your value into an int using int()\"\n",
    "assert sha1(str(boot_est_dist.data.shape[0]).encode(\"utf-8\")+b\"b9f2e\").hexdigest() == \"49b0f0d946c10cf63913936fbc5007d0c408412d\", \"value of boot_est_dist.data.shape[0] is not correct\"\n",
    "\n",
    "assert sha1(str(type(round(sum(boot_est_dist.data.sum()), 2))).encode(\"utf-8\")+b\"b9f2f\").hexdigest() == \"15bb3ad9a8d42b79a07075cf2641a8c41e1266ba\", \"type of round(sum(boot_est_dist.data.sum()), 2) is not float. Please make sure it is float and not np.float64, etc. You can cast your value into a float using float()\"\n",
    "assert sha1(str(round(round(sum(boot_est_dist.data.sum()), 2), 2)).encode(\"utf-8\")+b\"b9f2f\").hexdigest() == \"75507c48493d5f0cde3e5f13b52d22f41f8043a1\", \"value of round(sum(boot_est_dist.data.sum()), 2) is not correct (rounded to 2 decimal places)\"\n",
    "\n",
    "assert sha1(str(type(isinstance(boot_est_dist.encoding.x['title'], str))).encode(\"utf-8\")+b\"b9f30\").hexdigest() == \"a68cb7ab77d71d9171d5293d7e60c54df9ff7f31\", \"type of isinstance(boot_est_dist.encoding.x['title'], str) is not bool. isinstance(boot_est_dist.encoding.x['title'], str) should be a bool\"\n",
    "assert sha1(str(isinstance(boot_est_dist.encoding.x['title'], str)).encode(\"utf-8\")+b\"b9f30\").hexdigest() == \"92bf5fd4d9bc037f471cd43e7d29a0789df82be6\", \"boolean value of isinstance(boot_est_dist.encoding.x['title'], str) is not correct\"\n",
    "\n",
    "assert sha1(str(type(boot_est_dist.title is not None)).encode(\"utf-8\")+b\"b9f31\").hexdigest() == \"58a0dfd4c910eda87e3daeca9d23a35af4a8190f\", \"type of boot_est_dist.title is not None is not bool. boot_est_dist.title is not None should be a bool\"\n",
    "assert sha1(str(boot_est_dist.title is not None).encode(\"utf-8\")+b\"b9f31\").hexdigest() == \"e2690d26cde731e4d626749e8056064a66c8d8ed\", \"boolean value of boot_est_dist.title is not None is not correct\"\n",
    "\n",
    "print('Success!')"
   ]
  },
  {
   "cell_type": "markdown",
   "metadata": {
    "deletable": false,
    "editable": false,
    "nbgrader": {
     "cell_type": "markdown",
     "checksum": "ab6b0dcf3ba1c60460060f2f68a0dc2e",
     "grade": false,
     "grade_id": "cell-16863c73a0e61db1",
     "locked": true,
     "schema_version": 3,
     "solution": false,
     "task": false
    }
   },
   "source": [
    "How does the bootstrap distribution above compare to the sampling distribution? Let's visualize them side by side:"
   ]
  },
  {
   "cell_type": "code",
   "execution_count": null,
   "metadata": {
    "deletable": false,
    "editable": false,
    "nbgrader": {
     "cell_type": "code",
     "checksum": "5b344d5534b7b7b5ac9cf3a699883f46",
     "grade": false,
     "grade_id": "cell-a86b551fb1260606",
     "locked": true,
     "schema_version": 3,
     "solution": false,
     "task": false
    }
   },
   "outputs": [],
   "source": [
    "# Run this cell\n",
    "\n",
    "# Create sampling distribution from the population\n",
    "np.random.seed(4321)\n",
    "samples = pd.concat([\n",
    "    can_seniors.sample(40).assign(replicate=n)\n",
    "    for n in range(1000)\n",
    "])\n",
    "\n",
    "sample_estimates = (\n",
    "    samples.groupby(\"replicate\")\n",
    "    .mean()\n",
    "    .reset_index()\n",
    "    .rename(columns={\"age\": \"mean_age\"})\n",
    ")"
   ]
  },
  {
   "cell_type": "code",
   "execution_count": null,
   "metadata": {
    "deletable": false,
    "editable": false,
    "nbgrader": {
     "cell_type": "code",
     "checksum": "d68f12822b5d6097131fa4fd9f658d3f",
     "grade": false,
     "grade_id": "cell-a86b551fb126060d6",
     "locked": true,
     "schema_version": 3,
     "solution": false,
     "task": false
    }
   },
   "outputs": [],
   "source": [
    "# Visualize the sampling distribution\n",
    "sampling_dist = alt.Chart(\n",
    "    sample_estimates,\n",
    "    title=[\n",
    "        \"Sampling distribution\",\n",
    "        f'mean = {sample_estimates[\"mean_age\"].mean().round(1)}'\n",
    "    ]\n",
    ").mark_bar().encode(\n",
    "    x=alt.X(\"mean_age\")\n",
    "        .title(\"Sample mean age (years)\")\n",
    "        .bin(maxbins=30, extent=(72, 94)),\n",
    "    y=\"count()\"\n",
    ").properties(\n",
    "    height=150\n",
    ")\n",
    "\n",
    "# Plot both distribution\n",
    "boot_est_dist.encoding.x['bin']['extent'] = (72, 94)\n",
    "sampling_dist & boot_est_dist.properties(\n",
    "    height=150,\n",
    "    title=[\n",
    "        \"Bootstrap distribution\",\n",
    "        f'mean = {boot1000_means[\"mean_age\"].mean().round(1)}'\n",
    "    ]\n",
    ")"
   ]
  },
  {
   "cell_type": "markdown",
   "metadata": {
    "deletable": false,
    "editable": false,
    "nbgrader": {
     "cell_type": "markdown",
     "checksum": "a913f796caa5374e7ae4202485969829",
     "grade": false,
     "grade_id": "cell-2529f74ae181fd44",
     "locked": true,
     "schema_version": 3,
     "solution": false,
     "task": false
    }
   },
   "source": [
    "Reminder: the true population quantity we are trying to estimate, the population mean, is about 79 years. We know this because we created this population and calculated this value. In real life we wouldn't know this value."
   ]
  },
  {
   "cell_type": "markdown",
   "metadata": {
    "deletable": false,
    "editable": false,
    "nbgrader": {
     "cell_type": "markdown",
     "checksum": "1c4e3184a599f5341cb5e56a83fc2bf3",
     "grade": false,
     "grade_id": "cell-15147e6c224ccb72",
     "locked": true,
     "schema_version": 3,
     "solution": false,
     "task": false
    }
   },
   "source": [
    "**Question 2.5** True/False\n",
    "<br> {points: 1}\n",
    "\n",
    "The mean of the bootstrap distribution is the same value as the mean of the sampling distribution of the sample means. True or false?\n",
    "\n",
    "*Assign your answer to an object called `answer2_5`. Your answer should be a boolean. i.e. `True` or `False`.*"
   ]
  },
  {
   "cell_type": "code",
   "execution_count": null,
   "metadata": {
    "deletable": false,
    "nbgrader": {
     "cell_type": "code",
     "checksum": "361feba52b818934ec4c11328ddd8630",
     "grade": false,
     "grade_id": "cell-0e3ed3ca2495a0bc",
     "locked": false,
     "schema_version": 3,
     "solution": true,
     "task": false
    }
   },
   "outputs": [],
   "source": [
    "# your code here\n",
    "raise NotImplementedError"
   ]
  },
  {
   "cell_type": "code",
   "execution_count": null,
   "metadata": {
    "deletable": false,
    "editable": false,
    "nbgrader": {
     "cell_type": "code",
     "checksum": "c70dd20b809d10245396b68ac6ba1b52",
     "grade": true,
     "grade_id": "cell-3ea212ad593b9f57",
     "locked": true,
     "points": 1,
     "schema_version": 3,
     "solution": false,
     "task": false
    }
   },
   "outputs": [],
   "source": [
    "from hashlib import sha1\n",
    "assert sha1(str(type(answer2_5)).encode(\"utf-8\")+b\"5a0b0\").hexdigest() == \"026647203177d7a7984039bdbab86312c0fc1d32\", \"type of answer2_5 is not bool. answer2_5 should be a bool\"\n",
    "assert sha1(str(answer2_5).encode(\"utf-8\")+b\"5a0b0\").hexdigest() == \"b9b268bc4adcb2eeb8bf4825c0669675b9690848\", \"boolean value of answer2_5 is not correct\"\n",
    "\n",
    "print('Success!')"
   ]
  },
  {
   "cell_type": "markdown",
   "metadata": {
    "deletable": false,
    "editable": false,
    "nbgrader": {
     "cell_type": "markdown",
     "checksum": "36a16be1a9d202d096b583e4d1c8a6b6",
     "grade": false,
     "grade_id": "cell-8f170c7bb0c58227",
     "locked": true,
     "schema_version": 3,
     "solution": false,
     "task": false
    }
   },
   "source": [
    "**Question 2.6** True/False\n",
    "<br> {points: 1}\n",
    "\n",
    "The mean of the bootstrap distribution is not the same value as the mean of the sampling distribution because the bootstrap distribution was created from samples drawn from a single sample, whereas the sampling distribution was created from samples drawn from the population. True or false?\n",
    "\n",
    "*Assign your answer to an object called `answer2_6`. Your answer should be a boolean. i.e. `True` or `False`.*"
   ]
  },
  {
   "cell_type": "code",
   "execution_count": null,
   "metadata": {
    "deletable": false,
    "nbgrader": {
     "cell_type": "code",
     "checksum": "f5c5ee6c8148592a4abd673e7a34c1bf",
     "grade": false,
     "grade_id": "cell-230cf28d4590a63d",
     "locked": false,
     "schema_version": 3,
     "solution": true,
     "task": false
    }
   },
   "outputs": [],
   "source": [
    "# your code here\n",
    "raise NotImplementedError"
   ]
  },
  {
   "cell_type": "code",
   "execution_count": null,
   "metadata": {
    "deletable": false,
    "editable": false,
    "nbgrader": {
     "cell_type": "code",
     "checksum": "3e6c2dd082c1edbf6d59d17faf25bff6",
     "grade": true,
     "grade_id": "cell-b167494acba2816d",
     "locked": true,
     "points": 1,
     "schema_version": 3,
     "solution": false,
     "task": false
    }
   },
   "outputs": [],
   "source": [
    "from hashlib import sha1\n",
    "assert sha1(str(type(answer2_6)).encode(\"utf-8\")+b\"a6b5a\").hexdigest() == \"30bafad5c8de9dc987b96199c2fbe939c40a8929\", \"type of answer2_6 is not bool. answer2_6 should be a bool\"\n",
    "assert sha1(str(answer2_6).encode(\"utf-8\")+b\"a6b5a\").hexdigest() == \"d5ef3621ce8f1b3e87712c5902d9cd297bcbe106\", \"boolean value of answer2_6 is not correct\"\n",
    "\n",
    "print('Success!')"
   ]
  },
  {
   "cell_type": "markdown",
   "metadata": {
    "deletable": false,
    "editable": false,
    "nbgrader": {
     "cell_type": "markdown",
     "checksum": "b246e1122d1314010929999e97df9ab0",
     "grade": false,
     "grade_id": "cell-c569dabb88890bfc",
     "locked": true,
     "schema_version": 3,
     "solution": false,
     "task": false
    }
   },
   "source": [
    "**Question 2.7** True/False\n",
    "<br> {points: 1}\n",
    "\n",
    "The shape and spread (i.e. width) of the distribution of the bootstrap sample means is a poor approximation of the shape and spread of the sampling distribution of the sample means. True or false?\n",
    "\n",
    "*Assign your answer to an object called `answer2_7`. Your answer should be a boolean. i.e. `True` or `False`.*"
   ]
  },
  {
   "cell_type": "code",
   "execution_count": null,
   "metadata": {
    "deletable": false,
    "nbgrader": {
     "cell_type": "code",
     "checksum": "34f45cda41591164dc4e6557b14fc030",
     "grade": false,
     "grade_id": "cell-f82d46022821b073",
     "locked": false,
     "schema_version": 3,
     "solution": true,
     "task": false
    }
   },
   "outputs": [],
   "source": [
    "# your code here\n",
    "raise NotImplementedError"
   ]
  },
  {
   "cell_type": "code",
   "execution_count": null,
   "metadata": {
    "deletable": false,
    "editable": false,
    "nbgrader": {
     "cell_type": "code",
     "checksum": "71ecda644e05e436478c0f3bef5ab5de",
     "grade": true,
     "grade_id": "cell-2ab1350547ae451d",
     "locked": true,
     "points": 1,
     "schema_version": 3,
     "solution": false,
     "task": false
    }
   },
   "outputs": [],
   "source": [
    "from hashlib import sha1\n",
    "assert sha1(str(type(answer2_7)).encode(\"utf-8\")+b\"b2302\").hexdigest() == \"2381d296f979072b5564a751512bf6920070cec9\", \"type of answer2_7 is not bool. answer2_7 should be a bool\"\n",
    "assert sha1(str(answer2_7).encode(\"utf-8\")+b\"b2302\").hexdigest() == \"40cf75b2f70f37deade6d257813300f9b7efb5ff\", \"boolean value of answer2_7 is not correct\"\n",
    "\n",
    "print('Success!')"
   ]
  },
  {
   "cell_type": "markdown",
   "metadata": {
    "deletable": false,
    "editable": false,
    "nbgrader": {
     "cell_type": "markdown",
     "checksum": "8101b7b2097db5050f2c8b58c975ef53",
     "grade": false,
     "grade_id": "cell-8399b964d743f33c",
     "locked": true,
     "schema_version": 3,
     "solution": false,
     "task": false
    }
   },
   "source": [
    "**Question 2.8** True/False\n",
    "<br> {points: 1}\n",
    "\n",
    "In real life, where we only have one sample and cannot create a sampling distribution, the distribution of the bootstrap sample estimates (here means) can suggest how we might expect our point estimate to behave if we took another sample. True or false?\n",
    "\n",
    "*Assign your answer to an object called `answer2_8`. Your answer should be a boolean. i.e. `True` or `False`.*"
   ]
  },
  {
   "cell_type": "code",
   "execution_count": null,
   "metadata": {
    "deletable": false,
    "nbgrader": {
     "cell_type": "code",
     "checksum": "1a27c57aaadcd38d1347724ed72004f8",
     "grade": false,
     "grade_id": "cell-59cfd94899e457a7",
     "locked": false,
     "schema_version": 3,
     "solution": true,
     "task": false
    }
   },
   "outputs": [],
   "source": [
    "# your code here\n",
    "raise NotImplementedError"
   ]
  },
  {
   "cell_type": "code",
   "execution_count": null,
   "metadata": {
    "deletable": false,
    "editable": false,
    "nbgrader": {
     "cell_type": "code",
     "checksum": "c656f6422e9e3a1fdcbea3c361584d5e",
     "grade": true,
     "grade_id": "cell-4d2a0325f4fd2406",
     "locked": true,
     "points": 1,
     "schema_version": 3,
     "solution": false,
     "task": false
    }
   },
   "outputs": [],
   "source": [
    "from hashlib import sha1\n",
    "assert sha1(str(type(answer2_8)).encode(\"utf-8\")+b\"c802a\").hexdigest() == \"ef3850e80d567d000bfa05f54aa931341ae3efbd\", \"type of answer2_8 is not bool. answer2_8 should be a bool\"\n",
    "assert sha1(str(answer2_8).encode(\"utf-8\")+b\"c802a\").hexdigest() == \"08ecfbe3587dea76567e71f190483970d0b2ad7f\", \"boolean value of answer2_8 is not correct\"\n",
    "\n",
    "print('Success!')"
   ]
  },
  {
   "cell_type": "markdown",
   "metadata": {
    "deletable": false,
    "editable": false,
    "nbgrader": {
     "cell_type": "markdown",
     "checksum": "e1922c201ead42beb140513403972276",
     "grade": false,
     "grade_id": "cell-3af745f41b79a813",
     "locked": true,
     "schema_version": 3,
     "solution": false,
     "task": false
    }
   },
   "source": [
    "### Using the bootstrap distribution to calculate a plausible range for point estimates\n",
    "\n",
    "Once we have created a bootstrap distribution, we can use it to suggest a plausible range where we might expect the true population quantity to lie. One formal name for a commonly used plausible range is called a confidence interval. Confidence intervals can be set at different levels, an example of a commonly used level is 95%. When we report a point estimate with a 95% confidence interval as the plausible range, formally we are saying that if we repeated this process of building confidence intervals more times with more samples, we’d expect ~ 95% of them to contain the value of the population quantity.\n",
    "\n",
    "> How do you choose a level for a confidence interval? You have to consider the downstream application of your estimation and what the cost/consequence of an incorrect estimate would be. The higher the cost/consequence, the higher a confidence level you would want to use. You will learn more about this in later Statistics courses.\n",
    "\n",
    "To calculate an approximate 95% confidence interval using bootstrapping, we essentially order the values in our bootstrap distribution and then take the value at the 2.5th percentile as the lower bound of the plausible range, and the 97.5th percentile as the upper bound of the plausible range. "
   ]
  },
  {
   "cell_type": "code",
   "execution_count": null,
   "metadata": {
    "deletable": false,
    "editable": false,
    "nbgrader": {
     "cell_type": "code",
     "checksum": "bdbc007791e1f87fe97a94e313fb0633",
     "grade": false,
     "grade_id": "cell-4e8bd702d14d0973",
     "locked": true,
     "schema_version": 3,
     "solution": false,
     "task": false
    }
   },
   "outputs": [],
   "source": [
    "# Run this cell\n",
    "# A \"quantile\" is a at 100th of a percentile (similar to a proportion vs a percentage)\n",
    "boot1000_means[\"mean_age\"].quantile([0.025, 0.975])"
   ]
  },
  {
   "cell_type": "markdown",
   "metadata": {
    "deletable": false,
    "editable": false,
    "nbgrader": {
     "cell_type": "markdown",
     "checksum": "43aedf483265e87632ac48a7a8d93fb9",
     "grade": false,
     "grade_id": "cell-671ea52cb570ec80",
     "locked": true,
     "schema_version": 3,
     "solution": false,
     "task": false
    }
   },
   "source": [
    "Thus, to finish our estimation of the population quantity that we are trying to estimate, we would report the point estimate and the lower and upper bounds of our confidence interval. We would say something like this:\n",
    "\n",
    "Our sample mean age for Canadian seniors was measured to be 83.7 years, and we’re 95% \"confident\" that the true population mean for Canadian seniors is between 78.8 and 89.2. \n",
    "\n",
    "Here our 95% confidence interval does contain the true population mean for Canadian seniors, 79 years - pretty neat! However, in real life we would never be able to know this because we only have observations from a single sample, not the whole population."
   ]
  },
  {
   "cell_type": "markdown",
   "metadata": {
    "deletable": false,
    "editable": false,
    "nbgrader": {
     "cell_type": "markdown",
     "checksum": "1b0d85f0084376db3746016fb9f6bba4",
     "grade": false,
     "grade_id": "cell-9453844511483837",
     "locked": true,
     "schema_version": 3,
     "solution": false,
     "task": false
    }
   },
   "source": [
    "**Question 2.9** True/False\n",
    "<br> {points: 1}\n",
    "\n",
    "For any sample we take, if we use bootstrapping to calculate the 95% confidence intervals, the true population quantity we are trying to estimate would always fall within the lower and upper bounds of the confidence interval. True or false?\n",
    "\n",
    "*Assign your answer to an object called `answer2_9`. Your answer should be a boolean. i.e. `True` or `False`.*"
   ]
  },
  {
   "cell_type": "code",
   "execution_count": null,
   "metadata": {
    "deletable": false,
    "nbgrader": {
     "cell_type": "code",
     "checksum": "9b1b0ef7046e443eb9ddc1b4a1931b5d",
     "grade": false,
     "grade_id": "cell-91e462917a53edad",
     "locked": false,
     "schema_version": 3,
     "solution": true,
     "task": false
    }
   },
   "outputs": [],
   "source": [
    "# your code here\n",
    "raise NotImplementedError"
   ]
  },
  {
   "cell_type": "code",
   "execution_count": null,
   "metadata": {
    "deletable": false,
    "editable": false,
    "nbgrader": {
     "cell_type": "code",
     "checksum": "334b984bb6445a081a86ba4679f89c01",
     "grade": true,
     "grade_id": "cell-e0a24858ef65cea9",
     "locked": true,
     "points": 1,
     "schema_version": 3,
     "solution": false,
     "task": false
    }
   },
   "outputs": [],
   "source": [
    "from hashlib import sha1\n",
    "assert sha1(str(type(answer2_9)).encode(\"utf-8\")+b\"cd5e8\").hexdigest() == \"da9a1e53f210213fac53a062a3cfc88ae2c77c0e\", \"type of answer2_9 is not bool. answer2_9 should be a bool\"\n",
    "assert sha1(str(answer2_9).encode(\"utf-8\")+b\"cd5e8\").hexdigest() == \"8b0a4f42b333c5adb8ab96d37ab517e185281fe3\", \"boolean value of answer2_9 is not correct\"\n",
    "\n",
    "print('Success!')"
   ]
  }
 ],
 "metadata": {
  "jupytext": {
   "encoding": "# -*- coding: utf-8 -*-"
  },
  "kernelspec": {
   "display_name": "Python 3 (ipykernel)",
   "language": "python",
   "name": "python3"
  },
  "language_info": {
   "codemirror_mode": {
    "name": "ipython",
    "version": 3
   },
   "file_extension": ".py",
   "mimetype": "text/x-python",
   "name": "python",
   "nbconvert_exporter": "python",
   "pygments_lexer": "ipython3",
   "version": "3.11.9"
  }
 },
 "nbformat": 4,
 "nbformat_minor": 4
}
