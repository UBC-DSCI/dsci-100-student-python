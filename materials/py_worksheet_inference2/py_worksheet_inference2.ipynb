{
 "cells": [
  {
   "cell_type": "markdown",
   "metadata": {
    "deletable": false,
    "editable": false,
    "nbgrader": {
     "cell_type": "markdown",
     "checksum": "e97748a474a0df6ff260b7c277e15f8f",
     "grade": false,
     "grade_id": "cell-f863750069537ead",
     "locked": true,
     "schema_version": 3,
     "solution": false,
     "task": false
    }
   },
   "source": [
    "# Worksheet 12 - The Bootstrap\n",
    "\n",
    "We will cover 2 things today:\n",
    "\n",
    "1. [Estimation when you only have 1 sample (like in real life!)](#Estimation-with-only-one-sample)\n",
    "2. [Getting Python + Jupyter working for you outside of our course](#Getting-Python-+-Jupyter-working-for-you-outside-of-our-course)"
   ]
  },
  {
   "cell_type": "markdown",
   "metadata": {
    "deletable": false,
    "editable": false,
    "nbgrader": {
     "cell_type": "markdown",
     "checksum": "995269a8459b7e000acd249bb726f875",
     "grade": false,
     "grade_id": "cell-feeb551ce9229310",
     "locked": true,
     "schema_version": 3,
     "solution": false,
     "task": false
    }
   },
   "source": [
    "### Lecture and Tutorial Learning Goals:\n",
    "\n",
    "After completing this week's lecture and tutorial work, you will be able to:\n",
    "- Explain why we don't have a sampling distribution in practice/real life.\n",
    "- Define bootstrapping.\n",
    "- Use Python to create a bootstrap distribution to approximate a sampling distribution.\n",
    "- Contrast bootstrap and sampling distributions."
   ]
  },
  {
   "cell_type": "code",
   "execution_count": null,
   "metadata": {
    "deletable": false,
    "editable": false,
    "nbgrader": {
     "cell_type": "code",
     "checksum": "461c79d00eadf69a2120c04552157b51",
     "grade": false,
     "grade_id": "cell-55b5050a0a343a4f",
     "locked": true,
     "schema_version": 3,
     "solution": false,
     "task": false
    }
   },
   "outputs": [],
   "source": [
    "### Run this cell before continuing.\n",
    "import altair as alt\n",
    "import numpy as np\n",
    "import pandas as pd\n",
    "from sklearn.utils import resample\n",
    "\n",
    "alt.data_transformers.disable_max_rows()"
   ]
  },
  {
   "cell_type": "markdown",
   "metadata": {
    "deletable": false,
    "editable": false,
    "nbgrader": {
     "cell_type": "markdown",
     "checksum": "45827f1d33373e875656a0a097fbe1ef",
     "grade": false,
     "grade_id": "cell-b0098728d66708d2",
     "locked": true,
     "schema_version": 3,
     "solution": false,
     "task": false
    }
   },
   "source": [
    "**Question 1.1** True/False:\n",
    "<br> {points: 1}\n",
    "\n",
    "In real life, we typically take many samples from the population and create a sampling distribution when we perform estimation. True or false?\n",
    "\n",
    "*Assign your answer to an object called `answer1_1`. Your answer should be a boolean. i.e. `True` or `False`.*"
   ]
  },
  {
   "cell_type": "code",
   "execution_count": null,
   "metadata": {
    "deletable": false,
    "nbgrader": {
     "cell_type": "code",
     "checksum": "579b8b2a8396e609a0433b4d4864a97c",
     "grade": false,
     "grade_id": "cell-03cc711477e4baf7",
     "locked": false,
     "schema_version": 3,
     "solution": true,
     "task": false
    }
   },
   "outputs": [],
   "source": [
    "# your code here\n",
    "raise NotImplementedError"
   ]
  },
  {
   "cell_type": "code",
   "execution_count": null,
   "metadata": {
    "deletable": false,
    "editable": false,
    "max_height": 100,
    "nbgrader": {
     "cell_type": "code",
     "checksum": "35549e267a40f881dba5a61375228e83",
     "grade": true,
     "grade_id": "cell-e8aa24da1ef5f535",
     "locked": true,
     "points": 1,
     "schema_version": 3,
     "solution": false,
     "task": false
    }
   },
   "outputs": [],
   "source": [
    "from hashlib import sha1\n",
    "assert sha1(str(type(answer1_1)).encode(\"utf-8\")+b\"35e13fc434714847\").hexdigest() == \"d7b702950a8f5c3b75658bb704424882db1b4481\", \"type of answer1_1 is not bool. answer1_1 should be a bool\"\n",
    "assert sha1(str(answer1_1).encode(\"utf-8\")+b\"35e13fc434714847\").hexdigest() == \"d88a0f03113d63bfd811a037dd0e910c1d39addd\", \"boolean value of answer1_1 is not correct\"\n",
    "\n",
    "print('Success!')"
   ]
  },
  {
   "cell_type": "markdown",
   "metadata": {
    "deletable": false,
    "editable": false,
    "nbgrader": {
     "cell_type": "markdown",
     "checksum": "6b5ee7c7a0904f11e5b555c46bbf9b3d",
     "grade": false,
     "grade_id": "cell-05b19510ad97aeb3",
     "locked": true,
     "schema_version": 3,
     "solution": false,
     "task": false
    }
   },
   "source": [
    "**Question 1.2** Ordering\n",
    "<br> {points: 1}\n",
    "\n",
    "Correctly re-order the steps for creating a bootstrap sample from those listed below. \n",
    "\n",
    "1. record the observation's value\n",
    "2. repeat the above the same number of times as there are observations in the original sample \n",
    "3. return the observation to the original sample\n",
    "4. randomly draw an observation from the original sample (which was drawn from the population)\n",
    "\n",
    "Create your answer by reordering values below in the `answer1_2` vector with the correct order for the steps above for creating a bootstrap sample."
   ]
  },
  {
   "cell_type": "code",
   "execution_count": null,
   "metadata": {
    "deletable": false,
    "nbgrader": {
     "cell_type": "code",
     "checksum": "5524eabbbbec4190912c0d4962f5eebc",
     "grade": false,
     "grade_id": "cell-dbdb7facfc6bda43",
     "locked": false,
     "schema_version": 3,
     "solution": true,
     "task": false
    }
   },
   "outputs": [],
   "source": [
    "answer1_2 = [1, 2, 3, 4]  # reorder the values!\n",
    "# your code here\n",
    "raise NotImplementedError"
   ]
  },
  {
   "cell_type": "code",
   "execution_count": null,
   "metadata": {
    "deletable": false,
    "editable": false,
    "max_height": 100,
    "nbgrader": {
     "cell_type": "code",
     "checksum": "91e58a535a47274675b9b388cea8b158",
     "grade": true,
     "grade_id": "cell-8a257d7535ce46fe",
     "locked": true,
     "points": 1,
     "schema_version": 3,
     "solution": false,
     "task": false
    }
   },
   "outputs": [],
   "source": [
    "from hashlib import sha1\n",
    "assert sha1(str(type(\"\".join(map(str, answer1_2)))).encode(\"utf-8\")+b\"eabf544d426997ee\").hexdigest() == \"9d81ee77c601ca2af164965195c78e599ac8ee98\", \"type of \\\"\\\".join(map(str, answer1_2)) is not str. \\\"\\\".join(map(str, answer1_2)) should be an str\"\n",
    "assert sha1(str(len(\"\".join(map(str, answer1_2)))).encode(\"utf-8\")+b\"eabf544d426997ee\").hexdigest() == \"8402f2e7f79595acd8fcb248a648e4aade21eb5d\", \"length of \\\"\\\".join(map(str, answer1_2)) is not correct\"\n",
    "assert sha1(str(\"\".join(map(str, answer1_2)).lower()).encode(\"utf-8\")+b\"eabf544d426997ee\").hexdigest() == \"df0831d389c9f7abbd52f87ed4e09b86ea128efd\", \"value of \\\"\\\".join(map(str, answer1_2)) is not correct\"\n",
    "assert sha1(str(\"\".join(map(str, answer1_2))).encode(\"utf-8\")+b\"eabf544d426997ee\").hexdigest() == \"df0831d389c9f7abbd52f87ed4e09b86ea128efd\", \"correct string value of \\\"\\\".join(map(str, answer1_2)) but incorrect case of letters\"\n",
    "\n",
    "print('Success!')"
   ]
  },
  {
   "cell_type": "markdown",
   "metadata": {
    "deletable": false,
    "editable": false,
    "nbgrader": {
     "cell_type": "markdown",
     "checksum": "83650d768909b0827002ccde84fb13c7",
     "grade": false,
     "grade_id": "cell-a612ade2b8ba83fc",
     "locked": true,
     "schema_version": 3,
     "solution": false,
     "task": false
    }
   },
   "source": [
    "**Question 1.3** Multiple choice\n",
    "<br> {points: 1}\n",
    "\n",
    "From the list below, choose the correct description of a bootstrap distribution for a point estimate:\n",
    "\n",
    "A. a list of point estimates calculated from many samples drawn with replacement from the population\n",
    "\n",
    "B. a list of point estimates calculated from many samples drawn without replacement from the population\n",
    "\n",
    "C. a list of point estimates calculated from bootstrap samples drawn with replacement from a single sample (that was drawn from the population)\n",
    "\n",
    "D. a list of point estimates calculated from bootstrap samples drawn without replacement from a single sample (that was drawn from the population)\n",
    "\n",
    "*Assign your answer to an object called `answer1_3`. Your answer should be an uppercase letter and is surrounded by quotes. (e.g. `\"F\"`)*"
   ]
  },
  {
   "cell_type": "code",
   "execution_count": null,
   "metadata": {
    "deletable": false,
    "nbgrader": {
     "cell_type": "code",
     "checksum": "2b5e205723a8c4fce7632c22a3fd7766",
     "grade": false,
     "grade_id": "cell-fe8959defed4a439",
     "locked": false,
     "schema_version": 3,
     "solution": true,
     "task": false
    }
   },
   "outputs": [],
   "source": [
    "# your code here\n",
    "raise NotImplementedError"
   ]
  },
  {
   "cell_type": "code",
   "execution_count": null,
   "metadata": {
    "deletable": false,
    "editable": false,
    "max_height": 100,
    "nbgrader": {
     "cell_type": "code",
     "checksum": "43737af913b05ab54eb8fe5014935e78",
     "grade": true,
     "grade_id": "cell-59dbb6a427a133c5",
     "locked": true,
     "points": 1,
     "schema_version": 3,
     "solution": false,
     "task": false
    }
   },
   "outputs": [],
   "source": [
    "from hashlib import sha1\n",
    "assert sha1(str(type(answer1_3)).encode(\"utf-8\")+b\"09d0d7f98d3f9991\").hexdigest() == \"4316a3d60889a4b4232d7127220c2ec5b80aca6e\", \"type of answer1_3 is not str. answer1_3 should be an str\"\n",
    "assert sha1(str(len(answer1_3)).encode(\"utf-8\")+b\"09d0d7f98d3f9991\").hexdigest() == \"ad6a5d9ebd81ceed099d08ab06e69f0b569bfd8c\", \"length of answer1_3 is not correct\"\n",
    "assert sha1(str(answer1_3.lower()).encode(\"utf-8\")+b\"09d0d7f98d3f9991\").hexdigest() == \"4273550d2cf18e4a585b1dc51631352895d4f7da\", \"value of answer1_3 is not correct\"\n",
    "assert sha1(str(answer1_3).encode(\"utf-8\")+b\"09d0d7f98d3f9991\").hexdigest() == \"5be543b327cce9edecce35f2bc4d6cf0e73755ad\", \"correct string value of answer1_3 but incorrect case of letters\"\n",
    "\n",
    "print('Success!')"
   ]
  },
  {
   "cell_type": "markdown",
   "metadata": {
    "deletable": false,
    "editable": false,
    "nbgrader": {
     "cell_type": "markdown",
     "checksum": "027e1dbd9f5d9eae8827885d72bfcecb",
     "grade": false,
     "grade_id": "cell-1df2a1ba39ccc80d",
     "locked": true,
     "schema_version": 3,
     "solution": false,
     "task": false
    }
   },
   "source": [
    "**Question 1.4** Multiple choice\n",
    "<br> {points: 1}\n",
    "\n",
    "From the list below, choose the correct explanation of why, when performing estimation, we want to report a plausible **range** for the true population quantity we are trying to estimate along with the point estimate:\n",
    "\n",
    "A. The point estimate is our best guess at the true population quantity we are trying to estimate\n",
    "\n",
    "B. The point estimate will often not be the exact value of the true population quantity we are trying to estimate\n",
    "\n",
    "C. The value of a point estimate from one sample might very well be different than the value of a point estimate from another sample.\n",
    "\n",
    "D. B & C\n",
    "\n",
    "F. A & C\n",
    "\n",
    "E. None of the above\n",
    "\n",
    "*Assign your answer to an object called `answer1_4`. Your answer should be an uppercase letter and is surrounded by quotes (e.g. `\"F\"`).*"
   ]
  },
  {
   "cell_type": "code",
   "execution_count": null,
   "metadata": {
    "deletable": false,
    "nbgrader": {
     "cell_type": "code",
     "checksum": "2637a738c7a900e4e9c741a57d77c698",
     "grade": false,
     "grade_id": "cell-fd7e89338bbb71ca",
     "locked": false,
     "schema_version": 3,
     "solution": true,
     "task": false
    }
   },
   "outputs": [],
   "source": [
    "# your code here\n",
    "raise NotImplementedError"
   ]
  },
  {
   "cell_type": "code",
   "execution_count": null,
   "metadata": {
    "deletable": false,
    "editable": false,
    "max_height": 100,
    "nbgrader": {
     "cell_type": "code",
     "checksum": "e799aadffc4c8d59c8fe1860926c1d54",
     "grade": true,
     "grade_id": "cell-9448b3731eccbe8c",
     "locked": true,
     "points": 1,
     "schema_version": 3,
     "solution": false,
     "task": false
    }
   },
   "outputs": [],
   "source": [
    "from hashlib import sha1\n",
    "assert sha1(str(type(answer1_4)).encode(\"utf-8\")+b\"4335fa2975b463d2\").hexdigest() == \"abc6301e3c02eb9500c98a68c67ed110793905e2\", \"type of answer1_4 is not str. answer1_4 should be an str\"\n",
    "assert sha1(str(len(answer1_4)).encode(\"utf-8\")+b\"4335fa2975b463d2\").hexdigest() == \"79759c872df3e17f0eb58817321bb7141f428b7f\", \"length of answer1_4 is not correct\"\n",
    "assert sha1(str(answer1_4.lower()).encode(\"utf-8\")+b\"4335fa2975b463d2\").hexdigest() == \"79cbb64faa0cf14124a1d75c66c8e9f82587ff9e\", \"value of answer1_4 is not correct\"\n",
    "assert sha1(str(answer1_4).encode(\"utf-8\")+b\"4335fa2975b463d2\").hexdigest() == \"23dbf5624f5c93e847d7f5842c773dc761055c59\", \"correct string value of answer1_4 but incorrect case of letters\"\n",
    "\n",
    "print('Success!')"
   ]
  },
  {
   "cell_type": "markdown",
   "metadata": {
    "deletable": false,
    "editable": false,
    "nbgrader": {
     "cell_type": "markdown",
     "checksum": "0a40a5c35842025d17e27bb17bb691e8",
     "grade": false,
     "grade_id": "cell-76363f7f1f56807e",
     "locked": true,
     "schema_version": 3,
     "solution": false,
     "task": false
    }
   },
   "source": [
    "###  Continuing with our virtual population of Canadian seniors from last worksheet\n",
    "\n",
    "Here we re-create the virtual population (ages of all Canadian seniors) we used in the last worksheet. It was bounded by realistic values ($\\geq$ 65 and $\\leq$ 118):"
   ]
  },
  {
   "cell_type": "code",
   "execution_count": null,
   "metadata": {
    "deletable": false,
    "editable": false,
    "nbgrader": {
     "cell_type": "code",
     "checksum": "e1d73f6fce208904dc8f1d4113a26c2f",
     "grade": false,
     "grade_id": "cell-522aafd1e9430ef3",
     "locked": true,
     "schema_version": 3,
     "solution": false,
     "task": false
    }
   },
   "outputs": [],
   "source": [
    "# run this cell to simulate a finite population\n",
    "np.random.seed(4321)\n",
    "can_seniors = pd.DataFrame({\"age\": (np.random.exponential(1 / 0.1, 2000000)) ** 2 + 65})\n",
    "can_seniors = can_seniors.query(\"65<=age<=118\")\n",
    "can_seniors.head()"
   ]
  },
  {
   "cell_type": "markdown",
   "metadata": {
    "deletable": false,
    "editable": false,
    "nbgrader": {
     "cell_type": "markdown",
     "checksum": "5561245d433c1e817a99ae2a8ba5d19c",
     "grade": false,
     "grade_id": "cell-557951d5cb618c2c",
     "locked": true,
     "schema_version": 3,
     "solution": false,
     "task": false
    }
   },
   "source": [
    "Let's remind ourselves of what this population looks like:"
   ]
  },
  {
   "cell_type": "code",
   "execution_count": null,
   "metadata": {
    "deletable": false,
    "editable": false,
    "nbgrader": {
     "cell_type": "code",
     "checksum": "5cc17c4ac3928103a48f02d8bf17c0de",
     "grade": false,
     "grade_id": "cell-ac4865a9c4709bbb",
     "locked": true,
     "schema_version": 3,
     "solution": false,
     "task": false
    }
   },
   "outputs": [],
   "source": [
    "# run this cell\n",
    "pop_dist = (\n",
    "    alt.Chart(can_seniors, title=\"Population distribution\")\n",
    "    .mark_bar()\n",
    "    .encode(x=alt.X(\"age:Q\", title=\"Age (years)\", bin=alt.Bin(maxbins=30)), y=\"count()\")\n",
    "    .properties(width=400, height=400)\n",
    "    .configure_title(fontSize=20)\n",
    "    .configure_axis(labelFontSize=18, titleFontSize=15)\n",
    ")\n",
    "pop_dist"
   ]
  },
  {
   "cell_type": "markdown",
   "metadata": {
    "deletable": false,
    "editable": false,
    "nbgrader": {
     "cell_type": "markdown",
     "checksum": "80ca92fd78203ba5c6755adb306bb512",
     "grade": false,
     "grade_id": "cell-f2e798c845edc3ee",
     "locked": true,
     "schema_version": 3,
     "solution": false,
     "task": false
    }
   },
   "source": [
    "### Estimate the mean age of Canadian Seniors\n",
    "\n",
    "Let's say we are interested in estimating the mean age of Canadian Seniors. Given that we have the population (we created it) we could just calculate the mean age from this population data. However in real life, we usually only have one small-ish sample from the population. Also, from our experimentation with sampling distributions, we know that different random samples will give us different point estimates. We also know from these experiments that the point estimates from different random samples will mostly be close to the true population quanitity we are trying to estimate, and how close depends on the sample size.\n",
    "\n",
    "What about in real life though, when we only have one sample? Can we say how close? Or at least give some plausible range of where we would expect the population quanitity we are trying to estimate to fall? Yes! We can do this using a method called bootstrapping! Let's explore how to create a bootstrap distribution from a single sample using Python and then we will discuss how the bootstrap distribution relates to the sampling distribution, and what it can tell us about the true population quantity we are trying to estimate."
   ]
  },
  {
   "cell_type": "markdown",
   "metadata": {
    "deletable": false,
    "editable": false,
    "nbgrader": {
     "cell_type": "markdown",
     "checksum": "5c79b5dab23b2d6c7cf9cf3d3f3ab343",
     "grade": false,
     "grade_id": "cell-9282c2797da1931b",
     "locked": true,
     "schema_version": 3,
     "solution": false,
     "task": false
    }
   },
   "source": [
    "Let's draw a single sample of size 40 from the population and visualize it:"
   ]
  },
  {
   "cell_type": "code",
   "execution_count": null,
   "metadata": {
    "deletable": false,
    "editable": false,
    "nbgrader": {
     "cell_type": "code",
     "checksum": "cf0eba0398199321e83febf9a07d0d19",
     "grade": false,
     "grade_id": "cell-01de9069dec4f4e5",
     "locked": true,
     "schema_version": 3,
     "solution": false,
     "task": false
    }
   },
   "outputs": [],
   "source": [
    "# run this cell\n",
    "one_sample = can_seniors.sample(40, random_state=12345)\n",
    "one_sample.head()"
   ]
  },
  {
   "cell_type": "code",
   "execution_count": null,
   "metadata": {
    "deletable": false,
    "editable": false,
    "nbgrader": {
     "cell_type": "code",
     "checksum": "285f5ba1053884574510058842a5a011",
     "grade": false,
     "grade_id": "cell-1468c684182d5b3b",
     "locked": true,
     "schema_version": 3,
     "solution": false,
     "task": false
    }
   },
   "outputs": [],
   "source": [
    "# run this cell\n",
    "one_sample_dist = (\n",
    "    alt.Chart(one_sample, title=\"Distribution of one sample\")\n",
    "    .mark_bar()\n",
    "    .encode(x=alt.X(\"age:Q\", title=\"Age (years)\", bin=alt.Bin(step=1)), y=\"count()\")\n",
    ")\n",
    "one_sample_dist"
   ]
  },
  {
   "cell_type": "markdown",
   "metadata": {
    "deletable": false,
    "editable": false,
    "nbgrader": {
     "cell_type": "markdown",
     "checksum": "8167c322188faeff45514e2af4039dd4",
     "grade": false,
     "grade_id": "cell-aaf103d19b9fba0d",
     "locked": true,
     "schema_version": 3,
     "solution": false,
     "task": false
    }
   },
   "source": [
    "**Question 1.5** \n",
    "<br> {points: 1}\n",
    "\n",
    "Use `mean` to calculate the mean age (our point estimate of interest) from the random sample you just took (`one_sample`):\n",
    "\n",
    "Name this data frame `one_sample_estimates` which has a single column named `mean`."
   ]
  },
  {
   "cell_type": "code",
   "execution_count": null,
   "metadata": {
    "deletable": false,
    "nbgrader": {
     "cell_type": "code",
     "checksum": "f28104353e674cf54cd5099322303646",
     "grade": false,
     "grade_id": "cell-443a7d1dcaf35e9a",
     "locked": false,
     "schema_version": 3,
     "solution": true,
     "task": false
    }
   },
   "outputs": [],
   "source": [
    "# your code here\n",
    "raise NotImplementedError\n",
    "one_sample_estimates"
   ]
  },
  {
   "cell_type": "code",
   "execution_count": null,
   "metadata": {
    "deletable": false,
    "editable": false,
    "max_height": 100,
    "nbgrader": {
     "cell_type": "code",
     "checksum": "ddf858288d492c443b4e31eb6b872b4c",
     "grade": true,
     "grade_id": "cell-8e9e83895e2967dd",
     "locked": true,
     "points": 1,
     "schema_version": 3,
     "solution": false,
     "task": false
    }
   },
   "outputs": [],
   "source": [
    "from hashlib import sha1\n",
    "assert sha1(str(type(one_sample_estimates.shape[0])).encode(\"utf-8\")+b\"bbd50c8a593854fb\").hexdigest() == \"5b037a949a473c23e7efaa3d9a36d4289056c79a\", \"type of one_sample_estimates.shape[0] is not int. Please make sure it is int and not np.int64, etc. You can cast your value into an int using int()\"\n",
    "assert sha1(str(one_sample_estimates.shape[0]).encode(\"utf-8\")+b\"bbd50c8a593854fb\").hexdigest() == \"f0e625df37e6e861db511487658529dfcd336e6d\", \"value of one_sample_estimates.shape[0] is not correct\"\n",
    "\n",
    "assert sha1(str(type(one_sample_estimates.shape[1])).encode(\"utf-8\")+b\"42d5f20be4f7c2d4\").hexdigest() == \"7756d52c684df416028f746ef9300f98f558e715\", \"type of one_sample_estimates.shape[1] is not int. Please make sure it is int and not np.int64, etc. You can cast your value into an int using int()\"\n",
    "assert sha1(str(one_sample_estimates.shape[1]).encode(\"utf-8\")+b\"42d5f20be4f7c2d4\").hexdigest() == \"509f6fc0715e3fd2e9f19c5c2595931161c3d3a9\", \"value of one_sample_estimates.shape[1] is not correct\"\n",
    "\n",
    "assert sha1(str(type(\"\".join(one_sample_estimates.columns))).encode(\"utf-8\")+b\"47de7c8d2ba370c2\").hexdigest() == \"067e37400691717bc1e92ec0633eacd7cd93a30e\", \"type of \\\"\\\".join(one_sample_estimates.columns) is not str. \\\"\\\".join(one_sample_estimates.columns) should be an str\"\n",
    "assert sha1(str(len(\"\".join(one_sample_estimates.columns))).encode(\"utf-8\")+b\"47de7c8d2ba370c2\").hexdigest() == \"45689d220cb675e808177375c1662f340276f992\", \"length of \\\"\\\".join(one_sample_estimates.columns) is not correct\"\n",
    "assert sha1(str(\"\".join(one_sample_estimates.columns).lower()).encode(\"utf-8\")+b\"47de7c8d2ba370c2\").hexdigest() == \"a9f37442d5289550b66e52d6db6fa304808a9220\", \"value of \\\"\\\".join(one_sample_estimates.columns) is not correct\"\n",
    "assert sha1(str(\"\".join(one_sample_estimates.columns)).encode(\"utf-8\")+b\"47de7c8d2ba370c2\").hexdigest() == \"a9f37442d5289550b66e52d6db6fa304808a9220\", \"correct string value of \\\"\\\".join(one_sample_estimates.columns) but incorrect case of letters\"\n",
    "\n",
    "assert sha1(str(type(round(one_sample_estimates['mean'], 2))).encode(\"utf-8\")+b\"a878b9569b13aac7\").hexdigest() == \"b7be10c6e927624f3f6195d0a88a1ba0ff26df5d\", \"type of round(one_sample_estimates['mean'], 2) is not correct\"\n",
    "assert sha1(str(round(one_sample_estimates['mean'], 2)).encode(\"utf-8\")+b\"a878b9569b13aac7\").hexdigest() == \"1513d4820217d60c14b3ff162c781f954cccff54\", \"value of round(one_sample_estimates['mean'], 2) is not correct\"\n",
    "\n",
    "print('Success!')"
   ]
  },
  {
   "cell_type": "markdown",
   "metadata": {
    "deletable": false,
    "editable": false,
    "nbgrader": {
     "cell_type": "markdown",
     "checksum": "1fb41bdb6a1778290ff77267b31ac1bd",
     "grade": false,
     "grade_id": "cell-5575d82939196fc9",
     "locked": true,
     "schema_version": 3,
     "solution": false,
     "task": false
    }
   },
   "source": [
    "**Question 1.6** \n",
    "<br> {points: 1}\n",
    "\n",
    "To generate a single bootstrap sample in Python, we can use the `resample` function from `sklearn` package, and set the `replace` argument to its default value of `True`.\n",
    "\n",
    "Use `resample` to take a single bootstrap sample from the sample you drew from the population. Name this bootstrap sample `boot1`.\n",
    "\n",
    "Use 4321 as the `random_state`."
   ]
  },
  {
   "cell_type": "code",
   "execution_count": null,
   "metadata": {
    "deletable": false,
    "nbgrader": {
     "cell_type": "code",
     "checksum": "7db17f2ffc0893f24bcb36542c67da8a",
     "grade": false,
     "grade_id": "cell-239c20c4566f1f3c",
     "locked": false,
     "schema_version": 3,
     "solution": true,
     "task": false
    }
   },
   "outputs": [],
   "source": [
    "# ___ = resample(___, n_samples=___, replace=___, random_state=___)\n",
    "\n",
    "# your code here\n",
    "raise NotImplementedError\n",
    "boot1.head()"
   ]
  },
  {
   "cell_type": "code",
   "execution_count": null,
   "metadata": {
    "deletable": false,
    "editable": false,
    "max_height": 100,
    "nbgrader": {
     "cell_type": "code",
     "checksum": "ed12d3c4e4ef94663effd225b8310ca5",
     "grade": true,
     "grade_id": "cell-af716b8959aee1ac",
     "locked": true,
     "points": 1,
     "schema_version": 3,
     "solution": false,
     "task": false
    }
   },
   "outputs": [],
   "source": [
    "from hashlib import sha1\n",
    "assert sha1(str(type(\"\".join(boot1.columns))).encode(\"utf-8\")+b\"60c73aa993afc7a0\").hexdigest() == \"ab7bf96cff33f13e77fad1f3ddee6c0f2738e25f\", \"type of \\\"\\\".join(boot1.columns) is not str. \\\"\\\".join(boot1.columns) should be an str\"\n",
    "assert sha1(str(len(\"\".join(boot1.columns))).encode(\"utf-8\")+b\"60c73aa993afc7a0\").hexdigest() == \"077df13b345ff022a2ccf31256d595c51c0fae6e\", \"length of \\\"\\\".join(boot1.columns) is not correct\"\n",
    "assert sha1(str(\"\".join(boot1.columns).lower()).encode(\"utf-8\")+b\"60c73aa993afc7a0\").hexdigest() == \"c4200ee02d9720d3da452557cc8433f48d4c99cb\", \"value of \\\"\\\".join(boot1.columns) is not correct\"\n",
    "assert sha1(str(\"\".join(boot1.columns)).encode(\"utf-8\")+b\"60c73aa993afc7a0\").hexdigest() == \"c4200ee02d9720d3da452557cc8433f48d4c99cb\", \"correct string value of \\\"\\\".join(boot1.columns) but incorrect case of letters\"\n",
    "\n",
    "assert sha1(str(type(boot1.shape[0])).encode(\"utf-8\")+b\"4f61e902b27deccb\").hexdigest() == \"45d7ae1f5cc652d1cacdd904fde8dd1e3028326d\", \"type of boot1.shape[0] is not int. Please make sure it is int and not np.int64, etc. You can cast your value into an int using int()\"\n",
    "assert sha1(str(boot1.shape[0]).encode(\"utf-8\")+b\"4f61e902b27deccb\").hexdigest() == \"503d90073d91e331bc9124f22614147667cc2c77\", \"value of boot1.shape[0] is not correct\"\n",
    "\n",
    "assert sha1(str(type(round(sum(boot1.age), 2))).encode(\"utf-8\")+b\"0dbcba323aa51bd4\").hexdigest() == \"7d92da55fe0ea335fbac40607073345dfc20001b\", \"type of round(sum(boot1.age), 2) is not float. Please make sure it is float and not np.float64, etc. You can cast your value into a float using float()\"\n",
    "assert sha1(str(round(round(sum(boot1.age), 2), 2)).encode(\"utf-8\")+b\"0dbcba323aa51bd4\").hexdigest() == \"cdc515b02f048b6c2e60e8e690551a843f27e792\", \"value of round(sum(boot1.age), 2) is not correct (rounded to 2 decimal places)\"\n",
    "\n",
    "assert sha1(str(type(sum(range(boot1.shape[0])))).encode(\"utf-8\")+b\"eecb144117c8dc8b\").hexdigest() == \"b3ca78bc58cd1450ad2369ed53154cd81059da6d\", \"type of sum(range(boot1.shape[0])) is not int. Please make sure it is int and not np.int64, etc. You can cast your value into an int using int()\"\n",
    "assert sha1(str(sum(range(boot1.shape[0]))).encode(\"utf-8\")+b\"eecb144117c8dc8b\").hexdigest() == \"ca91bc2366ef7d72c9bd58048e32ee30354a8274\", \"value of sum(range(boot1.shape[0])) is not correct\"\n",
    "\n",
    "print('Success!')"
   ]
  },
  {
   "cell_type": "markdown",
   "metadata": {
    "deletable": false,
    "editable": false,
    "nbgrader": {
     "cell_type": "markdown",
     "checksum": "6b31a0ff4438ccff63a746d6d0600cb2",
     "grade": false,
     "grade_id": "cell-7760b102574e0887",
     "locked": true,
     "schema_version": 3,
     "solution": false,
     "task": false
    }
   },
   "source": [
    "**Question 1.7** Multiple choice\n",
    "<br> {points: 1}\n",
    "\n",
    "Why do we change `replace` to `TRUE`?\n",
    "\n",
    "A. Taking a bootstrap sample involves drawing observations from the original population without replacement\n",
    "\n",
    "B. Taking a bootstrap sample involves drawing observations from the original population with replacement\n",
    "\n",
    "C. Taking a bootstrap sample involves drawing observations from the original sample without replacement\n",
    "\n",
    "D. Taking a bootstrap sample involves drawing observations from the original sample with replacement\n",
    "\n",
    "*Assign your answer to an object called `answer1_7`. Your answer should be an uppercase letter and is surrounded by quotes (e.g. `\"F\"`).*"
   ]
  },
  {
   "cell_type": "code",
   "execution_count": null,
   "metadata": {
    "deletable": false,
    "nbgrader": {
     "cell_type": "code",
     "checksum": "c9a0b9c0c32e57ee03fed8db30f605cd",
     "grade": false,
     "grade_id": "cell-ba91c2de68609fe7",
     "locked": false,
     "schema_version": 3,
     "solution": true,
     "task": false
    }
   },
   "outputs": [],
   "source": [
    "# your code here\n",
    "raise NotImplementedError"
   ]
  },
  {
   "cell_type": "code",
   "execution_count": null,
   "metadata": {
    "deletable": false,
    "editable": false,
    "max_height": 100,
    "nbgrader": {
     "cell_type": "code",
     "checksum": "370c3997accac8a7baa031d2efb2377b",
     "grade": true,
     "grade_id": "cell-1b79e9b905b70215",
     "locked": true,
     "points": 1,
     "schema_version": 3,
     "solution": false,
     "task": false
    }
   },
   "outputs": [],
   "source": [
    "from hashlib import sha1\n",
    "assert sha1(str(type(answer1_7)).encode(\"utf-8\")+b\"8ef6cc3157515455\").hexdigest() == \"cc3e388146a61cb58067543c53f4030ca32a5da7\", \"type of answer1_7 is not str. answer1_7 should be an str\"\n",
    "assert sha1(str(len(answer1_7)).encode(\"utf-8\")+b\"8ef6cc3157515455\").hexdigest() == \"0f8f46eb96dae87ae51f98245e34fe6879aa5559\", \"length of answer1_7 is not correct\"\n",
    "assert sha1(str(answer1_7.lower()).encode(\"utf-8\")+b\"8ef6cc3157515455\").hexdigest() == \"dffd8a5bb3c4194ef0c3d9fe03c0be3eb1023f3a\", \"value of answer1_7 is not correct\"\n",
    "assert sha1(str(answer1_7).encode(\"utf-8\")+b\"8ef6cc3157515455\").hexdigest() == \"fc8b885d020bfc3f248d92ad8b17babd665eaa49\", \"correct string value of answer1_7 but incorrect case of letters\"\n",
    "\n",
    "print('Success!')"
   ]
  },
  {
   "cell_type": "markdown",
   "metadata": {
    "deletable": false,
    "editable": false,
    "nbgrader": {
     "cell_type": "markdown",
     "checksum": "6ad17dbb9d4ee0341a1689b6356f92c0",
     "grade": false,
     "grade_id": "cell-93ea2b7d26e0e137",
     "locked": true,
     "schema_version": 3,
     "solution": false,
     "task": false
    }
   },
   "source": [
    "**Question 1.8** \n",
    "<br> {points: 1}\n",
    "\n",
    "Visualize the distribution of the bootstrap sample you just took (`boot1`) that was just created by plotting a histogram using `mark_bar` and `step = 1` in the `alt.Bin` argument in the `y` encoding. Name the plot `boot1_dist` and give the plot and the x-axis a descriptive label."
   ]
  },
  {
   "cell_type": "code",
   "execution_count": null,
   "metadata": {
    "deletable": false,
    "nbgrader": {
     "cell_type": "code",
     "checksum": "84c2d8fb78a780441b5146d6c17ca260",
     "grade": false,
     "grade_id": "cell-389271affd1fc5af",
     "locked": false,
     "schema_version": 3,
     "solution": true,
     "task": false
    }
   },
   "outputs": [],
   "source": [
    "# your code here\n",
    "raise NotImplementedError\n",
    "boot1_dist"
   ]
  },
  {
   "cell_type": "code",
   "execution_count": null,
   "metadata": {
    "deletable": false,
    "editable": false,
    "max_height": 100,
    "nbgrader": {
     "cell_type": "code",
     "checksum": "0fb826601f45259d72d6a95af5288379",
     "grade": true,
     "grade_id": "cell-3b7b4b4c4cc4971e",
     "locked": true,
     "points": 1,
     "schema_version": 3,
     "solution": false,
     "task": false
    }
   },
   "outputs": [],
   "source": [
    "from hashlib import sha1\n",
    "assert sha1(str(type(boot1_dist.encoding.x.field)).encode(\"utf-8\")+b\"e4b2f0938ac1a41b\").hexdigest() == \"12c057a11788f004d163c1a59cdbe1a57a314228\", \"type of boot1_dist.encoding.x.field is not str. boot1_dist.encoding.x.field should be an str\"\n",
    "assert sha1(str(len(boot1_dist.encoding.x.field)).encode(\"utf-8\")+b\"e4b2f0938ac1a41b\").hexdigest() == \"3ff05a256e7feb05e90a0b6d9fca17ad1aece11a\", \"length of boot1_dist.encoding.x.field is not correct\"\n",
    "assert sha1(str(boot1_dist.encoding.x.field.lower()).encode(\"utf-8\")+b\"e4b2f0938ac1a41b\").hexdigest() == \"4e00ed626734bc58958553d4aee96bde9fafa8d3\", \"value of boot1_dist.encoding.x.field is not correct\"\n",
    "assert sha1(str(boot1_dist.encoding.x.field).encode(\"utf-8\")+b\"e4b2f0938ac1a41b\").hexdigest() == \"4e00ed626734bc58958553d4aee96bde9fafa8d3\", \"correct string value of boot1_dist.encoding.x.field but incorrect case of letters\"\n",
    "\n",
    "assert sha1(str(type(boot1_dist.mark)).encode(\"utf-8\")+b\"033820b56dbf9057\").hexdigest() == \"626727b85625a1cf8ccf291769647d326699371e\", \"type of boot1_dist.mark is not str. boot1_dist.mark should be an str\"\n",
    "assert sha1(str(len(boot1_dist.mark)).encode(\"utf-8\")+b\"033820b56dbf9057\").hexdigest() == \"9582dbbdbb96cba2c800b374eacf2861974d3533\", \"length of boot1_dist.mark is not correct\"\n",
    "assert sha1(str(boot1_dist.mark.lower()).encode(\"utf-8\")+b\"033820b56dbf9057\").hexdigest() == \"e250db812a0935692141eb203ead6c8e01f6e16a\", \"value of boot1_dist.mark is not correct\"\n",
    "assert sha1(str(boot1_dist.mark).encode(\"utf-8\")+b\"033820b56dbf9057\").hexdigest() == \"e250db812a0935692141eb203ead6c8e01f6e16a\", \"correct string value of boot1_dist.mark but incorrect case of letters\"\n",
    "\n",
    "assert sha1(str(type(boot1_dist.data.shape[0])).encode(\"utf-8\")+b\"02e5484d778decad\").hexdigest() == \"e3f7908b594749a2085abf8bfa2937ef060042b2\", \"type of boot1_dist.data.shape[0] is not int. Please make sure it is int and not np.int64, etc. You can cast your value into an int using int()\"\n",
    "assert sha1(str(boot1_dist.data.shape[0]).encode(\"utf-8\")+b\"02e5484d778decad\").hexdigest() == \"e1e575734167507acc518d2199c7fde0a4d8596e\", \"value of boot1_dist.data.shape[0] is not correct\"\n",
    "\n",
    "assert sha1(str(type(round(boot1_dist.data.sum(), 2))).encode(\"utf-8\")+b\"503204094a2a28ca\").hexdigest() == \"406384ba9d2094fa8b9735e0fc17aa6ac22839b8\", \"type of round(boot1_dist.data.sum(), 2) is not correct\"\n",
    "assert sha1(str(round(boot1_dist.data.sum(), 2)).encode(\"utf-8\")+b\"503204094a2a28ca\").hexdigest() == \"398c8ffeda3d18ba7fb04391c483e3904ac5ce1c\", \"value of round(boot1_dist.data.sum(), 2) is not correct\"\n",
    "\n",
    "assert sha1(str(type(boot1_dist.encoding.x.field != boot1_dist.encoding.x.title)).encode(\"utf-8\")+b\"921d19f0d591a526\").hexdigest() == \"79901a8990749fd128b07bce145bddab2164dc3b\", \"type of boot1_dist.encoding.x.field != boot1_dist.encoding.x.title is not bool. boot1_dist.encoding.x.field != boot1_dist.encoding.x.title should be a bool\"\n",
    "assert sha1(str(boot1_dist.encoding.x.field != boot1_dist.encoding.x.title).encode(\"utf-8\")+b\"921d19f0d591a526\").hexdigest() == \"8c07edc1a849b695641a257835117981bba38def\", \"boolean value of boot1_dist.encoding.x.field != boot1_dist.encoding.x.title is not correct\"\n",
    "\n",
    "assert sha1(str(type(boot1_dist.title is not None)).encode(\"utf-8\")+b\"411298342186b8a8\").hexdigest() == \"97dfc51a161d920fc71346527ac829155137331b\", \"type of boot1_dist.title is not None is not bool. boot1_dist.title is not None should be a bool\"\n",
    "assert sha1(str(boot1_dist.title is not None).encode(\"utf-8\")+b\"411298342186b8a8\").hexdigest() == \"9dd3c62b0b651e6ac7920e51bcd00850d01d70d3\", \"boolean value of boot1_dist.title is not None is not correct\"\n",
    "\n",
    "print('Success!')"
   ]
  },
  {
   "cell_type": "markdown",
   "metadata": {
    "deletable": false,
    "editable": false,
    "nbgrader": {
     "cell_type": "markdown",
     "checksum": "c691f81e9028349e41fe15d875710e53",
     "grade": false,
     "grade_id": "cell-84ed6755705e4eee",
     "locked": true,
     "schema_version": 3,
     "solution": false,
     "task": false
    }
   },
   "source": [
    "Let's now compare our bootstrap sample to the original random sample that we drew from the population:"
   ]
  },
  {
   "cell_type": "code",
   "execution_count": null,
   "metadata": {
    "deletable": false,
    "editable": false,
    "nbgrader": {
     "cell_type": "code",
     "checksum": "eb7ea0a78b3cabc94e1b3c27c1e60d98",
     "grade": false,
     "grade_id": "cell-afd154dc6f0c3e39",
     "locked": true,
     "schema_version": 3,
     "solution": false,
     "task": false
    }
   },
   "outputs": [],
   "source": [
    "# run this code cell\n",
    "one_sample_dist"
   ]
  },
  {
   "cell_type": "code",
   "execution_count": null,
   "metadata": {
    "deletable": false,
    "editable": false,
    "nbgrader": {
     "cell_type": "code",
     "checksum": "49418776dea1a14bc699ba8db97edba3",
     "grade": false,
     "grade_id": "cell-644dd21c673cffce",
     "locked": true,
     "schema_version": 3,
     "solution": false,
     "task": false
    }
   },
   "outputs": [],
   "source": [
    "# run this code cell\n",
    "boot1_dist"
   ]
  },
  {
   "cell_type": "markdown",
   "metadata": {
    "deletable": false,
    "editable": false,
    "nbgrader": {
     "cell_type": "markdown",
     "checksum": "47f3c85bb420a44735999d664286e765",
     "grade": false,
     "grade_id": "cell-fa64eb1f98987c99",
     "locked": true,
     "schema_version": 3,
     "solution": false,
     "task": false
    }
   },
   "source": [
    "Earlier we calculate the mean of our original sample to be about 79.6 years. What is the mean of our bootstrap sample?"
   ]
  },
  {
   "cell_type": "code",
   "execution_count": null,
   "metadata": {
    "deletable": false,
    "editable": false,
    "nbgrader": {
     "cell_type": "code",
     "checksum": "9f825cb78f2cb525275b7fd86716a321",
     "grade": false,
     "grade_id": "cell-77b326e307cf1cf6",
     "locked": true,
     "schema_version": 3,
     "solution": false,
     "task": false
    }
   },
   "outputs": [],
   "source": [
    "# run this cell\n",
    "pd.DataFrame({\"mean\": boot1.mean()})"
   ]
  },
  {
   "cell_type": "markdown",
   "metadata": {
    "deletable": false,
    "editable": false,
    "nbgrader": {
     "cell_type": "markdown",
     "checksum": "ae0fb015f384d08323bba451d8d65c74",
     "grade": false,
     "grade_id": "cell-c33dd58cb3c572af",
     "locked": true,
     "schema_version": 3,
     "solution": false,
     "task": false
    }
   },
   "source": [
    "We see that original sample distrbution and the bootstrap sample distribution are of similar shape, but not identical. They also have different means. The difference of the frequency of the values in the bootstrap sample (and the difference of the value of the mean) comes from sampling from the original sample with replacement. Why sample with replacement? If we didn't we would end up with the original sample again. What we are trying to do with bootstrapping is to mimic drawing another sample from the population, without actually doing that. \n",
    "\n",
    "Why are we doing this? As mentioned earlier, in real life we typically only have one sample and thus we cannot create a sampling distribution that we can use to tell us about how we might expected our point estimate to behave if we took another sample. So what we can do, is use our sample as an estimate of our population, and sample from that with replacement (i.e., bootstrapping) many times to create many bootstrap samples. We can then calculate point estimates for each bootstrap sample and create a bootstrap distribution of our point estimates and use this as a proxy for a sampling distribution. We can finally use this bootstrap distribution of our point estimates to suggest how we might expected our point estimate to behave if we took another sample."
   ]
  },
  {
   "cell_type": "markdown",
   "metadata": {
    "deletable": false,
    "editable": false,
    "nbgrader": {
     "cell_type": "markdown",
     "checksum": "6324c757214348ec13d296d071454171",
     "grade": false,
     "grade_id": "cell-f5b5d685693ffe7f",
     "locked": true,
     "schema_version": 3,
     "solution": false,
     "task": false
    }
   },
   "source": [
    "**Question 1.9** \n",
    "<br> {points: 1}\n",
    "\n",
    "What do 6 different bootstrap samples look like? Use `resample` to create a single data frame with 6 bootstrap samples drawn from the original sample we drew from the population, `one_sample`. Assign a new column called `replicate` to mark the sample number `(from 0 to 5)`. Name the data frame `boot6`.\n",
    "\n",
    "Set the seed as 1234."
   ]
  },
  {
   "cell_type": "code",
   "execution_count": null,
   "metadata": {
    "deletable": false,
    "nbgrader": {
     "cell_type": "code",
     "checksum": "9cf6cf2d48fe29276f31e174847c05e8",
     "grade": false,
     "grade_id": "cell-6607b2dec92a2913",
     "locked": false,
     "schema_version": 3,
     "solution": true,
     "task": false
    }
   },
   "outputs": [],
   "source": [
    "np.random.seed(1234)  # DO NOT CHANGE!\n",
    "# your code here\n",
    "raise NotImplementedError\n",
    "print(boot6.head())\n",
    "print(boot6.tail())"
   ]
  },
  {
   "cell_type": "code",
   "execution_count": null,
   "metadata": {
    "deletable": false,
    "editable": false,
    "max_height": 100,
    "nbgrader": {
     "cell_type": "code",
     "checksum": "620bd35247cceb41b23030c874d17532",
     "grade": true,
     "grade_id": "cell-e57717e45df34f9a",
     "locked": true,
     "points": 1,
     "schema_version": 3,
     "solution": false,
     "task": false
    }
   },
   "outputs": [],
   "source": [
    "from hashlib import sha1\n",
    "assert sha1(str(type(\"\".join(boot6.columns))).encode(\"utf-8\")+b\"19e6a6bc38ab444c\").hexdigest() == \"aaffa57cdcbe650b50a29483a2f878978bf4947f\", \"type of \\\"\\\".join(boot6.columns) is not str. \\\"\\\".join(boot6.columns) should be an str\"\n",
    "assert sha1(str(len(\"\".join(boot6.columns))).encode(\"utf-8\")+b\"19e6a6bc38ab444c\").hexdigest() == \"a161ed67597b2c3083a5cebd859e82d8d312f7bb\", \"length of \\\"\\\".join(boot6.columns) is not correct\"\n",
    "assert sha1(str(\"\".join(boot6.columns).lower()).encode(\"utf-8\")+b\"19e6a6bc38ab444c\").hexdigest() == \"355afa5ece676047b07dacfbc154251f2e9ade24\", \"value of \\\"\\\".join(boot6.columns) is not correct\"\n",
    "assert sha1(str(\"\".join(boot6.columns)).encode(\"utf-8\")+b\"19e6a6bc38ab444c\").hexdigest() == \"355afa5ece676047b07dacfbc154251f2e9ade24\", \"correct string value of \\\"\\\".join(boot6.columns) but incorrect case of letters\"\n",
    "\n",
    "assert sha1(str(type(boot6.shape[0])).encode(\"utf-8\")+b\"44f750aa85a46c70\").hexdigest() == \"9625e1212fb8877f68e6e9eda567f9a022d7f64c\", \"type of boot6.shape[0] is not int. Please make sure it is int and not np.int64, etc. You can cast your value into an int using int()\"\n",
    "assert sha1(str(boot6.shape[0]).encode(\"utf-8\")+b\"44f750aa85a46c70\").hexdigest() == \"6ba62d9a6d140f98f6811f3cc5d9d2c878d02b41\", \"value of boot6.shape[0] is not correct\"\n",
    "\n",
    "assert sha1(str(type(round(sum(boot6.age), 2))).encode(\"utf-8\")+b\"ed99bf28a454df28\").hexdigest() == \"444086b2510fe35e496fe7af1887e132f0145b44\", \"type of round(sum(boot6.age), 2) is not float. Please make sure it is float and not np.float64, etc. You can cast your value into a float using float()\"\n",
    "assert sha1(str(round(round(sum(boot6.age), 2), 2)).encode(\"utf-8\")+b\"ed99bf28a454df28\").hexdigest() == \"a5e4f22b5a7827195fe4d457840f2084797afee7\", \"value of round(sum(boot6.age), 2) is not correct (rounded to 2 decimal places)\"\n",
    "\n",
    "assert sha1(str(type(sum(boot6.replicate.unique()))).encode(\"utf-8\")+b\"157d522ca75ca9d0\").hexdigest() == \"01bf3de05fd66909af8c4c8115c6b52d4384b629\", \"type of sum(boot6.replicate.unique()) is not correct\"\n",
    "assert sha1(str(sum(boot6.replicate.unique())).encode(\"utf-8\")+b\"157d522ca75ca9d0\").hexdigest() == \"9fac426953420a3551e9d1490e1e526b5b0b975d\", \"value of sum(boot6.replicate.unique()) is not correct\"\n",
    "\n",
    "print('Success!')"
   ]
  },
  {
   "cell_type": "markdown",
   "metadata": {
    "deletable": false,
    "editable": false,
    "nbgrader": {
     "cell_type": "markdown",
     "checksum": "4f2344514a48250b433343f0ae6ba28b",
     "grade": false,
     "grade_id": "cell-558b102565ddf4ae",
     "locked": true,
     "schema_version": 3,
     "solution": false,
     "task": false
    }
   },
   "source": [
    "**Question 2.0** \n",
    "<br> {points: 1}\n",
    "\n",
    "Now visualize the six bootstrap sample distributions from `boot6` by faceting the `replicate` column. Name the plot object `boot6_dist` and give the plot and the x-axis a descriptive label."
   ]
  },
  {
   "cell_type": "code",
   "execution_count": null,
   "metadata": {
    "deletable": false,
    "nbgrader": {
     "cell_type": "code",
     "checksum": "4dd9326d501f33f2a301d252314d03d2",
     "grade": false,
     "grade_id": "cell-d1d36a4806776c6c",
     "locked": false,
     "schema_version": 3,
     "solution": true,
     "task": false
    }
   },
   "outputs": [],
   "source": [
    "# ___ = (\n",
    "#     alt.Chart(___, title=___)\n",
    "#     .___()\n",
    "#     .encode(x=alt.X(___, title=___, bin=alt.Bin(step=1)), y=___)\n",
    "#     .facet(___, columns=3)\n",
    "# )\n",
    "# your code here\n",
    "raise NotImplementedError\n",
    "boot6_dist"
   ]
  },
  {
   "cell_type": "code",
   "execution_count": null,
   "metadata": {
    "deletable": false,
    "editable": false,
    "max_height": 100,
    "nbgrader": {
     "cell_type": "code",
     "checksum": "2ad6505b67c8fd29c22308f91895c540",
     "grade": true,
     "grade_id": "cell-38e6f9e544c5ce17",
     "locked": true,
     "points": 1,
     "schema_version": 3,
     "solution": false,
     "task": false
    }
   },
   "outputs": [],
   "source": [
    "from hashlib import sha1\n",
    "assert sha1(str(type(boot6_dist.facet.field)).encode(\"utf-8\")+b\"30c2b479f4ee4167\").hexdigest() == \"51e4e0a15322b5e2628c75c4c6ba05230c20a3d2\", \"type of boot6_dist.facet.field is not str. boot6_dist.facet.field should be an str\"\n",
    "assert sha1(str(len(boot6_dist.facet.field)).encode(\"utf-8\")+b\"30c2b479f4ee4167\").hexdigest() == \"a7c078ab875b671c996e394f6d85eb0170bcefc7\", \"length of boot6_dist.facet.field is not correct\"\n",
    "assert sha1(str(boot6_dist.facet.field.lower()).encode(\"utf-8\")+b\"30c2b479f4ee4167\").hexdigest() == \"5a611c71c41399b4f0b6f106eaa00f5e590cc40d\", \"value of boot6_dist.facet.field is not correct\"\n",
    "assert sha1(str(boot6_dist.facet.field).encode(\"utf-8\")+b\"30c2b479f4ee4167\").hexdigest() == \"5a611c71c41399b4f0b6f106eaa00f5e590cc40d\", \"correct string value of boot6_dist.facet.field but incorrect case of letters\"\n",
    "\n",
    "assert sha1(str(type(boot6_dist.data.shape[0])).encode(\"utf-8\")+b\"e8aa71452aabedfc\").hexdigest() == \"06dfe4ed2174f7a6fe5d152f7fb8fbdf3dbc438b\", \"type of boot6_dist.data.shape[0] is not int. Please make sure it is int and not np.int64, etc. You can cast your value into an int using int()\"\n",
    "assert sha1(str(boot6_dist.data.shape[0]).encode(\"utf-8\")+b\"e8aa71452aabedfc\").hexdigest() == \"eb7ae4029f109fe2d29b3e9f4ab7323aec47e3e9\", \"value of boot6_dist.data.shape[0] is not correct\"\n",
    "\n",
    "assert sha1(str(type(boot6_dist.title is not None)).encode(\"utf-8\")+b\"ca8e589deba087c5\").hexdigest() == \"a98b7390e4ebecfd878e0084d40b14893ccb9a4b\", \"type of boot6_dist.title is not None is not bool. boot6_dist.title is not None should be a bool\"\n",
    "assert sha1(str(boot6_dist.title is not None).encode(\"utf-8\")+b\"ca8e589deba087c5\").hexdigest() == \"57a805e966c60b55f72da1edcdf9cfcaeecfe616\", \"boolean value of boot6_dist.title is not None is not correct\"\n",
    "\n",
    "print('Success!')"
   ]
  },
  {
   "cell_type": "markdown",
   "metadata": {
    "deletable": false,
    "editable": false,
    "nbgrader": {
     "cell_type": "markdown",
     "checksum": "9a3d0987fd28678ba324c9e711e9efe7",
     "grade": false,
     "grade_id": "cell-8c48012a69725219",
     "locked": true,
     "schema_version": 3,
     "solution": false,
     "task": false
    }
   },
   "source": [
    "**Question 2.1** \n",
    "<br> {points: 1}\n",
    "\n",
    "Calculate the mean of these 6 bootstrap samples using `groupby` and `mean` and save result into a column called `mean`. The data frame should have two columns `replicate` and `mean`. Name the data frame `boot6_means`."
   ]
  },
  {
   "cell_type": "code",
   "execution_count": null,
   "metadata": {
    "deletable": false,
    "nbgrader": {
     "cell_type": "code",
     "checksum": "91b998b77bcff788c3cf6af2a828a988",
     "grade": false,
     "grade_id": "cell-b9692d80805c724a",
     "locked": false,
     "schema_version": 3,
     "solution": true,
     "task": false
    }
   },
   "outputs": [],
   "source": [
    "# your code here\n",
    "raise NotImplementedError\n",
    "boot6_means"
   ]
  },
  {
   "cell_type": "code",
   "execution_count": null,
   "metadata": {
    "deletable": false,
    "editable": false,
    "max_height": 100,
    "nbgrader": {
     "cell_type": "code",
     "checksum": "abf48ad5ea45a44745748902480f8110",
     "grade": true,
     "grade_id": "cell-f2cfe994fece602d",
     "locked": true,
     "points": 1,
     "schema_version": 3,
     "solution": false,
     "task": false
    }
   },
   "outputs": [],
   "source": [
    "from hashlib import sha1\n",
    "assert sha1(str(type(boot6_means.shape[0])).encode(\"utf-8\")+b\"0470f483acc4b724\").hexdigest() == \"144ea8c669643c4ea3d7a11490e2c1dee3bb1d37\", \"type of boot6_means.shape[0] is not int. Please make sure it is int and not np.int64, etc. You can cast your value into an int using int()\"\n",
    "assert sha1(str(boot6_means.shape[0]).encode(\"utf-8\")+b\"0470f483acc4b724\").hexdigest() == \"b188be414f996a9cdc8f234bb09304dd1df70618\", \"value of boot6_means.shape[0] is not correct\"\n",
    "\n",
    "assert sha1(str(type(boot6_means.shape[1])).encode(\"utf-8\")+b\"1d6007273063fcb9\").hexdigest() == \"929a3546d83b12f767d9dae8af0c23379726ef20\", \"type of boot6_means.shape[1] is not int. Please make sure it is int and not np.int64, etc. You can cast your value into an int using int()\"\n",
    "assert sha1(str(boot6_means.shape[1]).encode(\"utf-8\")+b\"1d6007273063fcb9\").hexdigest() == \"66298568376ce71a8336f044b1a6f0f442c095cb\", \"value of boot6_means.shape[1] is not correct\"\n",
    "\n",
    "assert sha1(str(type(\"\".join(boot6_means.columns))).encode(\"utf-8\")+b\"0870ed23b657fca6\").hexdigest() == \"5b65c1df1371fc4b85e8638d620147de77c2dd52\", \"type of \\\"\\\".join(boot6_means.columns) is not str. \\\"\\\".join(boot6_means.columns) should be an str\"\n",
    "assert sha1(str(len(\"\".join(boot6_means.columns))).encode(\"utf-8\")+b\"0870ed23b657fca6\").hexdigest() == \"ee69c9946e1a14be843c5e89727cdacdd5770b6d\", \"length of \\\"\\\".join(boot6_means.columns) is not correct\"\n",
    "assert sha1(str(\"\".join(boot6_means.columns).lower()).encode(\"utf-8\")+b\"0870ed23b657fca6\").hexdigest() == \"654a544b54ca8d8c5656d77ceba2cefcd2b0bda3\", \"value of \\\"\\\".join(boot6_means.columns) is not correct\"\n",
    "assert sha1(str(\"\".join(boot6_means.columns)).encode(\"utf-8\")+b\"0870ed23b657fca6\").hexdigest() == \"654a544b54ca8d8c5656d77ceba2cefcd2b0bda3\", \"correct string value of \\\"\\\".join(boot6_means.columns) but incorrect case of letters\"\n",
    "\n",
    "assert sha1(str(type(round(boot6_means[\"mean\"][0], 2))).encode(\"utf-8\")+b\"56959642ed881b08\").hexdigest() == \"e4a997b950c476c7c2b2cc4b107d2818e51f359f\", \"type of round(boot6_means[\\\"mean\\\"][0], 2) is not correct\"\n",
    "assert sha1(str(round(boot6_means[\"mean\"][0], 2)).encode(\"utf-8\")+b\"56959642ed881b08\").hexdigest() == \"189ecae86e863186c8bee6f439d4b01250d97437\", \"value of round(boot6_means[\\\"mean\\\"][0], 2) is not correct\"\n",
    "\n",
    "print('Success!')"
   ]
  },
  {
   "cell_type": "markdown",
   "metadata": {
    "deletable": false,
    "editable": false,
    "nbgrader": {
     "cell_type": "markdown",
     "checksum": "dd955b55ef6b13cf430b00f8b439d6ca",
     "grade": false,
     "grade_id": "cell-00909da5655c00a5",
     "locked": true,
     "schema_version": 3,
     "solution": false,
     "task": false
    }
   },
   "source": [
    "**Question 2.2** \n",
    "<br> {points: 1}\n",
    "\n",
    "Let's now take 1000 bootstrap samples from the original sample we drew from the population (`one_sample`) using `resample`. Assign a new column called `replicate` to mark the sample number `(from 0 to 99)`. Name the data frame `boot1000`.\n",
    "\n",
    "Set the seed as 1234."
   ]
  },
  {
   "cell_type": "code",
   "execution_count": null,
   "metadata": {
    "deletable": false,
    "nbgrader": {
     "cell_type": "code",
     "checksum": "14a7cb7d400def087bd8f4fd39d87fcb",
     "grade": false,
     "grade_id": "cell-cd89ca0c9e456e1b",
     "locked": false,
     "schema_version": 3,
     "solution": true,
     "task": false
    }
   },
   "outputs": [],
   "source": [
    "np.random.seed(1234)  # DO NOT CHANGE!\n",
    "# your code here\n",
    "raise NotImplementedError\n",
    "print(boot1000.head())\n",
    "print(boot1000.tail())"
   ]
  },
  {
   "cell_type": "code",
   "execution_count": null,
   "metadata": {
    "deletable": false,
    "editable": false,
    "max_height": 100,
    "nbgrader": {
     "cell_type": "code",
     "checksum": "a3b515b85c1ad90493ad9f1819397643",
     "grade": true,
     "grade_id": "cell-343d880b6f801822",
     "locked": true,
     "points": 1,
     "schema_version": 3,
     "solution": false,
     "task": false
    }
   },
   "outputs": [],
   "source": [
    "from hashlib import sha1\n",
    "assert sha1(str(type(\"\".join(boot1000.columns))).encode(\"utf-8\")+b\"0cdd386aea9e0528\").hexdigest() == \"cd72b903a2703f0b556acfe51c2c81e0d10753ef\", \"type of \\\"\\\".join(boot1000.columns) is not str. \\\"\\\".join(boot1000.columns) should be an str\"\n",
    "assert sha1(str(len(\"\".join(boot1000.columns))).encode(\"utf-8\")+b\"0cdd386aea9e0528\").hexdigest() == \"b7d93a818aba98e8dc98fe8540fe93428467882a\", \"length of \\\"\\\".join(boot1000.columns) is not correct\"\n",
    "assert sha1(str(\"\".join(boot1000.columns).lower()).encode(\"utf-8\")+b\"0cdd386aea9e0528\").hexdigest() == \"35b52af9b1da4d2728c2dd52997553d713e47cd5\", \"value of \\\"\\\".join(boot1000.columns) is not correct\"\n",
    "assert sha1(str(\"\".join(boot1000.columns)).encode(\"utf-8\")+b\"0cdd386aea9e0528\").hexdigest() == \"35b52af9b1da4d2728c2dd52997553d713e47cd5\", \"correct string value of \\\"\\\".join(boot1000.columns) but incorrect case of letters\"\n",
    "\n",
    "assert sha1(str(type(boot1000.shape[0])).encode(\"utf-8\")+b\"f4fb29092f656dea\").hexdigest() == \"0591a308cc217d7d135ab7a97428c560a31e169b\", \"type of boot1000.shape[0] is not int. Please make sure it is int and not np.int64, etc. You can cast your value into an int using int()\"\n",
    "assert sha1(str(boot1000.shape[0]).encode(\"utf-8\")+b\"f4fb29092f656dea\").hexdigest() == \"a6fc6d674f3031f058171aff87fcf7431125df7f\", \"value of boot1000.shape[0] is not correct\"\n",
    "\n",
    "assert sha1(str(type(round(sum(boot1000.age), 2))).encode(\"utf-8\")+b\"554940391e9be41f\").hexdigest() == \"b3d495d08a1abc00fcffc291dbadf105765c3513\", \"type of round(sum(boot1000.age), 2) is not float. Please make sure it is float and not np.float64, etc. You can cast your value into a float using float()\"\n",
    "assert sha1(str(round(round(sum(boot1000.age), 2), 2)).encode(\"utf-8\")+b\"554940391e9be41f\").hexdigest() == \"086ccc642d03121a465444c0673a23f606581d92\", \"value of round(sum(boot1000.age), 2) is not correct (rounded to 2 decimal places)\"\n",
    "\n",
    "assert sha1(str(type(sum([x for x in range(boot1000.shape[0])]))).encode(\"utf-8\")+b\"c34723b524c47d80\").hexdigest() == \"e2405a7a5deb254984655bf43df92b89eb2104af\", \"type of sum([x for x in range(boot1000.shape[0])]) is not int. Please make sure it is int and not np.int64, etc. You can cast your value into an int using int()\"\n",
    "assert sha1(str(sum([x for x in range(boot1000.shape[0])])).encode(\"utf-8\")+b\"c34723b524c47d80\").hexdigest() == \"6e2db136c17fd7a79b959bb795a96169b3e2400c\", \"value of sum([x for x in range(boot1000.shape[0])]) is not correct\"\n",
    "\n",
    "print('Success!')"
   ]
  },
  {
   "cell_type": "markdown",
   "metadata": {
    "deletable": false,
    "editable": false,
    "nbgrader": {
     "cell_type": "markdown",
     "checksum": "d2b290a9ebd014e957acf0e6c4f91d9f",
     "grade": false,
     "grade_id": "cell-85473b296ef14d1c",
     "locked": true,
     "schema_version": 3,
     "solution": false,
     "task": false
    }
   },
   "source": [
    "**Question 2.3** \n",
    "<br> {points: 1}\n",
    "\n",
    "Calculate the mean of these 1000 bootstrap samples using `groupby` and `mean` and save the result into a column called `mean`. Name the data frame `boot1000_means`."
   ]
  },
  {
   "cell_type": "code",
   "execution_count": null,
   "metadata": {
    "deletable": false,
    "nbgrader": {
     "cell_type": "code",
     "checksum": "261ff145aa39ee1ff5d54eb8e925a001",
     "grade": false,
     "grade_id": "cell-51d5f2afbb677369",
     "locked": false,
     "schema_version": 3,
     "solution": true,
     "task": false
    }
   },
   "outputs": [],
   "source": [
    "# your code here\n",
    "raise NotImplementedError\n",
    "print(boot1000_means.head())\n",
    "print(boot1000_means.tail())"
   ]
  },
  {
   "cell_type": "code",
   "execution_count": null,
   "metadata": {
    "deletable": false,
    "editable": false,
    "max_height": 100,
    "nbgrader": {
     "cell_type": "code",
     "checksum": "9815ce197bf27675c530d70b53e13971",
     "grade": true,
     "grade_id": "cell-bcf16788d57cef52",
     "locked": true,
     "points": 1,
     "schema_version": 3,
     "solution": false,
     "task": false
    }
   },
   "outputs": [],
   "source": [
    "from hashlib import sha1\n",
    "assert sha1(str(type(boot1000_means.shape[0])).encode(\"utf-8\")+b\"84878aa99093ddd8\").hexdigest() == \"f7f33c3798c287b40fed05cb4c18a8b6a5c4bb52\", \"type of boot1000_means.shape[0] is not int. Please make sure it is int and not np.int64, etc. You can cast your value into an int using int()\"\n",
    "assert sha1(str(boot1000_means.shape[0]).encode(\"utf-8\")+b\"84878aa99093ddd8\").hexdigest() == \"6e83151b1b7970c9d5c5e91c9b5e137d99d6b079\", \"value of boot1000_means.shape[0] is not correct\"\n",
    "\n",
    "assert sha1(str(type(boot1000_means.shape[1])).encode(\"utf-8\")+b\"201833a7208a1517\").hexdigest() == \"b4662c5daa142aefd358fa94469894081e423960\", \"type of boot1000_means.shape[1] is not int. Please make sure it is int and not np.int64, etc. You can cast your value into an int using int()\"\n",
    "assert sha1(str(boot1000_means.shape[1]).encode(\"utf-8\")+b\"201833a7208a1517\").hexdigest() == \"72eaa0662b3ec6e7fea890db14c14f38db41c21a\", \"value of boot1000_means.shape[1] is not correct\"\n",
    "\n",
    "assert sha1(str(type(\"\".join(boot1000_means.columns))).encode(\"utf-8\")+b\"04999d75e0a3f8c5\").hexdigest() == \"4f175e2ed72fb805bfb620dd2319efe747797a44\", \"type of \\\"\\\".join(boot1000_means.columns) is not str. \\\"\\\".join(boot1000_means.columns) should be an str\"\n",
    "assert sha1(str(len(\"\".join(boot1000_means.columns))).encode(\"utf-8\")+b\"04999d75e0a3f8c5\").hexdigest() == \"8de2e6f6e951a31bed1e0596bdc58ba83924919b\", \"length of \\\"\\\".join(boot1000_means.columns) is not correct\"\n",
    "assert sha1(str(\"\".join(boot1000_means.columns).lower()).encode(\"utf-8\")+b\"04999d75e0a3f8c5\").hexdigest() == \"2dface7cc837581ea88390c9cc9c347cd694464d\", \"value of \\\"\\\".join(boot1000_means.columns) is not correct\"\n",
    "assert sha1(str(\"\".join(boot1000_means.columns)).encode(\"utf-8\")+b\"04999d75e0a3f8c5\").hexdigest() == \"2dface7cc837581ea88390c9cc9c347cd694464d\", \"correct string value of \\\"\\\".join(boot1000_means.columns) but incorrect case of letters\"\n",
    "\n",
    "assert sha1(str(type(round(boot1000_means[\"mean\"][0], 2))).encode(\"utf-8\")+b\"521cb29d1f9655ef\").hexdigest() == \"f3bf0d014a0d807f5590f3db5c3cae9a9d1fc942\", \"type of round(boot1000_means[\\\"mean\\\"][0], 2) is not correct\"\n",
    "assert sha1(str(round(boot1000_means[\"mean\"][0], 2)).encode(\"utf-8\")+b\"521cb29d1f9655ef\").hexdigest() == \"c44bb12728b93aa77b3b29407435e2b48efa5032\", \"value of round(boot1000_means[\\\"mean\\\"][0], 2) is not correct\"\n",
    "\n",
    "print('Success!')"
   ]
  },
  {
   "cell_type": "markdown",
   "metadata": {
    "deletable": false,
    "editable": false,
    "nbgrader": {
     "cell_type": "markdown",
     "checksum": "ab125e85466c61b26f6b826dd1bc2849",
     "grade": false,
     "grade_id": "cell-75683253957d46bd",
     "locked": true,
     "schema_version": 3,
     "solution": false,
     "task": false
    }
   },
   "source": [
    "**Question 2.4** \n",
    "<br> {points: 1}\n",
    "\n",
    "Visualize the distribution of the bootstrap sample point estimates (`boot1000_means`) you just calculated by plotting a histogram using `mark_bar` and `step = 1` in the `alt.Bin` argument in the `y` encoding. Name the plot `boot_est_dist` and give the plot and the x-axis a descriptive label."
   ]
  },
  {
   "cell_type": "code",
   "execution_count": null,
   "metadata": {
    "deletable": false,
    "nbgrader": {
     "cell_type": "code",
     "checksum": "d7c4aceb49dfc4585495e7454c8ced30",
     "grade": false,
     "grade_id": "cell-21f093a752cc5d8c",
     "locked": false,
     "schema_version": 3,
     "solution": true,
     "task": false
    }
   },
   "outputs": [],
   "source": [
    "# your code here\n",
    "raise NotImplementedError\n",
    "boot_est_dist"
   ]
  },
  {
   "cell_type": "code",
   "execution_count": null,
   "metadata": {
    "deletable": false,
    "editable": false,
    "max_height": 100,
    "nbgrader": {
     "cell_type": "code",
     "checksum": "2431cb4ddb9bd892d7375af33fc420d9",
     "grade": true,
     "grade_id": "cell-13a4f6d6fbcd8cbb",
     "locked": true,
     "points": 1,
     "schema_version": 3,
     "solution": false,
     "task": false
    }
   },
   "outputs": [],
   "source": [
    "from hashlib import sha1\n",
    "assert sha1(str(type(boot_est_dist.encoding.x.field)).encode(\"utf-8\")+b\"25585e7cb6b02d14\").hexdigest() == \"8e7a28348e2c081708ad9cf6acc5e23280efdcbd\", \"type of boot_est_dist.encoding.x.field is not str. boot_est_dist.encoding.x.field should be an str\"\n",
    "assert sha1(str(len(boot_est_dist.encoding.x.field)).encode(\"utf-8\")+b\"25585e7cb6b02d14\").hexdigest() == \"a6702497c029992ba13daf642d8e8bf1af8ce452\", \"length of boot_est_dist.encoding.x.field is not correct\"\n",
    "assert sha1(str(boot_est_dist.encoding.x.field.lower()).encode(\"utf-8\")+b\"25585e7cb6b02d14\").hexdigest() == \"13cbf55ba275cf8d9c90c57ae8aade77121951fd\", \"value of boot_est_dist.encoding.x.field is not correct\"\n",
    "assert sha1(str(boot_est_dist.encoding.x.field).encode(\"utf-8\")+b\"25585e7cb6b02d14\").hexdigest() == \"13cbf55ba275cf8d9c90c57ae8aade77121951fd\", \"correct string value of boot_est_dist.encoding.x.field but incorrect case of letters\"\n",
    "\n",
    "assert sha1(str(type(boot_est_dist.mark)).encode(\"utf-8\")+b\"fb2aa06a2d708472\").hexdigest() == \"9a6750a81d5553403b1b23e3cb37e544534e6550\", \"type of boot_est_dist.mark is not str. boot_est_dist.mark should be an str\"\n",
    "assert sha1(str(len(boot_est_dist.mark)).encode(\"utf-8\")+b\"fb2aa06a2d708472\").hexdigest() == \"7b9961552d4b82a0ee71d193d31b62ed16593844\", \"length of boot_est_dist.mark is not correct\"\n",
    "assert sha1(str(boot_est_dist.mark.lower()).encode(\"utf-8\")+b\"fb2aa06a2d708472\").hexdigest() == \"a68718e864bde5d787740d5bad561d88ce82976d\", \"value of boot_est_dist.mark is not correct\"\n",
    "assert sha1(str(boot_est_dist.mark).encode(\"utf-8\")+b\"fb2aa06a2d708472\").hexdigest() == \"a68718e864bde5d787740d5bad561d88ce82976d\", \"correct string value of boot_est_dist.mark but incorrect case of letters\"\n",
    "\n",
    "assert sha1(str(type(boot_est_dist.data.shape[0])).encode(\"utf-8\")+b\"3e7f705dbb9b7591\").hexdigest() == \"c20fb3a5cbf4e9e9dd6110f7fb6829f7ad363461\", \"type of boot_est_dist.data.shape[0] is not int. Please make sure it is int and not np.int64, etc. You can cast your value into an int using int()\"\n",
    "assert sha1(str(boot_est_dist.data.shape[0]).encode(\"utf-8\")+b\"3e7f705dbb9b7591\").hexdigest() == \"f2e1aabe67975e763dafe978e9d5b1c726053f01\", \"value of boot_est_dist.data.shape[0] is not correct\"\n",
    "\n",
    "assert sha1(str(type(round(sum(boot_est_dist.data.sum()), 2))).encode(\"utf-8\")+b\"5a7112f068f344e3\").hexdigest() == \"93c848922c01d59945e523168d56901b383b294a\", \"type of round(sum(boot_est_dist.data.sum()), 2) is not float. Please make sure it is float and not np.float64, etc. You can cast your value into a float using float()\"\n",
    "assert sha1(str(round(round(sum(boot_est_dist.data.sum()), 2), 2)).encode(\"utf-8\")+b\"5a7112f068f344e3\").hexdigest() == \"b8df91c23f5329d3e5ed921d96fd074edd5c7371\", \"value of round(sum(boot_est_dist.data.sum()), 2) is not correct (rounded to 2 decimal places)\"\n",
    "\n",
    "assert sha1(str(type(boot_est_dist.encoding.x.field != boot_est_dist.encoding.x.title)).encode(\"utf-8\")+b\"e9cde656476d4a4c\").hexdigest() == \"5d8a3c964b808f7bdb3a68ea98ab6339ed638ab7\", \"type of boot_est_dist.encoding.x.field != boot_est_dist.encoding.x.title is not bool. boot_est_dist.encoding.x.field != boot_est_dist.encoding.x.title should be a bool\"\n",
    "assert sha1(str(boot_est_dist.encoding.x.field != boot_est_dist.encoding.x.title).encode(\"utf-8\")+b\"e9cde656476d4a4c\").hexdigest() == \"08c11995780756a54b28fab055c4590f6d0dba2f\", \"boolean value of boot_est_dist.encoding.x.field != boot_est_dist.encoding.x.title is not correct\"\n",
    "\n",
    "assert sha1(str(type(boot_est_dist.title is not None)).encode(\"utf-8\")+b\"4d66ea8037ca87f2\").hexdigest() == \"42d1ba7e301ab5a929764243a90c7e8b534348a7\", \"type of boot_est_dist.title is not None is not bool. boot_est_dist.title is not None should be a bool\"\n",
    "assert sha1(str(boot_est_dist.title is not None).encode(\"utf-8\")+b\"4d66ea8037ca87f2\").hexdigest() == \"c654d5a7f2973fbe0bce4653924614525cc15036\", \"boolean value of boot_est_dist.title is not None is not correct\"\n",
    "\n",
    "print('Success!')"
   ]
  },
  {
   "cell_type": "markdown",
   "metadata": {
    "deletable": false,
    "editable": false,
    "nbgrader": {
     "cell_type": "markdown",
     "checksum": "ab6b0dcf3ba1c60460060f2f68a0dc2e",
     "grade": false,
     "grade_id": "cell-16863c73a0e61db1",
     "locked": true,
     "schema_version": 3,
     "solution": false,
     "task": false
    }
   },
   "source": [
    "How does the bootstrap distribution above compare to the sampling distribution? Let's visualize them side by side:"
   ]
  },
  {
   "cell_type": "code",
   "execution_count": null,
   "metadata": {
    "deletable": false,
    "editable": false,
    "nbgrader": {
     "cell_type": "code",
     "checksum": "f3650c0583325e81b4f3929935ea8156",
     "grade": false,
     "grade_id": "cell-a86b551fb1260606",
     "locked": true,
     "schema_version": 3,
     "solution": false,
     "task": false
    }
   },
   "outputs": [],
   "source": [
    "# run this cell\n",
    "\n",
    "# create sampling distribution histogram\n",
    "np.random.seed(4321)\n",
    "samples = []\n",
    "for rep in range(1500):\n",
    "    sample = resample(can_seniors, n_samples=40, replace=True)\n",
    "    sample = sample.assign(replicate=rep)\n",
    "    samples.append(sample)\n",
    "samples = pd.concat([samples[i] for i in range(len(samples))])\n",
    "\n",
    "sample_estimates = (\n",
    "    samples.groupby(\"replicate\").mean().reset_index().rename(columns={\"age\": \"mean\"})\n",
    ")\n",
    "sampling_dist = (\n",
    "    alt.Chart(sample_estimates, title=\"Sampling distribution of the sample means\")\n",
    "    .mark_bar()\n",
    "    .encode(\n",
    "        x=alt.X(\"mean:Q\", title=\"Mean Age (years)\", bin=alt.Bin(step=1)), y=\"count()\"\n",
    "    )\n",
    ") + alt.Chart({\"values\": [{\"x\": 85, \"y\": 200}]}).mark_text(\n",
    "    text=\"mean = \" + str(round(np.mean(sample_estimates[\"mean\"]), 2))\n",
    ").encode(\n",
    "    x=\"x:Q\", y=\"y:Q\"\n",
    ")\n",
    "\n",
    "# annotate distribution mean to the bootstrap dist\n",
    "boot_est_dist = boot_est_dist + alt.Chart({\"values\": [{\"x\": 90, \"y\": 140}]}).mark_text(\n",
    "    text=\"mean = \" + str(round(np.mean(boot1000_means[\"mean\"]), 2))\n",
    ").encode(x=\"x:Q\", y=\"y:Q\")\n",
    "\n",
    "# plot bootstrap distribution \n",
    "boot_est_dist"
   ]
  },
  {
   "cell_type": "code",
   "execution_count": null,
   "metadata": {
    "deletable": false,
    "editable": false,
    "nbgrader": {
     "cell_type": "code",
     "checksum": "6597237618294699b4840042614502b5",
     "grade": false,
     "grade_id": "cell-9aeb188d66e4f2b7",
     "locked": true,
     "schema_version": 3,
     "solution": false,
     "task": false
    }
   },
   "outputs": [],
   "source": [
    "# plot sampling distribution\n",
    "sampling_dist"
   ]
  },
  {
   "cell_type": "markdown",
   "metadata": {
    "deletable": false,
    "editable": false,
    "nbgrader": {
     "cell_type": "markdown",
     "checksum": "a913f796caa5374e7ae4202485969829",
     "grade": false,
     "grade_id": "cell-2529f74ae181fd44",
     "locked": true,
     "schema_version": 3,
     "solution": false,
     "task": false
    }
   },
   "source": [
    "Reminder: the true population quantity we are trying to estimate, the population mean, is about 79 years. We know this because we created this population and calculated this value. In real life we wouldn't know this value."
   ]
  },
  {
   "cell_type": "markdown",
   "metadata": {
    "deletable": false,
    "editable": false,
    "nbgrader": {
     "cell_type": "markdown",
     "checksum": "b0c5e8e6a674dbe415dddd30e3be0eb4",
     "grade": false,
     "grade_id": "cell-15147e6c224ccb72",
     "locked": true,
     "schema_version": 3,
     "solution": false,
     "task": false
    }
   },
   "source": [
    "**Question 2.5** True/False\n",
    "<br> {points: 1}\n",
    "\n",
    "The mean of the distribution of the bootstrap sample means is the same value as the mean of the sampling distribution of the sample means. True or false?\n",
    "\n",
    "*Assign your answer to an object called `answer2_5`. Your answer should be a boolean. i.e. `True` or `False`.*"
   ]
  },
  {
   "cell_type": "code",
   "execution_count": null,
   "metadata": {
    "deletable": false,
    "nbgrader": {
     "cell_type": "code",
     "checksum": "361feba52b818934ec4c11328ddd8630",
     "grade": false,
     "grade_id": "cell-0e3ed3ca2495a0bc",
     "locked": false,
     "schema_version": 3,
     "solution": true,
     "task": false
    }
   },
   "outputs": [],
   "source": [
    "# your code here\n",
    "raise NotImplementedError"
   ]
  },
  {
   "cell_type": "code",
   "execution_count": null,
   "metadata": {
    "deletable": false,
    "editable": false,
    "max_height": 100,
    "nbgrader": {
     "cell_type": "code",
     "checksum": "60b6cf6cb9b23552b55cea35dd3b37ae",
     "grade": true,
     "grade_id": "cell-3ea212ad593b9f57",
     "locked": true,
     "points": 1,
     "schema_version": 3,
     "solution": false,
     "task": false
    }
   },
   "outputs": [],
   "source": [
    "from hashlib import sha1\n",
    "assert sha1(str(type(answer2_5)).encode(\"utf-8\")+b\"115ea4eaa66205b4\").hexdigest() == \"b4dbd40b93eeeaef8fae2d611ad0eeb922be4485\", \"type of answer2_5 is not bool. answer2_5 should be a bool\"\n",
    "assert sha1(str(answer2_5).encode(\"utf-8\")+b\"115ea4eaa66205b4\").hexdigest() == \"4f688fa94471089f9f3bec82911243a7fb93f138\", \"boolean value of answer2_5 is not correct\"\n",
    "\n",
    "print('Success!')"
   ]
  },
  {
   "cell_type": "markdown",
   "metadata": {
    "deletable": false,
    "editable": false,
    "nbgrader": {
     "cell_type": "markdown",
     "checksum": "86380e8084ad8b83282605ea603bdf63",
     "grade": false,
     "grade_id": "cell-8f170c7bb0c58227",
     "locked": true,
     "schema_version": 3,
     "solution": false,
     "task": false
    }
   },
   "source": [
    "**Question 2.6** True/False\n",
    "<br> {points: 1}\n",
    "\n",
    "The mean of the bootstrap sampling distribution is not the same value as the mean of the sampling distribution because the bootstrap sampling distribution was created from samples drawn from a single sample, whereas the sampling distribution was created from samples drawn from the population. True or false?\n",
    "\n",
    "*Assign your answer to an object called `answer2_6`. Your answer should be a boolean. i.e. `True` or `False`.*"
   ]
  },
  {
   "cell_type": "code",
   "execution_count": null,
   "metadata": {
    "deletable": false,
    "nbgrader": {
     "cell_type": "code",
     "checksum": "f5c5ee6c8148592a4abd673e7a34c1bf",
     "grade": false,
     "grade_id": "cell-230cf28d4590a63d",
     "locked": false,
     "schema_version": 3,
     "solution": true,
     "task": false
    }
   },
   "outputs": [],
   "source": [
    "# your code here\n",
    "raise NotImplementedError"
   ]
  },
  {
   "cell_type": "code",
   "execution_count": null,
   "metadata": {
    "deletable": false,
    "editable": false,
    "max_height": 100,
    "nbgrader": {
     "cell_type": "code",
     "checksum": "9f252503660b274002d21b541f40bbe7",
     "grade": true,
     "grade_id": "cell-b167494acba2816d",
     "locked": true,
     "points": 1,
     "schema_version": 3,
     "solution": false,
     "task": false
    }
   },
   "outputs": [],
   "source": [
    "from hashlib import sha1\n",
    "assert sha1(str(type(answer2_6)).encode(\"utf-8\")+b\"e0f0e2aaa82af76a\").hexdigest() == \"0d31d4fbdd23909e51c3eec22faee488fff0b228\", \"type of answer2_6 is not bool. answer2_6 should be a bool\"\n",
    "assert sha1(str(answer2_6).encode(\"utf-8\")+b\"e0f0e2aaa82af76a\").hexdigest() == \"e5585473c317ca1a556e01dfb7d8a730aa1d45fd\", \"boolean value of answer2_6 is not correct\"\n",
    "\n",
    "print('Success!')"
   ]
  },
  {
   "cell_type": "markdown",
   "metadata": {
    "deletable": false,
    "editable": false,
    "nbgrader": {
     "cell_type": "markdown",
     "checksum": "b246e1122d1314010929999e97df9ab0",
     "grade": false,
     "grade_id": "cell-c569dabb88890bfc",
     "locked": true,
     "schema_version": 3,
     "solution": false,
     "task": false
    }
   },
   "source": [
    "**Question 2.7** True/False\n",
    "<br> {points: 1}\n",
    "\n",
    "The shape and spread (i.e. width) of the distribution of the bootstrap sample means is a poor approximation of the shape and spread of the sampling distribution of the sample means. True or false?\n",
    "\n",
    "*Assign your answer to an object called `answer2_7`. Your answer should be a boolean. i.e. `True` or `False`.*"
   ]
  },
  {
   "cell_type": "code",
   "execution_count": null,
   "metadata": {
    "deletable": false,
    "nbgrader": {
     "cell_type": "code",
     "checksum": "34f45cda41591164dc4e6557b14fc030",
     "grade": false,
     "grade_id": "cell-f82d46022821b073",
     "locked": false,
     "schema_version": 3,
     "solution": true,
     "task": false
    }
   },
   "outputs": [],
   "source": [
    "# your code here\n",
    "raise NotImplementedError"
   ]
  },
  {
   "cell_type": "code",
   "execution_count": null,
   "metadata": {
    "deletable": false,
    "editable": false,
    "max_height": 100,
    "nbgrader": {
     "cell_type": "code",
     "checksum": "bdda6302ba5ec79118f793d4f2ff2a70",
     "grade": true,
     "grade_id": "cell-2ab1350547ae451d",
     "locked": true,
     "points": 1,
     "schema_version": 3,
     "solution": false,
     "task": false
    }
   },
   "outputs": [],
   "source": [
    "from hashlib import sha1\n",
    "assert sha1(str(type(answer2_7)).encode(\"utf-8\")+b\"468ffb90d044c874\").hexdigest() == \"95ff3ef7d0f1c8d67ad49152b1e0deaebb94ac92\", \"type of answer2_7 is not bool. answer2_7 should be a bool\"\n",
    "assert sha1(str(answer2_7).encode(\"utf-8\")+b\"468ffb90d044c874\").hexdigest() == \"6321eedbc6e56a84f3f8f98ce9f64f50e6465b61\", \"boolean value of answer2_7 is not correct\"\n",
    "\n",
    "print('Success!')"
   ]
  },
  {
   "cell_type": "markdown",
   "metadata": {
    "deletable": false,
    "editable": false,
    "nbgrader": {
     "cell_type": "markdown",
     "checksum": "8101b7b2097db5050f2c8b58c975ef53",
     "grade": false,
     "grade_id": "cell-8399b964d743f33c",
     "locked": true,
     "schema_version": 3,
     "solution": false,
     "task": false
    }
   },
   "source": [
    "**Question 2.8** True/False\n",
    "<br> {points: 1}\n",
    "\n",
    "In real life, where we only have one sample and cannot create a sampling distribution, the distribution of the bootstrap sample estimates (here means) can suggest how we might expect our point estimate to behave if we took another sample. True or false?\n",
    "\n",
    "*Assign your answer to an object called `answer2_8`. Your answer should be a boolean. i.e. `True` or `False`.*"
   ]
  },
  {
   "cell_type": "code",
   "execution_count": null,
   "metadata": {
    "deletable": false,
    "nbgrader": {
     "cell_type": "code",
     "checksum": "1a27c57aaadcd38d1347724ed72004f8",
     "grade": false,
     "grade_id": "cell-59cfd94899e457a7",
     "locked": false,
     "schema_version": 3,
     "solution": true,
     "task": false
    }
   },
   "outputs": [],
   "source": [
    "# your code here\n",
    "raise NotImplementedError"
   ]
  },
  {
   "cell_type": "code",
   "execution_count": null,
   "metadata": {
    "deletable": false,
    "editable": false,
    "max_height": 100,
    "nbgrader": {
     "cell_type": "code",
     "checksum": "f9d0d9fc74de9e18877f3a26ab0ea4eb",
     "grade": true,
     "grade_id": "cell-4d2a0325f4fd2406",
     "locked": true,
     "points": 1,
     "schema_version": 3,
     "solution": false,
     "task": false
    }
   },
   "outputs": [],
   "source": [
    "from hashlib import sha1\n",
    "assert sha1(str(type(answer2_8)).encode(\"utf-8\")+b\"5d95bde10dcb6686\").hexdigest() == \"f41eeb62569e8e334f8a95f7b82f618bc7aa9a8c\", \"type of answer2_8 is not bool. answer2_8 should be a bool\"\n",
    "assert sha1(str(answer2_8).encode(\"utf-8\")+b\"5d95bde10dcb6686\").hexdigest() == \"b4b927833cb8f695c4bacd36ec9829b008fd23a4\", \"boolean value of answer2_8 is not correct\"\n",
    "\n",
    "print('Success!')"
   ]
  },
  {
   "cell_type": "markdown",
   "metadata": {
    "deletable": false,
    "editable": false,
    "nbgrader": {
     "cell_type": "markdown",
     "checksum": "e1922c201ead42beb140513403972276",
     "grade": false,
     "grade_id": "cell-3af745f41b79a813",
     "locked": true,
     "schema_version": 3,
     "solution": false,
     "task": false
    }
   },
   "source": [
    "### Using the bootstrap distribution to calculate a plausible range for point estimates\n",
    "\n",
    "Once we have created a bootstrap distribution, we can use it to suggest a plausible range where we might expect the true population quantity to lie. One formal name for a commonly used plausible range is called a confidence interval. Confidence intervals can be set at different levels, an example of a commonly used level is 95%. When we report a point estimate with a 95% confidence interval as the plausible range, formally we are saying that if we repeated this process of building confidence intervals more times with more samples, we’d expect ~ 95% of them to contain the value of the population quantity.\n",
    "\n",
    "> How do you choose a level for a confidence interval? You have to consider the downstream application of your estimation and what the cost/consequence of an incorrect estimate would be. The higher the cost/consequence, the higher a confidence level you would want to use. You will learn more about this in later Statistics courses.\n",
    "\n",
    "To calculate an approximate 95% confidence interval using bootstrapping, we essentially order the values in our bootstrap distribution and then take the value at the 2.5th percentile as the lower bound of the plausible range, and the 97.5th percentile as the upper bound of the plausible range. "
   ]
  },
  {
   "cell_type": "code",
   "execution_count": null,
   "metadata": {
    "deletable": false,
    "editable": false,
    "nbgrader": {
     "cell_type": "code",
     "checksum": "855786a1fe9b53e77441ce1bc897cac9",
     "grade": false,
     "grade_id": "cell-4e8bd702d14d0973",
     "locked": true,
     "schema_version": 3,
     "solution": false,
     "task": false
    }
   },
   "outputs": [],
   "source": [
    "# run this cell\n",
    "np.percentile(boot1000_means[\"mean\"], [2.5, 97.5])"
   ]
  },
  {
   "cell_type": "markdown",
   "metadata": {
    "deletable": false,
    "editable": false,
    "nbgrader": {
     "cell_type": "markdown",
     "checksum": "390ad7cd3669d4904f8c6de0b4dda3d8",
     "grade": false,
     "grade_id": "cell-671ea52cb570ec80",
     "locked": true,
     "schema_version": 3,
     "solution": false,
     "task": false
    }
   },
   "source": [
    "Thus, to finish our estimation of the population quantity that we are trying to estimate, we would report the point estimate and the lower and upper bounds of our confidence interval. We would say something like this:\n",
    "\n",
    "Our sample mean age for Canadian seniors was measured to be 83.7 years, and we’re 95% “confident” that the true population mean for Canadian seniors is between (78, 89). \n",
    "\n",
    "Here our 95% confidence interval does contain the true population mean for Canadian seniors, 79 years - pretty neat! However, in real life we would never be able to know this because we only have observations from a single sample, not the whole population."
   ]
  },
  {
   "cell_type": "markdown",
   "metadata": {
    "deletable": false,
    "editable": false,
    "nbgrader": {
     "cell_type": "markdown",
     "checksum": "1b0d85f0084376db3746016fb9f6bba4",
     "grade": false,
     "grade_id": "cell-9453844511483837",
     "locked": true,
     "schema_version": 3,
     "solution": false,
     "task": false
    }
   },
   "source": [
    "**Question 2.9** True/False\n",
    "<br> {points: 1}\n",
    "\n",
    "For any sample we take, if we use bootstrapping to calculate the 95% confidence intervals, the true population quantity we are trying to estimate would always fall within the lower and upper bounds of the confidence interval. True or false?\n",
    "\n",
    "*Assign your answer to an object called `answer2_9`. Your answer should be a boolean. i.e. `True` or `False`.*"
   ]
  },
  {
   "cell_type": "code",
   "execution_count": null,
   "metadata": {
    "deletable": false,
    "nbgrader": {
     "cell_type": "code",
     "checksum": "9b1b0ef7046e443eb9ddc1b4a1931b5d",
     "grade": false,
     "grade_id": "cell-91e462917a53edad",
     "locked": false,
     "schema_version": 3,
     "solution": true,
     "task": false
    }
   },
   "outputs": [],
   "source": [
    "# your code here\n",
    "raise NotImplementedError"
   ]
  },
  {
   "cell_type": "code",
   "execution_count": null,
   "metadata": {
    "deletable": false,
    "editable": false,
    "max_height": 100,
    "nbgrader": {
     "cell_type": "code",
     "checksum": "5df90ff2392c5ac109b467767194cbca",
     "grade": true,
     "grade_id": "cell-e0a24858ef65cea9",
     "locked": true,
     "points": 1,
     "schema_version": 3,
     "solution": false,
     "task": false
    }
   },
   "outputs": [],
   "source": [
    "from hashlib import sha1\n",
    "assert sha1(str(type(answer2_9)).encode(\"utf-8\")+b\"b0039dbcad9a3cc1\").hexdigest() == \"dc9d76ab0e2e78d7bfd2440330011d7718f1ef32\", \"type of answer2_9 is not bool. answer2_9 should be a bool\"\n",
    "assert sha1(str(answer2_9).encode(\"utf-8\")+b\"b0039dbcad9a3cc1\").hexdigest() == \"28b8caa2d490dcb9a5bae2428ccbcd15d870910b\", \"boolean value of answer2_9 is not correct\"\n",
    "\n",
    "print('Success!')"
   ]
  },
  {
   "cell_type": "markdown",
   "metadata": {
    "deletable": false,
    "editable": false,
    "nbgrader": {
     "cell_type": "markdown",
     "checksum": "0689099bda888a255e032e19a8b0b28f",
     "grade": false,
     "grade_id": "cell-b8318bace082261d",
     "locked": true,
     "schema_version": 3,
     "solution": false,
     "task": false
    }
   },
   "source": [
    "# Optional: getting Python + Jupyter working for you outside of our course\n",
    "\n",
    "At some point after the course is done, you will lose access to the JupyterHub server where you have been doing your course work. If you want to continue to use Python + Jupyter (for other courses at UBC, or for your work after UBC) you have two options:\n",
    "\n",
    "1. a server solution\n",
    "2. a local installation solution\n",
    "\n",
    "We will point you to how you can do both, as well as provide [guidance to take a copy of your homework from our Canvas JupyterHub server](#Getting-your-files-off-of-the-Canvas-JupyterHub)."
   ]
  },
  {
   "cell_type": "markdown",
   "metadata": {
    "deletable": false,
    "editable": false,
    "nbgrader": {
     "cell_type": "markdown",
     "checksum": "5ad825830dc0b0a8007fe8885717d691",
     "grade": false,
     "grade_id": "cell-936a7113cb83576f",
     "locked": true,
     "schema_version": 3,
     "solution": false,
     "task": false
    }
   },
   "source": [
    "## Getting your files off of the Canvas JupyterHub\n",
    "\n",
    "1. On the Canvas JupyterHub open a terminal and type: `tar -zcvf dsci-100.tar.gz dsci-100`\n",
    "2. Go to the JupyterHub Control Panel/Home and click the box beside the file `dsci-100.tar.gz`, and then click \"Download\"\n",
    "3. Log onto either the https://ubc.syzygy.ca/ (CWL authentication) or https://cybera.syzygy.ca/ (Google authentication) servers\n",
    "4. Click the white \"Upload\" button (beside the \"New\" button), and select `tar -zxvf dsci-100.tar.gz`. Then click the blue \"Upload\" button to complete the upload.\n",
    "5. open a terminal and type: `tar -zxvf dsci-100.tar.gz` \n",
    "\n",
    "You should have your files now available on either of those servers above. \n",
    "\n",
    "*On Mac or Linux `tar` also works in terminal, and so you can use this strategy to have the files available locally, however you will need Jupyter installed to view them.*"
   ]
  },
  {
   "cell_type": "markdown",
   "metadata": {
    "deletable": false,
    "editable": false,
    "nbgrader": {
     "cell_type": "markdown",
     "checksum": "2eb0be90118dd9f23be047b93829a47d",
     "grade": false,
     "grade_id": "cell-e5fc9403235886f2",
     "locked": true,
     "schema_version": 3,
     "solution": false,
     "task": false
    }
   },
   "source": [
    "### 1. A Server Solution\n",
    "\n",
    "- As a student at UBC, you have access to another JupyterHub that you can access using your UBC CWL: https://ubc.syzygy.ca/\n",
    "- If you have a Google account, you have access to another JupyterHub that does not depend on you being a UBC student (i.e., having a valid CWL): https://cybera.syzygy.ca/"
   ]
  },
  {
   "cell_type": "markdown",
   "metadata": {
    "deletable": false,
    "editable": false,
    "nbgrader": {
     "cell_type": "markdown",
     "checksum": "24e910d9a25762b3c9f1e4ab685e4c56",
     "grade": false,
     "grade_id": "cell-05fbbeb3f01c7176",
     "locked": true,
     "schema_version": 3,
     "solution": false,
     "task": false
    }
   },
   "source": [
    "### 2. A Local Installation Solution\n",
    "\n",
    "- Depending on your device, you may be able to install Jupyter and Python on it. Below we provide instructions for the 3 major operating systems ([Mac](#A.-Install-Jupyter-+-Python-on-Mac), [Windows](#B.-Install-Jupyter-+-Python-on-Windows) and [Linux]())\n",
    "\n",
    "### A. Install Jupyter + Python on Mac\n",
    "\n",
    "#### A.1. Install Python\n",
    "\n",
    "Go to https://repo.anaconda.com/miniconda/Miniconda3-latest-MacOSX-x86_64.pkg and download the latest version of Python for Mac. Open the file and follow the installer instructions.\n",
    "\n",
    "#### A.2. Install Jupyter\n",
    "Head to https://www.anaconda.com/download/#macos and download the Anaconda version for Mac OS. Follow the instructions on that page to run the installer. *Anaconda is a software bundle installs Jupyter and Python and a few other tools. We recommend using it because it makes installation much simpler than other methods.*\n",
    "\n",
    "#### A.3 Test if it works:\n",
    "\n",
    "- Open terminal and type: `jupyter notebook`\n",
    "\n",
    "The above command should open a web browser, with Jupyter's home inside it. Try creating a new Python notebook and running some simple Python code (e.g., `print(\"hello!\")`) to test that it works.\n",
    "\n",
    "### B. Install Jupyter + Python on Windows\n",
    "\n",
    "#### B.1. Install Python\n",
    "\n",
    "Go to https://repo.anaconda.com/miniconda/Miniconda3-latest-Windows-x86_64.exe and download the latest version of Python for Windows. Open the file and follow the installer instructions.\n",
    "\n",
    "#### B.2. Install Jupyter\n",
    "Head to <https://www.anaconda.com/download/#windows> and download the Anaconda version for Windows with Python 3.6. After the download has finished, run the installer selecting the following options:\n",
    "  - On the **Advanced Installation Options** page, check both boxes (see image below)\n",
    "  - For all other pages, use the default options\n",
    "\n",
    "<img align=\"left\" src=\"https://github.com/UBC-MDS/UBC-MDS.github.io/raw/master/resources_pages/imgs/anaconda_windows.png\" width=\"550\">\n"
   ]
  },
  {
   "cell_type": "markdown",
   "metadata": {
    "deletable": false,
    "editable": false,
    "nbgrader": {
     "cell_type": "markdown",
     "checksum": "e23f035ca47c72a264e496fe2472ebf3",
     "grade": false,
     "grade_id": "cell-6679df31675785b3",
     "locked": true,
     "schema_version": 3,
     "solution": false,
     "task": false
    }
   },
   "source": [
    "#### B.4 Test if it works:\n",
    "\n",
    "- Open Windows Command Prompt (select the Start button, type cmd, and click Command Prompt from the list) and type: `jupyter notebook`\n",
    "\n",
    "The above command should open a web browser, with Jupyter's home inside it. Try creating a new Python notebook and running some simple Python code (e.g., `print(\"hello!\")`) to test that it works.\n",
    "\n",
    "### C. Install Jupyter + Python on Linux\n",
    "\n",
    "#### C.1. Install Python\n",
    "\n",
    "Go to https://repo.anaconda.com/miniconda/Miniconda3-latest-Linux-x86_64.sh and download the latest version of Python for Linux.\n",
    "\n",
    "\n",
    "#### C.2. Install Jupyter\n",
    "Head to https://www.anaconda.com/download/#linux and download the Anaconda version for Linux with Python 3.6. Follow the instructions on that page to run the installer. *Anaconda is a software bundle installs Jupyter and Python and a few other tools. We recommend using it because it makes installation much simpler than other methods.*\n",
    "\n",
    "#### C.3 Test if it works:\n",
    "\n",
    "- Open terminal and type: `jupyter notebook`\n",
    "\n",
    "The above command should open a web browser, with Jupyter's home inside it. Try creating a new Python notebook and running some simple Python code (e.g., `print(\"hello!\")`) to test that it works."
   ]
  }
 ],
 "metadata": {
  "jupytext": {
   "encoding": "# -*- coding: utf-8 -*-"
  },
  "kernelspec": {
   "display_name": "Python 3 (ipykernel)",
   "language": "python",
   "name": "python3"
  },
  "language_info": {
   "codemirror_mode": {
    "name": "ipython",
    "version": 3
   },
   "file_extension": ".py",
   "mimetype": "text/x-python",
   "name": "python",
   "nbconvert_exporter": "python",
   "pygments_lexer": "ipython3",
   "version": "3.10.8"
  }
 },
 "nbformat": 4,
 "nbformat_minor": 4
}
