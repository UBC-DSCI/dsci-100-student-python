{
 "cells": [
  {
   "cell_type": "markdown",
   "metadata": {
    "deletable": false,
    "editable": false,
    "nbgrader": {
     "cell_type": "markdown",
     "checksum": "aa94891de98f714680f05a18fb82dd83",
     "grade": false,
     "grade_id": "cell-9fc931a1b92d396c",
     "locked": true,
     "schema_version": 3,
     "solution": false,
     "task": false
    }
   },
   "source": [
    "# Worksheet 5: Introduction to version control\n",
    "\n",
    "\n",
    "<img src=\"img/logo.png\" width=400>\n",
    "\n",
    "You can read more about course policies on the [course website](https://github.com/ubc-DSCI/dsci-100-student-python).\n",
    "\n",
    "### Lecture and Tutorial Learning Goals:\n",
    "\n",
    "After completing this week's lecture and tutorial work, you will be able to:\n",
    "\n",
    "* Describe what version control is and why data analysis projects can benefit from it\n",
    "* Create a remote version control repository on GitHub\n",
    "* Move changes to files from GitHub to JupyterHub, and from JupyterHub to GitHub\n",
    "* Give collaborators access to the repository\n",
    "* Resolve conflicting edits made by multiple collaborators\n",
    "* Communicate with collaborators using issues\n",
    "* Use best practices when collaborating on a project with others\n",
    "\n",
    "This worksheet covers parts of [Chapter 12](https://python.datasciencebook.ca/version-control.html) of the online textbook. You should read this chapter before attempting the worksheet.\n",
    "\n",
    "**Note the following important information from UBC about your privacy: [GitHub.com](https://github.com/) is stored on servers outside Canada. When you access this site from UBC’s JupyterHub environment, you are transferred to these servers. UBC cannot guarantee security of your private information on servers outside of Canada. Please exercise caution whenever using personal information. You may wish to use a pseudonym to protect your privacy if you have concerns. Please feel free to contact us at UBC (LT.hub@ubc.ca) if you have any questions about your privacy.**"
   ]
  },
  {
   "cell_type": "markdown",
   "metadata": {
    "deletable": false,
    "editable": false,
    "nbgrader": {
     "cell_type": "markdown",
     "checksum": "32ddce9f7b2244bd1a5f36d10b074427",
     "grade": false,
     "grade_id": "cell-3b8465487dd766f5",
     "locked": true,
     "schema_version": 3,
     "solution": false,
     "task": false
    }
   },
   "source": [
    "## 1. What is version control? Why use it? "
   ]
  },
  {
   "cell_type": "markdown",
   "metadata": {
    "deletable": false,
    "editable": false,
    "nbgrader": {
     "cell_type": "markdown",
     "checksum": "19910d2d3b6a492e1a6f9ef67459926d",
     "grade": false,
     "grade_id": "cell-33341d6ba389a6a5",
     "locked": true,
     "schema_version": 3,
     "solution": false
    }
   },
   "source": [
    "**Question 1.1** Multiple Choice:\n",
    "<br> {points: 1}\n",
    "\n",
    "Which reason listed below **is not** a good reason to use version control:\n",
    "\n",
    "A. Version control tools provide transparency on how a project evolved by tracking the history of documents, and who made what changes to those documents.\n",
    "\n",
    "B. Version control tools usually include a remote/cloud repository hosting service that can act as a backup of your local files (i.e., the files on your computer).\n",
    "\n",
    "C. In practice, most data science projects involve collaboration on documents that contain code (e.g., Jupyter notebooks), and version control tools facilitate collaboration on such documents.\n",
    "\n",
    "D. Version control tools check the accuracy of your code. \n",
    "\n",
    "*Assign your answer to an object called `answer1_1`. Make sure your answer is an uppercase letter and is surrounded by quotation marks (e.g. `\"F\"`).*"
   ]
  },
  {
   "cell_type": "code",
   "execution_count": null,
   "metadata": {
    "deletable": false,
    "nbgrader": {
     "cell_type": "code",
     "checksum": "32f2e7965b2a6929ba328170d17cbf10",
     "grade": false,
     "grade_id": "cell-6bdc2f57a189abcf",
     "locked": false,
     "schema_version": 3,
     "solution": true
    }
   },
   "outputs": [],
   "source": [
    "# your code here\n",
    "raise NotImplementedError"
   ]
  },
  {
   "cell_type": "code",
   "execution_count": null,
   "metadata": {
    "deletable": false,
    "editable": false,
    "max_height": 100,
    "nbgrader": {
     "cell_type": "code",
     "checksum": "fa38a92f1af04791c69b09e62cc7388f",
     "grade": true,
     "grade_id": "cell-62f0d28a4d321e00",
     "locked": true,
     "points": 3,
     "schema_version": 3,
     "solution": false
    }
   },
   "outputs": [],
   "source": [
    "from hashlib import sha1\n",
    "assert sha1(str(type(answer1_1)).encode(\"utf-8\")+b\"f2ade1276f812d17\").hexdigest() == \"a00e6e42939df975ed12e8ec602535248b7d7544\", \"type of answer1_1 is not str. answer1_1 should be an str\"\n",
    "assert sha1(str(len(answer1_1)).encode(\"utf-8\")+b\"f2ade1276f812d17\").hexdigest() == \"4788b22a36d49c7a32ca2281b12269d2c1b25cce\", \"length of answer1_1 is not correct\"\n",
    "assert sha1(str(answer1_1.lower()).encode(\"utf-8\")+b\"f2ade1276f812d17\").hexdigest() == \"922c071089fa7349ba72f838965b98643e677e35\", \"value of answer1_1 is not correct\"\n",
    "assert sha1(str(answer1_1).encode(\"utf-8\")+b\"f2ade1276f812d17\").hexdigest() == \"5765e13c9dcbc59ad22f7b854df101427b54845f\", \"correct string value of answer1_1 but incorrect case of letters\"\n",
    "\n",
    "print('Success!')"
   ]
  },
  {
   "cell_type": "markdown",
   "metadata": {
    "deletable": false,
    "editable": false,
    "nbgrader": {
     "cell_type": "markdown",
     "checksum": "0371d29c14e1c94b06f8d8822728dd0f",
     "grade": false,
     "grade_id": "cell-b91542cf20075a6d",
     "locked": true,
     "schema_version": 3,
     "solution": false
    }
   },
   "source": [
    "**Question 1.2** True or false: \n",
    "<br> {points: 1}\n",
    "\n",
    "**Git** is a remote/cloud repository hosting service where you can backup and share your files with collaborators.\n",
    "\n",
    "*Assign your answer to an object called `answer1_2`. Make sure your answer is a boolean (e.g. `True` or `False`).* "
   ]
  },
  {
   "cell_type": "code",
   "execution_count": null,
   "metadata": {
    "deletable": false,
    "nbgrader": {
     "cell_type": "code",
     "checksum": "3471bdc16e4ac20588d6bbe9540f53d2",
     "grade": false,
     "grade_id": "cell-419826637ad2ec8b",
     "locked": false,
     "schema_version": 3,
     "solution": true
    }
   },
   "outputs": [],
   "source": [
    "# your code here\n",
    "raise NotImplementedError"
   ]
  },
  {
   "cell_type": "code",
   "execution_count": null,
   "metadata": {
    "deletable": false,
    "editable": false,
    "max_height": 100,
    "nbgrader": {
     "cell_type": "code",
     "checksum": "671b5df972fee9e08d8757df945c7636",
     "grade": true,
     "grade_id": "cell-decda128ce0061b5",
     "locked": true,
     "points": 3,
     "schema_version": 3,
     "solution": false
    }
   },
   "outputs": [],
   "source": [
    "from hashlib import sha1\n",
    "assert sha1(str(type(answer1_2)).encode(\"utf-8\")+b\"7694d623033a23b9\").hexdigest() == \"e817834a5dd67f7ce912853a7a7a1fd057ae4a1c\", \"type of answer1_2 is not bool. answer1_2 should be a bool\"\n",
    "assert sha1(str(answer1_2).encode(\"utf-8\")+b\"7694d623033a23b9\").hexdigest() == \"ec241d419160577396739cab67723086a83caf1e\", \"boolean value of answer1_2 is not correct\"\n",
    "\n",
    "print('Success!')"
   ]
  },
  {
   "cell_type": "markdown",
   "metadata": {
    "deletable": false,
    "editable": false,
    "nbgrader": {
     "cell_type": "markdown",
     "checksum": "758abad6164c754ce4e934d5174d2dfb",
     "grade": false,
     "grade_id": "cell-201bce97876c61d9",
     "locked": true,
     "schema_version": 3,
     "solution": false,
     "task": false
    },
    "tags": []
   },
   "source": [
    "## 2. Creating a space for your data science project online\n",
    "\n",
    "For the rest of this worksheet, you will create a toy data science project on GitHub to practice using Git and GitHub. We will ask you questions about what you are doing along the way to test your understanding.\n",
    "\n",
    "#### Signup for a free GitHub.com account:\n",
    "If you do not already have a free GitHub.com account, visit [GitHub.com](https://github.com/) and signup for one. Store your username and password in a secure place (we recomend using a password manager for things like this, examples of these are [LastPass](https://www.lastpass.com/), [1Password](https://1password.com/), etc).\n",
    "\n",
    "#### Create a GitHub repository:\n",
    "On [GitHub.com](https://github.com/) create a new repository and name it `toy_ds_project`. You can decide whether to make it private or public. Ensure that you select “Add a README file.” **This task corresponds to [this step](https://python.datasciencebook.ca/version-control.html#creating-a-remote-repository-on-github) in the textbook.**"
   ]
  },
  {
   "cell_type": "markdown",
   "metadata": {
    "deletable": false,
    "editable": false,
    "nbgrader": {
     "cell_type": "markdown",
     "checksum": "30effa704db3f1c2f6439c6a56c5e0fc",
     "grade": false,
     "grade_id": "cell-b3a3c0bfe11c30aa",
     "locked": true,
     "schema_version": 3,
     "solution": false
    },
    "tags": []
   },
   "source": [
    "**Question 2.1** Multiple Choice:\n",
    "\n",
    "Which statement below is **not true** about GitHub repositories:\n",
    "<br> {points: 1}\n",
    "\n",
    "A. Immediately after a repository is created on GitHub.com using the website, the repository exists only on GitHub.com and does not exist on your computer (i.e., you need to do something to get a copy of it on your computer).\n",
    "\n",
    "B. Only the creator of GitHub repository, and people the creator specify, can edit the files in the repository. This is true even when the repository is public.\n",
    "\n",
    "C. If the repository is public, anyone on the web can view it.\n",
    "\n",
    "D. If the repository is public, anyone on the web can edit it.\n",
    "\n",
    "E. A GitHub repository is like a folder on Dropbox or Google Drive, but it is different in that it has special properties for version control.\n",
    "\n",
    "*Assign your answer to an object called `answer2_1`. Make sure your answer is an uppercase letter and is surrounded by quotation marks (e.g. `\"F\"`).* "
   ]
  },
  {
   "cell_type": "code",
   "execution_count": null,
   "metadata": {
    "deletable": false,
    "nbgrader": {
     "cell_type": "code",
     "checksum": "62da17e28171bff9b03a01dabbe2c46c",
     "grade": false,
     "grade_id": "cell-09da6197edcf6859",
     "locked": false,
     "schema_version": 3,
     "solution": true
    },
    "tags": []
   },
   "outputs": [],
   "source": [
    "# your code here\n",
    "raise NotImplementedError"
   ]
  },
  {
   "cell_type": "code",
   "execution_count": null,
   "metadata": {
    "deletable": false,
    "editable": false,
    "max_height": 100,
    "nbgrader": {
     "cell_type": "code",
     "checksum": "a5fc0118314855fa6f50f3e83457356d",
     "grade": true,
     "grade_id": "cell-bcb67971fe82e848",
     "locked": true,
     "points": 3,
     "schema_version": 3,
     "solution": false
    }
   },
   "outputs": [],
   "source": [
    "from hashlib import sha1\n",
    "assert sha1(str(type(answer2_1)).encode(\"utf-8\")+b\"56b7302c7962cdea\").hexdigest() == \"c1efc9418af54e40939b023c4842efed395fa72b\", \"type of answer2_1 is not str. answer2_1 should be an str\"\n",
    "assert sha1(str(len(answer2_1)).encode(\"utf-8\")+b\"56b7302c7962cdea\").hexdigest() == \"5da23aee9b80f4b62c80c59d7d808feb67f1f364\", \"length of answer2_1 is not correct\"\n",
    "assert sha1(str(answer2_1.lower()).encode(\"utf-8\")+b\"56b7302c7962cdea\").hexdigest() == \"395674512c2c793315ea6db4e8123b27b791b6f7\", \"value of answer2_1 is not correct\"\n",
    "assert sha1(str(answer2_1).encode(\"utf-8\")+b\"56b7302c7962cdea\").hexdigest() == \"c1b470105b0c09b833c6bf8625c87eeb6a181725\", \"correct string value of answer2_1 but incorrect case of letters\"\n",
    "\n",
    "print('Success!')"
   ]
  },
  {
   "cell_type": "markdown",
   "metadata": {
    "deletable": false,
    "editable": false,
    "nbgrader": {
     "cell_type": "markdown",
     "checksum": "b98e3a64d14f0ec16ac45fb15f187a73",
     "grade": false,
     "grade_id": "cell-bee24c9a528da438",
     "locked": true,
     "schema_version": 3,
     "solution": false,
     "task": false
    }
   },
   "source": [
    "## 3. Creating and editing files on GitHub\n",
    "\n",
    "1. Edit the `README.md` file in your `toy_ds_project` repository on GitHub.com using the pen tool. Write \"project creation date:\" and list today's date. \n",
    "2. Commit this change directly to the main branch and write the commit message \"added creation date\". **This task corresponds to [this step](https://datasciencebook.ca/Getting-started-with-version-control.html#editing-files-on-github-with-the-pen-tool) in the textbook.**\n",
    "3. Next, use the pen tool again to edit the `README.md` file. Write \"author\" and list your name as the author. Commit this change and use the commit message \"added project author\".\n",
    "4. Explore the commit history of your project by clicking on the link that looks like this: \n",
    "\n",
    "<img src=\"img/commits_history_link.png\" width=600>\n",
    "\n",
    "> Note: you can visit the version of your repository at any stage in its history by click on the `<>` buttons! Give it a try!"
   ]
  },
  {
   "cell_type": "markdown",
   "metadata": {
    "deletable": false,
    "editable": false,
    "nbgrader": {
     "cell_type": "markdown",
     "checksum": "0447b8c46a0659a1c6b415efa9565a1f",
     "grade": false,
     "grade_id": "cell-4589f01853a62fe7",
     "locked": true,
     "schema_version": 3,
     "solution": false
    }
   },
   "source": [
    "**Question 3.1**  True or false:\n",
    "<br> {points: 1}\n",
    "\n",
    "Even though commit messages are required to edit a file using the pen tool on GitHub.com, it doesn't matter what message you write in practice.\n",
    "\n",
    "*Assign your answer to an object called `answer3_1`. Make sure your answer is a boolean (e.g. `True` or `False`).* "
   ]
  },
  {
   "cell_type": "code",
   "execution_count": null,
   "metadata": {
    "deletable": false,
    "nbgrader": {
     "cell_type": "code",
     "checksum": "d9d130716e5783b98f8194c3964abae9",
     "grade": false,
     "grade_id": "cell-c7993ed9e8e63184",
     "locked": false,
     "schema_version": 3,
     "solution": true
    }
   },
   "outputs": [],
   "source": [
    "# your code here\n",
    "raise NotImplementedError"
   ]
  },
  {
   "cell_type": "code",
   "execution_count": null,
   "metadata": {
    "deletable": false,
    "editable": false,
    "max_height": 100,
    "nbgrader": {
     "cell_type": "code",
     "checksum": "e05d1ec077cc3e186e6f426fc4bcf760",
     "grade": true,
     "grade_id": "cell-0a781125473dc3d8",
     "locked": true,
     "points": 3,
     "schema_version": 3,
     "solution": false
    }
   },
   "outputs": [],
   "source": [
    "from hashlib import sha1\n",
    "assert sha1(str(type(answer3_1)).encode(\"utf-8\")+b\"592a4d458ce6a6f8\").hexdigest() == \"a76e6591fb7e8483fee49e47cba5c457516e6743\", \"type of answer3_1 is not bool. answer3_1 should be a bool\"\n",
    "assert sha1(str(answer3_1).encode(\"utf-8\")+b\"592a4d458ce6a6f8\").hexdigest() == \"8114c7ecd1a490637569e8551fa1d7e5eb096da4\", \"boolean value of answer3_1 is not correct\"\n",
    "\n",
    "print('Success!')"
   ]
  },
  {
   "cell_type": "markdown",
   "metadata": {
    "deletable": false,
    "editable": false,
    "nbgrader": {
     "cell_type": "markdown",
     "checksum": "9f0a0ac747db41b5fc3b2abce9c25a61",
     "grade": false,
     "grade_id": "cell-97539987da5e6f2a",
     "locked": true,
     "schema_version": 3,
     "solution": false,
     "task": false
    }
   },
   "source": [
    "## 4. Cloning your repository on JupyterHub\n",
    "\n",
    "For our data science project, we need to put a copy of our repository somewhere we can run and test the code we write (otherwise, we won't know that our code works!!!). We can use the course JupyterHub for this!\n",
    "\n",
    "#### Clone GitHub repository to the course JupyterHub:\n",
    "Clone a copy of this GitHub repository to the course JupyterHub using the Jupyter Git extension. **This task corresponds to [this step](https://python.datasciencebook.ca/version-control.html#cloning-a-repository-using-jupyter) in the textbook.**\n"
   ]
  },
  {
   "cell_type": "markdown",
   "metadata": {
    "deletable": false,
    "editable": false,
    "nbgrader": {
     "cell_type": "markdown",
     "checksum": "f70e2212a47e87a89b56d315af431fde",
     "grade": false,
     "grade_id": "cell-798a7cbf057308b4",
     "locked": true,
     "schema_version": 3,
     "solution": false,
     "task": false
    }
   },
   "source": [
    "**Question 4.1** True or false:\n",
    "<br> {points: 1}\n",
    "\n",
    "The definition of **cloning a repository** is to copy/download the entire contents (files, project history, and location of the remote repository) of a remote GitHub.com repository to a computer (e.g., your workspace on a JupyterHub, or your laptop).\n",
    "\n",
    "*Assign your answer to an object called `answer4_1`. Make sure your answer is a boolean (e.g. `True` or `False`).* "
   ]
  },
  {
   "cell_type": "code",
   "execution_count": null,
   "metadata": {
    "deletable": false,
    "nbgrader": {
     "cell_type": "code",
     "checksum": "ceef55f7aaeae8cd732984330838b210",
     "grade": false,
     "grade_id": "cell-050dd93f81d2fc95",
     "locked": false,
     "schema_version": 3,
     "solution": true,
     "task": false
    }
   },
   "outputs": [],
   "source": [
    "# your code here\n",
    "raise NotImplementedError"
   ]
  },
  {
   "cell_type": "code",
   "execution_count": null,
   "metadata": {
    "deletable": false,
    "editable": false,
    "max_height": 100,
    "nbgrader": {
     "cell_type": "code",
     "checksum": "3c04b7584b32478f7b8a54bc991c1d84",
     "grade": true,
     "grade_id": "cell-f4e891dadfecbbf6",
     "locked": true,
     "points": 3,
     "schema_version": 3,
     "solution": false,
     "task": false
    }
   },
   "outputs": [],
   "source": [
    "from hashlib import sha1\n",
    "assert sha1(str(type(answer4_1)).encode(\"utf-8\")+b\"ec753b3514174a04\").hexdigest() == \"e87cacebcd32a8c96aab3cf97f69b39cee38a2cb\", \"type of answer4_1 is not bool. answer4_1 should be a bool\"\n",
    "assert sha1(str(answer4_1).encode(\"utf-8\")+b\"ec753b3514174a04\").hexdigest() == \"0fff0c696efc4c08627b08b2c1564c6259840a99\", \"boolean value of answer4_1 is not correct\"\n",
    "\n",
    "print('Success!')"
   ]
  },
  {
   "cell_type": "markdown",
   "metadata": {
    "deletable": false,
    "editable": false,
    "nbgrader": {
     "cell_type": "markdown",
     "checksum": "c873db8e102bd9802ec30320a7f96825",
     "grade": false,
     "grade_id": "cell-5596109d0e6be6f8",
     "locked": true,
     "schema_version": 3,
     "solution": false,
     "task": false
    }
   },
   "source": [
    "## 5. Working in a cloned repository on JupyterHub\n",
    "\n",
    "Now that your repository exists in your workspace on the course JupyterHub, you can create a new Jupyter notebook with an Python kernel and write some code! To help this project move along, we show you below how to create a new Jupyter notebook and save it and some code to put in it. \n",
    "\n",
    "### Creating a new Jupyter notebook with an Python kernel\n",
    "\n",
    "To create a new Jupyter notebook with an Python kernel in your `toy_ds_project` repository, use the file navigation menu of Jupyter so that you are inside the `toy_ds_project`:\n",
    "\n",
    "<img src=\"img/to-get-to-project-root.png\" width=500>\n",
    "\n",
    "\n",
    "Once there, click on new Python notebook.\n",
    "\n",
    "<img src=\"img/new-notebook_py.png\" width=500>\n",
    "\n",
    "Next, right-click on the filename and click on \"Rename\", to rename the file `marg_vs_divorce_viz.ipynb`.\n",
    "\n",
    "<img src=\"img/rename.png\" width=500>"
   ]
  },
  {
   "cell_type": "markdown",
   "metadata": {
    "deletable": false,
    "editable": false,
    "nbgrader": {
     "cell_type": "markdown",
     "checksum": "eeab2b834184f616db0f80377dd59954",
     "grade": false,
     "grade_id": "cell-809047e1033806c6",
     "locked": true,
     "schema_version": 3,
     "solution": false,
     "task": false
    }
   },
   "source": [
    "\n",
    "### Add code to the notebook you created\n",
    "\n",
    "Add the code below to the notebook and run it to display the data visualization. Feel free to add a narrative to the notebook if you like, commenting on the question being asked, the data visualization results, and whether correlation means causation. When you are done, save the notebook.\n",
    "\n",
    "```\n",
    "import altair as alt\n",
    "import pandas as pd\n",
    "\n",
    "should_have_bought_butter = pd.DataFrame(\n",
    "    {\n",
    "        \"margarine_consumption\": [8.2, 7, 6.5, 5.3, 5.2, 4, 4.6, 4.5, 4.2, 3.7],\n",
    "        \"maine_divorce_rate\": [5, 4.7, 4.6, 4.4, 4.3, 4.1, 4.2, 4.2, 4.2, 4.1],\n",
    "        \"year\": [2000, 2001, 2002, 2003, 2004, 2005, 2006, 2007, 2008, 2009]\n",
    "    }\n",
    ")\n",
    "\n",
    "marg_vs_time = (\n",
    "    alt.Chart(\n",
    "        should_have_bought_butter,\n",
    "        title=\"Divorce rate in Maine correlates with margarine consumption\",\n",
    "    )\n",
    "    .mark_line(color=\"blue\")\n",
    "    .encode(\n",
    "        x=alt.X(\"year\", title=\"Year\"),\n",
    "        y=alt.Y(\n",
    "            \"margarine_consumption\", title=\"Margarine consumption (lbs per capita)\", scale=alt.Scale(zero=False)\n",
    "        ),\n",
    "    )\n",
    ")\n",
    "\n",
    "divorce_rate_vs_time = (\n",
    "    alt.Chart(\n",
    "        should_have_bought_butter,\n",
    "        title=\"Divorce rate in Maine correlates with margarine consumption\",\n",
    "    )\n",
    "    .mark_line(color=\"red\")\n",
    "    .encode(\n",
    "        x=alt.X(\"year\", title=\"Year\"),\n",
    "        y=alt.Y(\n",
    "            \"maine_divorce_rate\", title=\"Divorce rate in Maine (per 1000)\", scale=alt.Scale(zero=False)\n",
    "        ),\n",
    "    )\n",
    ")\n",
    "\n",
    "marg_vs_time + divorce_rate_vs_time\n",
    "```"
   ]
  },
  {
   "cell_type": "markdown",
   "metadata": {
    "deletable": false,
    "editable": false,
    "nbgrader": {
     "cell_type": "markdown",
     "checksum": "d7efc12d27224276cc4b91f1dc4f3e58",
     "grade": false,
     "grade_id": "cell-1f6c2b4695b6022b",
     "locked": true,
     "schema_version": 3,
     "solution": false,
     "task": false
    }
   },
   "source": [
    "## 6. Specifying files to commit\n",
    "\n",
    "Now we would like to start the process of putting `marg_vs_divorce_viz.ipynb` under version control and eventually push this file to our remote repository on GitHub.com. The first step to doing this is to **add** the changes to this file (creating it and the code) to the Git staging area. Go ahead and use the Jupyter Git extension to do this now. **This task corresponds to [this step](https://python.datasciencebook.ca/version-control.html#specifying-files-to-commit) in the textbook.**"
   ]
  },
  {
   "cell_type": "markdown",
   "metadata": {
    "deletable": false,
    "editable": false,
    "nbgrader": {
     "cell_type": "markdown",
     "checksum": "3ea3bb53a01a2b719547b6e642ce3882",
     "grade": false,
     "grade_id": "cell-b41196d7c306a078",
     "locked": true,
     "schema_version": 3,
     "solution": false,
     "task": false
    }
   },
   "source": [
    "**Question 6.1** Multiple Choice:\n",
    "<br> {points: 1}\n",
    "\n",
    "Git has a distinct step of **adding** files to the staging area because:\n",
    "\n",
    "A. Not all changes we make (i.e., files we create or edit) are ones that we want to push to our remote GitHub repository.\n",
    "\n",
    "B. It allows us to edit multiple files at once, but associate particular commit messages with particular files (so that the commit messages can more specifically reflect the changes that were made).\n",
    "\n",
    "C. This is technically required of all version control software.\n",
    "\n",
    "D. A and C.\n",
    "\n",
    "E. A and B.\n",
    "\n",
    "*Assign your answer to an object called `answer6_1`. Make sure your answer is an uppercase letter and is surrounded by quotation marks (e.g. `\"F\"`).* "
   ]
  },
  {
   "cell_type": "code",
   "execution_count": null,
   "metadata": {
    "deletable": false,
    "nbgrader": {
     "cell_type": "code",
     "checksum": "45add27f275237cddcc131e1f254ff76",
     "grade": false,
     "grade_id": "cell-78a41a64da6293e8",
     "locked": false,
     "schema_version": 3,
     "solution": true,
     "task": false
    }
   },
   "outputs": [],
   "source": [
    "# your code here\n",
    "raise NotImplementedError"
   ]
  },
  {
   "cell_type": "code",
   "execution_count": null,
   "metadata": {
    "deletable": false,
    "editable": false,
    "max_height": 100,
    "nbgrader": {
     "cell_type": "code",
     "checksum": "9c4fd4b97dae1c558468683f3c962a31",
     "grade": true,
     "grade_id": "cell-4df7797ab4b028cf",
     "locked": true,
     "points": 3,
     "schema_version": 3,
     "solution": false,
     "task": false
    }
   },
   "outputs": [],
   "source": [
    "from hashlib import sha1\n",
    "assert sha1(str(type(answer6_1)).encode(\"utf-8\")+b\"775c6e8dc9c970dd\").hexdigest() == \"b3bef4176e7b425bb574d3962ad2f4bd5d8da5b6\", \"type of answer6_1 is not str. answer6_1 should be an str\"\n",
    "assert sha1(str(len(answer6_1)).encode(\"utf-8\")+b\"775c6e8dc9c970dd\").hexdigest() == \"b26fa03e02a0bd66fe7448cb89f38b186e78e122\", \"length of answer6_1 is not correct\"\n",
    "assert sha1(str(answer6_1.lower()).encode(\"utf-8\")+b\"775c6e8dc9c970dd\").hexdigest() == \"3922e52eb0f16da98a5e84ca54a739b4cb1fe25d\", \"value of answer6_1 is not correct\"\n",
    "assert sha1(str(answer6_1).encode(\"utf-8\")+b\"775c6e8dc9c970dd\").hexdigest() == \"206424e1576e201aba8c78bff5200c13baaa55c1\", \"correct string value of answer6_1 but incorrect case of letters\"\n",
    "\n",
    "print('Success!')"
   ]
  },
  {
   "cell_type": "markdown",
   "metadata": {
    "deletable": false,
    "editable": false,
    "nbgrader": {
     "cell_type": "markdown",
     "checksum": "83305b97c52f474246e7dbdb3341f75c",
     "grade": false,
     "grade_id": "cell-4e608fec626c6457",
     "locked": true,
     "schema_version": 3,
     "solution": false,
     "task": false
    }
   },
   "source": [
    "## 7. Making the commit \n",
    "\n",
    "The next step is to **commit** our changes to our local Git repository. You can use the Jupyter Git extension to do this now. **This task corresponds to [this step](https://datasciencebook.ca/Getting-started-with-version-control.html#making-the-commit) in the textbook.**"
   ]
  },
  {
   "cell_type": "markdown",
   "metadata": {
    "deletable": false,
    "editable": false,
    "nbgrader": {
     "cell_type": "markdown",
     "checksum": "e80d4ba580495d694e38c82c52841b98",
     "grade": false,
     "grade_id": "cell-bb0b5573ca79e68e",
     "locked": true,
     "schema_version": 3,
     "solution": false,
     "task": false
    }
   },
   "source": [
    "**Question 7.1** True or false:\n",
    "<br> {points: 1}\n",
    "\n",
    "When we **commit** our changes to Git, the snapshot of changes, the commit message, the time and date stamp, and the user who committed the changes are all saved to the Git history on GitHub.\n",
    "\n",
    "*Assign your answer to an object called `answer7_1`. Make sure your answer is a boolean (e.g. `True` or `False`).* "
   ]
  },
  {
   "cell_type": "code",
   "execution_count": null,
   "metadata": {
    "deletable": false,
    "nbgrader": {
     "cell_type": "code",
     "checksum": "e4394075676e919af91f39ffc7ae9204",
     "grade": false,
     "grade_id": "cell-abcee8a2afc5bc19",
     "locked": false,
     "schema_version": 3,
     "solution": true,
     "task": false
    }
   },
   "outputs": [],
   "source": [
    "# your code here\n",
    "raise NotImplementedError"
   ]
  },
  {
   "cell_type": "code",
   "execution_count": null,
   "metadata": {
    "deletable": false,
    "editable": false,
    "max_height": 100,
    "nbgrader": {
     "cell_type": "code",
     "checksum": "b0565ec404871e45777905b5fe0d19ec",
     "grade": true,
     "grade_id": "cell-a4297f9a9b8fe5a9",
     "locked": true,
     "points": 3,
     "schema_version": 3,
     "solution": false,
     "task": false
    }
   },
   "outputs": [],
   "source": [
    "from hashlib import sha1\n",
    "assert sha1(str(type(answer7_1)).encode(\"utf-8\")+b\"2b144e724b8c95b4\").hexdigest() == \"6a3c0f24f549cdeb78d6ac0d58b9c2e0e2770e21\", \"type of answer7_1 is not bool. answer7_1 should be a bool\"\n",
    "assert sha1(str(answer7_1).encode(\"utf-8\")+b\"2b144e724b8c95b4\").hexdigest() == \"31049ef4f4324b5ad65c19da35d257247d1a2b23\", \"boolean value of answer7_1 is not correct\"\n",
    "\n",
    "print('Success!')"
   ]
  },
  {
   "cell_type": "markdown",
   "metadata": {
    "deletable": false,
    "editable": false,
    "nbgrader": {
     "cell_type": "markdown",
     "checksum": "53f3416939924e6dc179399290894ee1",
     "grade": false,
     "grade_id": "cell-76bb7245f8522013",
     "locked": true,
     "schema_version": 3,
     "solution": false,
     "task": false
    }
   },
   "source": [
    "## 8. Pushing the commits to GitHub\n",
    "\n",
    "Finally, we are ready to send our changes (creating and adding code to `marg_vs_divorce_viz.ipynb`) to our remote repository through a process we call \"pushing\". Go ahead and do this now. **This task corresponds to [this step](https://python.datasciencebook.ca/version-control.html#pushing-the-commits-to-github) in the textbook.**\n",
    "\n",
    "After completing pushing your work to the remote repository on GitHub, visit your repository on GitHub.com and check out what your awesome toy project looks like!!!"
   ]
  },
  {
   "cell_type": "markdown",
   "metadata": {
    "deletable": false,
    "editable": false,
    "nbgrader": {
     "cell_type": "markdown",
     "checksum": "3c46580cecfb8270a2b0f4245be95092",
     "grade": false,
     "grade_id": "cell-22a610ed6a316a7b",
     "locked": true,
     "schema_version": 3,
     "solution": false,
     "task": false
    }
   },
   "source": [
    "**Question 8.1** Multiple Choice:\n",
    "\n",
    "Which statement below is **not** true?\n",
    "<br> {points: 1}\n",
    "\n",
    "A. Cloning and pulling a GitHub repository are the exact same thing.\n",
    "\n",
    "B. Pushing with Git is the act of sending changes that were committed to Git to a remote repository, for example, on GitHub.com.\n",
    "\n",
    "C. Pulling with Git is the act of collecting changes that exists in a remote repository, for example, on GitHub.com, that do not yet exist on the local computer you are working on (i.e., your workspace on the JupyterHub or your laptop).\n",
    "\n",
    "D. You should push your work to GitHub anytime you want to share your work with others, or when you are done a work session and want to back up your work.\n",
    "\n",
    "*Assign your answer to an object called `answer8_1`. Make sure your answer is an uppercase letter and is surrounded by quotation marks (e.g. `\"F\"`).* "
   ]
  },
  {
   "cell_type": "code",
   "execution_count": null,
   "metadata": {
    "deletable": false,
    "nbgrader": {
     "cell_type": "code",
     "checksum": "2494c9da557361271ba1830a94f541de",
     "grade": false,
     "grade_id": "cell-513a65b2e4fa6c01",
     "locked": false,
     "schema_version": 3,
     "solution": true,
     "task": false
    }
   },
   "outputs": [],
   "source": [
    "# your code here\n",
    "raise NotImplementedError"
   ]
  },
  {
   "cell_type": "code",
   "execution_count": null,
   "metadata": {
    "deletable": false,
    "editable": false,
    "max_height": 100,
    "nbgrader": {
     "cell_type": "code",
     "checksum": "3362d1944295c7b0f4ee19568f31f880",
     "grade": true,
     "grade_id": "cell-ac98c61c35f6f0b6",
     "locked": true,
     "points": 3,
     "schema_version": 3,
     "solution": false,
     "task": false
    }
   },
   "outputs": [],
   "source": [
    "from hashlib import sha1\n",
    "assert sha1(str(type(answer8_1)).encode(\"utf-8\")+b\"798fd1b26fefff0c\").hexdigest() == \"de9b30514ca736f92dee75be49bcf079dc61a07f\", \"type of answer8_1 is not str. answer8_1 should be an str\"\n",
    "assert sha1(str(len(answer8_1)).encode(\"utf-8\")+b\"798fd1b26fefff0c\").hexdigest() == \"82353ebc336fd58a1017136c3b3ce34909f7b431\", \"length of answer8_1 is not correct\"\n",
    "assert sha1(str(answer8_1.lower()).encode(\"utf-8\")+b\"798fd1b26fefff0c\").hexdigest() == \"25a7e8bb2f5b7840a2bfd4b61fe9519513704532\", \"value of answer8_1 is not correct\"\n",
    "assert sha1(str(answer8_1).encode(\"utf-8\")+b\"798fd1b26fefff0c\").hexdigest() == \"dfba30d2abea1461581663da5052b8b7615edf5f\", \"correct string value of answer8_1 but incorrect case of letters\"\n",
    "\n",
    "print('Success!')"
   ]
  },
  {
   "cell_type": "markdown",
   "metadata": {
    "deletable": false,
    "editable": false,
    "nbgrader": {
     "cell_type": "markdown",
     "checksum": "d3566c2606e749c8c6f7ad7020dc7f72",
     "grade": false,
     "grade_id": "cell-f5d9167c9c55eb6f",
     "locked": true,
     "schema_version": 3,
     "solution": false,
     "task": false
    }
   },
   "source": [
    "## 9. Giving collaborators access to your project\n",
    "\n",
    "One of the advantages of using version control tools, such as Git and GitHub, is how it lets you collaborate. Let's get some practice starting down this path. Add one or more of your breakout group members to your GitHub repository as a collaborator. **This task corresponds to [this step](https://python.datasciencebook.ca/version-control.html#giving-collaborators-access-to-your-project) in the textbook.**"
   ]
  },
  {
   "cell_type": "markdown",
   "metadata": {
    "deletable": false,
    "editable": false,
    "nbgrader": {
     "cell_type": "markdown",
     "checksum": "aac5c00d4863429035c46c7fb2cc4233",
     "grade": false,
     "grade_id": "cell-f2819a276d866112",
     "locked": true,
     "schema_version": 3,
     "solution": false,
     "task": false
    }
   },
   "source": [
    "**Question 9.1** True or false:\n",
    "<br> {points: 1}\n",
    "\n",
    "You can clone or pull from any public remote repository on GitHub.com, however you can only push to public remote repositories on GitHub.com that you own are a collaborator on.\n",
    "\n",
    "*Assign your answer to an object called `answer9_1`. Make sure your answer is a boolean (e.g. `True` or `False`).* "
   ]
  },
  {
   "cell_type": "code",
   "execution_count": null,
   "metadata": {
    "deletable": false,
    "nbgrader": {
     "cell_type": "code",
     "checksum": "4b04442444526d5f74df38d803a94216",
     "grade": false,
     "grade_id": "cell-e27a72ed06d0a5c6",
     "locked": false,
     "schema_version": 3,
     "solution": true,
     "task": false
    }
   },
   "outputs": [],
   "source": [
    "# your code here\n",
    "raise NotImplementedError"
   ]
  },
  {
   "cell_type": "code",
   "execution_count": null,
   "metadata": {
    "deletable": false,
    "editable": false,
    "max_height": 100,
    "nbgrader": {
     "cell_type": "code",
     "checksum": "830d7f0e06cde8debadfaab9d28fc5b9",
     "grade": true,
     "grade_id": "cell-9dc8d28efb9ccda7",
     "locked": true,
     "points": 3,
     "schema_version": 3,
     "solution": false,
     "task": false
    }
   },
   "outputs": [],
   "source": [
    "from hashlib import sha1\n",
    "assert sha1(str(type(answer9_1)).encode(\"utf-8\")+b\"7c0428ca987fb007\").hexdigest() == \"95aa8e691b069ad7e6758b3dbb4ebc5e170d958d\", \"type of answer9_1 is not bool. answer9_1 should be a bool\"\n",
    "assert sha1(str(answer9_1).encode(\"utf-8\")+b\"7c0428ca987fb007\").hexdigest() == \"3a9b6060fc94916043ff9e59f7798c6c01a558ac\", \"boolean value of answer9_1 is not correct\"\n",
    "\n",
    "print('Success!')"
   ]
  },
  {
   "cell_type": "markdown",
   "metadata": {
    "deletable": false,
    "editable": false,
    "nbgrader": {
     "cell_type": "markdown",
     "checksum": "75175bc3a2080e7e0ef0ee3833809cb9",
     "grade": false,
     "grade_id": "cell-797a55d8f7192735",
     "locked": true,
     "schema_version": 3,
     "solution": false,
     "task": false
    }
   },
   "source": [
    "#### (Optional) more collaboration practice!\n",
    "\n",
    "If you want to practice more Git & GitHub skills for collaboration, ask someone in your team if you can collaborate and send an edit to their project. To do this, they will need to add you as a collaborator, and then you will need to clone their repository to your JupyterHub. After that, you can edit some files (or create a whole new one), save your work, and then use the Jupyter Git extension to add, commit, and push your changes to their remote GitHub repository."
   ]
  },
  {
   "cell_type": "markdown",
   "metadata": {
    "deletable": false,
    "editable": false,
    "nbgrader": {
     "cell_type": "markdown",
     "checksum": "2440317bc8e6c4e8bb2ec25f1f79c577",
     "grade": false,
     "grade_id": "cell-2f3cb25ea183fa20",
     "locked": true,
     "schema_version": 3,
     "solution": false,
     "task": false
    }
   },
   "source": [
    "## 10. Communicating using GitHub issues\n",
    "\n",
    "It's easy for project communications to get lost in email or whatever messaging platform you use to communicate with your team. GitHub issues are an excellent tool explicitly designed for project collaboration as they are \"attached\" to the project's remote GitHub repository. Your task here is to go to the issue tab for your project and create an issue about something you might want to improve about your project. **This task corresponds to [this step](https://python.datasciencebook.ca/version-control.html#communicating-using-github-issues) in the textbook.**"
   ]
  },
  {
   "cell_type": "markdown",
   "metadata": {
    "deletable": false,
    "editable": false,
    "nbgrader": {
     "cell_type": "markdown",
     "checksum": "e0191b3db608a99c9d3fb255f7099392",
     "grade": false,
     "grade_id": "cell-9df9861dc7f0b061",
     "locked": true,
     "schema_version": 3,
     "solution": false,
     "task": false
    }
   },
   "source": [
    "**Question 10.1** Multiple Choice:\n",
    "<br> {points: 1}\n",
    "\n",
    "Which statement below is **not** a reason why GitHub issues are an ideal medium for project-specific communications?\n",
    "\n",
    "A. Issues are part of each GitHub repository, and thus \"attached\" to the project.\n",
    "\n",
    "B. Issues only persist while they are open, and immediately deleted when they are closed.\n",
    "\n",
    "C. Issues are easily searchable using GitHub’s search tools.\n",
    "\n",
    "D. All issues are accessible to all project collaborators, so no one is left out of the conversation.\n",
    "\n",
    "E. Issues can be set up so that team members get email notifications when a new issue is created or a new post is made in an issue thread.\n",
    "\n",
    "*Assign your answer to an object called `answer10_1`. Make sure your answer is an uppercase letter and is surrounded by quotation marks (e.g. `\"F\"`).* "
   ]
  },
  {
   "cell_type": "code",
   "execution_count": null,
   "metadata": {
    "deletable": false,
    "nbgrader": {
     "cell_type": "code",
     "checksum": "582dfcf807d7d590b697316dd28b601e",
     "grade": false,
     "grade_id": "cell-79a4febe0e471e05",
     "locked": false,
     "schema_version": 3,
     "solution": true,
     "task": false
    }
   },
   "outputs": [],
   "source": [
    "# your code here\n",
    "raise NotImplementedError"
   ]
  },
  {
   "cell_type": "code",
   "execution_count": null,
   "metadata": {
    "deletable": false,
    "editable": false,
    "max_height": 100,
    "nbgrader": {
     "cell_type": "code",
     "checksum": "07d8fbbfe8a05710fd6ee13ac7b88936",
     "grade": true,
     "grade_id": "cell-6656677ba896c92f",
     "locked": true,
     "points": 3,
     "schema_version": 3,
     "solution": false,
     "task": false
    }
   },
   "outputs": [],
   "source": [
    "from hashlib import sha1\n",
    "assert sha1(str(type(answer10_1)).encode(\"utf-8\")+b\"f78c2e8152b8edad\").hexdigest() == \"498882ae5ae872831fd36ddc8214b4193a97ab2a\", \"type of answer10_1 is not str. answer10_1 should be an str\"\n",
    "assert sha1(str(len(answer10_1)).encode(\"utf-8\")+b\"f78c2e8152b8edad\").hexdigest() == \"6564efcb837c842003a9ab8e414ff940e7597035\", \"length of answer10_1 is not correct\"\n",
    "assert sha1(str(answer10_1.lower()).encode(\"utf-8\")+b\"f78c2e8152b8edad\").hexdigest() == \"c8080d739bada4acf002273d32c602f494e12b8f\", \"value of answer10_1 is not correct\"\n",
    "assert sha1(str(answer10_1).encode(\"utf-8\")+b\"f78c2e8152b8edad\").hexdigest() == \"7b815da6f6c960c78b94b55b74f73b4be42d70e1\", \"correct string value of answer10_1 but incorrect case of letters\"\n",
    "\n",
    "print('Success!')"
   ]
  },
  {
   "cell_type": "markdown",
   "metadata": {
    "deletable": false,
    "editable": false,
    "nbgrader": {
     "cell_type": "markdown",
     "checksum": "6cbde4e4b7fd052e64963f6bcd57f75a",
     "grade": false,
     "grade_id": "cell-38a8620df69dd63c",
     "locked": true,
     "schema_version": 3,
     "solution": false,
     "task": false
    }
   },
   "source": [
    "#### (Optional) Even more collaboration practice! \n",
    "\n",
    "Visit a team member's GitHub repository and leave a polite but constructive message on how they could improve their project. \n"
   ]
  },
  {
   "cell_type": "markdown",
   "metadata": {
    "deletable": false,
    "editable": false,
    "nbgrader": {
     "cell_type": "markdown",
     "checksum": "63a79938d9b762f2dc3e3a144338a0ca",
     "grade": false,
     "grade_id": "cell-86e7938376066291",
     "locked": true,
     "schema_version": 3,
     "solution": false,
     "task": false
    }
   },
   "source": [
    "## Nice work! You're all done here!\n",
    "\n",
    "<img src=\"https://media.giphy.com/media/lcYFNTaz4U9jy/giphy.gif\">"
   ]
  }
 ],
 "metadata": {
  "jupytext": {
   "encoding": "# -*- coding: utf-8 -*-"
  },
  "kernelspec": {
   "display_name": "Python 3 (ipykernel)",
   "language": "python",
   "name": "python3"
  },
  "language_info": {
   "codemirror_mode": {
    "name": "ipython",
    "version": 3
   },
   "file_extension": ".py",
   "mimetype": "text/x-python",
   "name": "python",
   "nbconvert_exporter": "python",
   "pygments_lexer": "ipython3",
   "version": "3.10.8"
  }
 },
 "nbformat": 4,
 "nbformat_minor": 4
}
