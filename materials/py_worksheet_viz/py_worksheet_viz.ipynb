{
 "cells": [
  {
   "cell_type": "markdown",
   "metadata": {
    "deletable": false,
    "editable": false,
    "nbgrader": {
     "cell_type": "markdown",
     "checksum": "43d55a2d4a61144afb03dc358938d239",
     "grade": false,
     "grade_id": "cell-d7dff6881e80c256",
     "locked": true,
     "schema_version": 3,
     "solution": false,
     "task": false
    }
   },
   "source": [
    "# Worksheet 4: Effective Data Visualization \n",
    "\n",
    "\n",
    "### Lecture and Tutorial Learning Goals:\n",
    "\n",
    "Expand your data visualization knowledge and tool set beyond what we have seen and practiced so far. We will move beyond scatter plots and learn other effective ways to visualize data, as well as some general rules of thumb to follow when creating visualizations. All visualization tasks this week will be applied to real world data sets.\n",
    "\n",
    "\n",
    "After completing this week's lecture and tutorial work, you will be able to:\n",
    "\n",
    "- Describe when to use the following kinds of visualizations:\n",
    "    - scatter plots\n",
    "    - line plots\n",
    "    - bar plots\n",
    "- Given a dataset and a question, select from the above plot types to create a visualization that best answers the question\n",
    "- Given a visualization and a question, evaluate the effectiveness of the visualization and suggest improvements to better answer the question\n",
    "- Identify rules of thumb for creating effective visualizations\n",
    "- Define the two key aspects of altair objects:\n",
    "    - mark objects\n",
    "    - encodings\n",
    "- Use the `altair` library in Python to create and refine the above visualizations using:\n",
    "    - mark objects: `mark_point`, `mark_line`, `mark_bar`\n",
    "    - encodings : `x`, `y`, `fill`, `color`, `shape`\n",
    "    - subplots: `facet`\n",
    "- Describe the difference in raster and vector output formats\n",
    "- Use `save` to save visualizations in `png` and `svg` formats\n"
   ]
  },
  {
   "cell_type": "code",
   "execution_count": null,
   "metadata": {
    "deletable": false,
    "editable": false,
    "nbgrader": {
     "cell_type": "code",
     "checksum": "bc3d302e81e4cdcf34b3eed16dc28972",
     "grade": false,
     "grade_id": "cell-1fdb1939e17b5421",
     "locked": true,
     "schema_version": 3,
     "solution": false,
     "task": false
    }
   },
   "outputs": [],
   "source": [
    "### Run this cell before continuing.\n",
    "import altair as alt\n",
    "import pandas as pd\n",
    "\n",
    "alt.data_transformers.disable_max_rows()"
   ]
  },
  {
   "cell_type": "markdown",
   "metadata": {
    "deletable": false,
    "editable": false,
    "nbgrader": {
     "cell_type": "markdown",
     "checksum": "c3d3f2feb135bd29afd976588f7efc5d",
     "grade": false,
     "grade_id": "cell-3c378af00356c0f3",
     "locked": true,
     "schema_version": 3,
     "solution": false
    }
   },
   "source": [
    "**Question 0.1** True or False: \n",
    "<br> {points: 1}\n",
    "\n",
    "For each of the items below, which are encodings in `altair`? \n",
    "\n",
    "A. `color` <br>\n",
    "B. `scale` <br>\n",
    "C. `x` <br>\n",
    "D. `fill` <br>\n",
    "E. `type`\n",
    "\n",
    "*Assign either `True` or `False` for each to an object called `answer0_1_L` where `L` should be replaced by the letter corresponding to the question. For example, if above we had E. `type`, we would set `answer0_1_E = True`.*"
   ]
  },
  {
   "cell_type": "code",
   "execution_count": null,
   "metadata": {
    "deletable": false,
    "nbgrader": {
     "cell_type": "code",
     "checksum": "83dccd22df663b9ebdc461f955a6dfdd",
     "grade": false,
     "grade_id": "cell-d42b5b5cadd02544",
     "locked": false,
     "schema_version": 3,
     "solution": true
    }
   },
   "outputs": [],
   "source": [
    "# your code here\n",
    "raise NotImplementedError"
   ]
  },
  {
   "cell_type": "code",
   "execution_count": null,
   "metadata": {
    "deletable": false,
    "editable": false,
    "max_height": 100,
    "nbgrader": {
     "cell_type": "code",
     "checksum": "775ba565566010ed131050c0a961bcb0",
     "grade": true,
     "grade_id": "cell-65573b490f8813ec",
     "locked": true,
     "points": 1,
     "schema_version": 3,
     "solution": false
    }
   },
   "outputs": [],
   "source": [
    "from hashlib import sha1\n",
    "assert sha1(str(type(answer0_1_A)).encode(\"utf-8\")+b\"6735043e64fcbabf\").hexdigest() == \"3276eab1cd7abe6934b144d0e1ec04bf9d91524d\", \"type of answer0_1_A is not bool. answer0_1_A should be a bool\"\n",
    "assert sha1(str(answer0_1_A).encode(\"utf-8\")+b\"6735043e64fcbabf\").hexdigest() == \"6ef5cedb4249334448db81d98abbf593ed2c503c\", \"boolean value of answer0_1_A is not correct\"\n",
    "\n",
    "assert sha1(str(type(answer0_1_B)).encode(\"utf-8\")+b\"34f54c3db0818a95\").hexdigest() == \"50f9fe3df481ce4a2d607e368fded50b85621414\", \"type of answer0_1_B is not bool. answer0_1_B should be a bool\"\n",
    "assert sha1(str(answer0_1_B).encode(\"utf-8\")+b\"34f54c3db0818a95\").hexdigest() == \"e4872b0903360ac5d1aab6f84ca96bd2434b7ecb\", \"boolean value of answer0_1_B is not correct\"\n",
    "\n",
    "assert sha1(str(type(answer0_1_C)).encode(\"utf-8\")+b\"80bd1608958c94eb\").hexdigest() == \"ccd820830df9ee4877562ed7d35acff8a4b30f7d\", \"type of answer0_1_C is not bool. answer0_1_C should be a bool\"\n",
    "assert sha1(str(answer0_1_C).encode(\"utf-8\")+b\"80bd1608958c94eb\").hexdigest() == \"a3046a5a73244891fde400fdaba9f24d2151bce7\", \"boolean value of answer0_1_C is not correct\"\n",
    "\n",
    "assert sha1(str(type(answer0_1_D)).encode(\"utf-8\")+b\"767d12d075e3a693\").hexdigest() == \"72cead5285e2e0fec0c1961422fdc7e08eb6894f\", \"type of answer0_1_D is not bool. answer0_1_D should be a bool\"\n",
    "assert sha1(str(answer0_1_D).encode(\"utf-8\")+b\"767d12d075e3a693\").hexdigest() == \"e09bac67482836d86071d8ada7dac0eed90c144a\", \"boolean value of answer0_1_D is not correct\"\n",
    "\n",
    "assert sha1(str(type(answer0_1_E)).encode(\"utf-8\")+b\"3f374d00c255dc3e\").hexdigest() == \"f7edadfa97c1d4628af0f3b80e1a703269c3d1f5\", \"type of answer0_1_E is not bool. answer0_1_E should be a bool\"\n",
    "assert sha1(str(answer0_1_E).encode(\"utf-8\")+b\"3f374d00c255dc3e\").hexdigest() == \"177b1c5db6fade4d43b8cfe4f68018e1825d4768\", \"boolean value of answer0_1_E is not correct\"\n",
    "\n",
    "print('Success!')"
   ]
  },
  {
   "cell_type": "markdown",
   "metadata": {
    "deletable": false,
    "editable": false,
    "nbgrader": {
     "cell_type": "markdown",
     "checksum": "70166576c5df4058fcd949100b4639fe",
     "grade": false,
     "grade_id": "cell-a7dfc6e8e27d0615",
     "locked": true,
     "schema_version": 3,
     "solution": false
    }
   },
   "source": [
    "**Question 0.2** Multiple Choice:\n",
    "<br> {points: 1}\n",
    "\n",
    "When deciding on the size of your visualization we recommend that you: \n",
    "\n",
    "A. Only make the plot area (where the dots, lines, bars are) as big as needed\n",
    "\n",
    "B. Make it as big as your screen allows\n",
    "\n",
    "C. Use the default given by `altair`\n",
    "\n",
    "*Assign your answer to an object called `answer0_2`. Make sure your answer is an uppercase letter and is surrounded by quotation marks (e.g. `\"F\"`).*"
   ]
  },
  {
   "cell_type": "code",
   "execution_count": null,
   "metadata": {
    "deletable": false,
    "nbgrader": {
     "cell_type": "code",
     "checksum": "8be46bf98f19a10eac0507b7b0c1f23c",
     "grade": false,
     "grade_id": "cell-46cbbfc18df2f1a2",
     "locked": false,
     "schema_version": 3,
     "solution": true
    }
   },
   "outputs": [],
   "source": [
    "# your code here\n",
    "raise NotImplementedError"
   ]
  },
  {
   "cell_type": "code",
   "execution_count": null,
   "metadata": {
    "deletable": false,
    "editable": false,
    "max_height": 100,
    "nbgrader": {
     "cell_type": "code",
     "checksum": "6cffa19b2f91f0781ad304a84d68e4c8",
     "grade": true,
     "grade_id": "cell-165bb2f307f14e34",
     "locked": true,
     "points": 1,
     "schema_version": 3,
     "solution": false
    }
   },
   "outputs": [],
   "source": [
    "from hashlib import sha1\n",
    "assert sha1(str(type(answer0_2)).encode(\"utf-8\")+b\"42f2e43a16491293\").hexdigest() == \"35612766a74d129d46f77fa2b3c52b37cdaf41a3\", \"type of answer0_2 is not str. answer0_2 should be an str\"\n",
    "assert sha1(str(len(answer0_2)).encode(\"utf-8\")+b\"42f2e43a16491293\").hexdigest() == \"fe039f4d3246b5c4d39668f6df5a93b8e66f1016\", \"length of answer0_2 is not correct\"\n",
    "assert sha1(str(answer0_2.lower()).encode(\"utf-8\")+b\"42f2e43a16491293\").hexdigest() == \"d9842b99745c76990573181d915bd2f9c41b6554\", \"value of answer0_2 is not correct\"\n",
    "assert sha1(str(answer0_2).encode(\"utf-8\")+b\"42f2e43a16491293\").hexdigest() == \"dc1b93121e09abbadc6bee49bf51b396a15ccba0\", \"correct string value of answer0_2 but incorrect case of letters\"\n",
    "\n",
    "print('Success!')"
   ]
  },
  {
   "cell_type": "markdown",
   "metadata": {
    "deletable": false,
    "editable": false,
    "nbgrader": {
     "cell_type": "markdown",
     "checksum": "dd6827ddf5b4f38ded4e154456d53739",
     "grade": false,
     "grade_id": "cell-a64e6788a027a69c",
     "locked": true,
     "schema_version": 3,
     "solution": false
    }
   },
   "source": [
    "**Question 0.3** Multiple Choice:\n",
    "<br> {points: 1}\n",
    "\n",
    "Under what circumstance would you use a static (non-interactive) 3D plot?\n",
    "\n",
    "A. Anytime you have more than two variables that you want to show the relationship between\n",
    "\n",
    "B. When you want to emphasize the large difference between groups\n",
    "\n",
    "C. When you need to grab attention of your audience\n",
    "\n",
    "D. Rarely, we avoid 3D plots as it is difficult to visualize 3D information on a screen or on paper\n",
    "\n",
    "*Assign your answer to an object called `answer0_3`. Make sure your answer is an uppercase letter and is surrounded by quotation marks (e.g. `\"F\"`).*"
   ]
  },
  {
   "cell_type": "code",
   "execution_count": null,
   "metadata": {
    "deletable": false,
    "nbgrader": {
     "cell_type": "code",
     "checksum": "9c7b0b0c887e3c7398e94256b07bfb4e",
     "grade": false,
     "grade_id": "cell-e3a98de134b6b2f0",
     "locked": false,
     "schema_version": 3,
     "solution": true
    }
   },
   "outputs": [],
   "source": [
    "# your code here\n",
    "raise NotImplementedError"
   ]
  },
  {
   "cell_type": "code",
   "execution_count": null,
   "metadata": {
    "deletable": false,
    "editable": false,
    "max_height": 100,
    "nbgrader": {
     "cell_type": "code",
     "checksum": "eba99f42c49157be0a542305a6ab20c9",
     "grade": true,
     "grade_id": "cell-521dc123937db46d",
     "locked": true,
     "points": 1,
     "schema_version": 3,
     "solution": false
    }
   },
   "outputs": [],
   "source": [
    "from hashlib import sha1\n",
    "assert sha1(str(type(answer0_3)).encode(\"utf-8\")+b\"4fb0a5fc0ef1fc78\").hexdigest() == \"3d291bc72c956306f94b753f3c5f62f87995f3bc\", \"type of answer0_3 is not str. answer0_3 should be an str\"\n",
    "assert sha1(str(len(answer0_3)).encode(\"utf-8\")+b\"4fb0a5fc0ef1fc78\").hexdigest() == \"4f0f83d62324d62fc57128a219fc3d7e738e0d7e\", \"length of answer0_3 is not correct\"\n",
    "assert sha1(str(answer0_3.lower()).encode(\"utf-8\")+b\"4fb0a5fc0ef1fc78\").hexdigest() == \"5b0c12f6c84eb1ac6f805ca02127b21937b18de2\", \"value of answer0_3 is not correct\"\n",
    "assert sha1(str(answer0_3).encode(\"utf-8\")+b\"4fb0a5fc0ef1fc78\").hexdigest() == \"64ed865c774090af5736ba9d7bd96c2a9974e54b\", \"correct string value of answer0_3 but incorrect case of letters\"\n",
    "\n",
    "print('Success!')"
   ]
  },
  {
   "cell_type": "markdown",
   "metadata": {
    "deletable": false,
    "editable": false,
    "nbgrader": {
     "cell_type": "markdown",
     "checksum": "9cfdc488335082c35d927fd75073a951",
     "grade": false,
     "grade_id": "cell-7148c0706bcb2d4b",
     "locked": true,
     "schema_version": 3,
     "solution": false
    }
   },
   "source": [
    "**Question 0.4** Multiple Choice:\n",
    "<br> {points: 1}\n",
    "\n",
    "What is the symbol used to add a new layer to a `altair` object?\n",
    "\n",
    "A. `<-`\n",
    "\n",
    "B. `>`\n",
    "\n",
    "C. `&`\n",
    "\n",
    "D. `+`\n",
    "\n",
    "*Assign your answer to an object called `answer0_4`. Make sure your answer is an uppercase letter and is surrounded by quotation marks (e.g. `\"F\"`).*"
   ]
  },
  {
   "cell_type": "code",
   "execution_count": null,
   "metadata": {
    "deletable": false,
    "nbgrader": {
     "cell_type": "code",
     "checksum": "d3d30e3d237755e0de706770d2b95925",
     "grade": false,
     "grade_id": "cell-ea7ba4f1243e667d",
     "locked": false,
     "schema_version": 3,
     "solution": true
    }
   },
   "outputs": [],
   "source": [
    "# your code here\n",
    "raise NotImplementedError"
   ]
  },
  {
   "cell_type": "code",
   "execution_count": null,
   "metadata": {
    "deletable": false,
    "editable": false,
    "max_height": 100,
    "nbgrader": {
     "cell_type": "code",
     "checksum": "7dcdc23b81bb334a678053532a48505f",
     "grade": true,
     "grade_id": "cell-5c15ea7ab4b4655e",
     "locked": true,
     "points": 1,
     "schema_version": 3,
     "solution": false
    }
   },
   "outputs": [],
   "source": [
    "from hashlib import sha1\n",
    "assert sha1(str(type(answer0_4)).encode(\"utf-8\")+b\"279410e156f04860\").hexdigest() == \"182e4f82c6bfe18b215ba63b1b5d49f18ceef2eb\", \"type of answer0_4 is not str. answer0_4 should be an str\"\n",
    "assert sha1(str(len(answer0_4)).encode(\"utf-8\")+b\"279410e156f04860\").hexdigest() == \"097a23a548a97c47e2790a3f092d3beb8da09b7b\", \"length of answer0_4 is not correct\"\n",
    "assert sha1(str(answer0_4.lower()).encode(\"utf-8\")+b\"279410e156f04860\").hexdigest() == \"29bebfcb27ecca006645c3a7289c433d9c2968e5\", \"value of answer0_4 is not correct\"\n",
    "assert sha1(str(answer0_4).encode(\"utf-8\")+b\"279410e156f04860\").hexdigest() == \"fb759aeae7080e02d6b6eb8cd436ecd9a5990fa3\", \"correct string value of answer0_4 but incorrect case of letters\"\n",
    "\n",
    "print('Success!')"
   ]
  },
  {
   "cell_type": "markdown",
   "metadata": {
    "deletable": false,
    "editable": false,
    "nbgrader": {
     "cell_type": "markdown",
     "checksum": "f939566e4dc6a069037e4e23824a11ec",
     "grade": false,
     "grade_id": "cell-d33780730eef352c",
     "locked": true,
     "schema_version": 3,
     "solution": false,
     "task": false
    }
   },
   "source": [
    "**Question 0.5** Item Arrangement\n",
    "<br> {points: 1}\n",
    "\n",
    "Match the following geometric objects to their corresponding visualization purposes.\n",
    "\n",
    "1. `mark_point`\n",
    "2. `mark_line`\n",
    "3. `mark_bar`\n",
    "\n",
    "A. Comparing amounts  <br>\n",
    "B. Showing a trend with respect to an independent quantity  <br>\n",
    "C. Visualizing the relationship between two variables in two dimensions  <br>\n",
    "\n",
    "*Assign each single character answer (e.g. \"D\") to an object called `answer0_5_#` where `#` should be \n",
    "replaced by the number corresponding to the item. For example, if we wanted to match 1 to F, we would\n",
    "set `answer0_5_1 = \"F\"`.*"
   ]
  },
  {
   "cell_type": "code",
   "execution_count": null,
   "metadata": {
    "deletable": false,
    "nbgrader": {
     "cell_type": "code",
     "checksum": "bd622061e6c5fe3deed764e19932ea8d",
     "grade": false,
     "grade_id": "cell-3f32a93753a230e1",
     "locked": false,
     "schema_version": 3,
     "solution": true,
     "task": false
    }
   },
   "outputs": [],
   "source": [
    "# your code here\n",
    "raise NotImplementedError"
   ]
  },
  {
   "cell_type": "code",
   "execution_count": null,
   "metadata": {
    "deletable": false,
    "editable": false,
    "max_height": 100,
    "nbgrader": {
     "cell_type": "code",
     "checksum": "664135bc54985162ccd4905107579be8",
     "grade": true,
     "grade_id": "cell-7b95a04e22cfd223",
     "locked": true,
     "points": 1,
     "schema_version": 3,
     "solution": false,
     "task": false
    }
   },
   "outputs": [],
   "source": [
    "from hashlib import sha1\n",
    "assert sha1(str(type(answer0_5_1)).encode(\"utf-8\")+b\"0ccd3b2b9dcd5c74\").hexdigest() == \"aa39156f661576eb5e910629a4b2893fb9cbb00c\", \"type of answer0_5_1 is not str. answer0_5_1 should be an str\"\n",
    "assert sha1(str(len(answer0_5_1)).encode(\"utf-8\")+b\"0ccd3b2b9dcd5c74\").hexdigest() == \"378981029a4f65d394f1c11304be2e356c3e3364\", \"length of answer0_5_1 is not correct\"\n",
    "assert sha1(str(answer0_5_1.lower()).encode(\"utf-8\")+b\"0ccd3b2b9dcd5c74\").hexdigest() == \"99d7ec265dd9db0f53fd54c6bfa0d60d908487fd\", \"value of answer0_5_1 is not correct\"\n",
    "assert sha1(str(answer0_5_1).encode(\"utf-8\")+b\"0ccd3b2b9dcd5c74\").hexdigest() == \"da01bd8b8770bacd238cdc682f90cdd64c15fb1a\", \"correct string value of answer0_5_1 but incorrect case of letters\"\n",
    "\n",
    "assert sha1(str(type(answer0_5_2)).encode(\"utf-8\")+b\"ad7e73964a869a4a\").hexdigest() == \"3dfed738e6f83a86fda8d2f9001ad8b0c14f2961\", \"type of answer0_5_2 is not str. answer0_5_2 should be an str\"\n",
    "assert sha1(str(len(answer0_5_2)).encode(\"utf-8\")+b\"ad7e73964a869a4a\").hexdigest() == \"f367e19cd833218a45d64f3df9f4b6376979f0d3\", \"length of answer0_5_2 is not correct\"\n",
    "assert sha1(str(answer0_5_2.lower()).encode(\"utf-8\")+b\"ad7e73964a869a4a\").hexdigest() == \"209250f1d0240f973d6ed2edd56e1fc69f0b98aa\", \"value of answer0_5_2 is not correct\"\n",
    "assert sha1(str(answer0_5_2).encode(\"utf-8\")+b\"ad7e73964a869a4a\").hexdigest() == \"3f493c0d13ea3ed1d6dae1cce122eacb4b6a87c6\", \"correct string value of answer0_5_2 but incorrect case of letters\"\n",
    "\n",
    "assert sha1(str(type(answer0_5_3)).encode(\"utf-8\")+b\"0370a5fa5131d692\").hexdigest() == \"f36b32465e0d47edd29a63e0fc7aef9f7247a6c8\", \"type of answer0_5_3 is not str. answer0_5_3 should be an str\"\n",
    "assert sha1(str(len(answer0_5_3)).encode(\"utf-8\")+b\"0370a5fa5131d692\").hexdigest() == \"150e526c176bb4b786765ba85cfcc113ee115a02\", \"length of answer0_5_3 is not correct\"\n",
    "assert sha1(str(answer0_5_3.lower()).encode(\"utf-8\")+b\"0370a5fa5131d692\").hexdigest() == \"7657a73dea8875ae084a48b64618c8ec175559cf\", \"value of answer0_5_3 is not correct\"\n",
    "assert sha1(str(answer0_5_3).encode(\"utf-8\")+b\"0370a5fa5131d692\").hexdigest() == \"50f7020a7d0a204bc08c50201861308cc3d67b6f\", \"correct string value of answer0_5_3 but incorrect case of letters\"\n",
    "\n",
    "print('Success!')"
   ]
  },
  {
   "cell_type": "markdown",
   "metadata": {
    "deletable": false,
    "editable": false,
    "nbgrader": {
     "cell_type": "markdown",
     "checksum": "5f66540df0550f6bce458b3273d5d302",
     "grade": false,
     "grade_id": "cell-603e82af426c3ceb",
     "locked": true,
     "schema_version": 3,
     "solution": false,
     "task": false
    }
   },
   "source": [
    "## 1. World Vaccination Trends\n",
    "\n",
    "Data scientists find work in all sectors of the economy and all types of organizations. Some work in collaboration with public sector organizations to solve problems that affect society, both at local and global scales. Today we will be looking at a global problem with real data from the [World Health Organization](https://www.who.int/) (WHO). According to WHO, Polio is a disease that affects mostly children younger than 5 years old, and to date there is no cure. However, when given a vaccine, children can develop sufficient antibodies in their system to be immune to the disease. Another disease, Hepatitis B, is also known to affect infants but in a chronic manner. There is also a vaccine for Hepatitis B available. \n",
    "\n",
    "The columns in the dataset are:\n",
    "\n",
    "- `who_region` - The WHO region of the world\n",
    "- `yr` - The year\n",
    "- `pct_vaccinated` - Estimated percentage of people vaccinated in the region\n",
    "- `vaccine` - Whether it's the `polio` or the `hepatitis_b` vaccine\n",
    "\n",
    "We want to know two things. First, has there been a change in Polio or Hepatitis B vaccination patterns throughout the years? And if so, what is that pattern? Second, have the vaccination patterns for one of these diseases changed more than the other? **The goal for today is to produce a plot of the estimated percentage of people vaccinated per year**. To do this, you will follow the steps outlined below.\n",
    "\n",
    "The original datasets are available here:\n",
    "   - Polio: http://apps.who.int/gho/data/view.main.81605?lang=en\n",
    "   - Hepatitis B: http://apps.who.int/gho/data/view.main.81300?lang=en\n",
    "   \n",
    "The data set we will work with for this worksheet however is named `world_vaccination.csv` and it lives in the `worksheet_04/data` directory."
   ]
  },
  {
   "cell_type": "markdown",
   "metadata": {
    "deletable": false,
    "editable": false,
    "nbgrader": {
     "cell_type": "markdown",
     "checksum": "3b503c9c084b1ee40cd79de5e4a071a4",
     "grade": false,
     "grade_id": "cell-6767e740b3c9df90",
     "locked": true,
     "schema_version": 3,
     "solution": false
    }
   },
   "source": [
    "**Question 1.0** Multiple Choice:\n",
    "<br> {points: 1}\n",
    "\n",
    "Consider the columns/variables `yr` and `pct_vaccinated`. These variables are:\n",
    "\n",
    "A. both quantitative (e.g., numerical).\n",
    "\n",
    "B. both categorical\n",
    "\n",
    "C. one is categorical and one is quantitative\n",
    "\n",
    "D. None of the above. \n",
    "\n",
    "*Assign your answer to an object called `answer1_0`. Make sure your answer is an uppercase letter and is surrounded by quotation marks (e.g. `\"F\"`).*"
   ]
  },
  {
   "cell_type": "code",
   "execution_count": null,
   "metadata": {
    "deletable": false,
    "nbgrader": {
     "cell_type": "code",
     "checksum": "8e815ada8ad9ac3ab3bb2b8a10f8e0a6",
     "grade": false,
     "grade_id": "cell-eeda947331564185",
     "locked": false,
     "schema_version": 3,
     "solution": true
    }
   },
   "outputs": [],
   "source": [
    "# your code here\n",
    "raise NotImplementedError"
   ]
  },
  {
   "cell_type": "code",
   "execution_count": null,
   "metadata": {
    "deletable": false,
    "editable": false,
    "max_height": 100,
    "nbgrader": {
     "cell_type": "code",
     "checksum": "7a64e490c7a8701e57af2e0613eed944",
     "grade": true,
     "grade_id": "cell-abc8ab4c34c2959d",
     "locked": true,
     "points": 1,
     "schema_version": 3,
     "solution": false
    }
   },
   "outputs": [],
   "source": [
    "from hashlib import sha1\n",
    "assert sha1(str(type(answer1_0)).encode(\"utf-8\")+b\"5e655b9c25f9366b\").hexdigest() == \"6a143533b1d6047a62d7bc06442b4a09760b68f7\", \"type of answer1_0 is not str. answer1_0 should be an str\"\n",
    "assert sha1(str(len(answer1_0)).encode(\"utf-8\")+b\"5e655b9c25f9366b\").hexdigest() == \"4a42c5780f1d662e43a2bcb98e3bebf9111d88ab\", \"length of answer1_0 is not correct\"\n",
    "assert sha1(str(answer1_0.lower()).encode(\"utf-8\")+b\"5e655b9c25f9366b\").hexdigest() == \"c7e2846c3ff7967e5dfe10d1b187ca6ad0885dc4\", \"value of answer1_0 is not correct\"\n",
    "assert sha1(str(answer1_0).encode(\"utf-8\")+b\"5e655b9c25f9366b\").hexdigest() == \"4775cfc36ea6a9e7779f16e269ba51abe2cf6f25\", \"correct string value of answer1_0 but incorrect case of letters\"\n",
    "\n",
    "print('Success!')"
   ]
  },
  {
   "cell_type": "markdown",
   "metadata": {},
   "source": [
    "### Recall: Loading Data\n",
    "When you want to filter for rows that aren't equal to something, in Python you can use the `!=` operator. For example, to remove all the cars with 6 cylinders from the `cars` dataset we would do the following:"
   ]
  },
  {
   "cell_type": "code",
   "execution_count": null,
   "metadata": {
    "deletable": false,
    "editable": false,
    "nbgrader": {
     "cell_type": "code",
     "checksum": "b7cfb3a6f1c1abfe624e8df70bbbaf10",
     "grade": false,
     "grade_id": "cell-8dc0759d55e8876d",
     "locked": true,
     "schema_version": 3,
     "solution": false,
     "task": false
    }
   },
   "outputs": [],
   "source": [
    "# import the dataset\n",
    "cars = pd.read_csv(\"data/cars.csv\")\n",
    "cars.head()"
   ]
  },
  {
   "cell_type": "code",
   "execution_count": null,
   "metadata": {
    "deletable": false,
    "editable": false,
    "nbgrader": {
     "cell_type": "code",
     "checksum": "fd68b5762ded4c1cc73591bf559c1c8d",
     "grade": false,
     "grade_id": "cell-699c8c55d34ac2c7",
     "locked": true,
     "schema_version": 3,
     "solution": false,
     "task": false
    }
   },
   "outputs": [],
   "source": [
    "cars[cars[\"Cylinders\"] != 6]"
   ]
  },
  {
   "cell_type": "markdown",
   "metadata": {
    "deletable": false,
    "editable": false,
    "nbgrader": {
     "cell_type": "markdown",
     "checksum": "24f1f6bb1c3755d9d076bed035bcd6b8",
     "grade": false,
     "grade_id": "cell-1c00eadb82617fcb",
     "locked": true,
     "schema_version": 3,
     "solution": false,
     "task": false
    }
   },
   "source": [
    "The function `isna` is a function that indicates which elements are missing. But in Python, we could use `dropna` to drop the Nan values from the dataframe. If we want to drop the missing values for a specific column, we could specify the `subset=` argument in the function. For instance, to filter out Nans from the `Miles_per_Gallon` column in the `cars` data set we would do the following: "
   ]
  },
  {
   "cell_type": "code",
   "execution_count": null,
   "metadata": {
    "deletable": false,
    "editable": false,
    "nbgrader": {
     "cell_type": "code",
     "checksum": "90262425358f43cf0d036c1f11240677",
     "grade": false,
     "grade_id": "cell-c41429b8aa8218cc",
     "locked": true,
     "schema_version": 3,
     "solution": false,
     "task": false
    }
   },
   "outputs": [],
   "source": [
    "cars.dropna(subset=[\"Miles_per_Gallon\"])"
   ]
  },
  {
   "cell_type": "markdown",
   "metadata": {
    "deletable": false,
    "editable": false,
    "nbgrader": {
     "cell_type": "markdown",
     "checksum": "58c1cf1b0a057948ade33fc708b06ba7",
     "grade": false,
     "grade_id": "cell-cfc4be1132bff6c2",
     "locked": true,
     "schema_version": 3,
     "solution": false,
     "task": false
    }
   },
   "source": [
    "**Question 1.1** \n",
    "<br> {points: 1}\n",
    "\n",
    "Read the `world_vaccination.csv` file. We want to filter out the `(WHO) Global` region as it is just the average of the other regions (e.g. we want all of the columns except `(WHO) Global`). Also, Filter the data so that we don't have any NA's in the `pct_vaccinated` column. Assign your filtered data to an object called `world_vaccination`."
   ]
  },
  {
   "cell_type": "code",
   "execution_count": null,
   "metadata": {
    "deletable": false,
    "nbgrader": {
     "cell_type": "code",
     "checksum": "a6ef966c71442166959ba117cdccd5d7",
     "grade": false,
     "grade_id": "cell-4f35092c147ceab5",
     "locked": false,
     "schema_version": 3,
     "solution": true
    }
   },
   "outputs": [],
   "source": [
    "# ___ = pd.___(___)\n",
    "# ___ = ___[___[___] != ___].dropna(subset=[___])\n",
    "\n",
    "# your code here\n",
    "raise NotImplementedError\n",
    "world_vaccination"
   ]
  },
  {
   "cell_type": "code",
   "execution_count": null,
   "metadata": {
    "deletable": false,
    "editable": false,
    "max_height": 100,
    "nbgrader": {
     "cell_type": "code",
     "checksum": "ee1f051bb34519c185edffe83f0b9c68",
     "grade": true,
     "grade_id": "cell-4f295963a61ad122",
     "locked": true,
     "points": 1,
     "schema_version": 3,
     "solution": false
    }
   },
   "outputs": [],
   "source": [
    "from hashlib import sha1\n",
    "assert sha1(str(type(world_vaccination is None)).encode(\"utf-8\")+b\"303000956d8dd0bb\").hexdigest() == \"ba57b469bc4fda9ac7097be59d1a9c4125d1e7f5\", \"type of world_vaccination is None is not bool. world_vaccination is None should be a bool\"\n",
    "assert sha1(str(world_vaccination is None).encode(\"utf-8\")+b\"303000956d8dd0bb\").hexdigest() == \"0e79c88eca83fbb85391f87a8b389b309bcbc4d0\", \"boolean value of world_vaccination is None is not correct\"\n",
    "\n",
    "assert sha1(str(type(world_vaccination)).encode(\"utf-8\")+b\"c587447fc238e66e\").hexdigest() == \"3ec1b442b2226e317e634474bfb59c7265519cfa\", \"type of type(world_vaccination) is not correct\"\n",
    "\n",
    "assert sha1(str(type(world_vaccination.isna().sum().values)).encode(\"utf-8\")+b\"572ad6b8ce7c7823\").hexdigest() == \"00dd172b15f0df12cecfea57c0ccb82b24a9bb84\", \"type of world_vaccination.isna().sum().values is not correct\"\n",
    "assert sha1(str(world_vaccination.isna().sum().values).encode(\"utf-8\")+b\"572ad6b8ce7c7823\").hexdigest() == \"a593b1b5e889a166600db54f6f4fff60964e14ed\", \"value of world_vaccination.isna().sum().values is not correct\"\n",
    "\n",
    "assert sha1(str(type(world_vaccination.shape)).encode(\"utf-8\")+b\"b9492001889cb10a\").hexdigest() == \"ac4721041d97e7171497656fd3dad515f4179ab5\", \"type of world_vaccination.shape is not tuple. world_vaccination.shape should be a tuple\"\n",
    "assert sha1(str(len(world_vaccination.shape)).encode(\"utf-8\")+b\"b9492001889cb10a\").hexdigest() == \"3d2ce7c9bf11bca73aafdaae04df4ababb0fa070\", \"length of world_vaccination.shape is not correct\"\n",
    "assert sha1(str(sorted(map(str, world_vaccination.shape))).encode(\"utf-8\")+b\"b9492001889cb10a\").hexdigest() == \"7e382d5d9226671665260da494126296b98c3ce3\", \"values of world_vaccination.shape are not correct\"\n",
    "assert sha1(str(world_vaccination.shape).encode(\"utf-8\")+b\"b9492001889cb10a\").hexdigest() == \"5baa29b18697c2cfe9cd9b5437051af30b8fed4a\", \"order of elements of world_vaccination.shape is not correct\"\n",
    "\n",
    "assert sha1(str(type(round(sum(world_vaccination.yr), 2))).encode(\"utf-8\")+b\"f046b93c62eaaa28\").hexdigest() == \"1486aa92300f1100eb71dd84c29f3d498e21ee70\", \"type of round(sum(world_vaccination.yr), 2) is not int. Please make sure it is int and not np.int64, etc. You can cast your value into an int using int()\"\n",
    "assert sha1(str(round(sum(world_vaccination.yr), 2)).encode(\"utf-8\")+b\"f046b93c62eaaa28\").hexdigest() == \"1902e671da30301ce94eacd6bb20a93334a33825\", \"value of round(sum(world_vaccination.yr), 2) is not correct\"\n",
    "\n",
    "print('Success!')"
   ]
  },
  {
   "cell_type": "markdown",
   "metadata": {
    "deletable": false,
    "editable": false,
    "nbgrader": {
     "cell_type": "markdown",
     "checksum": "7fd0ffd5c0b4ba62165ca16ed24b0f7a",
     "grade": false,
     "grade_id": "cell-b246d38affa1166f",
     "locked": true,
     "schema_version": 3,
     "solution": false
    }
   },
   "source": [
    "**Question 1.2** \n",
    "<br> {points: 1}\n",
    "\n",
    "Create a scatter plot of the percentage of people vaccinated (y-axis) against year (x-axis) for all the regions in `world_vaccination`. Make sure to label your axes with human readable labels. If you use the `alt.X()` method, you can set `scale=alt.Scale(zero=False)`.\n",
    "\n",
    "*Assign your plot to an object called `world_vacc_plot`*."
   ]
  },
  {
   "cell_type": "code",
   "execution_count": null,
   "metadata": {
    "deletable": false,
    "nbgrader": {
     "cell_type": "code",
     "checksum": "b35ed5d140876e97dc5bf58e011e3577",
     "grade": false,
     "grade_id": "cell-31e847db6b64c666",
     "locked": false,
     "schema_version": 3,
     "solution": true
    }
   },
   "outputs": [],
   "source": [
    "# your code here\n",
    "raise NotImplementedError\n",
    "world_vacc_plot"
   ]
  },
  {
   "cell_type": "code",
   "execution_count": null,
   "metadata": {
    "deletable": false,
    "editable": false,
    "max_height": 100,
    "nbgrader": {
     "cell_type": "code",
     "checksum": "c3ac8f95f3cc7d477af43f84fb4e9341",
     "grade": true,
     "grade_id": "cell-56bc18a4d58208c4",
     "locked": true,
     "points": 1,
     "schema_version": 3,
     "solution": false
    }
   },
   "outputs": [],
   "source": [
    "from hashlib import sha1\n",
    "assert sha1(str(type(world_vacc_plot is None)).encode(\"utf-8\")+b\"cb0e2938fa1fc72b\").hexdigest() == \"b4fd512d233f9ca861bd137aa5b9d2f377e155cd\", \"type of world_vacc_plot is None is not bool. world_vacc_plot is None should be a bool\"\n",
    "assert sha1(str(world_vacc_plot is None).encode(\"utf-8\")+b\"cb0e2938fa1fc72b\").hexdigest() == \"782225aadf14ff263fe1d15fd229ebbaccbcd8cd\", \"boolean value of world_vacc_plot is None is not correct\"\n",
    "\n",
    "assert sha1(str(type(world_vacc_plot.encoding.x.field)).encode(\"utf-8\")+b\"3eb88a8b589be049\").hexdigest() == \"9f640d151c06b7f8a3e1529fe058fb589d07bc63\", \"type of world_vacc_plot.encoding.x.field is not str. world_vacc_plot.encoding.x.field should be an str\"\n",
    "assert sha1(str(len(world_vacc_plot.encoding.x.field)).encode(\"utf-8\")+b\"3eb88a8b589be049\").hexdigest() == \"7fed18627ada32ab6b2b597825095a1c37c64979\", \"length of world_vacc_plot.encoding.x.field is not correct\"\n",
    "assert sha1(str(world_vacc_plot.encoding.x.field.lower()).encode(\"utf-8\")+b\"3eb88a8b589be049\").hexdigest() == \"a67d9ff84a6e4e5b0ec4370951dd17ee87c980e9\", \"value of world_vacc_plot.encoding.x.field is not correct\"\n",
    "assert sha1(str(world_vacc_plot.encoding.x.field).encode(\"utf-8\")+b\"3eb88a8b589be049\").hexdigest() == \"a67d9ff84a6e4e5b0ec4370951dd17ee87c980e9\", \"correct string value of world_vacc_plot.encoding.x.field but incorrect case of letters\"\n",
    "\n",
    "assert sha1(str(type(world_vacc_plot.encoding.y.field)).encode(\"utf-8\")+b\"a25edf44c953c977\").hexdigest() == \"c97d0bc6156c70797d2522a0418cd288a3e33d92\", \"type of world_vacc_plot.encoding.y.field is not str. world_vacc_plot.encoding.y.field should be an str\"\n",
    "assert sha1(str(len(world_vacc_plot.encoding.y.field)).encode(\"utf-8\")+b\"a25edf44c953c977\").hexdigest() == \"36faaa21ef0b1f66fdd8d1b3371df26fb68fd1d1\", \"length of world_vacc_plot.encoding.y.field is not correct\"\n",
    "assert sha1(str(world_vacc_plot.encoding.y.field.lower()).encode(\"utf-8\")+b\"a25edf44c953c977\").hexdigest() == \"0b44a532033a6cf413ca744208b8d2c9faa336ac\", \"value of world_vacc_plot.encoding.y.field is not correct\"\n",
    "assert sha1(str(world_vacc_plot.encoding.y.field).encode(\"utf-8\")+b\"a25edf44c953c977\").hexdigest() == \"0b44a532033a6cf413ca744208b8d2c9faa336ac\", \"correct string value of world_vacc_plot.encoding.y.field but incorrect case of letters\"\n",
    "\n",
    "assert sha1(str(type(world_vacc_plot.mark)).encode(\"utf-8\")+b\"53f91348031e09a9\").hexdigest() == \"f2cb49c858e715ad3ad115f41e5bed38430c081e\", \"type of world_vacc_plot.mark is not str. world_vacc_plot.mark should be an str\"\n",
    "assert sha1(str(len(world_vacc_plot.mark)).encode(\"utf-8\")+b\"53f91348031e09a9\").hexdigest() == \"7704ea1d82420bf46d4c38ff65279b338dcc1e35\", \"length of world_vacc_plot.mark is not correct\"\n",
    "assert sha1(str(world_vacc_plot.mark.lower()).encode(\"utf-8\")+b\"53f91348031e09a9\").hexdigest() == \"054f356896bc9cad2522fcc5cae52f3306125565\", \"value of world_vacc_plot.mark is not correct\"\n",
    "assert sha1(str(world_vacc_plot.mark).encode(\"utf-8\")+b\"53f91348031e09a9\").hexdigest() == \"054f356896bc9cad2522fcc5cae52f3306125565\", \"correct string value of world_vacc_plot.mark but incorrect case of letters\"\n",
    "\n",
    "assert sha1(str(type(world_vacc_plot.encoding.x.title != world_vacc_plot.encoding.x.field)).encode(\"utf-8\")+b\"ef236edbfce207b0\").hexdigest() == \"d99fc3b3e7811c158040c157dcbe892f5780d4a7\", \"type of world_vacc_plot.encoding.x.title != world_vacc_plot.encoding.x.field is not bool. world_vacc_plot.encoding.x.title != world_vacc_plot.encoding.x.field should be a bool\"\n",
    "assert sha1(str(world_vacc_plot.encoding.x.title != world_vacc_plot.encoding.x.field).encode(\"utf-8\")+b\"ef236edbfce207b0\").hexdigest() == \"3c2df4c89048c96440ffeba89e0e1b0cfdf28a1c\", \"boolean value of world_vacc_plot.encoding.x.title != world_vacc_plot.encoding.x.field is not correct\"\n",
    "\n",
    "assert sha1(str(type(world_vacc_plot.encoding.y.title != world_vacc_plot.encoding.y.field)).encode(\"utf-8\")+b\"080d400e8de57692\").hexdigest() == \"dd05fead12dc4205217fee2a1d315945ae028cd6\", \"type of world_vacc_plot.encoding.y.title != world_vacc_plot.encoding.y.field is not bool. world_vacc_plot.encoding.y.title != world_vacc_plot.encoding.y.field should be a bool\"\n",
    "assert sha1(str(world_vacc_plot.encoding.y.title != world_vacc_plot.encoding.y.field).encode(\"utf-8\")+b\"080d400e8de57692\").hexdigest() == \"8f9d0f473403959dc68c8f7faead4de80cffba91\", \"boolean value of world_vacc_plot.encoding.y.title != world_vacc_plot.encoding.y.field is not correct\"\n",
    "\n",
    "print('Success!')"
   ]
  },
  {
   "cell_type": "markdown",
   "metadata": {
    "deletable": false,
    "editable": false,
    "nbgrader": {
     "cell_type": "markdown",
     "checksum": "6af3e14729b6a7b823ed025fd6cf6ec9",
     "grade": false,
     "grade_id": "cell-318acc9c423ac732",
     "locked": true,
     "schema_version": 3,
     "solution": false,
     "task": false
    }
   },
   "source": [
    "If you ever want to change the plot size, you can do this using `properties(width=___, height=___)`.\n",
    "\n",
    "You'll often need to change the font size in plots. For this, add `configure_...` to your `altair` object, with a reasonable choice of font size (a decent starting point is `size = 20`). For axis text, we could use `configure_axis(labelFontSize=20, titleFontSize=20)`, which change axes title and label font sizes. For title text, we could use `configure_title(fontSize=20)`, which change plot title font size. For legend text, we could use `configure_legend(titleFontSize=20)`, which changes the font size of the legend.\n",
    "\n",
    "Uncomment the first line of code in the code cell below and fill in the `___` to choose a more appropriate size and and replot the figure afterwards below.\n",
    "\n"
   ]
  },
  {
   "cell_type": "code",
   "execution_count": null,
   "metadata": {},
   "outputs": [],
   "source": [
    "# world_vacc_plot = world_vacc_plot.configure_axis(labelFontSize=__, titleFontSize=__)\n",
    "world_vacc_plot"
   ]
  },
  {
   "cell_type": "markdown",
   "metadata": {
    "deletable": false,
    "editable": false,
    "nbgrader": {
     "cell_type": "markdown",
     "checksum": "1a9b21e4027dd39dfdd817025788e87b",
     "grade": false,
     "grade_id": "cell-9df6590ba88a1529",
     "locked": true,
     "schema_version": 3,
     "solution": false
    }
   },
   "source": [
    "**Question 1.3** Multiple Choice:\n",
    "<br> {points: 1}\n",
    "\n",
    "Now that we see how the percentage of people vaccinated with each of these vaccines varies over time, we should now start to look if there is a difference between the percentage vaccinated between the two different diseases. What should we do next to compare the differences (if they exist) most effectively?\n",
    "\n",
    "A. Filter the data by the type of vaccine and make two separate plots\n",
    "\n",
    "B. Colour the data by the type of vaccine\n",
    "\n",
    "C. Have a different shaped \"dot\"/point for each type of vaccine\n",
    "\n",
    "D. Colour the data by the type of vaccine, and have a different shaped \"dot\"/point for each type of vaccine\n",
    "\n",
    "*Assign your answer to an object called `answer1_3`. Make sure your answer is an uppercase letter and is surrounded by quotation marks (e.g. `\"F\"`).*"
   ]
  },
  {
   "cell_type": "code",
   "execution_count": null,
   "metadata": {
    "deletable": false,
    "nbgrader": {
     "cell_type": "code",
     "checksum": "1a4ee42773333ed25db09f48d79057cf",
     "grade": false,
     "grade_id": "cell-eff4b83a3aa5ecd4",
     "locked": false,
     "schema_version": 3,
     "solution": true
    }
   },
   "outputs": [],
   "source": [
    "# your code here\n",
    "raise NotImplementedError"
   ]
  },
  {
   "cell_type": "code",
   "execution_count": null,
   "metadata": {
    "deletable": false,
    "editable": false,
    "max_height": 100,
    "nbgrader": {
     "cell_type": "code",
     "checksum": "5391c75807602504d8409dcf5d3f04d5",
     "grade": true,
     "grade_id": "cell-de1ed1a45f987cbd",
     "locked": true,
     "points": 1,
     "schema_version": 3,
     "solution": false
    }
   },
   "outputs": [],
   "source": [
    "from hashlib import sha1\n",
    "assert sha1(str(type(answer1_3)).encode(\"utf-8\")+b\"f4071dd1f225bd3d\").hexdigest() == \"6e565b797c8928cb18098f4dc8a5c4d233da13c8\", \"type of answer1_3 is not str. answer1_3 should be an str\"\n",
    "assert sha1(str(len(answer1_3)).encode(\"utf-8\")+b\"f4071dd1f225bd3d\").hexdigest() == \"6a9f10530215c122a6ce16fdcdd34a5221191553\", \"length of answer1_3 is not correct\"\n",
    "assert sha1(str(answer1_3.lower()).encode(\"utf-8\")+b\"f4071dd1f225bd3d\").hexdigest() == \"de89e0b40643300f00605d6bce9a7262b1633b90\", \"value of answer1_3 is not correct\"\n",
    "assert sha1(str(answer1_3).encode(\"utf-8\")+b\"f4071dd1f225bd3d\").hexdigest() == \"ea25eee751e751b362edc92372996b46b15feed0\", \"correct string value of answer1_3 but incorrect case of letters\"\n",
    "\n",
    "print('Success!')"
   ]
  },
  {
   "cell_type": "markdown",
   "metadata": {
    "deletable": false,
    "editable": false,
    "nbgrader": {
     "cell_type": "markdown",
     "checksum": "b551b5131df2422847c0bf2d3e3420f9",
     "grade": false,
     "grade_id": "cell-a0d78ab0948d478b",
     "locked": true,
     "schema_version": 3,
     "solution": false
    }
   },
   "source": [
    "**Question 1.4**\n",
    "<br> {points: 1}\n",
    "\n",
    "Now that we know how we will separate the data for our visualization, let's do it. Start by copying your code from **Question 1.2**.\n",
    "\n",
    "Next, add a `color` and `shape` encoding objects inside of the `.encode` function to map `vaccine` to colour and shape.\n",
    "\n",
    "```\n",
    "\n",
    "Finally, make sure you change *all* the axes and legends so they have nicely formatted, human-readable labels. \n",
    "\n",
    "```\n",
    "\n",
    "\n",
    "*Assign your answer to an object called `compare_vacc_plot`.*"
   ]
  },
  {
   "cell_type": "code",
   "execution_count": null,
   "metadata": {
    "deletable": false,
    "nbgrader": {
     "cell_type": "code",
     "checksum": "33e561845e54c5a6a89dd376bfda89dd",
     "grade": false,
     "grade_id": "cell-374fd332fce06441",
     "locked": false,
     "schema_version": 3,
     "solution": true
    },
    "tags": []
   },
   "outputs": [],
   "source": [
    "# your code here\n",
    "raise NotImplementedError\n",
    "compare_vacc_plot"
   ]
  },
  {
   "cell_type": "code",
   "execution_count": null,
   "metadata": {
    "deletable": false,
    "editable": false,
    "max_height": 100,
    "nbgrader": {
     "cell_type": "code",
     "checksum": "fc368290551e5fad739dcd4d888eedf4",
     "grade": true,
     "grade_id": "cell-d644f60d1f60a559",
     "locked": true,
     "points": 1,
     "schema_version": 3,
     "solution": false
    }
   },
   "outputs": [],
   "source": [
    "from hashlib import sha1\n",
    "assert sha1(str(type(compare_vacc_plot is None)).encode(\"utf-8\")+b\"04397b40d5ccd7c7\").hexdigest() == \"fa436a0b80f149fd82971ba3b17d8ec91efab8f7\", \"type of compare_vacc_plot is None is not bool. compare_vacc_plot is None should be a bool\"\n",
    "assert sha1(str(compare_vacc_plot is None).encode(\"utf-8\")+b\"04397b40d5ccd7c7\").hexdigest() == \"59573a5db9607aef0736daa2c7f255ce61cb0895\", \"boolean value of compare_vacc_plot is None is not correct\"\n",
    "\n",
    "assert sha1(str(type(compare_vacc_plot.encoding.x.field)).encode(\"utf-8\")+b\"b990af12da991f4f\").hexdigest() == \"9db509917b2ecd66feba9938860df5914b4d0e19\", \"type of compare_vacc_plot.encoding.x.field is not str. compare_vacc_plot.encoding.x.field should be an str\"\n",
    "assert sha1(str(len(compare_vacc_plot.encoding.x.field)).encode(\"utf-8\")+b\"b990af12da991f4f\").hexdigest() == \"8d29c2e58846de2ac379a17d8d14560ca5751684\", \"length of compare_vacc_plot.encoding.x.field is not correct\"\n",
    "assert sha1(str(compare_vacc_plot.encoding.x.field.lower()).encode(\"utf-8\")+b\"b990af12da991f4f\").hexdigest() == \"c2c6fb37eceb875a176de33fc2a52108ed2c535d\", \"value of compare_vacc_plot.encoding.x.field is not correct\"\n",
    "assert sha1(str(compare_vacc_plot.encoding.x.field).encode(\"utf-8\")+b\"b990af12da991f4f\").hexdigest() == \"c2c6fb37eceb875a176de33fc2a52108ed2c535d\", \"correct string value of compare_vacc_plot.encoding.x.field but incorrect case of letters\"\n",
    "\n",
    "assert sha1(str(type(compare_vacc_plot.encoding.y.field)).encode(\"utf-8\")+b\"0c98eee0abd12d0e\").hexdigest() == \"2c04cdfd51de3d8aac935515dae0cc1f40bd22f8\", \"type of compare_vacc_plot.encoding.y.field is not str. compare_vacc_plot.encoding.y.field should be an str\"\n",
    "assert sha1(str(len(compare_vacc_plot.encoding.y.field)).encode(\"utf-8\")+b\"0c98eee0abd12d0e\").hexdigest() == \"cda5147420dec53572fc4e00e2e3e2f41b1a27bd\", \"length of compare_vacc_plot.encoding.y.field is not correct\"\n",
    "assert sha1(str(compare_vacc_plot.encoding.y.field.lower()).encode(\"utf-8\")+b\"0c98eee0abd12d0e\").hexdigest() == \"86eb5301d54ab914f3ccfdef97b406c0c4ea1299\", \"value of compare_vacc_plot.encoding.y.field is not correct\"\n",
    "assert sha1(str(compare_vacc_plot.encoding.y.field).encode(\"utf-8\")+b\"0c98eee0abd12d0e\").hexdigest() == \"86eb5301d54ab914f3ccfdef97b406c0c4ea1299\", \"correct string value of compare_vacc_plot.encoding.y.field but incorrect case of letters\"\n",
    "\n",
    "assert sha1(str(type(compare_vacc_plot.encoding.color.field)).encode(\"utf-8\")+b\"3b6f949bafdd699a\").hexdigest() == \"e1dccdac7a1a64f78673e20bd2142bc0576fc7d3\", \"type of compare_vacc_plot.encoding.color.field is not str. compare_vacc_plot.encoding.color.field should be an str\"\n",
    "assert sha1(str(len(compare_vacc_plot.encoding.color.field)).encode(\"utf-8\")+b\"3b6f949bafdd699a\").hexdigest() == \"24102bdb7d02685a7453b372338aff76bcc7686b\", \"length of compare_vacc_plot.encoding.color.field is not correct\"\n",
    "assert sha1(str(compare_vacc_plot.encoding.color.field.lower()).encode(\"utf-8\")+b\"3b6f949bafdd699a\").hexdigest() == \"febce09aae45fdde25113bcab94a0db88cc6e2ed\", \"value of compare_vacc_plot.encoding.color.field is not correct\"\n",
    "assert sha1(str(compare_vacc_plot.encoding.color.field).encode(\"utf-8\")+b\"3b6f949bafdd699a\").hexdigest() == \"febce09aae45fdde25113bcab94a0db88cc6e2ed\", \"correct string value of compare_vacc_plot.encoding.color.field but incorrect case of letters\"\n",
    "\n",
    "assert sha1(str(type(compare_vacc_plot.encoding.shape.field)).encode(\"utf-8\")+b\"f1c92ccb6c5bfdb8\").hexdigest() == \"9a8fff07037c7a08527518d613809b5aa08584f4\", \"type of compare_vacc_plot.encoding.shape.field is not str. compare_vacc_plot.encoding.shape.field should be an str\"\n",
    "assert sha1(str(len(compare_vacc_plot.encoding.shape.field)).encode(\"utf-8\")+b\"f1c92ccb6c5bfdb8\").hexdigest() == \"35a9ed385893ef2a703e9122ccb94b3470081733\", \"length of compare_vacc_plot.encoding.shape.field is not correct\"\n",
    "assert sha1(str(compare_vacc_plot.encoding.shape.field.lower()).encode(\"utf-8\")+b\"f1c92ccb6c5bfdb8\").hexdigest() == \"91bc351058d0f0fb7bcb6e1459e6d3d1f0af92d7\", \"value of compare_vacc_plot.encoding.shape.field is not correct\"\n",
    "assert sha1(str(compare_vacc_plot.encoding.shape.field).encode(\"utf-8\")+b\"f1c92ccb6c5bfdb8\").hexdigest() == \"91bc351058d0f0fb7bcb6e1459e6d3d1f0af92d7\", \"correct string value of compare_vacc_plot.encoding.shape.field but incorrect case of letters\"\n",
    "\n",
    "assert sha1(str(type(compare_vacc_plot.encoding.color.type)).encode(\"utf-8\")+b\"bc68f802e8002746\").hexdigest() == \"22871a76f170089d8a710e2f79857a3e59d8880a\", \"type of compare_vacc_plot.encoding.color.type is not str. compare_vacc_plot.encoding.color.type should be an str\"\n",
    "assert sha1(str(len(compare_vacc_plot.encoding.color.type)).encode(\"utf-8\")+b\"bc68f802e8002746\").hexdigest() == \"ab46154384a22e21398b6dd71f41c99b4076c8ab\", \"length of compare_vacc_plot.encoding.color.type is not correct\"\n",
    "assert sha1(str(compare_vacc_plot.encoding.color.type.lower()).encode(\"utf-8\")+b\"bc68f802e8002746\").hexdigest() == \"4f5f4e50804814c7f17b5f0119b937e791c9e41e\", \"value of compare_vacc_plot.encoding.color.type is not correct\"\n",
    "assert sha1(str(compare_vacc_plot.encoding.color.type).encode(\"utf-8\")+b\"bc68f802e8002746\").hexdigest() == \"4f5f4e50804814c7f17b5f0119b937e791c9e41e\", \"correct string value of compare_vacc_plot.encoding.color.type but incorrect case of letters\"\n",
    "\n",
    "assert sha1(str(type(compare_vacc_plot.encoding.shape.type)).encode(\"utf-8\")+b\"dd0e2b45ab64324c\").hexdigest() == \"d88840a8295b95c2476531ef7d778ccf9156c0f5\", \"type of compare_vacc_plot.encoding.shape.type is not str. compare_vacc_plot.encoding.shape.type should be an str\"\n",
    "assert sha1(str(len(compare_vacc_plot.encoding.shape.type)).encode(\"utf-8\")+b\"dd0e2b45ab64324c\").hexdigest() == \"27d333f1023607a601b736c713e903a2d50439f6\", \"length of compare_vacc_plot.encoding.shape.type is not correct\"\n",
    "assert sha1(str(compare_vacc_plot.encoding.shape.type.lower()).encode(\"utf-8\")+b\"dd0e2b45ab64324c\").hexdigest() == \"a842e6b04380a94ec7fc52b2c4c8cb9a640c9f32\", \"value of compare_vacc_plot.encoding.shape.type is not correct\"\n",
    "assert sha1(str(compare_vacc_plot.encoding.shape.type).encode(\"utf-8\")+b\"dd0e2b45ab64324c\").hexdigest() == \"a842e6b04380a94ec7fc52b2c4c8cb9a640c9f32\", \"correct string value of compare_vacc_plot.encoding.shape.type but incorrect case of letters\"\n",
    "\n",
    "assert sha1(str(type(compare_vacc_plot.mark)).encode(\"utf-8\")+b\"5493ccb4442d8961\").hexdigest() == \"b4711b1b744d4ac0e5e9caac8bdcfd7df5fc49b7\", \"type of compare_vacc_plot.mark is not str. compare_vacc_plot.mark should be an str\"\n",
    "assert sha1(str(len(compare_vacc_plot.mark)).encode(\"utf-8\")+b\"5493ccb4442d8961\").hexdigest() == \"ea51d1ee1994debfe274fb215092538809f56539\", \"length of compare_vacc_plot.mark is not correct\"\n",
    "assert sha1(str(compare_vacc_plot.mark.lower()).encode(\"utf-8\")+b\"5493ccb4442d8961\").hexdigest() == \"78d7f48ed03cd3dbf48954a5a7915f437148c122\", \"value of compare_vacc_plot.mark is not correct\"\n",
    "assert sha1(str(compare_vacc_plot.mark).encode(\"utf-8\")+b\"5493ccb4442d8961\").hexdigest() == \"78d7f48ed03cd3dbf48954a5a7915f437148c122\", \"correct string value of compare_vacc_plot.mark but incorrect case of letters\"\n",
    "\n",
    "assert sha1(str(type(compare_vacc_plot.encoding.x.title != compare_vacc_plot.encoding.x.field)).encode(\"utf-8\")+b\"2b83f0513601bf41\").hexdigest() == \"a36822359fb04da3c8163523bedadf24416d20d4\", \"type of compare_vacc_plot.encoding.x.title != compare_vacc_plot.encoding.x.field is not bool. compare_vacc_plot.encoding.x.title != compare_vacc_plot.encoding.x.field should be a bool\"\n",
    "assert sha1(str(compare_vacc_plot.encoding.x.title != compare_vacc_plot.encoding.x.field).encode(\"utf-8\")+b\"2b83f0513601bf41\").hexdigest() == \"e5e6003774d25afc2568887ee22c99ae2d85d84a\", \"boolean value of compare_vacc_plot.encoding.x.title != compare_vacc_plot.encoding.x.field is not correct\"\n",
    "\n",
    "assert sha1(str(type(compare_vacc_plot.encoding.y.title != compare_vacc_plot.encoding.y.field)).encode(\"utf-8\")+b\"140e119fe7229c49\").hexdigest() == \"314b9ec70151ff0131831e248bdd57f23f5c1ab4\", \"type of compare_vacc_plot.encoding.y.title != compare_vacc_plot.encoding.y.field is not bool. compare_vacc_plot.encoding.y.title != compare_vacc_plot.encoding.y.field should be a bool\"\n",
    "assert sha1(str(compare_vacc_plot.encoding.y.title != compare_vacc_plot.encoding.y.field).encode(\"utf-8\")+b\"140e119fe7229c49\").hexdigest() == \"da7c83920cee50b43cdf5f8c8abfc2c1624516ed\", \"boolean value of compare_vacc_plot.encoding.y.title != compare_vacc_plot.encoding.y.field is not correct\"\n",
    "\n",
    "print('Success!')"
   ]
  },
  {
   "cell_type": "markdown",
   "metadata": {
    "deletable": false,
    "editable": false,
    "nbgrader": {
     "cell_type": "markdown",
     "checksum": "37c0703ff4c928308b5a0a8e7bdaf53b",
     "grade": false,
     "grade_id": "cell-f4cb0b4284167707",
     "locked": true,
     "schema_version": 3,
     "solution": false,
     "task": false
    }
   },
   "source": [
    "Now we see that although the dates where the percentage vaccinated became > 0 for each vaccine type started out in different years, they both increased at similar rates and are currently resting at about the same amount of percentage vaccinated. There is some variation that still exists in the data however, and perhaps that could be attributed to region? Let's create some more visualizations to see if that is indeed the case!\n",
    "\n",
    "To get started, let's focus on the Polio vaccine data, and then we'll look at both together."
   ]
  },
  {
   "cell_type": "markdown",
   "metadata": {
    "deletable": false,
    "editable": false,
    "nbgrader": {
     "cell_type": "markdown",
     "checksum": "cc86ac034faa2f43086a9ff0f207d3c0",
     "grade": false,
     "grade_id": "cell-88236b86419d60b7",
     "locked": true,
     "schema_version": 3,
     "solution": false
    }
   },
   "source": [
    "**Question 1.5**\n",
    "<br> {points: 1}\n",
    "\n",
    "Create a data frame object named `polio` that contains only the rows where the `vaccine` is `\"polio\"`:"
   ]
  },
  {
   "cell_type": "code",
   "execution_count": null,
   "metadata": {
    "deletable": false,
    "nbgrader": {
     "cell_type": "code",
     "checksum": "c237ccc677406fbf467d4da15478dc12",
     "grade": false,
     "grade_id": "cell-e3ea1eaccfcdb529",
     "locked": false,
     "schema_version": 3,
     "solution": true
    }
   },
   "outputs": [],
   "source": [
    "# your code here\n",
    "raise NotImplementedError\n",
    "polio"
   ]
  },
  {
   "cell_type": "code",
   "execution_count": null,
   "metadata": {
    "deletable": false,
    "editable": false,
    "max_height": 100,
    "nbgrader": {
     "cell_type": "code",
     "checksum": "16d59a81da00542e6c9585a7329d3074",
     "grade": true,
     "grade_id": "cell-96b08ba246959d81",
     "locked": true,
     "points": 1,
     "schema_version": 3,
     "solution": false
    }
   },
   "outputs": [],
   "source": [
    "from hashlib import sha1\n",
    "assert sha1(str(type(polio is None)).encode(\"utf-8\")+b\"0a2890a2b267b06e\").hexdigest() == \"1394f7ac0a50ad0568f98ae76789b8cffc0aeec4\", \"type of polio is None is not bool. polio is None should be a bool\"\n",
    "assert sha1(str(polio is None).encode(\"utf-8\")+b\"0a2890a2b267b06e\").hexdigest() == \"2d0c49ed4c1e0a739da24371ee981528604c620e\", \"boolean value of polio is None is not correct\"\n",
    "\n",
    "assert sha1(str(type(polio.vaccine.unique()[0])).encode(\"utf-8\")+b\"5933734ab940aa30\").hexdigest() == \"1c137602758c8096501b5f9ff74909d3e0e1e188\", \"type of polio.vaccine.unique()[0] is not str. polio.vaccine.unique()[0] should be an str\"\n",
    "assert sha1(str(len(polio.vaccine.unique()[0])).encode(\"utf-8\")+b\"5933734ab940aa30\").hexdigest() == \"1ea6810b5e621d6ad76b0e133e0681c81044d9a5\", \"length of polio.vaccine.unique()[0] is not correct\"\n",
    "assert sha1(str(polio.vaccine.unique()[0].lower()).encode(\"utf-8\")+b\"5933734ab940aa30\").hexdigest() == \"09a8fa83b9bfa2b2cb5b85ca9866deb01f3ee5ad\", \"value of polio.vaccine.unique()[0] is not correct\"\n",
    "assert sha1(str(polio.vaccine.unique()[0]).encode(\"utf-8\")+b\"5933734ab940aa30\").hexdigest() == \"09a8fa83b9bfa2b2cb5b85ca9866deb01f3ee5ad\", \"correct string value of polio.vaccine.unique()[0] but incorrect case of letters\"\n",
    "\n",
    "assert sha1(str(type(polio.shape)).encode(\"utf-8\")+b\"ab8c08b6ed83463c\").hexdigest() == \"38b8587a05e043ac832d11c58ac7d820d5b80c04\", \"type of polio.shape is not tuple. polio.shape should be a tuple\"\n",
    "assert sha1(str(len(polio.shape)).encode(\"utf-8\")+b\"ab8c08b6ed83463c\").hexdigest() == \"edf9f43fec0b5037768f8be0bdf857c131db404e\", \"length of polio.shape is not correct\"\n",
    "assert sha1(str(sorted(map(str, polio.shape))).encode(\"utf-8\")+b\"ab8c08b6ed83463c\").hexdigest() == \"682c368fe1e6c16bf9b18099b2204b97e0c01479\", \"values of polio.shape are not correct\"\n",
    "assert sha1(str(polio.shape).encode(\"utf-8\")+b\"ab8c08b6ed83463c\").hexdigest() == \"35541ef87a68d3f32c12b3e846d996de988c1d20\", \"order of elements of polio.shape is not correct\"\n",
    "\n",
    "assert sha1(str(type(round(sum(polio.pct_vaccinated), 2))).encode(\"utf-8\")+b\"d7f09a29be5f61d7\").hexdigest() == \"c999f4ad295ff771c390346cbb7d4097b53b882f\", \"type of round(sum(polio.pct_vaccinated), 2) is not float. Please make sure it is float and not np.float64, etc. You can cast your value into a float using float()\"\n",
    "assert sha1(str(round(round(sum(polio.pct_vaccinated), 2), 2)).encode(\"utf-8\")+b\"d7f09a29be5f61d7\").hexdigest() == \"bc35ad7c01dce7238156ec2c56d6d144418c2bab\", \"value of round(sum(polio.pct_vaccinated), 2) is not correct (rounded to 2 decimal places)\"\n",
    "\n",
    "print('Success!')"
   ]
  },
  {
   "cell_type": "markdown",
   "metadata": {
    "deletable": false,
    "editable": false,
    "nbgrader": {
     "cell_type": "markdown",
     "checksum": "349300660afdfcb4b05d5e9fb753627b",
     "grade": false,
     "grade_id": "cell-a76fd8a76737dd65",
     "locked": true,
     "schema_version": 3,
     "solution": false
    }
   },
   "source": [
    "**Question 1.6**\n",
    "<br> {points: 1}\n",
    "\n",
    "Now create a scatter plot using the `polio` data where percentage vaccinated is on the y-axis, year is on the x-axis and each `who_region` has a different coloured point, and a different shape. Name it `polio_regions`. You might want to use `properties` to change the plot size if the size of the last few plots isn't ideal for this plot."
   ]
  },
  {
   "cell_type": "code",
   "execution_count": null,
   "metadata": {
    "deletable": false,
    "nbgrader": {
     "cell_type": "code",
     "checksum": "1ece98920bd4ba3f3d6ea59f61c65b2d",
     "grade": false,
     "grade_id": "cell-b8e28cbd972366a7",
     "locked": false,
     "schema_version": 3,
     "solution": true
    }
   },
   "outputs": [],
   "source": [
    "# ___ = ___\n",
    "\n",
    "# your code here\n",
    "raise NotImplementedError\n",
    "polio_regions"
   ]
  },
  {
   "cell_type": "code",
   "execution_count": null,
   "metadata": {
    "deletable": false,
    "editable": false,
    "max_height": 100,
    "nbgrader": {
     "cell_type": "code",
     "checksum": "caf6df56406f84e04316ce68767e65f4",
     "grade": true,
     "grade_id": "cell-80a368c34a543e78",
     "locked": true,
     "points": 1,
     "schema_version": 3,
     "solution": false
    }
   },
   "outputs": [],
   "source": [
    "from hashlib import sha1\n",
    "assert sha1(str(type(polio_regions is None)).encode(\"utf-8\")+b\"c02eef61aeb21278\").hexdigest() == \"4e82759bfc601eef7087071807d1c8f0e4d79e48\", \"type of polio_regions is None is not bool. polio_regions is None should be a bool\"\n",
    "assert sha1(str(polio_regions is None).encode(\"utf-8\")+b\"c02eef61aeb21278\").hexdigest() == \"9d7115917dee423654addb6cca4e0a3fefd69b17\", \"boolean value of polio_regions is None is not correct\"\n",
    "\n",
    "assert sha1(str(type(polio_regions.encoding.x.field)).encode(\"utf-8\")+b\"7706cc3a76772d95\").hexdigest() == \"0b370ce739259c33c577ed436a6b72f9cbaa1238\", \"type of polio_regions.encoding.x.field is not str. polio_regions.encoding.x.field should be an str\"\n",
    "assert sha1(str(len(polio_regions.encoding.x.field)).encode(\"utf-8\")+b\"7706cc3a76772d95\").hexdigest() == \"dac49b978321b31b37a3c44652d9ea7912b3491b\", \"length of polio_regions.encoding.x.field is not correct\"\n",
    "assert sha1(str(polio_regions.encoding.x.field.lower()).encode(\"utf-8\")+b\"7706cc3a76772d95\").hexdigest() == \"ed4cfcc9e5a6fa89fcdcbb7ab98da71893d2169b\", \"value of polio_regions.encoding.x.field is not correct\"\n",
    "assert sha1(str(polio_regions.encoding.x.field).encode(\"utf-8\")+b\"7706cc3a76772d95\").hexdigest() == \"ed4cfcc9e5a6fa89fcdcbb7ab98da71893d2169b\", \"correct string value of polio_regions.encoding.x.field but incorrect case of letters\"\n",
    "\n",
    "assert sha1(str(type(polio_regions.encoding.y.field)).encode(\"utf-8\")+b\"b4bfed74f5c796da\").hexdigest() == \"f15b185a0f72ee693b44fdadaa2e04c3cae015d6\", \"type of polio_regions.encoding.y.field is not str. polio_regions.encoding.y.field should be an str\"\n",
    "assert sha1(str(len(polio_regions.encoding.y.field)).encode(\"utf-8\")+b\"b4bfed74f5c796da\").hexdigest() == \"d3e5f776f914d0522110c9ea9080e66660c8305f\", \"length of polio_regions.encoding.y.field is not correct\"\n",
    "assert sha1(str(polio_regions.encoding.y.field.lower()).encode(\"utf-8\")+b\"b4bfed74f5c796da\").hexdigest() == \"88e8ff343bfda4a838bfbfa0e52f1eae3380c07d\", \"value of polio_regions.encoding.y.field is not correct\"\n",
    "assert sha1(str(polio_regions.encoding.y.field).encode(\"utf-8\")+b\"b4bfed74f5c796da\").hexdigest() == \"88e8ff343bfda4a838bfbfa0e52f1eae3380c07d\", \"correct string value of polio_regions.encoding.y.field but incorrect case of letters\"\n",
    "\n",
    "assert sha1(str(type(polio_regions.encoding.color.field)).encode(\"utf-8\")+b\"c79d33a454dcfc99\").hexdigest() == \"b8a57aa82dca45b92c2d24f0af532800b1497151\", \"type of polio_regions.encoding.color.field is not str. polio_regions.encoding.color.field should be an str\"\n",
    "assert sha1(str(len(polio_regions.encoding.color.field)).encode(\"utf-8\")+b\"c79d33a454dcfc99\").hexdigest() == \"ba7de93d8a42ff21f3ebf53a072106f09f23f387\", \"length of polio_regions.encoding.color.field is not correct\"\n",
    "assert sha1(str(polio_regions.encoding.color.field.lower()).encode(\"utf-8\")+b\"c79d33a454dcfc99\").hexdigest() == \"76a486fc2ea60b0ed4f81d22992c7ca6ce97b7f0\", \"value of polio_regions.encoding.color.field is not correct\"\n",
    "assert sha1(str(polio_regions.encoding.color.field).encode(\"utf-8\")+b\"c79d33a454dcfc99\").hexdigest() == \"76a486fc2ea60b0ed4f81d22992c7ca6ce97b7f0\", \"correct string value of polio_regions.encoding.color.field but incorrect case of letters\"\n",
    "\n",
    "assert sha1(str(type(polio_regions.encoding.shape.field)).encode(\"utf-8\")+b\"fdb3ec9e6839a4c3\").hexdigest() == \"7fca513c4cd728602084cbf59c3ef4fc029146f6\", \"type of polio_regions.encoding.shape.field is not str. polio_regions.encoding.shape.field should be an str\"\n",
    "assert sha1(str(len(polio_regions.encoding.shape.field)).encode(\"utf-8\")+b\"fdb3ec9e6839a4c3\").hexdigest() == \"57c5b25a908cc03f9e5b05eef33a132cbe8dd25d\", \"length of polio_regions.encoding.shape.field is not correct\"\n",
    "assert sha1(str(polio_regions.encoding.shape.field.lower()).encode(\"utf-8\")+b\"fdb3ec9e6839a4c3\").hexdigest() == \"cfc0503cb19ffb4bd5b7ce2268490a4995bc4da2\", \"value of polio_regions.encoding.shape.field is not correct\"\n",
    "assert sha1(str(polio_regions.encoding.shape.field).encode(\"utf-8\")+b\"fdb3ec9e6839a4c3\").hexdigest() == \"cfc0503cb19ffb4bd5b7ce2268490a4995bc4da2\", \"correct string value of polio_regions.encoding.shape.field but incorrect case of letters\"\n",
    "\n",
    "assert sha1(str(type(polio_regions.mark)).encode(\"utf-8\")+b\"c0d8fe20ce2787ca\").hexdigest() == \"6c944c0563c828c04d76d9cbda1ab3481357d433\", \"type of polio_regions.mark is not str. polio_regions.mark should be an str\"\n",
    "assert sha1(str(len(polio_regions.mark)).encode(\"utf-8\")+b\"c0d8fe20ce2787ca\").hexdigest() == \"a4cdab7008534b959d30cc56033ce49a12c4c12f\", \"length of polio_regions.mark is not correct\"\n",
    "assert sha1(str(polio_regions.mark.lower()).encode(\"utf-8\")+b\"c0d8fe20ce2787ca\").hexdigest() == \"ade7195eb5654f028fe9bc336cbc53014fd8b733\", \"value of polio_regions.mark is not correct\"\n",
    "assert sha1(str(polio_regions.mark).encode(\"utf-8\")+b\"c0d8fe20ce2787ca\").hexdigest() == \"ade7195eb5654f028fe9bc336cbc53014fd8b733\", \"correct string value of polio_regions.mark but incorrect case of letters\"\n",
    "\n",
    "assert sha1(str(type(polio_regions.encoding.x.title != polio_regions.encoding.x.field)).encode(\"utf-8\")+b\"88480017e75a5b90\").hexdigest() == \"0ae4546f84149929b3157db8b918982246161fd6\", \"type of polio_regions.encoding.x.title != polio_regions.encoding.x.field is not bool. polio_regions.encoding.x.title != polio_regions.encoding.x.field should be a bool\"\n",
    "assert sha1(str(polio_regions.encoding.x.title != polio_regions.encoding.x.field).encode(\"utf-8\")+b\"88480017e75a5b90\").hexdigest() == \"6c6a478eb54e21b9c515832151587ebb3e4b812e\", \"boolean value of polio_regions.encoding.x.title != polio_regions.encoding.x.field is not correct\"\n",
    "\n",
    "assert sha1(str(type(polio_regions.encoding.y.title != polio_regions.encoding.y.field)).encode(\"utf-8\")+b\"10f6897717ed9762\").hexdigest() == \"b34ebaca0578dcb7358b95f1a519424c658ff28f\", \"type of polio_regions.encoding.y.title != polio_regions.encoding.y.field is not bool. polio_regions.encoding.y.title != polio_regions.encoding.y.field should be a bool\"\n",
    "assert sha1(str(polio_regions.encoding.y.title != polio_regions.encoding.y.field).encode(\"utf-8\")+b\"10f6897717ed9762\").hexdigest() == \"ef0ab2871e9b98aac61993e7372b6cbd9accc9ab\", \"boolean value of polio_regions.encoding.y.title != polio_regions.encoding.y.field is not correct\"\n",
    "\n",
    "print('Success!')"
   ]
  },
  {
   "cell_type": "markdown",
   "metadata": {
    "deletable": false,
    "editable": false,
    "nbgrader": {
     "cell_type": "markdown",
     "checksum": "c5f8f7297a3299dbc340f6765c42d12d",
     "grade": false,
     "grade_id": "cell-78cdf142395d1696",
     "locked": true,
     "schema_version": 3,
     "solution": false
    }
   },
   "source": [
    "**Question 1.7**\n",
    "<br> {points: 1}\n",
    "\n",
    "Although when we have multiple groups, it's easier for us to see the differences when we change point colour and shape, at some point there are too many groups to keep things straight. We are approaching that on the plot above, and so we need to do something different. One thing we could try is to change the point to a line to reduce the noise/chaos of the plot above. We would also not have a shape. Do that in the cell below and name the plot object `polio_regions_line`."
   ]
  },
  {
   "cell_type": "code",
   "execution_count": null,
   "metadata": {
    "deletable": false,
    "nbgrader": {
     "cell_type": "code",
     "checksum": "8d9d405a3e0aa11488773c0f2a8adc7b",
     "grade": false,
     "grade_id": "cell-c803221869b8ae00",
     "locked": false,
     "schema_version": 3,
     "solution": true
    }
   },
   "outputs": [],
   "source": [
    "# ___ = ___\n",
    "\n",
    "# your code here\n",
    "raise NotImplementedError\n",
    "polio_regions_line"
   ]
  },
  {
   "cell_type": "code",
   "execution_count": null,
   "metadata": {
    "deletable": false,
    "editable": false,
    "max_height": 100,
    "nbgrader": {
     "cell_type": "code",
     "checksum": "72f5e3b0550067901a32000b5b13b1ca",
     "grade": true,
     "grade_id": "cell-9bc60c906bcd60b3",
     "locked": true,
     "points": 1,
     "schema_version": 3,
     "solution": false
    }
   },
   "outputs": [],
   "source": [
    "from hashlib import sha1\n",
    "assert sha1(str(type(polio_regions_line is None)).encode(\"utf-8\")+b\"36cd2c3ea6a4d006\").hexdigest() == \"9d20cbf57a639c688ecd2016110815a4a05c9dbd\", \"type of polio_regions_line is None is not bool. polio_regions_line is None should be a bool\"\n",
    "assert sha1(str(polio_regions_line is None).encode(\"utf-8\")+b\"36cd2c3ea6a4d006\").hexdigest() == \"8efe938a8ec36cc31bd7083fde759fdb4e035d0c\", \"boolean value of polio_regions_line is None is not correct\"\n",
    "\n",
    "assert sha1(str(type(polio_regions_line.encoding.x.field)).encode(\"utf-8\")+b\"ae99f49b8abc4698\").hexdigest() == \"908ef71042951c6a98cf63891f20358f37b44d2b\", \"type of polio_regions_line.encoding.x.field is not str. polio_regions_line.encoding.x.field should be an str\"\n",
    "assert sha1(str(len(polio_regions_line.encoding.x.field)).encode(\"utf-8\")+b\"ae99f49b8abc4698\").hexdigest() == \"2c16c8ff57ab0bf8f3d2906e55ac1d0cd5c69373\", \"length of polio_regions_line.encoding.x.field is not correct\"\n",
    "assert sha1(str(polio_regions_line.encoding.x.field.lower()).encode(\"utf-8\")+b\"ae99f49b8abc4698\").hexdigest() == \"d9a002b76bf8a9180bc1db0b21b76827c3890fb4\", \"value of polio_regions_line.encoding.x.field is not correct\"\n",
    "assert sha1(str(polio_regions_line.encoding.x.field).encode(\"utf-8\")+b\"ae99f49b8abc4698\").hexdigest() == \"d9a002b76bf8a9180bc1db0b21b76827c3890fb4\", \"correct string value of polio_regions_line.encoding.x.field but incorrect case of letters\"\n",
    "\n",
    "assert sha1(str(type(polio_regions_line.encoding.y.field)).encode(\"utf-8\")+b\"17732130897fa450\").hexdigest() == \"5b7a9dcd6b65de9105efa17645d633f71b7854db\", \"type of polio_regions_line.encoding.y.field is not str. polio_regions_line.encoding.y.field should be an str\"\n",
    "assert sha1(str(len(polio_regions_line.encoding.y.field)).encode(\"utf-8\")+b\"17732130897fa450\").hexdigest() == \"58a29973c0fb0923d8df36c5546afc5af6161d43\", \"length of polio_regions_line.encoding.y.field is not correct\"\n",
    "assert sha1(str(polio_regions_line.encoding.y.field.lower()).encode(\"utf-8\")+b\"17732130897fa450\").hexdigest() == \"cfc110cb725eedcd38de69a466cbfe4b00b5e613\", \"value of polio_regions_line.encoding.y.field is not correct\"\n",
    "assert sha1(str(polio_regions_line.encoding.y.field).encode(\"utf-8\")+b\"17732130897fa450\").hexdigest() == \"cfc110cb725eedcd38de69a466cbfe4b00b5e613\", \"correct string value of polio_regions_line.encoding.y.field but incorrect case of letters\"\n",
    "\n",
    "assert sha1(str(type(polio_regions_line.encoding.color.field)).encode(\"utf-8\")+b\"1a4e11b9008c5bb6\").hexdigest() == \"f271a70e19da61966c6083e3c99e41822ad4dbd8\", \"type of polio_regions_line.encoding.color.field is not str. polio_regions_line.encoding.color.field should be an str\"\n",
    "assert sha1(str(len(polio_regions_line.encoding.color.field)).encode(\"utf-8\")+b\"1a4e11b9008c5bb6\").hexdigest() == \"12606c84d3bd5b5c12a6fbca6c6e89803ac431b5\", \"length of polio_regions_line.encoding.color.field is not correct\"\n",
    "assert sha1(str(polio_regions_line.encoding.color.field.lower()).encode(\"utf-8\")+b\"1a4e11b9008c5bb6\").hexdigest() == \"6c14ff9cb971b0cb93d9ff0fe7bca7d666d86862\", \"value of polio_regions_line.encoding.color.field is not correct\"\n",
    "assert sha1(str(polio_regions_line.encoding.color.field).encode(\"utf-8\")+b\"1a4e11b9008c5bb6\").hexdigest() == \"6c14ff9cb971b0cb93d9ff0fe7bca7d666d86862\", \"correct string value of polio_regions_line.encoding.color.field but incorrect case of letters\"\n",
    "\n",
    "assert sha1(str(type(polio_regions_line.mark)).encode(\"utf-8\")+b\"0a5f37bcbb141bb7\").hexdigest() == \"b8edb73b7e9c83a9bbf1f5f84f5686cf0f8ddd1c\", \"type of polio_regions_line.mark is not str. polio_regions_line.mark should be an str\"\n",
    "assert sha1(str(len(polio_regions_line.mark)).encode(\"utf-8\")+b\"0a5f37bcbb141bb7\").hexdigest() == \"b28279e831cf7ca64842eb65dd5502bf68b8e9b9\", \"length of polio_regions_line.mark is not correct\"\n",
    "assert sha1(str(polio_regions_line.mark.lower()).encode(\"utf-8\")+b\"0a5f37bcbb141bb7\").hexdigest() == \"86c3012c7d14bb6463d796b346679b905e01222f\", \"value of polio_regions_line.mark is not correct\"\n",
    "assert sha1(str(polio_regions_line.mark).encode(\"utf-8\")+b\"0a5f37bcbb141bb7\").hexdigest() == \"86c3012c7d14bb6463d796b346679b905e01222f\", \"correct string value of polio_regions_line.mark but incorrect case of letters\"\n",
    "\n",
    "assert sha1(str(type(polio_regions_line.encoding.x.title != polio_regions_line.encoding.x.field)).encode(\"utf-8\")+b\"41fc48955d022145\").hexdigest() == \"d61df4419a1877e42db747f94fdc6570d28c6492\", \"type of polio_regions_line.encoding.x.title != polio_regions_line.encoding.x.field is not bool. polio_regions_line.encoding.x.title != polio_regions_line.encoding.x.field should be a bool\"\n",
    "assert sha1(str(polio_regions_line.encoding.x.title != polio_regions_line.encoding.x.field).encode(\"utf-8\")+b\"41fc48955d022145\").hexdigest() == \"bc2c68319b24df92d8f44c844280752092b8c083\", \"boolean value of polio_regions_line.encoding.x.title != polio_regions_line.encoding.x.field is not correct\"\n",
    "\n",
    "assert sha1(str(type(polio_regions_line.encoding.y.title != polio_regions_line.encoding.y.field)).encode(\"utf-8\")+b\"91587f36e82ba9cc\").hexdigest() == \"b63650c1adf4d8f6a04bb54bb65f9e7f7e43005e\", \"type of polio_regions_line.encoding.y.title != polio_regions_line.encoding.y.field is not bool. polio_regions_line.encoding.y.title != polio_regions_line.encoding.y.field should be a bool\"\n",
    "assert sha1(str(polio_regions_line.encoding.y.title != polio_regions_line.encoding.y.field).encode(\"utf-8\")+b\"91587f36e82ba9cc\").hexdigest() == \"0808d281fbc6c05f8adb28ac469ee05879c023a0\", \"boolean value of polio_regions_line.encoding.y.title != polio_regions_line.encoding.y.field is not correct\"\n",
    "\n",
    "print('Success!')"
   ]
  },
  {
   "cell_type": "markdown",
   "metadata": {
    "deletable": false,
    "editable": false,
    "nbgrader": {
     "cell_type": "markdown",
     "checksum": "422235f5d56d9240858fd492653a7759",
     "grade": false,
     "grade_id": "cell-99db863d291c52b2",
     "locked": true,
     "schema_version": 3,
     "solution": false
    }
   },
   "source": [
    "**Question 1.8**\n",
    "<br> {points: 1}\n",
    "\n",
    "Now that we know how to effectively plot the percentage vaccinated against Polio over time for each region, how might we compare this to what we see for each region for the percentage vaccinated against Hepatitis B? In this case we would like two side-by-side or two vertically arranged plots. If that data are in the same data frame (as ours were in the `world_vaccination` data frame) then we can use a technique called facetting to do this. We saw facetting last week, and now we will take some time to learn it.\n",
    "\n",
    "The faceting function that we will use here is `facet`. The basic syntax for this `altair` layer is the following:\n",
    "\n",
    "```\n",
    "# creates side by side plots for each member of the category in COLUMN_X\n",
    "facet('COLUMN_X')\n",
    "```\n",
    "\n",
    "or \n",
    "\n",
    "```\n",
    "# creates vertically arranged plots for each member of the category in COLUMN_X\n",
    "facet('COLUMN_X', columns=1)\n",
    "```\n",
    "\n",
    "Create a plot like the one named `polio_regions_line` but instead of using the `polio` data frame, use the `world_vaccination` data frame, and facet on the column `vaccine` so that the two plots are side-by-side. Name this plot object `side_by_side_world`. Make sure you set `properties` to make the plot size fit well within the worksheet."
   ]
  },
  {
   "cell_type": "code",
   "execution_count": null,
   "metadata": {
    "deletable": false,
    "nbgrader": {
     "cell_type": "code",
     "checksum": "ae3ebec5b5dcc0d60ab927b2e783ae8d",
     "grade": false,
     "grade_id": "cell-1703a03640493439",
     "locked": false,
     "schema_version": 3,
     "solution": true
    }
   },
   "outputs": [],
   "source": [
    "# ___ = (\n",
    "#     alt.Chart(___)\n",
    "#     .___\n",
    "#     .encode(\n",
    "#         x=alt.X(___, title=___, scale=alt.Scale(zero=False)),\n",
    "#         y=alt.Y(\n",
    "#            ___, title=___, scale=alt.Scale(zero=False)\n",
    "#         ),\n",
    "#         color=alt.Color(___, title=___),\n",
    "#     )\n",
    "#     .properties(width=400, height=300)\n",
    "#     .facet(___)\n",
    "# )\n",
    "\n",
    "# your code here\n",
    "raise NotImplementedError\n",
    "side_by_side_world"
   ]
  },
  {
   "cell_type": "code",
   "execution_count": null,
   "metadata": {
    "deletable": false,
    "editable": false,
    "max_height": 100,
    "nbgrader": {
     "cell_type": "code",
     "checksum": "012530b12bb2dc5b99d75d60da6609cc",
     "grade": true,
     "grade_id": "cell-da960eda0165bd94",
     "locked": true,
     "points": 1,
     "schema_version": 3,
     "solution": false
    }
   },
   "outputs": [],
   "source": [
    "from hashlib import sha1\n",
    "assert sha1(str(type(side_by_side_world is None)).encode(\"utf-8\")+b\"0d54faa503c3b90b\").hexdigest() == \"73d1523cec4aa28a052f0bac6065312a998f8737\", \"type of side_by_side_world is None is not bool. side_by_side_world is None should be a bool\"\n",
    "assert sha1(str(side_by_side_world is None).encode(\"utf-8\")+b\"0d54faa503c3b90b\").hexdigest() == \"76ba8c80993c14e351843357e4b8625935cb75d3\", \"boolean value of side_by_side_world is None is not correct\"\n",
    "\n",
    "assert sha1(str(type(side_by_side_world.facet)).encode(\"utf-8\")+b\"c35c218c42ca1a1b\").hexdigest() == \"fc1df10c7779890d2bc63a26b650d7188165041c\", \"type of side_by_side_world.facet is not correct\"\n",
    "assert sha1(str(side_by_side_world.facet).encode(\"utf-8\")+b\"c35c218c42ca1a1b\").hexdigest() == \"2d065b5ca2b90f4ce2ada67c6d1010ccbe8f81b1\", \"value of side_by_side_world.facet is not correct\"\n",
    "\n",
    "print('Success!')"
   ]
  },
  {
   "cell_type": "markdown",
   "metadata": {
    "deletable": false,
    "editable": false,
    "nbgrader": {
     "cell_type": "markdown",
     "checksum": "6a5dd92a90ed82ebff00840f7f7eb71a",
     "grade": false,
     "grade_id": "cell-bf8e150751b134f6",
     "locked": true,
     "schema_version": 3,
     "solution": false
    }
   },
   "source": [
    "**Question 1.9.1**\n",
    "<br> {points: 1}\n",
    "\n",
    "Now use `facet` to arrange the same two plots vertically (i.e. a single column). Name this plot `vertical_world`. Again, make sure you set `properties` to create a suitable plot size."
   ]
  },
  {
   "cell_type": "code",
   "execution_count": null,
   "metadata": {
    "deletable": false,
    "nbgrader": {
     "cell_type": "code",
     "checksum": "9b0c41f975cfa919523b03189b2d2e0a",
     "grade": false,
     "grade_id": "cell-55bbd1d0a2ea4a40",
     "locked": false,
     "schema_version": 3,
     "solution": true
    }
   },
   "outputs": [],
   "source": [
    "# your code here\n",
    "raise NotImplementedError\n",
    "vertical_world"
   ]
  },
  {
   "cell_type": "code",
   "execution_count": null,
   "metadata": {
    "deletable": false,
    "editable": false,
    "max_height": 100,
    "nbgrader": {
     "cell_type": "code",
     "checksum": "f3d152e47acb4cc018c88f15b75b9ef3",
     "grade": true,
     "grade_id": "cell-2a2384fca721cc8a",
     "locked": true,
     "points": 1,
     "schema_version": 3,
     "solution": false
    }
   },
   "outputs": [],
   "source": [
    "from hashlib import sha1\n",
    "assert sha1(str(type(vertical_world is None)).encode(\"utf-8\")+b\"2df85a73e94fea82\").hexdigest() == \"155b1b7aaa459183ef56da48c174c2752f4c9f0d\", \"type of vertical_world is None is not bool. vertical_world is None should be a bool\"\n",
    "assert sha1(str(vertical_world is None).encode(\"utf-8\")+b\"2df85a73e94fea82\").hexdigest() == \"3d4a55d5238c4e188e7ebf556d93b37694159950\", \"boolean value of vertical_world is None is not correct\"\n",
    "\n",
    "assert sha1(str(type(vertical_world.columns)).encode(\"utf-8\")+b\"d6f970aae9879b0a\").hexdigest() == \"bebf6146962f246700bb6325d10acde3c4222b85\", \"type of vertical_world.columns is not int. Please make sure it is int and not np.int64, etc. You can cast your value into an int using int()\"\n",
    "assert sha1(str(vertical_world.columns).encode(\"utf-8\")+b\"d6f970aae9879b0a\").hexdigest() == \"54a8635fa8234464ed563e56a56a7720e76c5937\", \"value of vertical_world.columns is not correct\"\n",
    "\n",
    "assert sha1(str(type(vertical_world.facet)).encode(\"utf-8\")+b\"8ec68613c76fdb3d\").hexdigest() == \"dd0fb34f9d8a8f684123be3023e75ef5fd1a3222\", \"type of vertical_world.facet is not correct\"\n",
    "assert sha1(str(vertical_world.facet).encode(\"utf-8\")+b\"8ec68613c76fdb3d\").hexdigest() == \"892c7356fc01a8120f9cfcb8722151ffadb7678b\", \"value of vertical_world.facet is not correct\"\n",
    "\n",
    "print('Success!')"
   ]
  },
  {
   "cell_type": "markdown",
   "metadata": {
    "deletable": false,
    "editable": false,
    "nbgrader": {
     "cell_type": "markdown",
     "checksum": "48d5afed21a69f9b88d3ffd83167a444",
     "grade": false,
     "grade_id": "cell-8cba902e440bfbf8",
     "locked": true,
     "schema_version": 3,
     "solution": false,
     "task": false
    }
   },
   "source": [
    "Which arrangement is better? Depends on what you are asking! If you are interested in comparing the rate at which things changed over time, then the vertical arrangement is more effective. However, if you are interested in comparing the exact percentage values between the lines at certain points then the side-by-side arrangement is more effective."
   ]
  },
  {
   "cell_type": "markdown",
   "metadata": {
    "deletable": false,
    "editable": false,
    "nbgrader": {
     "cell_type": "markdown",
     "checksum": "fa67020d3aafa34b64ee55af0fe320c5",
     "grade": false,
     "grade_id": "cell-6e7d28492998c804",
     "locked": true,
     "schema_version": 3,
     "solution": false
    }
   },
   "source": [
    "**Question 1.9.2** Multiple Choice:\n",
    "<br> {points: 1}\n",
    "\n",
    "Which WHO region had the greatest progress in the shortest period of time in either Hepatitis B and in Polio (using the data we plotted above)?\n",
    "\n",
    "\n",
    "A. Americas\n",
    "\n",
    "B. Eastern Mediterranean\n",
    "\n",
    "C. Europe\n",
    "\n",
    "D. Western Pacific\n",
    "\n",
    "*Assign your answer to an object called `answer1_9_2`. Make sure your answer is an uppercase letter and is surrounded by quotation marks (e.g. `\"F\"`).*"
   ]
  },
  {
   "cell_type": "code",
   "execution_count": null,
   "metadata": {
    "deletable": false,
    "nbgrader": {
     "cell_type": "code",
     "checksum": "76d3652fb9236545f6bc846328fbbf96",
     "grade": false,
     "grade_id": "cell-2f8d6a1dce2d67ae",
     "locked": false,
     "schema_version": 3,
     "solution": true
    }
   },
   "outputs": [],
   "source": [
    "# your code here\n",
    "raise NotImplementedError"
   ]
  },
  {
   "cell_type": "code",
   "execution_count": null,
   "metadata": {
    "deletable": false,
    "editable": false,
    "max_height": 100,
    "nbgrader": {
     "cell_type": "code",
     "checksum": "c0cb0d0df73516a12ab854f78400eaee",
     "grade": true,
     "grade_id": "cell-a69f9766adab9544",
     "locked": true,
     "points": 1,
     "schema_version": 3,
     "solution": false
    }
   },
   "outputs": [],
   "source": [
    "from hashlib import sha1\n",
    "assert sha1(str(type(answer1_9_2)).encode(\"utf-8\")+b\"d87198b5242ea973\").hexdigest() == \"7ddd13152ed7a1bb77b18e5cd0d5001905132390\", \"type of answer1_9_2 is not str. answer1_9_2 should be an str\"\n",
    "assert sha1(str(len(answer1_9_2)).encode(\"utf-8\")+b\"d87198b5242ea973\").hexdigest() == \"8be56ae094a9d53454bdf2f404287a5dba49e858\", \"length of answer1_9_2 is not correct\"\n",
    "assert sha1(str(answer1_9_2.lower()).encode(\"utf-8\")+b\"d87198b5242ea973\").hexdigest() == \"0cf263fd91262769159aed5ab16bbf19b0e791db\", \"value of answer1_9_2 is not correct\"\n",
    "assert sha1(str(answer1_9_2).encode(\"utf-8\")+b\"d87198b5242ea973\").hexdigest() == \"87dcdab1bf8ef2dc2edeecbcdc1c7172053cb8c0\", \"correct string value of answer1_9_2 but incorrect case of letters\"\n",
    "\n",
    "print('Success!')"
   ]
  },
  {
   "cell_type": "markdown",
   "metadata": {
    "deletable": false,
    "editable": false,
    "nbgrader": {
     "cell_type": "markdown",
     "checksum": "3643d9f2a06528de0f80081d7e3df0cd",
     "grade": false,
     "grade_id": "cell-5ded190fc1855d5b",
     "locked": true,
     "schema_version": 3,
     "solution": false,
     "task": false
    }
   },
   "source": [
    "## 2. Fast-Food Chains in the United States\n",
    "\n",
    "With their cheap meals and convenient drive-thrus, fast food restaurants are a growing demand in many countries. Despite their questionable ingredients and nutritional value, most Americans count on fast food in their daily lives (they are often delicious and so hard to resist...). \n",
    "\n",
    "<img src=\"https://media.giphy.com/media/NS6SKs3Lt8cPHhe0es/giphy.gif\" width = \"400\"/>\n",
    "\n",
    "Source: https://media.giphy.com/media/NS6SKs3Lt8cPHhe0es/giphy.gif\n",
    "\n",
    "According to Wikipedia,\n",
    ">  Fast food was originally created as a commercial strategy to accommodate the larger numbers of busy commuters, travelers and wage workers who often didn't have the time to sit down at a public house or diner and wait the normal way for their food to be cooked. By making speed of service the priority, this ensured that customers with strictly limited time (a commuter stopping to procure dinner to bring home to their family, for example, or an hourly laborer on a short lunch break) were not inconvenienced by waiting for their food to be cooked on-the-spot (as is expected from a traditional \"sit down\" restaurant). For those with no time to spare, fast food became a multi-billion dollar industry.\n",
    "\n",
    "Currently, fast food is the norm and lots of businesses are investing in advertisement as well as new ideas to make their chain stand out in the sea of restaurants. In fact, one business is hiring you. They want to know the layout of the landscape:\n",
    "\n",
    "1) Which is the most prevalent franchise on the west coast of the US? \n",
    "\n",
    "2) Which state has the highest number of fast-food restuarants? \n",
    "\n",
    "3) Is the most dominant franchise consistent across the west coast?\n",
    "\n",
    "In this assignment, you will pretend to assist in the opening of a new restaurant somewhere on the west coast of the United States (California, Oregon, or Washington). Your goal is to figure out which chain to recommend and figure out which state would be the least competitive.\n",
    "\n",
    "The columns in the dataset are:\n",
    "\n",
    "- `name` - The name of the restaurant\n",
    "- `st` - State"
   ]
  },
  {
   "cell_type": "markdown",
   "metadata": {
    "deletable": false,
    "editable": false,
    "nbgrader": {
     "cell_type": "markdown",
     "checksum": "b2f571f033a07018dee699e0533800f0",
     "grade": false,
     "grade_id": "cell-1d4483955210a104",
     "locked": true,
     "schema_version": 3,
     "solution": false
    }
   },
   "source": [
    "**Question 2.1** Multiple Choice:\n",
    "<br> {points: 1}\n",
    "\n",
    "From the list below, what are you *not* trying to determine:\n",
    "\n",
    "A. The west coast frachise with the greatest prevalence\n",
    "\n",
    "B. The least dominant franchise consistent across the west coast\n",
    "\n",
    "C. The state on the west coast with the greatest number of fast-food restuarants\n",
    "\n",
    "*Assign your answer to an object called `answer2_1`. Make sure your answer is an uppercase letter and is surrounded by quotation marks (e.g. `\"F\"`).*"
   ]
  },
  {
   "cell_type": "code",
   "execution_count": null,
   "metadata": {
    "deletable": false,
    "nbgrader": {
     "cell_type": "code",
     "checksum": "ef477bd25d540eded7b3d5e4e2e13682",
     "grade": false,
     "grade_id": "cell-ee7c5c9ca8b83d19",
     "locked": false,
     "schema_version": 3,
     "solution": true
    }
   },
   "outputs": [],
   "source": [
    "# your code here\n",
    "raise NotImplementedError"
   ]
  },
  {
   "cell_type": "code",
   "execution_count": null,
   "metadata": {
    "deletable": false,
    "editable": false,
    "max_height": 100,
    "nbgrader": {
     "cell_type": "code",
     "checksum": "4ce68649722d7085703129555256560e",
     "grade": true,
     "grade_id": "cell-22af5054ff59eadd",
     "locked": true,
     "points": 1,
     "schema_version": 3,
     "solution": false
    }
   },
   "outputs": [],
   "source": [
    "from hashlib import sha1\n",
    "assert sha1(str(type(answer2_1)).encode(\"utf-8\")+b\"f9011714088c5c4f\").hexdigest() == \"a46ef1692bc73ffa22a029d5ebb0dce33abac8c4\", \"type of answer2_1 is not str. answer2_1 should be an str\"\n",
    "assert sha1(str(len(answer2_1)).encode(\"utf-8\")+b\"f9011714088c5c4f\").hexdigest() == \"b76c1b515a186d8060322537fd77980f1554a5fd\", \"length of answer2_1 is not correct\"\n",
    "assert sha1(str(answer2_1.lower()).encode(\"utf-8\")+b\"f9011714088c5c4f\").hexdigest() == \"954ccf718539d85d6d84c81d618e8a73711faf0b\", \"value of answer2_1 is not correct\"\n",
    "assert sha1(str(answer2_1).encode(\"utf-8\")+b\"f9011714088c5c4f\").hexdigest() == \"398d1a1645344a2e907700048990cd53288e6671\", \"correct string value of answer2_1 but incorrect case of letters\"\n",
    "\n",
    "print('Success!')"
   ]
  },
  {
   "cell_type": "markdown",
   "metadata": {
    "deletable": false,
    "editable": false,
    "nbgrader": {
     "cell_type": "markdown",
     "checksum": "aa85db0f0538a8727cf7b54727473a6c",
     "grade": false,
     "grade_id": "cell-2a0d906c102c421a",
     "locked": true,
     "schema_version": 3,
     "solution": false
    }
   },
   "source": [
    "**Question 2.2**\n",
    "<br> {points: 1}\n",
    "\n",
    "Read the `fast_food.csv` file (found in the `data` directory) and assign it to an object called `fast_food`."
   ]
  },
  {
   "cell_type": "code",
   "execution_count": null,
   "metadata": {
    "deletable": false,
    "nbgrader": {
     "cell_type": "code",
     "checksum": "239828ab95e408029def1ca051c2a652",
     "grade": false,
     "grade_id": "cell-84ec1117f0f1e0d4",
     "locked": false,
     "schema_version": 3,
     "solution": true
    }
   },
   "outputs": [],
   "source": [
    "# your code here\n",
    "raise NotImplementedError\n",
    "fast_food"
   ]
  },
  {
   "cell_type": "code",
   "execution_count": null,
   "metadata": {
    "deletable": false,
    "editable": false,
    "max_height": 100,
    "nbgrader": {
     "cell_type": "code",
     "checksum": "672b55ce8a326d569c4b09233e9b234e",
     "grade": true,
     "grade_id": "cell-f61886d392c4a00a",
     "locked": true,
     "points": 1,
     "schema_version": 3,
     "solution": false
    }
   },
   "outputs": [],
   "source": [
    "from hashlib import sha1\n",
    "assert sha1(str(type(fast_food is None)).encode(\"utf-8\")+b\"4ca2109ac11f60c0\").hexdigest() == \"5e3465edb782a058ab517eee4db058997bf8c402\", \"type of fast_food is None is not bool. fast_food is None should be a bool\"\n",
    "assert sha1(str(fast_food is None).encode(\"utf-8\")+b\"4ca2109ac11f60c0\").hexdigest() == \"076d1afb1d1c9bc312643a2ed3132340417835dd\", \"boolean value of fast_food is None is not correct\"\n",
    "\n",
    "assert sha1(str(type(fast_food.shape)).encode(\"utf-8\")+b\"96a01afb3e742e2f\").hexdigest() == \"27dab346dc4f37e4575e1fa4b23863a90a4cf49c\", \"type of fast_food.shape is not tuple. fast_food.shape should be a tuple\"\n",
    "assert sha1(str(len(fast_food.shape)).encode(\"utf-8\")+b\"96a01afb3e742e2f\").hexdigest() == \"015011a192b13738502a366c35acca208b650c22\", \"length of fast_food.shape is not correct\"\n",
    "assert sha1(str(sorted(map(str, fast_food.shape))).encode(\"utf-8\")+b\"96a01afb3e742e2f\").hexdigest() == \"f2f9b4c50a4c694cd54d675ec1d540197184e71b\", \"values of fast_food.shape are not correct\"\n",
    "assert sha1(str(fast_food.shape).encode(\"utf-8\")+b\"96a01afb3e742e2f\").hexdigest() == \"299cdc790b1eb6a2f14cbb12fc8103c221101654\", \"order of elements of fast_food.shape is not correct\"\n",
    "\n",
    "assert sha1(str(type(fast_food.iloc[2, 0])).encode(\"utf-8\")+b\"d9d8b4ab760d0e3f\").hexdigest() == \"7b9074efb5234d7e263698f5d1d0421add5b9706\", \"type of fast_food.iloc[2, 0] is not str. fast_food.iloc[2, 0] should be an str\"\n",
    "assert sha1(str(len(fast_food.iloc[2, 0])).encode(\"utf-8\")+b\"d9d8b4ab760d0e3f\").hexdigest() == \"ad785f3a58ed7be9ab6a58e534a2f8575974d0f3\", \"length of fast_food.iloc[2, 0] is not correct\"\n",
    "assert sha1(str(fast_food.iloc[2, 0].lower()).encode(\"utf-8\")+b\"d9d8b4ab760d0e3f\").hexdigest() == \"9839645e3271db8283bcba1dbeed3582567e66e1\", \"value of fast_food.iloc[2, 0] is not correct\"\n",
    "assert sha1(str(fast_food.iloc[2, 0]).encode(\"utf-8\")+b\"d9d8b4ab760d0e3f\").hexdigest() == \"8f60d31b7e2681852a1a8d0605bb5e4a389db1f7\", \"correct string value of fast_food.iloc[2, 0] but incorrect case of letters\"\n",
    "\n",
    "assert sha1(str(type(fast_food.iloc[3, 1])).encode(\"utf-8\")+b\"90ab6f2782a07b41\").hexdigest() == \"886e944dc98a8cb35990a6a79161e34d3bba6865\", \"type of fast_food.iloc[3, 1] is not str. fast_food.iloc[3, 1] should be an str\"\n",
    "assert sha1(str(len(fast_food.iloc[3, 1])).encode(\"utf-8\")+b\"90ab6f2782a07b41\").hexdigest() == \"03779263d05d5899c352141e99c2db103449733b\", \"length of fast_food.iloc[3, 1] is not correct\"\n",
    "assert sha1(str(fast_food.iloc[3, 1].lower()).encode(\"utf-8\")+b\"90ab6f2782a07b41\").hexdigest() == \"6c13957ae9de60289d77ebddafa628ccc523f7cd\", \"value of fast_food.iloc[3, 1] is not correct\"\n",
    "assert sha1(str(fast_food.iloc[3, 1]).encode(\"utf-8\")+b\"90ab6f2782a07b41\").hexdigest() == \"bf9b1595b842336f47d79816d5a37128da3c50c2\", \"correct string value of fast_food.iloc[3, 1] but incorrect case of letters\"\n",
    "\n",
    "print('Success!')"
   ]
  },
  {
   "cell_type": "markdown",
   "metadata": {
    "deletable": false,
    "editable": false,
    "nbgrader": {
     "cell_type": "markdown",
     "checksum": "d865e8ca139f00d3d978512805cb813b",
     "grade": false,
     "grade_id": "cell-b752f228aa364c90",
     "locked": true,
     "schema_version": 3,
     "solution": false,
     "task": false
    }
   },
   "source": [
    "**Question 2.2.1** Multiple Choice:\n",
    "<br> {points: 1}\n",
    "\n",
    "What does each row in the dataset represent?\n",
    "\n",
    "A. The number of branches from a given franchise and state\n",
    "\n",
    "B. A unique branch of a given franchise in a given state\n",
    "\n",
    "C. An indicator of whether a given franchise is present in a given state\n",
    "\n",
    "*Assign your answer to an object called `answer2_2_1`. Make sure your answer is an uppercase letter and is surrounded by quotation marks (e.g. `\"F\"`).*"
   ]
  },
  {
   "cell_type": "code",
   "execution_count": null,
   "metadata": {
    "deletable": false,
    "nbgrader": {
     "cell_type": "code",
     "checksum": "e29b6e4a6c2546e97da764cbaa11927f",
     "grade": false,
     "grade_id": "cell-3b610030c80671d3",
     "locked": false,
     "schema_version": 3,
     "solution": true,
     "task": false
    }
   },
   "outputs": [],
   "source": [
    "# your code here\n",
    "raise NotImplementedError"
   ]
  },
  {
   "cell_type": "code",
   "execution_count": null,
   "metadata": {
    "deletable": false,
    "editable": false,
    "max_height": 100,
    "nbgrader": {
     "cell_type": "code",
     "checksum": "ce154145aa7df7a29697bcb5f4521258",
     "grade": true,
     "grade_id": "cell-d5c80de7a7a08e65",
     "locked": true,
     "points": 1,
     "schema_version": 3,
     "solution": false,
     "task": false
    }
   },
   "outputs": [],
   "source": [
    "from hashlib import sha1\n",
    "assert sha1(str(type(answer2_2_1)).encode(\"utf-8\")+b\"dbde712f51af76a6\").hexdigest() == \"f3cc63eb93ee3caa4b9e9c3b81bec6ae86f9d39f\", \"type of answer2_2_1 is not str. answer2_2_1 should be an str\"\n",
    "assert sha1(str(len(answer2_2_1)).encode(\"utf-8\")+b\"dbde712f51af76a6\").hexdigest() == \"01633bf2b304d209f33d27fe38946d7b2f0c94b7\", \"length of answer2_2_1 is not correct\"\n",
    "assert sha1(str(answer2_2_1.lower()).encode(\"utf-8\")+b\"dbde712f51af76a6\").hexdigest() == \"0692a39975140c5cdcceebcd66ef83bcac7959ab\", \"value of answer2_2_1 is not correct\"\n",
    "assert sha1(str(answer2_2_1).encode(\"utf-8\")+b\"dbde712f51af76a6\").hexdigest() == \"c5ab804691dfb10e0dd0b0ed735755f2bd128b04\", \"correct string value of answer2_2_1 but incorrect case of letters\"\n",
    "\n",
    "print('Success!')"
   ]
  },
  {
   "cell_type": "markdown",
   "metadata": {
    "deletable": false,
    "editable": false,
    "nbgrader": {
     "cell_type": "markdown",
     "checksum": "7402744e3929adb02cd0bd0dec608d5b",
     "grade": false,
     "grade_id": "cell-0df97ab2333937cb",
     "locked": true,
     "schema_version": 3,
     "solution": false
    }
   },
   "source": [
    "**Question 2.3** \n",
    "<br> {points: 1}\n",
    "\n",
    "Next, find the top 9 restaurants (in terms of number of locations) on the west coast (in the states \"CA\", \"WA\" or \"OR\") and name them `top_restaurants`\n",
    "\n",
    "Fill in the `___` in the cell below. Please note that the column name might be odd after `groupby`, you could use `rename(columns={old_colname:new_colname})` to change it. Use the column name `\"n\"` for the new column name. \n",
    "\n",
    "*Assign your answer to an object called `top_restaurants`.*"
   ]
  },
  {
   "cell_type": "code",
   "execution_count": null,
   "metadata": {
    "deletable": false,
    "nbgrader": {
     "cell_type": "code",
     "checksum": "243776dc673c0586ec4d5d2b165ff43f",
     "grade": false,
     "grade_id": "cell-5c06ffd85d7fa572",
     "locked": false,
     "schema_version": 3,
     "solution": true
    }
   },
   "outputs": [],
   "source": [
    "# ___ = (\n",
    "#     fast_food[\n",
    "#         (fast_food[\"st\"] == \"CA\")\n",
    "#         | (fast_food[\"st\"] == \"WA\")\n",
    "#         | (fast_food[\"st\"] == \"OR\")\n",
    "#     ]\n",
    "#     .groupby(___)\n",
    "#     .___\n",
    "#     .reset_index()\n",
    "#     .rename(columns={\"st\":\"n\"})\n",
    "#     .sort_values(by=___, ascending=___)\n",
    "#     .head(___)\n",
    "# )\n",
    "\n",
    "# your code here\n",
    "raise NotImplementedError\n",
    "top_restaurants"
   ]
  },
  {
   "cell_type": "code",
   "execution_count": null,
   "metadata": {
    "deletable": false,
    "editable": false,
    "max_height": 100,
    "nbgrader": {
     "cell_type": "code",
     "checksum": "64c8f2b8634eb6da3843431e8cb7802b",
     "grade": true,
     "grade_id": "cell-f2aa06843158a15e",
     "locked": true,
     "points": 1,
     "schema_version": 3,
     "solution": false
    }
   },
   "outputs": [],
   "source": [
    "from hashlib import sha1\n",
    "assert sha1(str(type(top_restaurants is None)).encode(\"utf-8\")+b\"63db45ca74730a9d\").hexdigest() == \"a2d00560ebf9b22301166ea4f8f434c53f95f8d5\", \"type of top_restaurants is None is not bool. top_restaurants is None should be a bool\"\n",
    "assert sha1(str(top_restaurants is None).encode(\"utf-8\")+b\"63db45ca74730a9d\").hexdigest() == \"e01877fa56ae2726fc10f84f2af562817f5950c2\", \"boolean value of top_restaurants is None is not correct\"\n",
    "\n",
    "assert sha1(str(type(top_restaurants.shape)).encode(\"utf-8\")+b\"50e0c31b5283e437\").hexdigest() == \"02d9ee4136991ae324a6afab759af8fda58f1b70\", \"type of top_restaurants.shape is not tuple. top_restaurants.shape should be a tuple\"\n",
    "assert sha1(str(len(top_restaurants.shape)).encode(\"utf-8\")+b\"50e0c31b5283e437\").hexdigest() == \"ba08a7ddacff975f17161115787a193b54980b03\", \"length of top_restaurants.shape is not correct\"\n",
    "assert sha1(str(sorted(map(str, top_restaurants.shape))).encode(\"utf-8\")+b\"50e0c31b5283e437\").hexdigest() == \"5a41ea29047bf0655b37d0b10cd6c2431bab80cf\", \"values of top_restaurants.shape are not correct\"\n",
    "assert sha1(str(top_restaurants.shape).encode(\"utf-8\")+b\"50e0c31b5283e437\").hexdigest() == \"a2d1420992d320e9f5efc8963331784fda4c88e6\", \"order of elements of top_restaurants.shape is not correct\"\n",
    "\n",
    "assert sha1(str(type(sum(top_restaurants.n))).encode(\"utf-8\")+b\"556fb26fe523e7e6\").hexdigest() == \"30ccf80ba01e003ac25180315ff9581cb270e335\", \"type of sum(top_restaurants.n) is not int. Please make sure it is int and not np.int64, etc. You can cast your value into an int using int()\"\n",
    "assert sha1(str(sum(top_restaurants.n)).encode(\"utf-8\")+b\"556fb26fe523e7e6\").hexdigest() == \"ecc42f1b3db550bff3648855f159251259173767\", \"value of sum(top_restaurants.n) is not correct\"\n",
    "\n",
    "print('Success!')"
   ]
  },
  {
   "cell_type": "markdown",
   "metadata": {
    "deletable": false,
    "editable": false,
    "nbgrader": {
     "cell_type": "markdown",
     "checksum": "ff15d85352cb7567c3a1d3010263123f",
     "grade": false,
     "grade_id": "cell-49f4f43165cf12c8",
     "locked": true,
     "schema_version": 3,
     "solution": false
    }
   },
   "source": [
    "**Question 2.4** \n",
    "<br> {points: 1}\n",
    "\n",
    "Even though we can use the table above to answer the question: \"(1) Which is the most prevalent franchise on the west coast of the US?\" A table is not always the clearest way of showing information (although sometimes it might be). In our case a bar plot could be more helpful, so let's create one!\n",
    "\n",
    "Plot the counts for the top 9 fast food restaurants on the west coast as a bar chart using `mark_bar`. The number of restaurants should be on the y-axis and the restaurant names should be on the x-axis. \n",
    "\n",
    "To do this fill in the `___` in the cell below. Make sure to label your axes and choose an appropriate figure size using `properties`.\n",
    "\n",
    "*Assign your answer to an object called `count_bar_chart`.*"
   ]
  },
  {
   "cell_type": "code",
   "execution_count": null,
   "metadata": {
    "deletable": false,
    "nbgrader": {
     "cell_type": "code",
     "checksum": "757d721a64c042bea63916184462569b",
     "grade": false,
     "grade_id": "cell-7fa524ccd31a0eb3",
     "locked": false,
     "schema_version": 3,
     "solution": true
    }
   },
   "outputs": [],
   "source": [
    "# ___ = (\n",
    "#     alt.Chart(___)\n",
    "#     .mark_bar()\n",
    "#     .encode(\n",
    "#         x=alt.X(___, title=___), y=alt.Y(___, title=___)\n",
    "#     )\n",
    "# )\n",
    "\n",
    "\n",
    "# your code here\n",
    "raise NotImplementedError\n",
    "count_bar_chart"
   ]
  },
  {
   "cell_type": "code",
   "execution_count": null,
   "metadata": {
    "deletable": false,
    "editable": false,
    "max_height": 100,
    "nbgrader": {
     "cell_type": "code",
     "checksum": "1000d901d97963c723fe7ea6555c6002",
     "grade": true,
     "grade_id": "cell-75b9ba0facc9e21e",
     "locked": true,
     "points": 1,
     "schema_version": 3,
     "solution": false
    }
   },
   "outputs": [],
   "source": [
    "from hashlib import sha1\n",
    "assert sha1(str(type(count_bar_chart is None)).encode(\"utf-8\")+b\"1a94b752875c223a\").hexdigest() == \"e933cff7657561f5d6caf1778cf1db4d59f143f6\", \"type of count_bar_chart is None is not bool. count_bar_chart is None should be a bool\"\n",
    "assert sha1(str(count_bar_chart is None).encode(\"utf-8\")+b\"1a94b752875c223a\").hexdigest() == \"96ce0020c645f3b3b2c0b8a92bd1660a18196bc4\", \"boolean value of count_bar_chart is None is not correct\"\n",
    "\n",
    "assert sha1(str(type(count_bar_chart.encoding.x.field)).encode(\"utf-8\")+b\"b42bceca39ece62a\").hexdigest() == \"2b6073a273191d629df3e8c0919a2854aec3bb12\", \"type of count_bar_chart.encoding.x.field is not str. count_bar_chart.encoding.x.field should be an str\"\n",
    "assert sha1(str(len(count_bar_chart.encoding.x.field)).encode(\"utf-8\")+b\"b42bceca39ece62a\").hexdigest() == \"7a21e203b9d894fbb1ab240bdd0c5d55ce6b0d9e\", \"length of count_bar_chart.encoding.x.field is not correct\"\n",
    "assert sha1(str(count_bar_chart.encoding.x.field.lower()).encode(\"utf-8\")+b\"b42bceca39ece62a\").hexdigest() == \"1c32ba8ab7c53c7f93f8105d531b39a4397f1b2b\", \"value of count_bar_chart.encoding.x.field is not correct\"\n",
    "assert sha1(str(count_bar_chart.encoding.x.field).encode(\"utf-8\")+b\"b42bceca39ece62a\").hexdigest() == \"1c32ba8ab7c53c7f93f8105d531b39a4397f1b2b\", \"correct string value of count_bar_chart.encoding.x.field but incorrect case of letters\"\n",
    "\n",
    "assert sha1(str(type(count_bar_chart.encoding.y.field)).encode(\"utf-8\")+b\"a67c7388a7a69c4c\").hexdigest() == \"7f6ec8dc5f49c845f3c249ee940e52dd671274a5\", \"type of count_bar_chart.encoding.y.field is not str. count_bar_chart.encoding.y.field should be an str\"\n",
    "assert sha1(str(len(count_bar_chart.encoding.y.field)).encode(\"utf-8\")+b\"a67c7388a7a69c4c\").hexdigest() == \"48c635019d9c728cde4c2de1e8e389ad46cf0710\", \"length of count_bar_chart.encoding.y.field is not correct\"\n",
    "assert sha1(str(count_bar_chart.encoding.y.field.lower()).encode(\"utf-8\")+b\"a67c7388a7a69c4c\").hexdigest() == \"4fa9ae47b92af38bbb34a84647e2695b9754dfce\", \"value of count_bar_chart.encoding.y.field is not correct\"\n",
    "assert sha1(str(count_bar_chart.encoding.y.field).encode(\"utf-8\")+b\"a67c7388a7a69c4c\").hexdigest() == \"4fa9ae47b92af38bbb34a84647e2695b9754dfce\", \"correct string value of count_bar_chart.encoding.y.field but incorrect case of letters\"\n",
    "\n",
    "assert sha1(str(type(count_bar_chart.mark)).encode(\"utf-8\")+b\"f5bede5c7844d166\").hexdigest() == \"1b3dfc2b176ef7aaef0180ddd6f4941cef1e3c9f\", \"type of count_bar_chart.mark is not str. count_bar_chart.mark should be an str\"\n",
    "assert sha1(str(len(count_bar_chart.mark)).encode(\"utf-8\")+b\"f5bede5c7844d166\").hexdigest() == \"4f7dc640c2546a90136d50393cd059fa38fdc918\", \"length of count_bar_chart.mark is not correct\"\n",
    "assert sha1(str(count_bar_chart.mark.lower()).encode(\"utf-8\")+b\"f5bede5c7844d166\").hexdigest() == \"73a7c65c48e1d7ee911c38bbdfacd43f860831e5\", \"value of count_bar_chart.mark is not correct\"\n",
    "assert sha1(str(count_bar_chart.mark).encode(\"utf-8\")+b\"f5bede5c7844d166\").hexdigest() == \"73a7c65c48e1d7ee911c38bbdfacd43f860831e5\", \"correct string value of count_bar_chart.mark but incorrect case of letters\"\n",
    "\n",
    "assert sha1(str(type(count_bar_chart.encoding.x.title != count_bar_chart.encoding.x.field)).encode(\"utf-8\")+b\"6f99d4a10a7b4deb\").hexdigest() == \"34215030e10d407a9934ec0e397acdacb1aeabc5\", \"type of count_bar_chart.encoding.x.title != count_bar_chart.encoding.x.field is not bool. count_bar_chart.encoding.x.title != count_bar_chart.encoding.x.field should be a bool\"\n",
    "assert sha1(str(count_bar_chart.encoding.x.title != count_bar_chart.encoding.x.field).encode(\"utf-8\")+b\"6f99d4a10a7b4deb\").hexdigest() == \"88ce98a97ae68c17a72e06305afd4a0c2c91a9ef\", \"boolean value of count_bar_chart.encoding.x.title != count_bar_chart.encoding.x.field is not correct\"\n",
    "\n",
    "assert sha1(str(type(count_bar_chart.encoding.y.title != count_bar_chart.encoding.y.field)).encode(\"utf-8\")+b\"50c08ed764dc5551\").hexdigest() == \"2ee27ef367d6258439923c832e5bb791eba8e937\", \"type of count_bar_chart.encoding.y.title != count_bar_chart.encoding.y.field is not bool. count_bar_chart.encoding.y.title != count_bar_chart.encoding.y.field should be a bool\"\n",
    "assert sha1(str(count_bar_chart.encoding.y.title != count_bar_chart.encoding.y.field).encode(\"utf-8\")+b\"50c08ed764dc5551\").hexdigest() == \"a3ac5fb568179ea8d733a9f57e386cc709b3b992\", \"boolean value of count_bar_chart.encoding.y.title != count_bar_chart.encoding.y.field is not correct\"\n",
    "\n",
    "print('Success!')"
   ]
  },
  {
   "cell_type": "markdown",
   "metadata": {
    "deletable": false,
    "editable": false,
    "nbgrader": {
     "cell_type": "markdown",
     "checksum": "452e0dc3a31a97c7841049835259269e",
     "grade": false,
     "grade_id": "cell-7a9798d1a03634b9",
     "locked": true,
     "schema_version": 3,
     "solution": false,
     "task": false
    }
   },
   "source": [
    "**Question 2.5**\n",
    "<br> {points: 1}\n",
    "\n",
    "The x-axes labels don't look great unless you make the bars on the bar plot above quite wide, wider than are actually useful or effective. What can we do? There is a good solution to this problem.\n",
    "\n",
    "**Part A:** We can use the `configure_axis` function to rotate the labels. Choose an angle that you think is appropriate. Choose something between 20 and 90 for the `angle` argument. If you ust want to rotate the labels for only your X axis or Y axis, use `configure_axisX` or `configure_axisY` respectively.\n",
    "\n",
    "*Name the resulting plot count_bar_chart_A.*\n",
    "\n",
    "**Part B:** We can also simply swap the x and the y encoding in the plot, make `n` the X axis and `name` the Y axis.\n",
    "\n",
    "*Name the resulting plot count_bar_chart_B.*"
   ]
  },
  {
   "cell_type": "code",
   "execution_count": null,
   "metadata": {
    "deletable": false,
    "nbgrader": {
     "cell_type": "code",
     "checksum": "d121ffd6fd7899edbb243bfb3adb267d",
     "grade": false,
     "grade_id": "cell-74b1fc82a7200158",
     "locked": false,
     "schema_version": 3,
     "solution": true
    }
   },
   "outputs": [],
   "source": [
    "# PART A\n",
    "# ___ = ___.configure_axis_(labelAngle=___)\n",
    "\n",
    "# your code here\n",
    "raise NotImplementedError\n",
    "count_bar_chart_A\n",
    "\n",
    "# PART B\n",
    "# ___ = ___\n",
    "\n",
    "# your code here\n",
    "raise NotImplementedError\n",
    "count_bar_chart_B"
   ]
  },
  {
   "cell_type": "code",
   "execution_count": null,
   "metadata": {
    "deletable": false,
    "editable": false,
    "max_height": 100,
    "nbgrader": {
     "cell_type": "code",
     "checksum": "a001e348043503ee2a061fdd42635389",
     "grade": true,
     "grade_id": "cell-6fc37492ce4c8caf",
     "locked": true,
     "points": 1,
     "schema_version": 3,
     "solution": false
    }
   },
   "outputs": [],
   "source": [
    "from hashlib import sha1\n",
    "assert sha1(str(type(count_bar_chart_A is None)).encode(\"utf-8\")+b\"dc32368290a33cac\").hexdigest() == \"fa6498438b1d5e8aa69849e2bec7d7f81bc146f6\", \"type of count_bar_chart_A is None is not bool. count_bar_chart_A is None should be a bool\"\n",
    "assert sha1(str(count_bar_chart_A is None).encode(\"utf-8\")+b\"dc32368290a33cac\").hexdigest() == \"519171904e99402b0266d82c861b6584c2ebea6d\", \"boolean value of count_bar_chart_A is None is not correct\"\n",
    "\n",
    "assert sha1(str(type(count_bar_chart_A.encoding.x.field)).encode(\"utf-8\")+b\"a948e8b37cccffed\").hexdigest() == \"ee1a72b18f96d4634d703ad41fed0b6891ce30b1\", \"type of count_bar_chart_A.encoding.x.field is not str. count_bar_chart_A.encoding.x.field should be an str\"\n",
    "assert sha1(str(len(count_bar_chart_A.encoding.x.field)).encode(\"utf-8\")+b\"a948e8b37cccffed\").hexdigest() == \"23521002c6174ae9c5a5fbf74db4f360d1988881\", \"length of count_bar_chart_A.encoding.x.field is not correct\"\n",
    "assert sha1(str(count_bar_chart_A.encoding.x.field.lower()).encode(\"utf-8\")+b\"a948e8b37cccffed\").hexdigest() == \"970241815697bdd5d18e77ca21a8478a705c862f\", \"value of count_bar_chart_A.encoding.x.field is not correct\"\n",
    "assert sha1(str(count_bar_chart_A.encoding.x.field).encode(\"utf-8\")+b\"a948e8b37cccffed\").hexdigest() == \"970241815697bdd5d18e77ca21a8478a705c862f\", \"correct string value of count_bar_chart_A.encoding.x.field but incorrect case of letters\"\n",
    "\n",
    "assert sha1(str(type(20 <= abs(count_bar_chart_A.config.axisX.labelAngle) <= 90)).encode(\"utf-8\")+b\"b28e7f95356b6cd2\").hexdigest() == \"ad601ae52b72467d2cec2ae895b89cb626151671\", \"type of 20 <= abs(count_bar_chart_A.config.axisX.labelAngle) <= 90 is not bool. 20 <= abs(count_bar_chart_A.config.axisX.labelAngle) <= 90 should be a bool\"\n",
    "assert sha1(str(20 <= abs(count_bar_chart_A.config.axisX.labelAngle) <= 90).encode(\"utf-8\")+b\"b28e7f95356b6cd2\").hexdigest() == \"75359648eb147caf8c977db7a024d0ebf337ca02\", \"boolean value of 20 <= abs(count_bar_chart_A.config.axisX.labelAngle) <= 90 is not correct\"\n",
    "\n",
    "assert sha1(str(type(count_bar_chart_A.encoding.y.field)).encode(\"utf-8\")+b\"e2af357064bfe693\").hexdigest() == \"ad1c176579559c6a861fd53e98a6f8d9dc5d6a10\", \"type of count_bar_chart_A.encoding.y.field is not str. count_bar_chart_A.encoding.y.field should be an str\"\n",
    "assert sha1(str(len(count_bar_chart_A.encoding.y.field)).encode(\"utf-8\")+b\"e2af357064bfe693\").hexdigest() == \"7b1f5291bfb462222ecfb792ca0f271fb9e17433\", \"length of count_bar_chart_A.encoding.y.field is not correct\"\n",
    "assert sha1(str(count_bar_chart_A.encoding.y.field.lower()).encode(\"utf-8\")+b\"e2af357064bfe693\").hexdigest() == \"ae42f99d917dcca7d97b879618222a74ac560564\", \"value of count_bar_chart_A.encoding.y.field is not correct\"\n",
    "assert sha1(str(count_bar_chart_A.encoding.y.field).encode(\"utf-8\")+b\"e2af357064bfe693\").hexdigest() == \"ae42f99d917dcca7d97b879618222a74ac560564\", \"correct string value of count_bar_chart_A.encoding.y.field but incorrect case of letters\"\n",
    "\n",
    "assert sha1(str(type(count_bar_chart_A.mark)).encode(\"utf-8\")+b\"92edacb97399ce6e\").hexdigest() == \"0b31001777070ea53afc92692da58c570fb39247\", \"type of count_bar_chart_A.mark is not str. count_bar_chart_A.mark should be an str\"\n",
    "assert sha1(str(len(count_bar_chart_A.mark)).encode(\"utf-8\")+b\"92edacb97399ce6e\").hexdigest() == \"c98a0e01f1ec5c9fbad12551d0e215904980813d\", \"length of count_bar_chart_A.mark is not correct\"\n",
    "assert sha1(str(count_bar_chart_A.mark.lower()).encode(\"utf-8\")+b\"92edacb97399ce6e\").hexdigest() == \"21e427c9b46151c320651211d918150c7b63265e\", \"value of count_bar_chart_A.mark is not correct\"\n",
    "assert sha1(str(count_bar_chart_A.mark).encode(\"utf-8\")+b\"92edacb97399ce6e\").hexdigest() == \"21e427c9b46151c320651211d918150c7b63265e\", \"correct string value of count_bar_chart_A.mark but incorrect case of letters\"\n",
    "\n",
    "assert sha1(str(type(count_bar_chart_A.encoding.x.title != count_bar_chart_A.encoding.x.field)).encode(\"utf-8\")+b\"8b73f435a462ce63\").hexdigest() == \"71bc6863026f78f4fbda8054b94794696e74e110\", \"type of count_bar_chart_A.encoding.x.title != count_bar_chart_A.encoding.x.field is not bool. count_bar_chart_A.encoding.x.title != count_bar_chart_A.encoding.x.field should be a bool\"\n",
    "assert sha1(str(count_bar_chart_A.encoding.x.title != count_bar_chart_A.encoding.x.field).encode(\"utf-8\")+b\"8b73f435a462ce63\").hexdigest() == \"383245d3063bfbcbdab2ea6375aeb40c743f3afe\", \"boolean value of count_bar_chart_A.encoding.x.title != count_bar_chart_A.encoding.x.field is not correct\"\n",
    "\n",
    "assert sha1(str(type(count_bar_chart_A.encoding.y.title != count_bar_chart_A.encoding.y.field)).encode(\"utf-8\")+b\"a23ff5637d97c4e1\").hexdigest() == \"b11ae80722c4911d67f57eb0fdc63cfc3d42b03e\", \"type of count_bar_chart_A.encoding.y.title != count_bar_chart_A.encoding.y.field is not bool. count_bar_chart_A.encoding.y.title != count_bar_chart_A.encoding.y.field should be a bool\"\n",
    "assert sha1(str(count_bar_chart_A.encoding.y.title != count_bar_chart_A.encoding.y.field).encode(\"utf-8\")+b\"a23ff5637d97c4e1\").hexdigest() == \"47a1be921186b9d0cfdbce36e908545d8875b7a8\", \"boolean value of count_bar_chart_A.encoding.y.title != count_bar_chart_A.encoding.y.field is not correct\"\n",
    "\n",
    "\n",
    "assert sha1(str(type(count_bar_chart_B is None)).encode(\"utf-8\")+b\"b9af52961def7b26\").hexdigest() == \"92ccc382c72fa5e375965ef0f2180cb1b1c3b7e9\", \"type of count_bar_chart_B is None is not bool. count_bar_chart_B is None should be a bool\"\n",
    "assert sha1(str(count_bar_chart_B is None).encode(\"utf-8\")+b\"b9af52961def7b26\").hexdigest() == \"c2e61aa905ad16114062baa44e0f5b538504eb49\", \"boolean value of count_bar_chart_B is None is not correct\"\n",
    "\n",
    "assert sha1(str(type(count_bar_chart_B.encoding.x.field)).encode(\"utf-8\")+b\"e325a84ca9a771c6\").hexdigest() == \"d5ef1974c8e08f6ece25ff821fe192ef6424f798\", \"type of count_bar_chart_B.encoding.x.field is not str. count_bar_chart_B.encoding.x.field should be an str\"\n",
    "assert sha1(str(len(count_bar_chart_B.encoding.x.field)).encode(\"utf-8\")+b\"e325a84ca9a771c6\").hexdigest() == \"bb53b00f7f33cbf5eda2af2bde93c2c70583dbe0\", \"length of count_bar_chart_B.encoding.x.field is not correct\"\n",
    "assert sha1(str(count_bar_chart_B.encoding.x.field.lower()).encode(\"utf-8\")+b\"e325a84ca9a771c6\").hexdigest() == \"8e66bbe566f39d68a9c717efb8ad0079e50408ed\", \"value of count_bar_chart_B.encoding.x.field is not correct\"\n",
    "assert sha1(str(count_bar_chart_B.encoding.x.field).encode(\"utf-8\")+b\"e325a84ca9a771c6\").hexdigest() == \"8e66bbe566f39d68a9c717efb8ad0079e50408ed\", \"correct string value of count_bar_chart_B.encoding.x.field but incorrect case of letters\"\n",
    "\n",
    "assert sha1(str(type(count_bar_chart_B.encoding.y.field)).encode(\"utf-8\")+b\"01e492149d754198\").hexdigest() == \"c3dfe3866b4e21078386fdf208aca8c15308f5e0\", \"type of count_bar_chart_B.encoding.y.field is not str. count_bar_chart_B.encoding.y.field should be an str\"\n",
    "assert sha1(str(len(count_bar_chart_B.encoding.y.field)).encode(\"utf-8\")+b\"01e492149d754198\").hexdigest() == \"730f13da952f313fdc24406072c1c968162b5e16\", \"length of count_bar_chart_B.encoding.y.field is not correct\"\n",
    "assert sha1(str(count_bar_chart_B.encoding.y.field.lower()).encode(\"utf-8\")+b\"01e492149d754198\").hexdigest() == \"b434f46c2d768410815943754a7f09cb5b8cdabb\", \"value of count_bar_chart_B.encoding.y.field is not correct\"\n",
    "assert sha1(str(count_bar_chart_B.encoding.y.field).encode(\"utf-8\")+b\"01e492149d754198\").hexdigest() == \"b434f46c2d768410815943754a7f09cb5b8cdabb\", \"correct string value of count_bar_chart_B.encoding.y.field but incorrect case of letters\"\n",
    "\n",
    "assert sha1(str(type(count_bar_chart_B.mark)).encode(\"utf-8\")+b\"064ce387ce2c4098\").hexdigest() == \"0e436f5f7e949e013df42517c368c9969423a43c\", \"type of count_bar_chart_B.mark is not str. count_bar_chart_B.mark should be an str\"\n",
    "assert sha1(str(len(count_bar_chart_B.mark)).encode(\"utf-8\")+b\"064ce387ce2c4098\").hexdigest() == \"5c6aa603906cef97d8018b55892941a45c8586fe\", \"length of count_bar_chart_B.mark is not correct\"\n",
    "assert sha1(str(count_bar_chart_B.mark.lower()).encode(\"utf-8\")+b\"064ce387ce2c4098\").hexdigest() == \"3c1a8388895737eec67ce39a6e1cb17cd9622cae\", \"value of count_bar_chart_B.mark is not correct\"\n",
    "assert sha1(str(count_bar_chart_B.mark).encode(\"utf-8\")+b\"064ce387ce2c4098\").hexdigest() == \"3c1a8388895737eec67ce39a6e1cb17cd9622cae\", \"correct string value of count_bar_chart_B.mark but incorrect case of letters\"\n",
    "\n",
    "assert sha1(str(type(count_bar_chart_B.encoding.x.title != count_bar_chart_B.encoding.x.field)).encode(\"utf-8\")+b\"9af9e7ecf9488ef1\").hexdigest() == \"f51ba7d090aa9c15c584d399c28fec327ecf4926\", \"type of count_bar_chart_B.encoding.x.title != count_bar_chart_B.encoding.x.field is not bool. count_bar_chart_B.encoding.x.title != count_bar_chart_B.encoding.x.field should be a bool\"\n",
    "assert sha1(str(count_bar_chart_B.encoding.x.title != count_bar_chart_B.encoding.x.field).encode(\"utf-8\")+b\"9af9e7ecf9488ef1\").hexdigest() == \"378717da61319d747342dd9063efe478161e4fb7\", \"boolean value of count_bar_chart_B.encoding.x.title != count_bar_chart_B.encoding.x.field is not correct\"\n",
    "\n",
    "assert sha1(str(type(count_bar_chart_B.encoding.y.title != count_bar_chart_B.encoding.y.field)).encode(\"utf-8\")+b\"189f3b88872166af\").hexdigest() == \"bd26e071ec25cddb3cc1ca7c0ab2042582f47e48\", \"type of count_bar_chart_B.encoding.y.title != count_bar_chart_B.encoding.y.field is not bool. count_bar_chart_B.encoding.y.title != count_bar_chart_B.encoding.y.field should be a bool\"\n",
    "assert sha1(str(count_bar_chart_B.encoding.y.title != count_bar_chart_B.encoding.y.field).encode(\"utf-8\")+b\"189f3b88872166af\").hexdigest() == \"6320b5fe04d300b655ae4089b382d9a88b8f2d71\", \"boolean value of count_bar_chart_B.encoding.y.title != count_bar_chart_B.encoding.y.field is not correct\"\n",
    "\n",
    "print('Success!')"
   ]
  },
  {
   "cell_type": "markdown",
   "metadata": {
    "deletable": false,
    "editable": false,
    "nbgrader": {
     "cell_type": "markdown",
     "checksum": "724b26bc82c520bd53bfe57f1b987f34",
     "grade": false,
     "grade_id": "cell-09a3f2ba6c0c15e4",
     "locked": true,
     "schema_version": 3,
     "solution": false
    }
   },
   "source": [
    "**Question 2.6**\n",
    "<br> {points: 1}\n",
    "\n",
    "Which is the most prevalent franchise on the west coast? Save your answer as `answer2_6` and be sure to surround the restuarant name with quotations. Pay attention to case and punctuation when answering."
   ]
  },
  {
   "cell_type": "code",
   "execution_count": null,
   "metadata": {
    "deletable": false,
    "nbgrader": {
     "cell_type": "code",
     "checksum": "9d0dfcb5f6e84964d73eb5168ac175d4",
     "grade": false,
     "grade_id": "cell-4b5e9ae3b501ff80",
     "locked": false,
     "schema_version": 3,
     "solution": true
    }
   },
   "outputs": [],
   "source": [
    "# your code here\n",
    "raise NotImplementedError"
   ]
  },
  {
   "cell_type": "code",
   "execution_count": null,
   "metadata": {
    "deletable": false,
    "editable": false,
    "max_height": 100,
    "nbgrader": {
     "cell_type": "code",
     "checksum": "69b2597027ea2fc0c3adcac081388f67",
     "grade": true,
     "grade_id": "cell-7e1f5a0036666e46",
     "locked": true,
     "points": 1,
     "schema_version": 3,
     "solution": false
    }
   },
   "outputs": [],
   "source": [
    "from hashlib import sha1\n",
    "assert sha1(str(type(answer2_6)).encode(\"utf-8\")+b\"030497e6bcc8bc1d\").hexdigest() == \"8063f2d5d4e616016308f8340247bcb05bb4da3e\", \"type of answer2_6 is not str. answer2_6 should be an str\"\n",
    "assert sha1(str(len(answer2_6)).encode(\"utf-8\")+b\"030497e6bcc8bc1d\").hexdigest() == \"dcb8c5aa51a7698e43b40048d26852e255b7876a\", \"length of answer2_6 is not correct\"\n",
    "assert sha1(str(answer2_6.lower()).encode(\"utf-8\")+b\"030497e6bcc8bc1d\").hexdigest() == \"d86228ca68a40ffd0626f049382b944150009404\", \"value of answer2_6 is not correct\"\n",
    "assert sha1(str(answer2_6).encode(\"utf-8\")+b\"030497e6bcc8bc1d\").hexdigest() == \"6bf720dfa1cd693b6592e1f0629160609aa47a70\", \"correct string value of answer2_6 but incorrect case of letters\"\n",
    "\n",
    "print('Success!')"
   ]
  },
  {
   "cell_type": "markdown",
   "metadata": {
    "deletable": false,
    "editable": false,
    "nbgrader": {
     "cell_type": "markdown",
     "checksum": "803f9c12619f9421276f0b681313a979",
     "grade": false,
     "grade_id": "cell-21bc1492a7923acd",
     "locked": true,
     "schema_version": 3,
     "solution": false
    }
   },
   "source": [
    "**Question 2.7** \n",
    "<br> {points: 1}\n",
    "\n",
    "Next, let's find which state on the west coast has the highest number of those top 9 fast-food restuarants we found earlier. To do this we need to use the names in `top_restaurants` to get the counts of each restaurant in each of the 3 states from the `fast_food` data frame. You will need to use `isin` to filter out the restaurants that are not in `top_restaurants` list. We can use the same method to do the filtering for the states as well. Name this data frame `state_counts`. Fill in the `___` in the cell below. \n",
    "\n",
    "Please note that the column name might be odd after `groupby`, you could use `rename(columns={old_colname:new_colname})` to change it. Call the column `\"n\"`"
   ]
  },
  {
   "cell_type": "code",
   "execution_count": null,
   "metadata": {
    "deletable": false,
    "nbgrader": {
     "cell_type": "code",
     "checksum": "57f9bca7e20b0f1e67cadc8157176fc8",
     "grade": false,
     "grade_id": "cell-fdd4333a78788519",
     "locked": false,
     "schema_version": 3,
     "solution": true
    }
   },
   "outputs": [],
   "source": [
    "# state_counts = fast_food[\n",
    "#     fast_food[\"name\"].isin(top_restaurants[\"name\"])\n",
    "# ]  # filter out the restaurants that are not in top_restaurants list\n",
    "# ___ = ___[___['st'].isin([\"CA\", \"WA\", \"OR\"])].___.___.___\n",
    "\n",
    "# your code here\n",
    "raise NotImplementedError\n",
    "state_counts"
   ]
  },
  {
   "cell_type": "code",
   "execution_count": null,
   "metadata": {
    "deletable": false,
    "editable": false,
    "max_height": 100,
    "nbgrader": {
     "cell_type": "code",
     "checksum": "00b116dbad7ada02c2f6a7e0f6b97062",
     "grade": true,
     "grade_id": "cell-53713f7578969f5c",
     "locked": true,
     "points": 1,
     "schema_version": 3,
     "solution": false
    }
   },
   "outputs": [],
   "source": [
    "from hashlib import sha1\n",
    "assert sha1(str(type(state_counts is None)).encode(\"utf-8\")+b\"ed98ed677877d159\").hexdigest() == \"fb2e78d454843158e4f00e55562d68e297e07bbf\", \"type of state_counts is None is not bool. state_counts is None should be a bool\"\n",
    "assert sha1(str(state_counts is None).encode(\"utf-8\")+b\"ed98ed677877d159\").hexdigest() == \"8d4bc2952dae2abfb23d6d77efa6c1547dce9bef\", \"boolean value of state_counts is None is not correct\"\n",
    "\n",
    "assert sha1(str(type(state_counts.st.values)).encode(\"utf-8\")+b\"5466101aee41ff27\").hexdigest() == \"574b9af57f51161551eb162ec06118e7846e8292\", \"type of state_counts.st.values is not correct\"\n",
    "assert sha1(str(state_counts.st.values).encode(\"utf-8\")+b\"5466101aee41ff27\").hexdigest() == \"03923e3dc1bb931d16b21bd223cff121d9e0eb0b\", \"value of state_counts.st.values is not correct\"\n",
    "\n",
    "assert sha1(str(type(state_counts.shape)).encode(\"utf-8\")+b\"1d40b9bcdb09d837\").hexdigest() == \"71ab1c0ba578236625670bbcd78e92eef89596db\", \"type of state_counts.shape is not tuple. state_counts.shape should be a tuple\"\n",
    "assert sha1(str(len(state_counts.shape)).encode(\"utf-8\")+b\"1d40b9bcdb09d837\").hexdigest() == \"c32741cc3e18d6906645975cb90698a1788975ca\", \"length of state_counts.shape is not correct\"\n",
    "assert sha1(str(sorted(map(str, state_counts.shape))).encode(\"utf-8\")+b\"1d40b9bcdb09d837\").hexdigest() == \"2f08e9a51ae246c35d76912b0d9cb1b3b22af411\", \"values of state_counts.shape are not correct\"\n",
    "assert sha1(str(state_counts.shape).encode(\"utf-8\")+b\"1d40b9bcdb09d837\").hexdigest() == \"eb20ad0d48236537d73124a2d49ffa1b0b52409a\", \"order of elements of state_counts.shape is not correct\"\n",
    "\n",
    "assert sha1(str(type(sum(state_counts.n))).encode(\"utf-8\")+b\"b8ef4b650a9727e2\").hexdigest() == \"db629fdab929e181a61bee263861d8e0e2e28bf0\", \"type of sum(state_counts.n) is not int. Please make sure it is int and not np.int64, etc. You can cast your value into an int using int()\"\n",
    "assert sha1(str(sum(state_counts.n)).encode(\"utf-8\")+b\"b8ef4b650a9727e2\").hexdigest() == \"e0b5f060c732ab430127f1e0e0119b319a6d4934\", \"value of sum(state_counts.n) is not correct\"\n",
    "\n",
    "print('Success!')"
   ]
  },
  {
   "cell_type": "markdown",
   "metadata": {
    "deletable": false,
    "editable": false,
    "nbgrader": {
     "cell_type": "markdown",
     "checksum": "1f2fed8b4ed687cc619b54b38d65dd71",
     "grade": false,
     "grade_id": "cell-d7ee2bd6b5df79ae",
     "locked": true,
     "schema_version": 3,
     "solution": false
    }
   },
   "source": [
    "**Question 2.8**\n",
    "<br> {points: 1}\n",
    "\n",
    "Now, create a bar plot that has restaurant count on the y-axis and US state on the x-axis. Name the plot `state_counts_plot`. Remember to choose an appropriate plot size using `properties`. "
   ]
  },
  {
   "cell_type": "code",
   "execution_count": null,
   "metadata": {
    "deletable": false,
    "nbgrader": {
     "cell_type": "code",
     "checksum": "00a29aa3c9ea88f1e4875f3a7e24a1dd",
     "grade": false,
     "grade_id": "cell-b7d101d1906d201c",
     "locked": false,
     "schema_version": 3,
     "solution": true
    }
   },
   "outputs": [],
   "source": [
    "# ___ = ___\n",
    "\n",
    "# your code here\n",
    "raise NotImplementedError\n",
    "state_counts_plot"
   ]
  },
  {
   "cell_type": "code",
   "execution_count": null,
   "metadata": {
    "deletable": false,
    "editable": false,
    "max_height": 100,
    "nbgrader": {
     "cell_type": "code",
     "checksum": "37ff52126a9c33dbb78e729370d68024",
     "grade": true,
     "grade_id": "cell-3ee58280015e1838",
     "locked": true,
     "points": 1,
     "schema_version": 3,
     "solution": false
    }
   },
   "outputs": [],
   "source": [
    "from hashlib import sha1\n",
    "assert sha1(str(type(state_counts_plot is None)).encode(\"utf-8\")+b\"9395670ef624d99b\").hexdigest() == \"b0a5f5d7fcce899aecafc24878e7d9f820a25023\", \"type of state_counts_plot is None is not bool. state_counts_plot is None should be a bool\"\n",
    "assert sha1(str(state_counts_plot is None).encode(\"utf-8\")+b\"9395670ef624d99b\").hexdigest() == \"a85faf6303662c338b594de5f9bc6e75cda9eafd\", \"boolean value of state_counts_plot is None is not correct\"\n",
    "\n",
    "assert sha1(str(type(state_counts_plot.encoding.x.field)).encode(\"utf-8\")+b\"a438cc1a5d21f39a\").hexdigest() == \"fdf8b5d1b01c01d40e931a386480cbbc112a4ae8\", \"type of state_counts_plot.encoding.x.field is not str. state_counts_plot.encoding.x.field should be an str\"\n",
    "assert sha1(str(len(state_counts_plot.encoding.x.field)).encode(\"utf-8\")+b\"a438cc1a5d21f39a\").hexdigest() == \"10c3ebcb2b86295b508bf7729d901bb1000706a2\", \"length of state_counts_plot.encoding.x.field is not correct\"\n",
    "assert sha1(str(state_counts_plot.encoding.x.field.lower()).encode(\"utf-8\")+b\"a438cc1a5d21f39a\").hexdigest() == \"8b58662af84d1191e9d4b3377ea22d42677e8fb7\", \"value of state_counts_plot.encoding.x.field is not correct\"\n",
    "assert sha1(str(state_counts_plot.encoding.x.field).encode(\"utf-8\")+b\"a438cc1a5d21f39a\").hexdigest() == \"8b58662af84d1191e9d4b3377ea22d42677e8fb7\", \"correct string value of state_counts_plot.encoding.x.field but incorrect case of letters\"\n",
    "\n",
    "assert sha1(str(type(state_counts_plot.encoding.y.field)).encode(\"utf-8\")+b\"e2b95e9468b2e8f8\").hexdigest() == \"6e53a7e741ff243d26c7d46333958b6bf646a23f\", \"type of state_counts_plot.encoding.y.field is not str. state_counts_plot.encoding.y.field should be an str\"\n",
    "assert sha1(str(len(state_counts_plot.encoding.y.field)).encode(\"utf-8\")+b\"e2b95e9468b2e8f8\").hexdigest() == \"09df0f07e5c7306ed3d0915fc5b023238ad16039\", \"length of state_counts_plot.encoding.y.field is not correct\"\n",
    "assert sha1(str(state_counts_plot.encoding.y.field.lower()).encode(\"utf-8\")+b\"e2b95e9468b2e8f8\").hexdigest() == \"02b00809b24c287fcfe6031d41ba25f5c97f17ea\", \"value of state_counts_plot.encoding.y.field is not correct\"\n",
    "assert sha1(str(state_counts_plot.encoding.y.field).encode(\"utf-8\")+b\"e2b95e9468b2e8f8\").hexdigest() == \"02b00809b24c287fcfe6031d41ba25f5c97f17ea\", \"correct string value of state_counts_plot.encoding.y.field but incorrect case of letters\"\n",
    "\n",
    "assert sha1(str(type(state_counts_plot.mark)).encode(\"utf-8\")+b\"2badfb38df90deeb\").hexdigest() == \"c2349f069f9d21af4bd0add1855934dab76e9103\", \"type of state_counts_plot.mark is not str. state_counts_plot.mark should be an str\"\n",
    "assert sha1(str(len(state_counts_plot.mark)).encode(\"utf-8\")+b\"2badfb38df90deeb\").hexdigest() == \"faaccdd90d815602b3a85398366c1f97e74d3267\", \"length of state_counts_plot.mark is not correct\"\n",
    "assert sha1(str(state_counts_plot.mark.lower()).encode(\"utf-8\")+b\"2badfb38df90deeb\").hexdigest() == \"a3510ed8a0568f5c229fb76a7c12a333d1fae487\", \"value of state_counts_plot.mark is not correct\"\n",
    "assert sha1(str(state_counts_plot.mark).encode(\"utf-8\")+b\"2badfb38df90deeb\").hexdigest() == \"a3510ed8a0568f5c229fb76a7c12a333d1fae487\", \"correct string value of state_counts_plot.mark but incorrect case of letters\"\n",
    "\n",
    "assert sha1(str(type(state_counts_plot.encoding.x.title != state_counts_plot.encoding.x.field)).encode(\"utf-8\")+b\"55406bd5ce048b6b\").hexdigest() == \"783ff208871ff02a133fbdbc0b4bcdcc483b1374\", \"type of state_counts_plot.encoding.x.title != state_counts_plot.encoding.x.field is not bool. state_counts_plot.encoding.x.title != state_counts_plot.encoding.x.field should be a bool\"\n",
    "assert sha1(str(state_counts_plot.encoding.x.title != state_counts_plot.encoding.x.field).encode(\"utf-8\")+b\"55406bd5ce048b6b\").hexdigest() == \"01ce7405290b34798423c98ee42c782927b0778c\", \"boolean value of state_counts_plot.encoding.x.title != state_counts_plot.encoding.x.field is not correct\"\n",
    "\n",
    "assert sha1(str(type(state_counts_plot.encoding.y.title != state_counts_plot.encoding.y.field)).encode(\"utf-8\")+b\"eca124337c70f614\").hexdigest() == \"52b0368e77474060be28cf18b8d9c94c510e10cb\", \"type of state_counts_plot.encoding.y.title != state_counts_plot.encoding.y.field is not bool. state_counts_plot.encoding.y.title != state_counts_plot.encoding.y.field should be a bool\"\n",
    "assert sha1(str(state_counts_plot.encoding.y.title != state_counts_plot.encoding.y.field).encode(\"utf-8\")+b\"eca124337c70f614\").hexdigest() == \"67e4546462772ceb343e35f356929502a87988c9\", \"boolean value of state_counts_plot.encoding.y.title != state_counts_plot.encoding.y.field is not correct\"\n",
    "\n",
    "print('Success!')"
   ]
  },
  {
   "cell_type": "markdown",
   "metadata": {
    "deletable": false,
    "editable": false,
    "nbgrader": {
     "cell_type": "markdown",
     "checksum": "721e65a87691d1956f2844f8845c89a3",
     "grade": false,
     "grade_id": "cell-b50e50c135e6d682",
     "locked": true,
     "schema_version": 3,
     "solution": false
    }
   },
   "source": [
    "**Question 2.9.0**\n",
    "<br> {points: 1}\n",
    "\n",
    "Which state (CA, OR, WA) has the highest number of fast-food restuarants? Save your answer as `answer2_9_0` and be sure to surround the state initialism with quotations (e.g. `\"NY\"`). Pay attention to case and punctuation when answering."
   ]
  },
  {
   "cell_type": "code",
   "execution_count": null,
   "metadata": {
    "deletable": false,
    "nbgrader": {
     "cell_type": "code",
     "checksum": "8a7859ec3c4200bd96a50f2de05da2c1",
     "grade": false,
     "grade_id": "cell-3808cf146c117d12",
     "locked": false,
     "schema_version": 3,
     "solution": true
    }
   },
   "outputs": [],
   "source": [
    "# your code here\n",
    "raise NotImplementedError"
   ]
  },
  {
   "cell_type": "code",
   "execution_count": null,
   "metadata": {
    "deletable": false,
    "editable": false,
    "max_height": 100,
    "nbgrader": {
     "cell_type": "code",
     "checksum": "ee52ba44482c4b192c7ca1a780f62b83",
     "grade": true,
     "grade_id": "cell-a17cc0ffac7cd795",
     "locked": true,
     "points": 1,
     "schema_version": 3,
     "solution": false
    }
   },
   "outputs": [],
   "source": [
    "from hashlib import sha1\n",
    "assert sha1(str(type(answer2_9_0)).encode(\"utf-8\")+b\"69f6362aceef02c8\").hexdigest() == \"f9842faa5eb5115a92b0a524b1d14b298ca2b274\", \"type of answer2_9_0 is not str. answer2_9_0 should be an str\"\n",
    "assert sha1(str(len(answer2_9_0)).encode(\"utf-8\")+b\"69f6362aceef02c8\").hexdigest() == \"28847c808a510227d8e17922bd8feea9e2633f71\", \"length of answer2_9_0 is not correct\"\n",
    "assert sha1(str(answer2_9_0.lower()).encode(\"utf-8\")+b\"69f6362aceef02c8\").hexdigest() == \"6e52c826a7bebe0b300f2478fccbedb6af05d819\", \"value of answer2_9_0 is not correct\"\n",
    "assert sha1(str(answer2_9_0).encode(\"utf-8\")+b\"69f6362aceef02c8\").hexdigest() == \"390b10ff64db9ffbf9944fcf0ee248183e054227\", \"correct string value of answer2_9_0 but incorrect case of letters\"\n",
    "\n",
    "print('Success!')"
   ]
  },
  {
   "cell_type": "markdown",
   "metadata": {
    "deletable": false,
    "editable": false,
    "nbgrader": {
     "cell_type": "markdown",
     "checksum": "18fbe3367ad55765d5a741e82d5bdfc1",
     "grade": false,
     "grade_id": "cell-d202e7ffd51f7ed6",
     "locked": true,
     "schema_version": 3,
     "solution": false,
     "task": false
    }
   },
   "source": [
    "Consider the populations of California (39.512 million), Oregon (4.217 million) and Washington (7.615 million) (source: [United States Census Bureau](https://www.census.gov/data/tables/time-series/demo/popest/2010s-state-total.html), visited on April 2020). Discuss with your neighbour about whether using the raw restaurant count for each state is the best measure of competition? Would restaurant per capita be a better alternative?"
   ]
  },
  {
   "cell_type": "markdown",
   "metadata": {
    "deletable": false,
    "editable": false,
    "nbgrader": {
     "cell_type": "markdown",
     "checksum": "0178a29d3a421429330e4dbf0caf3e4e",
     "grade": false,
     "grade_id": "cell-f1cdfd674e10939c",
     "locked": true,
     "schema_version": 3,
     "solution": false,
     "task": false
    }
   },
   "source": [
    "Calculate the restaurant per capita for the states on the west coast by uncommenting and filling in the `___` in the code below."
   ]
  },
  {
   "cell_type": "code",
   "execution_count": null,
   "metadata": {},
   "outputs": [],
   "source": [
    "# population = [39.512, 4.217, 7.615]\n",
    "\n",
    "# state_counts[\"n_per_capita\"] = ___ / population"
   ]
  },
  {
   "cell_type": "markdown",
   "metadata": {
    "deletable": false,
    "editable": false,
    "nbgrader": {
     "cell_type": "markdown",
     "checksum": "865aff7902ea6bdc8ae9ade34a4bcf14",
     "grade": false,
     "grade_id": "cell-81dda6467a7fbc87",
     "locked": true,
     "schema_version": 3,
     "solution": false,
     "task": false
    }
   },
   "source": [
    "**Question 2.9.1** Multiple Choice:\n",
    "<br> {points: 1}\n",
    "\n",
    "Which state has the highest number of fast food restaurants per capita?\n",
    "\n",
    "A. Washington\n",
    "\n",
    "B. California\n",
    "\n",
    "C. Oregon\n",
    "\n",
    "*Assign your answer to an object called `answer2_9_1`. Make sure your answer is an uppercase letter and is surrounded by quotation marks (e.g. `\"F\"`).*"
   ]
  },
  {
   "cell_type": "code",
   "execution_count": null,
   "metadata": {
    "deletable": false,
    "nbgrader": {
     "cell_type": "code",
     "checksum": "5bfdccb35dbd2f485a2f493fda1f82b2",
     "grade": false,
     "grade_id": "cell-7df84a13da5e51bc",
     "locked": false,
     "schema_version": 3,
     "solution": true,
     "task": false
    }
   },
   "outputs": [],
   "source": [
    "# your code here\n",
    "raise NotImplementedError"
   ]
  },
  {
   "cell_type": "code",
   "execution_count": null,
   "metadata": {
    "deletable": false,
    "editable": false,
    "max_height": 100,
    "nbgrader": {
     "cell_type": "code",
     "checksum": "87ed4b6dde546600d184cd1edebcb920",
     "grade": true,
     "grade_id": "cell-caee5ba3ec18fa8c",
     "locked": true,
     "points": 1,
     "schema_version": 3,
     "solution": false,
     "task": false
    }
   },
   "outputs": [],
   "source": [
    "from hashlib import sha1\n",
    "assert sha1(str(type(answer2_9_1)).encode(\"utf-8\")+b\"7284a894f4f87588\").hexdigest() == \"b539dac86729be78405b66ae0096ecf2fbe5d114\", \"type of answer2_9_1 is not str. answer2_9_1 should be an str\"\n",
    "assert sha1(str(len(answer2_9_1)).encode(\"utf-8\")+b\"7284a894f4f87588\").hexdigest() == \"cfe7331f993f48ad6dd7f688354ee8110741eadb\", \"length of answer2_9_1 is not correct\"\n",
    "assert sha1(str(answer2_9_1.lower()).encode(\"utf-8\")+b\"7284a894f4f87588\").hexdigest() == \"34fe017ebb64b48245d2aa8aa9ed8590fed31944\", \"value of answer2_9_1 is not correct\"\n",
    "assert sha1(str(answer2_9_1).encode(\"utf-8\")+b\"7284a894f4f87588\").hexdigest() == \"83087c8d5ab61c2b67bc5177d773a39f925c553e\", \"correct string value of answer2_9_1 but incorrect case of letters\"\n",
    "\n",
    "print('Success!')"
   ]
  },
  {
   "cell_type": "markdown",
   "metadata": {
    "deletable": false,
    "editable": false,
    "nbgrader": {
     "cell_type": "markdown",
     "checksum": "f3946f31c8d17b54dc974a44fead9abb",
     "grade": false,
     "grade_id": "cell-6ae4fef0681d6b96",
     "locked": true,
     "schema_version": 3,
     "solution": false,
     "task": false
    }
   },
   "source": [
    "**Question 2.9.2** \n",
    "<br> {points: 1}\n",
    "\n",
    "Is the most dominant/top franchise consistent across the west coast? To answer this question we need a data frame that has three columns: `name` (restaurant), `st` and `n` (restaurant count). We will need to use the `pd.merge` to merge two dataframes use the names in `top_restaurants` to get the counts of each restaurant in each of the 3 states from the `fast_food` data frame. This time, however, we'll need to `groupby` both `name` and `st`. Name this new data frame `top_n_state`. We only want to look at those top 9 fast-food restuarants we found earlier."
   ]
  },
  {
   "cell_type": "code",
   "execution_count": null,
   "metadata": {
    "deletable": false,
    "nbgrader": {
     "cell_type": "code",
     "checksum": "bd71f26223e6e45e696814e6e90c18eb",
     "grade": false,
     "grade_id": "cell-fa13c7c54d724542",
     "locked": false,
     "schema_version": 3,
     "solution": true
    }
   },
   "outputs": [],
   "source": [
    "# ___ = pd.merge(\n",
    "#     fast_food, top_restaurants, how=\"right\", on=\"name\"\n",
    "# )  # perform a semi_join to get the intersection of two data frames\n",
    "# ___ = (\n",
    "#     top_n_state[top_n_state[\"st\"].isin([\"CA\", \"WA\", \"OR\"])]\n",
    "#     .groupby([___, ___])\n",
    "#     .___\n",
    "#     .reset_index()\n",
    "# )\n",
    "\n",
    "# your code here\n",
    "raise NotImplementedError\n",
    "top_n_state"
   ]
  },
  {
   "cell_type": "code",
   "execution_count": null,
   "metadata": {
    "deletable": false,
    "editable": false,
    "max_height": 100,
    "nbgrader": {
     "cell_type": "code",
     "checksum": "b3efc272afcb7ca7049b90ea9333eb63",
     "grade": true,
     "grade_id": "cell-58b0fb2c06951419",
     "locked": true,
     "points": 1,
     "schema_version": 3,
     "solution": false
    }
   },
   "outputs": [],
   "source": [
    "from hashlib import sha1\n",
    "assert sha1(str(type(top_n_state is None)).encode(\"utf-8\")+b\"c93f6e6a122be4e9\").hexdigest() == \"2ea8f77a4f37b3f0efd42f889aedbf0367779355\", \"type of top_n_state is None is not bool. top_n_state is None should be a bool\"\n",
    "assert sha1(str(top_n_state is None).encode(\"utf-8\")+b\"c93f6e6a122be4e9\").hexdigest() == \"13fd9a2fba4d2ad7c560d0a9f13780ed176b1128\", \"boolean value of top_n_state is None is not correct\"\n",
    "\n",
    "assert sha1(str(type(top_n_state.st.unique())).encode(\"utf-8\")+b\"2fb830bd7186ff84\").hexdigest() == \"c6bdbb08fd51be9a2a4d6decf36f47a0111a919d\", \"type of top_n_state.st.unique() is not correct\"\n",
    "assert sha1(str(top_n_state.st.unique()).encode(\"utf-8\")+b\"2fb830bd7186ff84\").hexdigest() == \"b4ab617b70a564dabb4c9636666c7343c484493f\", \"value of top_n_state.st.unique() is not correct\"\n",
    "\n",
    "assert sha1(str(type(top_n_state.shape)).encode(\"utf-8\")+b\"a54a900ef65244ea\").hexdigest() == \"5a4d3366cb0802ca31f462a693150e3d3a78896d\", \"type of top_n_state.shape is not tuple. top_n_state.shape should be a tuple\"\n",
    "assert sha1(str(len(top_n_state.shape)).encode(\"utf-8\")+b\"a54a900ef65244ea\").hexdigest() == \"0c59a0fbec6c3bdeb203d499bf69e1a70d8fb5e2\", \"length of top_n_state.shape is not correct\"\n",
    "assert sha1(str(sorted(map(str, top_n_state.shape))).encode(\"utf-8\")+b\"a54a900ef65244ea\").hexdigest() == \"0550d2921a5741b7a7f8ae4ca3c2796e4fd8fb66\", \"values of top_n_state.shape are not correct\"\n",
    "assert sha1(str(top_n_state.shape).encode(\"utf-8\")+b\"a54a900ef65244ea\").hexdigest() == \"fc654dda8006b9fc75a4e3f31bc1ef78329ab95a\", \"order of elements of top_n_state.shape is not correct\"\n",
    "\n",
    "assert sha1(str(type(sum(top_n_state.n.dropna()))).encode(\"utf-8\")+b\"ea249e9a4f7f8741\").hexdigest() == \"00a02ef807384f41c2aee0dc1b59d0a73ec5c31b\", \"type of sum(top_n_state.n.dropna()) is not int. Please make sure it is int and not np.int64, etc. You can cast your value into an int using int()\"\n",
    "assert sha1(str(sum(top_n_state.n.dropna())).encode(\"utf-8\")+b\"ea249e9a4f7f8741\").hexdigest() == \"c533a588c9e903348a5eecb6161b74428c4c5879\", \"value of sum(top_n_state.n.dropna()) is not correct\"\n",
    "\n",
    "print('Success!')"
   ]
  },
  {
   "cell_type": "markdown",
   "metadata": {
    "deletable": false,
    "editable": false,
    "nbgrader": {
     "cell_type": "markdown",
     "checksum": "9d0027c7eb90485f42c8c64fb7b82fea",
     "grade": false,
     "grade_id": "cell-fbbbd065920901d2",
     "locked": true,
     "schema_version": 3,
     "solution": false
    }
   },
   "source": [
    "**Question 2.9.3** \n",
    "<br> {points: 1}\n",
    "\n",
    "Plot the proportions (y-axis) for the top 9 fast food restaurants (x-axis) on the west coast, per US State (group), as a stacked bar chart using mark_bar. To get the proportions, we need to use `stack=\"normalize\"` inside the Y encoding to calculate the proportion of each restaurants in each state.\n",
    "\n",
    "The code is provided below for you, please fill `___` to generate the plot. \n",
    "\n",
    "*Assign your answer to an object called `top_n_state_plot2`*."
   ]
  },
  {
   "cell_type": "code",
   "execution_count": null,
   "metadata": {
    "deletable": false,
    "nbgrader": {
     "cell_type": "code",
     "checksum": "2c1973de0ddfb76585651af6a30d15f3",
     "grade": false,
     "grade_id": "cell-8d848ab3e4d34d85",
     "locked": false,
     "schema_version": 3,
     "solution": true
    }
   },
   "outputs": [],
   "source": [
    "# ___ = (\n",
    "#     alt.Chart(___)\n",
    "#     .mark_bar()\n",
    "#     .encode(\n",
    "#         y=alt.Y(\n",
    "#             \"sum(___)\",\n",
    "#             stack=\"normalize\",\n",
    "#             axis=alt.Axis(format=\"%\"),\n",
    "#             title=___,\n",
    "#         ),\n",
    "#         x=alt.X(___, title=___),\n",
    "#         fill=alt.Fill(___, title=___),\n",
    "#     )\n",
    "# )\n",
    "\n",
    "# your code here\n",
    "raise NotImplementedError\n",
    "top_n_state_plot2"
   ]
  },
  {
   "cell_type": "code",
   "execution_count": null,
   "metadata": {
    "deletable": false,
    "editable": false,
    "max_height": 100,
    "nbgrader": {
     "cell_type": "code",
     "checksum": "49259f331fcec954f37983439f01a3e2",
     "grade": true,
     "grade_id": "cell-b90d158867cf1c27",
     "locked": true,
     "points": 1,
     "schema_version": 3,
     "solution": false
    }
   },
   "outputs": [],
   "source": [
    "from hashlib import sha1\n",
    "assert sha1(str(type(top_n_state_plot2 is None)).encode(\"utf-8\")+b\"813392adef700458\").hexdigest() == \"41db68a7372151bf783b1462a57ebe5fbccf7564\", \"type of top_n_state_plot2 is None is not bool. top_n_state_plot2 is None should be a bool\"\n",
    "assert sha1(str(top_n_state_plot2 is None).encode(\"utf-8\")+b\"813392adef700458\").hexdigest() == \"e97a0282b3dddca96294a8d4fa2d27f25dac4e9e\", \"boolean value of top_n_state_plot2 is None is not correct\"\n",
    "\n",
    "assert sha1(str(type(top_n_state_plot2.encoding.x.field)).encode(\"utf-8\")+b\"acf22e6a96b7e762\").hexdigest() == \"96492d505fc524619989e9b05c7bf9c95ffca79e\", \"type of top_n_state_plot2.encoding.x.field is not str. top_n_state_plot2.encoding.x.field should be an str\"\n",
    "assert sha1(str(len(top_n_state_plot2.encoding.x.field)).encode(\"utf-8\")+b\"acf22e6a96b7e762\").hexdigest() == \"d67aaf432a30548f58d16fac12e807ee63a92836\", \"length of top_n_state_plot2.encoding.x.field is not correct\"\n",
    "assert sha1(str(top_n_state_plot2.encoding.x.field.lower()).encode(\"utf-8\")+b\"acf22e6a96b7e762\").hexdigest() == \"ad653a12201cb3fd4e0a964007c36342d33ebed8\", \"value of top_n_state_plot2.encoding.x.field is not correct\"\n",
    "assert sha1(str(top_n_state_plot2.encoding.x.field).encode(\"utf-8\")+b\"acf22e6a96b7e762\").hexdigest() == \"ad653a12201cb3fd4e0a964007c36342d33ebed8\", \"correct string value of top_n_state_plot2.encoding.x.field but incorrect case of letters\"\n",
    "\n",
    "assert sha1(str(type(top_n_state_plot2.encoding.y.field)).encode(\"utf-8\")+b\"806757139a8e184e\").hexdigest() == \"0ad00af8604e5bcd546b080df8efd9e067359abd\", \"type of top_n_state_plot2.encoding.y.field is not str. top_n_state_plot2.encoding.y.field should be an str\"\n",
    "assert sha1(str(len(top_n_state_plot2.encoding.y.field)).encode(\"utf-8\")+b\"806757139a8e184e\").hexdigest() == \"4b16b56e365cfee081a3497c3f1e9ba0a4748dc7\", \"length of top_n_state_plot2.encoding.y.field is not correct\"\n",
    "assert sha1(str(top_n_state_plot2.encoding.y.field.lower()).encode(\"utf-8\")+b\"806757139a8e184e\").hexdigest() == \"63c850a206ed7db0199e92b9b7a9749209f29536\", \"value of top_n_state_plot2.encoding.y.field is not correct\"\n",
    "assert sha1(str(top_n_state_plot2.encoding.y.field).encode(\"utf-8\")+b\"806757139a8e184e\").hexdigest() == \"63c850a206ed7db0199e92b9b7a9749209f29536\", \"correct string value of top_n_state_plot2.encoding.y.field but incorrect case of letters\"\n",
    "\n",
    "assert sha1(str(type(top_n_state_plot2.encoding.fill.field)).encode(\"utf-8\")+b\"1316c12d60a105e6\").hexdigest() == \"5fe5a97d17cc1fb28c3cd2b28eff7f3735e60837\", \"type of top_n_state_plot2.encoding.fill.field is not str. top_n_state_plot2.encoding.fill.field should be an str\"\n",
    "assert sha1(str(len(top_n_state_plot2.encoding.fill.field)).encode(\"utf-8\")+b\"1316c12d60a105e6\").hexdigest() == \"dc9462e4f589ccd2978133b5a4606a773f582ed3\", \"length of top_n_state_plot2.encoding.fill.field is not correct\"\n",
    "assert sha1(str(top_n_state_plot2.encoding.fill.field.lower()).encode(\"utf-8\")+b\"1316c12d60a105e6\").hexdigest() == \"91d88f122dafd0628c95f3d066870e0b3f5b6f5c\", \"value of top_n_state_plot2.encoding.fill.field is not correct\"\n",
    "assert sha1(str(top_n_state_plot2.encoding.fill.field).encode(\"utf-8\")+b\"1316c12d60a105e6\").hexdigest() == \"91d88f122dafd0628c95f3d066870e0b3f5b6f5c\", \"correct string value of top_n_state_plot2.encoding.fill.field but incorrect case of letters\"\n",
    "\n",
    "assert sha1(str(type(top_n_state_plot2.mark)).encode(\"utf-8\")+b\"33a24c20568f3f79\").hexdigest() == \"c4b488b95cb99b6d54a28adfd2deaf2d82edb99b\", \"type of top_n_state_plot2.mark is not str. top_n_state_plot2.mark should be an str\"\n",
    "assert sha1(str(len(top_n_state_plot2.mark)).encode(\"utf-8\")+b\"33a24c20568f3f79\").hexdigest() == \"61e7e1fdb0a589a6128a8141bd32b7fe7656ffda\", \"length of top_n_state_plot2.mark is not correct\"\n",
    "assert sha1(str(top_n_state_plot2.mark.lower()).encode(\"utf-8\")+b\"33a24c20568f3f79\").hexdigest() == \"ac1c8c2e4c0680d7e4696c051e642bf349a6ec93\", \"value of top_n_state_plot2.mark is not correct\"\n",
    "assert sha1(str(top_n_state_plot2.mark).encode(\"utf-8\")+b\"33a24c20568f3f79\").hexdigest() == \"ac1c8c2e4c0680d7e4696c051e642bf349a6ec93\", \"correct string value of top_n_state_plot2.mark but incorrect case of letters\"\n",
    "\n",
    "assert sha1(str(type(top_n_state_plot2.encoding.fill.title != top_n_state_plot2.encoding.fill.field)).encode(\"utf-8\")+b\"c9b5d1fe4c4570ca\").hexdigest() == \"dbd5d70024831e7c2e78f528688265ac91efeb17\", \"type of top_n_state_plot2.encoding.fill.title != top_n_state_plot2.encoding.fill.field is not bool. top_n_state_plot2.encoding.fill.title != top_n_state_plot2.encoding.fill.field should be a bool\"\n",
    "assert sha1(str(top_n_state_plot2.encoding.fill.title != top_n_state_plot2.encoding.fill.field).encode(\"utf-8\")+b\"c9b5d1fe4c4570ca\").hexdigest() == \"aa5f742bfc85dfaf2e4f998880116e1daeee35e1\", \"boolean value of top_n_state_plot2.encoding.fill.title != top_n_state_plot2.encoding.fill.field is not correct\"\n",
    "\n",
    "assert sha1(str(type(top_n_state_plot2.encoding.x.title != top_n_state_plot2.encoding.x.field)).encode(\"utf-8\")+b\"c1f35bfa46c88ea2\").hexdigest() == \"ec7ef2d21f9ff84fbd595984d549e7fd4a28cabe\", \"type of top_n_state_plot2.encoding.x.title != top_n_state_plot2.encoding.x.field is not bool. top_n_state_plot2.encoding.x.title != top_n_state_plot2.encoding.x.field should be a bool\"\n",
    "assert sha1(str(top_n_state_plot2.encoding.x.title != top_n_state_plot2.encoding.x.field).encode(\"utf-8\")+b\"c1f35bfa46c88ea2\").hexdigest() == \"2212407b608b5818b47a1ab322ba7cbf3832299e\", \"boolean value of top_n_state_plot2.encoding.x.title != top_n_state_plot2.encoding.x.field is not correct\"\n",
    "\n",
    "assert sha1(str(type(top_n_state_plot2.encoding.y.title != top_n_state_plot2.encoding.y.field)).encode(\"utf-8\")+b\"fdfe4b7f7128be5b\").hexdigest() == \"1973224813d7993134c358758cf8034dfea00aad\", \"type of top_n_state_plot2.encoding.y.title != top_n_state_plot2.encoding.y.field is not bool. top_n_state_plot2.encoding.y.title != top_n_state_plot2.encoding.y.field should be a bool\"\n",
    "assert sha1(str(top_n_state_plot2.encoding.y.title != top_n_state_plot2.encoding.y.field).encode(\"utf-8\")+b\"fdfe4b7f7128be5b\").hexdigest() == \"51fe801e6ef4fe7fa62f00fd3d3506824d1c89b0\", \"boolean value of top_n_state_plot2.encoding.y.title != top_n_state_plot2.encoding.y.field is not correct\"\n",
    "\n",
    "print('Success!')"
   ]
  },
  {
   "cell_type": "markdown",
   "metadata": {
    "deletable": false,
    "editable": false,
    "nbgrader": {
     "cell_type": "markdown",
     "checksum": "d916c39997c4aab52e9bc3468f265ee5",
     "grade": false,
     "grade_id": "cell-ff61d705f3a66bac",
     "locked": true,
     "schema_version": 3,
     "solution": false,
     "task": false
    }
   },
   "source": [
    "How easy is that to compare the restaurants and states to answer our question: Is the most dominant/top franchise consistent across the West-Coast? If we carefully look at this plot we can pick answer this question, but it takes us a while to process this. If we instead visualize this as a side-by-side bar chart we might be able to do this easier (making it a more effective visualization)."
   ]
  },
  {
   "cell_type": "markdown",
   "metadata": {
    "deletable": false,
    "editable": false,
    "nbgrader": {
     "cell_type": "markdown",
     "checksum": "c81a39fb44b6ce7ae93870fe5a84bb7b",
     "grade": false,
     "grade_id": "cell-bc917b8d65a605c2",
     "locked": true,
     "schema_version": 3,
     "solution": false
    }
   },
   "source": [
    "**Question 2.9.4** \n",
    "<br> {points: 1}\n",
    "\n",
    "Plot the counts (y-axis) for the top 9 fast food restaurants (x-axis) on the west coast, **per US State** (group), as a bar chart using `mark_bar`. Use `fill = \"name\"` inside `encode` to color the restaurant's by name. Use `column=alt.Column` inside `encode` to group the bars by state. \n",
    "\n",
    "To do this fill in the `___` in the cell below.  Make sure to label your axes and choose an appropriate plot size. \n",
    "\n",
    "*Assign your answer to an object called `top_n_state_plot`.*"
   ]
  },
  {
   "cell_type": "code",
   "execution_count": null,
   "metadata": {
    "deletable": false,
    "nbgrader": {
     "cell_type": "code",
     "checksum": "a4b10ee4b7347aed0383734791af460c",
     "grade": false,
     "grade_id": "cell-e76e0bf48a0e8854",
     "locked": false,
     "schema_version": 3,
     "solution": true
    }
   },
   "outputs": [],
   "source": [
    "# ___ = (\n",
    "#     alt.Chart(___)\n",
    "#     .mark_bar()\n",
    "#     .encode(\n",
    "#         x=alt.X(___, title=None, axis=None),\n",
    "#         y=alt.Y(___, title=___),\n",
    "#         fill=alt.Fill(___, title=___),\n",
    "#         column=alt.Column(___, title=None)\n",
    "#     )\n",
    "# )\n",
    "\n",
    "# your code here\n",
    "raise NotImplementedError\n",
    "top_n_state_plot"
   ]
  },
  {
   "cell_type": "code",
   "execution_count": null,
   "metadata": {
    "deletable": false,
    "editable": false,
    "max_height": 100,
    "nbgrader": {
     "cell_type": "code",
     "checksum": "d3410dac4864bdbbff30a6017cf3ac52",
     "grade": true,
     "grade_id": "cell-ed385a60b4c8a6d0",
     "locked": true,
     "points": 1,
     "schema_version": 3,
     "solution": false
    }
   },
   "outputs": [],
   "source": [
    "from hashlib import sha1\n",
    "assert sha1(str(type(top_n_state_plot is None)).encode(\"utf-8\")+b\"ee951cd397013656\").hexdigest() == \"45e245b9fcce21766a4df3e1f6a6d3d77786e17f\", \"type of top_n_state_plot is None is not bool. top_n_state_plot is None should be a bool\"\n",
    "assert sha1(str(top_n_state_plot is None).encode(\"utf-8\")+b\"ee951cd397013656\").hexdigest() == \"6e924e705f1bacfa475da91ce99708845237a2bb\", \"boolean value of top_n_state_plot is None is not correct\"\n",
    "\n",
    "assert sha1(str(type(top_n_state_plot.encoding.x.field)).encode(\"utf-8\")+b\"77ed8aa82c4bd69a\").hexdigest() == \"9e84fc4305112a859d3cac22bc3ba6be2ed9cdb4\", \"type of top_n_state_plot.encoding.x.field is not str. top_n_state_plot.encoding.x.field should be an str\"\n",
    "assert sha1(str(len(top_n_state_plot.encoding.x.field)).encode(\"utf-8\")+b\"77ed8aa82c4bd69a\").hexdigest() == \"6b466f1876ed1bc8749e4d06b26de415fab74605\", \"length of top_n_state_plot.encoding.x.field is not correct\"\n",
    "assert sha1(str(top_n_state_plot.encoding.x.field.lower()).encode(\"utf-8\")+b\"77ed8aa82c4bd69a\").hexdigest() == \"ad0276a87a79130810eccce22d87d341c80fdb9b\", \"value of top_n_state_plot.encoding.x.field is not correct\"\n",
    "assert sha1(str(top_n_state_plot.encoding.x.field).encode(\"utf-8\")+b\"77ed8aa82c4bd69a\").hexdigest() == \"ad0276a87a79130810eccce22d87d341c80fdb9b\", \"correct string value of top_n_state_plot.encoding.x.field but incorrect case of letters\"\n",
    "\n",
    "assert sha1(str(type(top_n_state_plot.encoding.y.field)).encode(\"utf-8\")+b\"7e4fb9e95d0e93eb\").hexdigest() == \"3acf6d4a02289e4da1e6ddc3ddef1e1a4e4588c6\", \"type of top_n_state_plot.encoding.y.field is not str. top_n_state_plot.encoding.y.field should be an str\"\n",
    "assert sha1(str(len(top_n_state_plot.encoding.y.field)).encode(\"utf-8\")+b\"7e4fb9e95d0e93eb\").hexdigest() == \"70dc7e1a09442a4dc465a04a4b4c300fa14e47de\", \"length of top_n_state_plot.encoding.y.field is not correct\"\n",
    "assert sha1(str(top_n_state_plot.encoding.y.field.lower()).encode(\"utf-8\")+b\"7e4fb9e95d0e93eb\").hexdigest() == \"e4f1455398fa766ea68e24998e6de89257b018ee\", \"value of top_n_state_plot.encoding.y.field is not correct\"\n",
    "assert sha1(str(top_n_state_plot.encoding.y.field).encode(\"utf-8\")+b\"7e4fb9e95d0e93eb\").hexdigest() == \"e4f1455398fa766ea68e24998e6de89257b018ee\", \"correct string value of top_n_state_plot.encoding.y.field but incorrect case of letters\"\n",
    "\n",
    "assert sha1(str(type(top_n_state_plot.encoding.column.field)).encode(\"utf-8\")+b\"97368a712e8c99a7\").hexdigest() == \"a52cb882d63ca9abb2a21dd666ae22c76bcbfb8a\", \"type of top_n_state_plot.encoding.column.field is not str. top_n_state_plot.encoding.column.field should be an str\"\n",
    "assert sha1(str(len(top_n_state_plot.encoding.column.field)).encode(\"utf-8\")+b\"97368a712e8c99a7\").hexdigest() == \"a263d02499d2f30dcb5d053c982765585e927084\", \"length of top_n_state_plot.encoding.column.field is not correct\"\n",
    "assert sha1(str(top_n_state_plot.encoding.column.field.lower()).encode(\"utf-8\")+b\"97368a712e8c99a7\").hexdigest() == \"1667ca7ed19da7dea2e3952ba90013051b8b7c7e\", \"value of top_n_state_plot.encoding.column.field is not correct\"\n",
    "assert sha1(str(top_n_state_plot.encoding.column.field).encode(\"utf-8\")+b\"97368a712e8c99a7\").hexdigest() == \"1667ca7ed19da7dea2e3952ba90013051b8b7c7e\", \"correct string value of top_n_state_plot.encoding.column.field but incorrect case of letters\"\n",
    "\n",
    "assert sha1(str(type(top_n_state_plot.mark)).encode(\"utf-8\")+b\"9c2bd67cc859a931\").hexdigest() == \"38f083a4ad97e511e653ae6531821eed6c41fed8\", \"type of top_n_state_plot.mark is not str. top_n_state_plot.mark should be an str\"\n",
    "assert sha1(str(len(top_n_state_plot.mark)).encode(\"utf-8\")+b\"9c2bd67cc859a931\").hexdigest() == \"7bdf03c60ae3aa2b02f5a40e45fa9d0ed45c0cf0\", \"length of top_n_state_plot.mark is not correct\"\n",
    "assert sha1(str(top_n_state_plot.mark.lower()).encode(\"utf-8\")+b\"9c2bd67cc859a931\").hexdigest() == \"23642e4fb00802ad9369c9932d3cd07185e6d3fb\", \"value of top_n_state_plot.mark is not correct\"\n",
    "assert sha1(str(top_n_state_plot.mark).encode(\"utf-8\")+b\"9c2bd67cc859a931\").hexdigest() == \"23642e4fb00802ad9369c9932d3cd07185e6d3fb\", \"correct string value of top_n_state_plot.mark but incorrect case of letters\"\n",
    "\n",
    "assert sha1(str(type(top_n_state_plot.encoding.fill.field)).encode(\"utf-8\")+b\"cbde73851b9fe4f1\").hexdigest() == \"9fe26b83fff5c4df88b9d72bb2aaa128e2479389\", \"type of top_n_state_plot.encoding.fill.field is not str. top_n_state_plot.encoding.fill.field should be an str\"\n",
    "assert sha1(str(len(top_n_state_plot.encoding.fill.field)).encode(\"utf-8\")+b\"cbde73851b9fe4f1\").hexdigest() == \"61553e4eabca1aece6757f25fac9a4e28d5679d1\", \"length of top_n_state_plot.encoding.fill.field is not correct\"\n",
    "assert sha1(str(top_n_state_plot.encoding.fill.field.lower()).encode(\"utf-8\")+b\"cbde73851b9fe4f1\").hexdigest() == \"f5b3da30cc362db05c41fc480790833f918e450e\", \"value of top_n_state_plot.encoding.fill.field is not correct\"\n",
    "assert sha1(str(top_n_state_plot.encoding.fill.field).encode(\"utf-8\")+b\"cbde73851b9fe4f1\").hexdigest() == \"f5b3da30cc362db05c41fc480790833f918e450e\", \"correct string value of top_n_state_plot.encoding.fill.field but incorrect case of letters\"\n",
    "\n",
    "assert sha1(str(type(top_n_state_plot.encoding.fill.title != top_n_state_plot.encoding.fill.field)).encode(\"utf-8\")+b\"5335e17fde1ed02d\").hexdigest() == \"beab7719b265907c39e22e1284ce070b86ce90a0\", \"type of top_n_state_plot.encoding.fill.title != top_n_state_plot.encoding.fill.field is not bool. top_n_state_plot.encoding.fill.title != top_n_state_plot.encoding.fill.field should be a bool\"\n",
    "assert sha1(str(top_n_state_plot.encoding.fill.title != top_n_state_plot.encoding.fill.field).encode(\"utf-8\")+b\"5335e17fde1ed02d\").hexdigest() == \"ba7bc9432e52c01f4a6384ec996a2e73266b0f96\", \"boolean value of top_n_state_plot.encoding.fill.title != top_n_state_plot.encoding.fill.field is not correct\"\n",
    "\n",
    "assert sha1(str(type(top_n_state_plot.encoding.x.title != top_n_state_plot.encoding.x.field)).encode(\"utf-8\")+b\"63902aecb67af3e4\").hexdigest() == \"ed4a826e46dfa0f24bf07d8987459b597367e400\", \"type of top_n_state_plot.encoding.x.title != top_n_state_plot.encoding.x.field is not bool. top_n_state_plot.encoding.x.title != top_n_state_plot.encoding.x.field should be a bool\"\n",
    "assert sha1(str(top_n_state_plot.encoding.x.title != top_n_state_plot.encoding.x.field).encode(\"utf-8\")+b\"63902aecb67af3e4\").hexdigest() == \"5d89df84baf6d3385accfd3f5e92f68db6a8feef\", \"boolean value of top_n_state_plot.encoding.x.title != top_n_state_plot.encoding.x.field is not correct\"\n",
    "\n",
    "assert sha1(str(type(top_n_state_plot.encoding.y.title != top_n_state_plot.encoding.y.field)).encode(\"utf-8\")+b\"488918ecef01d934\").hexdigest() == \"8ef8387010f2b04e76618549c7c37176d384caad\", \"type of top_n_state_plot.encoding.y.title != top_n_state_plot.encoding.y.field is not bool. top_n_state_plot.encoding.y.title != top_n_state_plot.encoding.y.field should be a bool\"\n",
    "assert sha1(str(top_n_state_plot.encoding.y.title != top_n_state_plot.encoding.y.field).encode(\"utf-8\")+b\"488918ecef01d934\").hexdigest() == \"0ed4a3441eee7e0e551b73ad347893f8afc9b0da\", \"boolean value of top_n_state_plot.encoding.y.title != top_n_state_plot.encoding.y.field is not correct\"\n",
    "\n",
    "print('Success!')"
   ]
  },
  {
   "cell_type": "markdown",
   "metadata": {
    "deletable": false,
    "editable": false,
    "nbgrader": {
     "cell_type": "markdown",
     "checksum": "39d3d2db0ca5106e8e2fe1165b7b4176",
     "grade": false,
     "grade_id": "cell-18024b55d0ecc8f0",
     "locked": true,
     "schema_version": 3,
     "solution": false
    }
   },
   "source": [
    "**Question 2.9.5** \n",
    "<br> {points: 1}\n",
    "\n",
    "Is the most dominant franchise consistent across the west coast? Answer `\"yes\"` or `\"no\"`. Save your answer as `answer2_9_5` and be sure to surround the answer with quotations. Pay attention to case and punctuation when answering."
   ]
  },
  {
   "cell_type": "code",
   "execution_count": null,
   "metadata": {
    "deletable": false,
    "nbgrader": {
     "cell_type": "code",
     "checksum": "5ccdf44bdb0132bc34a5fd2c31fa9205",
     "grade": false,
     "grade_id": "cell-84b61b1043757d6f",
     "locked": false,
     "schema_version": 3,
     "solution": true
    }
   },
   "outputs": [],
   "source": [
    "# your code here\n",
    "raise NotImplementedError"
   ]
  },
  {
   "cell_type": "code",
   "execution_count": null,
   "metadata": {
    "deletable": false,
    "editable": false,
    "max_height": 100,
    "nbgrader": {
     "cell_type": "code",
     "checksum": "c9ba808f7ebff9346681507cee541d85",
     "grade": true,
     "grade_id": "cell-0eb8e20187b2bfa2",
     "locked": true,
     "points": 1,
     "schema_version": 3,
     "solution": false
    }
   },
   "outputs": [],
   "source": [
    "from hashlib import sha1\n",
    "assert sha1(str(type(answer2_9_5)).encode(\"utf-8\")+b\"aa74e209185af4d5\").hexdigest() == \"369cae2890374499ed9266db53cfe54ae506d009\", \"type of answer2_9_5 is not str. answer2_9_5 should be an str\"\n",
    "assert sha1(str(len(answer2_9_5)).encode(\"utf-8\")+b\"aa74e209185af4d5\").hexdigest() == \"c8a3b215d8534d7e674e1539711dbb9cbf37f982\", \"length of answer2_9_5 is not correct\"\n",
    "assert sha1(str(answer2_9_5.lower()).encode(\"utf-8\")+b\"aa74e209185af4d5\").hexdigest() == \"a898cf8f02b39441a7a6f57db95f882bad521082\", \"value of answer2_9_5 is not correct\"\n",
    "assert sha1(str(answer2_9_5).encode(\"utf-8\")+b\"aa74e209185af4d5\").hexdigest() == \"a898cf8f02b39441a7a6f57db95f882bad521082\", \"correct string value of answer2_9_5 but incorrect case of letters\"\n",
    "\n",
    "print('Success!')"
   ]
  },
  {
   "cell_type": "markdown",
   "metadata": {
    "deletable": false,
    "editable": false,
    "nbgrader": {
     "cell_type": "markdown",
     "checksum": "eff34d9c7f0409fbef10447703d44d7c",
     "grade": false,
     "grade_id": "cell-ed421b97dac101b5",
     "locked": true,
     "schema_version": 3,
     "solution": false,
     "task": false
    }
   },
   "source": [
    "We are just scratching the surface of how to create effective visualizations in Python. For example, we haven't covered how to change from the default colors palette `altair` provides. We'll learn more in the tutorial, but it's a big world out there; to learn more, visit the links in the reading and practice, practice, practice! Go forth and make beautiful and effective plots!"
   ]
  }
 ],
 "metadata": {
  "kernelspec": {
   "display_name": "Python 3 (ipykernel)",
   "language": "python",
   "name": "python3"
  },
  "language_info": {
   "codemirror_mode": {
    "name": "ipython",
    "version": 3
   },
   "file_extension": ".py",
   "mimetype": "text/x-python",
   "name": "python",
   "nbconvert_exporter": "python",
   "pygments_lexer": "ipython3",
   "version": "3.10.8"
  }
 },
 "nbformat": 4,
 "nbformat_minor": 4
}
