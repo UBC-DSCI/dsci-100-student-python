{
 "cells": [
  {
   "cell_type": "markdown",
   "metadata": {
    "deletable": false,
    "editable": false,
    "nbgrader": {
     "cell_type": "markdown",
     "checksum": "256eccc79d73af6191ce45d330dea856",
     "grade": false,
     "grade_id": "cell-4e13769a31cd3f6c",
     "locked": true,
     "schema_version": 3,
     "solution": false,
     "task": false
    }
   },
   "source": [
    "# Worksheet 10 - Clustering\n",
    "\n",
    "### Lecture and Tutorial Learning Goals:\n",
    "\n",
    "After completing this week's lecture and tutorial work, you will be able to:\n",
    "\n",
    "* Describe a case where clustering would be an appropriate tool, and what insight it would bring from the data.\n",
    "* Explain the k-means clustering algorithm.\n",
    "* Interpret the output of a k-means cluster analysis.\n",
    "* Perform k-means clustering in Python using k-means\n",
    "* Visualize the output of k-means clustering in Python using a coloured scatter plot\n",
    "* Identify when it is necessary to scale variables before clustering and do this using Python\n",
    "* Use the elbow method to choose the number of clusters for k-means\n",
    "* Describe advantages, limitations and assumptions of the kmeans clustering algorithm.\n"
   ]
  },
  {
   "cell_type": "code",
   "execution_count": null,
   "metadata": {
    "deletable": false,
    "editable": false,
    "nbgrader": {
     "cell_type": "code",
     "checksum": "59c39c7df13dedcdd52acd82ee328639",
     "grade": false,
     "grade_id": "cell-692894fcc96c281b",
     "locked": true,
     "schema_version": 3,
     "solution": false,
     "task": false
    }
   },
   "outputs": [],
   "source": [
    "### Run this cell before continuing.\n",
    "import altair as alt\n",
    "import numpy as np\n",
    "import pandas as pd\n",
    "from sklearn import cluster, datasets, metrics\n",
    "from sklearn.cluster import KMeans\n",
    "from sklearn.preprocessing import StandardScaler"
   ]
  },
  {
   "cell_type": "markdown",
   "metadata": {
    "deletable": false,
    "editable": false,
    "nbgrader": {
     "cell_type": "markdown",
     "checksum": "8a168dfd7621ff711e52ec453e00df98",
     "grade": false,
     "grade_id": "cell-353d89a0c34b681a",
     "locked": true,
     "schema_version": 3,
     "solution": false,
     "task": false
    }
   },
   "source": [
    "**Question 0.0** Multiple Choice:\n",
    "<br> {points: 1}\n",
    "\n",
    "In which of the following scenarios would clustering methods likely be appropriate?\n",
    "\n",
    "A. Identifying sub-groups of houses according to their house type, value, and geographical location\n",
    "\n",
    "B. Predicting whether a given user will click on an ad on a website\n",
    "\n",
    "C. Segmenting customers based on their preferences to target advertising\n",
    "\n",
    "D. Both A. and B.\n",
    "\n",
    "E. Both A. and C. \n",
    "\n",
    "*Assign your answer to an object called `answer0_0`. Your answer should be a single upper-case character surrounded by quotes.*"
   ]
  },
  {
   "cell_type": "code",
   "execution_count": null,
   "metadata": {
    "deletable": false,
    "nbgrader": {
     "cell_type": "code",
     "checksum": "c5e9fbea61cf802b845c6207b5fc087f",
     "grade": false,
     "grade_id": "cell-5dbd8978b6a0a44c",
     "locked": false,
     "schema_version": 3,
     "solution": true
    }
   },
   "outputs": [],
   "source": [
    "# your code here\n",
    "raise NotImplementedError"
   ]
  },
  {
   "cell_type": "code",
   "execution_count": null,
   "metadata": {
    "deletable": false,
    "editable": false,
    "max_height": 100,
    "nbgrader": {
     "cell_type": "code",
     "checksum": "191ad690f2ca9d98ddb5178d10490f6b",
     "grade": true,
     "grade_id": "cell-13f71e2d909892e4",
     "locked": true,
     "points": 1,
     "schema_version": 3,
     "solution": false
    }
   },
   "outputs": [],
   "source": [
    "from hashlib import sha1\n",
    "assert sha1(str(type(answer0_0)).encode(\"utf-8\")+b\"7283d63c22abc19a\").hexdigest() == \"1137983ec57cf3cfdc6bd61ea26906b7f6b49bef\", \"type of answer0_0 is not str. answer0_0 should be an str\"\n",
    "assert sha1(str(len(answer0_0)).encode(\"utf-8\")+b\"7283d63c22abc19a\").hexdigest() == \"c7f76139fef9dba1de4671d2be065d71134ae5b1\", \"length of answer0_0 is not correct\"\n",
    "assert sha1(str(answer0_0.lower()).encode(\"utf-8\")+b\"7283d63c22abc19a\").hexdigest() == \"75e572cc5b79b045cc97f68bd131f907715038d3\", \"value of answer0_0 is not correct\"\n",
    "assert sha1(str(answer0_0).encode(\"utf-8\")+b\"7283d63c22abc19a\").hexdigest() == \"9046fda9421fb30c42f5d177bf108c7c20cb84d4\", \"correct string value of answer0_0 but incorrect case of letters\"\n",
    "\n",
    "print('Success!')"
   ]
  },
  {
   "cell_type": "markdown",
   "metadata": {
    "deletable": false,
    "editable": false,
    "nbgrader": {
     "cell_type": "markdown",
     "checksum": "0053e7f45ff18daa0120cb0401913788",
     "grade": false,
     "grade_id": "cell-ba0b77eef45527d2",
     "locked": true,
     "schema_version": 3,
     "solution": false,
     "task": false
    }
   },
   "source": [
    "**Question 0.1** Multiple Choice:\n",
    "<br> {points: 1}\n",
    "\n",
    "Which step in the description of the Kmeans algorithm below is incorrect?\n",
    "\n",
    "0. Choose the number of clusters\n",
    "\n",
    "1. Randomly assign each of the points to one of the clusters\n",
    "\n",
    "2. Calculate the position for the cluster centre (centroid) for each of the clusters (this is the middle of the points in the cluster, as measured by straight-line distance)\n",
    "\n",
    "3. Re-assign each of the points to the cluster who's centroid is furthest from that point\n",
    "\n",
    "4. Repeat steps 1 - 2 until the cluster centroids don't change very much between iterations\n",
    "\n",
    "*Assign your answer to an object called `answer0_1`. Your answer should be a single numerical character surrounded by quotes.*"
   ]
  },
  {
   "cell_type": "code",
   "execution_count": null,
   "metadata": {
    "deletable": false,
    "nbgrader": {
     "cell_type": "code",
     "checksum": "521a09779823482304c1dea7e9f61e79",
     "grade": false,
     "grade_id": "cell-4c524a7e35eb23bb",
     "locked": false,
     "schema_version": 3,
     "solution": true
    }
   },
   "outputs": [],
   "source": [
    "# your code here\n",
    "raise NotImplementedError"
   ]
  },
  {
   "cell_type": "code",
   "execution_count": null,
   "metadata": {
    "deletable": false,
    "editable": false,
    "max_height": 100,
    "nbgrader": {
     "cell_type": "code",
     "checksum": "716500c9de5ae4d7de2a66ba8cd8e03f",
     "grade": true,
     "grade_id": "cell-4ac8aab3f8626a82",
     "locked": true,
     "points": 1,
     "schema_version": 3,
     "solution": false
    }
   },
   "outputs": [],
   "source": [
    "from hashlib import sha1\n",
    "assert sha1(str(type(answer0_1)).encode(\"utf-8\")+b\"fe6bf77adf7d8566\").hexdigest() == \"b6f00b8b239f0d729aef7d735b2f920fc02a39eb\", \"type of answer0_1 is not str. answer0_1 should be an str\"\n",
    "assert sha1(str(len(answer0_1)).encode(\"utf-8\")+b\"fe6bf77adf7d8566\").hexdigest() == \"4b19098f37b10f3f69a42b6d1cb15e9420ddb69a\", \"length of answer0_1 is not correct\"\n",
    "assert sha1(str(answer0_1.lower()).encode(\"utf-8\")+b\"fe6bf77adf7d8566\").hexdigest() == \"63331cd4005af273f2eaaabff4ed8b47ec2881d3\", \"value of answer0_1 is not correct\"\n",
    "assert sha1(str(answer0_1).encode(\"utf-8\")+b\"fe6bf77adf7d8566\").hexdigest() == \"63331cd4005af273f2eaaabff4ed8b47ec2881d3\", \"correct string value of answer0_1 but incorrect case of letters\"\n",
    "\n",
    "print('Success!')"
   ]
  },
  {
   "cell_type": "markdown",
   "metadata": {
    "deletable": false,
    "editable": false,
    "nbgrader": {
     "cell_type": "markdown",
     "checksum": "a82fcf4d840b36c74f8dd08e52acece2",
     "grade": false,
     "grade_id": "cell-3b5cd50b0518b4d1",
     "locked": true,
     "schema_version": 3,
     "solution": false,
     "task": false
    }
   },
   "source": [
    "## Hoppy Craft Beer\n",
    "\n",
    "Craft beer is a strong market in Canada and the US, and is expanding to other countries as well. If you wanted to get into the craft beer brewing market, you might want to better understand the product landscape. One popular craft beer product is hopped craft beer. Breweries create/label many different kinds of hopped craft beer, but how many different kinds of hopped craft beer are there really when you look at the chemical properties instead of the human labels? \n",
    "\n",
    "We will start to look at the question by looking at a [craft beer data set from Kaggle](https://www.kaggle.com/nickhould/craft-cans#beers.csv). In this data set, we will use the alcoholic content by volume  (`abv` column) and the International bittering units (`ibu` column) as variables to try to cluster the beers."
   ]
  },
  {
   "cell_type": "markdown",
   "metadata": {
    "deletable": false,
    "editable": false,
    "nbgrader": {
     "cell_type": "markdown",
     "checksum": "ad257945a043aa22f305f516a9eceb42",
     "grade": false,
     "grade_id": "cell-97bd85f0599a8d9d",
     "locked": true,
     "schema_version": 3,
     "solution": false,
     "task": false
    }
   },
   "source": [
    "**Question 1.0** \n",
    "<br> {points: 1}\n",
    "\n",
    "Read in the `beers.csv` data using `pd.read_csv` and assign it to an object called `beer`. The data is located within the `data/` folder. \n",
    "\n",
    "*Assign your dataframe answer to an object called `beer`.*"
   ]
  },
  {
   "cell_type": "code",
   "execution_count": null,
   "metadata": {
    "deletable": false,
    "nbgrader": {
     "cell_type": "code",
     "checksum": "83ae9898d56478dae7f0beefd8443768",
     "grade": false,
     "grade_id": "cell-b15ec51dce472f41",
     "locked": false,
     "schema_version": 3,
     "solution": true
    }
   },
   "outputs": [],
   "source": [
    "# your code here\n",
    "raise NotImplementedError\n",
    "beer.head()"
   ]
  },
  {
   "cell_type": "code",
   "execution_count": null,
   "metadata": {
    "deletable": false,
    "editable": false,
    "max_height": 100,
    "nbgrader": {
     "cell_type": "code",
     "checksum": "508c2d6f12a0e71db238bac56e61fcad",
     "grade": true,
     "grade_id": "cell-7afc19b7bc727fc8",
     "locked": true,
     "points": 1,
     "schema_version": 3,
     "solution": false
    }
   },
   "outputs": [],
   "source": [
    "from hashlib import sha1\n",
    "assert sha1(str(type(beer is None)).encode(\"utf-8\")+b\"ff0083b10b39fea5\").hexdigest() == \"4b22e76e6727d460172667bf4a33db7556593372\", \"type of beer is None is not bool. beer is None should be a bool\"\n",
    "assert sha1(str(beer is None).encode(\"utf-8\")+b\"ff0083b10b39fea5\").hexdigest() == \"c3e1f976f2f4e9fde510d61c22c579cce7c35d4b\", \"boolean value of beer is None is not correct\"\n",
    "\n",
    "assert sha1(str(type(beer)).encode(\"utf-8\")+b\"a8a4ca2844f875c3\").hexdigest() == \"de5adb3074f0921f7892412d75e64387cb732daf\", \"type of type(beer) is not correct\"\n",
    "\n",
    "assert sha1(str(type(beer.shape)).encode(\"utf-8\")+b\"9561ec3497360c65\").hexdigest() == \"d320ab6f889de75727890e4b5a5f783c9d268fdc\", \"type of beer.shape is not tuple. beer.shape should be a tuple\"\n",
    "assert sha1(str(len(beer.shape)).encode(\"utf-8\")+b\"9561ec3497360c65\").hexdigest() == \"d442eece505fe4bb858bef83a6ed9f6fc59bb6aa\", \"length of beer.shape is not correct\"\n",
    "assert sha1(str(sorted(map(str, beer.shape))).encode(\"utf-8\")+b\"9561ec3497360c65\").hexdigest() == \"833601951867081f199ad7417ae963dbdb206381\", \"values of beer.shape are not correct\"\n",
    "assert sha1(str(beer.shape).encode(\"utf-8\")+b\"9561ec3497360c65\").hexdigest() == \"d73151924d4c4504c34f0464b44c0bc18bfddd05\", \"order of elements of beer.shape is not correct\"\n",
    "\n",
    "assert sha1(str(type(\"abv\" in beer.columns)).encode(\"utf-8\")+b\"6c286cf974e653d9\").hexdigest() == \"11d0d1f58c8e2515dbb2d3fa1e579d1e2049f04b\", \"type of \\\"abv\\\" in beer.columns is not bool. \\\"abv\\\" in beer.columns should be a bool\"\n",
    "assert sha1(str(\"abv\" in beer.columns).encode(\"utf-8\")+b\"6c286cf974e653d9\").hexdigest() == \"bd19ae3d3b2c6d3c3d4927e28dbe1468021f8372\", \"boolean value of \\\"abv\\\" in beer.columns is not correct\"\n",
    "\n",
    "assert sha1(str(type(\"ibu\" in beer.columns)).encode(\"utf-8\")+b\"92f3aaf78c57ac50\").hexdigest() == \"b49ea515e37f27d1c8e7b031863cac99ad05b715\", \"type of \\\"ibu\\\" in beer.columns is not bool. \\\"ibu\\\" in beer.columns should be a bool\"\n",
    "assert sha1(str(\"ibu\" in beer.columns).encode(\"utf-8\")+b\"92f3aaf78c57ac50\").hexdigest() == \"853c69f1e54c0e728446d61ca7c0abaef535a1ff\", \"boolean value of \\\"ibu\\\" in beer.columns is not correct\"\n",
    "\n",
    "assert sha1(str(type(\"id\" in beer.columns)).encode(\"utf-8\")+b\"8dfc474a33eaa539\").hexdigest() == \"2759756bb781a9730f035374d62e596fe1b4f353\", \"type of \\\"id\\\" in beer.columns is not bool. \\\"id\\\" in beer.columns should be a bool\"\n",
    "assert sha1(str(\"id\" in beer.columns).encode(\"utf-8\")+b\"8dfc474a33eaa539\").hexdigest() == \"cb78f8b6359f1588a4cbdfad5f8d235991b7e485\", \"boolean value of \\\"id\\\" in beer.columns is not correct\"\n",
    "\n",
    "assert sha1(str(type(\"name\" in beer.columns)).encode(\"utf-8\")+b\"79de93a3f40badd0\").hexdigest() == \"ceaae6b133b98bae32be4d879c1f97d80bef2fb8\", \"type of \\\"name\\\" in beer.columns is not bool. \\\"name\\\" in beer.columns should be a bool\"\n",
    "assert sha1(str(\"name\" in beer.columns).encode(\"utf-8\")+b\"79de93a3f40badd0\").hexdigest() == \"1a12f73fe6b29c6923c281e1cbfb2e297ecb46a4\", \"boolean value of \\\"name\\\" in beer.columns is not correct\"\n",
    "\n",
    "assert sha1(str(type(\"style\" in beer.columns)).encode(\"utf-8\")+b\"20a5a6b4f218f5ce\").hexdigest() == \"5151708af5db488d068c4ca0b8b37b067ec86b4a\", \"type of \\\"style\\\" in beer.columns is not bool. \\\"style\\\" in beer.columns should be a bool\"\n",
    "assert sha1(str(\"style\" in beer.columns).encode(\"utf-8\")+b\"20a5a6b4f218f5ce\").hexdigest() == \"67cea34b44a586d65d836dc7264d1ac26b0dedb7\", \"boolean value of \\\"style\\\" in beer.columns is not correct\"\n",
    "\n",
    "assert sha1(str(type(\"brewery_id\" in beer.columns)).encode(\"utf-8\")+b\"0a3ae25a81fe23a8\").hexdigest() == \"47f148072bf0650771a06ca0bbc23141d273e2af\", \"type of \\\"brewery_id\\\" in beer.columns is not bool. \\\"brewery_id\\\" in beer.columns should be a bool\"\n",
    "assert sha1(str(\"brewery_id\" in beer.columns).encode(\"utf-8\")+b\"0a3ae25a81fe23a8\").hexdigest() == \"b84537979ac56b24f19f5c353e0272e6c2d32fbf\", \"boolean value of \\\"brewery_id\\\" in beer.columns is not correct\"\n",
    "\n",
    "assert sha1(str(type(\"ounces\" in beer.columns)).encode(\"utf-8\")+b\"ecc8bb36fa578a62\").hexdigest() == \"9d76da921fb7c71b8e73726623e3ee49c8f1c956\", \"type of \\\"ounces\\\" in beer.columns is not bool. \\\"ounces\\\" in beer.columns should be a bool\"\n",
    "assert sha1(str(\"ounces\" in beer.columns).encode(\"utf-8\")+b\"ecc8bb36fa578a62\").hexdigest() == \"587154f0d2484e06fdad956dadb4ec367d2d4f5d\", \"boolean value of \\\"ounces\\\" in beer.columns is not correct\"\n",
    "\n",
    "print('Success!')"
   ]
  },
  {
   "cell_type": "markdown",
   "metadata": {
    "deletable": false,
    "editable": false,
    "nbgrader": {
     "cell_type": "markdown",
     "checksum": "8dcf861b2888c3e09aec249d2755f4bd",
     "grade": false,
     "grade_id": "cell-eaefcd87f19fdf96",
     "locked": true,
     "schema_version": 3,
     "solution": false,
     "task": false
    }
   },
   "source": [
    "**Question 1.1**\n",
    "<br> {points: 1}\n",
    "\n",
    "Let's start by visualizing the variables we are going to use in our cluster analysis as a scatter plot. Put `ibu` on the horizontal axis, and `abv` on the vertical axis. Name the plot object `beer_eda`. \n",
    "\n",
    "*Remember to follow the best visualization practices, including adding human-readable labels to your plot.*"
   ]
  },
  {
   "cell_type": "code",
   "execution_count": null,
   "metadata": {
    "deletable": false,
    "nbgrader": {
     "cell_type": "code",
     "checksum": "22c8a64bcf9c95aaafb051aaf0011eb3",
     "grade": false,
     "grade_id": "cell-685ad4bcdc753cbf",
     "locked": false,
     "schema_version": 3,
     "solution": true
    }
   },
   "outputs": [],
   "source": [
    "# your code here\n",
    "raise NotImplementedError\n",
    "beer_eda"
   ]
  },
  {
   "cell_type": "code",
   "execution_count": null,
   "metadata": {
    "deletable": false,
    "editable": false,
    "max_height": 100,
    "nbgrader": {
     "cell_type": "code",
     "checksum": "013d1bb730817c1a5a79f8ff3e2d200f",
     "grade": true,
     "grade_id": "cell-a38c885f90300a1b",
     "locked": true,
     "points": 1,
     "schema_version": 3,
     "solution": false
    }
   },
   "outputs": [],
   "source": [
    "from hashlib import sha1\n",
    "assert sha1(str(type(beer_eda is None)).encode(\"utf-8\")+b\"9bc0a44557e97132\").hexdigest() == \"1547fa53f3b138699d9079ecc2362f5c8f8f1d7e\", \"type of beer_eda is None is not bool. beer_eda is None should be a bool\"\n",
    "assert sha1(str(beer_eda is None).encode(\"utf-8\")+b\"9bc0a44557e97132\").hexdigest() == \"14af650ac45fc7e1b9cca2d2694d09c30df424c8\", \"boolean value of beer_eda is None is not correct\"\n",
    "\n",
    "assert sha1(str(type(beer_eda.encoding.x.field)).encode(\"utf-8\")+b\"21f3922aa3a8ff7d\").hexdigest() == \"81bb6c2fc0d7be3c5f0ecfeb9f5e79175686da30\", \"type of beer_eda.encoding.x.field is not str. beer_eda.encoding.x.field should be an str\"\n",
    "assert sha1(str(len(beer_eda.encoding.x.field)).encode(\"utf-8\")+b\"21f3922aa3a8ff7d\").hexdigest() == \"305d7b5eccf9774d31aeafa4cd9e4ae2b46aa18c\", \"length of beer_eda.encoding.x.field is not correct\"\n",
    "assert sha1(str(beer_eda.encoding.x.field.lower()).encode(\"utf-8\")+b\"21f3922aa3a8ff7d\").hexdigest() == \"e699b070be255947d9aef3c4caae99cc26bb9c06\", \"value of beer_eda.encoding.x.field is not correct\"\n",
    "assert sha1(str(beer_eda.encoding.x.field).encode(\"utf-8\")+b\"21f3922aa3a8ff7d\").hexdigest() == \"e699b070be255947d9aef3c4caae99cc26bb9c06\", \"correct string value of beer_eda.encoding.x.field but incorrect case of letters\"\n",
    "\n",
    "assert sha1(str(type(beer_eda.encoding.y.field)).encode(\"utf-8\")+b\"eb4b27e06260f10f\").hexdigest() == \"48272cc3726413e546d71e24b7bb2412a58fe680\", \"type of beer_eda.encoding.y.field is not str. beer_eda.encoding.y.field should be an str\"\n",
    "assert sha1(str(len(beer_eda.encoding.y.field)).encode(\"utf-8\")+b\"eb4b27e06260f10f\").hexdigest() == \"448b00512057e37032180031e56348ad66d8e423\", \"length of beer_eda.encoding.y.field is not correct\"\n",
    "assert sha1(str(beer_eda.encoding.y.field.lower()).encode(\"utf-8\")+b\"eb4b27e06260f10f\").hexdigest() == \"73400ae0e7929dca35d3ab7a8c4c467b3cd56716\", \"value of beer_eda.encoding.y.field is not correct\"\n",
    "assert sha1(str(beer_eda.encoding.y.field).encode(\"utf-8\")+b\"eb4b27e06260f10f\").hexdigest() == \"73400ae0e7929dca35d3ab7a8c4c467b3cd56716\", \"correct string value of beer_eda.encoding.y.field but incorrect case of letters\"\n",
    "\n",
    "assert sha1(str(type(beer_eda.mark.type in [\"circle\", \"point\"])).encode(\"utf-8\")+b\"1ae4b7740fbf60ab\").hexdigest() == \"02b377083a7fd1c76d27f4e6d175f15be711bda4\", \"type of beer_eda.mark.type in [\\\"circle\\\", \\\"point\\\"] is not bool. beer_eda.mark.type in [\\\"circle\\\", \\\"point\\\"] should be a bool\"\n",
    "assert sha1(str(beer_eda.mark.type in [\"circle\", \"point\"]).encode(\"utf-8\")+b\"1ae4b7740fbf60ab\").hexdigest() == \"0d92c421f0c4c1e9c971e91ac31640c8ab889494\", \"boolean value of beer_eda.mark.type in [\\\"circle\\\", \\\"point\\\"] is not correct\"\n",
    "\n",
    "assert sha1(str(type(beer_eda.encoding.x.field != beer_eda.encoding.x.title)).encode(\"utf-8\")+b\"e59a7edf060de9e6\").hexdigest() == \"6bc738e45f0d23707d63a8f6e4c4e22ba02aa5f1\", \"type of beer_eda.encoding.x.field != beer_eda.encoding.x.title is not bool. beer_eda.encoding.x.field != beer_eda.encoding.x.title should be a bool\"\n",
    "assert sha1(str(beer_eda.encoding.x.field != beer_eda.encoding.x.title).encode(\"utf-8\")+b\"e59a7edf060de9e6\").hexdigest() == \"c69974eb57a1b736c2535ca6d6001105cc32a489\", \"boolean value of beer_eda.encoding.x.field != beer_eda.encoding.x.title is not correct\"\n",
    "\n",
    "assert sha1(str(type(beer_eda.encoding.y.field != beer_eda.encoding.y.title)).encode(\"utf-8\")+b\"17beb8912b2f633a\").hexdigest() == \"fe5a5dcbb08cbd80ed1e2c2544de12f1badb0cb7\", \"type of beer_eda.encoding.y.field != beer_eda.encoding.y.title is not bool. beer_eda.encoding.y.field != beer_eda.encoding.y.title should be a bool\"\n",
    "assert sha1(str(beer_eda.encoding.y.field != beer_eda.encoding.y.title).encode(\"utf-8\")+b\"17beb8912b2f633a\").hexdigest() == \"8db93513ac701d18414b2987565e7f1f20f5467a\", \"boolean value of beer_eda.encoding.y.field != beer_eda.encoding.y.title is not correct\"\n",
    "\n",
    "print('Success!')"
   ]
  },
  {
   "cell_type": "markdown",
   "metadata": {
    "deletable": false,
    "editable": false,
    "nbgrader": {
     "cell_type": "markdown",
     "checksum": "3e0b3201007f9b4b0b84c5bc5829e931",
     "grade": false,
     "grade_id": "cell-4826275eec3db51a",
     "locked": true,
     "schema_version": 3,
     "solution": false,
     "task": false
    }
   },
   "source": [
    "**Question 1.2**\n",
    "<br> {points: 1}\n",
    "\n",
    "We need to clean this data a bit. Specifically, we need to remove the rows where `ibu` is `NA`, and select only the columns we are interested in clustering, which are `ibu` and `abv`. \n",
    "\n",
    "*Assign your answer to an object named `clean_beer`.*"
   ]
  },
  {
   "cell_type": "code",
   "execution_count": null,
   "metadata": {
    "deletable": false,
    "nbgrader": {
     "cell_type": "code",
     "checksum": "5e750881bd7e606a112b62f6e1474946",
     "grade": false,
     "grade_id": "cell-77a1b2827a0e31a3",
     "locked": false,
     "schema_version": 3,
     "solution": true
    }
   },
   "outputs": [],
   "source": [
    "# your code here\n",
    "raise NotImplementedError\n",
    "clean_beer.head()"
   ]
  },
  {
   "cell_type": "code",
   "execution_count": null,
   "metadata": {
    "deletable": false,
    "editable": false,
    "max_height": 100,
    "nbgrader": {
     "cell_type": "code",
     "checksum": "59553c2b19e56557403507e609f1e59b",
     "grade": true,
     "grade_id": "cell-1ed1c760a10e3e9d",
     "locked": true,
     "points": 1,
     "schema_version": 3,
     "solution": false
    }
   },
   "outputs": [],
   "source": [
    "from hashlib import sha1\n",
    "assert sha1(str(type(clean_beer is None)).encode(\"utf-8\")+b\"a86057b7e3ae403e\").hexdigest() == \"36ef54a9f7943cfa3fab57acd67931ad29e0f089\", \"type of clean_beer is None is not bool. clean_beer is None should be a bool\"\n",
    "assert sha1(str(clean_beer is None).encode(\"utf-8\")+b\"a86057b7e3ae403e\").hexdigest() == \"5a80da8d7b56cf6de470c39449fef3998a43d45e\", \"boolean value of clean_beer is None is not correct\"\n",
    "\n",
    "assert sha1(str(type(clean_beer)).encode(\"utf-8\")+b\"1fefce499d402f3e\").hexdigest() == \"944f90d8a146ff64b7ab284b6a2cb4f5f4f84cd1\", \"type of type(clean_beer) is not correct\"\n",
    "\n",
    "assert sha1(str(type(clean_beer.shape)).encode(\"utf-8\")+b\"069502351cfb73d8\").hexdigest() == \"0a5ad303158b09eb1e09e4bae1072a2ad5463cab\", \"type of clean_beer.shape is not tuple. clean_beer.shape should be a tuple\"\n",
    "assert sha1(str(len(clean_beer.shape)).encode(\"utf-8\")+b\"069502351cfb73d8\").hexdigest() == \"106905e6af3693fbc515fecb76026f8cd940dc5a\", \"length of clean_beer.shape is not correct\"\n",
    "assert sha1(str(sorted(map(str, clean_beer.shape))).encode(\"utf-8\")+b\"069502351cfb73d8\").hexdigest() == \"eb1d50e0aca7df9ec556d71b3df3cec3482f2eb5\", \"values of clean_beer.shape are not correct\"\n",
    "assert sha1(str(clean_beer.shape).encode(\"utf-8\")+b\"069502351cfb73d8\").hexdigest() == \"24770a045810833d8e048ac62b68af8a9b400837\", \"order of elements of clean_beer.shape is not correct\"\n",
    "\n",
    "assert sha1(str(type(\"abv\" in clean_beer.columns)).encode(\"utf-8\")+b\"c08369f609087d45\").hexdigest() == \"8cfda5e15e30d5f8b286bd0f87b4ebee27891644\", \"type of \\\"abv\\\" in clean_beer.columns is not bool. \\\"abv\\\" in clean_beer.columns should be a bool\"\n",
    "assert sha1(str(\"abv\" in clean_beer.columns).encode(\"utf-8\")+b\"c08369f609087d45\").hexdigest() == \"63f6dd8d15905029b5eb275ba4c25e75aa4d5463\", \"boolean value of \\\"abv\\\" in clean_beer.columns is not correct\"\n",
    "\n",
    "assert sha1(str(type(\"ibu\" in clean_beer.columns)).encode(\"utf-8\")+b\"556e8c59ffcf180a\").hexdigest() == \"0ea9913bcf101c88ec676df11859f9ddfffe7640\", \"type of \\\"ibu\\\" in clean_beer.columns is not bool. \\\"ibu\\\" in clean_beer.columns should be a bool\"\n",
    "assert sha1(str(\"ibu\" in clean_beer.columns).encode(\"utf-8\")+b\"556e8c59ffcf180a\").hexdigest() == \"d09a620eb95803f10b4f72a74db32228d9c02e6b\", \"boolean value of \\\"ibu\\\" in clean_beer.columns is not correct\"\n",
    "\n",
    "assert sha1(str(type(\"id\" in clean_beer.columns)).encode(\"utf-8\")+b\"3ca5e533e4864649\").hexdigest() == \"89f851f504c3b81509fa88bea35221f519745812\", \"type of \\\"id\\\" in clean_beer.columns is not bool. \\\"id\\\" in clean_beer.columns should be a bool\"\n",
    "assert sha1(str(\"id\" in clean_beer.columns).encode(\"utf-8\")+b\"3ca5e533e4864649\").hexdigest() == \"4ca51d7e30e4d06f35ba4bfed181ef7661789097\", \"boolean value of \\\"id\\\" in clean_beer.columns is not correct\"\n",
    "\n",
    "assert sha1(str(type(\"name\" in clean_beer.columns)).encode(\"utf-8\")+b\"3a9a10eb41d3f738\").hexdigest() == \"361ea401e6ceb88d65b8845601b8a4d26ddf22c2\", \"type of \\\"name\\\" in clean_beer.columns is not bool. \\\"name\\\" in clean_beer.columns should be a bool\"\n",
    "assert sha1(str(\"name\" in clean_beer.columns).encode(\"utf-8\")+b\"3a9a10eb41d3f738\").hexdigest() == \"587b808c8c0a5d0efe18db0fe4cc3b61c58797af\", \"boolean value of \\\"name\\\" in clean_beer.columns is not correct\"\n",
    "\n",
    "assert sha1(str(type(\"style\" in clean_beer.columns)).encode(\"utf-8\")+b\"fc4184ce4242a53e\").hexdigest() == \"8cf36d7233a7c3468c7444deb065e08af932ebba\", \"type of \\\"style\\\" in clean_beer.columns is not bool. \\\"style\\\" in clean_beer.columns should be a bool\"\n",
    "assert sha1(str(\"style\" in clean_beer.columns).encode(\"utf-8\")+b\"fc4184ce4242a53e\").hexdigest() == \"1c877d591ac58eeeb7e783b9f3ae3e4288eb7d9c\", \"boolean value of \\\"style\\\" in clean_beer.columns is not correct\"\n",
    "\n",
    "assert sha1(str(type(\"brewery_id\" in clean_beer.columns)).encode(\"utf-8\")+b\"5c83f65c993c5958\").hexdigest() == \"e8c25732eea983d523906c4e935ed253f05e2e40\", \"type of \\\"brewery_id\\\" in clean_beer.columns is not bool. \\\"brewery_id\\\" in clean_beer.columns should be a bool\"\n",
    "assert sha1(str(\"brewery_id\" in clean_beer.columns).encode(\"utf-8\")+b\"5c83f65c993c5958\").hexdigest() == \"b5514ad567dc8fab12985d090aebcf251722bb30\", \"boolean value of \\\"brewery_id\\\" in clean_beer.columns is not correct\"\n",
    "\n",
    "assert sha1(str(type(\"ounces\" in clean_beer.columns)).encode(\"utf-8\")+b\"d8d5749e9adbb393\").hexdigest() == \"96b836dd89ecb9c9473e6b02ff23ede8b344f755\", \"type of \\\"ounces\\\" in clean_beer.columns is not bool. \\\"ounces\\\" in clean_beer.columns should be a bool\"\n",
    "assert sha1(str(\"ounces\" in clean_beer.columns).encode(\"utf-8\")+b\"d8d5749e9adbb393\").hexdigest() == \"a1980cb352dc7c1f4711ae767745c96c8c51767e\", \"boolean value of \\\"ounces\\\" in clean_beer.columns is not correct\"\n",
    "\n",
    "print('Success!')"
   ]
  },
  {
   "cell_type": "markdown",
   "metadata": {
    "deletable": false,
    "editable": false,
    "nbgrader": {
     "cell_type": "markdown",
     "checksum": "ee2037f5b1b7bdc865a3c9bf4e6cfe61",
     "grade": false,
     "grade_id": "cell-98c23f6aa556be8b",
     "locked": true,
     "schema_version": 3,
     "solution": false,
     "task": false
    }
   },
   "source": [
    "**Question 1.3.1**\n",
    "<br>{points: 1}\n",
    "\n",
    "Why do we need to scale the variables when using k-means clustering?\n",
    "\n",
    "A. k-means uses the Euclidean distance to compute how similar data points are to each cluster centre\n",
    "\n",
    "B. k-means is an iterative algorithm\n",
    "\n",
    "C. Some variables might be more important for prediction than others\n",
    "\n",
    "D. To make sure their mean is 0\n",
    "\n",
    "*Assign your answer to an object named `answer1_3_1`. Make sure your answer is a single upper-case character surrounded by quotes.*"
   ]
  },
  {
   "cell_type": "code",
   "execution_count": null,
   "metadata": {
    "deletable": false,
    "nbgrader": {
     "cell_type": "code",
     "checksum": "3a356511c5f324fe6e30184a6682e2a6",
     "grade": false,
     "grade_id": "cell-dabeb5fe0dacbc55",
     "locked": false,
     "schema_version": 3,
     "solution": true,
     "task": false
    }
   },
   "outputs": [],
   "source": [
    "# your code here\n",
    "raise NotImplementedError"
   ]
  },
  {
   "cell_type": "code",
   "execution_count": null,
   "metadata": {
    "deletable": false,
    "editable": false,
    "max_height": 100,
    "nbgrader": {
     "cell_type": "code",
     "checksum": "496fd1de71d4739b2aace3cadc581ba2",
     "grade": true,
     "grade_id": "cell-cee046b5d47ebb72",
     "locked": true,
     "points": 1,
     "schema_version": 3,
     "solution": false,
     "task": false
    }
   },
   "outputs": [],
   "source": [
    "from hashlib import sha1\n",
    "assert sha1(str(type(answer1_3_1)).encode(\"utf-8\")+b\"da7b312cf3548784\").hexdigest() == \"2c4865a106d1ae5081bc182c13ed1153d75c6944\", \"type of answer1_3_1 is not str. answer1_3_1 should be an str\"\n",
    "assert sha1(str(len(answer1_3_1)).encode(\"utf-8\")+b\"da7b312cf3548784\").hexdigest() == \"f9682974aa32fc5a8e459408bcc7bf719e15f7fb\", \"length of answer1_3_1 is not correct\"\n",
    "assert sha1(str(answer1_3_1.lower()).encode(\"utf-8\")+b\"da7b312cf3548784\").hexdigest() == \"6e4434c2df6fd805c49aff484c34d5258212fd8e\", \"value of answer1_3_1 is not correct\"\n",
    "assert sha1(str(answer1_3_1).encode(\"utf-8\")+b\"da7b312cf3548784\").hexdigest() == \"c52cb07525dea487ad73008cee5a0fdc62d3f682\", \"correct string value of answer1_3_1 but incorrect case of letters\"\n",
    "\n",
    "print('Success!')"
   ]
  },
  {
   "cell_type": "markdown",
   "metadata": {
    "deletable": false,
    "editable": false,
    "nbgrader": {
     "cell_type": "markdown",
     "checksum": "10896394d61819842fd24d39f5b92725",
     "grade": false,
     "grade_id": "cell-b44ed52f8fdc5336",
     "locked": true,
     "schema_version": 3,
     "solution": false,
     "task": false
    }
   },
   "source": [
    "**Question 1.3.2**\n",
    "<br> {points: 1}\n",
    "\n",
    "Let's do that scaling now. Recall that we used a `pipeline` for scaling when doing classification and regression. This is because we needed to be able to split train and test data, compute a standardization on *just* training data, and apply the standardization to *both* train and test data.\n",
    "\n",
    "But in clustering, there is no train/test split. So let's use the much simpler `StandardScaler` function in Python. `StandardScaler` takes in a dataframe and outputs the standardized version of it in a numpy array. We can therefore apply `StandardScaler` to all variables in the cleaned data frame using the `fit_transform` function.\n",
    "\n",
    "*Note: you could still use a pipeline to do this. But `StandardScaler` is much simpler.*\n",
    "\n",
    "*Assign your answer to an object named `scaled_beer`. Use the scaffolding provided.*"
   ]
  },
  {
   "cell_type": "code",
   "execution_count": null,
   "metadata": {
    "deletable": false,
    "nbgrader": {
     "cell_type": "code",
     "checksum": "0a8166bf54a84e8670d6856d81f2bf06",
     "grade": false,
     "grade_id": "cell-db7d5a769e2ede77",
     "locked": false,
     "schema_version": 3,
     "solution": true
    }
   },
   "outputs": [],
   "source": [
    "# ___ = pd.DataFrame(\n",
    "#     ___().___(___), columns=[\"ibu\", \"abv\"]\n",
    "# )\n",
    "\n",
    "# your code here\n",
    "raise NotImplementedError\n",
    "scaled_beer.head()"
   ]
  },
  {
   "cell_type": "code",
   "execution_count": null,
   "metadata": {
    "deletable": false,
    "editable": false,
    "max_height": 100,
    "nbgrader": {
     "cell_type": "code",
     "checksum": "c37bd3d73cb3475791f3381e869eb483",
     "grade": true,
     "grade_id": "cell-f4fa609002e00099",
     "locked": true,
     "points": 1,
     "schema_version": 3,
     "solution": false
    }
   },
   "outputs": [],
   "source": [
    "from hashlib import sha1\n",
    "assert sha1(str(type(scaled_beer is None)).encode(\"utf-8\")+b\"1c09b06362b47746\").hexdigest() == \"30ecbe3f2b086d8515f7f5948dba66f214356088\", \"type of scaled_beer is None is not bool. scaled_beer is None should be a bool\"\n",
    "assert sha1(str(scaled_beer is None).encode(\"utf-8\")+b\"1c09b06362b47746\").hexdigest() == \"4dc7e5004c800e6424dee8dd819c546cd25e936a\", \"boolean value of scaled_beer is None is not correct\"\n",
    "\n",
    "assert sha1(str(type(scaled_beer)).encode(\"utf-8\")+b\"58fc46f4a3d71493\").hexdigest() == \"17285149d85458cb9f3d9648295884b5bd0c8e04\", \"type of type(scaled_beer) is not correct\"\n",
    "\n",
    "assert sha1(str(type(scaled_beer.shape)).encode(\"utf-8\")+b\"50163a31864002c2\").hexdigest() == \"9e721caa1a99a303d118796f61b2283c5c824dd7\", \"type of scaled_beer.shape is not tuple. scaled_beer.shape should be a tuple\"\n",
    "assert sha1(str(len(scaled_beer.shape)).encode(\"utf-8\")+b\"50163a31864002c2\").hexdigest() == \"88ec63e21695169ddb48dcda61632c5ad6ed1f7f\", \"length of scaled_beer.shape is not correct\"\n",
    "assert sha1(str(sorted(map(str, scaled_beer.shape))).encode(\"utf-8\")+b\"50163a31864002c2\").hexdigest() == \"21988c75ccc520bfdd80a706de5e94430753ec56\", \"values of scaled_beer.shape are not correct\"\n",
    "assert sha1(str(scaled_beer.shape).encode(\"utf-8\")+b\"50163a31864002c2\").hexdigest() == \"b9a40e05f6e2017346ded64511a6ffad60e1f918\", \"order of elements of scaled_beer.shape is not correct\"\n",
    "\n",
    "assert sha1(str(type(\"abv\" in scaled_beer.columns)).encode(\"utf-8\")+b\"bc278283f8bdda11\").hexdigest() == \"ee839ce9fcdf5000b114d4fc8cbc48e085bbb457\", \"type of \\\"abv\\\" in scaled_beer.columns is not bool. \\\"abv\\\" in scaled_beer.columns should be a bool\"\n",
    "assert sha1(str(\"abv\" in scaled_beer.columns).encode(\"utf-8\")+b\"bc278283f8bdda11\").hexdigest() == \"0a1b6e944bf53b55577451fda5749d62a9caf49e\", \"boolean value of \\\"abv\\\" in scaled_beer.columns is not correct\"\n",
    "\n",
    "assert sha1(str(type(\"ibu\" in scaled_beer.columns)).encode(\"utf-8\")+b\"3be446fd448ebc60\").hexdigest() == \"311880100b582dde50cbc67dd2c1feb0a213f35b\", \"type of \\\"ibu\\\" in scaled_beer.columns is not bool. \\\"ibu\\\" in scaled_beer.columns should be a bool\"\n",
    "assert sha1(str(\"ibu\" in scaled_beer.columns).encode(\"utf-8\")+b\"3be446fd448ebc60\").hexdigest() == \"70bd2ffb8603a931153e349438b19e7b803a58f4\", \"boolean value of \\\"ibu\\\" in scaled_beer.columns is not correct\"\n",
    "\n",
    "assert sha1(str(type(\"id\" in scaled_beer.columns)).encode(\"utf-8\")+b\"617783dc08bad289\").hexdigest() == \"4979e2206e38ae0975b457c4c98a37c5545f937e\", \"type of \\\"id\\\" in scaled_beer.columns is not bool. \\\"id\\\" in scaled_beer.columns should be a bool\"\n",
    "assert sha1(str(\"id\" in scaled_beer.columns).encode(\"utf-8\")+b\"617783dc08bad289\").hexdigest() == \"9745272050de13f80906e7d1eb9ae3e16c5a386e\", \"boolean value of \\\"id\\\" in scaled_beer.columns is not correct\"\n",
    "\n",
    "assert sha1(str(type(\"name\" in scaled_beer.columns)).encode(\"utf-8\")+b\"9c9bd4a619a03cea\").hexdigest() == \"762e567481bdd033e4f7ebc0ea82015fb1a25db4\", \"type of \\\"name\\\" in scaled_beer.columns is not bool. \\\"name\\\" in scaled_beer.columns should be a bool\"\n",
    "assert sha1(str(\"name\" in scaled_beer.columns).encode(\"utf-8\")+b\"9c9bd4a619a03cea\").hexdigest() == \"661690fa985c54a4121f3ee94b8894cdf7524395\", \"boolean value of \\\"name\\\" in scaled_beer.columns is not correct\"\n",
    "\n",
    "assert sha1(str(type(\"style\" in scaled_beer.columns)).encode(\"utf-8\")+b\"8afdbcbcbd5aba7d\").hexdigest() == \"2ed7dcdeac399a22f0538235239bfc7928e46599\", \"type of \\\"style\\\" in scaled_beer.columns is not bool. \\\"style\\\" in scaled_beer.columns should be a bool\"\n",
    "assert sha1(str(\"style\" in scaled_beer.columns).encode(\"utf-8\")+b\"8afdbcbcbd5aba7d\").hexdigest() == \"8bf3b684ed29a26a60a549a94f73787e8f8697fc\", \"boolean value of \\\"style\\\" in scaled_beer.columns is not correct\"\n",
    "\n",
    "assert sha1(str(type(\"brewery_id\" in scaled_beer.columns)).encode(\"utf-8\")+b\"8472752d421fdaa9\").hexdigest() == \"7f54f5dad44478cfbba3c72e65434a06f50bf89b\", \"type of \\\"brewery_id\\\" in scaled_beer.columns is not bool. \\\"brewery_id\\\" in scaled_beer.columns should be a bool\"\n",
    "assert sha1(str(\"brewery_id\" in scaled_beer.columns).encode(\"utf-8\")+b\"8472752d421fdaa9\").hexdigest() == \"478fc72ddcaa843a325f0f856a72f1c26e84cdd9\", \"boolean value of \\\"brewery_id\\\" in scaled_beer.columns is not correct\"\n",
    "\n",
    "assert sha1(str(type(\"ounces\" in scaled_beer.columns)).encode(\"utf-8\")+b\"e3e28e9d06f1bc25\").hexdigest() == \"be292cc0dd2809705869f7106d92d2c8397594be\", \"type of \\\"ounces\\\" in scaled_beer.columns is not bool. \\\"ounces\\\" in scaled_beer.columns should be a bool\"\n",
    "assert sha1(str(\"ounces\" in scaled_beer.columns).encode(\"utf-8\")+b\"e3e28e9d06f1bc25\").hexdigest() == \"a7b2080fa3c59ca6c79444b055865e6a64f0707e\", \"boolean value of \\\"ounces\\\" in scaled_beer.columns is not correct\"\n",
    "\n",
    "assert sha1(str(type(scaled_beer.ibu.min() < 1)).encode(\"utf-8\")+b\"83111c413dc0de81\").hexdigest() == \"b236d048ff4954cd98f128294b2c88c5f4688f0e\", \"type of scaled_beer.ibu.min() < 1 is not bool. scaled_beer.ibu.min() < 1 should be a bool\"\n",
    "assert sha1(str(scaled_beer.ibu.min() < 1).encode(\"utf-8\")+b\"83111c413dc0de81\").hexdigest() == \"69cbf2d0836f21ec02e0f3d6e64d048496998c16\", \"boolean value of scaled_beer.ibu.min() < 1 is not correct\"\n",
    "\n",
    "assert sha1(str(type(scaled_beer.ibu.max() < 4)).encode(\"utf-8\")+b\"b6c52c6aec0fa559\").hexdigest() == \"f69fda32a11ef9eae2fe2edbf576250001b41b3c\", \"type of scaled_beer.ibu.max() < 4 is not bool. scaled_beer.ibu.max() < 4 should be a bool\"\n",
    "assert sha1(str(scaled_beer.ibu.max() < 4).encode(\"utf-8\")+b\"b6c52c6aec0fa559\").hexdigest() == \"fe3ec21c86db395f54e8310f010a223342cb9050\", \"boolean value of scaled_beer.ibu.max() < 4 is not correct\"\n",
    "\n",
    "assert sha1(str(type(scaled_beer.abv.min() < -2)).encode(\"utf-8\")+b\"4980c15003b6ac5f\").hexdigest() == \"4350db3b7836fc7349e5c0a056146a4db2bd1e34\", \"type of scaled_beer.abv.min() < -2 is not bool. scaled_beer.abv.min() < -2 should be a bool\"\n",
    "assert sha1(str(scaled_beer.abv.min() < -2).encode(\"utf-8\")+b\"4980c15003b6ac5f\").hexdigest() == \"ddf8aed3d5d35c6c68752b65a27b745644af8739\", \"boolean value of scaled_beer.abv.min() < -2 is not correct\"\n",
    "\n",
    "assert sha1(str(type(scaled_beer.abv.max() < 5)).encode(\"utf-8\")+b\"b93b754042207794\").hexdigest() == \"59ad283118e296acdd34206578ba49b7f22b45a8\", \"type of scaled_beer.abv.max() < 5 is not bool. scaled_beer.abv.max() < 5 should be a bool\"\n",
    "assert sha1(str(scaled_beer.abv.max() < 5).encode(\"utf-8\")+b\"b93b754042207794\").hexdigest() == \"926d2aa94da6ae65c623f1d6b16913c02cccc19a\", \"boolean value of scaled_beer.abv.max() < 5 is not correct\"\n",
    "\n",
    "print('Success!')"
   ]
  },
  {
   "cell_type": "markdown",
   "metadata": {
    "deletable": false,
    "editable": false,
    "nbgrader": {
     "cell_type": "markdown",
     "checksum": "efbf7f6860e2abc7582a67aeac169c6c",
     "grade": false,
     "grade_id": "cell-8c5a413f54e55216",
     "locked": true,
     "schema_version": 3,
     "solution": false,
     "task": false
    }
   },
   "source": [
    "**Question 1.4**\n",
    "<br> {points: 1}\n",
    "\n",
    "From our exploratory data visualization, 2 seems like a reasonable number of clusters. Use the `KMeans` function with `n_clusters = 2` to perform clustering with this choice of K. \n",
    "\n",
    "*Assign your model to an object named `beer_cluster_k2`. Note that since k-means uses a random initialization, we need to set the random_state; don't change the value!*"
   ]
  },
  {
   "cell_type": "code",
   "execution_count": null,
   "metadata": {
    "deletable": false,
    "nbgrader": {
     "cell_type": "code",
     "checksum": "15ba3f64b3e6eabb35a0f63375316d5f",
     "grade": false,
     "grade_id": "cell-59fd6cac5b722485",
     "locked": false,
     "schema_version": 3,
     "solution": true
    }
   },
   "outputs": [],
   "source": [
    "# DON'T CHANGE THE RANDOM_STATE VALUE!\n",
    "# ___ = KMeans(n_clusters=2, random_state=1234)\n",
    "# ___.fit(___)\n",
    "\n",
    "# your code here\n",
    "raise NotImplementedError\n",
    "beer_cluster_k2"
   ]
  },
  {
   "cell_type": "code",
   "execution_count": null,
   "metadata": {
    "deletable": false,
    "editable": false,
    "max_height": 100,
    "nbgrader": {
     "cell_type": "code",
     "checksum": "21413a30a2a1aa47b25cd9f80cd73b18",
     "grade": true,
     "grade_id": "cell-b9995d961e6abdd4",
     "locked": true,
     "points": 1,
     "schema_version": 3,
     "solution": false
    }
   },
   "outputs": [],
   "source": [
    "from hashlib import sha1\n",
    "assert sha1(str(type(type(beer_cluster_k2))).encode(\"utf-8\")+b\"105eb38216cf85f9\").hexdigest() == \"4640cff21c6a581add55004ab2685b8f2e953ab8\", \"type of type(beer_cluster_k2) is not correct\"\n",
    "assert sha1(str(type(beer_cluster_k2)).encode(\"utf-8\")+b\"105eb38216cf85f9\").hexdigest() == \"87e20d92cb0914b4de7f22d474008b26922b5fcc\", \"value of type(beer_cluster_k2) is not correct\"\n",
    "\n",
    "assert sha1(str(type(beer_cluster_k2.n_clusters)).encode(\"utf-8\")+b\"f7d002d35a535ca5\").hexdigest() == \"35c352b9b2e61197edae360baa8ce12bb04e943f\", \"type of beer_cluster_k2.n_clusters is not int. Please make sure it is int and not np.int64, etc. You can cast your value into an int using int()\"\n",
    "assert sha1(str(beer_cluster_k2.n_clusters).encode(\"utf-8\")+b\"f7d002d35a535ca5\").hexdigest() == \"0945b3a68e81796e80a342886ded586dbe231e8b\", \"value of beer_cluster_k2.n_clusters is not correct\"\n",
    "\n",
    "assert sha1(str(type(round(beer_cluster_k2.inertia_, 0))).encode(\"utf-8\")+b\"a2e0f20161b7c8f6\").hexdigest() == \"d4d5a4c659a11072a463bbf83936e35b461329ca\", \"type of round(beer_cluster_k2.inertia_, 0) is not float. Please make sure it is float and not np.float64, etc. You can cast your value into a float using float()\"\n",
    "assert sha1(str(round(round(beer_cluster_k2.inertia_, 0), 2)).encode(\"utf-8\")+b\"a2e0f20161b7c8f6\").hexdigest() == \"7b44dfe20448c3f5a0965018bb8afbf4daa4a139\", \"value of round(beer_cluster_k2.inertia_, 0) is not correct (rounded to 2 decimal places)\"\n",
    "\n",
    "print('Success!')"
   ]
  },
  {
   "cell_type": "markdown",
   "metadata": {
    "deletable": false,
    "editable": false,
    "nbgrader": {
     "cell_type": "markdown",
     "checksum": "67b45a4df7b8c31e0625dfa730958179",
     "grade": false,
     "grade_id": "cell-b40335391796b8bc",
     "locked": true,
     "schema_version": 3,
     "solution": false,
     "task": false
    }
   },
   "source": [
    "**Question 1.5**\n",
    "<br> {points: 1}\n",
    "\n",
    "Use the `predict` function to get the cluster assignment for each point in the `scaled_beer` data frame and assign your answer to an object named `tidy_beer_cluster_k2`. Since the output of the `predict` function is an array, we need to put it back to the `scaled_beer` data frame and name the column `cluster`. Assign your new data frame to an object named `tidy_beer_cluster_k2_df`. "
   ]
  },
  {
   "cell_type": "code",
   "execution_count": null,
   "metadata": {
    "deletable": false,
    "nbgrader": {
     "cell_type": "code",
     "checksum": "68afd74c4a4cd260a20695715538fb09",
     "grade": false,
     "grade_id": "cell-09a5a07201a2f1e3",
     "locked": false,
     "schema_version": 3,
     "solution": true
    }
   },
   "outputs": [],
   "source": [
    "# ___ = ___.predict(___)\n",
    "# ___ = ___.assign(cluster=___)\n",
    "\n",
    "# your code here\n",
    "raise NotImplementedError\n",
    "tidy_beer_cluster_k2_df.head()"
   ]
  },
  {
   "cell_type": "code",
   "execution_count": null,
   "metadata": {
    "deletable": false,
    "editable": false,
    "max_height": 100,
    "nbgrader": {
     "cell_type": "code",
     "checksum": "5d7e885b6d1a4382b547ac66f82b0fd5",
     "grade": true,
     "grade_id": "cell-46d87f5ee36a932c",
     "locked": true,
     "points": 1,
     "schema_version": 3,
     "solution": false
    }
   },
   "outputs": [],
   "source": [
    "from hashlib import sha1\n",
    "assert sha1(str(type(\"abv\" in tidy_beer_cluster_k2_df.columns)).encode(\"utf-8\")+b\"64049645404ccd22\").hexdigest() == \"91a0d9fde732a0ab6c445768252713bed6b5c730\", \"type of \\\"abv\\\" in tidy_beer_cluster_k2_df.columns is not bool. \\\"abv\\\" in tidy_beer_cluster_k2_df.columns should be a bool\"\n",
    "assert sha1(str(\"abv\" in tidy_beer_cluster_k2_df.columns).encode(\"utf-8\")+b\"64049645404ccd22\").hexdigest() == \"18b323507bab7f26e129350b401e4a725d293b0a\", \"boolean value of \\\"abv\\\" in tidy_beer_cluster_k2_df.columns is not correct\"\n",
    "\n",
    "assert sha1(str(type(\"ibu\" in tidy_beer_cluster_k2_df.columns)).encode(\"utf-8\")+b\"95f9468d5353acd0\").hexdigest() == \"df241b16d9296602e06dc5b3513e9f139e441d1b\", \"type of \\\"ibu\\\" in tidy_beer_cluster_k2_df.columns is not bool. \\\"ibu\\\" in tidy_beer_cluster_k2_df.columns should be a bool\"\n",
    "assert sha1(str(\"ibu\" in tidy_beer_cluster_k2_df.columns).encode(\"utf-8\")+b\"95f9468d5353acd0\").hexdigest() == \"db1799c9a9cfb4d9f50eaa2e533a479495a8a68d\", \"boolean value of \\\"ibu\\\" in tidy_beer_cluster_k2_df.columns is not correct\"\n",
    "\n",
    "assert sha1(str(type(\"cluster\" in tidy_beer_cluster_k2_df.columns)).encode(\"utf-8\")+b\"71431fd36aebb7bd\").hexdigest() == \"bed1a1fdcf229a484ee35fa08d44150ae02d0ac4\", \"type of \\\"cluster\\\" in tidy_beer_cluster_k2_df.columns is not bool. \\\"cluster\\\" in tidy_beer_cluster_k2_df.columns should be a bool\"\n",
    "assert sha1(str(\"cluster\" in tidy_beer_cluster_k2_df.columns).encode(\"utf-8\")+b\"71431fd36aebb7bd\").hexdigest() == \"379d099fa833caecb8c4c3928df8567c356c8306\", \"boolean value of \\\"cluster\\\" in tidy_beer_cluster_k2_df.columns is not correct\"\n",
    "\n",
    "assert sha1(str(type(tidy_beer_cluster_k2_df.shape[0])).encode(\"utf-8\")+b\"83fa51cc91da265e\").hexdigest() == \"9f506a794c54449f0cbb9c8b01a636f2c7ac8fa1\", \"type of tidy_beer_cluster_k2_df.shape[0] is not int. Please make sure it is int and not np.int64, etc. You can cast your value into an int using int()\"\n",
    "assert sha1(str(tidy_beer_cluster_k2_df.shape[0]).encode(\"utf-8\")+b\"83fa51cc91da265e\").hexdigest() == \"813fe0c72c4f748d1f5f46247028decdf3486ea9\", \"value of tidy_beer_cluster_k2_df.shape[0] is not correct\"\n",
    "\n",
    "assert sha1(str(type(tidy_beer_cluster_k2_df.shape[1])).encode(\"utf-8\")+b\"156e1473e57ee9b6\").hexdigest() == \"296aa34bcf50333b84541a34cd0a82856a485b88\", \"type of tidy_beer_cluster_k2_df.shape[1] is not int. Please make sure it is int and not np.int64, etc. You can cast your value into an int using int()\"\n",
    "assert sha1(str(tidy_beer_cluster_k2_df.shape[1]).encode(\"utf-8\")+b\"156e1473e57ee9b6\").hexdigest() == \"e3e702ea4c868991bea2770a1a19bcef7c7f4080\", \"value of tidy_beer_cluster_k2_df.shape[1] is not correct\"\n",
    "\n",
    "print('Success!')"
   ]
  },
  {
   "cell_type": "markdown",
   "metadata": {
    "deletable": false,
    "editable": false,
    "nbgrader": {
     "cell_type": "markdown",
     "checksum": "20ea6c2f74e47fa3f2060e4ff20de196",
     "grade": false,
     "grade_id": "cell-6adf5ec5d9d2f3ef",
     "locked": true,
     "schema_version": 3,
     "solution": false,
     "task": false
    }
   },
   "source": [
    "**Question 1.6**\n",
    "<br> {points: 1}\n",
    "\n",
    "Create a scatter plot of `abv` on the y-axis versus `ibu` on the x-axis (using the data in `tidy_beer_cluster_k2`) where the points are labelled by their cluster assignment. Name the plot object `tidy_beer_cluster_k2_plot`."
   ]
  },
  {
   "cell_type": "code",
   "execution_count": null,
   "metadata": {
    "deletable": false,
    "nbgrader": {
     "cell_type": "code",
     "checksum": "56100b2f42157aafb54ab073d6e89c27",
     "grade": false,
     "grade_id": "cell-70d2a62ba35172b0",
     "locked": false,
     "schema_version": 3,
     "solution": true
    }
   },
   "outputs": [],
   "source": [
    "# your code here\n",
    "raise NotImplementedError\n",
    "tidy_beer_cluster_k2_plot"
   ]
  },
  {
   "cell_type": "code",
   "execution_count": null,
   "metadata": {
    "deletable": false,
    "editable": false,
    "max_height": 100,
    "nbgrader": {
     "cell_type": "code",
     "checksum": "2079203d16ffdf5ce3a833876111efec",
     "grade": true,
     "grade_id": "cell-f8a27de5ec7f09e6",
     "locked": true,
     "points": 1,
     "schema_version": 3,
     "solution": false
    }
   },
   "outputs": [],
   "source": [
    "from hashlib import sha1\n",
    "assert sha1(str(type(tidy_beer_cluster_k2_plot is None)).encode(\"utf-8\")+b\"1db4311f482983a4\").hexdigest() == \"a787f70816cdcd5bba00d2cb56a14ab6f2f9b8c3\", \"type of tidy_beer_cluster_k2_plot is None is not bool. tidy_beer_cluster_k2_plot is None should be a bool\"\n",
    "assert sha1(str(tidy_beer_cluster_k2_plot is None).encode(\"utf-8\")+b\"1db4311f482983a4\").hexdigest() == \"a49be14384816c9665ed5ca114dddf16db100081\", \"boolean value of tidy_beer_cluster_k2_plot is None is not correct\"\n",
    "\n",
    "assert sha1(str(type(tidy_beer_cluster_k2_plot.mark.type)).encode(\"utf-8\")+b\"ca526a1fc25a6219\").hexdigest() == \"ef43f467ca67edf7838a4d85c5081e6240d3add3\", \"type of tidy_beer_cluster_k2_plot.mark.type is not str. tidy_beer_cluster_k2_plot.mark.type should be an str\"\n",
    "assert sha1(str(len(tidy_beer_cluster_k2_plot.mark.type)).encode(\"utf-8\")+b\"ca526a1fc25a6219\").hexdigest() == \"2504435ecdb7b160a0fd269ae7101e210f416e5b\", \"length of tidy_beer_cluster_k2_plot.mark.type is not correct\"\n",
    "assert sha1(str(tidy_beer_cluster_k2_plot.mark.type.lower()).encode(\"utf-8\")+b\"ca526a1fc25a6219\").hexdigest() == \"b6226f1014199d57062eab75db7fbc1d97ec9f3a\", \"value of tidy_beer_cluster_k2_plot.mark.type is not correct\"\n",
    "assert sha1(str(tidy_beer_cluster_k2_plot.mark.type).encode(\"utf-8\")+b\"ca526a1fc25a6219\").hexdigest() == \"b6226f1014199d57062eab75db7fbc1d97ec9f3a\", \"correct string value of tidy_beer_cluster_k2_plot.mark.type but incorrect case of letters\"\n",
    "\n",
    "assert sha1(str(type(tidy_beer_cluster_k2_plot.data.equals(tidy_beer_cluster_k2_df))).encode(\"utf-8\")+b\"42b2ab4cea042e0e\").hexdigest() == \"6214d008c5605e779d97d8f9de43ab2a8170238f\", \"type of tidy_beer_cluster_k2_plot.data.equals(tidy_beer_cluster_k2_df) is not bool. tidy_beer_cluster_k2_plot.data.equals(tidy_beer_cluster_k2_df) should be a bool\"\n",
    "assert sha1(str(tidy_beer_cluster_k2_plot.data.equals(tidy_beer_cluster_k2_df)).encode(\"utf-8\")+b\"42b2ab4cea042e0e\").hexdigest() == \"6f6e34866beb57899c484f088c01b26a728e665f\", \"boolean value of tidy_beer_cluster_k2_plot.data.equals(tidy_beer_cluster_k2_df) is not correct\"\n",
    "\n",
    "assert sha1(str(type(tidy_beer_cluster_k2_plot.encoding.x.field)).encode(\"utf-8\")+b\"3746c03b2be27dd4\").hexdigest() == \"ac696735435126e01a0501c2c7f075a5ff595fc9\", \"type of tidy_beer_cluster_k2_plot.encoding.x.field is not str. tidy_beer_cluster_k2_plot.encoding.x.field should be an str\"\n",
    "assert sha1(str(len(tidy_beer_cluster_k2_plot.encoding.x.field)).encode(\"utf-8\")+b\"3746c03b2be27dd4\").hexdigest() == \"f9cafdaa7d70b5538338acc7761e91fa032bd441\", \"length of tidy_beer_cluster_k2_plot.encoding.x.field is not correct\"\n",
    "assert sha1(str(tidy_beer_cluster_k2_plot.encoding.x.field.lower()).encode(\"utf-8\")+b\"3746c03b2be27dd4\").hexdigest() == \"99c44662baa5d82f81238cc0e0a6588980f425d0\", \"value of tidy_beer_cluster_k2_plot.encoding.x.field is not correct\"\n",
    "assert sha1(str(tidy_beer_cluster_k2_plot.encoding.x.field).encode(\"utf-8\")+b\"3746c03b2be27dd4\").hexdigest() == \"99c44662baa5d82f81238cc0e0a6588980f425d0\", \"correct string value of tidy_beer_cluster_k2_plot.encoding.x.field but incorrect case of letters\"\n",
    "\n",
    "assert sha1(str(type(tidy_beer_cluster_k2_plot.encoding.y.field)).encode(\"utf-8\")+b\"5d6f30d7d6daa0a0\").hexdigest() == \"34c186ac1281fbf411d6fd713682a09e98256003\", \"type of tidy_beer_cluster_k2_plot.encoding.y.field is not str. tidy_beer_cluster_k2_plot.encoding.y.field should be an str\"\n",
    "assert sha1(str(len(tidy_beer_cluster_k2_plot.encoding.y.field)).encode(\"utf-8\")+b\"5d6f30d7d6daa0a0\").hexdigest() == \"6cf2a30a3834464f151ea58f72b2e18db32a90fc\", \"length of tidy_beer_cluster_k2_plot.encoding.y.field is not correct\"\n",
    "assert sha1(str(tidy_beer_cluster_k2_plot.encoding.y.field.lower()).encode(\"utf-8\")+b\"5d6f30d7d6daa0a0\").hexdigest() == \"6b6efd58d1eaa5e2960078c4eddab50b3ffc41be\", \"value of tidy_beer_cluster_k2_plot.encoding.y.field is not correct\"\n",
    "assert sha1(str(tidy_beer_cluster_k2_plot.encoding.y.field).encode(\"utf-8\")+b\"5d6f30d7d6daa0a0\").hexdigest() == \"6b6efd58d1eaa5e2960078c4eddab50b3ffc41be\", \"correct string value of tidy_beer_cluster_k2_plot.encoding.y.field but incorrect case of letters\"\n",
    "\n",
    "assert sha1(str(type(tidy_beer_cluster_k2_plot.encoding.color.field)).encode(\"utf-8\")+b\"571b3f3fdf5cd7a6\").hexdigest() == \"ae058a36a162880d0dac256f15e9a2a9367b119d\", \"type of tidy_beer_cluster_k2_plot.encoding.color.field is not str. tidy_beer_cluster_k2_plot.encoding.color.field should be an str\"\n",
    "assert sha1(str(len(tidy_beer_cluster_k2_plot.encoding.color.field)).encode(\"utf-8\")+b\"571b3f3fdf5cd7a6\").hexdigest() == \"8257a4edfeae350acb9832f4e7d6d2bd76327c75\", \"length of tidy_beer_cluster_k2_plot.encoding.color.field is not correct\"\n",
    "assert sha1(str(tidy_beer_cluster_k2_plot.encoding.color.field.lower()).encode(\"utf-8\")+b\"571b3f3fdf5cd7a6\").hexdigest() == \"03c9a66b47b9c26980fa674cd58176463e8f2538\", \"value of tidy_beer_cluster_k2_plot.encoding.color.field is not correct\"\n",
    "assert sha1(str(tidy_beer_cluster_k2_plot.encoding.color.field).encode(\"utf-8\")+b\"571b3f3fdf5cd7a6\").hexdigest() == \"03c9a66b47b9c26980fa674cd58176463e8f2538\", \"correct string value of tidy_beer_cluster_k2_plot.encoding.color.field but incorrect case of letters\"\n",
    "\n",
    "assert sha1(str(type(tidy_beer_cluster_k2_plot.encoding.x.field != tidy_beer_cluster_k2_plot.encoding.x.title)).encode(\"utf-8\")+b\"4ffb0b5968f8c1e1\").hexdigest() == \"7f4c7ed68456ebde9ea1a220736645078edf92a8\", \"type of tidy_beer_cluster_k2_plot.encoding.x.field != tidy_beer_cluster_k2_plot.encoding.x.title is not bool. tidy_beer_cluster_k2_plot.encoding.x.field != tidy_beer_cluster_k2_plot.encoding.x.title should be a bool\"\n",
    "assert sha1(str(tidy_beer_cluster_k2_plot.encoding.x.field != tidy_beer_cluster_k2_plot.encoding.x.title).encode(\"utf-8\")+b\"4ffb0b5968f8c1e1\").hexdigest() == \"ca2f71b57ca63b243af8b5a130258878c0a8e3d7\", \"boolean value of tidy_beer_cluster_k2_plot.encoding.x.field != tidy_beer_cluster_k2_plot.encoding.x.title is not correct\"\n",
    "\n",
    "assert sha1(str(type(tidy_beer_cluster_k2_plot.encoding.y.field != tidy_beer_cluster_k2_plot.encoding.y.title)).encode(\"utf-8\")+b\"e23a9018804557a1\").hexdigest() == \"688c4e154f9af3ab54e26347b5d74ae318248f4c\", \"type of tidy_beer_cluster_k2_plot.encoding.y.field != tidy_beer_cluster_k2_plot.encoding.y.title is not bool. tidy_beer_cluster_k2_plot.encoding.y.field != tidy_beer_cluster_k2_plot.encoding.y.title should be a bool\"\n",
    "assert sha1(str(tidy_beer_cluster_k2_plot.encoding.y.field != tidy_beer_cluster_k2_plot.encoding.y.title).encode(\"utf-8\")+b\"e23a9018804557a1\").hexdigest() == \"8ff40493d8d1efaa3a8786f98a1a83b1ccabfc04\", \"boolean value of tidy_beer_cluster_k2_plot.encoding.y.field != tidy_beer_cluster_k2_plot.encoding.y.title is not correct\"\n",
    "\n",
    "assert sha1(str(type(tidy_beer_cluster_k2_plot.encoding.color.field != tidy_beer_cluster_k2_plot.encoding.color.title)).encode(\"utf-8\")+b\"2dc935082eb7a742\").hexdigest() == \"13002f4255bffd6541156a7bef6ca5e7a810a299\", \"type of tidy_beer_cluster_k2_plot.encoding.color.field != tidy_beer_cluster_k2_plot.encoding.color.title is not bool. tidy_beer_cluster_k2_plot.encoding.color.field != tidy_beer_cluster_k2_plot.encoding.color.title should be a bool\"\n",
    "assert sha1(str(tidy_beer_cluster_k2_plot.encoding.color.field != tidy_beer_cluster_k2_plot.encoding.color.title).encode(\"utf-8\")+b\"2dc935082eb7a742\").hexdigest() == \"c1e9522e4fc2ff421318f011a9b04b1e321c3ad1\", \"boolean value of tidy_beer_cluster_k2_plot.encoding.color.field != tidy_beer_cluster_k2_plot.encoding.color.title is not correct\"\n",
    "\n",
    "print('Success!')"
   ]
  },
  {
   "cell_type": "markdown",
   "metadata": {
    "deletable": false,
    "editable": false,
    "nbgrader": {
     "cell_type": "markdown",
     "checksum": "0a5effd1cc40979aedeca07a912e2847",
     "grade": false,
     "grade_id": "cell-97f33922ed0d39e8",
     "locked": true,
     "schema_version": 3,
     "solution": false,
     "task": false
    }
   },
   "source": [
    "**Question 1.7.1** Multiple Choice:\n",
    "<br> {points: 1}\n",
    "\n",
    "We do not know, however, that two clusters (K = 2) is the best choice for this data set. What can we do to choose the best K?\n",
    "\n",
    "A. Perform *cross-validation* for a variety of possible Ks. Choose the one where within-cluster sum of squares distance starts to *decrease less*.\n",
    "\n",
    "B. Perform *cross-validation* for a variety of possible Ks. Choose the one where the within-cluster sum of squares distance starts to *decrease more*. \n",
    "\n",
    "C. Perform *clustering* for a variety of possible Ks. Choose the one where within-cluster sum of squares distance starts to *decrease less*.\n",
    "\n",
    "D. Perform *clustering* for a variety of possible Ks. Choose the one where the within-cluster sum of squares distance starts to *decrease more*. \n",
    "\n",
    "*Assign your answer to an object called `answer1_7_1`. Make sure it is a single upper-case character surrounded by quotes.*"
   ]
  },
  {
   "cell_type": "code",
   "execution_count": null,
   "metadata": {
    "deletable": false,
    "nbgrader": {
     "cell_type": "code",
     "checksum": "2d0a7d34cee9e032ab1c27e6016d652a",
     "grade": false,
     "grade_id": "cell-61e001fe5e991523",
     "locked": false,
     "schema_version": 3,
     "solution": true
    }
   },
   "outputs": [],
   "source": [
    "# your code here\n",
    "raise NotImplementedError"
   ]
  },
  {
   "cell_type": "code",
   "execution_count": null,
   "metadata": {
    "deletable": false,
    "editable": false,
    "max_height": 100,
    "nbgrader": {
     "cell_type": "code",
     "checksum": "96b183a96ef2c626157fb69df00f5d12",
     "grade": true,
     "grade_id": "cell-693552f36c9a4230",
     "locked": true,
     "points": 1,
     "schema_version": 3,
     "solution": false
    }
   },
   "outputs": [],
   "source": [
    "from hashlib import sha1\n",
    "assert sha1(str(type(answer1_7_1)).encode(\"utf-8\")+b\"6b42e558b27e4da7\").hexdigest() == \"f9e6953e34435dd9e688bda0f45fffac2227601f\", \"type of answer1_7_1 is not str. answer1_7_1 should be an str\"\n",
    "assert sha1(str(len(answer1_7_1)).encode(\"utf-8\")+b\"6b42e558b27e4da7\").hexdigest() == \"6c42afe8cde4a141ef693fdd49348ba1b153ec34\", \"length of answer1_7_1 is not correct\"\n",
    "assert sha1(str(answer1_7_1.lower()).encode(\"utf-8\")+b\"6b42e558b27e4da7\").hexdigest() == \"98f1766046e918f5268ce024cf78802ea4973a47\", \"value of answer1_7_1 is not correct\"\n",
    "assert sha1(str(answer1_7_1).encode(\"utf-8\")+b\"6b42e558b27e4da7\").hexdigest() == \"8fd69e9efe2962ce8bd66e6ff1fa2b9b249f1601\", \"correct string value of answer1_7_1 but incorrect case of letters\"\n",
    "\n",
    "print('Success!')"
   ]
  },
  {
   "cell_type": "markdown",
   "metadata": {
    "deletable": false,
    "editable": false,
    "nbgrader": {
     "cell_type": "markdown",
     "checksum": "d46525c24e598f5db9eca2ccab09e8eb",
     "grade": false,
     "grade_id": "cell-d884f2f1c5ea8b43",
     "locked": true,
     "schema_version": 3,
     "solution": false,
     "task": false
    }
   },
   "source": [
    "**Question 1.7.2**\n",
    "<br> {points: 1}\n",
    "\n",
    "Use the `inertia_` attribute to check sum of intra-cluster distances, which is also referred to as inertia for the clustering we just performed.\n",
    "\n",
    "*Hint: recall that the inertia measures the quality of clusters.*\n",
    "\n",
    "*Assign your answer to an object named `beer_cluster_k2_model_stats`.*"
   ]
  },
  {
   "cell_type": "code",
   "execution_count": null,
   "metadata": {
    "deletable": false,
    "nbgrader": {
     "cell_type": "code",
     "checksum": "a60f6f044c9d58bb582055448b276469",
     "grade": false,
     "grade_id": "cell-868cebb3f86944d1",
     "locked": false,
     "schema_version": 3,
     "solution": true
    }
   },
   "outputs": [],
   "source": [
    "# your code here\n",
    "raise NotImplementedError\n",
    "beer_cluster_k2_model_stats"
   ]
  },
  {
   "cell_type": "code",
   "execution_count": null,
   "metadata": {
    "deletable": false,
    "editable": false,
    "max_height": 100,
    "nbgrader": {
     "cell_type": "code",
     "checksum": "7b82ca608310782a7a67e6c41f61fd18",
     "grade": true,
     "grade_id": "cell-31427d5e0afe53be",
     "locked": true,
     "points": 1,
     "schema_version": 3,
     "solution": false
    }
   },
   "outputs": [],
   "source": [
    "from hashlib import sha1\n",
    "assert sha1(str(type(beer_cluster_k2_model_stats is None)).encode(\"utf-8\")+b\"4f9a464c1f193c2e\").hexdigest() == \"e292a0282d1ad0badc14a17c839a9f55ee36e753\", \"type of beer_cluster_k2_model_stats is None is not bool. beer_cluster_k2_model_stats is None should be a bool\"\n",
    "assert sha1(str(beer_cluster_k2_model_stats is None).encode(\"utf-8\")+b\"4f9a464c1f193c2e\").hexdigest() == \"f6bf7eadc9137436d023aeb16a7380bf6399e571\", \"boolean value of beer_cluster_k2_model_stats is None is not correct\"\n",
    "\n",
    "assert sha1(str(type(beer_cluster_k2_model_stats)).encode(\"utf-8\")+b\"50523475c15b2b03\").hexdigest() == \"195ffe96f2edf07083290d4e8caaaac73f682801\", \"type of type(beer_cluster_k2_model_stats) is not correct\"\n",
    "\n",
    "assert sha1(str(type(round(beer_cluster_k2_model_stats, 2))).encode(\"utf-8\")+b\"ce32fe5a6d7dd608\").hexdigest() == \"68157cd890b4b2d9161f329cc51f6c653d51e5c4\", \"type of round(beer_cluster_k2_model_stats, 2) is not float. Please make sure it is float and not np.float64, etc. You can cast your value into a float using float()\"\n",
    "assert sha1(str(round(round(beer_cluster_k2_model_stats, 2), 2)).encode(\"utf-8\")+b\"ce32fe5a6d7dd608\").hexdigest() == \"676a2b0eac6f7e7f3532218862a8e08a430280a3\", \"value of round(beer_cluster_k2_model_stats, 2) is not correct (rounded to 2 decimal places)\"\n",
    "\n",
    "print('Success!')"
   ]
  },
  {
   "cell_type": "markdown",
   "metadata": {
    "deletable": false,
    "editable": false,
    "nbgrader": {
     "cell_type": "markdown",
     "checksum": "a7ec43bca78d7b6cd1853af3dfd70e01",
     "grade": false,
     "grade_id": "cell-42cd7e853af98bb1",
     "locked": true,
     "schema_version": 3,
     "solution": false,
     "task": false
    }
   },
   "source": [
    "**Question 1.8**\n",
    "<br> {points: 1}\n",
    "\n",
    "Let's now choose the best K for this clustering problem. To do this we need to create a dataframe with a column named `k`, where we vary K from 1 to 10. \n",
    "\n",
    "*Assign your answer to an object named `beer_ks`.*"
   ]
  },
  {
   "cell_type": "code",
   "execution_count": null,
   "metadata": {
    "deletable": false,
    "nbgrader": {
     "cell_type": "code",
     "checksum": "3037c826b7d57169cdaa2985cb050cc8",
     "grade": false,
     "grade_id": "cell-2291e50c08f701d2",
     "locked": false,
     "schema_version": 3,
     "solution": true
    }
   },
   "outputs": [],
   "source": [
    "# your code here\n",
    "raise NotImplementedError\n",
    "beer_ks"
   ]
  },
  {
   "cell_type": "code",
   "execution_count": null,
   "metadata": {
    "deletable": false,
    "editable": false,
    "max_height": 100,
    "nbgrader": {
     "cell_type": "code",
     "checksum": "fa84abec23d490162d152781c4a2dc12",
     "grade": true,
     "grade_id": "cell-58c958b24994d60d",
     "locked": true,
     "points": 1,
     "schema_version": 3,
     "solution": false
    }
   },
   "outputs": [],
   "source": [
    "from hashlib import sha1\n",
    "assert sha1(str(type(beer_ks)).encode(\"utf-8\")+b\"331862322d269810\").hexdigest() == \"57ca726cbad22a99faa580e8c62c890561b8bb95\", \"type of type(beer_ks) is not correct\"\n",
    "\n",
    "assert sha1(str(type(beer_ks.shape)).encode(\"utf-8\")+b\"54a59dbed2953676\").hexdigest() == \"895cd3ce7f99f22269a7605ddcd2fb18e6e3d838\", \"type of beer_ks.shape is not tuple. beer_ks.shape should be a tuple\"\n",
    "assert sha1(str(len(beer_ks.shape)).encode(\"utf-8\")+b\"54a59dbed2953676\").hexdigest() == \"73d664cf8b2c5834ba705a960533297a9d151f71\", \"length of beer_ks.shape is not correct\"\n",
    "assert sha1(str(sorted(map(str, beer_ks.shape))).encode(\"utf-8\")+b\"54a59dbed2953676\").hexdigest() == \"8ce0ac5d2017f8bc57c4518431b1ec62fcc1b180\", \"values of beer_ks.shape are not correct\"\n",
    "assert sha1(str(beer_ks.shape).encode(\"utf-8\")+b\"54a59dbed2953676\").hexdigest() == \"1fe469db2d5de6873ca7063cfffbf1b0656f1640\", \"order of elements of beer_ks.shape is not correct\"\n",
    "\n",
    "assert sha1(str(type(beer_ks.columns.values)).encode(\"utf-8\")+b\"6ec04caa580c18fd\").hexdigest() == \"944f00dca7dae96a0b9742519f125b72734e61d6\", \"type of beer_ks.columns.values is not correct\"\n",
    "assert sha1(str(beer_ks.columns.values).encode(\"utf-8\")+b\"6ec04caa580c18fd\").hexdigest() == \"0c5012892aca50cbf99eac3abf9e72276eecd9f8\", \"value of beer_ks.columns.values is not correct\"\n",
    "\n",
    "print('Success!')"
   ]
  },
  {
   "cell_type": "markdown",
   "metadata": {
    "deletable": false,
    "editable": false,
    "nbgrader": {
     "cell_type": "markdown",
     "checksum": "e9d8e705c6f0e93206fbc4593231c54f",
     "grade": false,
     "grade_id": "cell-39c29b9969ea902b",
     "locked": true,
     "schema_version": 3,
     "solution": false,
     "task": false
    }
   },
   "source": [
    "**Question 1.9**\n",
    "<br> {points: 1}\n",
    "\n",
    "Next we use `assign` to create a new column named `models`, where we use `applymap` to apply the `KMeans` function to our `scaled_beer` data set for each of the K's.\n",
    "\n",
    "*`apply` applies a function along an axis of the dataframe and returns a transformed dataframe. For more information, please check: https://pandas.pydata.org/docs/reference/api/pandas.DataFrame.apply.html*\n",
    "\n",
    "*Assign your answer to an object named `beer_clustering`.*"
   ]
  },
  {
   "cell_type": "code",
   "execution_count": null,
   "metadata": {
    "deletable": false,
    "nbgrader": {
     "cell_type": "code",
     "checksum": "c7a8664b3ba4dbb9bb6caecc5fec66cc",
     "grade": false,
     "grade_id": "cell-0789a9131f5cf925",
     "locked": false,
     "schema_version": 3,
     "solution": true,
     "task": false
    }
   },
   "outputs": [],
   "source": [
    "# ___ = ___.assign(\n",
    "#     models=beer_ks[\"k\"].apply(\n",
    "#         lambda x: KMeans(n_clusters=x, random_state=1234).fit(___)\n",
    "#     )\n",
    "# )\n",
    "\n",
    "# your code here\n",
    "raise NotImplementedError\n",
    "beer_clustering.head()"
   ]
  },
  {
   "cell_type": "code",
   "execution_count": null,
   "metadata": {
    "deletable": false,
    "editable": false,
    "max_height": 100,
    "nbgrader": {
     "cell_type": "code",
     "checksum": "03f5805a8dc642bf5aa217667de11a65",
     "grade": true,
     "grade_id": "cell-ed0f2e1a31372296",
     "locked": true,
     "points": 1,
     "schema_version": 3,
     "solution": false
    }
   },
   "outputs": [],
   "source": [
    "from hashlib import sha1\n",
    "assert sha1(str(type(beer_clustering.shape)).encode(\"utf-8\")+b\"e62dce36696a538f\").hexdigest() == \"7dcc4e21dd192a19bc1f58e2d31cc6b2ebb352fc\", \"type of beer_clustering.shape is not tuple. beer_clustering.shape should be a tuple\"\n",
    "assert sha1(str(len(beer_clustering.shape)).encode(\"utf-8\")+b\"e62dce36696a538f\").hexdigest() == \"1fa2dad162c3abe79865688a25b3530e9ee9cf73\", \"length of beer_clustering.shape is not correct\"\n",
    "assert sha1(str(sorted(map(str, beer_clustering.shape))).encode(\"utf-8\")+b\"e62dce36696a538f\").hexdigest() == \"2a1ead4d5833fe192f5bc414b8ebeb8f51a5128a\", \"values of beer_clustering.shape are not correct\"\n",
    "assert sha1(str(beer_clustering.shape).encode(\"utf-8\")+b\"e62dce36696a538f\").hexdigest() == \"6304ba2dd7e50987c0edb3bc4f69181c5664f59a\", \"order of elements of beer_clustering.shape is not correct\"\n",
    "\n",
    "assert sha1(str(type(\"k\" in beer_clustering.columns.values)).encode(\"utf-8\")+b\"7ca5ff41bfe477ae\").hexdigest() == \"4c7b2b3c7083a93a31b196b0c820efe1024b8853\", \"type of \\\"k\\\" in beer_clustering.columns.values is not bool. \\\"k\\\" in beer_clustering.columns.values should be a bool\"\n",
    "assert sha1(str(\"k\" in beer_clustering.columns.values).encode(\"utf-8\")+b\"7ca5ff41bfe477ae\").hexdigest() == \"6bdc7acc54d49594561c1b5248a8d3057301bb04\", \"boolean value of \\\"k\\\" in beer_clustering.columns.values is not correct\"\n",
    "\n",
    "assert sha1(str(type(\"models\" in beer_clustering.columns.values)).encode(\"utf-8\")+b\"16d319a4fb9f338d\").hexdigest() == \"c7d60fa5da738c9edc34b9c1a7806a26dd063e6f\", \"type of \\\"models\\\" in beer_clustering.columns.values is not bool. \\\"models\\\" in beer_clustering.columns.values should be a bool\"\n",
    "assert sha1(str(\"models\" in beer_clustering.columns.values).encode(\"utf-8\")+b\"16d319a4fb9f338d\").hexdigest() == \"41d3b8171142b44e8f49f823938fcde6b6a31956\", \"boolean value of \\\"models\\\" in beer_clustering.columns.values is not correct\"\n",
    "\n",
    "assert sha1(str(type(type(beer_clustering.models[0]))).encode(\"utf-8\")+b\"415b45b236056ab0\").hexdigest() == \"7f8041c0aefda5ab1491c566bde053a19199b4f7\", \"type of type(beer_clustering.models[0]) is not correct\"\n",
    "assert sha1(str(type(beer_clustering.models[0])).encode(\"utf-8\")+b\"415b45b236056ab0\").hexdigest() == \"9ef87aaf95e9889d602fed126c1e381e9c513303\", \"value of type(beer_clustering.models[0]) is not correct\"\n",
    "\n",
    "print('Success!')"
   ]
  },
  {
   "cell_type": "markdown",
   "metadata": {
    "deletable": false,
    "editable": false,
    "nbgrader": {
     "cell_type": "markdown",
     "checksum": "30778ebc7a2ac7a41f02362be6211150",
     "grade": false,
     "grade_id": "cell-712c5d5bf721ba07",
     "locked": true,
     "schema_version": 3,
     "solution": false,
     "task": false
    }
   },
   "source": [
    "**Question 2.0**\n",
    "<br> {points: 1}\n",
    "\n",
    "Next we use `assign` again to create a new column called `model_statistics` where we use `apply` to call the `inertia_` attribute to each of our models (in the `models` column) to get the sum of intra-cluster distances (this is where we can get the value for total within sum of squares that we use to choose K).\n",
    "\n",
    "*Assign your answer to an object named `beer_model_stats`.*"
   ]
  },
  {
   "cell_type": "code",
   "execution_count": null,
   "metadata": {
    "deletable": false,
    "nbgrader": {
     "cell_type": "code",
     "checksum": "93a8533e8a3b95322d987e2a017553f3",
     "grade": false,
     "grade_id": "cell-e5550ab0d15e904b",
     "locked": false,
     "schema_version": 3,
     "solution": true
    }
   },
   "outputs": [],
   "source": [
    "# ___ = ___.assign(\n",
    "#     ___=beer_clustering[\"models\"].apply(lambda x: x.___)\n",
    "# ) # since we are calling inertia to elements in a series, we use apply instead of applymap here\n",
    "\n",
    "# your code here\n",
    "raise NotImplementedError\n",
    "beer_model_stats.head()"
   ]
  },
  {
   "cell_type": "code",
   "execution_count": null,
   "metadata": {
    "deletable": false,
    "editable": false,
    "max_height": 100,
    "nbgrader": {
     "cell_type": "code",
     "checksum": "ba3e09f0712d9d2777efd98ab1ae0e32",
     "grade": true,
     "grade_id": "cell-a3574637a73eada8",
     "locked": true,
     "points": 1,
     "schema_version": 3,
     "solution": false
    }
   },
   "outputs": [],
   "source": [
    "from hashlib import sha1\n",
    "assert sha1(str(type(beer_model_stats.shape)).encode(\"utf-8\")+b\"4c4134c9a101121c\").hexdigest() == \"bb99353e0e262e43008d3ff416d546a49474f296\", \"type of beer_model_stats.shape is not tuple. beer_model_stats.shape should be a tuple\"\n",
    "assert sha1(str(len(beer_model_stats.shape)).encode(\"utf-8\")+b\"4c4134c9a101121c\").hexdigest() == \"53035b2ebde11f6f3095a496247fbd942624b50b\", \"length of beer_model_stats.shape is not correct\"\n",
    "assert sha1(str(sorted(map(str, beer_model_stats.shape))).encode(\"utf-8\")+b\"4c4134c9a101121c\").hexdigest() == \"3ae29cfb8f483dc255be54e73b1ca153c9539b40\", \"values of beer_model_stats.shape are not correct\"\n",
    "assert sha1(str(beer_model_stats.shape).encode(\"utf-8\")+b\"4c4134c9a101121c\").hexdigest() == \"370ee049f4b8f592f7fe02bfb6cf5c5a4ad25f64\", \"order of elements of beer_model_stats.shape is not correct\"\n",
    "\n",
    "assert sha1(str(type(\"k\" in beer_model_stats.columns.values)).encode(\"utf-8\")+b\"20345d36163c4562\").hexdigest() == \"0f67b7b77f049d16fdfc7da96a8075e2cd93c6e2\", \"type of \\\"k\\\" in beer_model_stats.columns.values is not bool. \\\"k\\\" in beer_model_stats.columns.values should be a bool\"\n",
    "assert sha1(str(\"k\" in beer_model_stats.columns.values).encode(\"utf-8\")+b\"20345d36163c4562\").hexdigest() == \"af1049893ea4d4c6dc0f08bd70ca9b27b1f687d4\", \"boolean value of \\\"k\\\" in beer_model_stats.columns.values is not correct\"\n",
    "\n",
    "assert sha1(str(type(\"models\" in beer_model_stats.columns.values)).encode(\"utf-8\")+b\"91cc5fe3dc08ff6c\").hexdigest() == \"eeca01f0ba38acb3cd5ad036c426d8011ffd9cad\", \"type of \\\"models\\\" in beer_model_stats.columns.values is not bool. \\\"models\\\" in beer_model_stats.columns.values should be a bool\"\n",
    "assert sha1(str(\"models\" in beer_model_stats.columns.values).encode(\"utf-8\")+b\"91cc5fe3dc08ff6c\").hexdigest() == \"efc45b46162cdfb890885f12ded36033abc576f0\", \"boolean value of \\\"models\\\" in beer_model_stats.columns.values is not correct\"\n",
    "\n",
    "assert sha1(str(type(\"model_statistics\" in beer_model_stats.columns.values)).encode(\"utf-8\")+b\"f3dfbf0108a47422\").hexdigest() == \"ae7d6ffe549b73d166d22c18f154db47ca700e39\", \"type of \\\"model_statistics\\\" in beer_model_stats.columns.values is not bool. \\\"model_statistics\\\" in beer_model_stats.columns.values should be a bool\"\n",
    "assert sha1(str(\"model_statistics\" in beer_model_stats.columns.values).encode(\"utf-8\")+b\"f3dfbf0108a47422\").hexdigest() == \"1ff25730b3227351785c14809884e6e3d9e4b2a3\", \"boolean value of \\\"model_statistics\\\" in beer_model_stats.columns.values is not correct\"\n",
    "\n",
    "assert sha1(str(type(type(beer_model_stats.models[0]))).encode(\"utf-8\")+b\"e299554ec0528b58\").hexdigest() == \"935abd98c7c87a75694d7fcfdc195ad0b1526f87\", \"type of type(beer_model_stats.models[0]) is not correct\"\n",
    "assert sha1(str(type(beer_model_stats.models[0])).encode(\"utf-8\")+b\"e299554ec0528b58\").hexdigest() == \"d13612a38f8ddf38efa5828a9ce219ad2df88033\", \"value of type(beer_model_stats.models[0]) is not correct\"\n",
    "\n",
    "assert sha1(str(type(beer_model_stats.model_statistics[0])).encode(\"utf-8\")+b\"5e00b7e4d12dbbb3\").hexdigest() == \"51d8ff9a08e4a4e84c5952b68556d831ee8ea753\", \"type of type(beer_model_stats.model_statistics[0]) is not correct\"\n",
    "\n",
    "print('Success!')"
   ]
  },
  {
   "cell_type": "markdown",
   "metadata": {
    "deletable": false,
    "editable": false,
    "nbgrader": {
     "cell_type": "markdown",
     "checksum": "160115ba2dd2ef2743e8c18460c574e4",
     "grade": false,
     "grade_id": "cell-888915107f007211",
     "locked": true,
     "schema_version": 3,
     "solution": false,
     "task": false
    }
   },
   "source": [
    "**Question 2.1**\n",
    "<br> {points: 1}\n",
    "\n",
    "We now have the the values for total within-cluster sum of squares for each model in a column (`model_statistics`). Let's use it to create a line plot with points of total within-cluster sum of squares versus k, so that we can choose the best number of clusters to use. \n",
    "\n",
    "Please note that since `altair` could not take in objects in the `models` column. Only select `k` and `model_statistics` columns as the input dataframe.\n",
    "\n",
    "*Assign your plot to an object called `choose_beer_k`. Total within-cluster sum of squares should be on the y-axis and K should be on the x-axis. Remember to follow the best visualization practices, including adding human-readable labels to your plot.*"
   ]
  },
  {
   "cell_type": "code",
   "execution_count": null,
   "metadata": {
    "deletable": false,
    "nbgrader": {
     "cell_type": "code",
     "checksum": "1d9a6c50d928836994810c974c858e61",
     "grade": false,
     "grade_id": "cell-8a414509ff54b5ec",
     "locked": false,
     "schema_version": 3,
     "solution": true
    }
   },
   "outputs": [],
   "source": [
    "# your code here\n",
    "raise NotImplementedError\n",
    "choose_beer_k"
   ]
  },
  {
   "cell_type": "code",
   "execution_count": null,
   "metadata": {
    "deletable": false,
    "editable": false,
    "max_height": 100,
    "nbgrader": {
     "cell_type": "code",
     "checksum": "2d02c15f41973f63a76c722cdc8db975",
     "grade": true,
     "grade_id": "cell-3e758ca8ceea0217",
     "locked": true,
     "points": 1,
     "schema_version": 3,
     "solution": false
    }
   },
   "outputs": [],
   "source": [
    "from hashlib import sha1\n",
    "assert sha1(str(type(choose_beer_k is None)).encode(\"utf-8\")+b\"38be7088e7cecd2a\").hexdigest() == \"66372fde91b06f7910f146d2e734956056e6da9a\", \"type of choose_beer_k is None is not bool. choose_beer_k is None should be a bool\"\n",
    "assert sha1(str(choose_beer_k is None).encode(\"utf-8\")+b\"38be7088e7cecd2a\").hexdigest() == \"0c9a94d400eebf4a0fc6d003a0ef48fc64b7289b\", \"boolean value of choose_beer_k is None is not correct\"\n",
    "\n",
    "assert sha1(str(type(choose_beer_k.encoding.x.field)).encode(\"utf-8\")+b\"fdf3a4b2327c7379\").hexdigest() == \"d2219376f91f1f920d2757bad5b5f572ae966c98\", \"type of choose_beer_k.encoding.x.field is not str. choose_beer_k.encoding.x.field should be an str\"\n",
    "assert sha1(str(len(choose_beer_k.encoding.x.field)).encode(\"utf-8\")+b\"fdf3a4b2327c7379\").hexdigest() == \"029f1effa2dfbca873fad3c29083208c4d00cf40\", \"length of choose_beer_k.encoding.x.field is not correct\"\n",
    "assert sha1(str(choose_beer_k.encoding.x.field.lower()).encode(\"utf-8\")+b\"fdf3a4b2327c7379\").hexdigest() == \"65ce448ca7dee6328066fd3356540484dc80398e\", \"value of choose_beer_k.encoding.x.field is not correct\"\n",
    "assert sha1(str(choose_beer_k.encoding.x.field).encode(\"utf-8\")+b\"fdf3a4b2327c7379\").hexdigest() == \"65ce448ca7dee6328066fd3356540484dc80398e\", \"correct string value of choose_beer_k.encoding.x.field but incorrect case of letters\"\n",
    "\n",
    "assert sha1(str(type(choose_beer_k.encoding.y.field)).encode(\"utf-8\")+b\"5e2e00d77704835a\").hexdigest() == \"10dddd84946dd1584b08750de6002c9f800893bc\", \"type of choose_beer_k.encoding.y.field is not str. choose_beer_k.encoding.y.field should be an str\"\n",
    "assert sha1(str(len(choose_beer_k.encoding.y.field)).encode(\"utf-8\")+b\"5e2e00d77704835a\").hexdigest() == \"480f32a585f07576d7f4b059e03e58355f67f5de\", \"length of choose_beer_k.encoding.y.field is not correct\"\n",
    "assert sha1(str(choose_beer_k.encoding.y.field.lower()).encode(\"utf-8\")+b\"5e2e00d77704835a\").hexdigest() == \"41e3b5dcf57d0f9cfaf720d99e136b1567a44c27\", \"value of choose_beer_k.encoding.y.field is not correct\"\n",
    "assert sha1(str(choose_beer_k.encoding.y.field).encode(\"utf-8\")+b\"5e2e00d77704835a\").hexdigest() == \"41e3b5dcf57d0f9cfaf720d99e136b1567a44c27\", \"correct string value of choose_beer_k.encoding.y.field but incorrect case of letters\"\n",
    "\n",
    "assert sha1(str(type(choose_beer_k.mark.type)).encode(\"utf-8\")+b\"fcbdaef215e8e422\").hexdigest() == \"ded3a0603d730921483ef29e1acc98b6606f318c\", \"type of choose_beer_k.mark.type is not str. choose_beer_k.mark.type should be an str\"\n",
    "assert sha1(str(len(choose_beer_k.mark.type)).encode(\"utf-8\")+b\"fcbdaef215e8e422\").hexdigest() == \"99875693774e167d1ba8d2ec4b48b1365c2b67f5\", \"length of choose_beer_k.mark.type is not correct\"\n",
    "assert sha1(str(choose_beer_k.mark.type.lower()).encode(\"utf-8\")+b\"fcbdaef215e8e422\").hexdigest() == \"35251ef70bc8c76a1e27d991dedf782cb3d7a79f\", \"value of choose_beer_k.mark.type is not correct\"\n",
    "assert sha1(str(choose_beer_k.mark.type).encode(\"utf-8\")+b\"fcbdaef215e8e422\").hexdigest() == \"35251ef70bc8c76a1e27d991dedf782cb3d7a79f\", \"correct string value of choose_beer_k.mark.type but incorrect case of letters\"\n",
    "\n",
    "assert sha1(str(type(choose_beer_k.mark.point)).encode(\"utf-8\")+b\"bf054de1892f954d\").hexdigest() == \"4958afbb148e524ccdd72d61ae614f4f5d71f8b2\", \"type of choose_beer_k.mark.point is not bool. choose_beer_k.mark.point should be a bool\"\n",
    "assert sha1(str(choose_beer_k.mark.point).encode(\"utf-8\")+b\"bf054de1892f954d\").hexdigest() == \"e90a2ca6f9bf617b154568051014e415e456eb5c\", \"boolean value of choose_beer_k.mark.point is not correct\"\n",
    "\n",
    "assert sha1(str(type(choose_beer_k.encoding.x.field != choose_beer_k.encoding.x.title)).encode(\"utf-8\")+b\"aaf1b39619d510f0\").hexdigest() == \"491fa307a8c84ff8fd626cb89a40c81e3b6672e8\", \"type of choose_beer_k.encoding.x.field != choose_beer_k.encoding.x.title is not bool. choose_beer_k.encoding.x.field != choose_beer_k.encoding.x.title should be a bool\"\n",
    "assert sha1(str(choose_beer_k.encoding.x.field != choose_beer_k.encoding.x.title).encode(\"utf-8\")+b\"aaf1b39619d510f0\").hexdigest() == \"5989a61b254f868922439a15412ee27922021dda\", \"boolean value of choose_beer_k.encoding.x.field != choose_beer_k.encoding.x.title is not correct\"\n",
    "\n",
    "assert sha1(str(type(choose_beer_k.encoding.y.field != choose_beer_k.encoding.y.title)).encode(\"utf-8\")+b\"11b3c0d8b22d07ca\").hexdigest() == \"e374e937f882970d1cbc51918a342837184e0a7e\", \"type of choose_beer_k.encoding.y.field != choose_beer_k.encoding.y.title is not bool. choose_beer_k.encoding.y.field != choose_beer_k.encoding.y.title should be a bool\"\n",
    "assert sha1(str(choose_beer_k.encoding.y.field != choose_beer_k.encoding.y.title).encode(\"utf-8\")+b\"11b3c0d8b22d07ca\").hexdigest() == \"35d72c19565c1fa9e99a6364944d26050a5424d9\", \"boolean value of choose_beer_k.encoding.y.field != choose_beer_k.encoding.y.title is not correct\"\n",
    "\n",
    "print('Success!')"
   ]
  },
  {
   "cell_type": "markdown",
   "metadata": {},
   "source": [
    "There is a package called `yellowbrick` which can be used to create the elbow method  plot conveniently. Example is as shown below:"
   ]
  },
  {
   "cell_type": "code",
   "execution_count": null,
   "metadata": {},
   "outputs": [],
   "source": [
    "# from yellowbrick.cluster import KElbowVisualizer\n",
    "\n",
    "# yellowbrick_model = KMeans()\n",
    "# visualizer = KElbowVisualizer(yellowbrick_model, k=(1, 10))\n",
    "\n",
    "# visualizer.fit(scaled_beer)  # Fit the data to the visualizer\n",
    "# visualizer.show();"
   ]
  },
  {
   "cell_type": "markdown",
   "metadata": {
    "deletable": false,
    "editable": false,
    "nbgrader": {
     "cell_type": "markdown",
     "checksum": "d463871b3bd9ad51a6d5333f9cb43272",
     "grade": false,
     "grade_id": "cell-790ae1331636b0f3",
     "locked": true,
     "schema_version": 3,
     "solution": false,
     "task": false
    }
   },
   "source": [
    "**Question 2.2**\n",
    "<br> {points: 1}\n",
    "\n",
    "From the plot above, which K should we choose? \n",
    "\n",
    "*Assign your answer to an object called `answer2_2`. Make sure your answer is a single numerical character surrounded by quotation marks.*"
   ]
  },
  {
   "cell_type": "code",
   "execution_count": null,
   "metadata": {
    "deletable": false,
    "nbgrader": {
     "cell_type": "code",
     "checksum": "da25f64e7911b9a8c12af5c270ef0536",
     "grade": false,
     "grade_id": "cell-bd38240a36b3d416",
     "locked": false,
     "schema_version": 3,
     "solution": true
    }
   },
   "outputs": [],
   "source": [
    "# your code here\n",
    "raise NotImplementedError"
   ]
  },
  {
   "cell_type": "code",
   "execution_count": null,
   "metadata": {
    "deletable": false,
    "editable": false,
    "max_height": 100,
    "nbgrader": {
     "cell_type": "code",
     "checksum": "f136c3855701e03ab66e57895dc50258",
     "grade": true,
     "grade_id": "cell-62328bcd821daea9",
     "locked": true,
     "points": 1,
     "schema_version": 3,
     "solution": false
    }
   },
   "outputs": [],
   "source": [
    "from hashlib import sha1\n",
    "assert sha1(str(type(answer2_2)).encode(\"utf-8\")+b\"473b52099bd8953e\").hexdigest() == \"a566bdb2f720b298155af4076341af5c21f5f2ec\", \"type of answer2_2 is not str. answer2_2 should be an str\"\n",
    "assert sha1(str(len(answer2_2)).encode(\"utf-8\")+b\"473b52099bd8953e\").hexdigest() == \"2b4bdaf066f995e2b9667e98833864c3322997b8\", \"length of answer2_2 is not correct\"\n",
    "assert sha1(str(answer2_2.lower()).encode(\"utf-8\")+b\"473b52099bd8953e\").hexdigest() == \"6e423ecd33ff790807ca02961a89b92d1b4a3f36\", \"value of answer2_2 is not correct\"\n",
    "assert sha1(str(answer2_2).encode(\"utf-8\")+b\"473b52099bd8953e\").hexdigest() == \"6e423ecd33ff790807ca02961a89b92d1b4a3f36\", \"correct string value of answer2_2 but incorrect case of letters\"\n",
    "\n",
    "print('Success!')"
   ]
  },
  {
   "cell_type": "markdown",
   "metadata": {
    "deletable": false,
    "editable": false,
    "nbgrader": {
     "cell_type": "markdown",
     "checksum": "e467a8b55b545506155d38b461ac53b7",
     "grade": false,
     "grade_id": "cell-ef050c1e9d2e38a3",
     "locked": true,
     "schema_version": 3,
     "solution": false,
     "task": false
    }
   },
   "source": [
    "**Question 2.3**\n",
    "<br> (optional - not graded)\n",
    "\n",
    "In your own words, explain why we chose the K we chose above."
   ]
  },
  {
   "cell_type": "markdown",
   "metadata": {},
   "source": []
  },
  {
   "cell_type": "markdown",
   "metadata": {
    "deletable": false,
    "editable": false,
    "nbgrader": {
     "cell_type": "markdown",
     "checksum": "5b669be0d8e9a97bf9250c8d5076e161",
     "grade": false,
     "grade_id": "cell-e28e4f23066bcf9a",
     "locked": true,
     "schema_version": 3,
     "solution": false,
     "task": false
    }
   },
   "source": [
    "**Question 2.4**\n",
    "<br> (optional - not graded)\n",
    "\n",
    "What can we conclude from our analysis? How many different types of hoppy craft beer are there in this data set using the two variables we have? Do you think our analysis might change if we added additional variables? Why/why not?\n"
   ]
  },
  {
   "cell_type": "markdown",
   "metadata": {},
   "source": []
  },
  {
   "cell_type": "markdown",
   "metadata": {
    "deletable": false,
    "editable": false,
    "nbgrader": {
     "cell_type": "markdown",
     "checksum": "372c17da344c570414e014386a06213f",
     "grade": false,
     "grade_id": "cell-91d519c3b41719e6",
     "locked": true,
     "schema_version": 3,
     "solution": false,
     "task": false
    }
   },
   "source": [
    "**Question 2.5** \n",
    "<br> (optional - not graded)\n",
    "\n",
    "Visually verify that 2 clusters is the \"best\" choice for K for this analysis. Do this by plotting the cluster assignments for the points for each K (each should be its own scatter plot)."
   ]
  },
  {
   "cell_type": "markdown",
   "metadata": {},
   "source": []
  },
  {
   "cell_type": "code",
   "execution_count": null,
   "metadata": {},
   "outputs": [],
   "source": []
  }
 ],
 "metadata": {
  "kernelspec": {
   "display_name": "Python 3 (ipykernel)",
   "language": "python",
   "name": "python3"
  },
  "language_info": {
   "codemirror_mode": {
    "name": "ipython",
    "version": 3
   },
   "file_extension": ".py",
   "mimetype": "text/x-python",
   "name": "python",
   "nbconvert_exporter": "python",
   "pygments_lexer": "ipython3",
   "version": "3.10.8"
  }
 },
 "nbformat": 4,
 "nbformat_minor": 4
}
