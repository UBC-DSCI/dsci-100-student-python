{
 "cells": [
  {
   "cell_type": "markdown",
   "metadata": {
    "deletable": false,
    "editable": false,
    "nbgrader": {
     "cell_type": "markdown",
     "checksum": "e5dead7fc7680eb07223a7d6346bbd79",
     "grade": false,
     "grade_id": "cell-4e13769a31cd3f6c",
     "locked": true,
     "schema_version": 3,
     "solution": false,
     "task": false
    }
   },
   "source": [
    "# Worksheet 10 - Clustering\n",
    "\n",
    "### Lecture and Tutorial Learning Goals:\n",
    "\n",
    "After completing this week's lecture and tutorial work, you will be able to:\n",
    "\n",
    "* Describe a case where clustering would be an appropriate tool, and what insight it would bring from the data.\n",
    "* Explain the k-means clustering algorithm.\n",
    "* Interpret the output of a k-means cluster analysis.\n",
    "* Perform k-means clustering in Python using `scikit-learn`\n",
    "* Visualize the output of k-means clustering in Python using a coloured scatter plot \n",
    "* Identify when it is necessary to scale variables before clustering and do this using Python\n",
    "* Use the elbow method to choose the number of clusters for k-means\n",
    "* Describe advantages, limitations and assumptions of the kmeans clustering algorithm.\n",
    "\n",
    "This worksheet covers parts of [Chapter 9](https://python.datasciencebook.ca/clustering) of the online textbook. You should read this chapter before attempting this assignment. Any place you see `___`, you must fill in the function, variable, or data to complete the code. Substitute the `raise NotImplementedError` with your completed code and answers then proceed to run the cell."
   ]
  },
  {
   "cell_type": "code",
   "execution_count": null,
   "metadata": {
    "deletable": false,
    "editable": false,
    "nbgrader": {
     "cell_type": "code",
     "checksum": "6684603ec36e83459ada2ecd28e72995",
     "grade": false,
     "grade_id": "cell-692894fcc96c281b",
     "locked": true,
     "schema_version": 3,
     "solution": false,
     "task": false
    }
   },
   "outputs": [],
   "source": [
    "### Run this cell before continuing.\n",
    "import altair as alt\n",
    "import numpy as np\n",
    "import pandas as pd\n",
    "from sklearn.cluster import KMeans\n",
    "from sklearn.preprocessing import StandardScaler\n",
    "from sklearn.compose import make_column_transformer\n",
    "from sklearn.pipeline import make_pipeline\n",
    "from sklearn import set_config\n",
    "\n",
    "# Simplify working with large datasets in Altair\n",
    "alt.data_transformers.enable('vegafusion')\n",
    "\n",
    "# Output dataframes instead of arrays\n",
    "set_config(transform_output=\"pandas\")"
   ]
  },
  {
   "cell_type": "markdown",
   "metadata": {
    "deletable": false,
    "editable": false,
    "nbgrader": {
     "cell_type": "markdown",
     "checksum": "8a168dfd7621ff711e52ec453e00df98",
     "grade": false,
     "grade_id": "cell-353d89a0c34b681a",
     "locked": true,
     "schema_version": 3,
     "solution": false,
     "task": false
    }
   },
   "source": [
    "**Question 0.0** Multiple Choice:\n",
    "<br> {points: 1}\n",
    "\n",
    "In which of the following scenarios would clustering methods likely be appropriate?\n",
    "\n",
    "A. Identifying sub-groups of houses according to their house type, value, and geographical location\n",
    "\n",
    "B. Predicting whether a given user will click on an ad on a website\n",
    "\n",
    "C. Segmenting customers based on their preferences to target advertising\n",
    "\n",
    "D. Both A. and B.\n",
    "\n",
    "E. Both A. and C. \n",
    "\n",
    "*Assign your answer to an object called `answer0_0`. Your answer should be a single upper-case character surrounded by quotes.*"
   ]
  },
  {
   "cell_type": "code",
   "execution_count": null,
   "metadata": {
    "deletable": false,
    "nbgrader": {
     "cell_type": "code",
     "checksum": "c5e9fbea61cf802b845c6207b5fc087f",
     "grade": false,
     "grade_id": "cell-5dbd8978b6a0a44c",
     "locked": false,
     "schema_version": 3,
     "solution": true
    }
   },
   "outputs": [],
   "source": [
    "# your code here\n",
    "raise NotImplementedError"
   ]
  },
  {
   "cell_type": "code",
   "execution_count": null,
   "metadata": {
    "deletable": false,
    "editable": false,
    "nbgrader": {
     "cell_type": "code",
     "checksum": "6da6659bac0584a4a12a110de435fb35",
     "grade": true,
     "grade_id": "cell-13f71e2d909892e4",
     "locked": true,
     "points": 1,
     "schema_version": 3,
     "solution": false
    }
   },
   "outputs": [],
   "source": [
    "from hashlib import sha1\n",
    "assert sha1(str(type(answer0_0)).encode(\"utf-8\")+b\"dcefd\").hexdigest() == \"3e545b3f6befc9fb348e77db7f2040e82e9bcbb7\", \"type of answer0_0 is not str. answer0_0 should be an str\"\n",
    "assert sha1(str(len(answer0_0)).encode(\"utf-8\")+b\"dcefd\").hexdigest() == \"107f1edd22c2860f5c219827900a4ddae78b3686\", \"length of answer0_0 is not correct\"\n",
    "assert sha1(str(answer0_0.lower()).encode(\"utf-8\")+b\"dcefd\").hexdigest() == \"a4364fe21d6892642d5de345fe9b02cb157f29b9\", \"value of answer0_0 is not correct\"\n",
    "assert sha1(str(answer0_0).encode(\"utf-8\")+b\"dcefd\").hexdigest() == \"c8174fc1ec78f1d54d6018c7adc7ff26650cf114\", \"correct string value of answer0_0 but incorrect case of letters\"\n",
    "\n",
    "print('Success!')"
   ]
  },
  {
   "cell_type": "markdown",
   "metadata": {
    "deletable": false,
    "editable": false,
    "nbgrader": {
     "cell_type": "markdown",
     "checksum": "1f182baa8f34a06ebfcdd719aad944fb",
     "grade": false,
     "grade_id": "cell-ba0b77eef45527d2",
     "locked": true,
     "schema_version": 3,
     "solution": false,
     "task": false
    }
   },
   "source": [
    "**Question 0.1** Multiple Choice:\n",
    "<br> {points: 1}\n",
    "\n",
    "Which step in the description of the Kmeans algorithm below is incorrect?\n",
    "\n",
    "0. Choose the number of clusters\n",
    "\n",
    "1. Randomly assign each of the points to one of the clusters\n",
    "\n",
    "2. Calculate the position for the cluster centre (centroid) for each of the clusters (this is the middle of the points in the cluster, as measured by straight-line distance)\n",
    "\n",
    "3. Re-assign each of the points to the cluster who's centroid is furthest from that point\n",
    "\n",
    "4. Repeat steps 2 - 3 until the cluster centroids don't change very much between iterations\n",
    "\n",
    "*Assign your answer to an object called `answer0_1`. Your answer should be a single numerical character surrounded by quotes.*"
   ]
  },
  {
   "cell_type": "code",
   "execution_count": null,
   "metadata": {
    "deletable": false,
    "nbgrader": {
     "cell_type": "code",
     "checksum": "521a09779823482304c1dea7e9f61e79",
     "grade": false,
     "grade_id": "cell-4c524a7e35eb23bb",
     "locked": false,
     "schema_version": 3,
     "solution": true
    }
   },
   "outputs": [],
   "source": [
    "# your code here\n",
    "raise NotImplementedError"
   ]
  },
  {
   "cell_type": "code",
   "execution_count": null,
   "metadata": {
    "deletable": false,
    "editable": false,
    "nbgrader": {
     "cell_type": "code",
     "checksum": "72e2393fbbde8d6115e1bb5cc5d5404f",
     "grade": true,
     "grade_id": "cell-4ac8aab3f8626a82",
     "locked": true,
     "points": 1,
     "schema_version": 3,
     "solution": false
    }
   },
   "outputs": [],
   "source": [
    "from hashlib import sha1\n",
    "assert sha1(str(type(answer0_1)).encode(\"utf-8\")+b\"82a97\").hexdigest() == \"8034346fc04a5025158904e93a65069d5c375995\", \"type of answer0_1 is not str. answer0_1 should be an str\"\n",
    "assert sha1(str(len(answer0_1)).encode(\"utf-8\")+b\"82a97\").hexdigest() == \"02e678e6143abd600cc82e54ead4bfcce627447a\", \"length of answer0_1 is not correct\"\n",
    "assert sha1(str(answer0_1.lower()).encode(\"utf-8\")+b\"82a97\").hexdigest() == \"425ee72e49a8c1b501806952dcce66faf3fc993e\", \"value of answer0_1 is not correct\"\n",
    "assert sha1(str(answer0_1).encode(\"utf-8\")+b\"82a97\").hexdigest() == \"425ee72e49a8c1b501806952dcce66faf3fc993e\", \"correct string value of answer0_1 but incorrect case of letters\"\n",
    "\n",
    "print('Success!')"
   ]
  },
  {
   "cell_type": "markdown",
   "metadata": {
    "deletable": false,
    "editable": false,
    "nbgrader": {
     "cell_type": "markdown",
     "checksum": "a82fcf4d840b36c74f8dd08e52acece2",
     "grade": false,
     "grade_id": "cell-3b5cd50b0518b4d1",
     "locked": true,
     "schema_version": 3,
     "solution": false,
     "task": false
    }
   },
   "source": [
    "## Hoppy Craft Beer\n",
    "\n",
    "Craft beer is a strong market in Canada and the US, and is expanding to other countries as well. If you wanted to get into the craft beer brewing market, you might want to better understand the product landscape. One popular craft beer product is hopped craft beer. Breweries create/label many different kinds of hopped craft beer, but how many different kinds of hopped craft beer are there really when you look at the chemical properties instead of the human labels? \n",
    "\n",
    "We will start to look at the question by looking at a [craft beer data set from Kaggle](https://www.kaggle.com/nickhould/craft-cans#beers.csv). In this data set, we will use the alcoholic content by volume  (`abv` column) and the International bittering units (`ibu` column) as variables to try to cluster the beers."
   ]
  },
  {
   "cell_type": "markdown",
   "metadata": {
    "deletable": false,
    "editable": false,
    "nbgrader": {
     "cell_type": "markdown",
     "checksum": "ad257945a043aa22f305f516a9eceb42",
     "grade": false,
     "grade_id": "cell-97bd85f0599a8d9d",
     "locked": true,
     "schema_version": 3,
     "solution": false,
     "task": false
    }
   },
   "source": [
    "**Question 1.0** \n",
    "<br> {points: 1}\n",
    "\n",
    "Read in the `beers.csv` data using `pd.read_csv` and assign it to an object called `beer`. The data is located within the `data/` folder. \n",
    "\n",
    "*Assign your dataframe answer to an object called `beer`.*"
   ]
  },
  {
   "cell_type": "code",
   "execution_count": null,
   "metadata": {
    "deletable": false,
    "nbgrader": {
     "cell_type": "code",
     "checksum": "fdb3daf32f1f64c3d9a4aef563814ddf",
     "grade": false,
     "grade_id": "cell-b15ec51dce472f41",
     "locked": false,
     "schema_version": 3,
     "solution": true
    }
   },
   "outputs": [],
   "source": [
    "# your code here\n",
    "raise NotImplementedError\n",
    "beer"
   ]
  },
  {
   "cell_type": "code",
   "execution_count": null,
   "metadata": {
    "deletable": false,
    "editable": false,
    "nbgrader": {
     "cell_type": "code",
     "checksum": "bd54a1a3a99396f8ebf47244451936dd",
     "grade": true,
     "grade_id": "cell-7afc19b7bc727fc8",
     "locked": true,
     "points": 1,
     "schema_version": 3,
     "solution": false
    }
   },
   "outputs": [],
   "source": [
    "from hashlib import sha1\n",
    "assert sha1(str(type(beer is None)).encode(\"utf-8\")+b\"40da8\").hexdigest() == \"e9d0d03451cc477133b5c016a02f39bd6405e587\", \"type of beer is None is not bool. beer is None should be a bool\"\n",
    "assert sha1(str(beer is None).encode(\"utf-8\")+b\"40da8\").hexdigest() == \"235e37b0003fd2388b31a01463c7bc6d81ed5a30\", \"boolean value of beer is None is not correct\"\n",
    "\n",
    "assert sha1(str(type(beer)).encode(\"utf-8\")+b\"40da9\").hexdigest() == \"afecbfd319f12a4cb99d762713269e8696903d57\", \"type of type(beer) is not correct\"\n",
    "\n",
    "assert sha1(str(type(beer.shape)).encode(\"utf-8\")+b\"40daa\").hexdigest() == \"7e32d9739be970472d2ded2799d8976efc2fa391\", \"type of beer.shape is not tuple. beer.shape should be a tuple\"\n",
    "assert sha1(str(len(beer.shape)).encode(\"utf-8\")+b\"40daa\").hexdigest() == \"2818d82a0d7f9a232da71acdcfd41116ccaa312d\", \"length of beer.shape is not correct\"\n",
    "assert sha1(str(sorted(map(str, beer.shape))).encode(\"utf-8\")+b\"40daa\").hexdigest() == \"5031994a359f1e90e232dec86ab92cb4cfb0cc83\", \"values of beer.shape are not correct\"\n",
    "assert sha1(str(beer.shape).encode(\"utf-8\")+b\"40daa\").hexdigest() == \"ec7ceaeb80b8b13bbf78b3f917ce167902ab1a57\", \"order of elements of beer.shape is not correct\"\n",
    "\n",
    "assert sha1(str(type(\"abv\" in beer.columns)).encode(\"utf-8\")+b\"40dab\").hexdigest() == \"d955d0f8d8e3dad502f6998f7fcc2fa50212ef7b\", \"type of \\\"abv\\\" in beer.columns is not bool. \\\"abv\\\" in beer.columns should be a bool\"\n",
    "assert sha1(str(\"abv\" in beer.columns).encode(\"utf-8\")+b\"40dab\").hexdigest() == \"3d2d3de0290c13557773bb0ec089ce7f41ba5ad9\", \"boolean value of \\\"abv\\\" in beer.columns is not correct\"\n",
    "\n",
    "assert sha1(str(type(\"ibu\" in beer.columns)).encode(\"utf-8\")+b\"40dac\").hexdigest() == \"fc110558721867896f5d849472c905bcd88e2f2a\", \"type of \\\"ibu\\\" in beer.columns is not bool. \\\"ibu\\\" in beer.columns should be a bool\"\n",
    "assert sha1(str(\"ibu\" in beer.columns).encode(\"utf-8\")+b\"40dac\").hexdigest() == \"247d517c25447b5f38a4a23c15da9212fec96d82\", \"boolean value of \\\"ibu\\\" in beer.columns is not correct\"\n",
    "\n",
    "assert sha1(str(type(\"id\" in beer.columns)).encode(\"utf-8\")+b\"40dad\").hexdigest() == \"232a00371b94689a3c9ec2f8c0dea049a6e24121\", \"type of \\\"id\\\" in beer.columns is not bool. \\\"id\\\" in beer.columns should be a bool\"\n",
    "assert sha1(str(\"id\" in beer.columns).encode(\"utf-8\")+b\"40dad\").hexdigest() == \"0fe3c3ea002de66099d7e5501197ca606a38c23d\", \"boolean value of \\\"id\\\" in beer.columns is not correct\"\n",
    "\n",
    "assert sha1(str(type(\"name\" in beer.columns)).encode(\"utf-8\")+b\"40dae\").hexdigest() == \"89a87a13af7752fd54f46c90159329fea6e2a4e0\", \"type of \\\"name\\\" in beer.columns is not bool. \\\"name\\\" in beer.columns should be a bool\"\n",
    "assert sha1(str(\"name\" in beer.columns).encode(\"utf-8\")+b\"40dae\").hexdigest() == \"07a5f1c33cd88dca25386187d50890b52a428478\", \"boolean value of \\\"name\\\" in beer.columns is not correct\"\n",
    "\n",
    "assert sha1(str(type(\"style\" in beer.columns)).encode(\"utf-8\")+b\"40daf\").hexdigest() == \"51239a71e15d6f71f4aa528f7aae84c3982e717b\", \"type of \\\"style\\\" in beer.columns is not bool. \\\"style\\\" in beer.columns should be a bool\"\n",
    "assert sha1(str(\"style\" in beer.columns).encode(\"utf-8\")+b\"40daf\").hexdigest() == \"7146d6524d28c76cf0708a436c1816cc6e774493\", \"boolean value of \\\"style\\\" in beer.columns is not correct\"\n",
    "\n",
    "assert sha1(str(type(\"brewery_id\" in beer.columns)).encode(\"utf-8\")+b\"40db0\").hexdigest() == \"60c5b5fa03fe0f6c662f826e9a6f4d2ca84d4217\", \"type of \\\"brewery_id\\\" in beer.columns is not bool. \\\"brewery_id\\\" in beer.columns should be a bool\"\n",
    "assert sha1(str(\"brewery_id\" in beer.columns).encode(\"utf-8\")+b\"40db0\").hexdigest() == \"697ac2a1d717b730c16cc024acd4c0ba8b5b352b\", \"boolean value of \\\"brewery_id\\\" in beer.columns is not correct\"\n",
    "\n",
    "assert sha1(str(type(\"ounces\" in beer.columns)).encode(\"utf-8\")+b\"40db1\").hexdigest() == \"9d362298d96e15fef7b9de5df161cbb915011a51\", \"type of \\\"ounces\\\" in beer.columns is not bool. \\\"ounces\\\" in beer.columns should be a bool\"\n",
    "assert sha1(str(\"ounces\" in beer.columns).encode(\"utf-8\")+b\"40db1\").hexdigest() == \"cc59ab6c0214ebdc144b9ac6c854cc0810ce88c8\", \"boolean value of \\\"ounces\\\" in beer.columns is not correct\"\n",
    "\n",
    "print('Success!')"
   ]
  },
  {
   "cell_type": "markdown",
   "metadata": {
    "deletable": false,
    "editable": false,
    "nbgrader": {
     "cell_type": "markdown",
     "checksum": "98e3ca3260da4165ed38c279f6bf3145",
     "grade": false,
     "grade_id": "cell-eaefcd87f19fdf96",
     "locked": true,
     "schema_version": 3,
     "solution": false,
     "task": false
    }
   },
   "source": [
    "**Question 1.1**\n",
    "<br> {points: 1}\n",
    "\n",
    "Let's start by visualizing the variables we are going to use in our cluster analysis as a scatter plot. Put `ibu` on the horizontal axis, and `abv` on the vertical axis. Name the plot object `beer_scatter`. \n",
    "\n",
    "*Remember to follow the best visualization practices, including adding human-readable labels to your plot.*"
   ]
  },
  {
   "cell_type": "code",
   "execution_count": null,
   "metadata": {
    "deletable": false,
    "nbgrader": {
     "cell_type": "code",
     "checksum": "bf829402ecd0680df98e706fd404f8da",
     "grade": false,
     "grade_id": "cell-685ad4bcdc753cbf",
     "locked": false,
     "schema_version": 3,
     "solution": true
    }
   },
   "outputs": [],
   "source": [
    "# your code here\n",
    "raise NotImplementedError\n",
    "beer_scatter"
   ]
  },
  {
   "cell_type": "code",
   "execution_count": null,
   "metadata": {
    "deletable": false,
    "editable": false,
    "nbgrader": {
     "cell_type": "code",
     "checksum": "17a546abef6153aa35ae57568eafa8fb",
     "grade": true,
     "grade_id": "cell-a38c885f90300a1b",
     "locked": true,
     "points": 1,
     "schema_version": 3,
     "solution": false
    }
   },
   "outputs": [],
   "source": [
    "from hashlib import sha1\n",
    "assert sha1(str(type(beer_scatter is None)).encode(\"utf-8\")+b\"6b06a\").hexdigest() == \"8ebfd35cf3c5044022191902c0b33bd03a9bc30a\", \"type of beer_scatter is None is not bool. beer_scatter is None should be a bool\"\n",
    "assert sha1(str(beer_scatter is None).encode(\"utf-8\")+b\"6b06a\").hexdigest() == \"b99280d34ca94e8c8cfeecf4ca49b15a7ab2e323\", \"boolean value of beer_scatter is None is not correct\"\n",
    "\n",
    "assert sha1(str(type(beer_scatter.encoding.x['shorthand'])).encode(\"utf-8\")+b\"6b06b\").hexdigest() == \"4cc4f559707e8b76def7fed235062b5b633c6613\", \"type of beer_scatter.encoding.x['shorthand'] is not str. beer_scatter.encoding.x['shorthand'] should be an str\"\n",
    "assert sha1(str(len(beer_scatter.encoding.x['shorthand'])).encode(\"utf-8\")+b\"6b06b\").hexdigest() == \"5ba0b99653b7af13f5170a2eac811fda552e1d59\", \"length of beer_scatter.encoding.x['shorthand'] is not correct\"\n",
    "assert sha1(str(beer_scatter.encoding.x['shorthand'].lower()).encode(\"utf-8\")+b\"6b06b\").hexdigest() == \"ad99ce92ee87d0c22ca0ec53441b99ffae96cf3c\", \"value of beer_scatter.encoding.x['shorthand'] is not correct\"\n",
    "assert sha1(str(beer_scatter.encoding.x['shorthand']).encode(\"utf-8\")+b\"6b06b\").hexdigest() == \"ad99ce92ee87d0c22ca0ec53441b99ffae96cf3c\", \"correct string value of beer_scatter.encoding.x['shorthand'] but incorrect case of letters\"\n",
    "\n",
    "assert sha1(str(type(beer_scatter.encoding.y['shorthand'])).encode(\"utf-8\")+b\"6b06c\").hexdigest() == \"1bbc5f29cf2eb7ea9c6080f0497ae92fd456441c\", \"type of beer_scatter.encoding.y['shorthand'] is not str. beer_scatter.encoding.y['shorthand'] should be an str\"\n",
    "assert sha1(str(len(beer_scatter.encoding.y['shorthand'])).encode(\"utf-8\")+b\"6b06c\").hexdigest() == \"a4735725978017be483c730d348d947e2dcd08da\", \"length of beer_scatter.encoding.y['shorthand'] is not correct\"\n",
    "assert sha1(str(beer_scatter.encoding.y['shorthand'].lower()).encode(\"utf-8\")+b\"6b06c\").hexdigest() == \"27bc83834b5b4a9b163d991f18b7f6362442ede3\", \"value of beer_scatter.encoding.y['shorthand'] is not correct\"\n",
    "assert sha1(str(beer_scatter.encoding.y['shorthand']).encode(\"utf-8\")+b\"6b06c\").hexdigest() == \"27bc83834b5b4a9b163d991f18b7f6362442ede3\", \"correct string value of beer_scatter.encoding.y['shorthand'] but incorrect case of letters\"\n",
    "\n",
    "assert sha1(str(type(beer_scatter.mark.type in ['circle', 'point'])).encode(\"utf-8\")+b\"6b06d\").hexdigest() == \"5b4cec4cda9f19d19b7626bee6420dbbce623384\", \"type of beer_scatter.mark.type in ['circle', 'point'] is not bool. beer_scatter.mark.type in ['circle', 'point'] should be a bool\"\n",
    "assert sha1(str(beer_scatter.mark.type in ['circle', 'point']).encode(\"utf-8\")+b\"6b06d\").hexdigest() == \"6f7ae091c05aad1bed1b3ae7c4bed9df356ba992\", \"boolean value of beer_scatter.mark.type in ['circle', 'point'] is not correct\"\n",
    "\n",
    "assert sha1(str(type('opacity' in beer_scatter.mark.to_dict())).encode(\"utf-8\")+b\"6b06e\").hexdigest() == \"0bf40c79ee4c569047919097c6b948e00a10b69c\", \"type of 'opacity' in beer_scatter.mark.to_dict() is not bool. 'opacity' in beer_scatter.mark.to_dict() should be a bool\"\n",
    "assert sha1(str('opacity' in beer_scatter.mark.to_dict()).encode(\"utf-8\")+b\"6b06e\").hexdigest() == \"27afee17e220c10defadc02822ffa8a38825716c\", \"boolean value of 'opacity' in beer_scatter.mark.to_dict() is not correct\"\n",
    "\n",
    "assert sha1(str(type(isinstance(beer_scatter.encoding.x['title'], str))).encode(\"utf-8\")+b\"6b06f\").hexdigest() == \"693c2f027fd47d0705cdd2fe3ea345d887dc4791\", \"type of isinstance(beer_scatter.encoding.x['title'], str) is not bool. isinstance(beer_scatter.encoding.x['title'], str) should be a bool\"\n",
    "assert sha1(str(isinstance(beer_scatter.encoding.x['title'], str)).encode(\"utf-8\")+b\"6b06f\").hexdigest() == \"112e69d07d97d9733a678c0c0e940afd87f4c644\", \"boolean value of isinstance(beer_scatter.encoding.x['title'], str) is not correct\"\n",
    "\n",
    "assert sha1(str(type(isinstance(beer_scatter.encoding.y['title'], str))).encode(\"utf-8\")+b\"6b070\").hexdigest() == \"338fcc89728e0f2d3b0900624e726f6c315f85b4\", \"type of isinstance(beer_scatter.encoding.y['title'], str) is not bool. isinstance(beer_scatter.encoding.y['title'], str) should be a bool\"\n",
    "assert sha1(str(isinstance(beer_scatter.encoding.y['title'], str)).encode(\"utf-8\")+b\"6b070\").hexdigest() == \"c78fccf820e60cba84bdd2e0b9c43d470ef8631f\", \"boolean value of isinstance(beer_scatter.encoding.y['title'], str) is not correct\"\n",
    "\n",
    "print('Success!')"
   ]
  },
  {
   "cell_type": "markdown",
   "metadata": {
    "deletable": false,
    "editable": false,
    "nbgrader": {
     "cell_type": "markdown",
     "checksum": "e82bb63dbe071d7818eaeda39ccac782",
     "grade": false,
     "grade_id": "cell-4826275eec3db51a",
     "locked": true,
     "schema_version": 3,
     "solution": false,
     "task": false
    }
   },
   "source": [
    "**Question 1.2**\n",
    "<br> {points: 1}\n",
    "\n",
    "KMeans clustering in scikit learn does not handle missing value. Therefore, we need to drop any rows that contain missing values in the columns we are using in the clustering, which are `ibu` and `abv`. Remember that you can use the `subset` parameter with `dropna` to specify which column to look at.\n",
    "\n",
    "Do not select/drop any columns at this point, only remove rows that contain missing values in the columns `ibu` and `abv`.\n",
    "\n",
    "*Assign your answer to an object named `clean_beer`.*"
   ]
  },
  {
   "cell_type": "code",
   "execution_count": null,
   "metadata": {
    "deletable": false,
    "nbgrader": {
     "cell_type": "code",
     "checksum": "b23517fff612dc02967d60d62eeca7b1",
     "grade": false,
     "grade_id": "cell-77a1b2827a0e31a3",
     "locked": false,
     "schema_version": 3,
     "solution": true
    }
   },
   "outputs": [],
   "source": [
    "# your code here\n",
    "raise NotImplementedError\n",
    "clean_beer"
   ]
  },
  {
   "cell_type": "code",
   "execution_count": null,
   "metadata": {
    "deletable": false,
    "editable": false,
    "nbgrader": {
     "cell_type": "code",
     "checksum": "8e783a26a4b0c3cda12f330ba76148ab",
     "grade": true,
     "grade_id": "cell-1ed1c760a10e3e9d",
     "locked": true,
     "points": 1,
     "schema_version": 3,
     "solution": false
    }
   },
   "outputs": [],
   "source": [
    "from hashlib import sha1\n",
    "assert sha1(str(type(clean_beer is None)).encode(\"utf-8\")+b\"c4b8\").hexdigest() == \"480fcad34c74f46fbdd71da8909c23172679e435\", \"type of clean_beer is None is not bool. clean_beer is None should be a bool\"\n",
    "assert sha1(str(clean_beer is None).encode(\"utf-8\")+b\"c4b8\").hexdigest() == \"73f7357684819de264f1cc5f8fb9962ca02ccc5f\", \"boolean value of clean_beer is None is not correct\"\n",
    "\n",
    "assert sha1(str(type(clean_beer)).encode(\"utf-8\")+b\"c4b9\").hexdigest() == \"86b9b2e78e6e3550ac4cdb8b39103713bd4ad832\", \"type of type(clean_beer) is not correct\"\n",
    "\n",
    "assert sha1(str(type(clean_beer.shape)).encode(\"utf-8\")+b\"c4ba\").hexdigest() == \"cea5677bec57fa50031b5f7daab79395ef4ac9a9\", \"type of clean_beer.shape is not tuple. clean_beer.shape should be a tuple\"\n",
    "assert sha1(str(len(clean_beer.shape)).encode(\"utf-8\")+b\"c4ba\").hexdigest() == \"e6689454fde3fc3aa58fe35d3c7b61eaaf9738af\", \"length of clean_beer.shape is not correct\"\n",
    "assert sha1(str(sorted(map(str, clean_beer.shape))).encode(\"utf-8\")+b\"c4ba\").hexdigest() == \"f3208063b7ef32fc574a79e1db286e3e40b6be66\", \"values of clean_beer.shape are not correct\"\n",
    "assert sha1(str(clean_beer.shape).encode(\"utf-8\")+b\"c4ba\").hexdigest() == \"534d4e262f07dbde1d08d5ee6e48abf20841824a\", \"order of elements of clean_beer.shape is not correct\"\n",
    "\n",
    "assert sha1(str(type(\"abv\" in clean_beer.columns)).encode(\"utf-8\")+b\"c4bb\").hexdigest() == \"3809fe15b34018a5c2b14837a4f844f2f9346d28\", \"type of \\\"abv\\\" in clean_beer.columns is not bool. \\\"abv\\\" in clean_beer.columns should be a bool\"\n",
    "assert sha1(str(\"abv\" in clean_beer.columns).encode(\"utf-8\")+b\"c4bb\").hexdigest() == \"562561b2c38aea3684451be88849867e1a0b6768\", \"boolean value of \\\"abv\\\" in clean_beer.columns is not correct\"\n",
    "\n",
    "assert sha1(str(type(\"ibu\" in clean_beer.columns)).encode(\"utf-8\")+b\"c4bc\").hexdigest() == \"aab14dc4a36b132d5b24238348833bd222d5ad38\", \"type of \\\"ibu\\\" in clean_beer.columns is not bool. \\\"ibu\\\" in clean_beer.columns should be a bool\"\n",
    "assert sha1(str(\"ibu\" in clean_beer.columns).encode(\"utf-8\")+b\"c4bc\").hexdigest() == \"889a9b9901f2fe389721e8e2b1ca40336175d756\", \"boolean value of \\\"ibu\\\" in clean_beer.columns is not correct\"\n",
    "\n",
    "assert sha1(str(type(\"id\" in clean_beer.columns)).encode(\"utf-8\")+b\"c4bd\").hexdigest() == \"315085d59e6526365912f554aa1dde7c7f173330\", \"type of \\\"id\\\" in clean_beer.columns is not bool. \\\"id\\\" in clean_beer.columns should be a bool\"\n",
    "assert sha1(str(\"id\" in clean_beer.columns).encode(\"utf-8\")+b\"c4bd\").hexdigest() == \"b3a09f8c28eb4d939bbfbba42a098a1704f1df44\", \"boolean value of \\\"id\\\" in clean_beer.columns is not correct\"\n",
    "\n",
    "assert sha1(str(type(\"name\" in clean_beer.columns)).encode(\"utf-8\")+b\"c4be\").hexdigest() == \"23e9dfc3438fffd6405809329d62b99e823e9e30\", \"type of \\\"name\\\" in clean_beer.columns is not bool. \\\"name\\\" in clean_beer.columns should be a bool\"\n",
    "assert sha1(str(\"name\" in clean_beer.columns).encode(\"utf-8\")+b\"c4be\").hexdigest() == \"2854cb139ee20304f88381bb414befce657f4916\", \"boolean value of \\\"name\\\" in clean_beer.columns is not correct\"\n",
    "\n",
    "assert sha1(str(type(\"style\" in clean_beer.columns)).encode(\"utf-8\")+b\"c4bf\").hexdigest() == \"526b46e9b171046a2e35f4350d0a328eff8c8f94\", \"type of \\\"style\\\" in clean_beer.columns is not bool. \\\"style\\\" in clean_beer.columns should be a bool\"\n",
    "assert sha1(str(\"style\" in clean_beer.columns).encode(\"utf-8\")+b\"c4bf\").hexdigest() == \"947f539c31b488bc0a63c31ed6306f490d7ffb6e\", \"boolean value of \\\"style\\\" in clean_beer.columns is not correct\"\n",
    "\n",
    "assert sha1(str(type(\"brewery_id\" in clean_beer.columns)).encode(\"utf-8\")+b\"c4c0\").hexdigest() == \"09ed6122014b14b8174e2aab1a5c8cae2f2f47b0\", \"type of \\\"brewery_id\\\" in clean_beer.columns is not bool. \\\"brewery_id\\\" in clean_beer.columns should be a bool\"\n",
    "assert sha1(str(\"brewery_id\" in clean_beer.columns).encode(\"utf-8\")+b\"c4c0\").hexdigest() == \"f87d60798b79263f2eb4d537fd57bb5f941abaaa\", \"boolean value of \\\"brewery_id\\\" in clean_beer.columns is not correct\"\n",
    "\n",
    "assert sha1(str(type(\"ounces\" in clean_beer.columns)).encode(\"utf-8\")+b\"c4c1\").hexdigest() == \"93210b3a94eb122fb520fbdbfa3c91b983a20ffe\", \"type of \\\"ounces\\\" in clean_beer.columns is not bool. \\\"ounces\\\" in clean_beer.columns should be a bool\"\n",
    "assert sha1(str(\"ounces\" in clean_beer.columns).encode(\"utf-8\")+b\"c4c1\").hexdigest() == \"0bbfdb90f12fddf643be98768b002196d108a969\", \"boolean value of \\\"ounces\\\" in clean_beer.columns is not correct\"\n",
    "\n",
    "print('Success!')"
   ]
  },
  {
   "cell_type": "markdown",
   "metadata": {
    "deletable": false,
    "editable": false,
    "nbgrader": {
     "cell_type": "markdown",
     "checksum": "ae748129080a5a39ddc0a1a56e9d474e",
     "grade": false,
     "grade_id": "cell-98c23f6aa556be8b",
     "locked": true,
     "schema_version": 3,
     "solution": false,
     "task": false
    }
   },
   "source": [
    "**Question 1.3**\n",
    "<br>{points: 1}\n",
    "\n",
    "Why do we need to scale the variables when using k-means clustering?\n",
    "\n",
    "A. k-means uses the Euclidean distance to compute how similar data points are to each cluster centre\n",
    "\n",
    "B. k-means is an iterative algorithm\n",
    "\n",
    "C. Some variables might be more important for prediction than others\n",
    "\n",
    "D. To make sure their mean is 0\n",
    "\n",
    "*Assign your answer to an object named `answer1_3`. Make sure your answer is a single upper-case character surrounded by quotes.*"
   ]
  },
  {
   "cell_type": "code",
   "execution_count": null,
   "metadata": {
    "deletable": false,
    "nbgrader": {
     "cell_type": "code",
     "checksum": "3a356511c5f324fe6e30184a6682e2a6",
     "grade": false,
     "grade_id": "cell-dabeb5fe0dacbc55",
     "locked": false,
     "schema_version": 3,
     "solution": true,
     "task": false
    }
   },
   "outputs": [],
   "source": [
    "# your code here\n",
    "raise NotImplementedError"
   ]
  },
  {
   "cell_type": "code",
   "execution_count": null,
   "metadata": {
    "deletable": false,
    "editable": false,
    "nbgrader": {
     "cell_type": "code",
     "checksum": "a97bcd87efbcd16f2e94d8f74f8927c5",
     "grade": true,
     "grade_id": "cell-cee046b5d47ebb72",
     "locked": true,
     "points": 1,
     "schema_version": 3,
     "solution": false,
     "task": false
    }
   },
   "outputs": [],
   "source": [
    "from hashlib import sha1\n",
    "assert sha1(str(type(answer1_3)).encode(\"utf-8\")+b\"192fd\").hexdigest() == \"42533281d68c4a39cc4389b33b3aee5eacf26931\", \"type of answer1_3 is not str. answer1_3 should be an str\"\n",
    "assert sha1(str(len(answer1_3)).encode(\"utf-8\")+b\"192fd\").hexdigest() == \"5ecc81cf4ef398811d02905e0cfd8b753e0d03f0\", \"length of answer1_3 is not correct\"\n",
    "assert sha1(str(answer1_3.lower()).encode(\"utf-8\")+b\"192fd\").hexdigest() == \"452f1d6ad756f58ae94fdfcccbd70e3258dee2d2\", \"value of answer1_3 is not correct\"\n",
    "assert sha1(str(answer1_3).encode(\"utf-8\")+b\"192fd\").hexdigest() == \"f5ac619b6f5dc2af08fb6f0296ab198a9f611053\", \"correct string value of answer1_3 but incorrect case of letters\"\n",
    "\n",
    "print('Success!')"
   ]
  },
  {
   "cell_type": "markdown",
   "metadata": {
    "deletable": false,
    "editable": false,
    "nbgrader": {
     "cell_type": "markdown",
     "checksum": "e7895db76075f7b0142189397da2b6e8",
     "grade": false,
     "grade_id": "cell-b44ed52f8fdc5336",
     "locked": true,
     "schema_version": 3,
     "solution": false,
     "task": false
    }
   },
   "source": [
    "**Question 1.4**\n",
    "<br> {points: 1}\n",
    "\n",
    "Let's setup that scaling now. Use `make_column_transformer` to specify that we want to apply a `StandardScaler()` to the columns `ibu` and `abv` (in that order), and that we want to drop any other columns.\n",
    "\n",
    "*Assign your answer to an object named `beer_preprocessor`. Use the scaffolding provided.*"
   ]
  },
  {
   "cell_type": "code",
   "execution_count": null,
   "metadata": {
    "deletable": false,
    "nbgrader": {
     "cell_type": "code",
     "checksum": "a9d81aac9ff846cfbf8129744068e2b4",
     "grade": false,
     "grade_id": "cell-db7d5a769e2ede77",
     "locked": false,
     "schema_version": 3,
     "solution": true
    }
   },
   "outputs": [],
   "source": [
    "# ___ = ___(\n",
    "#     (___(), [___, ___]),\n",
    "#     ___='drop',\n",
    "#     verbose_feature_names_out=False,\n",
    "# )\n",
    "\n",
    "# your code here\n",
    "raise NotImplementedError\n",
    "beer_preprocessor"
   ]
  },
  {
   "cell_type": "code",
   "execution_count": null,
   "metadata": {
    "deletable": false,
    "editable": false,
    "nbgrader": {
     "cell_type": "code",
     "checksum": "ce2a18ff444c7738d6eb88b8a8e16104",
     "grade": true,
     "grade_id": "cell-f4fa609002e00099",
     "locked": true,
     "points": 1,
     "schema_version": 3,
     "solution": false
    }
   },
   "outputs": [],
   "source": [
    "from hashlib import sha1\n",
    "assert sha1(str(type(beer_preprocessor is None)).encode(\"utf-8\")+b\"94899\").hexdigest() == \"dee1be6bf1dab70a791c94989123500ebb89304c\", \"type of beer_preprocessor is None is not bool. beer_preprocessor is None should be a bool\"\n",
    "assert sha1(str(beer_preprocessor is None).encode(\"utf-8\")+b\"94899\").hexdigest() == \"eeae56513015fc67582a1918d8c3d79e6a73eb53\", \"boolean value of beer_preprocessor is None is not correct\"\n",
    "\n",
    "assert sha1(str(type(type(beer_preprocessor))).encode(\"utf-8\")+b\"9489a\").hexdigest() == \"17deafc553d0bd74566455aba457f41fdfb8424b\", \"type of type(beer_preprocessor) is not correct\"\n",
    "assert sha1(str(type(beer_preprocessor)).encode(\"utf-8\")+b\"9489a\").hexdigest() == \"62cbcfe57e34d77e7dabff17de99cc6877d88f65\", \"value of type(beer_preprocessor) is not correct\"\n",
    "\n",
    "assert sha1(str(type(beer_preprocessor.get_feature_names_out)).encode(\"utf-8\")+b\"9489b\").hexdigest() == \"b154f86e2ec2da41c0d00ffb36ed584e6e0ae0cc\", \"type of beer_preprocessor.get_feature_names_out is not correct\"\n",
    "assert sha1(str(beer_preprocessor.get_feature_names_out).encode(\"utf-8\")+b\"9489b\").hexdigest() == \"ec3854bd9ea426d03855187fb4b4e38a8fbaddf8\", \"value of beer_preprocessor.get_feature_names_out is not correct\"\n",
    "\n",
    "print('Success!')"
   ]
  },
  {
   "cell_type": "markdown",
   "metadata": {
    "deletable": false,
    "editable": false,
    "nbgrader": {
     "cell_type": "markdown",
     "checksum": "6b086a7705ad7c51b91976f5e2ab98d3",
     "grade": false,
     "grade_id": "cell-8c5a413f54e55216",
     "locked": true,
     "schema_version": 3,
     "solution": false,
     "task": false
    }
   },
   "source": [
    "**Question 1.5**\n",
    "<br> {points: 1}\n",
    "\n",
    "The next step in our clustering workflow is to create a model that specifies how we want to cluster the data. From our exploratory data visualization, it seems like we will start simple with only 2 clusters. Use the `KMeans` function with `n_clusters=2` to perform clustering with this choice of K. \n",
    "\n",
    "*Assign your model to an object named `beer_cluster_k2`. Note that since k-means uses a random initialization, we need to set the random_state; don't change the value!*"
   ]
  },
  {
   "cell_type": "code",
   "execution_count": null,
   "metadata": {
    "deletable": false,
    "nbgrader": {
     "cell_type": "code",
     "checksum": "4b4b279287560dc9ff36f735ad8d2b65",
     "grade": false,
     "grade_id": "cell-59fd6cac5b722485",
     "locked": false,
     "schema_version": 3,
     "solution": true
    }
   },
   "outputs": [],
   "source": [
    "# ___ = KMeans(n_clusters=2, random_state=1234)  # Don't change the random_state value\n",
    "\n",
    "# your code here\n",
    "raise NotImplementedError\n",
    "beer_cluster_k2"
   ]
  },
  {
   "cell_type": "code",
   "execution_count": null,
   "metadata": {
    "deletable": false,
    "editable": false,
    "nbgrader": {
     "cell_type": "code",
     "checksum": "64142f378356cc4c69401bc11babc35a",
     "grade": true,
     "grade_id": "cell-b9995d961e6abdd4",
     "locked": true,
     "points": 1,
     "schema_version": 3,
     "solution": false
    }
   },
   "outputs": [],
   "source": [
    "from hashlib import sha1\n",
    "assert sha1(str(type(type(beer_cluster_k2))).encode(\"utf-8\")+b\"9d58\").hexdigest() == \"c5039429b772e8a8f1c06475c11e660220fbfac3\", \"type of type(beer_cluster_k2) is not correct\"\n",
    "assert sha1(str(type(beer_cluster_k2)).encode(\"utf-8\")+b\"9d58\").hexdigest() == \"ae2e63e6861fb4a2852fab7a5b41ef5195f950cf\", \"value of type(beer_cluster_k2) is not correct\"\n",
    "\n",
    "assert sha1(str(type(beer_cluster_k2.n_clusters)).encode(\"utf-8\")+b\"9d59\").hexdigest() == \"a533da429741df7bfb5bccebea347e4029522eee\", \"type of beer_cluster_k2.n_clusters is not int. Please make sure it is int and not np.int64, etc. You can cast your value into an int using int()\"\n",
    "assert sha1(str(beer_cluster_k2.n_clusters).encode(\"utf-8\")+b\"9d59\").hexdigest() == \"8067a57cb3c353b9906592008f625a45f54f9d00\", \"value of beer_cluster_k2.n_clusters is not correct\"\n",
    "\n",
    "print('Success!')"
   ]
  },
  {
   "cell_type": "markdown",
   "metadata": {
    "deletable": false,
    "editable": false,
    "nbgrader": {
     "cell_type": "markdown",
     "checksum": "a30fcc0c8efdb6aa6a3280f3d81ff649",
     "grade": false,
     "grade_id": "cell-8f40f7466f1af319",
     "locked": true,
     "schema_version": 3,
     "solution": false,
     "task": false
    }
   },
   "source": [
    "**Question 1.6**\n",
    "<br> {points: 1}\n",
    "\n",
    "Combine the preprocessor and model specification into a pipeline, and fit the pipeline on the `clean_beer` data.\n",
    "\n",
    "*Assign your model to an object named beer_pipe.*"
   ]
  },
  {
   "cell_type": "code",
   "execution_count": null,
   "metadata": {
    "deletable": false,
    "nbgrader": {
     "cell_type": "code",
     "checksum": "944b9d2012336cfcefc59549fec1297a",
     "grade": false,
     "grade_id": "cell-0e9e69241f6ca49f",
     "locked": false,
     "schema_version": 3,
     "solution": true,
     "task": false
    }
   },
   "outputs": [],
   "source": [
    "# your code here\n",
    "raise NotImplementedError"
   ]
  },
  {
   "cell_type": "code",
   "execution_count": null,
   "metadata": {
    "deletable": false,
    "editable": false,
    "nbgrader": {
     "cell_type": "code",
     "checksum": "369d17f23aacdc96ce751377b75588b6",
     "grade": true,
     "grade_id": "cell-b591dcea6f451d18",
     "locked": true,
     "points": 1,
     "schema_version": 3,
     "solution": false,
     "task": false
    }
   },
   "outputs": [],
   "source": [
    "from hashlib import sha1\n",
    "assert sha1(str(type(beer_pipe is None)).encode(\"utf-8\")+b\"353c\").hexdigest() == \"cfb1fec4933fef07d18484bffda7af0cf000ca8e\", \"type of beer_pipe is None is not bool. beer_pipe is None should be a bool\"\n",
    "assert sha1(str(beer_pipe is None).encode(\"utf-8\")+b\"353c\").hexdigest() == \"965273f07c4edcc4ce63a7dafa38e789fbe4c4c2\", \"boolean value of beer_pipe is None is not correct\"\n",
    "\n",
    "assert sha1(str(type(type(beer_pipe))).encode(\"utf-8\")+b\"353d\").hexdigest() == \"dbe0f4247b7ecc2b43502195e42508c5426fb2e9\", \"type of type(beer_pipe) is not correct\"\n",
    "assert sha1(str(type(beer_pipe)).encode(\"utf-8\")+b\"353d\").hexdigest() == \"fc3ba13116b6703e6dedcbc51577ae02a936feb4\", \"value of type(beer_pipe) is not correct\"\n",
    "\n",
    "assert sha1(str(type(beer_pipe.named_steps.kmeans.n_clusters)).encode(\"utf-8\")+b\"353e\").hexdigest() == \"52ba06d9850a72748654987c18a05ce3f3d386f9\", \"type of beer_pipe.named_steps.kmeans.n_clusters is not int. Please make sure it is int and not np.int64, etc. You can cast your value into an int using int()\"\n",
    "assert sha1(str(beer_pipe.named_steps.kmeans.n_clusters).encode(\"utf-8\")+b\"353e\").hexdigest() == \"fd20a9506a96ab87ba2b75a2ca4988ef6bd8a479\", \"value of beer_pipe.named_steps.kmeans.n_clusters is not correct\"\n",
    "\n",
    "print('Success!')"
   ]
  },
  {
   "cell_type": "markdown",
   "metadata": {
    "deletable": false,
    "editable": false,
    "nbgrader": {
     "cell_type": "markdown",
     "checksum": "c1170fec768f3f44eb45c692967f5140",
     "grade": false,
     "grade_id": "cell-b40335391796b8bc",
     "locked": true,
     "schema_version": 3,
     "solution": false,
     "task": false
    }
   },
   "source": [
    "**Question 1.7**\n",
    "<br> {points: 1}\n",
    "\n",
    "Use the `labels_` attribute of KMeans model inside `beer_pipe` to get the cluster assignment for each point in the `clean_beer` data. Create a new dataframe called `clustered_beer` and assign the cluster labels to a column named `cluster`. "
   ]
  },
  {
   "cell_type": "code",
   "execution_count": null,
   "metadata": {
    "deletable": false,
    "nbgrader": {
     "cell_type": "code",
     "checksum": "a76bdeb5f4484c48fd4ab3e9d8320ef8",
     "grade": false,
     "grade_id": "cell-09a5a07201a2f1e3",
     "locked": false,
     "schema_version": 3,
     "solution": true
    }
   },
   "outputs": [],
   "source": [
    "# ___ = ___.assign(\n",
    "#     cluster=___[1].___  # The KMeans model is in the second position of the pipeline\n",
    "# )\n",
    "\n",
    "# your code here\n",
    "raise NotImplementedError\n",
    "clustered_beer"
   ]
  },
  {
   "cell_type": "code",
   "execution_count": null,
   "metadata": {
    "deletable": false,
    "editable": false,
    "nbgrader": {
     "cell_type": "code",
     "checksum": "ee55da41dd7762f6c09b0f42608cf913",
     "grade": true,
     "grade_id": "cell-46d87f5ee36a932c",
     "locked": true,
     "points": 1,
     "schema_version": 3,
     "solution": false
    }
   },
   "outputs": [],
   "source": [
    "from hashlib import sha1\n",
    "assert sha1(str(type(\"abv\" in clustered_beer.columns)).encode(\"utf-8\")+b\"5cc4c\").hexdigest() == \"bf2ec00dba68ffa14b4bd13ca4759b57b2df60d8\", \"type of \\\"abv\\\" in clustered_beer.columns is not bool. \\\"abv\\\" in clustered_beer.columns should be a bool\"\n",
    "assert sha1(str(\"abv\" in clustered_beer.columns).encode(\"utf-8\")+b\"5cc4c\").hexdigest() == \"02a30480a84c326b508a55a900cb33c7d752d6a6\", \"boolean value of \\\"abv\\\" in clustered_beer.columns is not correct\"\n",
    "\n",
    "assert sha1(str(type(\"ibu\" in clustered_beer.columns)).encode(\"utf-8\")+b\"5cc4d\").hexdigest() == \"7d2621ad58c2f747a375a160d9babce349114ee6\", \"type of \\\"ibu\\\" in clustered_beer.columns is not bool. \\\"ibu\\\" in clustered_beer.columns should be a bool\"\n",
    "assert sha1(str(\"ibu\" in clustered_beer.columns).encode(\"utf-8\")+b\"5cc4d\").hexdigest() == \"5d90441b68211000bc2199ff640c294a65818283\", \"boolean value of \\\"ibu\\\" in clustered_beer.columns is not correct\"\n",
    "\n",
    "assert sha1(str(type(\"cluster\" in clustered_beer.columns)).encode(\"utf-8\")+b\"5cc4e\").hexdigest() == \"4bbb5dabcc88afeed3112acb4259c86b7910fc07\", \"type of \\\"cluster\\\" in clustered_beer.columns is not bool. \\\"cluster\\\" in clustered_beer.columns should be a bool\"\n",
    "assert sha1(str(\"cluster\" in clustered_beer.columns).encode(\"utf-8\")+b\"5cc4e\").hexdigest() == \"a3d237975e6db99a1868700ac7c34bd5d786c224\", \"boolean value of \\\"cluster\\\" in clustered_beer.columns is not correct\"\n",
    "\n",
    "assert sha1(str(type(clustered_beer.shape[0])).encode(\"utf-8\")+b\"5cc4f\").hexdigest() == \"1964581c6c48dbfde6872e8e5851f1dcdb1947a0\", \"type of clustered_beer.shape[0] is not int. Please make sure it is int and not np.int64, etc. You can cast your value into an int using int()\"\n",
    "assert sha1(str(clustered_beer.shape[0]).encode(\"utf-8\")+b\"5cc4f\").hexdigest() == \"5447e39662ee366be20866f7216b322ae2cbda2f\", \"value of clustered_beer.shape[0] is not correct\"\n",
    "\n",
    "assert sha1(str(type(clustered_beer.shape[1])).encode(\"utf-8\")+b\"5cc50\").hexdigest() == \"cd408b1734c4cec9fecfe7ad56489bf8fb63df60\", \"type of clustered_beer.shape[1] is not int. Please make sure it is int and not np.int64, etc. You can cast your value into an int using int()\"\n",
    "assert sha1(str(clustered_beer.shape[1]).encode(\"utf-8\")+b\"5cc50\").hexdigest() == \"09f680a102a9b1fe1aaf024e079b25df60086be8\", \"value of clustered_beer.shape[1] is not correct\"\n",
    "\n",
    "print('Success!')"
   ]
  },
  {
   "cell_type": "markdown",
   "metadata": {
    "deletable": false,
    "editable": false,
    "nbgrader": {
     "cell_type": "markdown",
     "checksum": "96aa2a01aa168c2cdd3151dacc3ccc55",
     "grade": false,
     "grade_id": "cell-6adf5ec5d9d2f3ef",
     "locked": true,
     "schema_version": 3,
     "solution": false,
     "task": false
    }
   },
   "source": [
    "**Question 1.8**\n",
    "<br> {points: 1}\n",
    "\n",
    "Create a scatter plot of `abv` on the y-axis versus `ibu` on the x-axis (using the data in `clustered_beer`) where the points are coloured by their cluster assignment. Add the `:N` suffix to the column name to ensure that Altair will treat the `cluster` column as a categorical variable and hence use a suitable colour scheme. Name the plot object `clustered_beer_chart`.\n",
    "\n",
    "*Remember to follow the best visualization practices, including adding human-readable labels to your plot.*"
   ]
  },
  {
   "cell_type": "code",
   "execution_count": null,
   "metadata": {
    "deletable": false,
    "nbgrader": {
     "cell_type": "code",
     "checksum": "db435c0f76261d3a60b20bcc16ec03f2",
     "grade": false,
     "grade_id": "cell-70d2a62ba35172b0",
     "locked": false,
     "schema_version": 3,
     "solution": true
    }
   },
   "outputs": [],
   "source": [
    "# your code here\n",
    "raise NotImplementedError\n",
    "clustered_beer_chart"
   ]
  },
  {
   "cell_type": "code",
   "execution_count": null,
   "metadata": {
    "deletable": false,
    "editable": false,
    "nbgrader": {
     "cell_type": "code",
     "checksum": "cfde9b9d5ce6f76a651ae3d6f6ee6c55",
     "grade": true,
     "grade_id": "cell-f8a27de5ec7f09e6",
     "locked": true,
     "points": 1,
     "schema_version": 3,
     "solution": false
    }
   },
   "outputs": [],
   "source": [
    "from hashlib import sha1\n",
    "assert sha1(str(type(clustered_beer_chart is None)).encode(\"utf-8\")+b\"4d999\").hexdigest() == \"bf4d3c1b913beb97f6ec8c1a2d68ba98442f0af9\", \"type of clustered_beer_chart is None is not bool. clustered_beer_chart is None should be a bool\"\n",
    "assert sha1(str(clustered_beer_chart is None).encode(\"utf-8\")+b\"4d999\").hexdigest() == \"44ec6171d9f8a750396f0da9fb58b8b1fa55e5c5\", \"boolean value of clustered_beer_chart is None is not correct\"\n",
    "\n",
    "assert sha1(str(type(clustered_beer_chart.mark.type in ['circle', 'point'])).encode(\"utf-8\")+b\"4d99a\").hexdigest() == \"7631bb3912355d3292ca55aed860f846f23d3222\", \"type of clustered_beer_chart.mark.type in ['circle', 'point'] is not bool. clustered_beer_chart.mark.type in ['circle', 'point'] should be a bool\"\n",
    "assert sha1(str(clustered_beer_chart.mark.type in ['circle', 'point']).encode(\"utf-8\")+b\"4d99a\").hexdigest() == \"f86be5ab13e72d5a8f86abcb0fea85d3086d707c\", \"boolean value of clustered_beer_chart.mark.type in ['circle', 'point'] is not correct\"\n",
    "\n",
    "assert sha1(str(type(clustered_beer_chart.data.equals(clustered_beer_chart))).encode(\"utf-8\")+b\"4d99b\").hexdigest() == \"29c5489a4eafd27919503453b4db9518746c035c\", \"type of clustered_beer_chart.data.equals(clustered_beer_chart) is not bool. clustered_beer_chart.data.equals(clustered_beer_chart) should be a bool\"\n",
    "assert sha1(str(clustered_beer_chart.data.equals(clustered_beer_chart)).encode(\"utf-8\")+b\"4d99b\").hexdigest() == \"6e0339968d1974642b0f9f88f9349fcb7046b068\", \"boolean value of clustered_beer_chart.data.equals(clustered_beer_chart) is not correct\"\n",
    "\n",
    "assert sha1(str(type(clustered_beer_chart.encoding.x['shorthand'])).encode(\"utf-8\")+b\"4d99c\").hexdigest() == \"2992c49549543d865dc48ea25d38b782c6279e5d\", \"type of clustered_beer_chart.encoding.x['shorthand'] is not str. clustered_beer_chart.encoding.x['shorthand'] should be an str\"\n",
    "assert sha1(str(len(clustered_beer_chart.encoding.x['shorthand'])).encode(\"utf-8\")+b\"4d99c\").hexdigest() == \"76de3e9f1e36439d3155f70d9d75f9704ded6bd7\", \"length of clustered_beer_chart.encoding.x['shorthand'] is not correct\"\n",
    "assert sha1(str(clustered_beer_chart.encoding.x['shorthand'].lower()).encode(\"utf-8\")+b\"4d99c\").hexdigest() == \"1f3495ad1683b1b452c8a281aee8413dda0d7d2e\", \"value of clustered_beer_chart.encoding.x['shorthand'] is not correct\"\n",
    "assert sha1(str(clustered_beer_chart.encoding.x['shorthand']).encode(\"utf-8\")+b\"4d99c\").hexdigest() == \"1f3495ad1683b1b452c8a281aee8413dda0d7d2e\", \"correct string value of clustered_beer_chart.encoding.x['shorthand'] but incorrect case of letters\"\n",
    "\n",
    "assert sha1(str(type(clustered_beer_chart.encoding.y['shorthand'])).encode(\"utf-8\")+b\"4d99d\").hexdigest() == \"a5a9bb76d897e43ab19beecc74c73efb3925d9fb\", \"type of clustered_beer_chart.encoding.y['shorthand'] is not str. clustered_beer_chart.encoding.y['shorthand'] should be an str\"\n",
    "assert sha1(str(len(clustered_beer_chart.encoding.y['shorthand'])).encode(\"utf-8\")+b\"4d99d\").hexdigest() == \"38fcc1c79c35e4ab62a05505fef3d21d8c105746\", \"length of clustered_beer_chart.encoding.y['shorthand'] is not correct\"\n",
    "assert sha1(str(clustered_beer_chart.encoding.y['shorthand'].lower()).encode(\"utf-8\")+b\"4d99d\").hexdigest() == \"74f6d096101b2b62f8dd4f1bd6ce81d2e7e92ec1\", \"value of clustered_beer_chart.encoding.y['shorthand'] is not correct\"\n",
    "assert sha1(str(clustered_beer_chart.encoding.y['shorthand']).encode(\"utf-8\")+b\"4d99d\").hexdigest() == \"74f6d096101b2b62f8dd4f1bd6ce81d2e7e92ec1\", \"correct string value of clustered_beer_chart.encoding.y['shorthand'] but incorrect case of letters\"\n",
    "\n",
    "assert sha1(str(type(clustered_beer_chart.encoding.color['shorthand'])).encode(\"utf-8\")+b\"4d99e\").hexdigest() == \"44a25c3a8348eaf7b72c94fef3e8ffe0c6cd26ce\", \"type of clustered_beer_chart.encoding.color['shorthand'] is not str. clustered_beer_chart.encoding.color['shorthand'] should be an str\"\n",
    "assert sha1(str(len(clustered_beer_chart.encoding.color['shorthand'])).encode(\"utf-8\")+b\"4d99e\").hexdigest() == \"c4c12ebc03c40cfe7cfe9c164ce152ae7c6ed668\", \"length of clustered_beer_chart.encoding.color['shorthand'] is not correct\"\n",
    "assert sha1(str(clustered_beer_chart.encoding.color['shorthand'].lower()).encode(\"utf-8\")+b\"4d99e\").hexdigest() == \"5f4bdc6cbabdd470f2555b47709806fb52516f9e\", \"value of clustered_beer_chart.encoding.color['shorthand'] is not correct\"\n",
    "assert sha1(str(clustered_beer_chart.encoding.color['shorthand']).encode(\"utf-8\")+b\"4d99e\").hexdigest() == \"c0e872a70b3d70f5888f4ea991f318e8534fa1af\", \"correct string value of clustered_beer_chart.encoding.color['shorthand'] but incorrect case of letters\"\n",
    "\n",
    "assert sha1(str(type(isinstance(clustered_beer_chart.encoding.x['title'], str))).encode(\"utf-8\")+b\"4d99f\").hexdigest() == \"bd01b7afca00cd9856806da91583f2e084316c15\", \"type of isinstance(clustered_beer_chart.encoding.x['title'], str) is not bool. isinstance(clustered_beer_chart.encoding.x['title'], str) should be a bool\"\n",
    "assert sha1(str(isinstance(clustered_beer_chart.encoding.x['title'], str)).encode(\"utf-8\")+b\"4d99f\").hexdigest() == \"c01d96107bd7e33589f8df96d0a7a43b1e060a91\", \"boolean value of isinstance(clustered_beer_chart.encoding.x['title'], str) is not correct\"\n",
    "\n",
    "assert sha1(str(type(isinstance(clustered_beer_chart.encoding.y['title'], str))).encode(\"utf-8\")+b\"4d9a0\").hexdigest() == \"448bcfd08e89c1eba200d5bd2a1a10c4cc93c8a6\", \"type of isinstance(clustered_beer_chart.encoding.y['title'], str) is not bool. isinstance(clustered_beer_chart.encoding.y['title'], str) should be a bool\"\n",
    "assert sha1(str(isinstance(clustered_beer_chart.encoding.y['title'], str)).encode(\"utf-8\")+b\"4d9a0\").hexdigest() == \"2f3d0eb098d908ec97b825e6ac5bc149c9c689bd\", \"boolean value of isinstance(clustered_beer_chart.encoding.y['title'], str) is not correct\"\n",
    "\n",
    "assert sha1(str(type(isinstance(clustered_beer_chart.encoding.color['title'], str))).encode(\"utf-8\")+b\"4d9a1\").hexdigest() == \"28f42afd75d276c7ac60dd0c2cf2380776a1cd7f\", \"type of isinstance(clustered_beer_chart.encoding.color['title'], str) is not bool. isinstance(clustered_beer_chart.encoding.color['title'], str) should be a bool\"\n",
    "assert sha1(str(isinstance(clustered_beer_chart.encoding.color['title'], str)).encode(\"utf-8\")+b\"4d9a1\").hexdigest() == \"6b4553558a5cb93d482c153c1cd626d50215c370\", \"boolean value of isinstance(clustered_beer_chart.encoding.color['title'], str) is not correct\"\n",
    "\n",
    "print('Success!')"
   ]
  },
  {
   "cell_type": "markdown",
   "metadata": {
    "deletable": false,
    "editable": false,
    "nbgrader": {
     "cell_type": "markdown",
     "checksum": "6e1146ceef60eb85d62b48190ab2db39",
     "grade": false,
     "grade_id": "cell-97f33922ed0d39e8",
     "locked": true,
     "schema_version": 3,
     "solution": false,
     "task": false
    }
   },
   "source": [
    "**Question 1.9.1** Multiple Choice:\n",
    "<br> {points: 1}\n",
    "\n",
    "We do not know, however, that two clusters (K = 2) is the best choice for this data set. What can we do to choose the best K?\n",
    "\n",
    "A. Perform *cross-validation* for a variety of possible Ks. Choose the one where within-cluster sum of squares distance starts to *decrease less*.\n",
    "\n",
    "B. Perform *cross-validation* for a variety of possible Ks. Choose the one where the within-cluster sum of squares distance starts to *decrease more*. \n",
    "\n",
    "C. Perform *clustering* for a variety of possible Ks. Choose the one where within-cluster sum of squares distance starts to *decrease less*.\n",
    "\n",
    "D. Perform *clustering* for a variety of possible Ks. Choose the one where the within-cluster sum of squares distance starts to *decrease more*. \n",
    "\n",
    "*Assign your answer to an object called `answer1_9_1`. Make sure it is a single upper-case character surrounded by quotes.*"
   ]
  },
  {
   "cell_type": "code",
   "execution_count": null,
   "metadata": {
    "deletable": false,
    "nbgrader": {
     "cell_type": "code",
     "checksum": "2d0a7d34cee9e032ab1c27e6016d652a",
     "grade": false,
     "grade_id": "cell-61e001fe5e991523",
     "locked": false,
     "schema_version": 3,
     "solution": true
    }
   },
   "outputs": [],
   "source": [
    "# your code here\n",
    "raise NotImplementedError"
   ]
  },
  {
   "cell_type": "code",
   "execution_count": null,
   "metadata": {
    "deletable": false,
    "editable": false,
    "nbgrader": {
     "cell_type": "code",
     "checksum": "76127ac61e31fb3be84de2d98fd4459c",
     "grade": true,
     "grade_id": "cell-693552f36c9a4230",
     "locked": true,
     "points": 1,
     "schema_version": 3,
     "solution": false
    }
   },
   "outputs": [],
   "source": [
    "from hashlib import sha1\n",
    "assert sha1(str(type(answer1_9_1)).encode(\"utf-8\")+b\"a8ddd\").hexdigest() == \"cf2d9dcf2ce040da59b959eea980afd81d170cfd\", \"type of answer1_9_1 is not str. answer1_9_1 should be an str\"\n",
    "assert sha1(str(len(answer1_9_1)).encode(\"utf-8\")+b\"a8ddd\").hexdigest() == \"ccdb4d5c3661b53e6c74de145577967756821740\", \"length of answer1_9_1 is not correct\"\n",
    "assert sha1(str(answer1_9_1.lower()).encode(\"utf-8\")+b\"a8ddd\").hexdigest() == \"e7fe02b672527727c005ad14ac3ff95b4902095f\", \"value of answer1_9_1 is not correct\"\n",
    "assert sha1(str(answer1_9_1).encode(\"utf-8\")+b\"a8ddd\").hexdigest() == \"1bbe89bf6b086ef74da95a5dcdd6bfe1fdcd15e4\", \"correct string value of answer1_9_1 but incorrect case of letters\"\n",
    "\n",
    "print('Success!')"
   ]
  },
  {
   "cell_type": "markdown",
   "metadata": {
    "deletable": false,
    "editable": false,
    "nbgrader": {
     "cell_type": "markdown",
     "checksum": "03783593c6aa7850d0cd6e0e8f046c48",
     "grade": false,
     "grade_id": "cell-d884f2f1c5ea8b43",
     "locked": true,
     "schema_version": 3,
     "solution": false,
     "task": false
    }
   },
   "source": [
    "**Question 1.9.2**\n",
    "<br> {points: 1}\n",
    "\n",
    "Let's check the total within-cluster sum of squares for our K=2 model. Remember that scikit-learn already computes this for us and has stored it in an attribute of the model object. Find out the name of the attribute and store its value as a new variable called `beer_cluster_k2_wssd`. Remember that you need to access the model through its numerical position in the `beer_pipe` list.\n",
    "\n",
    "*Hint: Check the textbook if you don't remember the name of the attribute.*"
   ]
  },
  {
   "cell_type": "code",
   "execution_count": null,
   "metadata": {
    "deletable": false,
    "nbgrader": {
     "cell_type": "code",
     "checksum": "c326ea94856fb56f285acfe36eb6aafd",
     "grade": false,
     "grade_id": "cell-868cebb3f86944d1",
     "locked": false,
     "schema_version": 3,
     "solution": true
    }
   },
   "outputs": [],
   "source": [
    "# your code here\n",
    "raise NotImplementedError\n",
    "beer_cluster_k2_wssd"
   ]
  },
  {
   "cell_type": "code",
   "execution_count": null,
   "metadata": {
    "deletable": false,
    "editable": false,
    "nbgrader": {
     "cell_type": "code",
     "checksum": "1411e7042297412ed25b6a127e66ec63",
     "grade": true,
     "grade_id": "cell-31427d5e0afe53be",
     "locked": true,
     "points": 1,
     "schema_version": 3,
     "solution": false
    }
   },
   "outputs": [],
   "source": [
    "from hashlib import sha1\n",
    "assert sha1(str(type(beer_cluster_k2_wssd is None)).encode(\"utf-8\")+b\"119a2\").hexdigest() == \"bee2656f800c5c0e3f7db9231d007d219d3f3135\", \"type of beer_cluster_k2_wssd is None is not bool. beer_cluster_k2_wssd is None should be a bool\"\n",
    "assert sha1(str(beer_cluster_k2_wssd is None).encode(\"utf-8\")+b\"119a2\").hexdigest() == \"7505c36b3dac7c2f300b7f9bacba69b6154ff1f9\", \"boolean value of beer_cluster_k2_wssd is None is not correct\"\n",
    "\n",
    "assert sha1(str(type(beer_cluster_k2_wssd)).encode(\"utf-8\")+b\"119a3\").hexdigest() == \"084cfbf699a0e30e7968c61739dbaff8cfb174e6\", \"type of type(beer_cluster_k2_wssd) is not correct\"\n",
    "\n",
    "assert sha1(str(type(round(beer_cluster_k2_wssd, 2))).encode(\"utf-8\")+b\"119a4\").hexdigest() == \"2cb01f018922fd636077182f6d91a35470cbc6f5\", \"type of round(beer_cluster_k2_wssd, 2) is not float. Please make sure it is float and not np.float64, etc. You can cast your value into a float using float()\"\n",
    "assert sha1(str(round(round(beer_cluster_k2_wssd, 2), 2)).encode(\"utf-8\")+b\"119a4\").hexdigest() == \"c30e181d5b75bfbe1f5dd40097192cb1b8fdb264\", \"value of round(beer_cluster_k2_wssd, 2) is not correct (rounded to 2 decimal places)\"\n",
    "\n",
    "print('Success!')"
   ]
  },
  {
   "cell_type": "markdown",
   "metadata": {
    "deletable": false,
    "editable": false,
    "nbgrader": {
     "cell_type": "markdown",
     "checksum": "b226e8ff4520720e1dd820bc67e4efd7",
     "grade": false,
     "grade_id": "cell-42cd7e853af98bb1",
     "locked": true,
     "schema_version": 3,
     "solution": false,
     "task": false
    }
   },
   "source": [
    "**Question 2.0**\n",
    "<br> {points: 1}\n",
    "\n",
    "Let's now choose the best $K$ for this clustering problem by computing the total within-cluster sum of squares for multiple values of $K$ and selecting the $K$ with the lowest value. To do this we need to first create a `range` of values to test; in this case we are interesting in all the integers from 1 to 10 (both inclusive).\n",
    "\n",
    "*Assign your answer to an object named `beer_ks`.*"
   ]
  },
  {
   "cell_type": "code",
   "execution_count": null,
   "metadata": {
    "deletable": false,
    "nbgrader": {
     "cell_type": "code",
     "checksum": "3037c826b7d57169cdaa2985cb050cc8",
     "grade": false,
     "grade_id": "cell-2291e50c08f701d2",
     "locked": false,
     "schema_version": 3,
     "solution": true
    }
   },
   "outputs": [],
   "source": [
    "# your code here\n",
    "raise NotImplementedError\n",
    "beer_ks"
   ]
  },
  {
   "cell_type": "code",
   "execution_count": null,
   "metadata": {
    "deletable": false,
    "editable": false,
    "nbgrader": {
     "cell_type": "code",
     "checksum": "1328e8abe019c32762c4a1b203c789c7",
     "grade": true,
     "grade_id": "cell-58c958b24994d60d",
     "locked": true,
     "points": 1,
     "schema_version": 3,
     "solution": false
    }
   },
   "outputs": [],
   "source": [
    "from hashlib import sha1\n",
    "assert sha1(str(type(beer_ks)).encode(\"utf-8\")+b\"9ac97\").hexdigest() == \"f682e7bb249b245845fe3f5c3056b137ff199433\", \"type of type(beer_ks) is not correct\"\n",
    "\n",
    "assert sha1(str(type(beer_ks.start)).encode(\"utf-8\")+b\"9ac98\").hexdigest() == \"68cb6f30ac26c6c31a832681d62c1a52b4ef76e5\", \"type of beer_ks.start is not int. Please make sure it is int and not np.int64, etc. You can cast your value into an int using int()\"\n",
    "assert sha1(str(beer_ks.start).encode(\"utf-8\")+b\"9ac98\").hexdigest() == \"b6450d4a6a1b514733ddcfe258b5e5ad737421ba\", \"value of beer_ks.start is not correct\"\n",
    "\n",
    "assert sha1(str(type(beer_ks.stop)).encode(\"utf-8\")+b\"9ac99\").hexdigest() == \"ba1eb1d05682af72c2f92c7f85215af11cce83db\", \"type of beer_ks.stop is not int. Please make sure it is int and not np.int64, etc. You can cast your value into an int using int()\"\n",
    "assert sha1(str(beer_ks.stop).encode(\"utf-8\")+b\"9ac99\").hexdigest() == \"85f843ffd0e7a3686b5e83f56b98dbbf4155d431\", \"value of beer_ks.stop is not correct\"\n",
    "\n",
    "print('Success!')"
   ]
  },
  {
   "cell_type": "markdown",
   "metadata": {
    "deletable": false,
    "editable": false,
    "nbgrader": {
     "cell_type": "markdown",
     "checksum": "de3669e4e9bc543472eed3f10922d128",
     "grade": false,
     "grade_id": "cell-39c29b9969ea902b",
     "locked": true,
     "schema_version": 3,
     "solution": false,
     "task": false
    }
   },
   "source": [
    "**Question 2.1**\n",
    "<br> {points: 1}\n",
    "\n",
    "Next, we want to compute the WSSD for each value of $K$.\n",
    "\n",
    "Use a list comprehension to create a KMeans clustering model with $K$ clusters for each value of $K$ in the `beer_ks` range you just created. Each model should be wrapped in a pipeline together with the `beer_preprocessor` we created earlier. Train the pipeline on the `clean_beer` data and output the WSSD value for each value of $K$ as a list.\n",
    "\n",
    "*Assign your answer to an object named `beer_wssds`.*"
   ]
  },
  {
   "cell_type": "code",
   "execution_count": null,
   "metadata": {
    "deletable": false,
    "nbgrader": {
     "cell_type": "code",
     "checksum": "8df4ef65cf2d6fc98555dcca3c361a44",
     "grade": false,
     "grade_id": "cell-0789a9131f5cf925",
     "locked": false,
     "schema_version": 3,
     "solution": true,
     "task": false
    }
   },
   "outputs": [],
   "source": [
    "# ___ = [\n",
    "#     ___(\n",
    "#         beer_preprocessor, \n",
    "#         ___(n_clusters=___, random_state=1234)  # Create a new model with `k` clusters\n",
    "#     ).fit(___)[1].___  # Fit the pipeline and compute its WSSD\n",
    "#     for k in ___\n",
    "# ]\n",
    "\n",
    "# your code here\n",
    "raise NotImplementedError\n",
    "beer_wssds"
   ]
  },
  {
   "cell_type": "code",
   "execution_count": null,
   "metadata": {
    "deletable": false,
    "editable": false,
    "nbgrader": {
     "cell_type": "code",
     "checksum": "331d3eecebe195c0843b01d14ead4f7e",
     "grade": true,
     "grade_id": "cell-ed0f2e1a31372296",
     "locked": true,
     "points": 1,
     "schema_version": 3,
     "solution": false
    }
   },
   "outputs": [],
   "source": [
    "from hashlib import sha1\n",
    "assert sha1(str(type(len(beer_wssds))).encode(\"utf-8\")+b\"6bdea\").hexdigest() == \"030ddcb9ab8fb36ff6e40bc182e42dcd820d0e3e\", \"type of len(beer_wssds) is not int. Please make sure it is int and not np.int64, etc. You can cast your value into an int using int()\"\n",
    "assert sha1(str(len(beer_wssds)).encode(\"utf-8\")+b\"6bdea\").hexdigest() == \"f12d0b1f687fe875416a06b1bd672133ed7e046c\", \"value of len(beer_wssds) is not correct\"\n",
    "\n",
    "assert sha1(str(type(round(sum(beer_wssds), 2))).encode(\"utf-8\")+b\"6bdeb\").hexdigest() == \"6b59b2a7830617253de6fa0944ab8a676da4c03c\", \"type of round(sum(beer_wssds), 2) is not float. Please make sure it is float and not np.float64, etc. You can cast your value into a float using float()\"\n",
    "assert sha1(str(round(round(sum(beer_wssds), 2), 2)).encode(\"utf-8\")+b\"6bdeb\").hexdigest() == \"ef44be31e7e709bd195880102b6b888324975f2f\", \"value of round(sum(beer_wssds), 2) is not correct (rounded to 2 decimal places)\"\n",
    "\n",
    "print('Success!')"
   ]
  },
  {
   "cell_type": "markdown",
   "metadata": {
    "deletable": false,
    "editable": false,
    "nbgrader": {
     "cell_type": "markdown",
     "checksum": "f7b631349edb5766ab0f7b4f4014226e",
     "grade": false,
     "grade_id": "cell-712c5d5bf721ba07",
     "locked": true,
     "schema_version": 3,
     "solution": false,
     "task": false
    }
   },
   "source": [
    "**Question 2.2**\n",
    "<br> {points: 1}\n",
    "\n",
    "Before visualizing our results, we need to create a dataframe that holds the values of $K$ in a column called `k` and the WSSD values in a column called `wssd`.\n",
    "\n",
    "*Assign your answer to an object named `beer_model_stats`.*"
   ]
  },
  {
   "cell_type": "code",
   "execution_count": null,
   "metadata": {
    "deletable": false,
    "nbgrader": {
     "cell_type": "code",
     "checksum": "39de1e9695b5759df5ef024592ae8051",
     "grade": false,
     "grade_id": "cell-e5550ab0d15e904b",
     "locked": false,
     "schema_version": 3,
     "solution": true
    }
   },
   "outputs": [],
   "source": [
    "# your code here\n",
    "raise NotImplementedError\n",
    "beer_model_stats"
   ]
  },
  {
   "cell_type": "code",
   "execution_count": null,
   "metadata": {
    "deletable": false,
    "editable": false,
    "nbgrader": {
     "cell_type": "code",
     "checksum": "df215427b686020353fa7afc2c65dc18",
     "grade": true,
     "grade_id": "cell-a3574637a73eada8",
     "locked": true,
     "points": 1,
     "schema_version": 3,
     "solution": false
    }
   },
   "outputs": [],
   "source": [
    "from hashlib import sha1\n",
    "assert sha1(str(type(beer_model_stats.shape)).encode(\"utf-8\")+b\"bb06b\").hexdigest() == \"aa9036103b92463c915039e4f90968b2cd497d9f\", \"type of beer_model_stats.shape is not tuple. beer_model_stats.shape should be a tuple\"\n",
    "assert sha1(str(len(beer_model_stats.shape)).encode(\"utf-8\")+b\"bb06b\").hexdigest() == \"a3028abd971f74aab8929af50bbddc8363349bc7\", \"length of beer_model_stats.shape is not correct\"\n",
    "assert sha1(str(sorted(map(str, beer_model_stats.shape))).encode(\"utf-8\")+b\"bb06b\").hexdigest() == \"bf65471fe51c87bcb5b73f8f3e62cb2d94336bf9\", \"values of beer_model_stats.shape are not correct\"\n",
    "assert sha1(str(beer_model_stats.shape).encode(\"utf-8\")+b\"bb06b\").hexdigest() == \"abbde2af1e9fd4b3334879bbafa89a8b3bc55451\", \"order of elements of beer_model_stats.shape is not correct\"\n",
    "\n",
    "assert sha1(str(type(\"k\" in beer_model_stats.columns.values)).encode(\"utf-8\")+b\"bb06c\").hexdigest() == \"9c2de3943c2c6eddff29e6593e1bd96b5db02fc6\", \"type of \\\"k\\\" in beer_model_stats.columns.values is not bool. \\\"k\\\" in beer_model_stats.columns.values should be a bool\"\n",
    "assert sha1(str(\"k\" in beer_model_stats.columns.values).encode(\"utf-8\")+b\"bb06c\").hexdigest() == \"ef5b6283c86bae4980eb40778904ec1e807876e7\", \"boolean value of \\\"k\\\" in beer_model_stats.columns.values is not correct\"\n",
    "\n",
    "assert sha1(str(type(\"wssd\" in beer_model_stats.columns)).encode(\"utf-8\")+b\"bb06d\").hexdigest() == \"fd77a3e25de85caf691d77ef3399e5ff85b95fbd\", \"type of \\\"wssd\\\" in beer_model_stats.columns is not bool. \\\"wssd\\\" in beer_model_stats.columns should be a bool\"\n",
    "assert sha1(str(\"wssd\" in beer_model_stats.columns).encode(\"utf-8\")+b\"bb06d\").hexdigest() == \"481130cade7426b127fa9b2cbf62e32a4855cd1d\", \"boolean value of \\\"wssd\\\" in beer_model_stats.columns is not correct\"\n",
    "\n",
    "assert sha1(str(type(beer_model_stats['k'][0])).encode(\"utf-8\")+b\"bb06e\").hexdigest() == \"9aa78bd05401fe4180f8e3513ab3bc47a10f95b8\", \"type of type(beer_model_stats['k'][0]) is not correct\"\n",
    "\n",
    "assert sha1(str(type(beer_model_stats['wssd'][0])).encode(\"utf-8\")+b\"bb06f\").hexdigest() == \"1eec102d3047997242ea5e5ce1d3bcb18097346b\", \"type of type(beer_model_stats['wssd'][0]) is not correct\"\n",
    "\n",
    "print('Success!')"
   ]
  },
  {
   "cell_type": "markdown",
   "metadata": {
    "deletable": false,
    "editable": false,
    "nbgrader": {
     "cell_type": "markdown",
     "checksum": "11ea1c49fce372bc429e9053108c6d76",
     "grade": false,
     "grade_id": "cell-888915107f007211",
     "locked": true,
     "schema_version": 3,
     "solution": false,
     "task": false
    }
   },
   "source": [
    "**Question 2.3**\n",
    "<br> {points: 1}\n",
    "\n",
    "Create a line plot of total within-cluster sum of squares (y-axis) versus the number of clusters (x-axis), so that we can choose the best number of clusters to use. Use the correct parameter inside `mark_line` to include a point in the chart for each data point.\n",
    "\n",
    "*Assign your plot to an object called `elbow_plot`. Remember to follow the best visualization practices, including adding human-readable labels to your plot.*"
   ]
  },
  {
   "cell_type": "code",
   "execution_count": null,
   "metadata": {
    "deletable": false,
    "nbgrader": {
     "cell_type": "code",
     "checksum": "1de78504573ec117849a8ce679fb10f5",
     "grade": false,
     "grade_id": "cell-8a414509ff54b5ec",
     "locked": false,
     "schema_version": 3,
     "solution": true
    }
   },
   "outputs": [],
   "source": [
    "# your code here\n",
    "raise NotImplementedError\n",
    "elbow_plot"
   ]
  },
  {
   "cell_type": "code",
   "execution_count": null,
   "metadata": {
    "deletable": false,
    "editable": false,
    "nbgrader": {
     "cell_type": "code",
     "checksum": "d0476ad4231ca9e5674f1e191535041f",
     "grade": true,
     "grade_id": "cell-3e758ca8ceea0217",
     "locked": true,
     "points": 1,
     "schema_version": 3,
     "solution": false
    }
   },
   "outputs": [],
   "source": [
    "from hashlib import sha1\n",
    "assert sha1(str(type(elbow_plot is None)).encode(\"utf-8\")+b\"10b94\").hexdigest() == \"6ff1d27734bebe0a5ea58e12a513c4d63067f086\", \"type of elbow_plot is None is not bool. elbow_plot is None should be a bool\"\n",
    "assert sha1(str(elbow_plot is None).encode(\"utf-8\")+b\"10b94\").hexdigest() == \"4652ef2b9fc49d84f7afa3bd11462c82d812ed4e\", \"boolean value of elbow_plot is None is not correct\"\n",
    "\n",
    "assert sha1(str(type(elbow_plot.encoding.x['shorthand'])).encode(\"utf-8\")+b\"10b95\").hexdigest() == \"b571bfcad9e341e6363d7da51058ed0c1b7e1510\", \"type of elbow_plot.encoding.x['shorthand'] is not str. elbow_plot.encoding.x['shorthand'] should be an str\"\n",
    "assert sha1(str(len(elbow_plot.encoding.x['shorthand'])).encode(\"utf-8\")+b\"10b95\").hexdigest() == \"bd582510982006649ecaa53cfc112d638db526bd\", \"length of elbow_plot.encoding.x['shorthand'] is not correct\"\n",
    "assert sha1(str(elbow_plot.encoding.x['shorthand'].lower()).encode(\"utf-8\")+b\"10b95\").hexdigest() == \"2201f77b498415d0e93f39f48303f5b7c1936e2c\", \"value of elbow_plot.encoding.x['shorthand'] is not correct\"\n",
    "assert sha1(str(elbow_plot.encoding.x['shorthand']).encode(\"utf-8\")+b\"10b95\").hexdigest() == \"2201f77b498415d0e93f39f48303f5b7c1936e2c\", \"correct string value of elbow_plot.encoding.x['shorthand'] but incorrect case of letters\"\n",
    "\n",
    "assert sha1(str(type(elbow_plot.encoding.y['shorthand'])).encode(\"utf-8\")+b\"10b96\").hexdigest() == \"d339d7263aad60de2251cb9f3a3b6df6762e2dcb\", \"type of elbow_plot.encoding.y['shorthand'] is not str. elbow_plot.encoding.y['shorthand'] should be an str\"\n",
    "assert sha1(str(len(elbow_plot.encoding.y['shorthand'])).encode(\"utf-8\")+b\"10b96\").hexdigest() == \"acda30c29512ef361cd5c5fd095d15e726b9e731\", \"length of elbow_plot.encoding.y['shorthand'] is not correct\"\n",
    "assert sha1(str(elbow_plot.encoding.y['shorthand'].lower()).encode(\"utf-8\")+b\"10b96\").hexdigest() == \"a1951a7be2c9f65e78e0a33923281d868ff125a7\", \"value of elbow_plot.encoding.y['shorthand'] is not correct\"\n",
    "assert sha1(str(elbow_plot.encoding.y['shorthand']).encode(\"utf-8\")+b\"10b96\").hexdigest() == \"a1951a7be2c9f65e78e0a33923281d868ff125a7\", \"correct string value of elbow_plot.encoding.y['shorthand'] but incorrect case of letters\"\n",
    "\n",
    "assert sha1(str(type(elbow_plot.mark)).encode(\"utf-8\")+b\"10b97\").hexdigest() == \"4ce25676d84aae34fce80f3f3a6e0b17f7426df2\", \"type of elbow_plot.mark is not correct\"\n",
    "assert sha1(str(elbow_plot.mark).encode(\"utf-8\")+b\"10b97\").hexdigest() == \"9a55e6223ab35fa902d40b43156a9261ebd75005\", \"value of elbow_plot.mark is not correct\"\n",
    "\n",
    "assert sha1(str(type(isinstance(elbow_plot.encoding.x['title'], str))).encode(\"utf-8\")+b\"10b98\").hexdigest() == \"91d975725507cb420be07970bfbc074cdc878f54\", \"type of isinstance(elbow_plot.encoding.x['title'], str) is not bool. isinstance(elbow_plot.encoding.x['title'], str) should be a bool\"\n",
    "assert sha1(str(isinstance(elbow_plot.encoding.x['title'], str)).encode(\"utf-8\")+b\"10b98\").hexdigest() == \"3743b941a005f2e6c2e715122f08fb16e1223733\", \"boolean value of isinstance(elbow_plot.encoding.x['title'], str) is not correct\"\n",
    "\n",
    "assert sha1(str(type(isinstance(elbow_plot.encoding.y['title'], str))).encode(\"utf-8\")+b\"10b99\").hexdigest() == \"9a2fd1eddbaa40ccd0ac9cabcd8bf10fe75b93cb\", \"type of isinstance(elbow_plot.encoding.y['title'], str) is not bool. isinstance(elbow_plot.encoding.y['title'], str) should be a bool\"\n",
    "assert sha1(str(isinstance(elbow_plot.encoding.y['title'], str)).encode(\"utf-8\")+b\"10b99\").hexdigest() == \"6e8302b1fbd79ae62ffce69c9224ef649428e54e\", \"boolean value of isinstance(elbow_plot.encoding.y['title'], str) is not correct\"\n",
    "\n",
    "print('Success!')"
   ]
  },
  {
   "cell_type": "markdown",
   "metadata": {
    "deletable": false,
    "editable": false,
    "nbgrader": {
     "cell_type": "markdown",
     "checksum": "042ad4e259f974f2c3d71f212a018df0",
     "grade": false,
     "grade_id": "cell-790ae1331636b0f3",
     "locked": true,
     "schema_version": 3,
     "solution": false,
     "task": false
    }
   },
   "source": [
    "**Question 2.4**\n",
    "<br> {points: 1}\n",
    "\n",
    "From the plot above, which $K$ should we choose? \n",
    "\n",
    "*Assign your answer to an object called `answer2_2`. Make sure your answer is a single numerical character surrounded by quotation marks, e.g. `'3'`.*"
   ]
  },
  {
   "cell_type": "code",
   "execution_count": null,
   "metadata": {
    "deletable": false,
    "nbgrader": {
     "cell_type": "code",
     "checksum": "da25f64e7911b9a8c12af5c270ef0536",
     "grade": false,
     "grade_id": "cell-bd38240a36b3d416",
     "locked": false,
     "schema_version": 3,
     "solution": true
    }
   },
   "outputs": [],
   "source": [
    "# your code here\n",
    "raise NotImplementedError"
   ]
  },
  {
   "cell_type": "code",
   "execution_count": null,
   "metadata": {
    "deletable": false,
    "editable": false,
    "nbgrader": {
     "cell_type": "code",
     "checksum": "55075a5d0535b4f3d80ad4f6f5a9226b",
     "grade": true,
     "grade_id": "cell-62328bcd821daea9",
     "locked": true,
     "points": 1,
     "schema_version": 3,
     "solution": false
    }
   },
   "outputs": [],
   "source": [
    "from hashlib import sha1\n",
    "assert sha1(str(type(answer2_4 in ['2', '3', '4'])).encode(\"utf-8\")+b\"e7ad9\").hexdigest() == \"e0a8dde3a0f94cd96bc03ba29da6242a63f6aadf\", \"type of answer2_4 in ['2', '3', '4'] is not bool. answer2_4 in ['2', '3', '4'] should be a bool\"\n",
    "assert sha1(str(answer2_4 in ['2', '3', '4']).encode(\"utf-8\")+b\"e7ad9\").hexdigest() == \"29eee009ed033202425fe397a054979c32d800dc\", \"boolean value of answer2_4 in ['2', '3', '4'] is not correct\"\n",
    "\n",
    "print('Success!')"
   ]
  },
  {
   "cell_type": "markdown",
   "metadata": {
    "deletable": false,
    "editable": false,
    "nbgrader": {
     "cell_type": "markdown",
     "checksum": "336d087eafaf72d5a59a87db4284d7da",
     "grade": false,
     "grade_id": "cell-ef050c1e9d2e38a3",
     "locked": true,
     "schema_version": 3,
     "solution": false,
     "task": false
    }
   },
   "source": [
    "**Question 2.5**\n",
    "<br> {points: 1}\n",
    "\n",
    "Why did we choose the $K$ we chose above?\n",
    "\n",
    "A. It had the greatest total within-cluster sum of squares\n",
    "\n",
    "B. It had the smallest total within-cluster sum of squares\n",
    "\n",
    "C. Increasing $k$ further than this only decreased the total within-cluster sum of squares a small amount\n",
    "\n",
    "D. Increasing $k$ further than this only increased the total within-cluster sum of squares a small amount\n",
    "\n",
    "*Assign your answer to an object called `answer2_5`. Make sure your answer is an uppercase letter and is surrounded by quotation marks (e.g. `\"F\"`).*"
   ]
  },
  {
   "cell_type": "code",
   "execution_count": null,
   "metadata": {
    "deletable": false,
    "nbgrader": {
     "cell_type": "code",
     "checksum": "d3501b6ff21babadba8f8d1ee9303cdf",
     "grade": false,
     "grade_id": "cell-454ac5179dfb68f9",
     "locked": false,
     "schema_version": 3,
     "solution": true,
     "task": false
    }
   },
   "outputs": [],
   "source": [
    "# your code here\n",
    "raise NotImplementedError"
   ]
  },
  {
   "cell_type": "code",
   "execution_count": null,
   "metadata": {
    "deletable": false,
    "editable": false,
    "nbgrader": {
     "cell_type": "code",
     "checksum": "240b26d549ad06fab5a8cec977b57a10",
     "grade": true,
     "grade_id": "cell-e82ea147802752c4",
     "locked": true,
     "points": 0,
     "schema_version": 3,
     "solution": false,
     "task": false
    }
   },
   "outputs": [],
   "source": [
    "from hashlib import sha1\n",
    "assert sha1(str(type(answer2_5)).encode(\"utf-8\")+b\"49816\").hexdigest() == \"d9ca0ed82b79867bda2a7c03300c872b7dfc67a6\", \"type of answer2_5 is not str. answer2_5 should be an str\"\n",
    "assert sha1(str(len(answer2_5)).encode(\"utf-8\")+b\"49816\").hexdigest() == \"7fa3fb5150bc1ca7d02985df613d644111117372\", \"length of answer2_5 is not correct\"\n",
    "assert sha1(str(answer2_5.lower()).encode(\"utf-8\")+b\"49816\").hexdigest() == \"d340d09449071927eeeeaf757c210369c217d80d\", \"value of answer2_5 is not correct\"\n",
    "assert sha1(str(answer2_5).encode(\"utf-8\")+b\"49816\").hexdigest() == \"465386fbd3b0ec43f21cc00daa98c70c599bc04a\", \"correct string value of answer2_5 but incorrect case of letters\"\n",
    "\n",
    "print('Success!')"
   ]
  },
  {
   "cell_type": "markdown",
   "metadata": {
    "deletable": false,
    "editable": false,
    "nbgrader": {
     "cell_type": "markdown",
     "checksum": "c6d5dd98cc8630b3c4640f3dde1cafa0",
     "grade": false,
     "grade_id": "cell-e28e4f23066bcf9a",
     "locked": true,
     "schema_version": 3,
     "solution": false,
     "task": false
    }
   },
   "source": [
    "**Question 2.6** Multiple Choice:\n",
    "<br> {points: 1}\n",
    "\n",
    "What can we conclude from our analysis? How many different types of hoppy craft beer are there in this data set using the two variables we have? \n",
    "\n",
    "\n",
    "A. 1\n",
    "\n",
    "B. 2 to 4\n",
    "\n",
    "C. 5 to 7\n",
    "\n",
    "D. more than 7\n",
    "\n",
    "*Assign your answer to an object called `answer2_7`. Make sure your answer is an uppercase letter and is surrounded by quotation marks (e.g. `\"F\"`).*"
   ]
  },
  {
   "cell_type": "code",
   "execution_count": null,
   "metadata": {
    "deletable": false,
    "nbgrader": {
     "cell_type": "code",
     "checksum": "a12c3e1271570e30f1d0c0623a6b731b",
     "grade": false,
     "grade_id": "cell-ab13466619677bd8",
     "locked": false,
     "schema_version": 3,
     "solution": true,
     "task": false
    }
   },
   "outputs": [],
   "source": [
    "# your code here\n",
    "raise NotImplementedError"
   ]
  },
  {
   "cell_type": "code",
   "execution_count": null,
   "metadata": {
    "deletable": false,
    "editable": false,
    "nbgrader": {
     "cell_type": "code",
     "checksum": "78e3096b377817c1264b7f454e67a318",
     "grade": true,
     "grade_id": "cell-c9f898df0442578e",
     "locked": true,
     "points": 0,
     "schema_version": 3,
     "solution": false,
     "task": false
    }
   },
   "outputs": [],
   "source": [
    "from hashlib import sha1\n",
    "assert sha1(str(type(answer2_6)).encode(\"utf-8\")+b\"63bd7\").hexdigest() == \"74364102b77b3fd097894f4b2ed5ffe1a3bedb6e\", \"type of answer2_6 is not str. answer2_6 should be an str\"\n",
    "assert sha1(str(len(answer2_6)).encode(\"utf-8\")+b\"63bd7\").hexdigest() == \"aa9b3cc37bc9e2a6492756385bfc9db9b3b3ffad\", \"length of answer2_6 is not correct\"\n",
    "assert sha1(str(answer2_6.lower()).encode(\"utf-8\")+b\"63bd7\").hexdigest() == \"652a335c862193287d6a14032203c06cb5d304d1\", \"value of answer2_6 is not correct\"\n",
    "assert sha1(str(answer2_6).encode(\"utf-8\")+b\"63bd7\").hexdigest() == \"7f656969e8c1216c3d45104387fd469d600974d4\", \"correct string value of answer2_6 but incorrect case of letters\"\n",
    "\n",
    "print('Success!')"
   ]
  },
  {
   "cell_type": "markdown",
   "metadata": {
    "deletable": false,
    "editable": false,
    "nbgrader": {
     "cell_type": "markdown",
     "checksum": "61ba7244a2d656819972ae1b501c6b4c",
     "grade": false,
     "grade_id": "cell-91d519c3b41719e6",
     "locked": true,
     "schema_version": 3,
     "solution": false,
     "task": false
    }
   },
   "source": [
    "**Question 2.7** True or false:\n",
    "<br> {points: 1}\n",
    "\n",
    "Our analysis might change if we added additional variables, true or false?\n",
    "\n",
    "*Assign your answer to an object called `answer2_7`. Make sure your answer is a boolean. i.e. `True` or `False`.*"
   ]
  },
  {
   "cell_type": "code",
   "execution_count": null,
   "metadata": {
    "deletable": false,
    "nbgrader": {
     "cell_type": "code",
     "checksum": "ab48926dec272b00e0ec221e71784509",
     "grade": false,
     "grade_id": "cell-182ada6e6a903e48",
     "locked": false,
     "schema_version": 3,
     "solution": true,
     "task": false
    }
   },
   "outputs": [],
   "source": [
    "# your code here\n",
    "raise NotImplementedError"
   ]
  },
  {
   "cell_type": "code",
   "execution_count": null,
   "metadata": {
    "deletable": false,
    "editable": false,
    "nbgrader": {
     "cell_type": "code",
     "checksum": "c077d3005006dd356e41b1578d60566e",
     "grade": true,
     "grade_id": "cell-db3c4a1fcf69226e",
     "locked": true,
     "points": 0,
     "schema_version": 3,
     "solution": false,
     "task": false
    }
   },
   "outputs": [],
   "source": [
    "from hashlib import sha1\n",
    "assert sha1(str(type(answer2_7)).encode(\"utf-8\")+b\"cf09a\").hexdigest() == \"301f56448089b5ff6d5a6a1f4adf36b1810bb3e2\", \"type of answer2_7 is not bool. answer2_7 should be a bool\"\n",
    "assert sha1(str(answer2_7).encode(\"utf-8\")+b\"cf09a\").hexdigest() == \"3c46021edb714f9235dc55d07c1abdbb9246803c\", \"boolean value of answer2_7 is not correct\"\n",
    "\n",
    "print('Success!')"
   ]
  }
 ],
 "metadata": {
  "kernelspec": {
   "display_name": "Python 3 (ipykernel)",
   "language": "python",
   "name": "python3"
  },
  "language_info": {
   "codemirror_mode": {
    "name": "ipython",
    "version": 3
   },
   "file_extension": ".py",
   "mimetype": "text/x-python",
   "name": "python",
   "nbconvert_exporter": "python",
   "pygments_lexer": "ipython3",
   "version": "3.11.9"
  }
 },
 "nbformat": 4,
 "nbformat_minor": 4
}
