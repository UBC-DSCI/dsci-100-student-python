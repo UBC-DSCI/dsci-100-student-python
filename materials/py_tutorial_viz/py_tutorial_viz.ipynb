{
 "cells": [
  {
   "cell_type": "markdown",
   "metadata": {
    "deletable": false,
    "editable": false,
    "nbgrader": {
     "cell_type": "markdown",
     "checksum": "735b3648a222f7ad1e55e1c964fad268",
     "grade": false,
     "grade_id": "cell-f4ccfb3ce6b69253",
     "locked": true,
     "schema_version": 3,
     "solution": false,
     "task": false
    }
   },
   "source": [
    "# Tutorial 4: Effective Data Visualization \n",
    "\n",
    "### Lecture and Tutorial Learning Goals:\n",
    "\n",
    "Expand your data visualization knowledge and tool set beyond what we have seen and practiced so far. We will move beyond scatter plots and learn other effective ways to visualize data, as well as some general rules of thumb to follow when creating visualizations. All visualization tasks this week will be applied to real world data sets.\n",
    "\n",
    "After completing this week's lecture and tutorial work, you will be able to:\n",
    "\n",
    "- Describe when to use the following kinds of visualizations:\n",
    "    - scatter plots\n",
    "    - line plots\n",
    "    - bar plots\n",
    "- Given a dataset and a question, select from the above plot types to create a visualization that best answers the question\n",
    "- Given a visualization and a question, evaluate the effectiveness of the visualization and suggest improvements to better answer the question\n",
    "- Identify rules of thumb for creating effective visualizations\n",
    "- Define the two key aspects of altair objects:\n",
    "    - mark objects\n",
    "    - encodings\n",
    "- Use the altair library in Python to create and refine the above visualizations using:\n",
    "    - mark objects: `mark_point`, `mark_line`, `mark_bar`\n",
    "    - encodings : `x`, `y`, `fill`, `color`, `shape`\n",
    "    - subplots: `facet`\n",
    "- Describe the difference in raster and vector output formats\n",
    "- Use `save` to save visualizations in `png` and `svg` format\n",
    "\n",
    "\n",
    "Any place you see `___`, you must fill in the function, variable, or data to complete the code. "
   ]
  },
  {
   "cell_type": "code",
   "execution_count": null,
   "metadata": {
    "deletable": false,
    "editable": false,
    "nbgrader": {
     "cell_type": "code",
     "checksum": "91d86f104aef15cd588c6b7c8dd20eb4",
     "grade": false,
     "grade_id": "cell-483076aac3dc5fa7",
     "locked": true,
     "schema_version": 3,
     "solution": false,
     "task": false
    }
   },
   "outputs": [],
   "source": [
    "### Run this cell before continuing.\n",
    "import altair as alt\n",
    "import pandas as pd\n",
    "\n",
    "alt.data_transformers.disable_max_rows()"
   ]
  },
  {
   "cell_type": "markdown",
   "metadata": {
    "deletable": false,
    "editable": false,
    "nbgrader": {
     "cell_type": "markdown",
     "checksum": "63e8131b5ed88487af1cea9085981a07",
     "grade": false,
     "grade_id": "cell-d0104ab32afbab28",
     "locked": true,
     "schema_version": 3,
     "solution": false
    }
   },
   "source": [
    "**Question 0.1** \n",
    "<br> {points: 1}\n",
    "\n",
    "Match the following definitions with the corresponding encoding mapping or function used in Python:\n",
    "\n",
    "*Definitions*\n",
    "\n",
    "A. Prevents a chart from being stacked. It preserves the vertical position of a plot while adjusting the horizontal position. \n",
    "\n",
    "B. In bar charts, this encoding fills in the bars by a specific colour or separates the counts by a variable different from the x-axis. \n",
    "\n",
    "C. In bar charts, it outlines the bars but in scatterplots, it fills in the points (colouring them based on a particular variable aside from the x/y-axis). \n",
    "\n",
    "D. This encoding allows further visualization of data by varying data points by shape (modifying their shape based on a particular variable aside from the x/y-axis).\n",
    "\n",
    "E. Labels the y-axis. \n",
    "\n",
    "\n",
    "*Encodings and Functions*\n",
    "\n",
    "1. `color`\n",
    "2. `alt.Column`\n",
    "3. `fill`\n",
    "4. `alt.Y(title=\"\")`\n",
    "5. `shape`\n",
    "\n",
    "_For every description, create an object using the letter associated with the definition and assign it to the corresponding number from the list above. For example: `B = 1`_"
   ]
  },
  {
   "cell_type": "code",
   "execution_count": null,
   "metadata": {
    "deletable": false,
    "nbgrader": {
     "cell_type": "code",
     "checksum": "66df83b9a94a2c87a321bf0bd3642c85",
     "grade": false,
     "grade_id": "cell-b22b3db664eb1abc",
     "locked": false,
     "schema_version": 3,
     "solution": true
    }
   },
   "outputs": [],
   "source": [
    "# your code here\n",
    "raise NotImplementedError"
   ]
  },
  {
   "cell_type": "code",
   "execution_count": null,
   "metadata": {
    "deletable": false,
    "editable": false,
    "max_height": 100,
    "nbgrader": {
     "cell_type": "code",
     "checksum": "10688b184122e8d6c3db1bf0bcd2d8d5",
     "grade": true,
     "grade_id": "cell-471b37b1ecc45a3a",
     "locked": true,
     "points": 1,
     "schema_version": 3,
     "solution": false
    }
   },
   "outputs": [],
   "source": [
    "from hashlib import sha1\n",
    "assert sha1(str(type(A)).encode(\"utf-8\")+b\"aa718d8789417ad8\").hexdigest() == \"5c9af7469774cb93ea39f0f5603d4e99ec2bfab3\", \"type of A is not int. Please make sure it is int and not np.int64, etc. You can cast your value into an int using int()\"\n",
    "assert sha1(str(A).encode(\"utf-8\")+b\"aa718d8789417ad8\").hexdigest() == \"7c1b6e40b398b86c2d14cfc8b75794cb17bac77c\", \"value of A is not correct\"\n",
    "\n",
    "assert sha1(str(type(B)).encode(\"utf-8\")+b\"9f8829ed8be1aa44\").hexdigest() == \"4ac6a39bbb455ea1bc6c04fc0c5ecbeebcc18f49\", \"type of B is not int. Please make sure it is int and not np.int64, etc. You can cast your value into an int using int()\"\n",
    "assert sha1(str(B).encode(\"utf-8\")+b\"9f8829ed8be1aa44\").hexdigest() == \"6bcdeb4680ca31345f362312b966874bb143fe68\", \"value of B is not correct\"\n",
    "\n",
    "assert sha1(str(type(C)).encode(\"utf-8\")+b\"748eaef662bb9add\").hexdigest() == \"65bdac93bcdf3c0eb9320b1564adf6dac79f10a7\", \"type of C is not int. Please make sure it is int and not np.int64, etc. You can cast your value into an int using int()\"\n",
    "assert sha1(str(C).encode(\"utf-8\")+b\"748eaef662bb9add\").hexdigest() == \"1c7f1b599a73e5f358c004f36d84ffea74069c42\", \"value of C is not correct\"\n",
    "\n",
    "assert sha1(str(type(D)).encode(\"utf-8\")+b\"910dff81be557540\").hexdigest() == \"d5373e7629051e6dd49744bd0ba592816422254f\", \"type of D is not int. Please make sure it is int and not np.int64, etc. You can cast your value into an int using int()\"\n",
    "assert sha1(str(D).encode(\"utf-8\")+b\"910dff81be557540\").hexdigest() == \"2f9be864e834fc163c20dd0d795a82681f504a4e\", \"value of D is not correct\"\n",
    "\n",
    "assert sha1(str(type(E)).encode(\"utf-8\")+b\"10e4efd31ebe0d79\").hexdigest() == \"632f17c6eb76432763f87b51da14fa944bc9a577\", \"type of E is not int. Please make sure it is int and not np.int64, etc. You can cast your value into an int using int()\"\n",
    "assert sha1(str(E).encode(\"utf-8\")+b\"10e4efd31ebe0d79\").hexdigest() == \"c464640eec06368849cf346fa79e18d4d3cf23ad\", \"value of E is not correct\"\n",
    "\n",
    "print('Success!')"
   ]
  },
  {
   "cell_type": "markdown",
   "metadata": {
    "deletable": false,
    "editable": false,
    "nbgrader": {
     "cell_type": "markdown",
     "checksum": "4240e4674c57aca003052d6ca7cbfcaa",
     "grade": false,
     "grade_id": "cell-7b8ea6ab55690b06",
     "locked": true,
     "schema_version": 3,
     "solution": false,
     "task": false
    }
   },
   "source": [
    "**Question 0.2** True or False:\n",
    "<br> {points: 1}\n",
    "\n",
    "We should save a plot as an `.svg` file if we want to be able to rescale it without losing quality.\n",
    "\n",
    "*Assign your answer to an object called `answer0_2`. Make sure your answer is either `True` or `False`.*"
   ]
  },
  {
   "cell_type": "code",
   "execution_count": null,
   "metadata": {
    "deletable": false,
    "nbgrader": {
     "cell_type": "code",
     "checksum": "a4a72e07404123a05f2bd30510b4ef8c",
     "grade": false,
     "grade_id": "cell-8608b643ace9768c",
     "locked": false,
     "schema_version": 3,
     "solution": true,
     "task": false
    }
   },
   "outputs": [],
   "source": [
    "# your code here\n",
    "raise NotImplementedError"
   ]
  },
  {
   "cell_type": "code",
   "execution_count": null,
   "metadata": {
    "deletable": false,
    "editable": false,
    "max_height": 100,
    "nbgrader": {
     "cell_type": "code",
     "checksum": "0ad60e7b24f2f9d58a84432d0bdeb3cb",
     "grade": true,
     "grade_id": "cell-dd04803a3b061830",
     "locked": true,
     "points": 1,
     "schema_version": 3,
     "solution": false,
     "task": false
    }
   },
   "outputs": [],
   "source": [
    "from hashlib import sha1\n",
    "assert sha1(str(type(answer0_2)).encode(\"utf-8\")+b\"477fd8254199acd3\").hexdigest() == \"4e7057f94c39bcfa3009eb5894272208452ba494\", \"type of answer0_2 is not bool. answer0_2 should be a bool\"\n",
    "assert sha1(str(answer0_2).encode(\"utf-8\")+b\"477fd8254199acd3\").hexdigest() == \"5acf9ae1bffce80d826a997edf025c775b945444\", \"boolean value of answer0_2 is not correct\"\n",
    "\n",
    "print('Success!')"
   ]
  },
  {
   "cell_type": "markdown",
   "metadata": {
    "deletable": false,
    "editable": false,
    "nbgrader": {
     "cell_type": "markdown",
     "checksum": "615a2bf067137d1304c071b6932d6af0",
     "grade": false,
     "grade_id": "cell-b38e048867240520",
     "locked": true,
     "schema_version": 3,
     "solution": false,
     "task": false
    }
   },
   "source": [
    "## 1. Data on Personal Medical Costs \n",
    "\n",
    "As we saw in the worksheet, data scientists work in all types of organizations and with all kinds of problems. One of these types of organizations are companies in the private sector that work with health data. Today we will be looking at data on personal medical costs. There are varying factors that affect health and consequently medical costs. Our goal for today is to determine how are variables related to the medical costs billed by health insurance companies. \n",
    "\n",
    "\n",
    "To analyze this, we will be looking at a dataset that includes the following columns:\n",
    "\n",
    "* `age`: age of primary beneficiary\n",
    "* `sex`: insurance contractor gender: female, male\n",
    "* `bmi`: body mass index, providing an understanding of body, weights that are relatively high or low relative to height, objective index of body weight (kg/$m^{2}$) using the ratio of height to weight, ideally 18.5 to 24.9\n",
    "* `children`: number of children covered by health insurance / number of dependents\n",
    "* `smoker`: smoking\n",
    "* `region`: the beneficiary's residential area in the US: northeast, southeast, southwest, northwest.\n",
    "* `charges`: individual medical costs billed by health insurance\n",
    "\n",
    "*This dataset, was taken from the [collection of Data Sets](https://github.com/stedy/Machine-Learning-with-R-datasets) created and curated for the [Machine Learning with R](https://www.packtpub.com/big-data-and-business-intelligence/machine-learning-r) book by Brett Lantz.*"
   ]
  },
  {
   "cell_type": "markdown",
   "metadata": {
    "deletable": false,
    "editable": false,
    "nbgrader": {
     "cell_type": "markdown",
     "checksum": "6ad9715d8961dac0770f6fd55f0fe141",
     "grade": false,
     "grade_id": "cell-c5c6d19c1567adf8",
     "locked": true,
     "schema_version": 3,
     "solution": false
    }
   },
   "source": [
    "**Question 1.1** Yes or No: \n",
    "<br> {points: 1}\n",
    "\n",
    "Based on the information given in the cell above, do you think the column `charges` includes quantitative/numerical data? \n",
    "\n",
    "*Assign your answer to an object called `answer1_1`. Make sure your answer is written in lowercase and is surrounded by quotation marks (e.g. `\"yes\"` or `\"no\"`).*"
   ]
  },
  {
   "cell_type": "code",
   "execution_count": null,
   "metadata": {
    "deletable": false,
    "nbgrader": {
     "cell_type": "code",
     "checksum": "58b85af8c197667fb60613c43be41907",
     "grade": false,
     "grade_id": "cell-8da0d830fc8f8b0c",
     "locked": false,
     "schema_version": 3,
     "solution": true
    }
   },
   "outputs": [],
   "source": [
    "# your code here\n",
    "raise NotImplementedError"
   ]
  },
  {
   "cell_type": "code",
   "execution_count": null,
   "metadata": {
    "deletable": false,
    "editable": false,
    "max_height": 100,
    "nbgrader": {
     "cell_type": "code",
     "checksum": "d3ce08c6a3a26ec9086547bd1ec4e593",
     "grade": true,
     "grade_id": "cell-37a00841b56391ad",
     "locked": true,
     "points": 1,
     "schema_version": 3,
     "solution": false
    }
   },
   "outputs": [],
   "source": [
    "from hashlib import sha1\n",
    "assert sha1(str(type(answer1_1)).encode(\"utf-8\")+b\"3da4eec3bacb0d18\").hexdigest() == \"cf6035b282a740825ee3bbeff79ddb86aac9690d\", \"type of answer1_1 is not str. answer1_1 should be an str\"\n",
    "assert sha1(str(len(answer1_1)).encode(\"utf-8\")+b\"3da4eec3bacb0d18\").hexdigest() == \"1c54a168d74ea897857ceeaf58821a5eb9cf975b\", \"length of answer1_1 is not correct\"\n",
    "assert sha1(str(answer1_1.lower()).encode(\"utf-8\")+b\"3da4eec3bacb0d18\").hexdigest() == \"4b74cc012a0128ee11773dc50893732f3d671a6f\", \"value of answer1_1 is not correct\"\n",
    "assert sha1(str(answer1_1).encode(\"utf-8\")+b\"3da4eec3bacb0d18\").hexdigest() == \"4b74cc012a0128ee11773dc50893732f3d671a6f\", \"correct string value of answer1_1 but incorrect case of letters\"\n",
    "\n",
    "print('Success!')"
   ]
  },
  {
   "cell_type": "markdown",
   "metadata": {
    "deletable": false,
    "editable": false,
    "nbgrader": {
     "cell_type": "markdown",
     "checksum": "36137bffb0c9d1f4b6ca76b8ef09cb86",
     "grade": false,
     "grade_id": "cell-4325b0202bdfb877",
     "locked": true,
     "schema_version": 3,
     "solution": false
    }
   },
   "source": [
    "**Question 1.2** Multiple Choice:\n",
    "<br> {points: 1}\n",
    "\n",
    "Assuming overplotting is not an issue, which plot would be the most effective to compare the relationship of `age` and `charges`?\n",
    "\n",
    "A. Scatterplot \n",
    "\n",
    "B. Stacked Bar Plot \n",
    "\n",
    "C. Bar Plot \n",
    "\n",
    "*Assign your answer to an object called `answer1_2`. Make sure your answer is an uppercase letter and is surrounded by quotation marks (e.g. `\"F\"`).*"
   ]
  },
  {
   "cell_type": "code",
   "execution_count": null,
   "metadata": {
    "deletable": false,
    "nbgrader": {
     "cell_type": "code",
     "checksum": "6eff534fb24cb70fe4edc042a41d3da1",
     "grade": false,
     "grade_id": "cell-776947ebfdd46a40",
     "locked": false,
     "schema_version": 3,
     "solution": true
    }
   },
   "outputs": [],
   "source": [
    "# your code here\n",
    "raise NotImplementedError"
   ]
  },
  {
   "cell_type": "code",
   "execution_count": null,
   "metadata": {
    "deletable": false,
    "editable": false,
    "max_height": 100,
    "nbgrader": {
     "cell_type": "code",
     "checksum": "e78a61410beef81f8a4973fc1e094cd4",
     "grade": true,
     "grade_id": "cell-d344b7c03dae8345",
     "locked": true,
     "points": 1,
     "schema_version": 3,
     "solution": false
    }
   },
   "outputs": [],
   "source": [
    "from hashlib import sha1\n",
    "assert sha1(str(type(answer1_2)).encode(\"utf-8\")+b\"defc916b96141ca1\").hexdigest() == \"cc4a2d735845aefb77047f72ad27165098da0ad0\", \"type of answer1_2 is not str. answer1_2 should be an str\"\n",
    "assert sha1(str(len(answer1_2)).encode(\"utf-8\")+b\"defc916b96141ca1\").hexdigest() == \"6d24d2fa20078c66048a7b0cd524c79178f8877e\", \"length of answer1_2 is not correct\"\n",
    "assert sha1(str(answer1_2.lower()).encode(\"utf-8\")+b\"defc916b96141ca1\").hexdigest() == \"59760d18c5925f89f38df37d6e4c77f12b5969a9\", \"value of answer1_2 is not correct\"\n",
    "assert sha1(str(answer1_2).encode(\"utf-8\")+b\"defc916b96141ca1\").hexdigest() == \"4cb8c6a790f04c24bfaf5d6df82300344d705c00\", \"correct string value of answer1_2 but incorrect case of letters\"\n",
    "\n",
    "print('Success!')"
   ]
  },
  {
   "cell_type": "markdown",
   "metadata": {
    "deletable": false,
    "editable": false,
    "nbgrader": {
     "cell_type": "markdown",
     "checksum": "3bf8f6a9963e98933aa89f2b25ce5810",
     "grade": false,
     "grade_id": "cell-ab7e6749d3d47397",
     "locked": true,
     "schema_version": 3,
     "solution": false
    }
   },
   "source": [
    "**Question 1.3**\n",
    "<br> {points: 1}\n",
    "\n",
    "Read the `insurance.csv` file in the `data` folder and use `tail` to view the last 6 individuals presented. \n",
    "\n",
    "*Assign your answer to an object called `insurance`.*"
   ]
  },
  {
   "cell_type": "code",
   "execution_count": null,
   "metadata": {
    "deletable": false,
    "nbgrader": {
     "cell_type": "code",
     "checksum": "1b61d4ceb1107cc13e95ab6409c73c32",
     "grade": false,
     "grade_id": "cell-ace20e7d125da6cc",
     "locked": false,
     "schema_version": 3,
     "solution": true
    }
   },
   "outputs": [],
   "source": [
    "# your code here\n",
    "raise NotImplementedError\n",
    "insurance.tail(6)  # preview the last 6 rows of the data set"
   ]
  },
  {
   "cell_type": "code",
   "execution_count": null,
   "metadata": {
    "deletable": false,
    "editable": false,
    "max_height": 100,
    "nbgrader": {
     "cell_type": "code",
     "checksum": "373950f320c73ef74511c22c80a6baf9",
     "grade": true,
     "grade_id": "cell-662935f6d4ccb428",
     "locked": true,
     "points": 1,
     "schema_version": 3,
     "solution": false
    }
   },
   "outputs": [],
   "source": [
    "from hashlib import sha1\n",
    "assert sha1(str(type(insurance is None)).encode(\"utf-8\")+b\"14ac3b7cb76d38cc\").hexdigest() == \"55b21d79ac4e2871a573f2400cd2c24fead7d8af\", \"type of insurance is None is not bool. insurance is None should be a bool\"\n",
    "assert sha1(str(insurance is None).encode(\"utf-8\")+b\"14ac3b7cb76d38cc\").hexdigest() == \"89df98ab755ee89a91608581fb11f2e6e0ba8dcf\", \"boolean value of insurance is None is not correct\"\n",
    "\n",
    "assert sha1(str(type(insurance)).encode(\"utf-8\")+b\"1c62da8195639c32\").hexdigest() == \"bee3e82b2834b4df2c41d50370c8775f76112d63\", \"type of type(insurance) is not correct\"\n",
    "\n",
    "assert sha1(str(type(insurance.shape)).encode(\"utf-8\")+b\"1666389d0f1d7cde\").hexdigest() == \"e500c7befd143793e01af27099915a36df156778\", \"type of insurance.shape is not tuple. insurance.shape should be a tuple\"\n",
    "assert sha1(str(len(insurance.shape)).encode(\"utf-8\")+b\"1666389d0f1d7cde\").hexdigest() == \"7ca9cc4b824ef782cccbfb9e70d7a8f3e8a0b1d2\", \"length of insurance.shape is not correct\"\n",
    "assert sha1(str(sorted(map(str, insurance.shape))).encode(\"utf-8\")+b\"1666389d0f1d7cde\").hexdigest() == \"c6c39cf559902a0a875c6156a30f1c2e03738b2d\", \"values of insurance.shape are not correct\"\n",
    "assert sha1(str(insurance.shape).encode(\"utf-8\")+b\"1666389d0f1d7cde\").hexdigest() == \"5af964bddb4e25efc5011f97eacecc81494c1212\", \"order of elements of insurance.shape is not correct\"\n",
    "\n",
    "assert sha1(str(type(round(sum(insurance.age), 2))).encode(\"utf-8\")+b\"646afc8f80515627\").hexdigest() == \"3afd1804726091991e16b3527b2d602fc193039d\", \"type of round(sum(insurance.age), 2) is not int. Please make sure it is int and not np.int64, etc. You can cast your value into an int using int()\"\n",
    "assert sha1(str(round(sum(insurance.age), 2)).encode(\"utf-8\")+b\"646afc8f80515627\").hexdigest() == \"91f4fb0c5bef4c2ad54eb6257865272b6215e18d\", \"value of round(sum(insurance.age), 2) is not correct\"\n",
    "\n",
    "assert sha1(str(type(len(insurance.region.unique()))).encode(\"utf-8\")+b\"b94c19e885c659c0\").hexdigest() == \"dfe7b5b2478fd9f0f1b8a260bbb9f41f837ffbbd\", \"type of len(insurance.region.unique()) is not int. Please make sure it is int and not np.int64, etc. You can cast your value into an int using int()\"\n",
    "assert sha1(str(len(insurance.region.unique())).encode(\"utf-8\")+b\"b94c19e885c659c0\").hexdigest() == \"74bc12878e7593a56ffe00eae43f9e270f4eee0f\", \"value of len(insurance.region.unique()) is not correct\"\n",
    "\n",
    "print('Success!')"
   ]
  },
  {
   "cell_type": "markdown",
   "metadata": {
    "deletable": false,
    "editable": false,
    "nbgrader": {
     "cell_type": "markdown",
     "checksum": "4137535f0e3499704cc6c1fdb2f62be9",
     "grade": false,
     "grade_id": "cell-8c60df934c35dd9a",
     "locked": true,
     "schema_version": 3,
     "solution": false
    }
   },
   "source": [
    "**Question 1.4** \n",
    "<br> {points: 3}\n",
    "\n",
    "Looking over the loaded data shown above, what observations can you make about the relationship between medical charges and age? How about medical charges and BMI? Finally, what about medical charges and smoking? \n",
    "\n",
    "Also, comment on whether our observations might change if we visualize the data? And/or whether visualizing the data might allow us to more easily make observations about the relationships in the data as opposed to trying to make them directly from the data table?\n",
    "\n",
    "Answer in the cell below."
   ]
  },
  {
   "cell_type": "markdown",
   "metadata": {
    "deletable": false,
    "max_height": 100,
    "nbgrader": {
     "cell_type": "markdown",
     "checksum": "461e90160ad679e460221e1c3128100f",
     "grade": true,
     "grade_id": "cell-62d184813aadd4b3",
     "locked": false,
     "points": 3,
     "schema_version": 3,
     "solution": true
    }
   },
   "source": [
    "DOUBLE CLICK TO EDIT **THIS CELL** AND REPLACE THIS TEXT WITH YOUR ANSWER."
   ]
  },
  {
   "cell_type": "markdown",
   "metadata": {
    "deletable": false,
    "editable": false,
    "nbgrader": {
     "cell_type": "markdown",
     "checksum": "14c067acd2ac56c2511f02bcaa337247",
     "grade": false,
     "grade_id": "cell-865d9fd68151c0a0",
     "locked": true,
     "schema_version": 3,
     "solution": false
    }
   },
   "source": [
    "**Question 1.5**\n",
    "<br> {points: 1}\n",
    "\n",
    "According to the National Heart, Lung and Blood Institute of the US: \"The higher your BMI, the higher your risk for certain diseases such as heart disease, high blood pressure, type 2 diabetes, gallstones, breathing problems, and certain cancers\". \n",
    "\n",
    "Based on this information, we can hypothesize that individuals with a higher BMI are likely to have more medical costs. Let's use our data and see if this holds true. Create a scatter plot of `charges` (y-axis) versus `bmi` (x-axis).\n",
    "\n",
    "In the scaffolding we provide below, we suggest that you set `opacity` to a value between 0.2 and 0.4. `opacity` sets the transparency of points on a scatter plot, and increasing transparencing of points is one tool you can use to deal with over plotting issues.\n",
    "\n",
    "*Assign your answer to an object called `bmi_plot`. Make sure to label your axes appropriately.*"
   ]
  },
  {
   "cell_type": "code",
   "execution_count": null,
   "metadata": {
    "deletable": false,
    "nbgrader": {
     "cell_type": "code",
     "checksum": "f1c27e0ab37a1d874e2a25bd25d4741c",
     "grade": false,
     "grade_id": "cell-fa480888e071a7ee",
     "locked": false,
     "schema_version": 3,
     "solution": true
    }
   },
   "outputs": [],
   "source": [
    "# ___ = (\n",
    "#     alt.Chart(insurance, title=___) # set the title for the entire plot\n",
    "#     .___(opacity=___)  # Deals with the transparency of the points, set it to an appropiate value\n",
    "#     .encode(\n",
    "#         x=alt.X(___),\n",
    "#         y=alt.Y(___),\n",
    "#     )\n",
    "#     .properties(width=380, height=300)  #Remember to set your plot sizes to an appropiate size\n",
    "# )\n",
    "\n",
    "# your code here\n",
    "raise NotImplementedError\n",
    "bmi_plot"
   ]
  },
  {
   "cell_type": "code",
   "execution_count": null,
   "metadata": {
    "deletable": false,
    "editable": false,
    "max_height": 100,
    "nbgrader": {
     "cell_type": "code",
     "checksum": "6dccfdbd4660e1fb5a090b493f4e1588",
     "grade": true,
     "grade_id": "cell-b6e79c0645925ade",
     "locked": true,
     "points": 1,
     "schema_version": 3,
     "solution": false
    }
   },
   "outputs": [],
   "source": [
    "from hashlib import sha1\n",
    "assert sha1(str(type(bmi_plot is None)).encode(\"utf-8\")+b\"c0e2c520fd06e61f\").hexdigest() == \"f1cc66a88660819986ad2041814d296a13ef2076\", \"type of bmi_plot is None is not bool. bmi_plot is None should be a bool\"\n",
    "assert sha1(str(bmi_plot is None).encode(\"utf-8\")+b\"c0e2c520fd06e61f\").hexdigest() == \"ad53ded02db096f469089a0ee76972bfeb081094\", \"boolean value of bmi_plot is None is not correct\"\n",
    "\n",
    "assert sha1(str(type(bmi_plot.encoding.x.field)).encode(\"utf-8\")+b\"77e864d2f06bdd83\").hexdigest() == \"40e505efc5c3e702a52a4c174f583197e56a3fc0\", \"type of bmi_plot.encoding.x.field is not str. bmi_plot.encoding.x.field should be an str\"\n",
    "assert sha1(str(len(bmi_plot.encoding.x.field)).encode(\"utf-8\")+b\"77e864d2f06bdd83\").hexdigest() == \"2bf9fa732b374235d008a9dfb5595acb98893ed8\", \"length of bmi_plot.encoding.x.field is not correct\"\n",
    "assert sha1(str(bmi_plot.encoding.x.field.lower()).encode(\"utf-8\")+b\"77e864d2f06bdd83\").hexdigest() == \"c25b366f8fb38a80e5a54c2c33e2f771a9c60788\", \"value of bmi_plot.encoding.x.field is not correct\"\n",
    "assert sha1(str(bmi_plot.encoding.x.field).encode(\"utf-8\")+b\"77e864d2f06bdd83\").hexdigest() == \"c25b366f8fb38a80e5a54c2c33e2f771a9c60788\", \"correct string value of bmi_plot.encoding.x.field but incorrect case of letters\"\n",
    "\n",
    "assert sha1(str(type(bmi_plot.encoding.y.field)).encode(\"utf-8\")+b\"aa2b9ed9895c6d9d\").hexdigest() == \"333720a13305058ed18006340734f2cd4d42b540\", \"type of bmi_plot.encoding.y.field is not str. bmi_plot.encoding.y.field should be an str\"\n",
    "assert sha1(str(len(bmi_plot.encoding.y.field)).encode(\"utf-8\")+b\"aa2b9ed9895c6d9d\").hexdigest() == \"7021b34db5463d4cbbd6b0e47582012338d589fa\", \"length of bmi_plot.encoding.y.field is not correct\"\n",
    "assert sha1(str(bmi_plot.encoding.y.field.lower()).encode(\"utf-8\")+b\"aa2b9ed9895c6d9d\").hexdigest() == \"c31e5bed2ddd8afa993343881ed9b9d111e5129d\", \"value of bmi_plot.encoding.y.field is not correct\"\n",
    "assert sha1(str(bmi_plot.encoding.y.field).encode(\"utf-8\")+b\"aa2b9ed9895c6d9d\").hexdigest() == \"c31e5bed2ddd8afa993343881ed9b9d111e5129d\", \"correct string value of bmi_plot.encoding.y.field but incorrect case of letters\"\n",
    "\n",
    "assert sha1(str(type(bmi_plot.mark)).encode(\"utf-8\")+b\"7b8993aade51bd8e\").hexdigest() == \"fe047e9af34bbbb49a1e110bff3c51a1453f24a7\", \"type of bmi_plot.mark is not correct\"\n",
    "assert sha1(str(bmi_plot.mark).encode(\"utf-8\")+b\"7b8993aade51bd8e\").hexdigest() == \"f36f0ec7b6b747590dc37c5d66bd7c502703ca6b\", \"value of bmi_plot.mark is not correct\"\n",
    "\n",
    "assert sha1(str(type(bmi_plot.encoding.x.title != bmi_plot.encoding.x.field)).encode(\"utf-8\")+b\"62d65bcf170d1927\").hexdigest() == \"aff0c14c3115656c0fb4e04fffe7360e6deda46a\", \"type of bmi_plot.encoding.x.title != bmi_plot.encoding.x.field is not bool. bmi_plot.encoding.x.title != bmi_plot.encoding.x.field should be a bool\"\n",
    "assert sha1(str(bmi_plot.encoding.x.title != bmi_plot.encoding.x.field).encode(\"utf-8\")+b\"62d65bcf170d1927\").hexdigest() == \"5d69c6a6ee77f09a1ae55287812d0ee4a0ce924a\", \"boolean value of bmi_plot.encoding.x.title != bmi_plot.encoding.x.field is not correct\"\n",
    "\n",
    "assert sha1(str(type(bmi_plot.encoding.y.title != bmi_plot.encoding.y.field)).encode(\"utf-8\")+b\"ce7e7c623cfc66a3\").hexdigest() == \"34e5d3dd2d838f8a7e16f82920a6fc55089c2ed6\", \"type of bmi_plot.encoding.y.title != bmi_plot.encoding.y.field is not bool. bmi_plot.encoding.y.title != bmi_plot.encoding.y.field should be a bool\"\n",
    "assert sha1(str(bmi_plot.encoding.y.title != bmi_plot.encoding.y.field).encode(\"utf-8\")+b\"ce7e7c623cfc66a3\").hexdigest() == \"f8635aea2e7c5b7085b3f691d9e1076f6435ad84\", \"boolean value of bmi_plot.encoding.y.title != bmi_plot.encoding.y.field is not correct\"\n",
    "\n",
    "print('Success!')"
   ]
  },
  {
   "cell_type": "markdown",
   "metadata": {
    "deletable": false,
    "editable": false,
    "nbgrader": {
     "cell_type": "markdown",
     "checksum": "9af33bf4ee59c56bf62df4df44072a75",
     "grade": false,
     "grade_id": "cell-128a1023c3d0bc57",
     "locked": true,
     "schema_version": 3,
     "solution": false
    }
   },
   "source": [
    "**Question 1.6**\n",
    "<br> {points: 3}\n",
    "\n",
    "Analysis: Comment on the effectiveness of the plot. Take into consideration the rules of thumb discussed in lecture. Also comment on what could be improved for this plot and also what is done correctly. \n",
    "\n",
    "Answer in the cell below."
   ]
  },
  {
   "cell_type": "markdown",
   "metadata": {
    "deletable": false,
    "max_height": 100,
    "nbgrader": {
     "cell_type": "markdown",
     "checksum": "9b2daa8b91edbccdb89ea0adecd51245",
     "grade": true,
     "grade_id": "cell-a3673af9bcf8288b",
     "locked": false,
     "points": 3,
     "schema_version": 3,
     "solution": true
    }
   },
   "source": [
    "DOUBLE CLICK TO EDIT **THIS CELL** AND REPLACE THIS TEXT WITH YOUR ANSWER."
   ]
  },
  {
   "cell_type": "markdown",
   "metadata": {
    "deletable": false,
    "editable": false,
    "nbgrader": {
     "cell_type": "markdown",
     "checksum": "feb9a1519eb25c8c86cc1c324d16d22d",
     "grade": false,
     "grade_id": "cell-9a854e3ee84b2fe0",
     "locked": true,
     "schema_version": 3,
     "solution": false
    }
   },
   "source": [
    "**Question 1.7**\n",
    "<br> {points: 3}\n",
    "\n",
    "Analysis: What do you observe from the scatter plot? Do the data suggest that there might be evidence of a relationship between BMI and medical costs of individuals? \n",
    "From this plot alone, can we say higher BMI causes higher medical charges? Why or why not? \n",
    "\n",
    "Answer in the cell below. "
   ]
  },
  {
   "cell_type": "markdown",
   "metadata": {
    "deletable": false,
    "max_height": 100,
    "nbgrader": {
     "cell_type": "markdown",
     "checksum": "fe3c8775d82b1cccd32d0a856917600b",
     "grade": true,
     "grade_id": "cell-93c1d5cb7d1bcbea",
     "locked": false,
     "points": 3,
     "schema_version": 3,
     "solution": true
    }
   },
   "source": [
    "DOUBLE CLICK TO EDIT **THIS CELL** AND REPLACE THIS TEXT WITH YOUR ANSWER."
   ]
  },
  {
   "cell_type": "markdown",
   "metadata": {
    "deletable": false,
    "editable": false,
    "nbgrader": {
     "cell_type": "markdown",
     "checksum": "c54e0eba96cae46d973000178435751f",
     "grade": false,
     "grade_id": "cell-8e216e802a268da5",
     "locked": true,
     "schema_version": 3,
     "solution": false
    }
   },
   "source": [
    "**Question 1.8**\n",
    "<br> {points: 3}\n",
    "\n",
    "Again, based on information from the National Heart, Lung and Blood Institute of the US, smoking cigarettes is said to be a risk factor for obesity. Create the same plot as you did in **Question 1.5** but this time add the `color` encoding to observe if smoking might affect the body mass of individuals. You may want to pass `opacity = 0.4` to the scatter geometric object to make the scatter points translucent (just for your own ease of visualization; you don't have to and we won't check that when grading).\n",
    "\n",
    "*Assign your answer to an object called `smoke_plot`. Make sure to label your axes appropriately.*"
   ]
  },
  {
   "cell_type": "code",
   "execution_count": null,
   "metadata": {
    "deletable": false,
    "nbgrader": {
     "cell_type": "code",
     "checksum": "053774fdc7324c213b192c42c6338730",
     "grade": false,
     "grade_id": "cell-2128ed1aa06e5391",
     "locked": false,
     "schema_version": 3,
     "solution": true,
     "task": false
    }
   },
   "outputs": [],
   "source": [
    "# your code here\n",
    "raise NotImplementedError\n",
    "smoke_plot"
   ]
  },
  {
   "cell_type": "code",
   "execution_count": null,
   "metadata": {
    "deletable": false,
    "editable": false,
    "max_height": 100,
    "nbgrader": {
     "cell_type": "code",
     "checksum": "6cffa8737541ab3652899248ea58ccdb",
     "grade": true,
     "grade_id": "cell-a5dc720f9e5813bd",
     "locked": true,
     "points": 3,
     "schema_version": 3,
     "solution": false,
     "task": false
    }
   },
   "outputs": [],
   "source": [
    "from hashlib import sha1\n",
    "assert sha1(str(type(smoke_plot is None)).encode(\"utf-8\")+b\"4e8a2347a99fd111\").hexdigest() == \"a16f8c658c383d3b549ec525674d7fdceedf37ca\", \"type of smoke_plot is None is not bool. smoke_plot is None should be a bool\"\n",
    "assert sha1(str(smoke_plot is None).encode(\"utf-8\")+b\"4e8a2347a99fd111\").hexdigest() == \"573509636511666f838f27abb6a04b4c99a05844\", \"boolean value of smoke_plot is None is not correct\"\n",
    "\n",
    "assert sha1(str(type(smoke_plot.encoding.x.field)).encode(\"utf-8\")+b\"04b91e5f7779734f\").hexdigest() == \"69c1c3b7c705f0417d366af5041c13aa0e235aa2\", \"type of smoke_plot.encoding.x.field is not str. smoke_plot.encoding.x.field should be an str\"\n",
    "assert sha1(str(len(smoke_plot.encoding.x.field)).encode(\"utf-8\")+b\"04b91e5f7779734f\").hexdigest() == \"6ed1f05f340461bb479ec3cb0cf49f1e7babef01\", \"length of smoke_plot.encoding.x.field is not correct\"\n",
    "assert sha1(str(smoke_plot.encoding.x.field.lower()).encode(\"utf-8\")+b\"04b91e5f7779734f\").hexdigest() == \"963e3762701fed4b46499d564ae7d37c60fa7a10\", \"value of smoke_plot.encoding.x.field is not correct\"\n",
    "assert sha1(str(smoke_plot.encoding.x.field).encode(\"utf-8\")+b\"04b91e5f7779734f\").hexdigest() == \"963e3762701fed4b46499d564ae7d37c60fa7a10\", \"correct string value of smoke_plot.encoding.x.field but incorrect case of letters\"\n",
    "\n",
    "assert sha1(str(type(smoke_plot.encoding.y.field)).encode(\"utf-8\")+b\"f832156d0a7f9193\").hexdigest() == \"b9323da3037c42b4e01ae4694a3666b9f531df5a\", \"type of smoke_plot.encoding.y.field is not str. smoke_plot.encoding.y.field should be an str\"\n",
    "assert sha1(str(len(smoke_plot.encoding.y.field)).encode(\"utf-8\")+b\"f832156d0a7f9193\").hexdigest() == \"7bfee464f922b24dd8d691301e7274d70ca91660\", \"length of smoke_plot.encoding.y.field is not correct\"\n",
    "assert sha1(str(smoke_plot.encoding.y.field.lower()).encode(\"utf-8\")+b\"f832156d0a7f9193\").hexdigest() == \"1d6c69ccbb6f4127152bc19bdbcda087ed8de4ed\", \"value of smoke_plot.encoding.y.field is not correct\"\n",
    "assert sha1(str(smoke_plot.encoding.y.field).encode(\"utf-8\")+b\"f832156d0a7f9193\").hexdigest() == \"1d6c69ccbb6f4127152bc19bdbcda087ed8de4ed\", \"correct string value of smoke_plot.encoding.y.field but incorrect case of letters\"\n",
    "\n",
    "assert sha1(str(type(smoke_plot.encoding.color.field)).encode(\"utf-8\")+b\"f3a9e309a9dfbcda\").hexdigest() == \"5b3eae788daa5c9c47a3dedbdc23214a97ace4e9\", \"type of smoke_plot.encoding.color.field is not str. smoke_plot.encoding.color.field should be an str\"\n",
    "assert sha1(str(len(smoke_plot.encoding.color.field)).encode(\"utf-8\")+b\"f3a9e309a9dfbcda\").hexdigest() == \"6cc589c2b27e3b91d46ad3f17cea6ffc295c375f\", \"length of smoke_plot.encoding.color.field is not correct\"\n",
    "assert sha1(str(smoke_plot.encoding.color.field.lower()).encode(\"utf-8\")+b\"f3a9e309a9dfbcda\").hexdigest() == \"4e12db7fcdeed48a2923c8995a990c0651dd1584\", \"value of smoke_plot.encoding.color.field is not correct\"\n",
    "assert sha1(str(smoke_plot.encoding.color.field).encode(\"utf-8\")+b\"f3a9e309a9dfbcda\").hexdigest() == \"4e12db7fcdeed48a2923c8995a990c0651dd1584\", \"correct string value of smoke_plot.encoding.color.field but incorrect case of letters\"\n",
    "\n",
    "assert sha1(str(type(smoke_plot.mark.type)).encode(\"utf-8\")+b\"709639564908751b\").hexdigest() == \"636031857a000295d50adb756ef97d0b494e1ebf\", \"type of smoke_plot.mark.type is not str. smoke_plot.mark.type should be an str\"\n",
    "assert sha1(str(len(smoke_plot.mark.type)).encode(\"utf-8\")+b\"709639564908751b\").hexdigest() == \"c2aa8af981a8ed55c1c8590ae9fa81cc0e6eac81\", \"length of smoke_plot.mark.type is not correct\"\n",
    "assert sha1(str(smoke_plot.mark.type.lower()).encode(\"utf-8\")+b\"709639564908751b\").hexdigest() == \"1969d4d8107fa2133c6792020ae1bb363e11720b\", \"value of smoke_plot.mark.type is not correct\"\n",
    "assert sha1(str(smoke_plot.mark.type).encode(\"utf-8\")+b\"709639564908751b\").hexdigest() == \"1969d4d8107fa2133c6792020ae1bb363e11720b\", \"correct string value of smoke_plot.mark.type but incorrect case of letters\"\n",
    "\n",
    "assert sha1(str(type(smoke_plot.encoding.x.title != smoke_plot.encoding.x.field)).encode(\"utf-8\")+b\"5d229565efe90204\").hexdigest() == \"5af0035b794ff88cfef9fe98f08456ee4a3214c6\", \"type of smoke_plot.encoding.x.title != smoke_plot.encoding.x.field is not bool. smoke_plot.encoding.x.title != smoke_plot.encoding.x.field should be a bool\"\n",
    "assert sha1(str(smoke_plot.encoding.x.title != smoke_plot.encoding.x.field).encode(\"utf-8\")+b\"5d229565efe90204\").hexdigest() == \"499ef404c523bd0355f22b39f141f48ade8609a3\", \"boolean value of smoke_plot.encoding.x.title != smoke_plot.encoding.x.field is not correct\"\n",
    "\n",
    "assert sha1(str(type(smoke_plot.encoding.y.title != smoke_plot.encoding.y.field)).encode(\"utf-8\")+b\"d2cb5f531cdb12ed\").hexdigest() == \"712dc0ac48c2ef62a307273ec27d9421fe88c542\", \"type of smoke_plot.encoding.y.title != smoke_plot.encoding.y.field is not bool. smoke_plot.encoding.y.title != smoke_plot.encoding.y.field should be a bool\"\n",
    "assert sha1(str(smoke_plot.encoding.y.title != smoke_plot.encoding.y.field).encode(\"utf-8\")+b\"d2cb5f531cdb12ed\").hexdigest() == \"b95ef974144586344b25e7de44cea0e9426cddfa\", \"boolean value of smoke_plot.encoding.y.title != smoke_plot.encoding.y.field is not correct\"\n",
    "\n",
    "assert sha1(str(type(smoke_plot.encoding.color.title != smoke_plot.encoding.color.field)).encode(\"utf-8\")+b\"cc5c11fc990a82e5\").hexdigest() == \"ee99d51b01f0f09f6021693b29aa7581384a2731\", \"type of smoke_plot.encoding.color.title != smoke_plot.encoding.color.field is not bool. smoke_plot.encoding.color.title != smoke_plot.encoding.color.field should be a bool\"\n",
    "assert sha1(str(smoke_plot.encoding.color.title != smoke_plot.encoding.color.field).encode(\"utf-8\")+b\"cc5c11fc990a82e5\").hexdigest() == \"75f7109322d31c532dbb15ce79cfd8643f1668ab\", \"boolean value of smoke_plot.encoding.color.title != smoke_plot.encoding.color.field is not correct\"\n",
    "\n",
    "print('Success!')"
   ]
  },
  {
   "cell_type": "markdown",
   "metadata": {
    "deletable": false,
    "editable": false,
    "nbgrader": {
     "cell_type": "markdown",
     "checksum": "9687eb53e9e56831a6ca975b6ac3e2f9",
     "grade": false,
     "grade_id": "cell-4cbc5d12976da647",
     "locked": true,
     "schema_version": 3,
     "solution": false
    }
   },
   "source": [
    "**Question 1.9.0** (Analyzing the Graph) True or False: \n",
    "<br> {points: 1}\n",
    "\n",
    "Smokers generally have a lower BMI than non-smokers. \n",
    "\n",
    "*Assign your answer to an object called `answer1_9_0`. Make sure your answer is either `True` or `False`.*"
   ]
  },
  {
   "cell_type": "code",
   "execution_count": null,
   "metadata": {
    "deletable": false,
    "nbgrader": {
     "cell_type": "code",
     "checksum": "ca35652fff3cb5d09e46b0976b9c159f",
     "grade": false,
     "grade_id": "cell-4302d377b0fc06e3",
     "locked": false,
     "schema_version": 3,
     "solution": true
    }
   },
   "outputs": [],
   "source": [
    "# your code here\n",
    "raise NotImplementedError"
   ]
  },
  {
   "cell_type": "code",
   "execution_count": null,
   "metadata": {
    "deletable": false,
    "editable": false,
    "max_height": 100,
    "nbgrader": {
     "cell_type": "code",
     "checksum": "8375fdad3a22f3f15f5a33523095d9d8",
     "grade": true,
     "grade_id": "cell-9d85f368775a121b",
     "locked": true,
     "points": 1,
     "schema_version": 3,
     "solution": false
    }
   },
   "outputs": [],
   "source": [
    "from hashlib import sha1\n",
    "assert sha1(str(type(answer1_9_0)).encode(\"utf-8\")+b\"8b921544d3eb966d\").hexdigest() == \"644ba59a1eb140b304e587ec34a65c6875ae67c2\", \"type of answer1_9_0 is not bool. answer1_9_0 should be a bool\"\n",
    "assert sha1(str(answer1_9_0).encode(\"utf-8\")+b\"8b921544d3eb966d\").hexdigest() == \"f226fcf948959b1c77dac7daaa0eaa1af401998f\", \"boolean value of answer1_9_0 is not correct\"\n",
    "\n",
    "print('Success!')"
   ]
  },
  {
   "cell_type": "markdown",
   "metadata": {
    "deletable": false,
    "editable": false,
    "nbgrader": {
     "cell_type": "markdown",
     "checksum": "0a877743e5978eb5612392b81c6d74f2",
     "grade": false,
     "grade_id": "cell-9548b0b41e3b4700",
     "locked": true,
     "schema_version": 3,
     "solution": false
    }
   },
   "source": [
    "**Question 1.9.1** (Analyzing the Graph) True or False: \n",
    "<br> {points: 1}\n",
    "\n",
    "Smokers generally have higher medical charges than non-smokers.\n",
    "\n",
    "*Assign your answer to an object called `answer1_9_1`.Make sure your answer is either `True` or `False`.*"
   ]
  },
  {
   "cell_type": "code",
   "execution_count": null,
   "metadata": {
    "deletable": false,
    "nbgrader": {
     "cell_type": "code",
     "checksum": "bbc85d9bca6cf15a7aab41acbe32aeec",
     "grade": false,
     "grade_id": "cell-b9f9c54000889b5c",
     "locked": false,
     "schema_version": 3,
     "solution": true
    }
   },
   "outputs": [],
   "source": [
    "# your code here\n",
    "raise NotImplementedError"
   ]
  },
  {
   "cell_type": "code",
   "execution_count": null,
   "metadata": {
    "deletable": false,
    "editable": false,
    "max_height": 100,
    "nbgrader": {
     "cell_type": "code",
     "checksum": "c2b9c1a8544bb5ff4801e0856715e3de",
     "grade": true,
     "grade_id": "cell-b82577eedde24cb1",
     "locked": true,
     "points": 1,
     "schema_version": 3,
     "solution": false
    }
   },
   "outputs": [],
   "source": [
    "from hashlib import sha1\n",
    "assert sha1(str(type(answer1_9_1)).encode(\"utf-8\")+b\"782c933c8e3389bd\").hexdigest() == \"fa7f83b998462201c8fa705de24d8792ce031365\", \"type of answer1_9_1 is not bool. answer1_9_1 should be a bool\"\n",
    "assert sha1(str(answer1_9_1).encode(\"utf-8\")+b\"782c933c8e3389bd\").hexdigest() == \"0c13bb78f8858fdfb6183c66d2a5f850e146d5c1\", \"boolean value of answer1_9_1 is not correct\"\n",
    "\n",
    "print('Success!')"
   ]
  },
  {
   "cell_type": "markdown",
   "metadata": {
    "deletable": false,
    "editable": false,
    "nbgrader": {
     "cell_type": "markdown",
     "checksum": "6ccd2e274589df80d359f4b80281147f",
     "grade": false,
     "grade_id": "cell-56d49ae191d3e93f",
     "locked": true,
     "schema_version": 3,
     "solution": false
    }
   },
   "source": [
    "**Question 1.10**\n",
    "<br> {points: 1}\n",
    "\n",
    "Finally, create a bar graph that displays the proportion of smokers for both females and males in the data set. Use sex as the horizontal axis, and colour the bars to differentiate between smokers / nonsmokers. This could, for example, be used help us determine whether we should consider smoking behaviour when exploring whether there is a relationship between sex and medical costs.\n",
    "\n",
    "*Assign your answer to an object called `bar_plot`. Make sure to label your axes appropriately.*\n",
    "\n",
    ">*Note - many historical datasets treated sex as a variable where the possible values are only binary: male or female. This representation in this question reflects how the data were historically collected and is not meant to imply that we believe that sex is binary.*"
   ]
  },
  {
   "cell_type": "code",
   "execution_count": null,
   "metadata": {
    "deletable": false,
    "nbgrader": {
     "cell_type": "code",
     "checksum": "c74fc9b75f74cd8317c1cd26b7825a4f",
     "grade": false,
     "grade_id": "cell-19a1b424460c544e",
     "locked": false,
     "schema_version": 3,
     "solution": true
    }
   },
   "outputs": [],
   "source": [
    "# ___ = (\n",
    "#     alt.Chart(insurance, title=___)\n",
    "#     .___()\n",
    "#     .encode(\n",
    "#         y=alt.Y(\n",
    "#             \"count(___)\",\n",
    "#             stack=\"normalize\",\n",
    "#             axis=alt.Axis(format=\"%\"),\n",
    "#             title=___,\n",
    "#         ),\n",
    "#         x=alt.X(___, title=___),\n",
    "#         fill=alt.Fill(___, title=\"Does the person smoke?\"),\n",
    "#     )\n",
    "# )\n",
    "\n",
    "# your code here\n",
    "raise NotImplementedError\n",
    "bar_plot"
   ]
  },
  {
   "cell_type": "code",
   "execution_count": null,
   "metadata": {
    "deletable": false,
    "editable": false,
    "max_height": 100,
    "nbgrader": {
     "cell_type": "code",
     "checksum": "78f265cd35ca66506dca7b14f16efa62",
     "grade": true,
     "grade_id": "cell-37fe64d61b7366b4",
     "locked": true,
     "points": 1,
     "schema_version": 3,
     "solution": false
    }
   },
   "outputs": [],
   "source": [
    "from hashlib import sha1\n",
    "assert sha1(str(type(bar_plot is None)).encode(\"utf-8\")+b\"dd23011d43702646\").hexdigest() == \"3566edb71a2b42c0d410f19b20d6ebf4c64bd07e\", \"type of bar_plot is None is not bool. bar_plot is None should be a bool\"\n",
    "assert sha1(str(bar_plot is None).encode(\"utf-8\")+b\"dd23011d43702646\").hexdigest() == \"b8027de5ac713d5c164b681848fa17438736672d\", \"boolean value of bar_plot is None is not correct\"\n",
    "\n",
    "assert sha1(str(type(bar_plot.encoding.x.field)).encode(\"utf-8\")+b\"c4b38bf36d7c3588\").hexdigest() == \"11ed03928b672e19fccc1e66d9f7f0f0a9d7e0da\", \"type of bar_plot.encoding.x.field is not str. bar_plot.encoding.x.field should be an str\"\n",
    "assert sha1(str(len(bar_plot.encoding.x.field)).encode(\"utf-8\")+b\"c4b38bf36d7c3588\").hexdigest() == \"fda9c86fc90ee45f0c64228035061728e3e081a1\", \"length of bar_plot.encoding.x.field is not correct\"\n",
    "assert sha1(str(bar_plot.encoding.x.field.lower()).encode(\"utf-8\")+b\"c4b38bf36d7c3588\").hexdigest() == \"b3bc2f024aedacf088ce055d4e767a297f124de7\", \"value of bar_plot.encoding.x.field is not correct\"\n",
    "assert sha1(str(bar_plot.encoding.x.field).encode(\"utf-8\")+b\"c4b38bf36d7c3588\").hexdigest() == \"b3bc2f024aedacf088ce055d4e767a297f124de7\", \"correct string value of bar_plot.encoding.x.field but incorrect case of letters\"\n",
    "\n",
    "assert sha1(str(type(bar_plot.encoding.fill.field)).encode(\"utf-8\")+b\"51311cc1e374810b\").hexdigest() == \"116e55c35dce9ea2c858608207d6b31263b9afe7\", \"type of bar_plot.encoding.fill.field is not str. bar_plot.encoding.fill.field should be an str\"\n",
    "assert sha1(str(len(bar_plot.encoding.fill.field)).encode(\"utf-8\")+b\"51311cc1e374810b\").hexdigest() == \"ff78da8a4b453bdfc50521c9c926dcc4ce010905\", \"length of bar_plot.encoding.fill.field is not correct\"\n",
    "assert sha1(str(bar_plot.encoding.fill.field.lower()).encode(\"utf-8\")+b\"51311cc1e374810b\").hexdigest() == \"bcea5228630a05983659f95eedb638b82a65a0c4\", \"value of bar_plot.encoding.fill.field is not correct\"\n",
    "assert sha1(str(bar_plot.encoding.fill.field).encode(\"utf-8\")+b\"51311cc1e374810b\").hexdigest() == \"bcea5228630a05983659f95eedb638b82a65a0c4\", \"correct string value of bar_plot.encoding.fill.field but incorrect case of letters\"\n",
    "\n",
    "assert sha1(str(type(bar_plot.encoding.y.stack)).encode(\"utf-8\")+b\"d4a37cc535bcd3b9\").hexdigest() == \"6c159ce803e1de13f516b545cb99bb162185d306\", \"type of bar_plot.encoding.y.stack is not str. bar_plot.encoding.y.stack should be an str\"\n",
    "assert sha1(str(len(bar_plot.encoding.y.stack)).encode(\"utf-8\")+b\"d4a37cc535bcd3b9\").hexdigest() == \"b633ac42bd05cf6b935b3690b69543e9d15f14fc\", \"length of bar_plot.encoding.y.stack is not correct\"\n",
    "assert sha1(str(bar_plot.encoding.y.stack.lower()).encode(\"utf-8\")+b\"d4a37cc535bcd3b9\").hexdigest() == \"138ab561d4932a8864b0e3e43d009a6f8098529f\", \"value of bar_plot.encoding.y.stack is not correct\"\n",
    "assert sha1(str(bar_plot.encoding.y.stack).encode(\"utf-8\")+b\"d4a37cc535bcd3b9\").hexdigest() == \"138ab561d4932a8864b0e3e43d009a6f8098529f\", \"correct string value of bar_plot.encoding.y.stack but incorrect case of letters\"\n",
    "\n",
    "assert sha1(str(type(bar_plot.mark)).encode(\"utf-8\")+b\"9c999925b51d5e9c\").hexdigest() == \"bae0e6ff0839884659b4a05bd34874639011f667\", \"type of bar_plot.mark is not str. bar_plot.mark should be an str\"\n",
    "assert sha1(str(len(bar_plot.mark)).encode(\"utf-8\")+b\"9c999925b51d5e9c\").hexdigest() == \"0d61333dcf9d911e570ec73e511970cd6436b315\", \"length of bar_plot.mark is not correct\"\n",
    "assert sha1(str(bar_plot.mark.lower()).encode(\"utf-8\")+b\"9c999925b51d5e9c\").hexdigest() == \"52698064b9151fb8fd8e677e91c448c004d0a375\", \"value of bar_plot.mark is not correct\"\n",
    "assert sha1(str(bar_plot.mark).encode(\"utf-8\")+b\"9c999925b51d5e9c\").hexdigest() == \"52698064b9151fb8fd8e677e91c448c004d0a375\", \"correct string value of bar_plot.mark but incorrect case of letters\"\n",
    "\n",
    "assert sha1(str(type(bar_plot.encoding.fill.title != bar_plot.encoding.fill.field)).encode(\"utf-8\")+b\"66e783d0458e2410\").hexdigest() == \"cf4cc85613ad70a77ec422b872311dce446eb3d4\", \"type of bar_plot.encoding.fill.title != bar_plot.encoding.fill.field is not bool. bar_plot.encoding.fill.title != bar_plot.encoding.fill.field should be a bool\"\n",
    "assert sha1(str(bar_plot.encoding.fill.title != bar_plot.encoding.fill.field).encode(\"utf-8\")+b\"66e783d0458e2410\").hexdigest() == \"20f8c11523d49c8734e5ca513785b4700fa98eae\", \"boolean value of bar_plot.encoding.fill.title != bar_plot.encoding.fill.field is not correct\"\n",
    "\n",
    "assert sha1(str(type(bar_plot.encoding.x.title != bar_plot.encoding.x.field)).encode(\"utf-8\")+b\"a68a482fc719ea84\").hexdigest() == \"72c383dc3f6f08a8b45ad4ea9aa1b764be087065\", \"type of bar_plot.encoding.x.title != bar_plot.encoding.x.field is not bool. bar_plot.encoding.x.title != bar_plot.encoding.x.field should be a bool\"\n",
    "assert sha1(str(bar_plot.encoding.x.title != bar_plot.encoding.x.field).encode(\"utf-8\")+b\"a68a482fc719ea84\").hexdigest() == \"5330cc223277781175c96c1f7c96ec78b82b0adf\", \"boolean value of bar_plot.encoding.x.title != bar_plot.encoding.x.field is not correct\"\n",
    "\n",
    "assert sha1(str(type(bar_plot.encoding.y.title != bar_plot.encoding.y.field)).encode(\"utf-8\")+b\"018f2e87c94066fe\").hexdigest() == \"417e84c886033c33d076f2242820e6840beb2aad\", \"type of bar_plot.encoding.y.title != bar_plot.encoding.y.field is not bool. bar_plot.encoding.y.title != bar_plot.encoding.y.field should be a bool\"\n",
    "assert sha1(str(bar_plot.encoding.y.title != bar_plot.encoding.y.field).encode(\"utf-8\")+b\"018f2e87c94066fe\").hexdigest() == \"4e68d570dc511ff0494ae0b2b566b7758be6a34c\", \"boolean value of bar_plot.encoding.y.title != bar_plot.encoding.y.field is not correct\"\n",
    "\n",
    "print('Success!')"
   ]
  },
  {
   "cell_type": "markdown",
   "metadata": {
    "deletable": false,
    "editable": false,
    "nbgrader": {
     "cell_type": "markdown",
     "checksum": "9caf628fb24e06354b52fa1c5b31b724",
     "grade": false,
     "grade_id": "cell-426d75901920cc91",
     "locked": true,
     "schema_version": 3,
     "solution": false
    }
   },
   "source": [
    "**Question 1.11**\n",
    "<br> {points: 1}\n",
    "\n",
    "Based on the graph, is the proportion of smokers higher amongst men or women?\n",
    "\n",
    "*Assign your answer to an object called `answer1_11`. Make sure your answer is in lowercase and is surrounded by quotation marks (e.g. `\"male\"` or `\"female\"`).*"
   ]
  },
  {
   "cell_type": "code",
   "execution_count": null,
   "metadata": {
    "deletable": false,
    "nbgrader": {
     "cell_type": "code",
     "checksum": "bc74f0ac96dc35273b5125c40172bc84",
     "grade": false,
     "grade_id": "cell-123d8e2e2b0e9555",
     "locked": false,
     "schema_version": 3,
     "solution": true
    }
   },
   "outputs": [],
   "source": [
    "# your code here\n",
    "raise NotImplementedError"
   ]
  },
  {
   "cell_type": "code",
   "execution_count": null,
   "metadata": {
    "deletable": false,
    "editable": false,
    "max_height": 100,
    "nbgrader": {
     "cell_type": "code",
     "checksum": "8576de0dd6aeed29430a22701f55a789",
     "grade": true,
     "grade_id": "cell-204b484044f109f1",
     "locked": true,
     "points": 1,
     "schema_version": 3,
     "solution": false
    }
   },
   "outputs": [],
   "source": [
    "from hashlib import sha1\n",
    "assert sha1(str(type(answer1_11)).encode(\"utf-8\")+b\"c07c5e8158fffd67\").hexdigest() == \"f1b18de1915cc5284720e38a77a88184ac84cd20\", \"type of answer1_11 is not str. answer1_11 should be an str\"\n",
    "assert sha1(str(len(answer1_11)).encode(\"utf-8\")+b\"c07c5e8158fffd67\").hexdigest() == \"77de673d485fc0b5e1610bf495a651e787fd0c5e\", \"length of answer1_11 is not correct\"\n",
    "assert sha1(str(answer1_11.lower()).encode(\"utf-8\")+b\"c07c5e8158fffd67\").hexdigest() == \"7d95ea1d3369f025450be6186fd9b17612c63538\", \"value of answer1_11 is not correct\"\n",
    "assert sha1(str(answer1_11).encode(\"utf-8\")+b\"c07c5e8158fffd67\").hexdigest() == \"7d95ea1d3369f025450be6186fd9b17612c63538\", \"correct string value of answer1_11 but incorrect case of letters\"\n",
    "\n",
    "print('Success!')"
   ]
  },
  {
   "cell_type": "markdown",
   "metadata": {
    "deletable": false,
    "editable": false,
    "nbgrader": {
     "cell_type": "markdown",
     "checksum": "73f0473db1c93396fe9d1b6a9f3757ab",
     "grade": false,
     "grade_id": "cell-841e1fd7134bfd1c",
     "locked": true,
     "schema_version": 3,
     "solution": false
    }
   },
   "source": [
    "## 2. Color Palettes (beyond the defaults)\n",
    "{points: 3}\n",
    "\n",
    "In the worksheet and this tutorial, you have seen the same colours again and again. These are from the default `altair` color palette. What if you want different colors? There are other color palettes available in Altair and there are two ways to change the color palette (examples are provided below as well):\n",
    "\n",
    "- You can change the colormap (or colorscheme) by specifying its name as a string to scheme inside `alt.Scale`. \n",
    "\n",
    "All the available colormaps can be viewed on [this page](https://vega.github.io/vega/docs/schemes/), which also lists what type of data the colormap is useful for (categorical, sequential, diverging, cyclic). The default categorical colormap used in Altair is \"Tableau10\", which consists of 10 colors and starts with a blue, orange, and red color. You can also specify the color by its [names](https://stackoverflow.com/questions/22408237/named-colors-in-matplotlib/37232760#37232760).\n"
   ]
  },
  {
   "cell_type": "code",
   "execution_count": null,
   "metadata": {
    "deletable": false,
    "editable": false,
    "nbgrader": {
     "cell_type": "code",
     "checksum": "603780e8162f9b8ce7159b979dae7052",
     "grade": false,
     "grade_id": "cell-2a335ed3b6e5fc32",
     "locked": true,
     "schema_version": 3,
     "solution": false,
     "task": false
    }
   },
   "outputs": [],
   "source": [
    "cars = pd.read_csv(\"data/cars.csv\")\n",
    "cars.head()"
   ]
  },
  {
   "cell_type": "code",
   "execution_count": null,
   "metadata": {
    "deletable": false,
    "editable": false,
    "nbgrader": {
     "cell_type": "code",
     "checksum": "9524d402ed7d3c36230100971d326b06",
     "grade": false,
     "grade_id": "cell-1935488f9fb00d0d",
     "locked": true,
     "schema_version": 3,
     "solution": false,
     "task": false
    }
   },
   "outputs": [],
   "source": [
    "cars_plot = (\n",
    "    alt.Chart(cars)\n",
    "    .mark_bar()\n",
    "    .encode(\n",
    "        y=alt.Y(\n",
    "            \"count(Cylinders)\",\n",
    "            stack=\"normalize\",\n",
    "            axis=alt.Axis(format=\"%\"),\n",
    "            title=\"Proportion\",\n",
    "        ),\n",
    "        x=alt.X(\"Origin\"),\n",
    "        fill=alt.Fill(\n",
    "            \"Cylinders:N\",\n",
    "        ),  # N specifies that this is a \"nominal\" variable; e.g. a categorical variable\n",
    "    )\n",
    "    .properties(width=380, height=300)\n",
    "    .configure_axis(labelFontSize=18, titleFontSize=18)\n",
    "    .configure_title(fontSize=20)\n",
    ")\n",
    "\n",
    "cars_plot"
   ]
  },
  {
   "cell_type": "code",
   "execution_count": null,
   "metadata": {
    "deletable": false,
    "editable": false,
    "nbgrader": {
     "cell_type": "code",
     "checksum": "151d775de5772c8b073eb025ee54ad78",
     "grade": false,
     "grade_id": "cell-2bfdccd7569ef638",
     "locked": true,
     "schema_version": 3,
     "solution": false,
     "task": false
    }
   },
   "outputs": [],
   "source": [
    "# change the color palette in scale\n",
    "cars_plot = (\n",
    "    alt.Chart(cars)\n",
    "    .mark_bar()\n",
    "    .encode(\n",
    "        y=alt.Y(\n",
    "            \"count(Cylinders)\",\n",
    "            stack=\"normalize\",\n",
    "            axis=alt.Axis(format=\"%\"),\n",
    "            title=\"Proportion\",\n",
    "        ),\n",
    "        x=alt.X(\"Origin\"),\n",
    "        fill=alt.Fill(\n",
    "            \"Cylinders:N\", scale=alt.Scale(scheme=\"dark2\")\n",
    "        ),  # N is to specify this is a categorical variable\n",
    "    )\n",
    "    .properties(width=380, height=300)\n",
    "    .configure_axis(labelFontSize=18, titleFontSize=18)\n",
    "    .configure_title(fontSize=20)\n",
    ")\n",
    "\n",
    "cars_plot"
   ]
  },
  {
   "cell_type": "markdown",
   "metadata": {},
   "source": [
    "Please change the color palette to `accent`. *Assign your answer to an object called `cars_plot`.*"
   ]
  },
  {
   "cell_type": "code",
   "execution_count": null,
   "metadata": {
    "deletable": false,
    "max_height": 100,
    "nbgrader": {
     "cell_type": "code",
     "checksum": "c7f9234dde3ce9e42e8a918d46120677",
     "grade": true,
     "grade_id": "cell-54bd5139136b22a6",
     "locked": false,
     "points": 3,
     "schema_version": 3,
     "solution": true,
     "task": false
    }
   },
   "outputs": [],
   "source": [
    "# your code here\n",
    "raise NotImplementedError\n",
    "cars_plot"
   ]
  },
  {
   "cell_type": "markdown",
   "metadata": {
    "deletable": false,
    "editable": false,
    "nbgrader": {
     "cell_type": "markdown",
     "checksum": "2153c3d540fbb7a418ef5933f9ef6ef6",
     "grade": false,
     "grade_id": "cell-e9106361d22cb189",
     "locked": true,
     "schema_version": 3,
     "solution": false
    }
   },
   "source": [
    "## 3. Fast-Food Chains in the United States (Continued)\n",
    "<br> {points: 6}\n",
    "\n",
    "In Worksheet 04, we explored this data set through some visualizations. Now, it is is all up to you. The goal of this assignment is to create **one** plot that can help you figure out which restaurant to open and where! After that you need to write a paragraph explaining your visualization and why you chose it. Also, explain your conclusion from the visualization and reasoning as to how you came to that conclusion. If you need to bring in outside information to help you answer your question, please feel free to do so.  Finally, if there is some way that you could improve your visualization, but don't yet know how to do it, please explain what you would do if you knew how.\n",
    "\n",
    "In answering this question, there is no need to restrict yourself to the west coast of the USA. Consider all states that you have data for. You have a variety of graphs to choose from, but before starting the assignment, discuss with a partner which plot would be the most optimal to answer this question.\n",
    "\n",
    "<img src=\"mcdonalds.jpg\" width = \"300\"/>\n",
    "\n",
    "\n"
   ]
  },
  {
   "cell_type": "code",
   "execution_count": null,
   "metadata": {
    "deletable": false,
    "max_height": 100,
    "nbgrader": {
     "cell_type": "code",
     "checksum": "172a4d67009cb60d74ec490d424a45dd",
     "grade": true,
     "grade_id": "cell-86b3015872de2602",
     "locked": false,
     "points": 3,
     "schema_version": 3,
     "solution": true,
     "task": false
    }
   },
   "outputs": [],
   "source": [
    "# write the code for your plot here\n",
    "# your code here\n",
    "raise NotImplementedError"
   ]
  },
  {
   "cell_type": "markdown",
   "metadata": {
    "deletable": false,
    "max_height": 100,
    "nbgrader": {
     "cell_type": "markdown",
     "checksum": "d6053f5cf05ede8a5198e92232e1b92e",
     "grade": true,
     "grade_id": "cell-6ac8b7c5b2701b78",
     "locked": false,
     "points": 3,
     "schema_version": 3,
     "solution": true
    }
   },
   "source": [
    "*Write a paragraph explaining your visualization and why you chose it. Also explain your conclusion from the visualization and reasoning as to how you came to that conclusion. If you need to bring in outside information to help you answer your question, please feel free to do so. Finally, if there is some way that you could improve your visualization, but don't yet know how to do it, please explain what you would do if you knew how.*\n",
    "\n",
    "DOUBLE CLICK TO EDIT **THIS CELL** AND REPLACE THIS TEXT WITH YOUR ANSWER."
   ]
  }
 ],
 "metadata": {
  "kernelspec": {
   "display_name": "Python 3 (ipykernel)",
   "language": "python",
   "name": "python3"
  },
  "language_info": {
   "codemirror_mode": {
    "name": "ipython",
    "version": 3
   },
   "file_extension": ".py",
   "mimetype": "text/x-python",
   "name": "python",
   "nbconvert_exporter": "python",
   "pygments_lexer": "ipython3",
   "version": "3.10.8"
  }
 },
 "nbformat": 4,
 "nbformat_minor": 4
}
