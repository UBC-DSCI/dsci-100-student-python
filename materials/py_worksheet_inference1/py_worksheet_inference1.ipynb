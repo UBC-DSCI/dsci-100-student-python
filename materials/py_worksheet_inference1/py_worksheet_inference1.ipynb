{
 "cells": [
  {
   "cell_type": "markdown",
   "metadata": {
    "deletable": false,
    "editable": false,
    "nbgrader": {
     "cell_type": "markdown",
     "checksum": "cf1f65669b4a7aa481f86edadee57fc4",
     "grade": false,
     "grade_id": "cell-f9cd89ad16c3393f",
     "locked": true,
     "schema_version": 3,
     "solution": false,
     "task": false
    }
   },
   "source": [
    "# Worksheet 11 - Introduction to Statistical Inference\n",
    "\n",
    "### Lecture and Tutorial Learning Goals:\n",
    "\n",
    "After completing this week's lecture and tutorial work, you will be able to:\n",
    "- Describe real world examples of questions that can be answered with the statistical inference methods.\n",
    "- Name common population parameters (e.g., mean, proportion, median, variance, standard deviation) that are often estimated using sample data, and use computation to estimate these.\n",
    "- Define the following statistical sampling terms (population, sample, population parameter, point estimate, sampling distribution).\n",
    "- Explain the difference between a population parameter and sample point estimate.\n",
    "- Use computation to draw random samples from a finite population.\n",
    "- Use computation to create a sampling distribution from a finite population.\n",
    "- Describe how sample size influences the sampling distribution."
   ]
  },
  {
   "cell_type": "code",
   "execution_count": null,
   "metadata": {
    "deletable": false,
    "editable": false,
    "nbgrader": {
     "cell_type": "code",
     "checksum": "11895f609bda29e624a57d05e4030618",
     "grade": false,
     "grade_id": "cell-5e46ba6301dcd126",
     "locked": true,
     "schema_version": 3,
     "solution": false,
     "task": false
    }
   },
   "outputs": [],
   "source": [
    "### Run this cell before continuing.\n",
    "import pandas as pd\n",
    "import numpy as np\n",
    "import altair as alt\n",
    "alt.data_transformers.disable_max_rows()"
   ]
  },
  {
   "cell_type": "markdown",
   "metadata": {
    "deletable": false,
    "editable": false,
    "nbgrader": {
     "cell_type": "markdown",
     "checksum": "e28b6a1ee32f91671a08e244208af2cb",
     "grade": false,
     "grade_id": "cell-45228c253c917b4f",
     "locked": true,
     "schema_version": 3,
     "solution": false,
     "task": false
    }
   },
   "source": [
    "**Question 1.0** Multiple Choice:\n",
    "<br> {points: 1}\n",
    "\n",
    "In which of the following questions would inferential methods (e.g., estimation or hypothesis testing) be appropriate?\n",
    "\n",
    "A. Does treating a corn crop with Roundup cause greater yields compared to corn crops that are not treated with pesticides in Saskatchewan?\n",
    "\n",
    "B. Are yields of corn crops which are treated with Roundup different than corn crops which are not treated with pesticides in Saskatchewan?\n",
    "\n",
    "C. What will be the yield of a corn crop in Saskatchewan if we treat it with Roundup next year?\n",
    "\n",
    "D. Are yields of corn crops which are treated with Roundup different than corn crops which are not treated with pesticides in the data set collected from the Rural Municipality of Cymri No. 36 in Saskatchewan?\n",
    "\n",
    "*Assign your answer to an object called `answer1_0`. Your answer should be a single character surrounded by quotes.*"
   ]
  },
  {
   "cell_type": "code",
   "execution_count": null,
   "metadata": {
    "deletable": false,
    "nbgrader": {
     "cell_type": "code",
     "checksum": "7516bea6ea02340597018ace4f996f1f",
     "grade": false,
     "grade_id": "cell-577c4e36954dca80",
     "locked": false,
     "schema_version": 3,
     "solution": true,
     "task": false
    }
   },
   "outputs": [],
   "source": [
    "# your code here\n",
    "raise NotImplementedError"
   ]
  },
  {
   "cell_type": "code",
   "execution_count": null,
   "metadata": {
    "deletable": false,
    "editable": false,
    "max_height": 100,
    "nbgrader": {
     "cell_type": "code",
     "checksum": "72de51206f720965c3570b7c25f0158c",
     "grade": true,
     "grade_id": "cell-d0c5d425485aa846",
     "locked": true,
     "points": 1,
     "schema_version": 3,
     "solution": false,
     "task": false
    }
   },
   "outputs": [],
   "source": [
    "from hashlib import sha1\n",
    "assert sha1(str(type(answer1_0)).encode(\"utf-8\")+b\"29aa6a34b0e4d296\").hexdigest() == \"20c93db30edcdfc1291ef5a8d7b4d86b9bf832d6\", \"type of answer1_0 is not str. answer1_0 should be an str\"\n",
    "assert sha1(str(len(answer1_0)).encode(\"utf-8\")+b\"29aa6a34b0e4d296\").hexdigest() == \"d5351d868f442c2e5fed484986e9b2f456babcf4\", \"length of answer1_0 is not correct\"\n",
    "assert sha1(str(answer1_0.lower()).encode(\"utf-8\")+b\"29aa6a34b0e4d296\").hexdigest() == \"a49ac6f2e387567cfced8a475a4fba492c0aa21f\", \"value of answer1_0 is not correct\"\n",
    "assert sha1(str(answer1_0).encode(\"utf-8\")+b\"29aa6a34b0e4d296\").hexdigest() == \"a31c728c7d3891ce7ec4b0c896a19b4ff31c223d\", \"correct string value of answer1_0 but incorrect case of letters\"\n",
    "\n",
    "print('Success!')"
   ]
  },
  {
   "cell_type": "markdown",
   "metadata": {
    "deletable": false,
    "editable": false,
    "nbgrader": {
     "cell_type": "markdown",
     "checksum": "01ab7b5c0258210456f4d7b3a5967d28",
     "grade": false,
     "grade_id": "cell-3d0ceca6b0e205c4",
     "locked": true,
     "schema_version": 3,
     "solution": false,
     "task": false
    }
   },
   "source": [
    "**Question 1.1** Matching:\n",
    "<br> {points: 1}\n",
    "\n",
    "Read the mixed up table below and assign the variables in the code cell below a number to match the the term to it's correct definition. Do not put quotations around the number or include words in the answer, we are expecting the assigned values to be numbers.\n",
    "\n",
    "| Terms |  Definitions |\n",
    "|----------------|------------|\n",
    "| <p align=\"left\">point estimate | <p align=\"left\">1. the entire set of entities/objects of interest |\n",
    "| <p align=\"left\">population | <p align=\"left\">2. selecting a subset of observations from a population where each observation is equally likely to be selected at any point during the selection process|\n",
    "| <p align=\"left\">random sampling | <p align=\"left\">3. a numerical summary value about the population |\n",
    "| <p align=\"left\">representative sampling | <p align=\"left\">4. a distribution of point estimates, where each point estimate was calculated from a different random sample from the same population |\n",
    "| <p align=\"left\">population parameter | <p align=\"left\">5. a collection of observations from a population |\n",
    "| <p align=\"left\">sample |  <p align=\"left\">6. a single number calculated from a random sample that estimates an unknown population parameter of interest |\n",
    "| <p align=\"left\">observation | <p align=\"left\">7. selecting a subset of observations from a population where the sample’s characteristics are a good representation of the population’s characteristics |\n",
    "| <p align=\"left\">sampling distribution | <p align=\"left\">8. a quantity or a quality (or set of these) we collect from a given entity/object |"
   ]
  },
  {
   "cell_type": "code",
   "execution_count": null,
   "metadata": {
    "deletable": false,
    "nbgrader": {
     "cell_type": "code",
     "checksum": "5dc9c25ff5639c7622d908eb36f9bc16",
     "grade": false,
     "grade_id": "cell-02ca79301e6453c8",
     "locked": false,
     "schema_version": 3,
     "solution": true,
     "task": false
    }
   },
   "outputs": [],
   "source": [
    "point_estimate = None\n",
    "population = None\n",
    "random_sampling = None\n",
    "representative_sampling = None\n",
    "population_parameter = None\n",
    "sample = None\n",
    "observation = None\n",
    "sampling_distribution = None\n",
    "\n",
    "# your code here\n",
    "raise NotImplementedError"
   ]
  },
  {
   "cell_type": "code",
   "execution_count": null,
   "metadata": {
    "deletable": false,
    "editable": false,
    "max_height": 100,
    "nbgrader": {
     "cell_type": "code",
     "checksum": "fdd2424097e70cadfe70562115f8bcf8",
     "grade": true,
     "grade_id": "cell-3e20f546495eda51",
     "locked": true,
     "points": 1,
     "schema_version": 3,
     "solution": false,
     "task": false
    }
   },
   "outputs": [],
   "source": [
    "from hashlib import sha1\n",
    "assert sha1(str(type(point_estimate)).encode(\"utf-8\")+b\"e979c89adff10380\").hexdigest() == \"c6aee9276623eff8b862c55d16e11b5f99726ee1\", \"type of point_estimate is not int. Please make sure it is int and not np.int64, etc. You can cast your value into an int using int()\"\n",
    "assert sha1(str(point_estimate).encode(\"utf-8\")+b\"e979c89adff10380\").hexdigest() == \"ba72a767cbb7def803c0fb66f524cdf958d0d921\", \"value of point_estimate is not correct\"\n",
    "\n",
    "assert sha1(str(type(population)).encode(\"utf-8\")+b\"2cee0e7e266fdaaf\").hexdigest() == \"ee738554a9c7586e3f748f6c2540b5b91c15b1ca\", \"type of population is not int. Please make sure it is int and not np.int64, etc. You can cast your value into an int using int()\"\n",
    "assert sha1(str(population).encode(\"utf-8\")+b\"2cee0e7e266fdaaf\").hexdigest() == \"7331cffc04f52d3c23e10392d8c13fa5488d4300\", \"value of population is not correct\"\n",
    "\n",
    "assert sha1(str(type(random_sampling)).encode(\"utf-8\")+b\"7e4ad6c96526ef04\").hexdigest() == \"cbaa75078d530a2dc28d80e27b8e948dfee0c7db\", \"type of random_sampling is not int. Please make sure it is int and not np.int64, etc. You can cast your value into an int using int()\"\n",
    "assert sha1(str(random_sampling).encode(\"utf-8\")+b\"7e4ad6c96526ef04\").hexdigest() == \"139d98474686f94768ae22ae8154dfc4a683ffc7\", \"value of random_sampling is not correct\"\n",
    "\n",
    "assert sha1(str(type(representative_sampling)).encode(\"utf-8\")+b\"d2a360c9ade96e93\").hexdigest() == \"4ca34f9af4870b591187868b6ad4f8b2534aed6a\", \"type of representative_sampling is not int. Please make sure it is int and not np.int64, etc. You can cast your value into an int using int()\"\n",
    "assert sha1(str(representative_sampling).encode(\"utf-8\")+b\"d2a360c9ade96e93\").hexdigest() == \"17e773d73600896eafb913b98a4a221b4cfc120b\", \"value of representative_sampling is not correct\"\n",
    "\n",
    "assert sha1(str(type(population_parameter)).encode(\"utf-8\")+b\"3d3473a87b403e13\").hexdigest() == \"3309e67d44c207f6c887dcd974df2be9aeeab576\", \"type of population_parameter is not int. Please make sure it is int and not np.int64, etc. You can cast your value into an int using int()\"\n",
    "assert sha1(str(population_parameter).encode(\"utf-8\")+b\"3d3473a87b403e13\").hexdigest() == \"cdc5c558fadcabba479e2cd0373755eed8d59d9a\", \"value of population_parameter is not correct\"\n",
    "\n",
    "assert sha1(str(type(sample)).encode(\"utf-8\")+b\"1e09a78edaf6367b\").hexdigest() == \"5f38b7d886b0279dff54f39a6a9379527e262cfc\", \"type of sample is not int. Please make sure it is int and not np.int64, etc. You can cast your value into an int using int()\"\n",
    "assert sha1(str(sample).encode(\"utf-8\")+b\"1e09a78edaf6367b\").hexdigest() == \"6e2c50ac9a359014699f7e4f72ca5f9f7726a107\", \"value of sample is not correct\"\n",
    "\n",
    "assert sha1(str(type(observation)).encode(\"utf-8\")+b\"d05e304f0ab91823\").hexdigest() == \"5302ff989057945498cd9ee6e0139c83defc0500\", \"type of observation is not int. Please make sure it is int and not np.int64, etc. You can cast your value into an int using int()\"\n",
    "assert sha1(str(observation).encode(\"utf-8\")+b\"d05e304f0ab91823\").hexdigest() == \"d1059aa158e99daacf03916d2ba812e668708906\", \"value of observation is not correct\"\n",
    "\n",
    "assert sha1(str(type(sampling_distribution)).encode(\"utf-8\")+b\"a69b3bd232fe0af0\").hexdigest() == \"670bf846f2b3bfdd759142a7531e09f8602b9a3d\", \"type of sampling_distribution is not int. Please make sure it is int and not np.int64, etc. You can cast your value into an int using int()\"\n",
    "assert sha1(str(sampling_distribution).encode(\"utf-8\")+b\"a69b3bd232fe0af0\").hexdigest() == \"77e6d5655619917f97613434968af267afeba812\", \"value of sampling_distribution is not correct\"\n",
    "\n",
    "print('Success!')"
   ]
  },
  {
   "cell_type": "markdown",
   "metadata": {
    "deletable": false,
    "editable": false,
    "nbgrader": {
     "cell_type": "markdown",
     "checksum": "9f3458bf152319c6d7b6223890087f3b",
     "grade": false,
     "grade_id": "cell-4b8df8ad154a3900",
     "locked": true,
     "schema_version": 3,
     "solution": false,
     "task": false
    }
   },
   "source": [
    "###  Virtual sampling simulation\n",
    "\n",
    "In real life, we rarely, if ever, have measurements for our entire population. Here, however, we will pretend that we somehow were able to ask every single Candian senior what their age is. We will do this so that we can experiment to learn about sampling and how this relates to estimation.\n",
    "\n",
    "Here we make a simulated dataset of ages for our population (all Canadian seniors) bounded by realistic values ($\\geq$ 65 and $\\leq$ 118):"
   ]
  },
  {
   "cell_type": "code",
   "execution_count": null,
   "metadata": {
    "deletable": false,
    "editable": false,
    "nbgrader": {
     "cell_type": "code",
     "checksum": "9fb70452852ba94cebb3ea3fb7e461fb",
     "grade": false,
     "grade_id": "cell-40ed1f5c6c055f97",
     "locked": true,
     "schema_version": 3,
     "solution": false,
     "task": false
    }
   },
   "outputs": [],
   "source": [
    "# run this cell to simulate a finite population\n",
    "# Set the seed -- don't change this!\n",
    "np.random.seed(4321)\n",
    "can_seniors = pd.DataFrame(\n",
    "    (np.random.exponential(1/0.1, 2000000)) ** 2 + 65, columns=[\"age\"]\n",
    ")\n",
    "can_seniors = can_seniors.query(\"65<=age<=118\")\n",
    "can_seniors.head()"
   ]
  },
  {
   "cell_type": "markdown",
   "metadata": {
    "deletable": false,
    "editable": false,
    "nbgrader": {
     "cell_type": "markdown",
     "checksum": "6f351cf5dbd0feef0b41991dc0fdecca",
     "grade": false,
     "grade_id": "cell-9b660b53ec2a2962",
     "locked": true,
     "schema_version": 3,
     "solution": false,
     "task": false
    }
   },
   "source": [
    "**Question 1.2** \n",
    "<br> {points: 1}\n",
    "\n",
    "A distribution defines all the possible values (or intervals) of the data and how often they occur. Visualize the distribution of the population (`can_seniors`) that was just created by plotting a histogram using `maxbins=30` in the `alt.Bin` argument. *Name the plot `pop_dist` and give the x-axis a descriptive label.*"
   ]
  },
  {
   "cell_type": "code",
   "execution_count": null,
   "metadata": {
    "deletable": false,
    "nbgrader": {
     "cell_type": "code",
     "checksum": "634da7306435828bcbc1e03e409f2501",
     "grade": false,
     "grade_id": "cell-986bdfedad27901f",
     "locked": false,
     "schema_version": 3,
     "solution": true,
     "task": false
    }
   },
   "outputs": [],
   "source": [
    "# ___ (\n",
    "#     alt.Chart(___, title=\"Population distribution\")\n",
    "#     .___()\n",
    "#     .encode(x=alt.X(___, title=___, bin=alt.Bin(maxbins=30)), y=___)\n",
    "# )\n",
    "\n",
    "# your code here\n",
    "raise NotImplementedError\n",
    "pop_dist"
   ]
  },
  {
   "cell_type": "code",
   "execution_count": null,
   "metadata": {
    "deletable": false,
    "editable": false,
    "max_height": 100,
    "nbgrader": {
     "cell_type": "code",
     "checksum": "ec8501fbd1ed6e4667ca4aa0c2b1f782",
     "grade": true,
     "grade_id": "cell-9e86388006978a3c",
     "locked": true,
     "points": 1,
     "schema_version": 3,
     "solution": false,
     "task": false
    }
   },
   "outputs": [],
   "source": [
    "from hashlib import sha1\n",
    "assert sha1(str(type(pop_dist.mark)).encode(\"utf-8\")+b\"b28deb80c2eeae39\").hexdigest() == \"f70d30a83c3851f9ce314116344ba9f3d9c5f20e\", \"type of pop_dist.mark is not str. pop_dist.mark should be an str\"\n",
    "assert sha1(str(len(pop_dist.mark)).encode(\"utf-8\")+b\"b28deb80c2eeae39\").hexdigest() == \"d3cb7e207c75446207bc17803b443852f5f79ffb\", \"length of pop_dist.mark is not correct\"\n",
    "assert sha1(str(pop_dist.mark.lower()).encode(\"utf-8\")+b\"b28deb80c2eeae39\").hexdigest() == \"2b5b1abc135192cd92226ae7300fef665001f111\", \"value of pop_dist.mark is not correct\"\n",
    "assert sha1(str(pop_dist.mark).encode(\"utf-8\")+b\"b28deb80c2eeae39\").hexdigest() == \"2b5b1abc135192cd92226ae7300fef665001f111\", \"correct string value of pop_dist.mark but incorrect case of letters\"\n",
    "\n",
    "assert sha1(str(type(pop_dist.encoding['x'].field)).encode(\"utf-8\")+b\"93e4435cb35ae871\").hexdigest() == \"acfded4dfd9d64216b75d1b2ed74b70bbb240e58\", \"type of pop_dist.encoding['x'].field is not str. pop_dist.encoding['x'].field should be an str\"\n",
    "assert sha1(str(len(pop_dist.encoding['x'].field)).encode(\"utf-8\")+b\"93e4435cb35ae871\").hexdigest() == \"3955b361cb53c03f2a3b3c0d6b9e14bc0ea2ee44\", \"length of pop_dist.encoding['x'].field is not correct\"\n",
    "assert sha1(str(pop_dist.encoding['x'].field.lower()).encode(\"utf-8\")+b\"93e4435cb35ae871\").hexdigest() == \"541a47e42f0607e19c0fc47ec1e54a0db03cafe7\", \"value of pop_dist.encoding['x'].field is not correct\"\n",
    "assert sha1(str(pop_dist.encoding['x'].field).encode(\"utf-8\")+b\"93e4435cb35ae871\").hexdigest() == \"541a47e42f0607e19c0fc47ec1e54a0db03cafe7\", \"correct string value of pop_dist.encoding['x'].field but incorrect case of letters\"\n",
    "\n",
    "assert sha1(str(type(pop_dist.encoding['y'].aggregate)).encode(\"utf-8\")+b\"7e47be560198821b\").hexdigest() == \"61a153ed73eb6bcc41cc40f0072670ca3a8ab595\", \"type of pop_dist.encoding['y'].aggregate is not str. pop_dist.encoding['y'].aggregate should be an str\"\n",
    "assert sha1(str(len(pop_dist.encoding['y'].aggregate)).encode(\"utf-8\")+b\"7e47be560198821b\").hexdigest() == \"0e633d12e15e208fc156740b3a4cf24c5e67a1cf\", \"length of pop_dist.encoding['y'].aggregate is not correct\"\n",
    "assert sha1(str(pop_dist.encoding['y'].aggregate.lower()).encode(\"utf-8\")+b\"7e47be560198821b\").hexdigest() == \"d041118bab9ecc7c9d4671ebbfe2a37b73786a91\", \"value of pop_dist.encoding['y'].aggregate is not correct\"\n",
    "assert sha1(str(pop_dist.encoding['y'].aggregate).encode(\"utf-8\")+b\"7e47be560198821b\").hexdigest() == \"d041118bab9ecc7c9d4671ebbfe2a37b73786a91\", \"correct string value of pop_dist.encoding['y'].aggregate but incorrect case of letters\"\n",
    "\n",
    "assert sha1(str(type(pop_dist.encoding.x.field != pop_dist.encoding.x.title)).encode(\"utf-8\")+b\"60b12afb31964d18\").hexdigest() == \"1d249e01ce414cea81506552272a397a82f0ac64\", \"type of pop_dist.encoding.x.field != pop_dist.encoding.x.title is not bool. pop_dist.encoding.x.field != pop_dist.encoding.x.title should be a bool\"\n",
    "assert sha1(str(pop_dist.encoding.x.field != pop_dist.encoding.x.title).encode(\"utf-8\")+b\"60b12afb31964d18\").hexdigest() == \"b98a7d0806afc7d20cfc48bac3c1c8db6f8f6a2e\", \"boolean value of pop_dist.encoding.x.field != pop_dist.encoding.x.title is not correct\"\n",
    "\n",
    "assert sha1(str(type(pop_dist.data == can_seniors)).encode(\"utf-8\")+b\"40b45f10ff5ffb97\").hexdigest() == \"d0b2cb8097d962740a6ee1505cf6167a692069a2\", \"type of pop_dist.data == can_seniors is not correct\"\n",
    "assert sha1(str(pop_dist.data == can_seniors).encode(\"utf-8\")+b\"40b45f10ff5ffb97\").hexdigest() == \"350766f945ff9a9ad8042a40d5b639fb40c77815\", \"value of pop_dist.data == can_seniors is not correct\"\n",
    "\n",
    "assert sha1(str(type(pop_dist.title is not None)).encode(\"utf-8\")+b\"ea7fdf57ba3af1f2\").hexdigest() == \"c8b5291a4372a841c84ec0c19acd9c70194403f2\", \"type of pop_dist.title is not None is not bool. pop_dist.title is not None should be a bool\"\n",
    "assert sha1(str(pop_dist.title is not None).encode(\"utf-8\")+b\"ea7fdf57ba3af1f2\").hexdigest() == \"a355b9b012d80801ead0029574ad5259c2ba64e4\", \"boolean value of pop_dist.title is not None is not correct\"\n",
    "\n",
    "print('Success!')"
   ]
  },
  {
   "cell_type": "markdown",
   "metadata": {
    "deletable": false,
    "editable": false,
    "nbgrader": {
     "cell_type": "markdown",
     "checksum": "3b564de69d6437cbecbbd065bc93ad21",
     "grade": false,
     "grade_id": "cell-a6d7523259c0ec45",
     "locked": true,
     "schema_version": 3,
     "solution": false,
     "task": false
    }
   },
   "source": [
    "**Question 1.3** \n",
    "<br> {points: 1}\n",
    "\n",
    "We often want to represent distributions by a single value or small number of values. Common values used for this include the mean, median, standard deviation, etc). \n",
    "\n",
    "Use the `describe` function to calculate the following population parameters from the `can_seniors` population:\n",
    "- mean (`mean`)\n",
    "- median (`50%`)\n",
    "- standard deviation (`std`)\n",
    "\n",
    "*Name this data frame `pop_parameters` which only contains `mean`, `std` and `50%`.*"
   ]
  },
  {
   "cell_type": "code",
   "execution_count": null,
   "metadata": {
    "deletable": false,
    "nbgrader": {
     "cell_type": "code",
     "checksum": "089c536643aa3d554e16b60a043d7a49",
     "grade": false,
     "grade_id": "cell-e351a7d3e55d1948",
     "locked": false,
     "schema_version": 3,
     "solution": true,
     "task": false
    }
   },
   "outputs": [],
   "source": [
    "# your code here\n",
    "raise NotImplementedError\n",
    "pop_parameters"
   ]
  },
  {
   "cell_type": "code",
   "execution_count": null,
   "metadata": {
    "deletable": false,
    "editable": false,
    "max_height": 100,
    "nbgrader": {
     "cell_type": "code",
     "checksum": "7bb54e6fcc1ce687e5ebdfb776346dd4",
     "grade": true,
     "grade_id": "cell-ebeb7e12fd1b5f86",
     "locked": true,
     "points": 1,
     "schema_version": 3,
     "solution": false,
     "task": false
    }
   },
   "outputs": [],
   "source": [
    "from hashlib import sha1\n",
    "assert sha1(str(type(pop_parameters.shape[0])).encode(\"utf-8\")+b\"93f055d5dc538688\").hexdigest() == \"d01aff099c151335e96c5a1933b041ed64c75fd5\", \"type of pop_parameters.shape[0] is not int. Please make sure it is int and not np.int64, etc. You can cast your value into an int using int()\"\n",
    "assert sha1(str(pop_parameters.shape[0]).encode(\"utf-8\")+b\"93f055d5dc538688\").hexdigest() == \"e8874825bf83dea644b3ab732b9cf0cae60b873c\", \"value of pop_parameters.shape[0] is not correct\"\n",
    "\n",
    "assert sha1(str(type(pop_parameters.shape[1])).encode(\"utf-8\")+b\"55b392ac0d23b1db\").hexdigest() == \"98aa369b6518df38df1cf6733d0bf37d3941058d\", \"type of pop_parameters.shape[1] is not int. Please make sure it is int and not np.int64, etc. You can cast your value into an int using int()\"\n",
    "assert sha1(str(pop_parameters.shape[1]).encode(\"utf-8\")+b\"55b392ac0d23b1db\").hexdigest() == \"d77760d5f3f1fc6b3518e32748c1dc3b621a57cc\", \"value of pop_parameters.shape[1] is not correct\"\n",
    "\n",
    "assert sha1(str(type(\"\".join(pop_parameters.columns.values))).encode(\"utf-8\")+b\"4b05d629e385e22a\").hexdigest() == \"56938c316626ca07f311d642c2f514a0aaed4fb6\", \"type of \\\"\\\".join(pop_parameters.columns.values) is not str. \\\"\\\".join(pop_parameters.columns.values) should be an str\"\n",
    "assert sha1(str(len(\"\".join(pop_parameters.columns.values))).encode(\"utf-8\")+b\"4b05d629e385e22a\").hexdigest() == \"0a613731bbea0a8e9417db31f1d7a2387077723d\", \"length of \\\"\\\".join(pop_parameters.columns.values) is not correct\"\n",
    "assert sha1(str(\"\".join(pop_parameters.columns.values).lower()).encode(\"utf-8\")+b\"4b05d629e385e22a\").hexdigest() == \"db4c4ddc8284a2af3056851bbcd04457a0ac0124\", \"value of \\\"\\\".join(pop_parameters.columns.values) is not correct\"\n",
    "assert sha1(str(\"\".join(pop_parameters.columns.values)).encode(\"utf-8\")+b\"4b05d629e385e22a\").hexdigest() == \"db4c4ddc8284a2af3056851bbcd04457a0ac0124\", \"correct string value of \\\"\\\".join(pop_parameters.columns.values) but incorrect case of letters\"\n",
    "\n",
    "print('Success!')"
   ]
  },
  {
   "cell_type": "markdown",
   "metadata": {
    "deletable": false,
    "editable": false,
    "nbgrader": {
     "cell_type": "markdown",
     "checksum": "c4a78cb4ccf4a144ea260fa4cb97d65c",
     "grade": false,
     "grade_id": "cell-f06bf6c52b4b30be",
     "locked": true,
     "schema_version": 3,
     "solution": false,
     "task": false
    }
   },
   "source": [
    "**Question 1.4** \n",
    "<br> {points: 1}\n",
    "\n",
    "In real life, we usually are able to only collect a single sample from the population. We use that sample to try to infer what the population looks like.\n",
    "\n",
    "Take a single random sample of 40 observations using `sample` from the Canadian seniors population (`can_seniors`). Name it `sample_1`. Use 4321 as your `random_state`."
   ]
  },
  {
   "cell_type": "code",
   "execution_count": null,
   "metadata": {
    "deletable": false,
    "nbgrader": {
     "cell_type": "code",
     "checksum": "32a5c27c0f488dee531fc06dababd9fc",
     "grade": false,
     "grade_id": "cell-d8e06640ab5ea386",
     "locked": false,
     "schema_version": 3,
     "solution": true,
     "task": false
    }
   },
   "outputs": [],
   "source": [
    "# ___ = ___.sample(___, random_state=4321)\n",
    "\n",
    "# your code here\n",
    "raise NotImplementedError\n",
    "sample_1.head()"
   ]
  },
  {
   "cell_type": "code",
   "execution_count": null,
   "metadata": {
    "deletable": false,
    "editable": false,
    "max_height": 100,
    "nbgrader": {
     "cell_type": "code",
     "checksum": "46fd9499365bfa0a3f115fb0fa3cb439",
     "grade": true,
     "grade_id": "cell-e494fbea71d264cc",
     "locked": true,
     "points": 1,
     "schema_version": 3,
     "solution": false,
     "task": false
    }
   },
   "outputs": [],
   "source": [
    "from hashlib import sha1\n",
    "assert sha1(str(type(sample_1.shape[0])).encode(\"utf-8\")+b\"1b5f79bad1c22919\").hexdigest() == \"b9697ddd7f4fe125e6fb545709ebef7d5f2a1cfd\", \"type of sample_1.shape[0] is not int. Please make sure it is int and not np.int64, etc. You can cast your value into an int using int()\"\n",
    "assert sha1(str(sample_1.shape[0]).encode(\"utf-8\")+b\"1b5f79bad1c22919\").hexdigest() == \"baaf0d72ea4afc3bb0a6291f7c2a7afd1b60c8a6\", \"value of sample_1.shape[0] is not correct\"\n",
    "\n",
    "assert sha1(str(type(sample_1.shape[1])).encode(\"utf-8\")+b\"35b44c7a27d71c1e\").hexdigest() == \"285c0738aea7c42a88ca3a0de4d0c0e3b876eb96\", \"type of sample_1.shape[1] is not int. Please make sure it is int and not np.int64, etc. You can cast your value into an int using int()\"\n",
    "assert sha1(str(sample_1.shape[1]).encode(\"utf-8\")+b\"35b44c7a27d71c1e\").hexdigest() == \"f2ad29609b21de8134757d34a946fd503fc2e51f\", \"value of sample_1.shape[1] is not correct\"\n",
    "\n",
    "assert sha1(str(type(\"\".join(sample_1.columns.values))).encode(\"utf-8\")+b\"9717a7b5f6ca08e7\").hexdigest() == \"a70f2637846bf919f665a800856e4fa833b0f714\", \"type of \\\"\\\".join(sample_1.columns.values) is not str. \\\"\\\".join(sample_1.columns.values) should be an str\"\n",
    "assert sha1(str(len(\"\".join(sample_1.columns.values))).encode(\"utf-8\")+b\"9717a7b5f6ca08e7\").hexdigest() == \"c68ee1523a77f5888a693c052e1508706470d277\", \"length of \\\"\\\".join(sample_1.columns.values) is not correct\"\n",
    "assert sha1(str(\"\".join(sample_1.columns.values).lower()).encode(\"utf-8\")+b\"9717a7b5f6ca08e7\").hexdigest() == \"350df993fcad50dd75c798b8afec53350c2fa0f7\", \"value of \\\"\\\".join(sample_1.columns.values) is not correct\"\n",
    "assert sha1(str(\"\".join(sample_1.columns.values)).encode(\"utf-8\")+b\"9717a7b5f6ca08e7\").hexdigest() == \"350df993fcad50dd75c798b8afec53350c2fa0f7\", \"correct string value of \\\"\\\".join(sample_1.columns.values) but incorrect case of letters\"\n",
    "\n",
    "print('Success!')"
   ]
  },
  {
   "cell_type": "markdown",
   "metadata": {
    "deletable": false,
    "editable": false,
    "nbgrader": {
     "cell_type": "markdown",
     "checksum": "a3d1b797ff16c131f8ffeb07e1801498",
     "grade": false,
     "grade_id": "cell-752cc4982153643f",
     "locked": true,
     "schema_version": 3,
     "solution": false,
     "task": false
    }
   },
   "source": [
    "**Question 1.5** \n",
    "<br> {points: 1}\n",
    "\n",
    "Visualize the distribution of the random sample you just took (`sample_1`) that was just created by plotting a histogram using `maxbins=30` in the `alt.Bin` argument. *Name the plot `sample_1_dist` and give the plot and the x-axis a descriptive label.*"
   ]
  },
  {
   "cell_type": "code",
   "execution_count": null,
   "metadata": {
    "deletable": false,
    "nbgrader": {
     "cell_type": "code",
     "checksum": "5660b496e256541335348bd83a78c999",
     "grade": false,
     "grade_id": "cell-826dafd6cb26adeb",
     "locked": false,
     "schema_version": 3,
     "solution": true,
     "task": false
    }
   },
   "outputs": [],
   "source": [
    "# your code here\n",
    "raise NotImplementedError\n",
    "sample_1_dist"
   ]
  },
  {
   "cell_type": "code",
   "execution_count": null,
   "metadata": {
    "deletable": false,
    "editable": false,
    "max_height": 100,
    "nbgrader": {
     "cell_type": "code",
     "checksum": "a435ef9232fe0adcf80120c5a75852af",
     "grade": true,
     "grade_id": "cell-170ce4a2c9de09e4",
     "locked": true,
     "points": 1,
     "schema_version": 3,
     "solution": false,
     "task": false
    }
   },
   "outputs": [],
   "source": [
    "from hashlib import sha1\n",
    "assert sha1(str(type(sample_1_dist.mark)).encode(\"utf-8\")+b\"c4060fa65373ca82\").hexdigest() == \"68ea7ba47d42b229f6fc7dc3afef6a3feb3347c5\", \"type of sample_1_dist.mark is not str. sample_1_dist.mark should be an str\"\n",
    "assert sha1(str(len(sample_1_dist.mark)).encode(\"utf-8\")+b\"c4060fa65373ca82\").hexdigest() == \"d4b6aed8923a4b8f116734422389338d1e62be10\", \"length of sample_1_dist.mark is not correct\"\n",
    "assert sha1(str(sample_1_dist.mark.lower()).encode(\"utf-8\")+b\"c4060fa65373ca82\").hexdigest() == \"bc2e6c65503e75f366e11b0bb7da1bed689ffd2b\", \"value of sample_1_dist.mark is not correct\"\n",
    "assert sha1(str(sample_1_dist.mark).encode(\"utf-8\")+b\"c4060fa65373ca82\").hexdigest() == \"bc2e6c65503e75f366e11b0bb7da1bed689ffd2b\", \"correct string value of sample_1_dist.mark but incorrect case of letters\"\n",
    "\n",
    "assert sha1(str(type(sample_1_dist.encoding['x'].field)).encode(\"utf-8\")+b\"f172b6a6666a6793\").hexdigest() == \"703bd8afc692063540d7ef73382725ad0466c877\", \"type of sample_1_dist.encoding['x'].field is not str. sample_1_dist.encoding['x'].field should be an str\"\n",
    "assert sha1(str(len(sample_1_dist.encoding['x'].field)).encode(\"utf-8\")+b\"f172b6a6666a6793\").hexdigest() == \"340afa489597875bc821c885ef6fe40c46695b29\", \"length of sample_1_dist.encoding['x'].field is not correct\"\n",
    "assert sha1(str(sample_1_dist.encoding['x'].field.lower()).encode(\"utf-8\")+b\"f172b6a6666a6793\").hexdigest() == \"bf14a146e57beffc8e9a3cb270e844d0c7e468f5\", \"value of sample_1_dist.encoding['x'].field is not correct\"\n",
    "assert sha1(str(sample_1_dist.encoding['x'].field).encode(\"utf-8\")+b\"f172b6a6666a6793\").hexdigest() == \"bf14a146e57beffc8e9a3cb270e844d0c7e468f5\", \"correct string value of sample_1_dist.encoding['x'].field but incorrect case of letters\"\n",
    "\n",
    "assert sha1(str(type(sample_1_dist.encoding['y'].aggregate)).encode(\"utf-8\")+b\"3600139867a44ee8\").hexdigest() == \"004f2afb0fff6b86704de488b3718d10b7c3ef01\", \"type of sample_1_dist.encoding['y'].aggregate is not str. sample_1_dist.encoding['y'].aggregate should be an str\"\n",
    "assert sha1(str(len(sample_1_dist.encoding['y'].aggregate)).encode(\"utf-8\")+b\"3600139867a44ee8\").hexdigest() == \"0fc47c5aed96e5b0c67ec94b4a3ced71f90ff749\", \"length of sample_1_dist.encoding['y'].aggregate is not correct\"\n",
    "assert sha1(str(sample_1_dist.encoding['y'].aggregate.lower()).encode(\"utf-8\")+b\"3600139867a44ee8\").hexdigest() == \"2770766272bcb00419ada558ae58f6ad3aadce0e\", \"value of sample_1_dist.encoding['y'].aggregate is not correct\"\n",
    "assert sha1(str(sample_1_dist.encoding['y'].aggregate).encode(\"utf-8\")+b\"3600139867a44ee8\").hexdigest() == \"2770766272bcb00419ada558ae58f6ad3aadce0e\", \"correct string value of sample_1_dist.encoding['y'].aggregate but incorrect case of letters\"\n",
    "\n",
    "assert sha1(str(type(sample_1_dist.encoding.x.field != sample_1_dist.encoding.x.title)).encode(\"utf-8\")+b\"333e6c15b161a36a\").hexdigest() == \"fe3d36fecf7e50f5b99890bc71e66198af37a889\", \"type of sample_1_dist.encoding.x.field != sample_1_dist.encoding.x.title is not bool. sample_1_dist.encoding.x.field != sample_1_dist.encoding.x.title should be a bool\"\n",
    "assert sha1(str(sample_1_dist.encoding.x.field != sample_1_dist.encoding.x.title).encode(\"utf-8\")+b\"333e6c15b161a36a\").hexdigest() == \"babaf0803507fc91c73ac9296223d2e2edde20a3\", \"boolean value of sample_1_dist.encoding.x.field != sample_1_dist.encoding.x.title is not correct\"\n",
    "\n",
    "assert sha1(str(type(sample_1_dist.data == sample_1)).encode(\"utf-8\")+b\"dfb5c65917a73251\").hexdigest() == \"3992f96140e5a1b57c9ea57cdeda1a89e9023f84\", \"type of sample_1_dist.data == sample_1 is not correct\"\n",
    "assert sha1(str(sample_1_dist.data == sample_1).encode(\"utf-8\")+b\"dfb5c65917a73251\").hexdigest() == \"048bba52ca2e3111fd909588784fd975802bca41\", \"value of sample_1_dist.data == sample_1 is not correct\"\n",
    "\n",
    "assert sha1(str(type(sample_1_dist.title is not None)).encode(\"utf-8\")+b\"f7fdb6662d363e08\").hexdigest() == \"0fd43f7facb1a4e3973e2fb4eda1c62e82199e8b\", \"type of sample_1_dist.title is not None is not bool. sample_1_dist.title is not None should be a bool\"\n",
    "assert sha1(str(sample_1_dist.title is not None).encode(\"utf-8\")+b\"f7fdb6662d363e08\").hexdigest() == \"16da67da07c4fb10eda995a91ff13586803f0944\", \"boolean value of sample_1_dist.title is not None is not correct\"\n",
    "\n",
    "print('Success!')"
   ]
  },
  {
   "cell_type": "markdown",
   "metadata": {
    "deletable": false,
    "editable": false,
    "nbgrader": {
     "cell_type": "markdown",
     "checksum": "6f9ec930f6776b0fea1c449693b5649f",
     "grade": false,
     "grade_id": "cell-3c4b35ed554cb337",
     "locked": true,
     "schema_version": 3,
     "solution": false,
     "task": false
    }
   },
   "source": [
    "**Question 1.6** \n",
    "<br> {points: 1}\n",
    "\n",
    "Use `describe` to calculate the following point estimates from the random sample you just took (`sample_1`):\n",
    "- mean \n",
    "- median \n",
    "- standard deviation \n",
    "\n",
    "*Name this data frame `sample_1_estimates` and rename the column names to `sample_1_mean`, `sample_1_med` and `sample_1_sd`.*"
   ]
  },
  {
   "cell_type": "code",
   "execution_count": null,
   "metadata": {
    "deletable": false,
    "nbgrader": {
     "cell_type": "code",
     "checksum": "ee89489afa5f06b1b46f34e87825ba85",
     "grade": false,
     "grade_id": "cell-fe9efdbe457ea8e7",
     "locked": false,
     "schema_version": 3,
     "solution": true,
     "task": false
    }
   },
   "outputs": [],
   "source": [
    "# your code here\n",
    "raise NotImplementedError\n",
    "sample_1_estimates"
   ]
  },
  {
   "cell_type": "code",
   "execution_count": null,
   "metadata": {
    "deletable": false,
    "editable": false,
    "max_height": 100,
    "nbgrader": {
     "cell_type": "code",
     "checksum": "4e5cb84a287c9e216512c429138201b7",
     "grade": true,
     "grade_id": "cell-021bf21e4a9b93ae",
     "locked": true,
     "points": 1,
     "schema_version": 3,
     "solution": false,
     "task": false
    }
   },
   "outputs": [],
   "source": [
    "from hashlib import sha1\n",
    "assert sha1(str(type(sample_1_estimates.shape[0])).encode(\"utf-8\")+b\"d1d4bfb5a5d0d303\").hexdigest() == \"7322b1dccfe5584c2cf6106afeb210782419fa35\", \"type of sample_1_estimates.shape[0] is not int. Please make sure it is int and not np.int64, etc. You can cast your value into an int using int()\"\n",
    "assert sha1(str(sample_1_estimates.shape[0]).encode(\"utf-8\")+b\"d1d4bfb5a5d0d303\").hexdigest() == \"f945608ecd7ccc3bcac0a9fbe543a507929652e9\", \"value of sample_1_estimates.shape[0] is not correct\"\n",
    "\n",
    "assert sha1(str(type(sample_1_estimates.shape[1])).encode(\"utf-8\")+b\"b9bc45077690590f\").hexdigest() == \"864ffb5454896d46c042676bbb1e415490e88291\", \"type of sample_1_estimates.shape[1] is not int. Please make sure it is int and not np.int64, etc. You can cast your value into an int using int()\"\n",
    "assert sha1(str(sample_1_estimates.shape[1]).encode(\"utf-8\")+b\"b9bc45077690590f\").hexdigest() == \"6256f652480788c5127b6d27feeb3968a669d046\", \"value of sample_1_estimates.shape[1] is not correct\"\n",
    "\n",
    "assert sha1(str(type(sample_1_estimates.columns.values)).encode(\"utf-8\")+b\"fce793aba4670ce2\").hexdigest() == \"41ecd127cd3edac5a646821a071e6baa43440370\", \"type of sample_1_estimates.columns.values is not correct\"\n",
    "assert sha1(str(sample_1_estimates.columns.values).encode(\"utf-8\")+b\"fce793aba4670ce2\").hexdigest() == \"03acf02fd31b8d492f0a8b99f59fd78a131add39\", \"value of sample_1_estimates.columns.values is not correct\"\n",
    "\n",
    "print('Success!')"
   ]
  },
  {
   "cell_type": "markdown",
   "metadata": {
    "deletable": false,
    "editable": false,
    "nbgrader": {
     "cell_type": "markdown",
     "checksum": "c784d8ae93b57d4f7c62314abd6d6f62",
     "grade": false,
     "grade_id": "cell-ad24cb4b28616d3c",
     "locked": true,
     "schema_version": 3,
     "solution": false,
     "task": false
    }
   },
   "source": [
    "Let's now compare our random sample to the population from where it was drawn:"
   ]
  },
  {
   "cell_type": "code",
   "execution_count": null,
   "metadata": {
    "deletable": false,
    "editable": false,
    "nbgrader": {
     "cell_type": "code",
     "checksum": "759ee1527273924c23889529bbf36818",
     "grade": false,
     "grade_id": "cell-604e99e0db84fe98",
     "locked": true,
     "schema_version": 3,
     "solution": false,
     "task": false
    }
   },
   "outputs": [],
   "source": [
    "# run this code cell\n",
    "pop_dist"
   ]
  },
  {
   "cell_type": "code",
   "execution_count": null,
   "metadata": {},
   "outputs": [],
   "source": [
    "# run this code cell\n",
    "sample_1_dist"
   ]
  },
  {
   "cell_type": "markdown",
   "metadata": {
    "deletable": false,
    "editable": false,
    "nbgrader": {
     "cell_type": "markdown",
     "checksum": "96b62573abeb50fe420efa6aa0d70ecd",
     "grade": false,
     "grade_id": "cell-19718631d33c85a5",
     "locked": true,
     "schema_version": 3,
     "solution": false,
     "task": false
    }
   },
   "source": [
    "And now let's compare the point estimates (mean, median and standard deviation) with the true population parameters we were trying to estimate:"
   ]
  },
  {
   "cell_type": "code",
   "execution_count": null,
   "metadata": {
    "deletable": false,
    "editable": false,
    "nbgrader": {
     "cell_type": "code",
     "checksum": "62e34c8804b183a18bdf8c45c46139c7",
     "grade": false,
     "grade_id": "cell-ce56a190681ef9e9",
     "locked": true,
     "schema_version": 3,
     "solution": false,
     "task": false
    }
   },
   "outputs": [],
   "source": [
    "# run this cell\n",
    "print(pop_parameters)\n",
    "print(sample_1_estimates)"
   ]
  },
  {
   "cell_type": "markdown",
   "metadata": {
    "deletable": false,
    "editable": false,
    "nbgrader": {
     "cell_type": "markdown",
     "checksum": "9cb6a3de45ef951799eeb63a512322d9",
     "grade": false,
     "grade_id": "cell-bb9b0aefa59610ab",
     "locked": true,
     "schema_version": 3,
     "solution": false,
     "task": false
    }
   },
   "source": [
    "**Question 1.7** Multiple Choice\n",
    "<br> {points: 1}\n",
    "\n",
    "After comparing the population and sample distributions above, and the true population parameters and the sample point estimates, which statement below **is not** correct:\n",
    "\n",
    "A. The sample point estimates are close to the values for the true population parameters we are trying to estimate\n",
    "\n",
    "B. The sample distribution is of a similar shape to the population distribution\n",
    "\n",
    "C. The sample point estimates are identical to the values for the true population parameters we are trying to estimate\n",
    "\n",
    "*Assign your answer to an object called `answer1_7`. Your answer should be a single character surrounded by quotes.*"
   ]
  },
  {
   "cell_type": "code",
   "execution_count": null,
   "metadata": {
    "deletable": false,
    "nbgrader": {
     "cell_type": "code",
     "checksum": "8b6888579d4e9d48cb6ed4133373e0a4",
     "grade": false,
     "grade_id": "cell-8ff972ce63d3c314",
     "locked": false,
     "schema_version": 3,
     "solution": true,
     "task": false
    }
   },
   "outputs": [],
   "source": [
    "# your code here\n",
    "raise NotImplementedError"
   ]
  },
  {
   "cell_type": "code",
   "execution_count": null,
   "metadata": {
    "deletable": false,
    "editable": false,
    "max_height": 100,
    "nbgrader": {
     "cell_type": "code",
     "checksum": "af291c7756075b92953a77b97c7de043",
     "grade": true,
     "grade_id": "cell-d5cee0eb7c6aebc8",
     "locked": true,
     "points": 1,
     "schema_version": 3,
     "solution": false,
     "task": false
    }
   },
   "outputs": [],
   "source": [
    "from hashlib import sha1\n",
    "assert sha1(str(type(answer1_7)).encode(\"utf-8\")+b\"83af239748293981\").hexdigest() == \"6d9b8558a2e605b294746e29280e5d5554dba48f\", \"type of answer1_7 is not str. answer1_7 should be an str\"\n",
    "assert sha1(str(len(answer1_7)).encode(\"utf-8\")+b\"83af239748293981\").hexdigest() == \"045af4d6bd0ceaefa79224a025e24ca110dc5d9f\", \"length of answer1_7 is not correct\"\n",
    "assert sha1(str(answer1_7.lower()).encode(\"utf-8\")+b\"83af239748293981\").hexdigest() == \"029a4049d974c0db4269980ce6064c241ddeef8a\", \"value of answer1_7 is not correct\"\n",
    "assert sha1(str(answer1_7).encode(\"utf-8\")+b\"83af239748293981\").hexdigest() == \"53af68b99f1117774b45aed322eec7ebabbd05bc\", \"correct string value of answer1_7 but incorrect case of letters\"\n",
    "\n",
    "print('Success!')"
   ]
  },
  {
   "cell_type": "markdown",
   "metadata": {
    "deletable": false,
    "editable": false,
    "nbgrader": {
     "cell_type": "markdown",
     "checksum": "009bac1e31086001b6454f0afa46a641",
     "grade": false,
     "grade_id": "cell-8babcf95fe04cfa6",
     "locked": true,
     "schema_version": 3,
     "solution": false,
     "task": false
    }
   },
   "source": [
    "**Question 1.8.0** \n",
    "<br> {points: 1}\n",
    "\n",
    "What if we took another sample? What would we expect? Let's try! Take another random sample of size 40 from population (using a different random seed this time so that you get a different sample), and visualize its distribution and calculate the point estimates for the sample mean, median and standard deviation. Name your random sample of data `sample_2`, name your visualization  `sample_2_dist`, and finally name your estimates `sample_2_estimates`, which has the column names `sample_2_mean`, `sample_2_med` and `sample_2_sd`. "
   ]
  },
  {
   "cell_type": "code",
   "execution_count": null,
   "metadata": {
    "deletable": false,
    "nbgrader": {
     "cell_type": "code",
     "checksum": "166c18234b9139ef08a38d6c280ef284",
     "grade": false,
     "grade_id": "cell-716cd961bf3e0e5c",
     "locked": false,
     "schema_version": 3,
     "solution": true,
     "task": false
    }
   },
   "outputs": [],
   "source": [
    "# your code here\n",
    "raise NotImplementedError\n",
    "sample_2_dist"
   ]
  },
  {
   "cell_type": "code",
   "execution_count": null,
   "metadata": {
    "deletable": false,
    "editable": false,
    "max_height": 100,
    "nbgrader": {
     "cell_type": "code",
     "checksum": "c1c7b9362a8513d8e8b476927507df5e",
     "grade": true,
     "grade_id": "cell-87ae342a039c4eb0",
     "locked": true,
     "points": 1,
     "schema_version": 3,
     "solution": false,
     "task": false
    }
   },
   "outputs": [],
   "source": [
    "from hashlib import sha1\n",
    "assert sha1(str(type(sample_2.shape[0])).encode(\"utf-8\")+b\"a1435826d5c7866c\").hexdigest() == \"d3c2e61980c65db163c64a579a0364f4696e66c4\", \"type of sample_2.shape[0] is not int. Please make sure it is int and not np.int64, etc. You can cast your value into an int using int()\"\n",
    "assert sha1(str(sample_2.shape[0]).encode(\"utf-8\")+b\"a1435826d5c7866c\").hexdigest() == \"e30e2e49d3d6c7c808b98d2242712b31f1a3e6fb\", \"value of sample_2.shape[0] is not correct\"\n",
    "\n",
    "assert sha1(str(type(sample_2.shape[1])).encode(\"utf-8\")+b\"99481c5deae97025\").hexdigest() == \"0e6e20be32724122206c92a4eb18fff63ab4bd9d\", \"type of sample_2.shape[1] is not int. Please make sure it is int and not np.int64, etc. You can cast your value into an int using int()\"\n",
    "assert sha1(str(sample_2.shape[1]).encode(\"utf-8\")+b\"99481c5deae97025\").hexdigest() == \"e34a72b3bb21b8912d62779c0e772a0c8bbf0e6b\", \"value of sample_2.shape[1] is not correct\"\n",
    "\n",
    "assert sha1(str(type(\"\".join(sample_2.columns.values))).encode(\"utf-8\")+b\"44a26685903471b4\").hexdigest() == \"8d7d8c6a113bdcb588a7fa34d033dc8fdfc6b7bc\", \"type of \\\"\\\".join(sample_2.columns.values) is not str. \\\"\\\".join(sample_2.columns.values) should be an str\"\n",
    "assert sha1(str(len(\"\".join(sample_2.columns.values))).encode(\"utf-8\")+b\"44a26685903471b4\").hexdigest() == \"a3e0b64374894441a8696bf98dc0143c02aac00e\", \"length of \\\"\\\".join(sample_2.columns.values) is not correct\"\n",
    "assert sha1(str(\"\".join(sample_2.columns.values).lower()).encode(\"utf-8\")+b\"44a26685903471b4\").hexdigest() == \"7c4e79c3074a643b0f2f7456ba2181df2342bbb0\", \"value of \\\"\\\".join(sample_2.columns.values) is not correct\"\n",
    "assert sha1(str(\"\".join(sample_2.columns.values)).encode(\"utf-8\")+b\"44a26685903471b4\").hexdigest() == \"7c4e79c3074a643b0f2f7456ba2181df2342bbb0\", \"correct string value of \\\"\\\".join(sample_2.columns.values) but incorrect case of letters\"\n",
    "\n",
    "assert sha1(str(type(sample_2_estimates.shape[0])).encode(\"utf-8\")+b\"bd702b48322445ae\").hexdigest() == \"bf950502a263ab289b07ef869a3f5c078746fecb\", \"type of sample_2_estimates.shape[0] is not int. Please make sure it is int and not np.int64, etc. You can cast your value into an int using int()\"\n",
    "assert sha1(str(sample_2_estimates.shape[0]).encode(\"utf-8\")+b\"bd702b48322445ae\").hexdigest() == \"5eb1c1a677d0f7fb334d8322635f844cf5227538\", \"value of sample_2_estimates.shape[0] is not correct\"\n",
    "\n",
    "assert sha1(str(type(sample_2_estimates.shape[1])).encode(\"utf-8\")+b\"1c305fcdd2b93a95\").hexdigest() == \"9f17c47c4df14ec73287cd65da4e681b3220e9bc\", \"type of sample_2_estimates.shape[1] is not int. Please make sure it is int and not np.int64, etc. You can cast your value into an int using int()\"\n",
    "assert sha1(str(sample_2_estimates.shape[1]).encode(\"utf-8\")+b\"1c305fcdd2b93a95\").hexdigest() == \"b5c3a35f5d6956912bc4142d07e0f7659b6c39c3\", \"value of sample_2_estimates.shape[1] is not correct\"\n",
    "\n",
    "assert sha1(str(type(sample_2_estimates.columns.values)).encode(\"utf-8\")+b\"539b7e3a756ce9e9\").hexdigest() == \"a3e776784f2703f41a99cf7fbf7f91c478326d55\", \"type of sample_2_estimates.columns.values is not correct\"\n",
    "assert sha1(str(sample_2_estimates.columns.values).encode(\"utf-8\")+b\"539b7e3a756ce9e9\").hexdigest() == \"1245408ebec42a18d8ea62081ffc4b20efec6fcc\", \"value of sample_2_estimates.columns.values is not correct\"\n",
    "\n",
    "assert sha1(str(type(sample_2_dist.mark)).encode(\"utf-8\")+b\"e1e75ebedcb51424\").hexdigest() == \"0b96fa66612dfdfeee8dbe402ad412619be2abcf\", \"type of sample_2_dist.mark is not str. sample_2_dist.mark should be an str\"\n",
    "assert sha1(str(len(sample_2_dist.mark)).encode(\"utf-8\")+b\"e1e75ebedcb51424\").hexdigest() == \"0bc9fa365b55f902d91707e4c97ab5faacc4a886\", \"length of sample_2_dist.mark is not correct\"\n",
    "assert sha1(str(sample_2_dist.mark.lower()).encode(\"utf-8\")+b\"e1e75ebedcb51424\").hexdigest() == \"12cbe135f0e3a26950e6e2791489e2fc5cc7fab1\", \"value of sample_2_dist.mark is not correct\"\n",
    "assert sha1(str(sample_2_dist.mark).encode(\"utf-8\")+b\"e1e75ebedcb51424\").hexdigest() == \"12cbe135f0e3a26950e6e2791489e2fc5cc7fab1\", \"correct string value of sample_2_dist.mark but incorrect case of letters\"\n",
    "\n",
    "assert sha1(str(type(sample_2_dist.encoding['x'].field)).encode(\"utf-8\")+b\"b558d65f583a5964\").hexdigest() == \"4d6e7e292162ea611a92bbe3142b682fdb3eff7f\", \"type of sample_2_dist.encoding['x'].field is not str. sample_2_dist.encoding['x'].field should be an str\"\n",
    "assert sha1(str(len(sample_2_dist.encoding['x'].field)).encode(\"utf-8\")+b\"b558d65f583a5964\").hexdigest() == \"15f14ceb91ee71fc8c7f6e0bd5c1a15f26f68e02\", \"length of sample_2_dist.encoding['x'].field is not correct\"\n",
    "assert sha1(str(sample_2_dist.encoding['x'].field.lower()).encode(\"utf-8\")+b\"b558d65f583a5964\").hexdigest() == \"a72d6fa798285923babec456b80cbf58f390d6f5\", \"value of sample_2_dist.encoding['x'].field is not correct\"\n",
    "assert sha1(str(sample_2_dist.encoding['x'].field).encode(\"utf-8\")+b\"b558d65f583a5964\").hexdigest() == \"a72d6fa798285923babec456b80cbf58f390d6f5\", \"correct string value of sample_2_dist.encoding['x'].field but incorrect case of letters\"\n",
    "\n",
    "assert sha1(str(type(sample_2_dist.encoding['y'].aggregate)).encode(\"utf-8\")+b\"8e6c2340f86f37d3\").hexdigest() == \"e6b9d9d5bfeccc3a564c0ecc85a67234555f8bc3\", \"type of sample_2_dist.encoding['y'].aggregate is not str. sample_2_dist.encoding['y'].aggregate should be an str\"\n",
    "assert sha1(str(len(sample_2_dist.encoding['y'].aggregate)).encode(\"utf-8\")+b\"8e6c2340f86f37d3\").hexdigest() == \"c6633605a3e5b83a7e25b3b7514683a35e2cc0c0\", \"length of sample_2_dist.encoding['y'].aggregate is not correct\"\n",
    "assert sha1(str(sample_2_dist.encoding['y'].aggregate.lower()).encode(\"utf-8\")+b\"8e6c2340f86f37d3\").hexdigest() == \"f2b37edeb275ca38d0b507b8e694235e22dfc3ed\", \"value of sample_2_dist.encoding['y'].aggregate is not correct\"\n",
    "assert sha1(str(sample_2_dist.encoding['y'].aggregate).encode(\"utf-8\")+b\"8e6c2340f86f37d3\").hexdigest() == \"f2b37edeb275ca38d0b507b8e694235e22dfc3ed\", \"correct string value of sample_2_dist.encoding['y'].aggregate but incorrect case of letters\"\n",
    "\n",
    "assert sha1(str(type(sample_2_dist.encoding.x.field != sample_2_dist.encoding.x.title)).encode(\"utf-8\")+b\"38b741e0e101f993\").hexdigest() == \"8e3c14009fad855cef2b1bc73179d0613b528eee\", \"type of sample_2_dist.encoding.x.field != sample_2_dist.encoding.x.title is not bool. sample_2_dist.encoding.x.field != sample_2_dist.encoding.x.title should be a bool\"\n",
    "assert sha1(str(sample_2_dist.encoding.x.field != sample_2_dist.encoding.x.title).encode(\"utf-8\")+b\"38b741e0e101f993\").hexdigest() == \"b17c888f990922683fd7b9b99063384e4e8276a5\", \"boolean value of sample_2_dist.encoding.x.field != sample_2_dist.encoding.x.title is not correct\"\n",
    "\n",
    "assert sha1(str(type(sample_2_dist.data == sample_2)).encode(\"utf-8\")+b\"22013cefc40c49c3\").hexdigest() == \"50761526b354293428585060537475cb91123556\", \"type of sample_2_dist.data == sample_2 is not correct\"\n",
    "assert sha1(str(sample_2_dist.data == sample_2).encode(\"utf-8\")+b\"22013cefc40c49c3\").hexdigest() == \"254ad5d1675355e2f2f3ad3972f6cdd2df0599ea\", \"value of sample_2_dist.data == sample_2 is not correct\"\n",
    "\n",
    "assert sha1(str(type(sample_2_dist.title is not None)).encode(\"utf-8\")+b\"e7d28e7a4cc86359\").hexdigest() == \"737d38b77910b62ab9b26fc8ff2f9c0abf49c677\", \"type of sample_2_dist.title is not None is not bool. sample_2_dist.title is not None should be a bool\"\n",
    "assert sha1(str(sample_2_dist.title is not None).encode(\"utf-8\")+b\"e7d28e7a4cc86359\").hexdigest() == \"3bbc14cedf269abf2073dc990b9f89f37a9dae4e\", \"boolean value of sample_2_dist.title is not None is not correct\"\n",
    "\n",
    "print('Success!')"
   ]
  },
  {
   "cell_type": "markdown",
   "metadata": {
    "deletable": false,
    "editable": false,
    "nbgrader": {
     "cell_type": "markdown",
     "checksum": "6d47e311d897fe18622c261d3a0b5212",
     "grade": false,
     "grade_id": "cell-84562b964d37b15f",
     "locked": true,
     "schema_version": 3,
     "solution": false,
     "task": false
    }
   },
   "source": [
    "**Question 1.8.1** \n",
    "<br> {points: 1}\n",
    "\n",
    "After comparing the distribution and point estimates of this second random sample from the population with that of the first random sample and the population, which of the following statements below **is not** correct:\n",
    "\n",
    "A. The sample distributions from different random samples are of a similar shape to the population distribution, but they vary a bit depending which values are captured in the sample\n",
    "\n",
    "B. The sample point estimates from different random samples are close to the values for the true population parameters we are trying to estimate, but they vary a bit depending which values are captured in the sample\n",
    "\n",
    "C. Every random sample from the same population should have an identical set of values and yield identical point estimates.\n",
    "\n",
    "*Assign your answer to an object called `answer1_8_1`. Your answer should be a single character surrounded by quotes.*"
   ]
  },
  {
   "cell_type": "code",
   "execution_count": null,
   "metadata": {
    "deletable": false,
    "nbgrader": {
     "cell_type": "code",
     "checksum": "28566dd40b14a2437485e373c4b8c336",
     "grade": false,
     "grade_id": "cell-17f98eceba8ee494",
     "locked": false,
     "schema_version": 3,
     "solution": true,
     "task": false
    }
   },
   "outputs": [],
   "source": [
    "# your code here\n",
    "raise NotImplementedError"
   ]
  },
  {
   "cell_type": "code",
   "execution_count": null,
   "metadata": {
    "deletable": false,
    "editable": false,
    "max_height": 100,
    "nbgrader": {
     "cell_type": "code",
     "checksum": "4b2e5eeb49ee4ab3525938496b75ac3e",
     "grade": true,
     "grade_id": "cell-00564a8c56afa5c2",
     "locked": true,
     "points": 1,
     "schema_version": 3,
     "solution": false,
     "task": false
    }
   },
   "outputs": [],
   "source": [
    "from hashlib import sha1\n",
    "assert sha1(str(type(answer1_8_1)).encode(\"utf-8\")+b\"21bce392f3d4d9c9\").hexdigest() == \"469c457ac3f27c87a735485ec35f54b6cf4a255a\", \"type of answer1_8_1 is not str. answer1_8_1 should be an str\"\n",
    "assert sha1(str(len(answer1_8_1)).encode(\"utf-8\")+b\"21bce392f3d4d9c9\").hexdigest() == \"9a52556fe2a4b4ec8fd3ed2aa624171294c7da29\", \"length of answer1_8_1 is not correct\"\n",
    "assert sha1(str(answer1_8_1.lower()).encode(\"utf-8\")+b\"21bce392f3d4d9c9\").hexdigest() == \"09a6ebd8f776fdd562f11ba61572944aa1c2b137\", \"value of answer1_8_1 is not correct\"\n",
    "assert sha1(str(answer1_8_1).encode(\"utf-8\")+b\"21bce392f3d4d9c9\").hexdigest() == \"b4efbac2c0bf2fc4f2d1a6348989679697c4a426\", \"correct string value of answer1_8_1 but incorrect case of letters\"\n",
    "\n",
    "print('Success!')"
   ]
  },
  {
   "cell_type": "markdown",
   "metadata": {
    "deletable": false,
    "editable": false,
    "nbgrader": {
     "cell_type": "markdown",
     "checksum": "a0ff84b3060f360c30a4e4cdc84444d9",
     "grade": false,
     "grade_id": "cell-d1e256c58e03abb7",
     "locked": true,
     "schema_version": 3,
     "solution": false,
     "task": false
    }
   },
   "source": [
    "### Exploring the sampling distribution of an estimate\n",
    "\n",
    "Just how much should we expect the point estimates of our random samples to vary? To build an intuition for this, let's experiment a little more with our population of Canadian seniors. To do this we will take 1000 random samples, and then calculate the point estimate we are interested in (let's choose the mean for this example) for each sample. Finally, we will visualize the distribution of the sample point estimates. This distribution will tell us how much we would expect the point estimates of our random samples to vary for this population for samples of size 40 (the size of our samples)."
   ]
  },
  {
   "cell_type": "markdown",
   "metadata": {
    "deletable": false,
    "editable": false,
    "nbgrader": {
     "cell_type": "markdown",
     "checksum": "12d29f37fd0fe36838ab14f9b6868e91",
     "grade": false,
     "grade_id": "cell-2f445a196c50749f",
     "locked": true,
     "schema_version": 3,
     "solution": false,
     "task": false
    }
   },
   "source": [
    "**Question 1.9** \n",
    "<br> {points: 1}\n",
    "\n",
    "Draw 1000 random samples from our population of Canadian seniors (`can_seniors`). Each sample should have 40 observations. Name the data frame `samples` and use the `random_state` `4321`."
   ]
  },
  {
   "cell_type": "code",
   "execution_count": null,
   "metadata": {
    "deletable": false,
    "nbgrader": {
     "cell_type": "code",
     "checksum": "8f32fd58fef1ea6f8b468be8c9612517",
     "grade": false,
     "grade_id": "cell-695ac307a193414a",
     "locked": false,
     "schema_version": 3,
     "solution": true,
     "task": false
    }
   },
   "outputs": [],
   "source": [
    "np.random.seed(4321) # DO NOT CHANGE\n",
    "# ___ = []\n",
    "# for rep in range(___):\n",
    "#     sample = can_seniors.sample(___)\n",
    "#     sample = sample.assign(replicate=rep)\n",
    "#     ___.append(sample)\n",
    "# ___ = pd.concat([___[i] for i in range(len(___))])\n",
    "\n",
    "# your code here\n",
    "raise NotImplementedError\n",
    "samples"
   ]
  },
  {
   "cell_type": "code",
   "execution_count": null,
   "metadata": {
    "deletable": false,
    "editable": false,
    "max_height": 100,
    "nbgrader": {
     "cell_type": "code",
     "checksum": "b2c632670dc5bd6c5b79fb87b917a162",
     "grade": true,
     "grade_id": "cell-c58c6bf8b51e07c5",
     "locked": true,
     "points": 1,
     "schema_version": 3,
     "solution": false,
     "task": false
    }
   },
   "outputs": [],
   "source": [
    "from hashlib import sha1\n",
    "assert sha1(str(type(samples.shape[0])).encode(\"utf-8\")+b\"c76632865f5e385c\").hexdigest() == \"816dc607bb34af59a3f6da656aac176039e58137\", \"type of samples.shape[0] is not int. Please make sure it is int and not np.int64, etc. You can cast your value into an int using int()\"\n",
    "assert sha1(str(samples.shape[0]).encode(\"utf-8\")+b\"c76632865f5e385c\").hexdigest() == \"225ce885d79c0522cfe5ff9871146457f2e1b3ae\", \"value of samples.shape[0] is not correct\"\n",
    "\n",
    "assert sha1(str(type(samples.shape[1])).encode(\"utf-8\")+b\"c998ce1770665bcd\").hexdigest() == \"72b7f17430dcfe18e5b6a2c7d820478c6926a547\", \"type of samples.shape[1] is not int. Please make sure it is int and not np.int64, etc. You can cast your value into an int using int()\"\n",
    "assert sha1(str(samples.shape[1]).encode(\"utf-8\")+b\"c998ce1770665bcd\").hexdigest() == \"d4b44d8a733af4f4e84dd1e7142b28ad6c403cbe\", \"value of samples.shape[1] is not correct\"\n",
    "\n",
    "assert sha1(str(type(\"\".join(samples.columns.values))).encode(\"utf-8\")+b\"72b6d4448b892fb3\").hexdigest() == \"4a59af2ca52d6bffba2f8b0d3f775dcf79f09313\", \"type of \\\"\\\".join(samples.columns.values) is not str. \\\"\\\".join(samples.columns.values) should be an str\"\n",
    "assert sha1(str(len(\"\".join(samples.columns.values))).encode(\"utf-8\")+b\"72b6d4448b892fb3\").hexdigest() == \"5f20189a77d2df489a299dcd99335c653295aff5\", \"length of \\\"\\\".join(samples.columns.values) is not correct\"\n",
    "assert sha1(str(\"\".join(samples.columns.values).lower()).encode(\"utf-8\")+b\"72b6d4448b892fb3\").hexdigest() == \"97b0c5dbedf654b7fd7b11eb60bc38b2b9f446ee\", \"value of \\\"\\\".join(samples.columns.values) is not correct\"\n",
    "assert sha1(str(\"\".join(samples.columns.values)).encode(\"utf-8\")+b\"72b6d4448b892fb3\").hexdigest() == \"97b0c5dbedf654b7fd7b11eb60bc38b2b9f446ee\", \"correct string value of \\\"\\\".join(samples.columns.values) but incorrect case of letters\"\n",
    "\n",
    "print('Success!')"
   ]
  },
  {
   "cell_type": "markdown",
   "metadata": {
    "deletable": false,
    "editable": false,
    "nbgrader": {
     "cell_type": "markdown",
     "checksum": "2955efd05940a11f50c98aabddd97ff7",
     "grade": false,
     "grade_id": "cell-54d3669aec34e1c1",
     "locked": true,
     "schema_version": 3,
     "solution": false,
     "task": false
    }
   },
   "source": [
    "**Question 2.0** \n",
    "<br> {points: 1}\n",
    "\n",
    "Group by the sample replicate number, and then for each sample, calculate the mean as the point estimate. Name the data frame `sample_estimates`. The data frame should have the column names `replicate` and `age`."
   ]
  },
  {
   "cell_type": "code",
   "execution_count": null,
   "metadata": {
    "deletable": false,
    "nbgrader": {
     "cell_type": "code",
     "checksum": "0a4b4f0c2cd85bdbd61ece17dc1d4dfa",
     "grade": false,
     "grade_id": "cell-db790cf4f047972a",
     "locked": false,
     "schema_version": 3,
     "solution": true,
     "task": false
    }
   },
   "outputs": [],
   "source": [
    "# your code here\n",
    "raise NotImplementedError\n",
    "sample_estimates"
   ]
  },
  {
   "cell_type": "code",
   "execution_count": null,
   "metadata": {
    "deletable": false,
    "editable": false,
    "max_height": 100,
    "nbgrader": {
     "cell_type": "code",
     "checksum": "08f97bdf72d08ce6b54a6d59746d02a3",
     "grade": true,
     "grade_id": "cell-009a8fb2b91b528c",
     "locked": true,
     "points": 1,
     "schema_version": 3,
     "solution": false,
     "task": false
    }
   },
   "outputs": [],
   "source": [
    "from hashlib import sha1\n",
    "assert sha1(str(type(sample_estimates.shape[0])).encode(\"utf-8\")+b\"a30de5f57c791e18\").hexdigest() == \"e048d97464b2ca659ad362dced01c264c1649047\", \"type of sample_estimates.shape[0] is not int. Please make sure it is int and not np.int64, etc. You can cast your value into an int using int()\"\n",
    "assert sha1(str(sample_estimates.shape[0]).encode(\"utf-8\")+b\"a30de5f57c791e18\").hexdigest() == \"a45b98803fcd6145f2c36b319c0be4d5b45c63da\", \"value of sample_estimates.shape[0] is not correct\"\n",
    "\n",
    "assert sha1(str(type(sample_estimates.shape[1])).encode(\"utf-8\")+b\"68d4b0de48dcc2a3\").hexdigest() == \"12f28e5aa6c3c882ed3f638da69c4e55eb7f23bb\", \"type of sample_estimates.shape[1] is not int. Please make sure it is int and not np.int64, etc. You can cast your value into an int using int()\"\n",
    "assert sha1(str(sample_estimates.shape[1]).encode(\"utf-8\")+b\"68d4b0de48dcc2a3\").hexdigest() == \"f72e2be27d57c729496f7a282c334fb3d8120fc9\", \"value of sample_estimates.shape[1] is not correct\"\n",
    "\n",
    "assert sha1(str(type(\"\".join(sample_estimates.columns.values))).encode(\"utf-8\")+b\"99555d25f84f6e5f\").hexdigest() == \"7a75e02b011157f2cf1a132cff3f61e959597414\", \"type of \\\"\\\".join(sample_estimates.columns.values) is not str. \\\"\\\".join(sample_estimates.columns.values) should be an str\"\n",
    "assert sha1(str(len(\"\".join(sample_estimates.columns.values))).encode(\"utf-8\")+b\"99555d25f84f6e5f\").hexdigest() == \"33d315dbafa83ae90cd6d3de64974251afd7b317\", \"length of \\\"\\\".join(sample_estimates.columns.values) is not correct\"\n",
    "assert sha1(str(\"\".join(sample_estimates.columns.values).lower()).encode(\"utf-8\")+b\"99555d25f84f6e5f\").hexdigest() == \"1bcd5be2bfb5db606c59f6e15cc38f8d57cd3872\", \"value of \\\"\\\".join(sample_estimates.columns.values) is not correct\"\n",
    "assert sha1(str(\"\".join(sample_estimates.columns.values)).encode(\"utf-8\")+b\"99555d25f84f6e5f\").hexdigest() == \"1bcd5be2bfb5db606c59f6e15cc38f8d57cd3872\", \"correct string value of \\\"\\\".join(sample_estimates.columns.values) but incorrect case of letters\"\n",
    "\n",
    "print('Success!')"
   ]
  },
  {
   "cell_type": "markdown",
   "metadata": {
    "deletable": false,
    "editable": false,
    "nbgrader": {
     "cell_type": "markdown",
     "checksum": "81d810c31322d361ce43435226590665",
     "grade": false,
     "grade_id": "cell-b37ce66b7bf8e8bf",
     "locked": true,
     "schema_version": 3,
     "solution": false,
     "task": false
    }
   },
   "source": [
    "**Question 2.1** \n",
    "<br> {points: 1}\n",
    "\n",
    "Visualize the distribution of the sample estimates (`sample_estimates`) you just calculated by plotting a histogram using `maxbins=30` in the `alt.Bin` argument. Name the plot `sampling_distribution` and give the plot and the x-axis a descriptive label."
   ]
  },
  {
   "cell_type": "code",
   "execution_count": null,
   "metadata": {
    "deletable": false,
    "nbgrader": {
     "cell_type": "code",
     "checksum": "ec695bf1aa653e8496e6a10d3214f989",
     "grade": false,
     "grade_id": "cell-cc60d0afb72d45c2",
     "locked": false,
     "schema_version": 3,
     "solution": true,
     "task": false
    }
   },
   "outputs": [],
   "source": [
    "# your code here\n",
    "raise NotImplementedError\n",
    "sampling_distribution"
   ]
  },
  {
   "cell_type": "code",
   "execution_count": null,
   "metadata": {
    "deletable": false,
    "editable": false,
    "max_height": 100,
    "nbgrader": {
     "cell_type": "code",
     "checksum": "d063d652ea450950276b8a0140682dfa",
     "grade": true,
     "grade_id": "cell-63a57e1040dc4a79",
     "locked": true,
     "points": 1,
     "schema_version": 3,
     "solution": false,
     "task": false
    }
   },
   "outputs": [],
   "source": [
    "from hashlib import sha1\n",
    "assert sha1(str(type(sampling_distribution.mark)).encode(\"utf-8\")+b\"4b281c9ae873d79c\").hexdigest() == \"35bfa940f5a3ca8b77aa362656d8f7c063fd8002\", \"type of sampling_distribution.mark is not str. sampling_distribution.mark should be an str\"\n",
    "assert sha1(str(len(sampling_distribution.mark)).encode(\"utf-8\")+b\"4b281c9ae873d79c\").hexdigest() == \"bce03534ff7623cf78fb1f4b5f495a5deccc923d\", \"length of sampling_distribution.mark is not correct\"\n",
    "assert sha1(str(sampling_distribution.mark.lower()).encode(\"utf-8\")+b\"4b281c9ae873d79c\").hexdigest() == \"67bb0c1141d3c782f9df8d02dc9b68e7a2e46014\", \"value of sampling_distribution.mark is not correct\"\n",
    "assert sha1(str(sampling_distribution.mark).encode(\"utf-8\")+b\"4b281c9ae873d79c\").hexdigest() == \"67bb0c1141d3c782f9df8d02dc9b68e7a2e46014\", \"correct string value of sampling_distribution.mark but incorrect case of letters\"\n",
    "\n",
    "assert sha1(str(type(sampling_distribution.encoding['x'].field)).encode(\"utf-8\")+b\"b03d900ebd9b61ee\").hexdigest() == \"15b27371d13175c00910bc3be28724c5278fc16a\", \"type of sampling_distribution.encoding['x'].field is not str. sampling_distribution.encoding['x'].field should be an str\"\n",
    "assert sha1(str(len(sampling_distribution.encoding['x'].field)).encode(\"utf-8\")+b\"b03d900ebd9b61ee\").hexdigest() == \"feb9f4decfe1e70e3719fc2f76de6b0811b1af8c\", \"length of sampling_distribution.encoding['x'].field is not correct\"\n",
    "assert sha1(str(sampling_distribution.encoding['x'].field.lower()).encode(\"utf-8\")+b\"b03d900ebd9b61ee\").hexdigest() == \"3dfe19e818a73642ee69eaeb49e6edcc239252b3\", \"value of sampling_distribution.encoding['x'].field is not correct\"\n",
    "assert sha1(str(sampling_distribution.encoding['x'].field).encode(\"utf-8\")+b\"b03d900ebd9b61ee\").hexdigest() == \"3dfe19e818a73642ee69eaeb49e6edcc239252b3\", \"correct string value of sampling_distribution.encoding['x'].field but incorrect case of letters\"\n",
    "\n",
    "assert sha1(str(type(sampling_distribution.encoding['y'].aggregate)).encode(\"utf-8\")+b\"41e36bdf3f881919\").hexdigest() == \"45fe3cd2cad40dfbcece76f012f36d7d60f07050\", \"type of sampling_distribution.encoding['y'].aggregate is not str. sampling_distribution.encoding['y'].aggregate should be an str\"\n",
    "assert sha1(str(len(sampling_distribution.encoding['y'].aggregate)).encode(\"utf-8\")+b\"41e36bdf3f881919\").hexdigest() == \"fe96adb2af90f5d41fa00fd272878ce9000f910a\", \"length of sampling_distribution.encoding['y'].aggregate is not correct\"\n",
    "assert sha1(str(sampling_distribution.encoding['y'].aggregate.lower()).encode(\"utf-8\")+b\"41e36bdf3f881919\").hexdigest() == \"b3b54bdec94d7a67d26836a206e69dcf40e93922\", \"value of sampling_distribution.encoding['y'].aggregate is not correct\"\n",
    "assert sha1(str(sampling_distribution.encoding['y'].aggregate).encode(\"utf-8\")+b\"41e36bdf3f881919\").hexdigest() == \"b3b54bdec94d7a67d26836a206e69dcf40e93922\", \"correct string value of sampling_distribution.encoding['y'].aggregate but incorrect case of letters\"\n",
    "\n",
    "assert sha1(str(type(sampling_distribution.encoding.x.field != sampling_distribution.encoding.x.title)).encode(\"utf-8\")+b\"feeb22dbabf48b55\").hexdigest() == \"4128a921bd39e1d582b05d831d845b4d45e1195e\", \"type of sampling_distribution.encoding.x.field != sampling_distribution.encoding.x.title is not bool. sampling_distribution.encoding.x.field != sampling_distribution.encoding.x.title should be a bool\"\n",
    "assert sha1(str(sampling_distribution.encoding.x.field != sampling_distribution.encoding.x.title).encode(\"utf-8\")+b\"feeb22dbabf48b55\").hexdigest() == \"8baf117cd8e48247e2201560cf3f7402cf1b1111\", \"boolean value of sampling_distribution.encoding.x.field != sampling_distribution.encoding.x.title is not correct\"\n",
    "\n",
    "assert sha1(str(type(sampling_distribution.data == sample_estimates)).encode(\"utf-8\")+b\"3ca9851a28496670\").hexdigest() == \"f72a8757055adf52d0fb5affd1cb0955dd689ddc\", \"type of sampling_distribution.data == sample_estimates is not correct\"\n",
    "assert sha1(str(sampling_distribution.data == sample_estimates).encode(\"utf-8\")+b\"3ca9851a28496670\").hexdigest() == \"09accffa4bb01f349293821a422e1a46c7aeeaf4\", \"value of sampling_distribution.data == sample_estimates is not correct\"\n",
    "\n",
    "assert sha1(str(type(sampling_distribution.title is not None)).encode(\"utf-8\")+b\"f1c823276332a24f\").hexdigest() == \"c2433bba2e475ac8ac316fb309f69aeb89a38a3e\", \"type of sampling_distribution.title is not None is not bool. sampling_distribution.title is not None should be a bool\"\n",
    "assert sha1(str(sampling_distribution.title is not None).encode(\"utf-8\")+b\"f1c823276332a24f\").hexdigest() == \"2b448c38e875a3a99099973dfaa8f8b2c58549cb\", \"boolean value of sampling_distribution.title is not None is not correct\"\n",
    "\n",
    "print('Success!')"
   ]
  },
  {
   "cell_type": "markdown",
   "metadata": {
    "deletable": false,
    "editable": false,
    "nbgrader": {
     "cell_type": "markdown",
     "checksum": "8bf5d3f29fd9fb89a8aaa73afcb7e592",
     "grade": false,
     "grade_id": "cell-e1b528491ee83745",
     "locked": true,
     "schema_version": 3,
     "solution": false,
     "task": false
    }
   },
   "source": [
    "**Question 2.2** \n",
    "<br> {points: 1}\n",
    "\n",
    "Let's refresh our memories: what is the mean age of the whole population (we calculated this above)? *Assign your answer to an object called `answer2_2`. Your answer should be a single number reported to two decimal places.*\n"
   ]
  },
  {
   "cell_type": "code",
   "execution_count": null,
   "metadata": {
    "deletable": false,
    "nbgrader": {
     "cell_type": "code",
     "checksum": "d8c73ae9e4d42f7bdd0d4a6669287013",
     "grade": false,
     "grade_id": "cell-b3dc0d016c0b2fa0",
     "locked": false,
     "schema_version": 3,
     "solution": true,
     "task": false
    }
   },
   "outputs": [],
   "source": [
    "# your code here\n",
    "raise NotImplementedError\n",
    "answer2_2"
   ]
  },
  {
   "cell_type": "code",
   "execution_count": null,
   "metadata": {
    "deletable": false,
    "editable": false,
    "max_height": 100,
    "nbgrader": {
     "cell_type": "code",
     "checksum": "becf0a9239713686bd51d55c64899a9b",
     "grade": true,
     "grade_id": "cell-859e93c62242915f",
     "locked": true,
     "points": 1,
     "schema_version": 3,
     "solution": false,
     "task": false
    }
   },
   "outputs": [],
   "source": [
    "from hashlib import sha1\n",
    "assert sha1(str(type(answer2_2)).encode(\"utf-8\")+b\"c9e69260d131a286\").hexdigest() == \"c0891e620f2ad8f84f6cd456e1698feeeab825cf\", \"type of answer2_2 is not float. Please make sure it is float and not np.float64, etc. You can cast your value into a float using float()\"\n",
    "assert sha1(str(round(answer2_2, 2)).encode(\"utf-8\")+b\"c9e69260d131a286\").hexdigest() == \"fe109ff6bce2a40c471f1983ab92fb80e419dfb2\", \"value of answer2_2 is not correct (rounded to 2 decimal places)\"\n",
    "\n",
    "print('Success!')"
   ]
  },
  {
   "cell_type": "markdown",
   "metadata": {
    "deletable": false,
    "editable": false,
    "nbgrader": {
     "cell_type": "markdown",
     "checksum": "e2315357d7ccec90ff2e7c6247c55e24",
     "grade": false,
     "grade_id": "cell-cd211c77f0a630b0",
     "locked": true,
     "schema_version": 3,
     "solution": false,
     "task": false
    }
   },
   "source": [
    "**Question 2.3** Multiple Choice\n",
    "<br> {points: 1}\n",
    "\n",
    "Considering the true value for the population mean, and the sampling distribution you created and visualized in **question 2.1**, which of the following statements below **is not** correct:\n",
    "\n",
    "A. The sampling distribution is centered at the true population mean\n",
    "\n",
    "B. All the sample means are the same value as the true population mean\n",
    "\n",
    "C. Most sample means are at or very near the same value as the true population mean\n",
    "\n",
    "D. A few sample means are far away from the same value as the true population mean\n",
    "\n",
    "*Assign your answer to an object called `answer2_3`. Your answer should be a single character surrounded by quotes.*"
   ]
  },
  {
   "cell_type": "code",
   "execution_count": null,
   "metadata": {
    "deletable": false,
    "nbgrader": {
     "cell_type": "code",
     "checksum": "af9778a8adc19f941ac92d8c9dc852aa",
     "grade": false,
     "grade_id": "cell-aee3630dbf16cba9",
     "locked": false,
     "schema_version": 3,
     "solution": true,
     "task": false
    }
   },
   "outputs": [],
   "source": [
    "# your code here\n",
    "raise NotImplementedError\n",
    "answer2_3"
   ]
  },
  {
   "cell_type": "code",
   "execution_count": null,
   "metadata": {
    "deletable": false,
    "editable": false,
    "max_height": 100,
    "nbgrader": {
     "cell_type": "code",
     "checksum": "41ff74451dc1dd8eb3f6b63915bbdf89",
     "grade": true,
     "grade_id": "cell-d79f9703b99565f3",
     "locked": true,
     "points": 1,
     "schema_version": 3,
     "solution": false,
     "task": false
    }
   },
   "outputs": [],
   "source": [
    "from hashlib import sha1\n",
    "assert sha1(str(type(answer2_3)).encode(\"utf-8\")+b\"a3b30f9154f57ee2\").hexdigest() == \"d51f34c95cd96c7f24a30c5da62be1035043f0d4\", \"type of answer2_3 is not str. answer2_3 should be an str\"\n",
    "assert sha1(str(len(answer2_3)).encode(\"utf-8\")+b\"a3b30f9154f57ee2\").hexdigest() == \"32a506ba053f47cbad79009adf58f53000d54649\", \"length of answer2_3 is not correct\"\n",
    "assert sha1(str(answer2_3.lower()).encode(\"utf-8\")+b\"a3b30f9154f57ee2\").hexdigest() == \"a060b66cd3057af204db56f4450f4f0af1eca4d4\", \"value of answer2_3 is not correct\"\n",
    "assert sha1(str(answer2_3).encode(\"utf-8\")+b\"a3b30f9154f57ee2\").hexdigest() == \"0eb88215cb29b95d9e361da93649d0be0e093278\", \"correct string value of answer2_3 but incorrect case of letters\"\n",
    "\n",
    "print('Success!')"
   ]
  },
  {
   "cell_type": "markdown",
   "metadata": {
    "deletable": false,
    "editable": false,
    "nbgrader": {
     "cell_type": "markdown",
     "checksum": "2a9f46f2027d9a82372419b30b9afcfd",
     "grade": false,
     "grade_id": "cell-e77dc5e07d87e667",
     "locked": true,
     "schema_version": 3,
     "solution": false,
     "task": false
    }
   },
   "source": [
    "**Question 2.4** True/False\n",
    "<br> {points: 1}\n",
    "\n",
    "Taking a random sample and calculating a point estimate is a good way to get a \"best guess\" of the population parameter you are interested in. True or False?\n",
    "\n",
    "*Assign your answer to an object called `answer2_4`. Your answer should be a boolean. i.e. `True` or `False`*"
   ]
  },
  {
   "cell_type": "code",
   "execution_count": null,
   "metadata": {
    "deletable": false,
    "nbgrader": {
     "cell_type": "code",
     "checksum": "9cd5a8b7240bef055ad2944192efecae",
     "grade": false,
     "grade_id": "cell-6f8050a70cec0677",
     "locked": false,
     "schema_version": 3,
     "solution": true,
     "task": false
    }
   },
   "outputs": [],
   "source": [
    "# your code here\n",
    "raise NotImplementedError\n",
    "answer2_4"
   ]
  },
  {
   "cell_type": "code",
   "execution_count": null,
   "metadata": {
    "deletable": false,
    "editable": false,
    "max_height": 100,
    "nbgrader": {
     "cell_type": "code",
     "checksum": "cce8a1081c596d1d2f1a07a47b3ac87a",
     "grade": true,
     "grade_id": "cell-83c05f5c808126c1",
     "locked": true,
     "points": 1,
     "schema_version": 3,
     "solution": false,
     "task": false
    }
   },
   "outputs": [],
   "source": [
    "from hashlib import sha1\n",
    "assert sha1(str(type(answer2_4)).encode(\"utf-8\")+b\"e1311bc6768118fd\").hexdigest() == \"4ca63628cdaa94a5ccc26c554033b9f207a66b12\", \"type of answer2_4 is not bool. answer2_4 should be a bool\"\n",
    "assert sha1(str(answer2_4).encode(\"utf-8\")+b\"e1311bc6768118fd\").hexdigest() == \"8ed1505ffb07876ada589791ddb1cc45e670a0b6\", \"boolean value of answer2_4 is not correct\"\n",
    "\n",
    "print('Success!')"
   ]
  },
  {
   "cell_type": "markdown",
   "metadata": {
    "deletable": false,
    "editable": false,
    "nbgrader": {
     "cell_type": "markdown",
     "checksum": "7126f8ab1f7737176325c9e27b5e68bb",
     "grade": false,
     "grade_id": "cell-2465e27157c638d7",
     "locked": true,
     "schema_version": 3,
     "solution": false,
     "task": false
    }
   },
   "source": [
    "### The influence of sample size on the sampling distribution\n",
    "\n",
    "What happens to our point estimate when we change the sample size? Let's answer this question by experimenting! We will create 3 different sampling distributions of sample means, each using a different sample size. As we did above, we will draw samples from our Canadian seniors population. We will visualize these sampling distributions and see if we can see a pattern when we vary the sample size."
   ]
  },
  {
   "cell_type": "markdown",
   "metadata": {
    "deletable": false,
    "editable": false,
    "nbgrader": {
     "cell_type": "markdown",
     "checksum": "ed2d81546d59834790e1de3360cd77b2",
     "grade": false,
     "grade_id": "cell-34e0ccb715d582e3",
     "locked": true,
     "schema_version": 3,
     "solution": false,
     "task": false
    }
   },
   "source": [
    "**Question 2.5** \n",
    "<br> {points: 1}\n",
    "\n",
    "Using the same strategy as you did above, draw 1000 random samples from the Canadian seniors population (`can_seniors`), each of size 20. For each sample, calculate the mean age and assign this data frame to an object called `sample_estimates_20`. \n",
    "\n",
    "Then, visualize the distribution of the sample estimates (means) you just calculated by plotting a histogram using `maxbins=30` in the `alt.Bin` argument. Name the plot `sampling_distribution_20` and give the x-axis a descriptive label. Give the plot the title `\"n = 20\"`. Also specify the x-axis limits to be 70 and 95 using `scale=alt.Scale(domain=(70, 95))`."
   ]
  },
  {
   "cell_type": "code",
   "execution_count": null,
   "metadata": {
    "deletable": false,
    "nbgrader": {
     "cell_type": "code",
     "checksum": "4ac8b1888d46361739d4f55bd057feb1",
     "grade": false,
     "grade_id": "cell-b749043da4922d58",
     "locked": false,
     "schema_version": 3,
     "solution": true,
     "task": false
    }
   },
   "outputs": [],
   "source": [
    "np.random.seed(4321)  # DO NOT CHANGE\n",
    "\n",
    "# your code here\n",
    "raise NotImplementedError\n",
    "sampling_distribution_20"
   ]
  },
  {
   "cell_type": "code",
   "execution_count": null,
   "metadata": {
    "deletable": false,
    "editable": false,
    "max_height": 100,
    "nbgrader": {
     "cell_type": "code",
     "checksum": "f8e6b835d5b8229d90915b3f15258188",
     "grade": true,
     "grade_id": "cell-fae3123c38b31ad8",
     "locked": true,
     "points": 1,
     "schema_version": 3,
     "solution": false,
     "task": false
    }
   },
   "outputs": [],
   "source": [
    "from hashlib import sha1\n",
    "assert sha1(str(type(sampling_distribution_20.mark)).encode(\"utf-8\")+b\"9c5e555580abb1a8\").hexdigest() == \"ade8933cea3640ffd698e095efb32d0587bf44e7\", \"type of sampling_distribution_20.mark is not str. sampling_distribution_20.mark should be an str\"\n",
    "assert sha1(str(len(sampling_distribution_20.mark)).encode(\"utf-8\")+b\"9c5e555580abb1a8\").hexdigest() == \"9537f253d0da1e570559f32d03e21dc871ce1028\", \"length of sampling_distribution_20.mark is not correct\"\n",
    "assert sha1(str(sampling_distribution_20.mark.lower()).encode(\"utf-8\")+b\"9c5e555580abb1a8\").hexdigest() == \"bfc638bff63451d75c0b201e161433b7c591cc09\", \"value of sampling_distribution_20.mark is not correct\"\n",
    "assert sha1(str(sampling_distribution_20.mark).encode(\"utf-8\")+b\"9c5e555580abb1a8\").hexdigest() == \"bfc638bff63451d75c0b201e161433b7c591cc09\", \"correct string value of sampling_distribution_20.mark but incorrect case of letters\"\n",
    "\n",
    "assert sha1(str(type(sampling_distribution_20.encoding['x'].field)).encode(\"utf-8\")+b\"fb68a4469e4cc29a\").hexdigest() == \"4c746dbd56135d1a9ca615fe23455b1d44ea3b5e\", \"type of sampling_distribution_20.encoding['x'].field is not str. sampling_distribution_20.encoding['x'].field should be an str\"\n",
    "assert sha1(str(len(sampling_distribution_20.encoding['x'].field)).encode(\"utf-8\")+b\"fb68a4469e4cc29a\").hexdigest() == \"79f46a57f5b7360911a6545375ba5dda3bd990c5\", \"length of sampling_distribution_20.encoding['x'].field is not correct\"\n",
    "assert sha1(str(sampling_distribution_20.encoding['x'].field.lower()).encode(\"utf-8\")+b\"fb68a4469e4cc29a\").hexdigest() == \"9fd27970b90e3f74ba4aeacce45a00ace28ad4d0\", \"value of sampling_distribution_20.encoding['x'].field is not correct\"\n",
    "assert sha1(str(sampling_distribution_20.encoding['x'].field).encode(\"utf-8\")+b\"fb68a4469e4cc29a\").hexdigest() == \"9fd27970b90e3f74ba4aeacce45a00ace28ad4d0\", \"correct string value of sampling_distribution_20.encoding['x'].field but incorrect case of letters\"\n",
    "\n",
    "assert sha1(str(type(sampling_distribution_20.encoding['y'].aggregate)).encode(\"utf-8\")+b\"dc890913227c0937\").hexdigest() == \"8e0bd0e0f98a02628cf4040565e7aeeef8883d6b\", \"type of sampling_distribution_20.encoding['y'].aggregate is not str. sampling_distribution_20.encoding['y'].aggregate should be an str\"\n",
    "assert sha1(str(len(sampling_distribution_20.encoding['y'].aggregate)).encode(\"utf-8\")+b\"dc890913227c0937\").hexdigest() == \"cf675d26420879add631dfe37a0f04f6e85adc0c\", \"length of sampling_distribution_20.encoding['y'].aggregate is not correct\"\n",
    "assert sha1(str(sampling_distribution_20.encoding['y'].aggregate.lower()).encode(\"utf-8\")+b\"dc890913227c0937\").hexdigest() == \"c11bdeb595cee5416ad843a96a274fc0ede5522c\", \"value of sampling_distribution_20.encoding['y'].aggregate is not correct\"\n",
    "assert sha1(str(sampling_distribution_20.encoding['y'].aggregate).encode(\"utf-8\")+b\"dc890913227c0937\").hexdigest() == \"c11bdeb595cee5416ad843a96a274fc0ede5522c\", \"correct string value of sampling_distribution_20.encoding['y'].aggregate but incorrect case of letters\"\n",
    "\n",
    "assert sha1(str(type(sampling_distribution_20.data == sample_estimates_20)).encode(\"utf-8\")+b\"056e800c39f31a02\").hexdigest() == \"50773d6a9f54347815a2e796332a612b03e771f9\", \"type of sampling_distribution_20.data == sample_estimates_20 is not correct\"\n",
    "assert sha1(str(sampling_distribution_20.data == sample_estimates_20).encode(\"utf-8\")+b\"056e800c39f31a02\").hexdigest() == \"65c7c90df83489a007067f07cb42833f2e822f46\", \"value of sampling_distribution_20.data == sample_estimates_20 is not correct\"\n",
    "\n",
    "assert sha1(str(type(sampling_distribution_20.title == \"n = 20\")).encode(\"utf-8\")+b\"268ddb7a54806b41\").hexdigest() == \"c0df4d3cfc92467dee35ae787ad0c5319d828895\", \"type of sampling_distribution_20.title == \\\"n = 20\\\" is not bool. sampling_distribution_20.title == \\\"n = 20\\\" should be a bool\"\n",
    "assert sha1(str(sampling_distribution_20.title == \"n = 20\").encode(\"utf-8\")+b\"268ddb7a54806b41\").hexdigest() == \"e5c59bec04dc3e674d55a3d4d10dffb631e4721e\", \"boolean value of sampling_distribution_20.title == \\\"n = 20\\\" is not correct\"\n",
    "\n",
    "print('Success!')"
   ]
  },
  {
   "cell_type": "markdown",
   "metadata": {
    "deletable": false,
    "editable": false,
    "nbgrader": {
     "cell_type": "markdown",
     "checksum": "0ff38c7d19285f94fdc64def427f2978",
     "grade": false,
     "grade_id": "cell-54728427a6fc9f21",
     "locked": true,
     "schema_version": 3,
     "solution": false,
     "task": false
    }
   },
   "source": [
    "**Question 2.6** \n",
    "<br> {points: 1}\n",
    "\n",
    "Using the same strategy as you did above, draw 1000 random samples from the Canadian seniors population (`can_seniors`), each of size 100. For each sample, calculate the mean age and assign this data frame to an object called `sample_estimates_100`. \n",
    "\n",
    "Then, visualize the distribution of the sample estimates (means) you just calculated by plotting a histogram using `maxbins=30` in the `alt.Bin` argument. Name the plot `sampling_distribution_100` and give the x-axis a descriptive label. Give the plot the title `\"n = 100\"`. Also specify the x-axis limits to be 70 and 95 using `scale=alt.Scale(domain=(70, 95))`."
   ]
  },
  {
   "cell_type": "code",
   "execution_count": null,
   "metadata": {
    "deletable": false,
    "nbgrader": {
     "cell_type": "code",
     "checksum": "ab50b4e962c4c4505227c87d16c5fe21",
     "grade": false,
     "grade_id": "cell-417f5129afaf8a43",
     "locked": false,
     "schema_version": 3,
     "solution": true,
     "task": false
    }
   },
   "outputs": [],
   "source": [
    "np.random.seed(4321)  # DO NOT CHANGE\n",
    "\n",
    "# your code here\n",
    "raise NotImplementedError\n",
    "sampling_distribution_100"
   ]
  },
  {
   "cell_type": "code",
   "execution_count": null,
   "metadata": {
    "deletable": false,
    "editable": false,
    "max_height": 100,
    "nbgrader": {
     "cell_type": "code",
     "checksum": "8f532e075ea46f1b5af6039201b57017",
     "grade": true,
     "grade_id": "cell-5cc24d62254b5bc5",
     "locked": true,
     "points": 1,
     "schema_version": 3,
     "solution": false,
     "task": false
    }
   },
   "outputs": [],
   "source": [
    "from hashlib import sha1\n",
    "assert sha1(str(type(sampling_distribution_100.mark)).encode(\"utf-8\")+b\"5a782e64c9a6fd04\").hexdigest() == \"f96d0332389800d9bee7895444c4e87af3c173d0\", \"type of sampling_distribution_100.mark is not str. sampling_distribution_100.mark should be an str\"\n",
    "assert sha1(str(len(sampling_distribution_100.mark)).encode(\"utf-8\")+b\"5a782e64c9a6fd04\").hexdigest() == \"fe71ac0404b408d5d7fad4159c4406675943fd5f\", \"length of sampling_distribution_100.mark is not correct\"\n",
    "assert sha1(str(sampling_distribution_100.mark.lower()).encode(\"utf-8\")+b\"5a782e64c9a6fd04\").hexdigest() == \"08f14e079fabf2501a8b18014158bfdce8d8f7f5\", \"value of sampling_distribution_100.mark is not correct\"\n",
    "assert sha1(str(sampling_distribution_100.mark).encode(\"utf-8\")+b\"5a782e64c9a6fd04\").hexdigest() == \"08f14e079fabf2501a8b18014158bfdce8d8f7f5\", \"correct string value of sampling_distribution_100.mark but incorrect case of letters\"\n",
    "\n",
    "assert sha1(str(type(sampling_distribution_100.encoding['x'].field)).encode(\"utf-8\")+b\"54aa74f381c07b17\").hexdigest() == \"e7c48e548345200b0a6ee6247d176e7e37dd39f7\", \"type of sampling_distribution_100.encoding['x'].field is not str. sampling_distribution_100.encoding['x'].field should be an str\"\n",
    "assert sha1(str(len(sampling_distribution_100.encoding['x'].field)).encode(\"utf-8\")+b\"54aa74f381c07b17\").hexdigest() == \"44211188d7e8c793957a6b7dca3ccf8a85ac4706\", \"length of sampling_distribution_100.encoding['x'].field is not correct\"\n",
    "assert sha1(str(sampling_distribution_100.encoding['x'].field.lower()).encode(\"utf-8\")+b\"54aa74f381c07b17\").hexdigest() == \"537dd9cd99c78093ad58ace6a29c3ba8eb3063fb\", \"value of sampling_distribution_100.encoding['x'].field is not correct\"\n",
    "assert sha1(str(sampling_distribution_100.encoding['x'].field).encode(\"utf-8\")+b\"54aa74f381c07b17\").hexdigest() == \"537dd9cd99c78093ad58ace6a29c3ba8eb3063fb\", \"correct string value of sampling_distribution_100.encoding['x'].field but incorrect case of letters\"\n",
    "\n",
    "assert sha1(str(type(sampling_distribution_100.encoding['y'].aggregate)).encode(\"utf-8\")+b\"40e1dfc6f9fe00e0\").hexdigest() == \"936c209e8e69272e8bc1c3c9fd6a9b06b35d66f8\", \"type of sampling_distribution_100.encoding['y'].aggregate is not str. sampling_distribution_100.encoding['y'].aggregate should be an str\"\n",
    "assert sha1(str(len(sampling_distribution_100.encoding['y'].aggregate)).encode(\"utf-8\")+b\"40e1dfc6f9fe00e0\").hexdigest() == \"45bd8a187a8c7a1452727441c2db47fab9468f66\", \"length of sampling_distribution_100.encoding['y'].aggregate is not correct\"\n",
    "assert sha1(str(sampling_distribution_100.encoding['y'].aggregate.lower()).encode(\"utf-8\")+b\"40e1dfc6f9fe00e0\").hexdigest() == \"92351a184319c4d9b55051270d94c5a0d856c64a\", \"value of sampling_distribution_100.encoding['y'].aggregate is not correct\"\n",
    "assert sha1(str(sampling_distribution_100.encoding['y'].aggregate).encode(\"utf-8\")+b\"40e1dfc6f9fe00e0\").hexdigest() == \"92351a184319c4d9b55051270d94c5a0d856c64a\", \"correct string value of sampling_distribution_100.encoding['y'].aggregate but incorrect case of letters\"\n",
    "\n",
    "assert sha1(str(type(sampling_distribution_100.data == sample_estimates_100)).encode(\"utf-8\")+b\"b46cf91694227189\").hexdigest() == \"f6ec5134a19394597d1a3086ad9c4b56f7fe8979\", \"type of sampling_distribution_100.data == sample_estimates_100 is not correct\"\n",
    "assert sha1(str(sampling_distribution_100.data == sample_estimates_100).encode(\"utf-8\")+b\"b46cf91694227189\").hexdigest() == \"64df903b21b85851515ff3dfe47fcf91c4ecd565\", \"value of sampling_distribution_100.data == sample_estimates_100 is not correct\"\n",
    "\n",
    "assert sha1(str(type(sampling_distribution_100.title == \"n = 100\")).encode(\"utf-8\")+b\"49c2e686b1a2a5ff\").hexdigest() == \"184562318842f66798563bef53f1f467d20483e7\", \"type of sampling_distribution_100.title == \\\"n = 100\\\" is not bool. sampling_distribution_100.title == \\\"n = 100\\\" should be a bool\"\n",
    "assert sha1(str(sampling_distribution_100.title == \"n = 100\").encode(\"utf-8\")+b\"49c2e686b1a2a5ff\").hexdigest() == \"fd98a34a6c65fbb38ab1e82773f09ad558cf249b\", \"boolean value of sampling_distribution_100.title == \\\"n = 100\\\" is not correct\"\n",
    "\n",
    "print('Success!')"
   ]
  },
  {
   "cell_type": "code",
   "execution_count": null,
   "metadata": {
    "deletable": false,
    "editable": false,
    "nbgrader": {
     "cell_type": "code",
     "checksum": "f36b8170fd0a38383f2c86e1488944fc",
     "grade": false,
     "grade_id": "cell-afda78b801dfe776",
     "locked": true,
     "schema_version": 3,
     "solution": false,
     "task": false
    }
   },
   "outputs": [],
   "source": [
    "# run this cell to change the sampling distribution plot created\n",
    "# earlier in the notebook so that the x-axis is the same dimensions\n",
    "# as the other two plots you just made, and so that the title is \"n = 40\"\n",
    "sampling_distribution.title = \"n = 40\"\n",
    "sampling_distribution.encoding['x']['scale'] = alt.Scale(domain= (70, 95))"
   ]
  },
  {
   "cell_type": "markdown",
   "metadata": {
    "deletable": false,
    "editable": false,
    "nbgrader": {
     "cell_type": "markdown",
     "checksum": "80f3368c13ef3957c5884e7f8a7793bc",
     "grade": false,
     "grade_id": "cell-617a34d8b1bfc6fb",
     "locked": true,
     "schema_version": 3,
     "solution": false,
     "task": false
    }
   },
   "source": [
    "**Question 2.7** \n",
    "<br> {points: 1}\n",
    "\n",
    "Run the following cells to view the sampling distributions together"
   ]
  },
  {
   "cell_type": "code",
   "execution_count": null,
   "metadata": {
    "deletable": false,
    "editable": false,
    "nbgrader": {
     "cell_type": "code",
     "checksum": "6415799c674b320572ece7a53e34d02c",
     "grade": false,
     "grade_id": "cell-27ef82a02ced6084",
     "locked": true,
     "schema_version": 3,
     "solution": false,
     "task": false
    }
   },
   "outputs": [],
   "source": [
    "sampling_distribution_20"
   ]
  },
  {
   "cell_type": "code",
   "execution_count": null,
   "metadata": {
    "deletable": false,
    "editable": false,
    "nbgrader": {
     "cell_type": "code",
     "checksum": "5205faeaa6fcdf3b7b43c63a916e6649",
     "grade": false,
     "grade_id": "cell-2d007af870300418",
     "locked": true,
     "schema_version": 3,
     "solution": false,
     "task": false
    }
   },
   "outputs": [],
   "source": [
    "sampling_distribution "
   ]
  },
  {
   "cell_type": "code",
   "execution_count": null,
   "metadata": {
    "deletable": false,
    "editable": false,
    "nbgrader": {
     "cell_type": "code",
     "checksum": "9f780f765bc2ae9c0569aa5046161fe8",
     "grade": false,
     "grade_id": "cell-41e49c165c7c6937",
     "locked": true,
     "schema_version": 3,
     "solution": false,
     "task": false
    }
   },
   "outputs": [],
   "source": [
    "sampling_distribution_100"
   ]
  },
  {
   "cell_type": "markdown",
   "metadata": {
    "deletable": false,
    "editable": false,
    "nbgrader": {
     "cell_type": "markdown",
     "checksum": "16a2470b9838ebd9f2c7b83769fc6a35",
     "grade": false,
     "grade_id": "cell-05e3eccb230d6deb",
     "locked": true,
     "schema_version": 3,
     "solution": false,
     "task": false
    }
   },
   "source": [
    "**Question 2.8** Multiple Choice\n",
    "<br> {points: 1}\n",
    "\n",
    "Considering the panel figure you created above in **question 2.7**, which of the following statements below **is not** correct:\n",
    "\n",
    "A. As the sample size increases, the sampling distribution of the point estimate becomes narrower.\n",
    "\n",
    "B. As the sample size increases, more sample point estimates are closer to the true population mean.\n",
    "\n",
    "C. As the sample size decreses, the sample point estimates become more variable.\n",
    "\n",
    "D. As the sample size increases, the sample point estimates become more variable.\n",
    "\n",
    "*Assign your answer to an object called `answer2_8`. Your answer should be a single character surrounded by quotes.*"
   ]
  },
  {
   "cell_type": "code",
   "execution_count": null,
   "metadata": {
    "deletable": false,
    "nbgrader": {
     "cell_type": "code",
     "checksum": "0687acaae590df768cfeb8e0ef62ea0c",
     "grade": false,
     "grade_id": "cell-8f9319a3b3411ed5",
     "locked": false,
     "schema_version": 3,
     "solution": true,
     "task": false
    }
   },
   "outputs": [],
   "source": [
    "# your code here\n",
    "raise NotImplementedError\n",
    "answer2_8"
   ]
  },
  {
   "cell_type": "code",
   "execution_count": null,
   "metadata": {
    "deletable": false,
    "editable": false,
    "max_height": 100,
    "nbgrader": {
     "cell_type": "code",
     "checksum": "529e08f471083b6884424f23722a1cf5",
     "grade": true,
     "grade_id": "cell-4bd59f7910e865dc",
     "locked": true,
     "points": 1,
     "schema_version": 3,
     "solution": false,
     "task": false
    }
   },
   "outputs": [],
   "source": [
    "from hashlib import sha1\n",
    "assert sha1(str(type(answer2_8)).encode(\"utf-8\")+b\"1300ad15b1b03be2\").hexdigest() == \"1f18784192c42b3d538f575cb3422cded2bbe338\", \"type of answer2_8 is not str. answer2_8 should be an str\"\n",
    "assert sha1(str(len(answer2_8)).encode(\"utf-8\")+b\"1300ad15b1b03be2\").hexdigest() == \"264ee7f75d452aeb1a27fc9bb94adf9c2b05e997\", \"length of answer2_8 is not correct\"\n",
    "assert sha1(str(answer2_8.lower()).encode(\"utf-8\")+b\"1300ad15b1b03be2\").hexdigest() == \"bcce5671a8b01bdf5cd232109d2610f3f82804b1\", \"value of answer2_8 is not correct\"\n",
    "assert sha1(str(answer2_8).encode(\"utf-8\")+b\"1300ad15b1b03be2\").hexdigest() == \"aaa786029bbbb1b263928219f9d8f38161391f49\", \"correct string value of answer2_8 but incorrect case of letters\"\n",
    "\n",
    "print('Success!')"
   ]
  },
  {
   "cell_type": "markdown",
   "metadata": {
    "deletable": false,
    "editable": false,
    "nbgrader": {
     "cell_type": "markdown",
     "checksum": "cc08a1f58f4dd868e7fb106d037343ca",
     "grade": false,
     "grade_id": "cell-4622783ca69e105d",
     "locked": true,
     "schema_version": 3,
     "solution": false,
     "task": false
    }
   },
   "source": [
    "**Question 2.9** True/False\n",
    "<br> {points: 1}\n",
    "\n",
    "Given what you observed above, and considering the real life scenario where you will only have one sample, answer the True/False question below:\n",
    "\n",
    "The smaller your random sample, the better your sample point estimate reflect the true population parameter you are trying to estimate. True or False?\n",
    "\n",
    "*Assign your answer to an object called `answer2_9`. Your answer should be a boolean. i.e. `True` or `False`.*"
   ]
  },
  {
   "cell_type": "code",
   "execution_count": null,
   "metadata": {
    "deletable": false,
    "nbgrader": {
     "cell_type": "code",
     "checksum": "e3b62b190d93cd3b6533906c3489fa10",
     "grade": false,
     "grade_id": "cell-3c587e58178a0614",
     "locked": false,
     "schema_version": 3,
     "solution": true,
     "task": false
    }
   },
   "outputs": [],
   "source": [
    "# your code here\n",
    "raise NotImplementedError\n",
    "answer2_9"
   ]
  },
  {
   "cell_type": "code",
   "execution_count": null,
   "metadata": {
    "deletable": false,
    "editable": false,
    "max_height": 100,
    "nbgrader": {
     "cell_type": "code",
     "checksum": "76c41705ec0f8775a1bdb1a8d028ebdc",
     "grade": true,
     "grade_id": "cell-d346c550b654bff1",
     "locked": true,
     "points": 1,
     "schema_version": 3,
     "solution": false,
     "task": false
    }
   },
   "outputs": [],
   "source": [
    "from hashlib import sha1\n",
    "assert sha1(str(type(answer2_9)).encode(\"utf-8\")+b\"983415fd4ed2f96c\").hexdigest() == \"3c8484eb527496ad13b02b5d04cd3ec1fe644640\", \"type of answer2_9 is not bool. answer2_9 should be a bool\"\n",
    "assert sha1(str(answer2_9).encode(\"utf-8\")+b\"983415fd4ed2f96c\").hexdigest() == \"945028c1e35657e240627108e5addfcb35402397\", \"boolean value of answer2_9 is not correct\"\n",
    "\n",
    "print('Success!')"
   ]
  }
 ],
 "metadata": {
  "jupytext": {
   "encoding": "# -*- coding: utf-8 -*-"
  },
  "kernelspec": {
   "display_name": "Python 3 (ipykernel)",
   "language": "python",
   "name": "python3"
  },
  "language_info": {
   "codemirror_mode": {
    "name": "ipython",
    "version": 3
   },
   "file_extension": ".py",
   "mimetype": "text/x-python",
   "name": "python",
   "nbconvert_exporter": "python",
   "pygments_lexer": "ipython3",
   "version": "3.10.8"
  }
 },
 "nbformat": 4,
 "nbformat_minor": 4
}
