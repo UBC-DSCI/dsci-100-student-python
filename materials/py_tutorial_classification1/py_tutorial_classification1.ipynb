{
 "cells": [
  {
   "cell_type": "markdown",
   "metadata": {
    "deletable": false,
    "editable": false,
    "nbgrader": {
     "cell_type": "markdown",
     "checksum": "719a371ba352ab56e2ab0d0c0fc6e905",
     "grade": false,
     "grade_id": "cell-f02ea959d4ec286a",
     "locked": true,
     "schema_version": 3,
     "solution": false,
     "task": false
    }
   },
   "source": [
    "# Tutorial 6: Classification\n",
    "\n",
    "### Lecture and Tutorial Learning Goals:\n",
    "\n",
    "After completing this week's lecture and tutorial work, you will be able to:\n",
    "\n",
    "* Recognize situations where a simple classifier would be appropriate for making predictions.\n",
    "* Explain the k-nearest neighbour classification algorithm.\n",
    "* Interpret the output of a classifier.\n",
    "* Compute, by hand, the distance between points when there are two explanatory variables/predictors.\n",
    "* Describe what a training data set is and how it is used in classification.\n",
    "* In a dataset with two explanatory variables/predictors, perform k-nearest neighbour classification in Python using `scikit-learn` to predict the class of a single new observation.\n",
    "\n",
    "This tutorial covers parts of [Chapter 5](https://python.datasciencebook.ca/classification1.html) of the online textbook. You should read this chapter before attempting the tutorial. Any place you see `___`, you must fill in the function, variable, or data to complete the code. Substitute the `raise NotImplementedError` with your completed code and answers then proceed to run the cell."
   ]
  },
  {
   "cell_type": "code",
   "execution_count": null,
   "metadata": {
    "deletable": false,
    "editable": false,
    "nbgrader": {
     "cell_type": "code",
     "checksum": "7466ad8fb5092ca50ea9d1c4c88f1bfc",
     "grade": false,
     "grade_id": "cell-77dbb6c4a3f6c87c",
     "locked": true,
     "schema_version": 3,
     "solution": false,
     "task": false
    }
   },
   "outputs": [],
   "source": [
    "### Run this cell before continuing.\n",
    "import random\n",
    "\n",
    "import altair as alt\n",
    "import pandas as pd\n",
    "import numpy as np\n",
    "from sklearn import set_config\n",
    "from sklearn.compose import make_column_transformer\n",
    "from sklearn.metrics.pairwise import euclidean_distances\n",
    "from sklearn.neighbors import KNeighborsClassifier\n",
    "from sklearn.pipeline import make_pipeline\n",
    "from sklearn.preprocessing import OneHotEncoder, StandardScaler\n",
    "\n",
    "\n",
    "# Simplify working with large datasets in Altair\n",
    "alt.data_transformers.disable_max_rows()\n",
    "\n",
    "# Output dataframes instead of arrays\n",
    "set_config(transform_output=\"pandas\")"
   ]
  },
  {
   "cell_type": "markdown",
   "metadata": {
    "deletable": false,
    "editable": false,
    "nbgrader": {
     "cell_type": "markdown",
     "checksum": "9819c6ec732363b8cc6d1eeff85d147e",
     "grade": false,
     "grade_id": "cell-0fb0bdb9af0312bf",
     "locked": true,
     "schema_version": 3,
     "solution": false
    }
   },
   "source": [
    "**Question 0.1** Multiple Choice: \n",
    "<br> {points: 1}\n",
    "\n",
    "Before applying k-nearest neighbour to a classification task, we need to scale the data. What is the purpose of this step?\n",
    "\n",
    "A. To help speed up the knn algorithm. \n",
    "\n",
    "B. To convert all data observations to numeric values. \n",
    "\n",
    "C. To ensure all data observations will be on a comparable scale and contribute equal shares to the calculation of the distance between points.\n",
    "\n",
    "D. None of the above. \n",
    "\n",
    "*Assign your answer to an object called `answer0_1`. Make sure the correct answer is an uppercase letter. Surround your answer with quotation marks (e.g. `\"F\"`).*\n",
    "\n",
    "*Note: we typically **standardize** (i.e., scale **and** center) the data before doing classification. For the K-nearest neighbour algorithm specifically, centering has no effect. But it doesn't hurt, and can help with other predictive data analyses, so we will do it below to start forming a good habit.*"
   ]
  },
  {
   "cell_type": "code",
   "execution_count": null,
   "metadata": {
    "deletable": false,
    "nbgrader": {
     "cell_type": "code",
     "checksum": "2d47229705649cd644e0b6d40a003573",
     "grade": false,
     "grade_id": "cell-a501b73cef660bd5",
     "locked": false,
     "schema_version": 3,
     "solution": true
    }
   },
   "outputs": [],
   "source": [
    "# your code here\n",
    "raise NotImplementedError"
   ]
  },
  {
   "cell_type": "code",
   "execution_count": null,
   "metadata": {
    "deletable": false,
    "editable": false,
    "nbgrader": {
     "cell_type": "code",
     "checksum": "ec05f6e09a9e67baad324f11832cbadd",
     "grade": true,
     "grade_id": "cell-2c64255ed0923c6b",
     "locked": true,
     "points": 3,
     "schema_version": 3,
     "solution": false
    }
   },
   "outputs": [],
   "source": [
    "from hashlib import sha1\n",
    "assert sha1(str(type(answer0_1)).encode(\"utf-8\")+b\"59e8\").hexdigest() == \"f70a6af77babf11afa3a50f7a15e532aa7baf3f3\", \"type of answer0_1 is not str. answer0_1 should be an str\"\n",
    "assert sha1(str(len(answer0_1)).encode(\"utf-8\")+b\"59e8\").hexdigest() == \"3b3b8f9d183db109adfa13225d741063b08dff85\", \"length of answer0_1 is not correct\"\n",
    "assert sha1(str(answer0_1.lower()).encode(\"utf-8\")+b\"59e8\").hexdigest() == \"6edfdac10655fefa98b28f34c9d1f860dcce8ff7\", \"value of answer0_1 is not correct\"\n",
    "assert sha1(str(answer0_1).encode(\"utf-8\")+b\"59e8\").hexdigest() == \"9dd39830e122b8184b1799ac7d2e687f95a317b7\", \"correct string value of answer0_1 but incorrect case of letters\"\n",
    "\n",
    "print('Success!')"
   ]
  },
  {
   "cell_type": "markdown",
   "metadata": {
    "deletable": false,
    "editable": false,
    "nbgrader": {
     "cell_type": "markdown",
     "checksum": "6288d259e5e2b73ffbc32ebf1afdce32",
     "grade": false,
     "grade_id": "cell-fc56755477cbb261",
     "locked": true,
     "schema_version": 3,
     "solution": false
    }
   },
   "source": [
    "## 1. Fruit Data Example \n",
    "\n",
    "In the agricultural industry, cleaning, sorting, grading, and packaging food products are all necessary tasks in the post-harvest process. Products are classified based on appearance, size and shape, attributes which helps determine the quality of the food. Sorting can be done by humans, but it is tedious and time consuming. Automatic sorting could help save time and money. Images of the food products are captured and analysed to determine visual characteristics. \n",
    "\n",
    "The [dataset](https://www.kaggle.com/mjamilmoughal/k-nearest-neighbor-classifier-to-predict-fruits/notebook) contains observations of fruit described with four features: (1) mass (in g), (2) width (in cm), (3) height (in cm), and (4) color score (on a scale from 0 - 1)."
   ]
  },
  {
   "cell_type": "markdown",
   "metadata": {
    "deletable": false,
    "editable": false,
    "nbgrader": {
     "cell_type": "markdown",
     "checksum": "eea6b623db37baac7c65d2c9ac66a22c",
     "grade": false,
     "grade_id": "cell-e7663a214654c3e5",
     "locked": true,
     "schema_version": 3,
     "solution": false,
     "task": false
    }
   },
   "source": [
    "**Question 1.0** \n",
    "<br> {points: 1}\n",
    "\n",
    "Load the file, `fruit_data.csv`, into your notebook. \n",
    "\n",
    "*Assign your data to an object called `fruit_data`.*"
   ]
  },
  {
   "cell_type": "code",
   "execution_count": null,
   "metadata": {
    "deletable": false,
    "nbgrader": {
     "cell_type": "code",
     "checksum": "c728a14be1d1691c7591db81a589e8ea",
     "grade": false,
     "grade_id": "cell-257bbc9d90d8b32a",
     "locked": false,
     "schema_version": 3,
     "solution": true
    }
   },
   "outputs": [],
   "source": [
    "# your code here\n",
    "raise NotImplementedError"
   ]
  },
  {
   "cell_type": "code",
   "execution_count": null,
   "metadata": {
    "deletable": false,
    "editable": false,
    "nbgrader": {
     "cell_type": "code",
     "checksum": "a093cdca12dbc0481b3b84e7214677ba",
     "grade": true,
     "grade_id": "cell-71318577d0ae22b9",
     "locked": true,
     "points": 3,
     "schema_version": 3,
     "solution": false
    }
   },
   "outputs": [],
   "source": [
    "from hashlib import sha1\n",
    "assert sha1(str(type(fruit_data is None)).encode(\"utf-8\")+b\"a112\").hexdigest() == \"b557b9382e817d27247e595a35b0d3a83ac3ec88\", \"type of fruit_data is None is not bool. fruit_data is None should be a bool\"\n",
    "assert sha1(str(fruit_data is None).encode(\"utf-8\")+b\"a112\").hexdigest() == \"708f934d97e92ccaa033511e32a1424acd01a28a\", \"boolean value of fruit_data is None is not correct\"\n",
    "\n",
    "assert sha1(str(type(fruit_data.shape)).encode(\"utf-8\")+b\"a113\").hexdigest() == \"e5f99f9a3ba97caf55dc0f0343d9f98d5aeaafac\", \"type of fruit_data.shape is not tuple. fruit_data.shape should be a tuple\"\n",
    "assert sha1(str(len(fruit_data.shape)).encode(\"utf-8\")+b\"a113\").hexdigest() == \"4a6b8cf1cf2cb68fe8961d8e0fd7848d80a6bd3a\", \"length of fruit_data.shape is not correct\"\n",
    "assert sha1(str(sorted(map(str, fruit_data.shape))).encode(\"utf-8\")+b\"a113\").hexdigest() == \"d758d98096a08761529d799df7323bee3b5dec33\", \"values of fruit_data.shape are not correct\"\n",
    "assert sha1(str(fruit_data.shape).encode(\"utf-8\")+b\"a113\").hexdigest() == \"506310def3e283a6b2952f7e8eb2aa434e3465ac\", \"order of elements of fruit_data.shape is not correct\"\n",
    "\n",
    "assert sha1(str(type(fruit_data.fruit_name.dtype)).encode(\"utf-8\")+b\"a114\").hexdigest() == \"9c9d1156d3bd3ac97ec6785733d2b3f0e34e430d\", \"type of fruit_data.fruit_name.dtype is not correct\"\n",
    "assert sha1(str(fruit_data.fruit_name.dtype).encode(\"utf-8\")+b\"a114\").hexdigest() == \"64b5b851b58475f83ce9a6f208fdd4cfe4398537\", \"value of fruit_data.fruit_name.dtype is not correct\"\n",
    "\n",
    "assert sha1(str(type(fruit_data.fruit_name.unique())).encode(\"utf-8\")+b\"a115\").hexdigest() == \"707f09ffce8ac9c3c19ee6a28c808caba0cd8031\", \"type of fruit_data.fruit_name.unique() is not correct\"\n",
    "assert sha1(str(fruit_data.fruit_name.unique()).encode(\"utf-8\")+b\"a115\").hexdigest() == \"c366dcdda8d550b55e5eef2497ad4312c1a554ad\", \"value of fruit_data.fruit_name.unique() is not correct\"\n",
    "\n",
    "assert sha1(str(type(fruit_data.mass.values)).encode(\"utf-8\")+b\"a116\").hexdigest() == \"16497567ff3b43ac6f5883bcfff4afa7d6af6e5a\", \"type of fruit_data.mass.values is not correct\"\n",
    "assert sha1(str(fruit_data.mass.values).encode(\"utf-8\")+b\"a116\").hexdigest() == \"a717771cda8e463776d6bd2f12ff93a42f312a5b\", \"value of fruit_data.mass.values is not correct\"\n",
    "\n",
    "print('Success!')"
   ]
  },
  {
   "cell_type": "markdown",
   "metadata": {
    "deletable": false,
    "editable": false,
    "nbgrader": {
     "cell_type": "markdown",
     "checksum": "2a6599856974a1a6f8e21ee0061f9058",
     "grade": false,
     "grade_id": "cell-5c01c2cd0cc285f8",
     "locked": true,
     "schema_version": 3,
     "solution": false
    }
   },
   "source": [
    "Let's take a look at the first few observations in the fruit dataset. Run the cell below."
   ]
  },
  {
   "cell_type": "code",
   "execution_count": null,
   "metadata": {
    "deletable": false,
    "editable": false,
    "nbgrader": {
     "cell_type": "code",
     "checksum": "8eae1e3648da21605b752a0c466efb9f",
     "grade": false,
     "grade_id": "cell-b6cb1a6b0890e9e9",
     "locked": true,
     "schema_version": 3,
     "solution": false
    }
   },
   "outputs": [],
   "source": [
    "# Run this cell.\n",
    "fruit_data.head()"
   ]
  },
  {
   "cell_type": "markdown",
   "metadata": {
    "deletable": false,
    "editable": false,
    "nbgrader": {
     "cell_type": "markdown",
     "checksum": "f9ee2b2c07ef7c6287b9f6572c3d03fa",
     "grade": false,
     "grade_id": "cell-0f7b03f7a3ac6dcd",
     "locked": true,
     "schema_version": 3,
     "solution": false
    }
   },
   "source": [
    "**Question 1.0.1** Multiple Choice:\n",
    "<br> {points: 1}\n",
    "\n",
    "**Which of the columns should we treat as categorical variables?**\n",
    "\n",
    "A. Fruit label, width, fruit subtype\n",
    "\n",
    "B. Fruit name, color score, height\n",
    "\n",
    "C. Fruit label, fruit subtype, fruit name\n",
    "\n",
    "D. Color score, mass, width \n",
    "\n",
    "*Assign your answer to an object called `answer1_0_1`. Make sure the correct answer is an uppercase letter. Remember to surround your answer with quotation marks (e.g. `\"E\"`).*"
   ]
  },
  {
   "cell_type": "code",
   "execution_count": null,
   "metadata": {
    "deletable": false,
    "nbgrader": {
     "cell_type": "code",
     "checksum": "bc54c3da501074bd42e533c8aee5fffc",
     "grade": false,
     "grade_id": "cell-ebcca2f8fb4020ba",
     "locked": false,
     "schema_version": 3,
     "solution": true
    }
   },
   "outputs": [],
   "source": [
    "# your code here\n",
    "raise NotImplementedError"
   ]
  },
  {
   "cell_type": "code",
   "execution_count": null,
   "metadata": {
    "deletable": false,
    "editable": false,
    "nbgrader": {
     "cell_type": "code",
     "checksum": "ff32cfb844930ee9da35a3733ceb46ea",
     "grade": true,
     "grade_id": "cell-6e85a1cad95b4dd0",
     "locked": true,
     "points": 3,
     "schema_version": 3,
     "solution": false
    }
   },
   "outputs": [],
   "source": [
    "from hashlib import sha1\n",
    "assert sha1(str(type(answer1_0_1)).encode(\"utf-8\")+b\"a6e0c\").hexdigest() == \"78ad8e973a10e6225203a232c13b51e07410e0c7\", \"type of answer1_0_1 is not str. answer1_0_1 should be an str\"\n",
    "assert sha1(str(len(answer1_0_1)).encode(\"utf-8\")+b\"a6e0c\").hexdigest() == \"c928c37c29a1db11f3465bef596992606556af4a\", \"length of answer1_0_1 is not correct\"\n",
    "assert sha1(str(answer1_0_1.lower()).encode(\"utf-8\")+b\"a6e0c\").hexdigest() == \"ec11ea56291dfaddb9428e1344ca005c464b5637\", \"value of answer1_0_1 is not correct\"\n",
    "assert sha1(str(answer1_0_1).encode(\"utf-8\")+b\"a6e0c\").hexdigest() == \"d223cdb1aadd8c752ede1b214a1478585fbd1c4c\", \"correct string value of answer1_0_1 but incorrect case of letters\"\n",
    "\n",
    "print('Success!')"
   ]
  },
  {
   "cell_type": "markdown",
   "metadata": {
    "deletable": false,
    "editable": false,
    "nbgrader": {
     "cell_type": "markdown",
     "checksum": "0efd610ac2f9bb29fab1688072086413",
     "grade": false,
     "grade_id": "cell-e5f28e3e335b44a8",
     "locked": true,
     "schema_version": 3,
     "solution": false
    }
   },
   "source": [
    "Run the cell below, and visually inspect the scatterplot to find the nearest neighbour to the first observation based on mass and width (the first observation has been circled for you)."
   ]
  },
  {
   "cell_type": "code",
   "execution_count": null,
   "metadata": {},
   "outputs": [],
   "source": [
    "# Create the scatterplot\n",
    "fruit_chart = alt.Chart(fruit_data).mark_point(size=15).encode(\n",
    "    x=alt.X(\"mass\").title(\"Mass (grams)\"),\n",
    "    y=alt.Y(\"width\")\n",
    "        .title(\"Width (cm)\")\n",
    "        .scale(zero=False),\n",
    "    color=alt.Color(\"fruit_name\").title(\"Fruit\")\n",
    ")\n",
    "# Create the circle around point1\n",
    "point1 = alt.Chart().mark_point(size=300, color='black').encode(\n",
    "    x=alt.datum(fruit_data.loc[0, \"mass\"]),\n",
    "    y=alt.datum(fruit_data.loc[0, \"width\"]),\n",
    "    text=alt.datum('1')\n",
    ")\n",
    "\n",
    "# Layer the scatterplot, point1 circle, and a text annotation\n",
    "fruit_chart + point1 + point1.mark_text(size=14, dx=12, align='left')"
   ]
  },
  {
   "cell_type": "markdown",
   "metadata": {
    "deletable": false,
    "editable": false,
    "nbgrader": {
     "cell_type": "markdown",
     "checksum": "61208d168ba029a7b5292081b94c681c",
     "grade": false,
     "grade_id": "cell-f547ed9293fd1e24",
     "locked": true,
     "schema_version": 3,
     "solution": false
    }
   },
   "source": [
    "**Question 1.1** Multiple Choice: \n",
    "<br> {points: 1}\n",
    "\n",
    "Based on the graph generated, what is the `fruit_name` of the closest data point to the one circled?\n",
    "\n",
    "A. apple\n",
    "\n",
    "B. lemon\n",
    "\n",
    "C. mandarin \n",
    "\n",
    "D. orange\n",
    "\n",
    "*Assign your answer to an object called `answer1_1`. Make sure the correct answer is an uppercase letter. Surround your answer with quotation marks (e.g. `\"F\"`).*"
   ]
  },
  {
   "cell_type": "code",
   "execution_count": null,
   "metadata": {
    "deletable": false,
    "nbgrader": {
     "cell_type": "code",
     "checksum": "5ce96c1776107b71ad009be94ec4d8d0",
     "grade": false,
     "grade_id": "cell-d400d1783f3c27d1",
     "locked": false,
     "schema_version": 3,
     "solution": true
    }
   },
   "outputs": [],
   "source": [
    "# your code here\n",
    "raise NotImplementedError"
   ]
  },
  {
   "cell_type": "code",
   "execution_count": null,
   "metadata": {
    "deletable": false,
    "editable": false,
    "nbgrader": {
     "cell_type": "code",
     "checksum": "fdad6b2830b4d2d9b5c4f7b445a87d31",
     "grade": true,
     "grade_id": "cell-77e2fb5f0d68eadd",
     "locked": true,
     "points": 3,
     "schema_version": 3,
     "solution": false
    }
   },
   "outputs": [],
   "source": [
    "from hashlib import sha1\n",
    "assert sha1(str(type(answer1_1)).encode(\"utf-8\")+b\"adc95\").hexdigest() == \"f65cd5d5c9ff679b669dcd967b97b3b8744ef959\", \"type of answer1_1 is not str. answer1_1 should be an str\"\n",
    "assert sha1(str(len(answer1_1)).encode(\"utf-8\")+b\"adc95\").hexdigest() == \"6d7c58889cee9ce413e8290664d8cd9f3276bee3\", \"length of answer1_1 is not correct\"\n",
    "assert sha1(str(answer1_1.lower()).encode(\"utf-8\")+b\"adc95\").hexdigest() == \"9687d8e299d3616da92d06386aa467b1fe6af8d2\", \"value of answer1_1 is not correct\"\n",
    "assert sha1(str(answer1_1).encode(\"utf-8\")+b\"adc95\").hexdigest() == \"63b04d0a59a970ba2547aaf90b67cb154064bd6c\", \"correct string value of answer1_1 but incorrect case of letters\"\n",
    "\n",
    "print('Success!')"
   ]
  },
  {
   "cell_type": "markdown",
   "metadata": {
    "deletable": false,
    "editable": false,
    "nbgrader": {
     "cell_type": "markdown",
     "checksum": "64d979cb8782f1a7df7cd2e490c534fe",
     "grade": false,
     "grade_id": "cell-b75477de51f54fd0",
     "locked": true,
     "schema_version": 3,
     "solution": false
    }
   },
   "source": [
    "**Question 1.2**\n",
    "<br> {points: 1}\n",
    "\n",
    "Using mass and width, calculate the distance between the first observation and the second observation with the `euclidean_distances` function. \n",
    "\n",
    "We provide a scaffolding to get you started. \n",
    "\n",
    "*Assign your answer to an object called `fruit_dist_2`.*"
   ]
  },
  {
   "cell_type": "code",
   "execution_count": null,
   "metadata": {
    "deletable": false,
    "nbgrader": {
     "cell_type": "code",
     "checksum": "48ba0d0b08c18a467391ef36a8270d08",
     "grade": false,
     "grade_id": "cell-9f9074c18131c083",
     "locked": false,
     "schema_version": 3,
     "solution": true
    }
   },
   "outputs": [],
   "source": [
    "# ___ = euclidean_distances(fruit_data.loc[[___, 1], [\"mass\", ___]])\n",
    "\n",
    "# your code here\n",
    "raise NotImplementedError\n",
    "fruit_dist_2"
   ]
  },
  {
   "cell_type": "code",
   "execution_count": null,
   "metadata": {
    "deletable": false,
    "editable": false,
    "nbgrader": {
     "cell_type": "code",
     "checksum": "ad74baa6a72d2d26606c80a342077559",
     "grade": true,
     "grade_id": "cell-482c6171cb7cc18e",
     "locked": true,
     "points": 1,
     "schema_version": 3,
     "solution": false
    }
   },
   "outputs": [],
   "source": [
    "from hashlib import sha1\n",
    "assert sha1(str(type(fruit_dist_2)).encode(\"utf-8\")+b\"51f4f\").hexdigest() == \"1002e3dba5717b2bed812c2e71539dff76591510\", \"type of fruit_dist_2 is not correct\"\n",
    "assert sha1(str(fruit_dist_2).encode(\"utf-8\")+b\"51f4f\").hexdigest() == \"515e07f951ee031fa4f2170f86c6bec9bed22867\", \"value of fruit_dist_2 is not correct\"\n",
    "\n",
    "print('Success!')"
   ]
  },
  {
   "cell_type": "markdown",
   "metadata": {
    "deletable": false,
    "editable": false,
    "nbgrader": {
     "cell_type": "markdown",
     "checksum": "5ca1181342c1373a89545e0bdc6892e6",
     "grade": false,
     "grade_id": "cell-9545195608452133",
     "locked": true,
     "schema_version": 3,
     "solution": false
    }
   },
   "source": [
    "**Question 1.3**\n",
    "<br> {points: 1}\n",
    "\n",
    "Calculate the distance between the first and the the 44th observation in the fruit dataset using the mass and width variables. \n",
    "\n",
    "*Hint: remember that in Python, index starts from 0, so the 44th observation in Pandas Dataframe corresponds to index 43*\n",
    "\n",
    "*Assign your answer to an object called `fruit_dist_44`.*"
   ]
  },
  {
   "cell_type": "code",
   "execution_count": null,
   "metadata": {
    "deletable": false,
    "nbgrader": {
     "cell_type": "code",
     "checksum": "20a24cb46a7c94d2ffc6c637a1187c97",
     "grade": false,
     "grade_id": "cell-033f74d28e3cc01f",
     "locked": false,
     "schema_version": 3,
     "solution": true
    }
   },
   "outputs": [],
   "source": [
    "# your code here\n",
    "raise NotImplementedError\n",
    "fruit_dist_44"
   ]
  },
  {
   "cell_type": "code",
   "execution_count": null,
   "metadata": {
    "deletable": false,
    "editable": false,
    "nbgrader": {
     "cell_type": "code",
     "checksum": "749659f9de6b05cce019f37ed63854b4",
     "grade": true,
     "grade_id": "cell-3c7393c1ea156920",
     "locked": true,
     "points": 1,
     "schema_version": 3,
     "solution": false
    }
   },
   "outputs": [],
   "source": [
    "from hashlib import sha1\n",
    "assert sha1(str(type(fruit_dist_44)).encode(\"utf-8\")+b\"14e1b\").hexdigest() == \"3d892654daebf107b61197ecae5d0450aa54b42f\", \"type of fruit_dist_44 is not correct\"\n",
    "assert sha1(str(fruit_dist_44).encode(\"utf-8\")+b\"14e1b\").hexdigest() == \"49b24683a0230c884cf882b96bddae858308dde5\", \"value of fruit_dist_44 is not correct\"\n",
    "\n",
    "print('Success!')"
   ]
  },
  {
   "cell_type": "markdown",
   "metadata": {
    "deletable": false,
    "editable": false,
    "nbgrader": {
     "cell_type": "markdown",
     "checksum": "f65d86b54ea2d5074356d3a5cc53007c",
     "grade": false,
     "grade_id": "cell-ac12c3dcbae32920",
     "locked": true,
     "schema_version": 3,
     "solution": false,
     "task": false
    }
   },
   "source": [
    "Let's circle these three observations on the chart we created earlier."
   ]
  },
  {
   "cell_type": "code",
   "execution_count": null,
   "metadata": {
    "deletable": false,
    "editable": false,
    "nbgrader": {
     "cell_type": "code",
     "checksum": "640971e0dd19b6ecc594c3019ae76b20",
     "grade": false,
     "grade_id": "cell-f11023e6386b3027",
     "locked": true,
     "schema_version": 3,
     "solution": false
    }
   },
   "outputs": [],
   "source": [
    "# When we want to annotate multiple points it is efficient to create a separate data frame\n",
    "# and a single chart instead of one chart per point\n",
    "points = alt.Chart(\n",
    "    fruit_data.loc[[0, 1, 43], ['mass', 'width']].assign(point_number=[1, 2, 44])\n",
    ").mark_point(size=300, color='black').encode(\n",
    "    x='mass',\n",
    "    y='width',\n",
    "    text='point_number'\n",
    ")\n",
    "\n",
    "fruit_chart + points + points.mark_text(size=14, dx=12, align='left')"
   ]
  },
  {
   "cell_type": "markdown",
   "metadata": {
    "deletable": false,
    "editable": false,
    "nbgrader": {
     "cell_type": "markdown",
     "checksum": "344a34e903ff5696d25b5e7b93373a98",
     "grade": false,
     "grade_id": "cell-e6f7e928ee6f578a",
     "locked": true,
     "schema_version": 3,
     "solution": false,
     "task": false
    }
   },
   "source": [
    "What do you notice about your answers from **Question 1.2 & 1.3** that you just calculated? Is it what you would expect given the scatter plot above? Why or why not? Discuss with your neighbour. \n",
    "\n",
    "*Hint: Look at where the observations are on the scatterplot in the cell above this question, and what might happen if we changed grams into kilograms to measure the mass?*\n"
   ]
  },
  {
   "cell_type": "markdown",
   "metadata": {
    "deletable": false,
    "editable": false,
    "nbgrader": {
     "cell_type": "markdown",
     "checksum": "0de5001f1cb9af1cc813b5d97d009062",
     "grade": false,
     "grade_id": "cell-8a6b2cef00422867",
     "locked": true,
     "schema_version": 3,
     "solution": false,
     "task": false
    }
   },
   "source": [
    "**Question 1.4** Multiple Choice:\n",
    "<br> {points: 1}\n",
    "\n",
    "The distance between the first and second observation is 12.01 and the distance between the first and 44th observation is 2.33. By the formula, observation 1 and 44 are closer, however, if we look at the scatterplot the distance of the first observation to the second observation appears closer than to the 44th observation. \n",
    "\n",
    "Which of the following statements is correct?\n",
    "\n",
    "A. A difference of 12 g in mass between observation 1 and 2 is large compared to a difference of 1.2 cm in width between observation 1 and 44. Consequently, mass will drive the classification results, and width will have less of an effect. \n",
    "\n",
    "B. If we measured mass in kilograms, then we’d get different nearest neighbours.\n",
    "\n",
    "C. We should standardize the data so that all variables will be on a comparable scale. \n",
    "\n",
    "D. All of the above. \n",
    "\n",
    "*Assign your answer to an object called `answer1_4`. Make sure the correct answer is an uppercase letter. Surround your answer with quotation marks (e.g. `\"F\"`).*"
   ]
  },
  {
   "cell_type": "code",
   "execution_count": null,
   "metadata": {
    "deletable": false,
    "nbgrader": {
     "cell_type": "code",
     "checksum": "0c022b374346524d74711f73ff75c082",
     "grade": false,
     "grade_id": "cell-f3e2ef9e64e39b31",
     "locked": false,
     "schema_version": 3,
     "solution": true,
     "task": false
    }
   },
   "outputs": [],
   "source": [
    "# your code here\n",
    "raise NotImplementedError"
   ]
  },
  {
   "cell_type": "code",
   "execution_count": null,
   "metadata": {
    "deletable": false,
    "editable": false,
    "nbgrader": {
     "cell_type": "code",
     "checksum": "add3457d1533b11f47c80826e779c69d",
     "grade": true,
     "grade_id": "cell-3fc3cbcfc9af77d2",
     "locked": true,
     "points": 3,
     "schema_version": 3,
     "solution": false,
     "task": false
    }
   },
   "outputs": [],
   "source": [
    "from hashlib import sha1\n",
    "assert sha1(str(type(answer1_4)).encode(\"utf-8\")+b\"ef865\").hexdigest() == \"f9bec660245450950ea78e5df29a898814ed4e7e\", \"type of answer1_4 is not str. answer1_4 should be an str\"\n",
    "assert sha1(str(len(answer1_4)).encode(\"utf-8\")+b\"ef865\").hexdigest() == \"b752766645743c09fca27938c0f49419ab25123e\", \"length of answer1_4 is not correct\"\n",
    "assert sha1(str(answer1_4.lower()).encode(\"utf-8\")+b\"ef865\").hexdigest() == \"fdce6f58a4a6bc3489623863420da425460ccf64\", \"value of answer1_4 is not correct\"\n",
    "assert sha1(str(answer1_4).encode(\"utf-8\")+b\"ef865\").hexdigest() == \"bc550636f1a022814a914a80ce95aa6cac8a87b1\", \"correct string value of answer1_4 but incorrect case of letters\"\n",
    "\n",
    "print('Success!')"
   ]
  },
  {
   "cell_type": "markdown",
   "metadata": {
    "deletable": false,
    "editable": false,
    "nbgrader": {
     "cell_type": "markdown",
     "checksum": "c21144da0183829f75d589455572ad68",
     "grade": false,
     "grade_id": "cell-28a929022410e3d9",
     "locked": true,
     "schema_version": 3,
     "solution": false
    }
   },
   "source": [
    "**Question 1.5**\n",
    "<br> {points: 1}\n",
    "\n",
    "Let's create a `preprocessor` to *standardize* (i.e., center and scale) all of the variables in the fruit dataset. Centering will make sure that every variable has an average of 0, and scaling will make sure that every variable has standard deviation of 1. We will use the `StandardScaler` in the `preprocessor`. Then `fit_transform` the preprocessor so that we can examine the output.\n",
    "\n",
    "Fit and transform your preprocessor with predictors `mass`, `width`, `height`, and `color_score`. Pass through all the remaining columns.\n",
    "\n",
    "Name the preprocessor `fruit_data_preprocessor`, and name the preprocessed data frame `fruit_data_scaled`."
   ]
  },
  {
   "cell_type": "code",
   "execution_count": null,
   "metadata": {
    "deletable": false,
    "nbgrader": {
     "cell_type": "code",
     "checksum": "fc12c204c2c7e2983fd448eb0991e728",
     "grade": false,
     "grade_id": "cell-f5b23199250ffc04",
     "locked": false,
     "schema_version": 3,
     "solution": true
    }
   },
   "outputs": [],
   "source": [
    "# ___ = ___(\n",
    "#     (StandardScaler(), [___, ___, ___, ___]),\n",
    "#     remainder=___\n",
    "# )\n",
    "\n",
    "# ___ = fruit_data_preprocessor.___(___)\n",
    "\n",
    "\n",
    "# your code here\n",
    "raise NotImplementedError\n",
    "fruit_data_scaled.head()"
   ]
  },
  {
   "cell_type": "code",
   "execution_count": null,
   "metadata": {
    "deletable": false,
    "editable": false,
    "nbgrader": {
     "cell_type": "code",
     "checksum": "e67cab3e09862e3ff7c465b7dcf598c5",
     "grade": true,
     "grade_id": "cell-2800ef3121bbb6d8",
     "locked": true,
     "points": 3,
     "schema_version": 3,
     "solution": false,
     "task": false
    }
   },
   "outputs": [],
   "source": [
    "from hashlib import sha1\n",
    "assert sha1(str(type(fruit_data_scaled is None)).encode(\"utf-8\")+b\"f25fe\").hexdigest() == \"4eca96cbba14d6870b18ada76a5fa5a7f8657f44\", \"type of fruit_data_scaled is None is not bool. fruit_data_scaled is None should be a bool\"\n",
    "assert sha1(str(fruit_data_scaled is None).encode(\"utf-8\")+b\"f25fe\").hexdigest() == \"eb5d5311a8b0fe60645f283fcb1bd89bb50155a9\", \"boolean value of fruit_data_scaled is None is not correct\"\n",
    "\n",
    "assert sha1(str(type(fruit_data_scaled.shape)).encode(\"utf-8\")+b\"f25ff\").hexdigest() == \"1d80f3888cf7d3b5bdc8aa60c18336bf4ae02ff4\", \"type of fruit_data_scaled.shape is not tuple. fruit_data_scaled.shape should be a tuple\"\n",
    "assert sha1(str(len(fruit_data_scaled.shape)).encode(\"utf-8\")+b\"f25ff\").hexdigest() == \"aea322dbb0dc7cc099f35d9e2fc1f5acaef7ca21\", \"length of fruit_data_scaled.shape is not correct\"\n",
    "assert sha1(str(sorted(map(str, fruit_data_scaled.shape))).encode(\"utf-8\")+b\"f25ff\").hexdigest() == \"88e001a787391e2f87aaa708d163603e8242d2d1\", \"values of fruit_data_scaled.shape are not correct\"\n",
    "assert sha1(str(fruit_data_scaled.shape).encode(\"utf-8\")+b\"f25ff\").hexdigest() == \"9637d0fae90893f317f1dc3ec57e1501436c6093\", \"order of elements of fruit_data_scaled.shape is not correct\"\n",
    "\n",
    "assert sha1(str(type(fruit_data_scaled.fruit_name.dtype)).encode(\"utf-8\")+b\"f2600\").hexdigest() == \"d9d7cfa27226c7a0e00489369dd26cc14d83c995\", \"type of fruit_data_scaled.fruit_name.dtype is not correct\"\n",
    "assert sha1(str(fruit_data_scaled.fruit_name.dtype).encode(\"utf-8\")+b\"f2600\").hexdigest() == \"e0a3a46fc6c83e9355fa51ba62d4a2e6acbf514b\", \"value of fruit_data_scaled.fruit_name.dtype is not correct\"\n",
    "\n",
    "assert sha1(str(type(np.mean(fruit_data_scaled.mass.dropna()))).encode(\"utf-8\")+b\"f2601\").hexdigest() == \"89b59446a9320a83a4a1556cc8f09c6d1b57c11b\", \"type of np.mean(fruit_data_scaled.mass.dropna()) is not correct\"\n",
    "assert sha1(str(np.mean(fruit_data_scaled.mass.dropna())).encode(\"utf-8\")+b\"f2601\").hexdigest() == \"ce9e59e0cf9ba142f75d51178846d2c1d26026e7\", \"value of np.mean(fruit_data_scaled.mass.dropna()) is not correct\"\n",
    "\n",
    "assert sha1(str(type(np.mean(fruit_data_scaled.height.dropna()))).encode(\"utf-8\")+b\"f2602\").hexdigest() == \"393de24af4ce830bc129e9143d46ee528c7b8b13\", \"type of np.mean(fruit_data_scaled.height.dropna()) is not correct\"\n",
    "assert sha1(str(np.mean(fruit_data_scaled.height.dropna())).encode(\"utf-8\")+b\"f2602\").hexdigest() == \"fa7c3849dc153e931658b1bd7efb766ccc1b86ba\", \"value of np.mean(fruit_data_scaled.height.dropna()) is not correct\"\n",
    "\n",
    "assert sha1(str(type(np.mean(fruit_data_scaled.width.dropna()))).encode(\"utf-8\")+b\"f2603\").hexdigest() == \"d00b9d1eea7853908bbcf8268289d02e1e2445c8\", \"type of np.mean(fruit_data_scaled.width.dropna()) is not correct\"\n",
    "assert sha1(str(np.mean(fruit_data_scaled.width.dropna())).encode(\"utf-8\")+b\"f2603\").hexdigest() == \"c939f57d7fd52a8eaa55567d9d1d8887c527cb16\", \"value of np.mean(fruit_data_scaled.width.dropna()) is not correct\"\n",
    "\n",
    "assert sha1(str(type(np.mean(fruit_data_scaled.color_score.dropna()))).encode(\"utf-8\")+b\"f2604\").hexdigest() == \"af165a9cd512364cf2569ad636f2aac3085754b9\", \"type of np.mean(fruit_data_scaled.color_score.dropna()) is not correct\"\n",
    "assert sha1(str(np.mean(fruit_data_scaled.color_score.dropna())).encode(\"utf-8\")+b\"f2604\").hexdigest() == \"ff3465e7d0be833cbfae4cc08f00d010546a3337\", \"value of np.mean(fruit_data_scaled.color_score.dropna()) is not correct\"\n",
    "\n",
    "assert sha1(str(type(np.std(fruit_data_scaled.mass.dropna()))).encode(\"utf-8\")+b\"f2605\").hexdigest() == \"e5471f8576452c679343e16eea1e1720fc08cdee\", \"type of np.std(fruit_data_scaled.mass.dropna()) is not float. Please make sure it is float and not np.float64, etc. You can cast your value into a float using float()\"\n",
    "assert sha1(str(round(np.std(fruit_data_scaled.mass.dropna()), 2)).encode(\"utf-8\")+b\"f2605\").hexdigest() == \"6c82d4566c488c0ddb5a91eee728b8b67b968878\", \"value of np.std(fruit_data_scaled.mass.dropna()) is not correct (rounded to 2 decimal places)\"\n",
    "\n",
    "assert sha1(str(type(np.std(fruit_data_scaled.height.dropna()))).encode(\"utf-8\")+b\"f2606\").hexdigest() == \"08c8cab95228124af8044befed88769a2989113f\", \"type of np.std(fruit_data_scaled.height.dropna()) is not float. Please make sure it is float and not np.float64, etc. You can cast your value into a float using float()\"\n",
    "assert sha1(str(round(np.std(fruit_data_scaled.height.dropna()), 2)).encode(\"utf-8\")+b\"f2606\").hexdigest() == \"607a9f3f56397d1638ddcd6965783d54f7fafe23\", \"value of np.std(fruit_data_scaled.height.dropna()) is not correct (rounded to 2 decimal places)\"\n",
    "\n",
    "assert sha1(str(type(np.std(fruit_data_scaled.width.dropna()))).encode(\"utf-8\")+b\"f2607\").hexdigest() == \"1d1412f951409a4b4e9ab5ae86688a2e70469ed9\", \"type of np.std(fruit_data_scaled.width.dropna()) is not float. Please make sure it is float and not np.float64, etc. You can cast your value into a float using float()\"\n",
    "assert sha1(str(round(np.std(fruit_data_scaled.width.dropna()), 2)).encode(\"utf-8\")+b\"f2607\").hexdigest() == \"e3cc7bf0b44f2ba90260474bc53e6b7b408d8d12\", \"value of np.std(fruit_data_scaled.width.dropna()) is not correct (rounded to 2 decimal places)\"\n",
    "\n",
    "assert sha1(str(type(np.std(fruit_data_scaled.color_score.dropna()))).encode(\"utf-8\")+b\"f2608\").hexdigest() == \"e0fedb6f6b2c02a9c669785f5317c77cee756672\", \"type of np.std(fruit_data_scaled.color_score.dropna()) is not float. Please make sure it is float and not np.float64, etc. You can cast your value into a float using float()\"\n",
    "assert sha1(str(round(np.std(fruit_data_scaled.color_score.dropna()), 2)).encode(\"utf-8\")+b\"f2608\").hexdigest() == \"1e2dc78abca79bd7ea9d2fe09ca96d4cbadca652\", \"value of np.std(fruit_data_scaled.color_score.dropna()) is not correct (rounded to 2 decimal places)\"\n",
    "\n",
    "assert sha1(str(type(fruit_data_preprocessor is None)).encode(\"utf-8\")+b\"f2609\").hexdigest() == \"1051f3a0eb8db2c0420580c2ceb210d87d6fc4f7\", \"type of fruit_data_preprocessor is None is not bool. fruit_data_preprocessor is None should be a bool\"\n",
    "assert sha1(str(fruit_data_preprocessor is None).encode(\"utf-8\")+b\"f2609\").hexdigest() == \"9ad5efb0300719e94652931211b98998a0e6ad41\", \"boolean value of fruit_data_preprocessor is None is not correct\"\n",
    "\n",
    "assert sha1(str(type(fruit_data_preprocessor.transformers_[1][2])).encode(\"utf-8\")+b\"f260a\").hexdigest() == \"f3b1658a30e341f1386b8a229711473eb27b976e\", \"type of fruit_data_preprocessor.transformers_[1][2] is not list. fruit_data_preprocessor.transformers_[1][2] should be a list\"\n",
    "assert sha1(str(len(fruit_data_preprocessor.transformers_[1][2])).encode(\"utf-8\")+b\"f260a\").hexdigest() == \"61be071e345d1d11d793c50a3a1213c42215d18f\", \"length of fruit_data_preprocessor.transformers_[1][2] is not correct\"\n",
    "assert sha1(str(sorted(map(str, fruit_data_preprocessor.transformers_[1][2]))).encode(\"utf-8\")+b\"f260a\").hexdigest() == \"02889e6d896cadba7410704feac2cc930c06dfe3\", \"values of fruit_data_preprocessor.transformers_[1][2] are not correct\"\n",
    "assert sha1(str(fruit_data_preprocessor.transformers_[1][2]).encode(\"utf-8\")+b\"f260a\").hexdigest() == \"89b1c87c6bbf8bef32b5498a3e885aa052dac9e4\", \"order of elements of fruit_data_preprocessor.transformers_[1][2] is not correct\"\n",
    "\n",
    "print('Success!')"
   ]
  },
  {
   "cell_type": "markdown",
   "metadata": {
    "deletable": false,
    "editable": false,
    "nbgrader": {
     "cell_type": "markdown",
     "checksum": "9281822ddb9e6e2704a4a987286932f1",
     "grade": false,
     "grade_id": "cell-dceb095c855aeff4",
     "locked": true,
     "schema_version": 3,
     "solution": false
    }
   },
   "source": [
    "**Question 1.6**\n",
    "<br> {points: 1}\n",
    "\n",
    "Let's repeat **Question 1.2 and 1.3** with the scaled variables:\n",
    "\n",
    "- calculate the distance with the scaled mass and width variables between observations 1 and 2\n",
    "- calculate the distances with the scaled mass and width variables between observations 1 and 44 \n",
    "\n",
    "After you do this, think about how these distances compared to the distances you computed in **Question 1.2 and 1.3** for the same points.\n",
    "\n",
    "*Assign your answers to objects called `distance_2` and `distance_44` respectively.*"
   ]
  },
  {
   "cell_type": "code",
   "execution_count": null,
   "metadata": {
    "deletable": false,
    "nbgrader": {
     "cell_type": "code",
     "checksum": "e6e0a95d93b971a8d0d7e1ebf13a823a",
     "grade": false,
     "grade_id": "cell-e70ccce2b005a539",
     "locked": false,
     "schema_version": 3,
     "solution": true
    }
   },
   "outputs": [],
   "source": [
    "# your code here\n",
    "raise NotImplementedError\n",
    "print(distance_2)\n",
    "print(distance_44)"
   ]
  },
  {
   "cell_type": "code",
   "execution_count": null,
   "metadata": {
    "deletable": false,
    "editable": false,
    "nbgrader": {
     "cell_type": "code",
     "checksum": "9f1227abd40dc3ccb050aa37f003228d",
     "grade": true,
     "grade_id": "cell-7c33c6c2fb375ea4",
     "locked": true,
     "points": 1,
     "schema_version": 3,
     "solution": false
    }
   },
   "outputs": [],
   "source": [
    "from hashlib import sha1\n",
    "assert sha1(str(type(distance_2 is None)).encode(\"utf-8\")+b\"663ce\").hexdigest() == \"7e130f41ce84663de8eb1352a2ddbafe99d72d04\", \"type of distance_2 is None is not bool. distance_2 is None should be a bool\"\n",
    "assert sha1(str(distance_2 is None).encode(\"utf-8\")+b\"663ce\").hexdigest() == \"fa64ca24799595eb2345847767542d041659498a\", \"boolean value of distance_2 is None is not correct\"\n",
    "\n",
    "assert sha1(str(type(distance_44 is None)).encode(\"utf-8\")+b\"663cf\").hexdigest() == \"0a962e013c6793cc088e690751b2a7b3ab98c77d\", \"type of distance_44 is None is not bool. distance_44 is None should be a bool\"\n",
    "assert sha1(str(distance_44 is None).encode(\"utf-8\")+b\"663cf\").hexdigest() == \"8fdce830ac1ae69e7705200316f9dc6d36e9dd61\", \"boolean value of distance_44 is None is not correct\"\n",
    "\n",
    "assert sha1(str(type(distance_2)).encode(\"utf-8\")+b\"663d0\").hexdigest() == \"b4941db682e95f667a5fa0e95795638d06333a01\", \"type of type(distance_2) is not correct\"\n",
    "\n",
    "assert sha1(str(type(distance_44)).encode(\"utf-8\")+b\"663d1\").hexdigest() == \"4c68f8d25ab18c0c629af3568392c3aa8024b51a\", \"type of type(distance_44) is not correct\"\n",
    "\n",
    "assert sha1(str(type(distance_2)).encode(\"utf-8\")+b\"663d2\").hexdigest() == \"76baa32945e5cd92c941501ff34cc38a0d1e8068\", \"type of distance_2 is not correct\"\n",
    "assert sha1(str(distance_2).encode(\"utf-8\")+b\"663d2\").hexdigest() == \"d3a9f0a5e87b47bf8d54fb49d1dddc0a60211ce6\", \"value of distance_2 is not correct\"\n",
    "\n",
    "assert sha1(str(type(distance_44)).encode(\"utf-8\")+b\"663d3\").hexdigest() == \"85f5b8ff0ced78af224bc123cd98dfb1ebbbff44\", \"type of distance_44 is not correct\"\n",
    "assert sha1(str(distance_44).encode(\"utf-8\")+b\"663d3\").hexdigest() == \"5852e911331b5f8f08a91e8b4f5214cb6e596516\", \"value of distance_44 is not correct\"\n",
    "\n",
    "print('Success!')"
   ]
  },
  {
   "cell_type": "markdown",
   "metadata": {
    "deletable": false,
    "editable": false,
    "nbgrader": {
     "cell_type": "markdown",
     "checksum": "4b78631b3c21e273a1a7704605ded36a",
     "grade": false,
     "grade_id": "cell-309b3be84c7e4267",
     "locked": true,
     "schema_version": 3,
     "solution": false
    }
   },
   "source": [
    "**Question 1.7**\n",
    "<br> {points: 1}\n",
    "\n",
    "Make a scatterplot of scaled mass on the horizontal axis and scaled color score on the vertical axis. Color the points by fruit name. \n",
    "\n",
    "*Assign your plot to an object called `fruit_plot`. Make sure to do all the things to make an effective visualization.*"
   ]
  },
  {
   "cell_type": "code",
   "execution_count": null,
   "metadata": {
    "deletable": false,
    "nbgrader": {
     "cell_type": "code",
     "checksum": "ec6079395279aa92fac8dccdcd3cc8e3",
     "grade": false,
     "grade_id": "cell-7aea4aced8566c09",
     "locked": false,
     "schema_version": 3,
     "solution": true
    }
   },
   "outputs": [],
   "source": [
    "# your code here\n",
    "raise NotImplementedError\n",
    "fruit_plot"
   ]
  },
  {
   "cell_type": "code",
   "execution_count": null,
   "metadata": {
    "deletable": false,
    "editable": false,
    "nbgrader": {
     "cell_type": "code",
     "checksum": "1e73586919e77383a682bdd2a43a5863",
     "grade": true,
     "grade_id": "cell-330397b4b46fdd07",
     "locked": true,
     "points": 1,
     "schema_version": 3,
     "solution": false
    }
   },
   "outputs": [],
   "source": [
    "from hashlib import sha1\n",
    "assert sha1(str(type(fruit_plot is None)).encode(\"utf-8\")+b\"8a68b\").hexdigest() == \"2eb88fd37a2f9ad35c86baea93a7c47a34733fc9\", \"type of fruit_plot is None is not bool. fruit_plot is None should be a bool\"\n",
    "assert sha1(str(fruit_plot is None).encode(\"utf-8\")+b\"8a68b\").hexdigest() == \"96559b06b6b1702b0d9e1e2c8d8c251cbbd9c0d8\", \"boolean value of fruit_plot is None is not correct\"\n",
    "\n",
    "assert sha1(str(type(fruit_plot.encoding.x['shorthand'])).encode(\"utf-8\")+b\"8a68c\").hexdigest() == \"990fdef163dcedc13a931eba5fdc5a880b23f71f\", \"type of fruit_plot.encoding.x['shorthand'] is not str. fruit_plot.encoding.x['shorthand'] should be an str\"\n",
    "assert sha1(str(len(fruit_plot.encoding.x['shorthand'])).encode(\"utf-8\")+b\"8a68c\").hexdigest() == \"0374e9f8a14be83fa1e1c62df034a71203996d53\", \"length of fruit_plot.encoding.x['shorthand'] is not correct\"\n",
    "assert sha1(str(fruit_plot.encoding.x['shorthand'].lower()).encode(\"utf-8\")+b\"8a68c\").hexdigest() == \"dfef3739fefa652a9b39e2fe8e35725607356a66\", \"value of fruit_plot.encoding.x['shorthand'] is not correct\"\n",
    "assert sha1(str(fruit_plot.encoding.x['shorthand']).encode(\"utf-8\")+b\"8a68c\").hexdigest() == \"dfef3739fefa652a9b39e2fe8e35725607356a66\", \"correct string value of fruit_plot.encoding.x['shorthand'] but incorrect case of letters\"\n",
    "\n",
    "assert sha1(str(type(fruit_plot.encoding.y['shorthand'])).encode(\"utf-8\")+b\"8a68d\").hexdigest() == \"169bb4f2d655079959d4662419dbcaec59ec6167\", \"type of fruit_plot.encoding.y['shorthand'] is not str. fruit_plot.encoding.y['shorthand'] should be an str\"\n",
    "assert sha1(str(len(fruit_plot.encoding.y['shorthand'])).encode(\"utf-8\")+b\"8a68d\").hexdigest() == \"42b25752bc14f8efaf0a98a2cd836990d47e5111\", \"length of fruit_plot.encoding.y['shorthand'] is not correct\"\n",
    "assert sha1(str(fruit_plot.encoding.y['shorthand'].lower()).encode(\"utf-8\")+b\"8a68d\").hexdigest() == \"5f08604168bab219696386b6df81af2ec5aed4a1\", \"value of fruit_plot.encoding.y['shorthand'] is not correct\"\n",
    "assert sha1(str(fruit_plot.encoding.y['shorthand']).encode(\"utf-8\")+b\"8a68d\").hexdigest() == \"5f08604168bab219696386b6df81af2ec5aed4a1\", \"correct string value of fruit_plot.encoding.y['shorthand'] but incorrect case of letters\"\n",
    "\n",
    "assert sha1(str(type(fruit_plot.encoding.color['shorthand'])).encode(\"utf-8\")+b\"8a68e\").hexdigest() == \"73ce6be309d9286e646a0380fcab4c00aa65bd01\", \"type of fruit_plot.encoding.color['shorthand'] is not str. fruit_plot.encoding.color['shorthand'] should be an str\"\n",
    "assert sha1(str(len(fruit_plot.encoding.color['shorthand'])).encode(\"utf-8\")+b\"8a68e\").hexdigest() == \"17a2a30b7b2a42ba128526f262ace7dbf03f6b22\", \"length of fruit_plot.encoding.color['shorthand'] is not correct\"\n",
    "assert sha1(str(fruit_plot.encoding.color['shorthand'].lower()).encode(\"utf-8\")+b\"8a68e\").hexdigest() == \"76d2b478d1ffb793a29cb9239924296395d3bb7c\", \"value of fruit_plot.encoding.color['shorthand'] is not correct\"\n",
    "assert sha1(str(fruit_plot.encoding.color['shorthand']).encode(\"utf-8\")+b\"8a68e\").hexdigest() == \"76d2b478d1ffb793a29cb9239924296395d3bb7c\", \"correct string value of fruit_plot.encoding.color['shorthand'] but incorrect case of letters\"\n",
    "\n",
    "assert sha1(str(type(fruit_plot.mark)).encode(\"utf-8\")+b\"8a68f\").hexdigest() == \"76d38afe65402afe2de3222397ceb0231d524f26\", \"type of fruit_plot.mark is not str. fruit_plot.mark should be an str\"\n",
    "assert sha1(str(len(fruit_plot.mark)).encode(\"utf-8\")+b\"8a68f\").hexdigest() == \"c66527296d6886c31dc1ffcf6efdbd56af9a433b\", \"length of fruit_plot.mark is not correct\"\n",
    "assert sha1(str(fruit_plot.mark.lower()).encode(\"utf-8\")+b\"8a68f\").hexdigest() == \"c7941e4e9f11393086be5f804d31d0d4e59cc05c\", \"value of fruit_plot.mark is not correct\"\n",
    "assert sha1(str(fruit_plot.mark).encode(\"utf-8\")+b\"8a68f\").hexdigest() == \"c7941e4e9f11393086be5f804d31d0d4e59cc05c\", \"correct string value of fruit_plot.mark but incorrect case of letters\"\n",
    "\n",
    "assert sha1(str(type(isinstance(fruit_plot.encoding.x['title'], str))).encode(\"utf-8\")+b\"8a690\").hexdigest() == \"0a4f1696bfd421d1ccecb2458a975c4e7786e31d\", \"type of isinstance(fruit_plot.encoding.x['title'], str) is not bool. isinstance(fruit_plot.encoding.x['title'], str) should be a bool\"\n",
    "assert sha1(str(isinstance(fruit_plot.encoding.x['title'], str)).encode(\"utf-8\")+b\"8a690\").hexdigest() == \"06f18fbda4027c9bb364f9839311456225184150\", \"boolean value of isinstance(fruit_plot.encoding.x['title'], str) is not correct\"\n",
    "\n",
    "assert sha1(str(type(isinstance(fruit_plot.encoding.y['title'], str))).encode(\"utf-8\")+b\"8a691\").hexdigest() == \"473909fcf26823364d666d1009575523e1c15bef\", \"type of isinstance(fruit_plot.encoding.y['title'], str) is not bool. isinstance(fruit_plot.encoding.y['title'], str) should be a bool\"\n",
    "assert sha1(str(isinstance(fruit_plot.encoding.y['title'], str)).encode(\"utf-8\")+b\"8a691\").hexdigest() == \"57a44c8d3b9b8a8bff8e69f6018e46ce89c8eb9b\", \"boolean value of isinstance(fruit_plot.encoding.y['title'], str) is not correct\"\n",
    "\n",
    "assert sha1(str(type(isinstance(fruit_plot.encoding.color['title'], str))).encode(\"utf-8\")+b\"8a692\").hexdigest() == \"546fcb8f3a69f38cab39fa96e8dbcd1de01be4aa\", \"type of isinstance(fruit_plot.encoding.color['title'], str) is not bool. isinstance(fruit_plot.encoding.color['title'], str) should be a bool\"\n",
    "assert sha1(str(isinstance(fruit_plot.encoding.color['title'], str)).encode(\"utf-8\")+b\"8a692\").hexdigest() == \"215413dbe7a8ccf663d36f848f79313577dbacda\", \"boolean value of isinstance(fruit_plot.encoding.color['title'], str) is not correct\"\n",
    "\n",
    "print('Success!')"
   ]
  },
  {
   "cell_type": "markdown",
   "metadata": {
    "deletable": false,
    "editable": false,
    "nbgrader": {
     "cell_type": "markdown",
     "checksum": "f2f10081880f061cb06a6f61a8b6332e",
     "grade": false,
     "grade_id": "cell-af1aa89c7d87ff08",
     "locked": true,
     "schema_version": 3,
     "solution": false
    }
   },
   "source": [
    "**Question 1.8** \n",
    "<br> {points: 3}\n",
    "\n",
    "Suppose we have a new observation in the fruit dataset with scaled mass 0.5 and scaled color score 0.5.\n",
    "\n",
    "Just by looking at the scatterplot, how would you classify this observation using K-nearest neighbours if you use K = 3? Explain how you arrived at your answer."
   ]
  },
  {
   "cell_type": "markdown",
   "metadata": {
    "deletable": false,
    "nbgrader": {
     "cell_type": "markdown",
     "checksum": "270e7299b82619bf4a12b74622edb5bf",
     "grade": true,
     "grade_id": "cell-b48e4cbbaea68dab",
     "locked": false,
     "points": 3,
     "schema_version": 3,
     "solution": true,
     "task": false
    }
   },
   "source": [
    "DOUBLE CLICK TO EDIT **THIS CELL** AND REPLACE THIS TEXT WITH YOUR ANSWER."
   ]
  },
  {
   "cell_type": "markdown",
   "metadata": {
    "deletable": false,
    "editable": false,
    "nbgrader": {
     "cell_type": "markdown",
     "checksum": "10e6507035f4768f7200686777a8c153",
     "grade": false,
     "grade_id": "cell-d5bb3e47fd3d48af",
     "locked": true,
     "schema_version": 3,
     "solution": false
    }
   },
   "source": [
    "**Question 1.9**\n",
    "<br> {points: 1}\n",
    "\n",
    "Now, let's use the `scikit-learn` package to predict `fruit_name` for another new observation. First, create a K-nearest neighbour model with $K=5$ neighbors. Name this model specification `knn_spec`.\n",
    "\n",
    "Then create a new preprocessor named `fruit_data_preprocessor_2` that centers and scales the predictors, but only uses `mass` and `color_score` as predictors. We can drop all other unused columns. Name the predictor as `X` and the target `y`.\n",
    "\n",
    "Combine the preprocessor with your neighbour model `knn_spec` in a pipeline, and fit to the `fruit_data` dataset. \n",
    "\n",
    "*Name the fitted model `fruit_fit`.*"
   ]
  },
  {
   "cell_type": "code",
   "execution_count": null,
   "metadata": {
    "deletable": false,
    "nbgrader": {
     "cell_type": "code",
     "checksum": "6682fadad0954046017de5dca1c86fe5",
     "grade": false,
     "grade_id": "cell-d6a33c5ad9e20950",
     "locked": false,
     "schema_version": 3,
     "solution": true
    }
   },
   "outputs": [],
   "source": [
    "# ___ = KNeighborsClassifier(n_neighbors=___)\n",
    "\n",
    "# ____ = make_column_transformer(\n",
    "#     (___, [___, ___]),\n",
    "# )\n",
    "\n",
    "# X = ____.drop(columns=[___])\n",
    "# y = ___[___]\n",
    "\n",
    "# ___ = ___(___, ___).fit(___, ___)\n",
    "\n",
    "# your code here\n",
    "raise NotImplementedError\n",
    "fruit_fit"
   ]
  },
  {
   "cell_type": "code",
   "execution_count": null,
   "metadata": {
    "deletable": false,
    "editable": false,
    "nbgrader": {
     "cell_type": "code",
     "checksum": "cb6451e53462c820495db0d101fb9bbc",
     "grade": true,
     "grade_id": "cell-5ccfe637ff9751ec",
     "locked": true,
     "points": 1,
     "schema_version": 3,
     "solution": false
    }
   },
   "outputs": [],
   "source": [
    "from hashlib import sha1\n",
    "assert sha1(str(type(knn_spec is None)).encode(\"utf-8\")+b\"2de2e\").hexdigest() == \"2f656698603296a3c30fd64bc9b2c4557f8b4879\", \"type of knn_spec is None is not bool. knn_spec is None should be a bool\"\n",
    "assert sha1(str(knn_spec is None).encode(\"utf-8\")+b\"2de2e\").hexdigest() == \"ff1547749fefe8344039793a7db80de2ed86f8d1\", \"boolean value of knn_spec is None is not correct\"\n",
    "\n",
    "assert sha1(str(type(knn_spec.n_neighbors)).encode(\"utf-8\")+b\"2de2f\").hexdigest() == \"54476aa53aea2f8fe3d6caec0f2c94118b7ab982\", \"type of knn_spec.n_neighbors is not int. Please make sure it is int and not np.int64, etc. You can cast your value into an int using int()\"\n",
    "assert sha1(str(knn_spec.n_neighbors).encode(\"utf-8\")+b\"2de2f\").hexdigest() == \"7d812171af345a6d2547b75d454ffbfb2ad1cfe8\", \"value of knn_spec.n_neighbors is not correct\"\n",
    "\n",
    "assert sha1(str(type(knn_spec.effective_metric_)).encode(\"utf-8\")+b\"2de30\").hexdigest() == \"b2a92f208e4d7ffdfe0fe538ebaae84569b80fe0\", \"type of knn_spec.effective_metric_ is not str. knn_spec.effective_metric_ should be an str\"\n",
    "assert sha1(str(len(knn_spec.effective_metric_)).encode(\"utf-8\")+b\"2de30\").hexdigest() == \"f28fe5343cceaa19ae730e78b38337ebcab525cb\", \"length of knn_spec.effective_metric_ is not correct\"\n",
    "assert sha1(str(knn_spec.effective_metric_.lower()).encode(\"utf-8\")+b\"2de30\").hexdigest() == \"32e17aab20b482930453d26d4c28f002db625560\", \"value of knn_spec.effective_metric_ is not correct\"\n",
    "assert sha1(str(knn_spec.effective_metric_).encode(\"utf-8\")+b\"2de30\").hexdigest() == \"32e17aab20b482930453d26d4c28f002db625560\", \"correct string value of knn_spec.effective_metric_ but incorrect case of letters\"\n",
    "\n",
    "assert sha1(str(type(fruit_data_preprocessor_2 is None)).encode(\"utf-8\")+b\"2de31\").hexdigest() == \"9b4c6d44c83e723fc72e11ade4336f7caab31399\", \"type of fruit_data_preprocessor_2 is None is not bool. fruit_data_preprocessor_2 is None should be a bool\"\n",
    "assert sha1(str(fruit_data_preprocessor_2 is None).encode(\"utf-8\")+b\"2de31\").hexdigest() == \"f48cf9c4e505fba10dc03daaf32c9eb3dcdb6515\", \"boolean value of fruit_data_preprocessor_2 is None is not correct\"\n",
    "\n",
    "assert sha1(str(type(fruit_data_preprocessor_2.transformers_[0][2])).encode(\"utf-8\")+b\"2de32\").hexdigest() == \"1a692d250d78748e9ae32b88a817982543507611\", \"type of fruit_data_preprocessor_2.transformers_[0][2] is not list. fruit_data_preprocessor_2.transformers_[0][2] should be a list\"\n",
    "assert sha1(str(len(fruit_data_preprocessor_2.transformers_[0][2])).encode(\"utf-8\")+b\"2de32\").hexdigest() == \"d59bc27c28012e71dc180e5197a586765e19c9bc\", \"length of fruit_data_preprocessor_2.transformers_[0][2] is not correct\"\n",
    "assert sha1(str(sorted(map(str, fruit_data_preprocessor_2.transformers_[0][2]))).encode(\"utf-8\")+b\"2de32\").hexdigest() == \"faa57b3393d92de7cd9dfe8e565ecd7099393e60\", \"values of fruit_data_preprocessor_2.transformers_[0][2] are not correct\"\n",
    "assert sha1(str(fruit_data_preprocessor_2.transformers_[0][2]).encode(\"utf-8\")+b\"2de32\").hexdigest() == \"b1b3246e35d97d514d503d0423224a472ff88205\", \"order of elements of fruit_data_preprocessor_2.transformers_[0][2] is not correct\"\n",
    "\n",
    "assert sha1(str(type(fruit_fit is None)).encode(\"utf-8\")+b\"2de33\").hexdigest() == \"3c91488616850895d26bc585c4564e2470a9525d\", \"type of fruit_fit is None is not bool. fruit_fit is None should be a bool\"\n",
    "assert sha1(str(fruit_fit is None).encode(\"utf-8\")+b\"2de33\").hexdigest() == \"a43950ee20d197dd929e3fe15963d9a85cb7250a\", \"boolean value of fruit_fit is None is not correct\"\n",
    "\n",
    "assert sha1(str(type(type(fruit_fit))).encode(\"utf-8\")+b\"2de34\").hexdigest() == \"fba3e1eae86f1348b80b1e2b220aab7692d1e014\", \"type of type(fruit_fit) is not correct\"\n",
    "assert sha1(str(type(fruit_fit)).encode(\"utf-8\")+b\"2de34\").hexdigest() == \"09b8692c89f3acf882c802f89e1fd50958e5f8cd\", \"value of type(fruit_fit) is not correct\"\n",
    "\n",
    "assert sha1(str(type(fruit_fit.named_steps.kneighborsclassifier.n_neighbors)).encode(\"utf-8\")+b\"2de35\").hexdigest() == \"0550e0522094a23b7ae4ca9e4c2ec6358d93c920\", \"type of fruit_fit.named_steps.kneighborsclassifier.n_neighbors is not int. Please make sure it is int and not np.int64, etc. You can cast your value into an int using int()\"\n",
    "assert sha1(str(fruit_fit.named_steps.kneighborsclassifier.n_neighbors).encode(\"utf-8\")+b\"2de35\").hexdigest() == \"7c417f3eafdc436b9d08d1d4d3dad67e63db2f50\", \"value of fruit_fit.named_steps.kneighborsclassifier.n_neighbors is not correct\"\n",
    "\n",
    "assert sha1(str(type(fruit_fit.named_steps.kneighborsclassifier.effective_metric_)).encode(\"utf-8\")+b\"2de36\").hexdigest() == \"b279e909d7321a30f7b90755f4f44bf384a66946\", \"type of fruit_fit.named_steps.kneighborsclassifier.effective_metric_ is not str. fruit_fit.named_steps.kneighborsclassifier.effective_metric_ should be an str\"\n",
    "assert sha1(str(len(fruit_fit.named_steps.kneighborsclassifier.effective_metric_)).encode(\"utf-8\")+b\"2de36\").hexdigest() == \"51328a92f6bf057e32a295c29f8af2f796835377\", \"length of fruit_fit.named_steps.kneighborsclassifier.effective_metric_ is not correct\"\n",
    "assert sha1(str(fruit_fit.named_steps.kneighborsclassifier.effective_metric_.lower()).encode(\"utf-8\")+b\"2de36\").hexdigest() == \"a10ad5a701b9778b5269fb0583fdf5efc0038069\", \"value of fruit_fit.named_steps.kneighborsclassifier.effective_metric_ is not correct\"\n",
    "assert sha1(str(fruit_fit.named_steps.kneighborsclassifier.effective_metric_).encode(\"utf-8\")+b\"2de36\").hexdigest() == \"a10ad5a701b9778b5269fb0583fdf5efc0038069\", \"correct string value of fruit_fit.named_steps.kneighborsclassifier.effective_metric_ but incorrect case of letters\"\n",
    "\n",
    "print('Success!')"
   ]
  },
  {
   "cell_type": "markdown",
   "metadata": {
    "deletable": false,
    "editable": false,
    "nbgrader": {
     "cell_type": "markdown",
     "checksum": "a2f470886d23c4f3e128603cd7a68635",
     "grade": false,
     "grade_id": "cell-c0cf02e39693f018",
     "locked": true,
     "schema_version": 3,
     "solution": false
    }
   },
   "source": [
    "**Question 1.10**\n",
    "<br> {points: 1}\n",
    "\n",
    "The new observation we are interested in has mass 150g and color score 0.73. Create a new dataframe `mass = 150` and `color_score = 0.73` and call it `new_fruit`. Then, pass `fruit_fit` and `new_fruit` to the `predict` function to predict the class for the new fruit observation. Save your prediction to an object named `fruit_predicted`."
   ]
  },
  {
   "cell_type": "code",
   "execution_count": null,
   "metadata": {
    "deletable": false,
    "nbgrader": {
     "cell_type": "code",
     "checksum": "65d16eee759a897a6ac8b0cbf6f98d5b",
     "grade": false,
     "grade_id": "cell-1a6bd7bd278f3b12",
     "locked": false,
     "schema_version": 3,
     "solution": true
    }
   },
   "outputs": [],
   "source": [
    "# your code here\n",
    "raise NotImplementedError\n",
    "fruit_predicted"
   ]
  },
  {
   "cell_type": "code",
   "execution_count": null,
   "metadata": {
    "deletable": false,
    "editable": false,
    "nbgrader": {
     "cell_type": "code",
     "checksum": "57fa8305d49c1390928d56a4e41860b5",
     "grade": true,
     "grade_id": "cell-3a2d3d85dc181b83",
     "locked": true,
     "points": 1,
     "schema_version": 3,
     "solution": false
    }
   },
   "outputs": [],
   "source": [
    "from hashlib import sha1\n",
    "assert sha1(str(type(new_fruit is None)).encode(\"utf-8\")+b\"9d4b9\").hexdigest() == \"3222a4457ea7d947a5727ca89ab62fd52f729b74\", \"type of new_fruit is None is not bool. new_fruit is None should be a bool\"\n",
    "assert sha1(str(new_fruit is None).encode(\"utf-8\")+b\"9d4b9\").hexdigest() == \"ef575b67eb4b722e49513f4d0bedd172876555e1\", \"boolean value of new_fruit is None is not correct\"\n",
    "\n",
    "assert sha1(str(type(new_fruit.shape)).encode(\"utf-8\")+b\"9d4ba\").hexdigest() == \"04a8d89cbf1d3b168b1bac685df0fe6aa0f45181\", \"type of new_fruit.shape is not tuple. new_fruit.shape should be a tuple\"\n",
    "assert sha1(str(len(new_fruit.shape)).encode(\"utf-8\")+b\"9d4ba\").hexdigest() == \"52f1ed8364cf562f0b8b41f03321e26ea99bfc53\", \"length of new_fruit.shape is not correct\"\n",
    "assert sha1(str(sorted(map(str, new_fruit.shape))).encode(\"utf-8\")+b\"9d4ba\").hexdigest() == \"1a531e9de4e3b928d7fad21623aa618c22dd130e\", \"values of new_fruit.shape are not correct\"\n",
    "assert sha1(str(new_fruit.shape).encode(\"utf-8\")+b\"9d4ba\").hexdigest() == \"863d4302dbd1a19b33778c34d693597c0a5e896b\", \"order of elements of new_fruit.shape is not correct\"\n",
    "\n",
    "assert sha1(str(type(new_fruit.mass.values)).encode(\"utf-8\")+b\"9d4bb\").hexdigest() == \"7526d14bb84ec36bbeb125019dd8281dbf46be98\", \"type of new_fruit.mass.values is not correct\"\n",
    "assert sha1(str(new_fruit.mass.values).encode(\"utf-8\")+b\"9d4bb\").hexdigest() == \"57d625833c0f92a5967ca29580ddac60fc8d175c\", \"value of new_fruit.mass.values is not correct\"\n",
    "\n",
    "assert sha1(str(type(new_fruit.color_score.values)).encode(\"utf-8\")+b\"9d4bc\").hexdigest() == \"22136490cc7459081a0f956868a5517b6c95a81c\", \"type of new_fruit.color_score.values is not correct\"\n",
    "assert sha1(str(new_fruit.color_score.values).encode(\"utf-8\")+b\"9d4bc\").hexdigest() == \"4eeff2722fbb1c1aeb3eb28059a40c7257956950\", \"value of new_fruit.color_score.values is not correct\"\n",
    "\n",
    "assert sha1(str(type(fruit_predicted)).encode(\"utf-8\")+b\"9d4bd\").hexdigest() == \"c0fe127c3976037e0a96c59de49d4fd63796dd85\", \"type of fruit_predicted is not correct\"\n",
    "assert sha1(str(fruit_predicted).encode(\"utf-8\")+b\"9d4bd\").hexdigest() == \"a64d7e8039ad9f84b2534a5d4e29cf15d5254b28\", \"value of fruit_predicted is not correct\"\n",
    "\n",
    "print('Success!')"
   ]
  },
  {
   "cell_type": "markdown",
   "metadata": {
    "deletable": false,
    "editable": false,
    "nbgrader": {
     "cell_type": "markdown",
     "checksum": "d7067187d349cfb90cbb12bd4a44c04f",
     "grade": false,
     "grade_id": "cell-f967fbfa3edd4e40",
     "locked": true,
     "schema_version": 3,
     "solution": false
    }
   },
   "source": [
    "**Question 1.11** \n",
    "<br> {points: 3}\n",
    "\n",
    "Revisiting `fruit_plot` and considering the prediction given by K-nearest neighbours above, do you think the classification model did a \"good\" job predicting? Could you have done/do better? Given what we know this far in the course, what might we want to do to help with tricky prediction cases such as this?\n",
    "\n",
    "*You can use the code below to visualize the observation whose label we just tried to predict.*"
   ]
  },
  {
   "cell_type": "code",
   "execution_count": null,
   "metadata": {
    "deletable": false,
    "editable": false,
    "nbgrader": {
     "cell_type": "code",
     "checksum": "756d1544e21389844db6629786049c73",
     "grade": false,
     "grade_id": "cell-1569bb952f7f0597",
     "locked": true,
     "schema_version": 3,
     "solution": false,
     "task": false
    }
   },
   "outputs": [],
   "source": [
    "fruit_plot + (\n",
    "    # Standardize the new data point with transformer fitted on the original data\n",
    "    alt.Chart(fruit_data_preprocessor_2.transform(new_fruit))\n",
    "    .mark_circle(size=80, color='black').encode(\n",
    "        x=\"mass\",\n",
    "        y=\"color_score\"\n",
    "    )\n",
    ")"
   ]
  },
  {
   "cell_type": "markdown",
   "metadata": {
    "deletable": false,
    "nbgrader": {
     "cell_type": "markdown",
     "checksum": "2be2062f7f7536947b1fa505d183e422",
     "grade": true,
     "grade_id": "cell-5a6f5622fdbb48fe",
     "locked": false,
     "points": 3,
     "schema_version": 3,
     "solution": true,
     "task": false
    }
   },
   "source": [
    "DOUBLE CLICK TO EDIT **THIS CELL** AND REPLACE THIS TEXT WITH YOUR ANSWER."
   ]
  },
  {
   "cell_type": "markdown",
   "metadata": {
    "deletable": false,
    "editable": false,
    "nbgrader": {
     "cell_type": "markdown",
     "checksum": "0d72077d736a029e896661edd11a8663",
     "grade": false,
     "grade_id": "cell-cc5156a4318b7185",
     "locked": true,
     "schema_version": 3,
     "solution": false
    }
   },
   "source": [
    "**Question 1.12**\n",
    "<br> {points: 1}\n",
    "\n",
    "Now do K-nearest neighbours classification again with the same data set, same K, and same new observation. However, this time, let's use **all the columns in the dataset as predictors (except for the categorical `fruit_label` and `fruit_subtype` variables).** Therefore, you would need to make a new preprocessor.\n",
    "\n",
    "We have provided the `new_fruit_all` dataframe below, which encodes the predictors for our new observation. Your job is to use K-nearest neighbours to predict the class of this point. You can reuse the model specification `knn_spec` that you created earlier. \n",
    "\n",
    "Name the new predictor as `X_2` and new target `y_2`.\n",
    "\n",
    "*Assign your answer (the output of `predict`) to an object called `fruit_all_predicted`.*"
   ]
  },
  {
   "cell_type": "code",
   "execution_count": null,
   "metadata": {
    "deletable": false,
    "nbgrader": {
     "cell_type": "code",
     "checksum": "4fdf750ba6a2b3a715bdddc0cf2992bc",
     "grade": false,
     "grade_id": "cell-11dfd75840c12acf",
     "locked": false,
     "schema_version": 3,
     "solution": true,
     "task": false
    }
   },
   "outputs": [],
   "source": [
    "# This is the new observation to predict class label for\n",
    "new_fruit_all = pd.DataFrame(\n",
    "    [[150, 6, 10, 0.73]],\n",
    "    columns=[\n",
    "        \"mass\",\n",
    "        \"width\",\n",
    "        \"height\",\n",
    "        \"color_score\",\n",
    "    ],\n",
    ")\n",
    "\n",
    "# no hints this time!\n",
    "\n",
    "# your code here\n",
    "raise NotImplementedError\n",
    "fruit_all_predicted"
   ]
  },
  {
   "cell_type": "code",
   "execution_count": null,
   "metadata": {
    "deletable": false,
    "editable": false,
    "nbgrader": {
     "cell_type": "code",
     "checksum": "c7fb0c83e7e347022450fe171a24eba4",
     "grade": true,
     "grade_id": "cell-f4cbe01336a26636",
     "locked": true,
     "points": 1,
     "schema_version": 3,
     "solution": false,
     "task": false
    }
   },
   "outputs": [],
   "source": [
    "from hashlib import sha1\n",
    "assert sha1(str(type(fruit_all_predicted)).encode(\"utf-8\")+b\"1b68e\").hexdigest() == \"438b64ff5db5790eaf1b10b54d223db3e99d7ce7\", \"type of fruit_all_predicted is not correct\"\n",
    "assert sha1(str(fruit_all_predicted).encode(\"utf-8\")+b\"1b68e\").hexdigest() == \"f4716bb2f048786e58330db84126dad27a9c6268\", \"value of fruit_all_predicted is not correct\"\n",
    "\n",
    "print('Success!')"
   ]
  },
  {
   "cell_type": "markdown",
   "metadata": {
    "deletable": false,
    "editable": false,
    "nbgrader": {
     "cell_type": "markdown",
     "checksum": "f91896964dd01c73a585e32a18158abc",
     "grade": false,
     "grade_id": "cell-ed80bda97a114689",
     "locked": true,
     "schema_version": 3,
     "solution": false
    }
   },
   "source": [
    "**Question 1.13** \n",
    "<br> {points: 3}\n",
    "\n",
    "Did your second classification on the same data set with the same K change the prediction? If so, why do you think this happened?"
   ]
  },
  {
   "cell_type": "markdown",
   "metadata": {
    "deletable": false,
    "nbgrader": {
     "cell_type": "markdown",
     "checksum": "78516303d9fd03bc863115aacaaa8ab0",
     "grade": true,
     "grade_id": "cell-8d91418ef5057475",
     "locked": false,
     "points": 3,
     "schema_version": 3,
     "solution": true,
     "task": false
    }
   },
   "source": [
    "DOUBLE CLICK TO EDIT **THIS CELL** AND REPLACE THIS TEXT WITH YOUR ANSWER."
   ]
  },
  {
   "cell_type": "markdown",
   "metadata": {
    "deletable": false,
    "editable": false,
    "nbgrader": {
     "cell_type": "markdown",
     "checksum": "792e065e4e2a5e26b4d6ddffaa893feb",
     "grade": false,
     "grade_id": "cell-da8d59e0f1753437",
     "locked": true,
     "schema_version": 3,
     "solution": false,
     "task": false
    }
   },
   "source": [
    "## 2. Wheat Seed Dataset\n",
    "\n",
    "X-ray images can be used to analyze and sort seeds. In [this data set](https://archive.ics.uci.edu/ml/datasets/seeds), we have 7 measurements from x-ray images from 3 varieties of wheat seeds (Kama, Rosa and Canadian). "
   ]
  },
  {
   "cell_type": "markdown",
   "metadata": {
    "deletable": false,
    "editable": false,
    "nbgrader": {
     "cell_type": "markdown",
     "checksum": "4c6b3b113630bdc13ef091bc82b11e78",
     "grade": false,
     "grade_id": "cell-8efa44bbbd0be10c",
     "locked": true,
     "schema_version": 3,
     "solution": false
    }
   },
   "source": [
    "**Question 2.0**\n",
    "<br> {points: 3}\n",
    "\n",
    "Let's use `scikit-learn` to perform K-nearest neighbours to classify the wheat variety of seeds. The data set is available here: https://archive.ics.uci.edu/ml/machine-learning-databases/00236/seeds_dataset.txt. **Download the data set directly from this URL using the `pd.read_csv` function with `delimiter='\\t'`**, which is helpful when the columns are separated by one or more white spaces.\n",
    "\n",
    "The seven measurements were taken below for each wheat kernel:\n",
    "1. area A, \n",
    "2. perimeter P, \n",
    "3. compactness C = 4*pi*A/P^2, \n",
    "4. length of kernel, \n",
    "5. width of kernel, \n",
    "6. asymmetry coefficient \n",
    "7. length of kernel groove. \n",
    "\n",
    "The last column in the data set is the variety label. The mapping for the numbers to varieties is listed below:\n",
    "\n",
    "- 1 == Kama\n",
    "- 2 == Rosa\n",
    "- 3 == Canadian\n",
    "\n",
    "Use `scikit-learn` with this data to perform K-nearest neighbours to classify the wheat variety of a new seed we measure with the given observed measurements (from an x-ray image) listed above. Specify that we want $K = 5$ neighbors to perform the classification. \n",
    "\n",
    "*Assign your answer to an object called `seed_predict`.*\n",
    "\n",
    "Hints: \n",
    "- `names` can be used to specify the column names of a data frame.\n",
    "- There are some nan values in the dataset, please use `dropna` to drop the nan values in the dataset before passing it into the K-nearest neighbours model."
   ]
  },
  {
   "cell_type": "code",
   "execution_count": null,
   "metadata": {
    "deletable": false,
    "nbgrader": {
     "cell_type": "code",
     "checksum": "73fb0540e2cacc5e7824a9a2fabd84ab",
     "grade": true,
     "grade_id": "cell-3c4ba3c5bf6b72e0",
     "locked": false,
     "points": 3,
     "schema_version": 3,
     "solution": true,
     "task": false
    }
   },
   "outputs": [],
   "source": [
    "# This is the new observation to predict\n",
    "new_seed = pd.DataFrame(\n",
    "    [[12.1, 14.2, 0.9, 4.9, 2.8, 3.0, 5.1]],\n",
    "    columns=[\n",
    "        \"area\",\n",
    "        \"perimeter\",\n",
    "        \"compactness\",\n",
    "        \"length\",\n",
    "        \"width\",\n",
    "        \"asymmetry_coefficient\",\n",
    "        \"groove_length\",\n",
    "    ],\n",
    ")\n",
    "\n",
    "# your code here\n",
    "raise NotImplementedError\n",
    "seed_predict"
   ]
  },
  {
   "cell_type": "markdown",
   "metadata": {
    "deletable": false,
    "editable": false,
    "nbgrader": {
     "cell_type": "markdown",
     "checksum": "ec126330a429c1fc8edadd89d5a9e468",
     "grade": false,
     "grade_id": "cell-8edaf785b47c00f9",
     "locked": true,
     "schema_version": 3,
     "solution": false
    }
   },
   "source": [
    "**Question 2.1** Multiple Choice:\n",
    "<br> {points: 1}\n",
    "\n",
    "What is classification of the `new_seed` observation?\n",
    "\n",
    "A. Kama\n",
    "\n",
    "B. Rosa\n",
    "\n",
    "C. Canadian\n",
    "\n",
    "*Assign your answer to an object called `answer2_1`. Make sure your answer is in uppercase and is surrounded by quotation marks (e.g. `\"F\"`).*\n"
   ]
  },
  {
   "cell_type": "code",
   "execution_count": null,
   "metadata": {
    "deletable": false,
    "nbgrader": {
     "cell_type": "code",
     "checksum": "14de510c068606d48f8f7de3583a1012",
     "grade": false,
     "grade_id": "cell-fb431a5154f21535",
     "locked": false,
     "schema_version": 3,
     "solution": true,
     "task": false
    }
   },
   "outputs": [],
   "source": [
    "# your code here\n",
    "raise NotImplementedError"
   ]
  },
  {
   "cell_type": "code",
   "execution_count": null,
   "metadata": {
    "deletable": false,
    "editable": false,
    "nbgrader": {
     "cell_type": "code",
     "checksum": "0055cf2f6f4669b4c79357ca93badaa8",
     "grade": true,
     "grade_id": "cell-6399b150c5034cd3",
     "locked": true,
     "points": 1,
     "schema_version": 3,
     "solution": false,
     "task": false
    }
   },
   "outputs": [],
   "source": [
    "from hashlib import sha1\n",
    "assert sha1(str(type(answer2_1)).encode(\"utf-8\")+b\"3e453\").hexdigest() == \"15ef2db7623049d810320b160bdd9f8cb2aeb736\", \"type of answer2_1 is not str. answer2_1 should be an str\"\n",
    "assert sha1(str(len(answer2_1)).encode(\"utf-8\")+b\"3e453\").hexdigest() == \"3bcfa64d6526f62fac5d53628275e523dc0b74e2\", \"length of answer2_1 is not correct\"\n",
    "assert sha1(str(answer2_1.lower()).encode(\"utf-8\")+b\"3e453\").hexdigest() == \"8997ae32bba2a701404281b140fb334d0e4f12f6\", \"value of answer2_1 is not correct\"\n",
    "assert sha1(str(answer2_1).encode(\"utf-8\")+b\"3e453\").hexdigest() == \"c6bcb7785029af288b81e0add1238bcc7de9234a\", \"correct string value of answer2_1 but incorrect case of letters\"\n",
    "\n",
    "print('Success!')"
   ]
  }
 ],
 "metadata": {
  "jupytext": {
   "encoding": "# -*- coding: utf-8 -*-"
  },
  "kernelspec": {
   "display_name": "Python 3 (ipykernel)",
   "language": "python",
   "name": "python3"
  },
  "language_info": {
   "codemirror_mode": {
    "name": "ipython",
    "version": 3
   },
   "file_extension": ".py",
   "mimetype": "text/x-python",
   "name": "python",
   "nbconvert_exporter": "python",
   "pygments_lexer": "ipython3",
   "version": "3.11.5"
  }
 },
 "nbformat": 4,
 "nbformat_minor": 4
}
