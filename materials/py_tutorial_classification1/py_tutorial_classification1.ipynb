{
 "cells": [
  {
   "cell_type": "markdown",
   "metadata": {
    "deletable": false,
    "editable": false,
    "nbgrader": {
     "cell_type": "markdown",
     "checksum": "8dc2f1ab75475b1b2f0e21b1609d985b",
     "grade": false,
     "grade_id": "cell-f02ea959d4ec286a",
     "locked": true,
     "schema_version": 3,
     "solution": false,
     "task": false
    }
   },
   "source": [
    "# Tutorial 6: Classification\n",
    "\n",
    "### Lecture and Tutorial Learning Goals:\n",
    "\n",
    "After completing this week's lecture and tutorial work, you will be able to:\n",
    "\n",
    "* Recognize situations where a simple classifier would be appropriate for making predictions.\n",
    "* Explain the k-nearest neighbour classification algorithm.\n",
    "* Interpret the output of a classifier.\n",
    "* Compute, by hand, the distance between points when there are two explanatory variables/predictors.\n",
    "* Describe what a training data set is and how it is used in classification.\n",
    "* In a dataset with two explanatory variables/predictors, perform k-nearest neighbour classification in Python using `scikit-learn` to predict the class of a single new observation."
   ]
  },
  {
   "cell_type": "code",
   "execution_count": null,
   "metadata": {
    "deletable": false,
    "editable": false,
    "nbgrader": {
     "cell_type": "code",
     "checksum": "00cc1a1758fe70f97cb2e5a431c4dde3",
     "grade": false,
     "grade_id": "cell-77dbb6c4a3f6c87c",
     "locked": true,
     "schema_version": 3,
     "solution": false,
     "task": false
    }
   },
   "outputs": [],
   "source": [
    "### Run this cell before continuing.\n",
    "import random\n",
    "\n",
    "import altair as alt\n",
    "import pandas as pd\n",
    "import numpy as np\n",
    "import sklearn\n",
    "from sklearn.compose import make_column_transformer\n",
    "from sklearn.metrics.pairwise import euclidean_distances\n",
    "from sklearn.neighbors import KNeighborsClassifier\n",
    "from sklearn.pipeline import Pipeline, make_pipeline\n",
    "from sklearn.preprocessing import OneHotEncoder, StandardScaler\n",
    "\n",
    "alt.data_transformers.disable_max_rows()"
   ]
  },
  {
   "cell_type": "markdown",
   "metadata": {
    "deletable": false,
    "editable": false,
    "nbgrader": {
     "cell_type": "markdown",
     "checksum": "95aca835b560ab530b54a5686c5cfbb9",
     "grade": false,
     "grade_id": "cell-0fb0bdb9af0312bf",
     "locked": true,
     "schema_version": 3,
     "solution": false
    }
   },
   "source": [
    "**Question 0.1** Multiple Choice: \n",
    "<br> {points: 1}\n",
    "\n",
    "Before applying k-nearest neighbour to a classification task, we need to scale the data. What is the purpose of this step?\n",
    "\n",
    "A. To help speed up the knn algorithm. \n",
    "\n",
    "B. To convert all data observations to numeric values. \n",
    "\n",
    "C. To ensure all data observations will be on a comparable scale and contribute equal shares to the calculation of the distance between points.\n",
    "\n",
    "D. None of the above. \n",
    "\n",
    "*Assign your answer to an object called `answer0_1`. Make sure the correct answer is an uppercase letter. Surround your answer with quotation marks (e.g. `\"F\"`).*\n",
    "\n",
    "*Note: we typically **standardize** (i.e., scale **and** center) the data before doing classification. For the K-nearest neighbour algorithm specifically, centering has no effect. But it doesn't hurt, and can help with other predictive data analyses, so we will do it below.*"
   ]
  },
  {
   "cell_type": "code",
   "execution_count": null,
   "metadata": {
    "deletable": false,
    "nbgrader": {
     "cell_type": "code",
     "checksum": "2d47229705649cd644e0b6d40a003573",
     "grade": false,
     "grade_id": "cell-a501b73cef660bd5",
     "locked": false,
     "schema_version": 3,
     "solution": true
    }
   },
   "outputs": [],
   "source": [
    "# your code here\n",
    "raise NotImplementedError"
   ]
  },
  {
   "cell_type": "code",
   "execution_count": null,
   "metadata": {
    "deletable": false,
    "editable": false,
    "max_height": 100,
    "nbgrader": {
     "cell_type": "code",
     "checksum": "03e59ebf0de57f8200a10790789743d9",
     "grade": true,
     "grade_id": "cell-2c64255ed0923c6b",
     "locked": true,
     "points": 3,
     "schema_version": 3,
     "solution": false
    }
   },
   "outputs": [],
   "source": [
    "from hashlib import sha1\n",
    "assert sha1(str(type(answer0_1)).encode(\"utf-8\")+b\"446dfe89269717c0\").hexdigest() == \"150d32139df34a5ea7b21b18e4f49ac80e2a0c21\", \"type of answer0_1 is not str. answer0_1 should be an str\"\n",
    "assert sha1(str(len(answer0_1)).encode(\"utf-8\")+b\"446dfe89269717c0\").hexdigest() == \"6ea6ccdb0dec838e73504a53fb7e9d22be4c9d01\", \"length of answer0_1 is not correct\"\n",
    "assert sha1(str(answer0_1.lower()).encode(\"utf-8\")+b\"446dfe89269717c0\").hexdigest() == \"dbd2d53ea4dd66a6107f10cd20d93fee85352571\", \"value of answer0_1 is not correct\"\n",
    "assert sha1(str(answer0_1).encode(\"utf-8\")+b\"446dfe89269717c0\").hexdigest() == \"625a3b5dc049596396c42d114a1a57d6b532e701\", \"correct string value of answer0_1 but incorrect case of letters\"\n",
    "\n",
    "print('Success!')"
   ]
  },
  {
   "cell_type": "markdown",
   "metadata": {
    "deletable": false,
    "editable": false,
    "nbgrader": {
     "cell_type": "markdown",
     "checksum": "6288d259e5e2b73ffbc32ebf1afdce32",
     "grade": false,
     "grade_id": "cell-fc56755477cbb261",
     "locked": true,
     "schema_version": 3,
     "solution": false
    }
   },
   "source": [
    "## 1. Fruit Data Example \n",
    "\n",
    "In the agricultural industry, cleaning, sorting, grading, and packaging food products are all necessary tasks in the post-harvest process. Products are classified based on appearance, size and shape, attributes which helps determine the quality of the food. Sorting can be done by humans, but it is tedious and time consuming. Automatic sorting could help save time and money. Images of the food products are captured and analysed to determine visual characteristics. \n",
    "\n",
    "The [dataset](https://www.kaggle.com/mjamilmoughal/k-nearest-neighbor-classifier-to-predict-fruits/notebook) contains observations of fruit described with four features: (1) mass (in g), (2) width (in cm), (3) height (in cm), and (4) color score (on a scale from 0 - 1)."
   ]
  },
  {
   "cell_type": "markdown",
   "metadata": {
    "deletable": false,
    "editable": false,
    "nbgrader": {
     "cell_type": "markdown",
     "checksum": "eea6b623db37baac7c65d2c9ac66a22c",
     "grade": false,
     "grade_id": "cell-e7663a214654c3e5",
     "locked": true,
     "schema_version": 3,
     "solution": false,
     "task": false
    }
   },
   "source": [
    "**Question 1.0** \n",
    "<br> {points: 1}\n",
    "\n",
    "Load the file, `fruit_data.csv`, into your notebook. \n",
    "\n",
    "*Assign your data to an object called `fruit_data`.*"
   ]
  },
  {
   "cell_type": "code",
   "execution_count": null,
   "metadata": {
    "deletable": false,
    "nbgrader": {
     "cell_type": "code",
     "checksum": "c728a14be1d1691c7591db81a589e8ea",
     "grade": false,
     "grade_id": "cell-257bbc9d90d8b32a",
     "locked": false,
     "schema_version": 3,
     "solution": true
    }
   },
   "outputs": [],
   "source": [
    "# your code here\n",
    "raise NotImplementedError"
   ]
  },
  {
   "cell_type": "code",
   "execution_count": null,
   "metadata": {
    "deletable": false,
    "editable": false,
    "max_height": 100,
    "nbgrader": {
     "cell_type": "code",
     "checksum": "5050d0eda869bee35c26dcebc4cb4450",
     "grade": true,
     "grade_id": "cell-71318577d0ae22b9",
     "locked": true,
     "points": 3,
     "schema_version": 3,
     "solution": false
    }
   },
   "outputs": [],
   "source": [
    "from hashlib import sha1\n",
    "assert sha1(str(type(fruit_data is None)).encode(\"utf-8\")+b\"f9e47e031b6e996e\").hexdigest() == \"8a76cfb19a4aefc72985b960ffabedb26f39d35d\", \"type of fruit_data is None is not bool. fruit_data is None should be a bool\"\n",
    "assert sha1(str(fruit_data is None).encode(\"utf-8\")+b\"f9e47e031b6e996e\").hexdigest() == \"2ffa809a3b7dd033ce1836d16916176daaf94cbb\", \"boolean value of fruit_data is None is not correct\"\n",
    "\n",
    "assert sha1(str(type(fruit_data.shape)).encode(\"utf-8\")+b\"f5e435f983057466\").hexdigest() == \"c63e2a141f6a8c861227e7dced76347252667e75\", \"type of fruit_data.shape is not tuple. fruit_data.shape should be a tuple\"\n",
    "assert sha1(str(len(fruit_data.shape)).encode(\"utf-8\")+b\"f5e435f983057466\").hexdigest() == \"ff85e2cb6e0a09eb0a90b797074b8c5b74ff88f5\", \"length of fruit_data.shape is not correct\"\n",
    "assert sha1(str(sorted(map(str, fruit_data.shape))).encode(\"utf-8\")+b\"f5e435f983057466\").hexdigest() == \"515b62ce68f845edaead7200219f91253b24fa22\", \"values of fruit_data.shape are not correct\"\n",
    "assert sha1(str(fruit_data.shape).encode(\"utf-8\")+b\"f5e435f983057466\").hexdigest() == \"910e8570605ce3ffb236104c46ec701eb25e1f3b\", \"order of elements of fruit_data.shape is not correct\"\n",
    "\n",
    "assert sha1(str(type(fruit_data.fruit_name.dtype)).encode(\"utf-8\")+b\"0419694a9f7e91b5\").hexdigest() == \"e701cd35cc504e09e0b38ade1e32edaa3c049ced\", \"type of fruit_data.fruit_name.dtype is not correct\"\n",
    "assert sha1(str(fruit_data.fruit_name.dtype).encode(\"utf-8\")+b\"0419694a9f7e91b5\").hexdigest() == \"1fa6b04330c2782bb9362fcbaba556b989a8c7be\", \"value of fruit_data.fruit_name.dtype is not correct\"\n",
    "\n",
    "assert sha1(str(type(fruit_data.fruit_name.unique())).encode(\"utf-8\")+b\"9e33f63bdc8e9854\").hexdigest() == \"4a8d4c28c7932113685a1c5515f11b9fedd501ba\", \"type of fruit_data.fruit_name.unique() is not correct\"\n",
    "assert sha1(str(fruit_data.fruit_name.unique()).encode(\"utf-8\")+b\"9e33f63bdc8e9854\").hexdigest() == \"5ba8b9e612d08b5dd8fdc0e0af53ab688443bdd6\", \"value of fruit_data.fruit_name.unique() is not correct\"\n",
    "\n",
    "assert sha1(str(type(fruit_data.mass.values)).encode(\"utf-8\")+b\"0570f4697871177a\").hexdigest() == \"4ecd5ba72c127179ea967c6574857a9341839bb0\", \"type of fruit_data.mass.values is not correct\"\n",
    "assert sha1(str(fruit_data.mass.values).encode(\"utf-8\")+b\"0570f4697871177a\").hexdigest() == \"ce8e21db1a6c4eac0519ce13c313f6a6254de6ad\", \"value of fruit_data.mass.values is not correct\"\n",
    "\n",
    "print('Success!')"
   ]
  },
  {
   "cell_type": "markdown",
   "metadata": {
    "deletable": false,
    "editable": false,
    "nbgrader": {
     "cell_type": "markdown",
     "checksum": "2a6599856974a1a6f8e21ee0061f9058",
     "grade": false,
     "grade_id": "cell-5c01c2cd0cc285f8",
     "locked": true,
     "schema_version": 3,
     "solution": false
    }
   },
   "source": [
    "Let's take a look at the first few observations in the fruit dataset. Run the cell below."
   ]
  },
  {
   "cell_type": "code",
   "execution_count": null,
   "metadata": {
    "deletable": false,
    "editable": false,
    "nbgrader": {
     "cell_type": "code",
     "checksum": "8eae1e3648da21605b752a0c466efb9f",
     "grade": false,
     "grade_id": "cell-b6cb1a6b0890e9e9",
     "locked": true,
     "schema_version": 3,
     "solution": false
    }
   },
   "outputs": [],
   "source": [
    "# Run this cell.\n",
    "fruit_data.head()"
   ]
  },
  {
   "cell_type": "markdown",
   "metadata": {
    "deletable": false,
    "editable": false,
    "nbgrader": {
     "cell_type": "markdown",
     "checksum": "f9ee2b2c07ef7c6287b9f6572c3d03fa",
     "grade": false,
     "grade_id": "cell-0f7b03f7a3ac6dcd",
     "locked": true,
     "schema_version": 3,
     "solution": false
    }
   },
   "source": [
    "**Question 1.0.1** Multiple Choice:\n",
    "<br> {points: 1}\n",
    "\n",
    "**Which of the columns should we treat as categorical variables?**\n",
    "\n",
    "A. Fruit label, width, fruit subtype\n",
    "\n",
    "B. Fruit name, color score, height\n",
    "\n",
    "C. Fruit label, fruit subtype, fruit name\n",
    "\n",
    "D. Color score, mass, width \n",
    "\n",
    "*Assign your answer to an object called `answer1_0_1`. Make sure the correct answer is an uppercase letter. Remember to surround your answer with quotation marks (e.g. `\"E\"`).*"
   ]
  },
  {
   "cell_type": "code",
   "execution_count": null,
   "metadata": {
    "deletable": false,
    "nbgrader": {
     "cell_type": "code",
     "checksum": "bc54c3da501074bd42e533c8aee5fffc",
     "grade": false,
     "grade_id": "cell-ebcca2f8fb4020ba",
     "locked": false,
     "schema_version": 3,
     "solution": true
    }
   },
   "outputs": [],
   "source": [
    "# your code here\n",
    "raise NotImplementedError"
   ]
  },
  {
   "cell_type": "code",
   "execution_count": null,
   "metadata": {
    "deletable": false,
    "editable": false,
    "max_height": 100,
    "nbgrader": {
     "cell_type": "code",
     "checksum": "7766e3d02a93e740bdfd496f315714c1",
     "grade": true,
     "grade_id": "cell-6e85a1cad95b4dd0",
     "locked": true,
     "points": 3,
     "schema_version": 3,
     "solution": false
    }
   },
   "outputs": [],
   "source": [
    "from hashlib import sha1\n",
    "assert sha1(str(type(answer1_0_1)).encode(\"utf-8\")+b\"6d732f793df60f86\").hexdigest() == \"45a78cb7c5ff5fcad6569ec3fc7163bcff1167f0\", \"type of answer1_0_1 is not str. answer1_0_1 should be an str\"\n",
    "assert sha1(str(len(answer1_0_1)).encode(\"utf-8\")+b\"6d732f793df60f86\").hexdigest() == \"6d9abebce94f2e135d540f419831444b1c5be76b\", \"length of answer1_0_1 is not correct\"\n",
    "assert sha1(str(answer1_0_1.lower()).encode(\"utf-8\")+b\"6d732f793df60f86\").hexdigest() == \"a9e55b2dd111b7aa0b5b35a48aa2ae4ccbacf1d9\", \"value of answer1_0_1 is not correct\"\n",
    "assert sha1(str(answer1_0_1).encode(\"utf-8\")+b\"6d732f793df60f86\").hexdigest() == \"bad2f5612d3cf707d510cc8f1946af4bf6512e29\", \"correct string value of answer1_0_1 but incorrect case of letters\"\n",
    "\n",
    "print('Success!')"
   ]
  },
  {
   "cell_type": "markdown",
   "metadata": {
    "deletable": false,
    "editable": false,
    "nbgrader": {
     "cell_type": "markdown",
     "checksum": "2c4017ec3409dc1ca0c6970cca47c5a1",
     "grade": false,
     "grade_id": "cell-e5f28e3e335b44a8",
     "locked": true,
     "schema_version": 3,
     "solution": false
    }
   },
   "source": [
    "Run the cell below, and find the nearest neighbour based on mass and width to the first observation just by looking at the scatterplot (the first observation has been circled for you)."
   ]
  },
  {
   "cell_type": "code",
   "execution_count": null,
   "metadata": {
    "deletable": false,
    "editable": false,
    "nbgrader": {
     "cell_type": "code",
     "checksum": "16f6eb0ab065c2e908f45b16580f1d92",
     "grade": false,
     "grade_id": "cell-6ec139e3cbbfbda5",
     "locked": true,
     "schema_version": 3,
     "solution": false
    }
   },
   "outputs": [],
   "source": [
    "# Run this cell.\n",
    "point1 = [192, 8.4]\n",
    "point2 = [180, 8]\n",
    "point44 = [194, 7.2]\n",
    "\n",
    "fruit_chart = (\n",
    "    alt.Chart(fruit_data)\n",
    "    .mark_point(size=15)\n",
    "    .encode(\n",
    "        x=alt.X(\"mass\", title=\"Mass (grams)\"),\n",
    "        y=alt.Y(\"width\", title=\"Width (cm)\", scale=alt.Scale(zero=False)),\n",
    "        color=alt.Color(\"fruit_name\", title=\"Name of the Fruit\"),\n",
    "    )\n",
    ")\n",
    "\n",
    "(\n",
    "    fruit_chart\n",
    "    + alt.Chart(pd.DataFrame([[192, 8.4]], columns=[\"x\", \"y\"]))\n",
    "    .mark_point(size=150)\n",
    "    .encode(x=\"x\", y=\"y\", color=alt.value(\"black\"))\n",
    "    + alt.Chart(pd.DataFrame([[1, 183, 8.5]], columns=[\"text\", \"x\", \"y\"]))\n",
    "    .mark_text(size=15)\n",
    "    .encode(x=\"x\", y=\"y\", text=\"text\", color=alt.value(\"black\"))\n",
    ").configure_axis(labelFontSize=20, titleFontSize=20).configure_legend(\n",
    "    titleFontSize=15, labelFontSize=15\n",
    ").properties(\n",
    "    width=400, height=300\n",
    ")"
   ]
  },
  {
   "cell_type": "markdown",
   "metadata": {
    "deletable": false,
    "editable": false,
    "nbgrader": {
     "cell_type": "markdown",
     "checksum": "61208d168ba029a7b5292081b94c681c",
     "grade": false,
     "grade_id": "cell-f547ed9293fd1e24",
     "locked": true,
     "schema_version": 3,
     "solution": false
    }
   },
   "source": [
    "**Question 1.1** Multiple Choice: \n",
    "<br> {points: 1}\n",
    "\n",
    "Based on the graph generated, what is the `fruit_name` of the closest data point to the one circled?\n",
    "\n",
    "A. apple\n",
    "\n",
    "B. lemon\n",
    "\n",
    "C. mandarin \n",
    "\n",
    "D. orange\n",
    "\n",
    "*Assign your answer to an object called `answer1_1`. Make sure the correct answer is an uppercase letter. Surround your answer with quotation marks (e.g. `\"F\"`).*"
   ]
  },
  {
   "cell_type": "code",
   "execution_count": null,
   "metadata": {
    "deletable": false,
    "nbgrader": {
     "cell_type": "code",
     "checksum": "5ce96c1776107b71ad009be94ec4d8d0",
     "grade": false,
     "grade_id": "cell-d400d1783f3c27d1",
     "locked": false,
     "schema_version": 3,
     "solution": true
    }
   },
   "outputs": [],
   "source": [
    "# your code here\n",
    "raise NotImplementedError"
   ]
  },
  {
   "cell_type": "code",
   "execution_count": null,
   "metadata": {
    "deletable": false,
    "editable": false,
    "max_height": 100,
    "nbgrader": {
     "cell_type": "code",
     "checksum": "5b6583c21aa446387d57e279d7e67f18",
     "grade": true,
     "grade_id": "cell-77e2fb5f0d68eadd",
     "locked": true,
     "points": 3,
     "schema_version": 3,
     "solution": false
    }
   },
   "outputs": [],
   "source": [
    "from hashlib import sha1\n",
    "assert sha1(str(type(answer1_1)).encode(\"utf-8\")+b\"0781edf709d6550b\").hexdigest() == \"b1bf47fe9abb56d6f8dfc5d62939c46dd3fae00b\", \"type of answer1_1 is not str. answer1_1 should be an str\"\n",
    "assert sha1(str(len(answer1_1)).encode(\"utf-8\")+b\"0781edf709d6550b\").hexdigest() == \"fa88fb5c25a8028ee793c3a15f0a0a7621658ba5\", \"length of answer1_1 is not correct\"\n",
    "assert sha1(str(answer1_1.lower()).encode(\"utf-8\")+b\"0781edf709d6550b\").hexdigest() == \"88cf147f1c2ed843536e047af7a53a44c28a6a9a\", \"value of answer1_1 is not correct\"\n",
    "assert sha1(str(answer1_1).encode(\"utf-8\")+b\"0781edf709d6550b\").hexdigest() == \"a69743f0650f345edcf6a62d3051af3009c32fc2\", \"correct string value of answer1_1 but incorrect case of letters\"\n",
    "\n",
    "print('Success!')"
   ]
  },
  {
   "cell_type": "markdown",
   "metadata": {
    "deletable": false,
    "editable": false,
    "nbgrader": {
     "cell_type": "markdown",
     "checksum": "64d979cb8782f1a7df7cd2e490c534fe",
     "grade": false,
     "grade_id": "cell-b75477de51f54fd0",
     "locked": true,
     "schema_version": 3,
     "solution": false
    }
   },
   "source": [
    "**Question 1.2**\n",
    "<br> {points: 1}\n",
    "\n",
    "Using mass and width, calculate the distance between the first observation and the second observation with the `euclidean_distances` function. \n",
    "\n",
    "We provide a scaffolding to get you started. \n",
    "\n",
    "*Assign your answer to an object called `fruit_dist_2`.*"
   ]
  },
  {
   "cell_type": "code",
   "execution_count": null,
   "metadata": {
    "deletable": false,
    "nbgrader": {
     "cell_type": "code",
     "checksum": "c678a8469b25685c416dd811690bd0e7",
     "grade": false,
     "grade_id": "cell-9f9074c18131c083",
     "locked": false,
     "schema_version": 3,
     "solution": true
    }
   },
   "outputs": [],
   "source": [
    "# ___ = euclidean_distances(\n",
    "#     fruit_data.loc[0:1, [\"mass\", ___]]\n",
    "# )\n",
    "\n",
    "# your code here\n",
    "raise NotImplementedError\n",
    "fruit_dist_2"
   ]
  },
  {
   "cell_type": "code",
   "execution_count": null,
   "metadata": {
    "deletable": false,
    "editable": false,
    "max_height": 100,
    "nbgrader": {
     "cell_type": "code",
     "checksum": "984ffba6ff88b214e89ce3f7c7602f6f",
     "grade": true,
     "grade_id": "cell-482c6171cb7cc18e",
     "locked": true,
     "points": 1,
     "schema_version": 3,
     "solution": false
    }
   },
   "outputs": [],
   "source": [
    "from hashlib import sha1\n",
    "assert str(type(fruit_dist_2)) == \"<class 'numpy.ndarray'>\", \"type of fruit_dist_2 is not correct\"\n",
    "assert str(fruit_dist_2) == \"[[ 0.         12.00666482]\\n [12.00666482  0.        ]]\", \"value of fruit_dist_2 is not correct\"\n",
    "\n",
    "print('Success!')"
   ]
  },
  {
   "cell_type": "markdown",
   "metadata": {
    "deletable": false,
    "editable": false,
    "nbgrader": {
     "cell_type": "markdown",
     "checksum": "5ca1181342c1373a89545e0bdc6892e6",
     "grade": false,
     "grade_id": "cell-9545195608452133",
     "locked": true,
     "schema_version": 3,
     "solution": false
    }
   },
   "source": [
    "**Question 1.3**\n",
    "<br> {points: 1}\n",
    "\n",
    "Calculate the distance between the first and the the 44th observation in the fruit dataset using the mass and width variables. \n",
    "\n",
    "*Hint: remember that in Python, index starts from 0, so the 44th observation in Pandas Dataframe corresponds to index 43*\n",
    "\n",
    "*Assign your answer to an object called `fruit_dist_44`.*"
   ]
  },
  {
   "cell_type": "code",
   "execution_count": null,
   "metadata": {
    "deletable": false,
    "nbgrader": {
     "cell_type": "code",
     "checksum": "20a24cb46a7c94d2ffc6c637a1187c97",
     "grade": false,
     "grade_id": "cell-033f74d28e3cc01f",
     "locked": false,
     "schema_version": 3,
     "solution": true
    }
   },
   "outputs": [],
   "source": [
    "# your code here\n",
    "raise NotImplementedError\n",
    "fruit_dist_44"
   ]
  },
  {
   "cell_type": "code",
   "execution_count": null,
   "metadata": {
    "deletable": false,
    "editable": false,
    "max_height": 100,
    "nbgrader": {
     "cell_type": "code",
     "checksum": "8c58787a9b9a833cb686ce5f03c0931a",
     "grade": true,
     "grade_id": "cell-3c7393c1ea156920",
     "locked": true,
     "points": 1,
     "schema_version": 3,
     "solution": false
    }
   },
   "outputs": [],
   "source": [
    "from hashlib import sha1\n",
    "assert sha1(str(type(fruit_dist_44)).encode(\"utf-8\")+b\"5a253c87c5a9d447\").hexdigest() == \"0868878f9f32e6a450229903e9d416c10cf66699\", \"type of fruit_dist_44 is not correct\"\n",
    "assert sha1(str(fruit_dist_44).encode(\"utf-8\")+b\"5a253c87c5a9d447\").hexdigest() == \"f45cfaf9e84b423072d68cd71089d0c0d3c96b1f\", \"value of fruit_dist_44 is not correct\"\n",
    "\n",
    "print('Success!')"
   ]
  },
  {
   "cell_type": "markdown",
   "metadata": {
    "deletable": false,
    "editable": false,
    "nbgrader": {
     "cell_type": "markdown",
     "checksum": "a4300e098edde9b3fd21ecbf665d79e1",
     "grade": false,
     "grade_id": "cell-ac12c3dcbae32920",
     "locked": true,
     "schema_version": 3,
     "solution": false,
     "task": false
    }
   },
   "source": [
    "Let's circle these three observations on the plot from earlier.\n"
   ]
  },
  {
   "cell_type": "code",
   "execution_count": null,
   "metadata": {
    "deletable": false,
    "editable": false,
    "nbgrader": {
     "cell_type": "code",
     "checksum": "136340c59cf24953f815f5e50f9cd0f3",
     "grade": false,
     "grade_id": "cell-f11023e6386b3027",
     "locked": true,
     "schema_version": 3,
     "solution": false
    }
   },
   "outputs": [],
   "source": [
    "# Run this cell.\n",
    "point1 = [192, 8.4]\n",
    "point2 = [180, 8]\n",
    "point44 = [194, 7.2]\n",
    "\n",
    "(\n",
    "    fruit_chart\n",
    "    + alt.Chart(\n",
    "        pd.DataFrame([[192, 8.4], [180, 8.0], [193.5, 7.2]], columns=[\"x\", \"y\"])\n",
    "    )\n",
    "    .mark_point(size=150)\n",
    "    .encode(x=\"x\", y=\"y\", color=alt.value(\"black\"))\n",
    "    + alt.Chart(\n",
    "        pd.DataFrame(\n",
    "            [[1, 183, 8.5], [2, 169, 8.1], [44, 204, 7.1]], columns=[\"text\", \"x\", \"y\"]\n",
    "        )\n",
    "    )\n",
    "    .mark_text(size=15)\n",
    "    .encode(x=\"x\", y=\"y\", text=\"text\", color=alt.value(\"black\"))\n",
    ").configure_axis(labelFontSize=20, titleFontSize=20).configure_legend(\n",
    "    titleFontSize=15, labelFontSize=15\n",
    ").properties(width=400, height=300)"
   ]
  },
  {
   "cell_type": "markdown",
   "metadata": {
    "deletable": false,
    "editable": false,
    "nbgrader": {
     "cell_type": "markdown",
     "checksum": "344a34e903ff5696d25b5e7b93373a98",
     "grade": false,
     "grade_id": "cell-e6f7e928ee6f578a",
     "locked": true,
     "schema_version": 3,
     "solution": false,
     "task": false
    }
   },
   "source": [
    "What do you notice about your answers from **Question 1.2 & 1.3** that you just calculated? Is it what you would expect given the scatter plot above? Why or why not? Discuss with your neighbour. \n",
    "\n",
    "*Hint: Look at where the observations are on the scatterplot in the cell above this question, and what might happen if we changed grams into kilograms to measure the mass?*\n"
   ]
  },
  {
   "cell_type": "markdown",
   "metadata": {
    "deletable": false,
    "editable": false,
    "nbgrader": {
     "cell_type": "markdown",
     "checksum": "0de5001f1cb9af1cc813b5d97d009062",
     "grade": false,
     "grade_id": "cell-8a6b2cef00422867",
     "locked": true,
     "schema_version": 3,
     "solution": false,
     "task": false
    }
   },
   "source": [
    "**Question 1.4** Multiple Choice:\n",
    "<br> {points: 1}\n",
    "\n",
    "The distance between the first and second observation is 12.01 and the distance between the first and 44th observation is 2.33. By the formula, observation 1 and 44 are closer, however, if we look at the scatterplot the distance of the first observation to the second observation appears closer than to the 44th observation. \n",
    "\n",
    "Which of the following statements is correct?\n",
    "\n",
    "A. A difference of 12 g in mass between observation 1 and 2 is large compared to a difference of 1.2 cm in width between observation 1 and 44. Consequently, mass will drive the classification results, and width will have less of an effect. \n",
    "\n",
    "B. If we measured mass in kilograms, then we’d get different nearest neighbours.\n",
    "\n",
    "C. We should standardize the data so that all variables will be on a comparable scale. \n",
    "\n",
    "D. All of the above. \n",
    "\n",
    "*Assign your answer to an object called `answer1_4`. Make sure the correct answer is an uppercase letter. Surround your answer with quotation marks (e.g. `\"F\"`).*"
   ]
  },
  {
   "cell_type": "code",
   "execution_count": null,
   "metadata": {
    "deletable": false,
    "nbgrader": {
     "cell_type": "code",
     "checksum": "0c022b374346524d74711f73ff75c082",
     "grade": false,
     "grade_id": "cell-f3e2ef9e64e39b31",
     "locked": false,
     "schema_version": 3,
     "solution": true,
     "task": false
    }
   },
   "outputs": [],
   "source": [
    "# your code here\n",
    "raise NotImplementedError"
   ]
  },
  {
   "cell_type": "code",
   "execution_count": null,
   "metadata": {
    "deletable": false,
    "editable": false,
    "max_height": 100,
    "nbgrader": {
     "cell_type": "code",
     "checksum": "76ea11afd4769e899b9f0c0616f4b03b",
     "grade": true,
     "grade_id": "cell-3fc3cbcfc9af77d2",
     "locked": true,
     "points": 3,
     "schema_version": 3,
     "solution": false,
     "task": false
    }
   },
   "outputs": [],
   "source": [
    "from hashlib import sha1\n",
    "assert sha1(str(type(answer1_4)).encode(\"utf-8\")+b\"3592d870fb3df059\").hexdigest() == \"be2bfab502f9eb6570070b5ba47505e1b8fdbfd9\", \"type of answer1_4 is not str. answer1_4 should be an str\"\n",
    "assert sha1(str(len(answer1_4)).encode(\"utf-8\")+b\"3592d870fb3df059\").hexdigest() == \"8eada8ebfeed63cd0dee1d9bfb77308ab821c206\", \"length of answer1_4 is not correct\"\n",
    "assert sha1(str(answer1_4.lower()).encode(\"utf-8\")+b\"3592d870fb3df059\").hexdigest() == \"61776c5aa7adca3656ea04aaee659914e55ea515\", \"value of answer1_4 is not correct\"\n",
    "assert sha1(str(answer1_4).encode(\"utf-8\")+b\"3592d870fb3df059\").hexdigest() == \"65a6e1e05b568caa5f02c37b01bc2eb7b60037ef\", \"correct string value of answer1_4 but incorrect case of letters\"\n",
    "\n",
    "print('Success!')"
   ]
  },
  {
   "cell_type": "markdown",
   "metadata": {
    "deletable": false,
    "editable": false,
    "nbgrader": {
     "cell_type": "markdown",
     "checksum": "793293f3cbfd9254e3fb425b94a92759",
     "grade": false,
     "grade_id": "cell-28a929022410e3d9",
     "locked": true,
     "schema_version": 3,
     "solution": false
    }
   },
   "source": [
    "**Question 1.5**\n",
    "<br> {points: 1}\n",
    "\n",
    "Let's create a `preprocessor` to *standardize* (i.e., center and scale) all of the variables in the fruit dataset. Centering will make sure that every variable has an average of 0, and scaling will make sure that every variable has standard deviation of 1. We will use the `StandardScaler` in the `preprocessor`. Then `fit_transform` the preprocessor so that we can examine the output.\n",
    "\n",
    "Fit and transform your preprocessor with predictors `mass`, `width`, `height`, and `color_score`. For other columns, we use `passthrough` in the preprocessor.\n",
    "\n",
    "Name the preprocessor `fruit_data_preprocessor`, and name the preprocessed data `fruit_data_scaled`.\n",
    "\n",
    "*Note that we would save the preprocessed data into a dataframe for upcoming exercises.*"
   ]
  },
  {
   "cell_type": "code",
   "execution_count": null,
   "metadata": {
    "deletable": false,
    "nbgrader": {
     "cell_type": "code",
     "checksum": "b1ecdb348f7ae38c4003e86350020818",
     "grade": false,
     "grade_id": "cell-f5b23199250ffc04",
     "locked": false,
     "schema_version": 3,
     "solution": true
    }
   },
   "outputs": [],
   "source": [
    "# ___ = ___(\n",
    "#     (\n",
    "#         \"passthrough\",\n",
    "#         [\n",
    "#             ___,\n",
    "#             ___,\n",
    "#             ___,\n",
    "#         ],\n",
    "#     ),\n",
    "#     (StandardScaler(), [___, ___, ___, ___]),\n",
    "# )\n",
    "# ___ = pd.DataFrame(\n",
    "#     fruit_data_preprocessor.___(___),\n",
    "#     columns=[\n",
    "#         \"fruit_label\",\n",
    "#         \"fruit_name\",\n",
    "#         \"fruit_subtype\",\n",
    "#         \"mass\",\n",
    "#         \"width\",\n",
    "#         \"height\",\n",
    "#         \"color_score\",\n",
    "#     ],\n",
    "# )\n",
    "\n",
    "# your code here\n",
    "raise NotImplementedError\n",
    "fruit_data_scaled.head()"
   ]
  },
  {
   "cell_type": "code",
   "execution_count": null,
   "metadata": {
    "deletable": false,
    "editable": false,
    "max_height": 100,
    "nbgrader": {
     "cell_type": "code",
     "checksum": "de960213a5c7e77daa543a63a7dfec82",
     "grade": true,
     "grade_id": "cell-2800ef3121bbb6d8",
     "locked": true,
     "points": 3,
     "schema_version": 3,
     "solution": false,
     "task": false
    }
   },
   "outputs": [],
   "source": [
    "from hashlib import sha1\n",
    "assert sha1(str(type(fruit_data_scaled is None)).encode(\"utf-8\")+b\"8bae2b657ab2b05b\").hexdigest() == \"63e10969cd0f405c4aee5ffc9a5ca4c44c8c9ba3\", \"type of fruit_data_scaled is None is not bool. fruit_data_scaled is None should be a bool\"\n",
    "assert sha1(str(fruit_data_scaled is None).encode(\"utf-8\")+b\"8bae2b657ab2b05b\").hexdigest() == \"cd37ee211a08ca65eaf42e7e44ff994db3d2f004\", \"boolean value of fruit_data_scaled is None is not correct\"\n",
    "\n",
    "assert sha1(str(type(fruit_data_scaled.shape)).encode(\"utf-8\")+b\"ac72f3be9f0d64fa\").hexdigest() == \"f08fe0899e90b9c30260ed585eb886394b88e10c\", \"type of fruit_data_scaled.shape is not tuple. fruit_data_scaled.shape should be a tuple\"\n",
    "assert sha1(str(len(fruit_data_scaled.shape)).encode(\"utf-8\")+b\"ac72f3be9f0d64fa\").hexdigest() == \"416a2b6b161619b45aa5c5fb7de4b05f65a86436\", \"length of fruit_data_scaled.shape is not correct\"\n",
    "assert sha1(str(sorted(map(str, fruit_data_scaled.shape))).encode(\"utf-8\")+b\"ac72f3be9f0d64fa\").hexdigest() == \"c1a6e6d951f0feaaaebfef75258ce5b5a23e49eb\", \"values of fruit_data_scaled.shape are not correct\"\n",
    "assert sha1(str(fruit_data_scaled.shape).encode(\"utf-8\")+b\"ac72f3be9f0d64fa\").hexdigest() == \"8471f6a8a6ae496d2660548a9eef1c1152b1dec3\", \"order of elements of fruit_data_scaled.shape is not correct\"\n",
    "\n",
    "assert sha1(str(type(fruit_data_scaled.fruit_name.dtype)).encode(\"utf-8\")+b\"c78bf5438950f73e\").hexdigest() == \"9da722098f61b619d1cbe7a778029f1292ad2799\", \"type of fruit_data_scaled.fruit_name.dtype is not correct\"\n",
    "assert sha1(str(fruit_data_scaled.fruit_name.dtype).encode(\"utf-8\")+b\"c78bf5438950f73e\").hexdigest() == \"9a9993631efdb37bb1eda6e65eacca8833306a61\", \"value of fruit_data_scaled.fruit_name.dtype is not correct\"\n",
    "\n",
    "assert sha1(str(type(np.mean(fruit_data_scaled.mass.dropna()))).encode(\"utf-8\")+b\"0f9fb26701d359d8\").hexdigest() == \"fd1cd55056166a8ea98aae9113c7593158579e7c\", \"type of np.mean(fruit_data_scaled.mass.dropna()) is not correct\"\n",
    "assert sha1(str(np.mean(fruit_data_scaled.mass.dropna())).encode(\"utf-8\")+b\"0f9fb26701d359d8\").hexdigest() == \"9e73c9307979b00671c50b4b482b06fd3e51cbd5\", \"value of np.mean(fruit_data_scaled.mass.dropna()) is not correct\"\n",
    "\n",
    "assert sha1(str(type(np.mean(fruit_data_scaled.height.dropna()))).encode(\"utf-8\")+b\"8d0e6a59500e58eb\").hexdigest() == \"994dbba05de88d2dd73f47c09e890423ccc80eee\", \"type of np.mean(fruit_data_scaled.height.dropna()) is not correct\"\n",
    "assert sha1(str(np.mean(fruit_data_scaled.height.dropna())).encode(\"utf-8\")+b\"8d0e6a59500e58eb\").hexdigest() == \"8833f854a3e292e371fb30d70aeccf75181c751e\", \"value of np.mean(fruit_data_scaled.height.dropna()) is not correct\"\n",
    "\n",
    "assert sha1(str(type(np.mean(fruit_data_scaled.width.dropna()))).encode(\"utf-8\")+b\"b002a24b12f12fe0\").hexdigest() == \"45f8a0043c1c210433a11cfaa87d06813b53f8b4\", \"type of np.mean(fruit_data_scaled.width.dropna()) is not correct\"\n",
    "assert sha1(str(np.mean(fruit_data_scaled.width.dropna())).encode(\"utf-8\")+b\"b002a24b12f12fe0\").hexdigest() == \"03c3028f99b430fbea07705e5dfc0cca991ca6a5\", \"value of np.mean(fruit_data_scaled.width.dropna()) is not correct\"\n",
    "\n",
    "assert sha1(str(type(np.mean(fruit_data_scaled.color_score.dropna()))).encode(\"utf-8\")+b\"e83fb670fbb4026e\").hexdigest() == \"fe19a4f7a8632b7b13c81fb8e3e175d633dbe09e\", \"type of np.mean(fruit_data_scaled.color_score.dropna()) is not correct\"\n",
    "assert sha1(str(np.mean(fruit_data_scaled.color_score.dropna())).encode(\"utf-8\")+b\"e83fb670fbb4026e\").hexdigest() == \"1229ea910b41a2b2303138bf23ea8cef24c404ce\", \"value of np.mean(fruit_data_scaled.color_score.dropna()) is not correct\"\n",
    "\n",
    "assert sha1(str(type(np.std(fruit_data_scaled.mass.dropna()))).encode(\"utf-8\")+b\"b5d9318608624271\").hexdigest() == \"0b0836338f74739a67a0b6d011bc80a739c2e8e1\", \"type of np.std(fruit_data_scaled.mass.dropna()) is not correct\"\n",
    "assert sha1(str(np.std(fruit_data_scaled.mass.dropna())).encode(\"utf-8\")+b\"b5d9318608624271\").hexdigest() == \"df180d6abd7c462a1daa8ff05a4e1fae8eba951c\", \"value of np.std(fruit_data_scaled.mass.dropna()) is not correct\"\n",
    "\n",
    "assert sha1(str(type(np.std(fruit_data_scaled.height.dropna()))).encode(\"utf-8\")+b\"104af07c7bab237b\").hexdigest() == \"0ad652ec51010523d5c7069b99f4b022a4d1f1be\", \"type of np.std(fruit_data_scaled.height.dropna()) is not correct\"\n",
    "assert sha1(str(np.std(fruit_data_scaled.height.dropna())).encode(\"utf-8\")+b\"104af07c7bab237b\").hexdigest() == \"084b8411572633531d2f3a5e8c3e0350421cc02f\", \"value of np.std(fruit_data_scaled.height.dropna()) is not correct\"\n",
    "\n",
    "assert sha1(str(type(np.std(fruit_data_scaled.width.dropna()))).encode(\"utf-8\")+b\"0b960402c1535b69\").hexdigest() == \"ed7427d81c9dbdb2160ec16c81e38838c2f663c5\", \"type of np.std(fruit_data_scaled.width.dropna()) is not correct\"\n",
    "assert sha1(str(np.std(fruit_data_scaled.width.dropna())).encode(\"utf-8\")+b\"0b960402c1535b69\").hexdigest() == \"d2a6a724b8939ae23005d6b46670ce4af78afa40\", \"value of np.std(fruit_data_scaled.width.dropna()) is not correct\"\n",
    "\n",
    "assert sha1(str(type(np.std(fruit_data_scaled.color_score.dropna()))).encode(\"utf-8\")+b\"6bfc459dbf3d0ef8\").hexdigest() == \"bf9b50c934a85544c2fba49c2cfbeb106493336d\", \"type of np.std(fruit_data_scaled.color_score.dropna()) is not correct\"\n",
    "assert sha1(str(np.std(fruit_data_scaled.color_score.dropna())).encode(\"utf-8\")+b\"6bfc459dbf3d0ef8\").hexdigest() == \"13512d7e5632a431a3aed025783af1d1ff25ab2b\", \"value of np.std(fruit_data_scaled.color_score.dropna()) is not correct\"\n",
    "\n",
    "assert sha1(str(type(fruit_data_preprocessor is None)).encode(\"utf-8\")+b\"209a3bad4c49b981\").hexdigest() == \"48c7bc71dafbde453388fc9cfa8995247c08698f\", \"type of fruit_data_preprocessor is None is not bool. fruit_data_preprocessor is None should be a bool\"\n",
    "assert sha1(str(fruit_data_preprocessor is None).encode(\"utf-8\")+b\"209a3bad4c49b981\").hexdigest() == \"622a7e785e42d5864666c9378ed4b5cb8d454695\", \"boolean value of fruit_data_preprocessor is None is not correct\"\n",
    "\n",
    "assert sha1(str(type(fruit_data_preprocessor.transformers_[1][2])).encode(\"utf-8\")+b\"8d747fc63ab19d79\").hexdigest() == \"f75d4d502b96d1a5fd988ed2b6fd691f67c2e7d8\", \"type of fruit_data_preprocessor.transformers_[1][2] is not list. fruit_data_preprocessor.transformers_[1][2] should be a list\"\n",
    "assert sha1(str(len(fruit_data_preprocessor.transformers_[1][2])).encode(\"utf-8\")+b\"8d747fc63ab19d79\").hexdigest() == \"154c3660ca141c06939b948549679750bc3d303c\", \"length of fruit_data_preprocessor.transformers_[1][2] is not correct\"\n",
    "assert sha1(str(sorted(map(str, fruit_data_preprocessor.transformers_[1][2]))).encode(\"utf-8\")+b\"8d747fc63ab19d79\").hexdigest() == \"756553ee643d0766f612ef66a4be1433bdc5e9db\", \"values of fruit_data_preprocessor.transformers_[1][2] are not correct\"\n",
    "assert sha1(str(fruit_data_preprocessor.transformers_[1][2]).encode(\"utf-8\")+b\"8d747fc63ab19d79\").hexdigest() == \"fee36da06ced1231c40039a8f0fa2c146ab00cb0\", \"order of elements of fruit_data_preprocessor.transformers_[1][2] is not correct\"\n",
    "\n",
    "print('Success!')"
   ]
  },
  {
   "cell_type": "markdown",
   "metadata": {
    "deletable": false,
    "editable": false,
    "nbgrader": {
     "cell_type": "markdown",
     "checksum": "9281822ddb9e6e2704a4a987286932f1",
     "grade": false,
     "grade_id": "cell-dceb095c855aeff4",
     "locked": true,
     "schema_version": 3,
     "solution": false
    }
   },
   "source": [
    "**Question 1.6**\n",
    "<br> {points: 1}\n",
    "\n",
    "Let's repeat **Question 1.2 and 1.3** with the scaled variables:\n",
    "\n",
    "- calculate the distance with the scaled mass and width variables between observations 1 and 2\n",
    "- calculate the distances with the scaled mass and width variables between observations 1 and 44 \n",
    "\n",
    "After you do this, think about how these distances compared to the distances you computed in **Question 1.2 and 1.3** for the same points.\n",
    "\n",
    "*Assign your answers to objects called `distance_2` and `distance_44` respectively.*"
   ]
  },
  {
   "cell_type": "code",
   "execution_count": null,
   "metadata": {
    "deletable": false,
    "nbgrader": {
     "cell_type": "code",
     "checksum": "e6e0a95d93b971a8d0d7e1ebf13a823a",
     "grade": false,
     "grade_id": "cell-e70ccce2b005a539",
     "locked": false,
     "schema_version": 3,
     "solution": true
    }
   },
   "outputs": [],
   "source": [
    "# your code here\n",
    "raise NotImplementedError\n",
    "print(distance_2)\n",
    "print(distance_44)"
   ]
  },
  {
   "cell_type": "code",
   "execution_count": null,
   "metadata": {
    "deletable": false,
    "editable": false,
    "max_height": 100,
    "nbgrader": {
     "cell_type": "code",
     "checksum": "5300a4eae3a510d51d30bc3606e47556",
     "grade": true,
     "grade_id": "cell-7c33c6c2fb375ea4",
     "locked": true,
     "points": 1,
     "schema_version": 3,
     "solution": false
    }
   },
   "outputs": [],
   "source": [
    "from hashlib import sha1\n",
    "assert sha1(str(type(distance_2 is None)).encode(\"utf-8\")+b\"af48b7c63917e5a9\").hexdigest() == \"15c4ac7742a7cd66de6ebd32d82fcf3181cf7de3\", \"type of distance_2 is None is not bool. distance_2 is None should be a bool\"\n",
    "assert sha1(str(distance_2 is None).encode(\"utf-8\")+b\"af48b7c63917e5a9\").hexdigest() == \"a062be0e9450be8edb38d536ea5fd8208b250e23\", \"boolean value of distance_2 is None is not correct\"\n",
    "\n",
    "assert sha1(str(type(distance_44 is None)).encode(\"utf-8\")+b\"c1e6f3e1e40fd77d\").hexdigest() == \"3e9aacb71f53ad29afc0225e9b43fa8df1341706\", \"type of distance_44 is None is not bool. distance_44 is None should be a bool\"\n",
    "assert sha1(str(distance_44 is None).encode(\"utf-8\")+b\"c1e6f3e1e40fd77d\").hexdigest() == \"6cc94ce85800bf955ee3045914683736abec22c8\", \"boolean value of distance_44 is None is not correct\"\n",
    "\n",
    "assert sha1(str(type(distance_2)).encode(\"utf-8\")+b\"5906162c68d69397\").hexdigest() == \"50bdab37a3ef2285459e645c2a303ee0612ad3ac\", \"type of type(distance_2) is not correct\"\n",
    "\n",
    "assert sha1(str(type(distance_44)).encode(\"utf-8\")+b\"97abe283234cd926\").hexdigest() == \"4cd47e5ce28d679f809645db119d7ef458cc4122\", \"type of type(distance_44) is not correct\"\n",
    "\n",
    "assert sha1(str(type(distance_2)).encode(\"utf-8\")+b\"6f4d3bf4200b8aa3\").hexdigest() == \"b7865d0668fc39234c10b4db1ddb43bdd6a4bab4\", \"type of distance_2 is not correct\"\n",
    "assert sha1(str(distance_2).encode(\"utf-8\")+b\"6f4d3bf4200b8aa3\").hexdigest() == \"f9d209ad60af53ebfb7404139fa0c3e7a590c7ad\", \"value of distance_2 is not correct\"\n",
    "\n",
    "assert sha1(str(type(distance_44)).encode(\"utf-8\")+b\"df0fef3b4d8156d9\").hexdigest() == \"01d025676cee99bd2ff8d5aed8de378abbcd8ba4\", \"type of distance_44 is not correct\"\n",
    "assert sha1(str(distance_44).encode(\"utf-8\")+b\"df0fef3b4d8156d9\").hexdigest() == \"59551a0666b1bcd8708c4310832b70341ed16415\", \"value of distance_44 is not correct\"\n",
    "\n",
    "print('Success!')"
   ]
  },
  {
   "cell_type": "markdown",
   "metadata": {
    "deletable": false,
    "editable": false,
    "nbgrader": {
     "cell_type": "markdown",
     "checksum": "4b78631b3c21e273a1a7704605ded36a",
     "grade": false,
     "grade_id": "cell-309b3be84c7e4267",
     "locked": true,
     "schema_version": 3,
     "solution": false
    }
   },
   "source": [
    "**Question 1.7**\n",
    "<br> {points: 1}\n",
    "\n",
    "Make a scatterplot of scaled mass on the horizontal axis and scaled color score on the vertical axis. Color the points by fruit name. \n",
    "\n",
    "*Assign your plot to an object called `fruit_plot`. Make sure to do all the things to make an effective visualization.*"
   ]
  },
  {
   "cell_type": "code",
   "execution_count": null,
   "metadata": {
    "deletable": false,
    "nbgrader": {
     "cell_type": "code",
     "checksum": "ec6079395279aa92fac8dccdcd3cc8e3",
     "grade": false,
     "grade_id": "cell-7aea4aced8566c09",
     "locked": false,
     "schema_version": 3,
     "solution": true
    }
   },
   "outputs": [],
   "source": [
    "# your code here\n",
    "raise NotImplementedError\n",
    "fruit_plot"
   ]
  },
  {
   "cell_type": "code",
   "execution_count": null,
   "metadata": {
    "deletable": false,
    "editable": false,
    "max_height": 100,
    "nbgrader": {
     "cell_type": "code",
     "checksum": "9ddbc2175c7e752c99be8c2232cf4427",
     "grade": true,
     "grade_id": "cell-330397b4b46fdd07",
     "locked": true,
     "points": 1,
     "schema_version": 3,
     "solution": false
    }
   },
   "outputs": [],
   "source": [
    "from hashlib import sha1\n",
    "assert sha1(str(type(fruit_plot is None)).encode(\"utf-8\")+b\"75047ef440b37ad1\").hexdigest() == \"f441dcffdc3b23a3e581f6845f8ae70ac8b336cb\", \"type of fruit_plot is None is not bool. fruit_plot is None should be a bool\"\n",
    "assert sha1(str(fruit_plot is None).encode(\"utf-8\")+b\"75047ef440b37ad1\").hexdigest() == \"e4339c89b9a49473bc7869b58bca99131a01bad9\", \"boolean value of fruit_plot is None is not correct\"\n",
    "\n",
    "assert sha1(str(type(fruit_plot.encoding.x.field)).encode(\"utf-8\")+b\"ee223293dca6ddf9\").hexdigest() == \"2f3df132cd2a32938207678014296f6cab6f6ae0\", \"type of fruit_plot.encoding.x.field is not str. fruit_plot.encoding.x.field should be an str\"\n",
    "assert sha1(str(len(fruit_plot.encoding.x.field)).encode(\"utf-8\")+b\"ee223293dca6ddf9\").hexdigest() == \"65edff7c2d5238263eabe2d21fd416202cbdd5b6\", \"length of fruit_plot.encoding.x.field is not correct\"\n",
    "assert sha1(str(fruit_plot.encoding.x.field.lower()).encode(\"utf-8\")+b\"ee223293dca6ddf9\").hexdigest() == \"708da8f4f43d70ed0edfa8c2224a4518fbe999d6\", \"value of fruit_plot.encoding.x.field is not correct\"\n",
    "assert sha1(str(fruit_plot.encoding.x.field).encode(\"utf-8\")+b\"ee223293dca6ddf9\").hexdigest() == \"708da8f4f43d70ed0edfa8c2224a4518fbe999d6\", \"correct string value of fruit_plot.encoding.x.field but incorrect case of letters\"\n",
    "\n",
    "assert sha1(str(type(fruit_plot.encoding.y.field)).encode(\"utf-8\")+b\"a648111d62e037a0\").hexdigest() == \"4f46007db9238dcd8571f2957e405143b884c166\", \"type of fruit_plot.encoding.y.field is not str. fruit_plot.encoding.y.field should be an str\"\n",
    "assert sha1(str(len(fruit_plot.encoding.y.field)).encode(\"utf-8\")+b\"a648111d62e037a0\").hexdigest() == \"9013fb9bfe2a5ca359edba04a21c7bcfb432de5d\", \"length of fruit_plot.encoding.y.field is not correct\"\n",
    "assert sha1(str(fruit_plot.encoding.y.field.lower()).encode(\"utf-8\")+b\"a648111d62e037a0\").hexdigest() == \"f8ec4a6b9d93fc4fef3a217ca1713d9a6cd12286\", \"value of fruit_plot.encoding.y.field is not correct\"\n",
    "assert sha1(str(fruit_plot.encoding.y.field).encode(\"utf-8\")+b\"a648111d62e037a0\").hexdigest() == \"f8ec4a6b9d93fc4fef3a217ca1713d9a6cd12286\", \"correct string value of fruit_plot.encoding.y.field but incorrect case of letters\"\n",
    "\n",
    "assert sha1(str(type(fruit_plot.encoding.color.field)).encode(\"utf-8\")+b\"16a494d0558e6061\").hexdigest() == \"fd4df5f99c4b27a4ba7bc9187aeaad43be90fb69\", \"type of fruit_plot.encoding.color.field is not str. fruit_plot.encoding.color.field should be an str\"\n",
    "assert sha1(str(len(fruit_plot.encoding.color.field)).encode(\"utf-8\")+b\"16a494d0558e6061\").hexdigest() == \"b7793015f8a77483e35e697c229538a49bb50f44\", \"length of fruit_plot.encoding.color.field is not correct\"\n",
    "assert sha1(str(fruit_plot.encoding.color.field.lower()).encode(\"utf-8\")+b\"16a494d0558e6061\").hexdigest() == \"f6f24873d3843051bf724c1e2ae958ca839b6fe6\", \"value of fruit_plot.encoding.color.field is not correct\"\n",
    "assert sha1(str(fruit_plot.encoding.color.field).encode(\"utf-8\")+b\"16a494d0558e6061\").hexdigest() == \"f6f24873d3843051bf724c1e2ae958ca839b6fe6\", \"correct string value of fruit_plot.encoding.color.field but incorrect case of letters\"\n",
    "\n",
    "assert sha1(str(type(fruit_plot.mark)).encode(\"utf-8\")+b\"d4780c6be34e207d\").hexdigest() == \"e137e650878d3e6d782921590493244209a8c9d3\", \"type of fruit_plot.mark is not str. fruit_plot.mark should be an str\"\n",
    "assert sha1(str(len(fruit_plot.mark)).encode(\"utf-8\")+b\"d4780c6be34e207d\").hexdigest() == \"82fb8e0cbce9be28b41ef5487ae27021cd1388f0\", \"length of fruit_plot.mark is not correct\"\n",
    "assert sha1(str(fruit_plot.mark.lower()).encode(\"utf-8\")+b\"d4780c6be34e207d\").hexdigest() == \"1ff4458cc6294806d6cd3f46ab7c82cc1c2c4492\", \"value of fruit_plot.mark is not correct\"\n",
    "assert sha1(str(fruit_plot.mark).encode(\"utf-8\")+b\"d4780c6be34e207d\").hexdigest() == \"1ff4458cc6294806d6cd3f46ab7c82cc1c2c4492\", \"correct string value of fruit_plot.mark but incorrect case of letters\"\n",
    "\n",
    "assert sha1(str(type(fruit_plot.encoding.x.title != fruit_plot.encoding.x.field)).encode(\"utf-8\")+b\"a121b621eb95244e\").hexdigest() == \"63ac1108325fddf2dd09e500c532f4a530269ae6\", \"type of fruit_plot.encoding.x.title != fruit_plot.encoding.x.field is not bool. fruit_plot.encoding.x.title != fruit_plot.encoding.x.field should be a bool\"\n",
    "assert sha1(str(fruit_plot.encoding.x.title != fruit_plot.encoding.x.field).encode(\"utf-8\")+b\"a121b621eb95244e\").hexdigest() == \"7adee825267515d27421132882971cfd7228085c\", \"boolean value of fruit_plot.encoding.x.title != fruit_plot.encoding.x.field is not correct\"\n",
    "\n",
    "assert sha1(str(type(fruit_plot.encoding.y.title != fruit_plot.encoding.y.field)).encode(\"utf-8\")+b\"957ae86b1df4f876\").hexdigest() == \"bf309aba949f8bb39792cf607d5018811d6c6ed1\", \"type of fruit_plot.encoding.y.title != fruit_plot.encoding.y.field is not bool. fruit_plot.encoding.y.title != fruit_plot.encoding.y.field should be a bool\"\n",
    "assert sha1(str(fruit_plot.encoding.y.title != fruit_plot.encoding.y.field).encode(\"utf-8\")+b\"957ae86b1df4f876\").hexdigest() == \"8cff8c7fd968c478f1a54c8c31a4f17967ffcf01\", \"boolean value of fruit_plot.encoding.y.title != fruit_plot.encoding.y.field is not correct\"\n",
    "\n",
    "assert sha1(str(type(fruit_plot.encoding.color.title != fruit_plot.encoding.color.field)).encode(\"utf-8\")+b\"7040079b43c16a6f\").hexdigest() == \"86e38eb1e34cc8b367b814c38c22a3e7a711830e\", \"type of fruit_plot.encoding.color.title != fruit_plot.encoding.color.field is not bool. fruit_plot.encoding.color.title != fruit_plot.encoding.color.field should be a bool\"\n",
    "assert sha1(str(fruit_plot.encoding.color.title != fruit_plot.encoding.color.field).encode(\"utf-8\")+b\"7040079b43c16a6f\").hexdigest() == \"1c5726c3dbc3097a110a3288afa8231c0df42f51\", \"boolean value of fruit_plot.encoding.color.title != fruit_plot.encoding.color.field is not correct\"\n",
    "\n",
    "print('Success!')"
   ]
  },
  {
   "cell_type": "markdown",
   "metadata": {
    "deletable": false,
    "editable": false,
    "nbgrader": {
     "cell_type": "markdown",
     "checksum": "f2f10081880f061cb06a6f61a8b6332e",
     "grade": false,
     "grade_id": "cell-af1aa89c7d87ff08",
     "locked": true,
     "schema_version": 3,
     "solution": false
    }
   },
   "source": [
    "**Question 1.8** \n",
    "<br> {points: 3}\n",
    "\n",
    "Suppose we have a new observation in the fruit dataset with scaled mass 0.5 and scaled color score 0.5.\n",
    "\n",
    "Just by looking at the scatterplot, how would you classify this observation using K-nearest neighbours if you use K = 3? Explain how you arrived at your answer."
   ]
  },
  {
   "cell_type": "markdown",
   "metadata": {
    "deletable": false,
    "max_height": 100,
    "nbgrader": {
     "cell_type": "markdown",
     "checksum": "270e7299b82619bf4a12b74622edb5bf",
     "grade": true,
     "grade_id": "cell-b48e4cbbaea68dab",
     "locked": false,
     "points": 3,
     "schema_version": 3,
     "solution": true,
     "task": false
    }
   },
   "source": [
    "DOUBLE CLICK TO EDIT **THIS CELL** AND REPLACE THIS TEXT WITH YOUR ANSWER."
   ]
  },
  {
   "cell_type": "markdown",
   "metadata": {
    "deletable": false,
    "editable": false,
    "nbgrader": {
     "cell_type": "markdown",
     "checksum": "c9de9576bf8ef02c3c835fd1a2ee7092",
     "grade": false,
     "grade_id": "cell-d5bb3e47fd3d48af",
     "locked": true,
     "schema_version": 3,
     "solution": false
    }
   },
   "source": [
    "**Question 1.9**\n",
    "<br> {points: 1}\n",
    "\n",
    "Now, let's use the `scikit-learn` package to predict `fruit_name` for another new observation. The new observation we are interested in has mass 150g and color score 0.73.\n",
    "\n",
    "First, create the K-nearest neighbour model specification. Specify we want $K=5$ neighbors and `weights = \"distance\"`. Name this model specification as `knn_spec`.\n",
    "\n",
    "Then create a new preprocessor named `fruit_data_preprocessor_2` that centers and scales the predictors, but only uses `mass` and `color_score` as predictors. We can drop all other unused columns. Name the predictor as `X` and the target `y`.\n",
    "\n",
    "Combine this with your neighbour model from before in a `pipeline`, and fit to the `fruit_data` dataset. \n",
    "\n",
    "*Name the fitted model `fruit_fit`.*"
   ]
  },
  {
   "cell_type": "code",
   "execution_count": null,
   "metadata": {
    "deletable": false,
    "nbgrader": {
     "cell_type": "code",
     "checksum": "5206a69ab45843bdccdd4c7a1a645eae",
     "grade": false,
     "grade_id": "cell-d6a33c5ad9e20950",
     "locked": false,
     "schema_version": 3,
     "solution": true
    }
   },
   "outputs": [],
   "source": [
    "# ___ = KNeighborsClassifier(n_neighbors=___, weights=\"distance\")\n",
    "\n",
    "# ____ = make_column_transformer(\n",
    "#     (___, [___, ___]),\n",
    "# )\n",
    "\n",
    "# X = ____.drop(\n",
    "#         columns=[___, ___, ___, ___, ___]\n",
    "#     )\n",
    "# y = ___[___]\n",
    "\n",
    "# ___ = ___(___, ___).fit(___, ___)\n",
    "\n",
    "# your code here\n",
    "raise NotImplementedError\n",
    "fruit_fit"
   ]
  },
  {
   "cell_type": "code",
   "execution_count": null,
   "metadata": {
    "deletable": false,
    "editable": false,
    "max_height": 100,
    "nbgrader": {
     "cell_type": "code",
     "checksum": "eedda37a8a2ddae863f8bbd98a6bfdc3",
     "grade": true,
     "grade_id": "cell-5ccfe637ff9751ec",
     "locked": true,
     "points": 1,
     "schema_version": 3,
     "solution": false
    }
   },
   "outputs": [],
   "source": [
    "from hashlib import sha1\n",
    "assert sha1(str(type(knn_spec is None)).encode(\"utf-8\")+b\"fcc36f081841dd6b\").hexdigest() == \"a2e19a3d3fcdf82156fb6760300e8f7aa39226bf\", \"type of knn_spec is None is not bool. knn_spec is None should be a bool\"\n",
    "assert sha1(str(knn_spec is None).encode(\"utf-8\")+b\"fcc36f081841dd6b\").hexdigest() == \"73f4d88d7b62818f8b569b1dc0d857816193128a\", \"boolean value of knn_spec is None is not correct\"\n",
    "\n",
    "assert sha1(str(type(knn_spec.n_neighbors)).encode(\"utf-8\")+b\"8579d2104597037a\").hexdigest() == \"1a5697071a6225947a408058124d17aee1b1e976\", \"type of knn_spec.n_neighbors is not int. Please make sure it is int and not np.int64, etc. You can cast your value into an int using int()\"\n",
    "assert sha1(str(knn_spec.n_neighbors).encode(\"utf-8\")+b\"8579d2104597037a\").hexdigest() == \"9933fe23b6979ebb42e57983e6ec77510dec3303\", \"value of knn_spec.n_neighbors is not correct\"\n",
    "\n",
    "assert sha1(str(type(knn_spec.effective_metric_)).encode(\"utf-8\")+b\"dd5e7346384c6662\").hexdigest() == \"a81f74d08d5ca35535c25bec200a3dd4425b47e1\", \"type of knn_spec.effective_metric_ is not str. knn_spec.effective_metric_ should be an str\"\n",
    "assert sha1(str(len(knn_spec.effective_metric_)).encode(\"utf-8\")+b\"dd5e7346384c6662\").hexdigest() == \"7e7ca9a479db2a4aaf225212cf57c8d0cfba707f\", \"length of knn_spec.effective_metric_ is not correct\"\n",
    "assert sha1(str(knn_spec.effective_metric_.lower()).encode(\"utf-8\")+b\"dd5e7346384c6662\").hexdigest() == \"fcfcd2e1ee93768f7cf08176b2270cd7f605ff9c\", \"value of knn_spec.effective_metric_ is not correct\"\n",
    "assert sha1(str(knn_spec.effective_metric_).encode(\"utf-8\")+b\"dd5e7346384c6662\").hexdigest() == \"fcfcd2e1ee93768f7cf08176b2270cd7f605ff9c\", \"correct string value of knn_spec.effective_metric_ but incorrect case of letters\"\n",
    "\n",
    "assert sha1(str(type(fruit_data_preprocessor_2 is None)).encode(\"utf-8\")+b\"a4e1a6627d3b7582\").hexdigest() == \"7a8f43afc5639f4c8318ee7637f4af00f92b68b3\", \"type of fruit_data_preprocessor_2 is None is not bool. fruit_data_preprocessor_2 is None should be a bool\"\n",
    "assert sha1(str(fruit_data_preprocessor_2 is None).encode(\"utf-8\")+b\"a4e1a6627d3b7582\").hexdigest() == \"98c44333a06f440481a244cb296b9019d34119a9\", \"boolean value of fruit_data_preprocessor_2 is None is not correct\"\n",
    "\n",
    "assert sha1(str(type(fruit_data_preprocessor_2.transformers_[0][2])).encode(\"utf-8\")+b\"6af8eb3c4b97d90d\").hexdigest() == \"42e2398f9aef2c240254e1d30e4103db0adbabaf\", \"type of fruit_data_preprocessor_2.transformers_[0][2] is not list. fruit_data_preprocessor_2.transformers_[0][2] should be a list\"\n",
    "assert sha1(str(len(fruit_data_preprocessor_2.transformers_[0][2])).encode(\"utf-8\")+b\"6af8eb3c4b97d90d\").hexdigest() == \"28dfab95ca57a31cf8b62c2c96a191ae360dfb00\", \"length of fruit_data_preprocessor_2.transformers_[0][2] is not correct\"\n",
    "assert sha1(str(sorted(map(str, fruit_data_preprocessor_2.transformers_[0][2]))).encode(\"utf-8\")+b\"6af8eb3c4b97d90d\").hexdigest() == \"3d58831c0c197177aed1cb08ed50f164d5b4cf98\", \"values of fruit_data_preprocessor_2.transformers_[0][2] are not correct\"\n",
    "assert sha1(str(fruit_data_preprocessor_2.transformers_[0][2]).encode(\"utf-8\")+b\"6af8eb3c4b97d90d\").hexdigest() == \"5e2ce654a14ca9f037b51ea1d2f86ab1f7b3dec8\", \"order of elements of fruit_data_preprocessor_2.transformers_[0][2] is not correct\"\n",
    "\n",
    "assert sha1(str(type(fruit_fit is None)).encode(\"utf-8\")+b\"600a9939c4f53015\").hexdigest() == \"bd41bb844166e96752a2c115d576779ce31d4cd3\", \"type of fruit_fit is None is not bool. fruit_fit is None should be a bool\"\n",
    "assert sha1(str(fruit_fit is None).encode(\"utf-8\")+b\"600a9939c4f53015\").hexdigest() == \"15c6f2a1bef18c0ebeb012a868f487e7cca6a944\", \"boolean value of fruit_fit is None is not correct\"\n",
    "\n",
    "assert sha1(str(type(type(fruit_fit))).encode(\"utf-8\")+b\"6a3ea094cc03bb31\").hexdigest() == \"11a32c7ea6098dcede9e9e27aca6021ebc2376a5\", \"type of type(fruit_fit) is not correct\"\n",
    "assert sha1(str(type(fruit_fit)).encode(\"utf-8\")+b\"6a3ea094cc03bb31\").hexdigest() == \"95147d15da8850f5133362de3d07a96cc89bb637\", \"value of type(fruit_fit) is not correct\"\n",
    "\n",
    "assert sha1(str(type(fruit_fit.named_steps.kneighborsclassifier.n_neighbors)).encode(\"utf-8\")+b\"42bcc6001f49f1b9\").hexdigest() == \"6341f918c0698d5f9d9deb4283ae4f1a6c39bd82\", \"type of fruit_fit.named_steps.kneighborsclassifier.n_neighbors is not int. Please make sure it is int and not np.int64, etc. You can cast your value into an int using int()\"\n",
    "assert sha1(str(fruit_fit.named_steps.kneighborsclassifier.n_neighbors).encode(\"utf-8\")+b\"42bcc6001f49f1b9\").hexdigest() == \"d2ecd0d79066ce7554d6f7c64a7ff25d5b7db173\", \"value of fruit_fit.named_steps.kneighborsclassifier.n_neighbors is not correct\"\n",
    "\n",
    "assert sha1(str(type(fruit_fit.named_steps.kneighborsclassifier.effective_metric_)).encode(\"utf-8\")+b\"0176f1f191204557\").hexdigest() == \"799774a15eb1d4a9e0189e613d767c498c0deb41\", \"type of fruit_fit.named_steps.kneighborsclassifier.effective_metric_ is not str. fruit_fit.named_steps.kneighborsclassifier.effective_metric_ should be an str\"\n",
    "assert sha1(str(len(fruit_fit.named_steps.kneighborsclassifier.effective_metric_)).encode(\"utf-8\")+b\"0176f1f191204557\").hexdigest() == \"f8f6e83faf38c612ffdab75917437480888ed647\", \"length of fruit_fit.named_steps.kneighborsclassifier.effective_metric_ is not correct\"\n",
    "assert sha1(str(fruit_fit.named_steps.kneighborsclassifier.effective_metric_.lower()).encode(\"utf-8\")+b\"0176f1f191204557\").hexdigest() == \"46cb3b170a0bd9f4598694cc69729f1291840aef\", \"value of fruit_fit.named_steps.kneighborsclassifier.effective_metric_ is not correct\"\n",
    "assert sha1(str(fruit_fit.named_steps.kneighborsclassifier.effective_metric_).encode(\"utf-8\")+b\"0176f1f191204557\").hexdigest() == \"46cb3b170a0bd9f4598694cc69729f1291840aef\", \"correct string value of fruit_fit.named_steps.kneighborsclassifier.effective_metric_ but incorrect case of letters\"\n",
    "\n",
    "print('Success!')"
   ]
  },
  {
   "cell_type": "markdown",
   "metadata": {
    "deletable": false,
    "editable": false,
    "nbgrader": {
     "cell_type": "markdown",
     "checksum": "7ce007a488dcaebd8e64c4598aa11cbe",
     "grade": false,
     "grade_id": "cell-c0cf02e39693f018",
     "locked": true,
     "schema_version": 3,
     "solution": false
    }
   },
   "source": [
    "**Question 1.10**\n",
    "<br> {points: 1}\n",
    "\n",
    "Create a new dataframe `mass = 150` and `color_score = 0.73` and call it `new_fruit`. Then, pass `fruit_fit` and `new_fruit` to the `predict` function to predict the class for the new fruit observation. Save your prediction to an object named `fruit_predicted`."
   ]
  },
  {
   "cell_type": "code",
   "execution_count": null,
   "metadata": {
    "deletable": false,
    "nbgrader": {
     "cell_type": "code",
     "checksum": "65d16eee759a897a6ac8b0cbf6f98d5b",
     "grade": false,
     "grade_id": "cell-1a6bd7bd278f3b12",
     "locked": false,
     "schema_version": 3,
     "solution": true
    }
   },
   "outputs": [],
   "source": [
    "# your code here\n",
    "raise NotImplementedError\n",
    "fruit_predicted"
   ]
  },
  {
   "cell_type": "code",
   "execution_count": null,
   "metadata": {
    "deletable": false,
    "editable": false,
    "max_height": 100,
    "nbgrader": {
     "cell_type": "code",
     "checksum": "35a94461817795a0ab7590556e3d181f",
     "grade": true,
     "grade_id": "cell-3a2d3d85dc181b83",
     "locked": true,
     "points": 1,
     "schema_version": 3,
     "solution": false
    }
   },
   "outputs": [],
   "source": [
    "from hashlib import sha1\n",
    "assert sha1(str(type(new_fruit is None)).encode(\"utf-8\")+b\"97b269ad098320c0\").hexdigest() == \"b9f5d21c5410c97790a73b68bd99b9661a73c8ec\", \"type of new_fruit is None is not bool. new_fruit is None should be a bool\"\n",
    "assert sha1(str(new_fruit is None).encode(\"utf-8\")+b\"97b269ad098320c0\").hexdigest() == \"b15381acd945bd543df0888e8458d3ba0ba6d4cf\", \"boolean value of new_fruit is None is not correct\"\n",
    "\n",
    "assert sha1(str(type(new_fruit.shape)).encode(\"utf-8\")+b\"e3aefa0f36ef0d2f\").hexdigest() == \"22ab9a201edc0368833d18965ca4c8933937fbb0\", \"type of new_fruit.shape is not tuple. new_fruit.shape should be a tuple\"\n",
    "assert sha1(str(len(new_fruit.shape)).encode(\"utf-8\")+b\"e3aefa0f36ef0d2f\").hexdigest() == \"b37650460cea14c7c4d2bb8d99a3a4180f3d7704\", \"length of new_fruit.shape is not correct\"\n",
    "assert sha1(str(sorted(map(str, new_fruit.shape))).encode(\"utf-8\")+b\"e3aefa0f36ef0d2f\").hexdigest() == \"eee72d32d3b2aed5103b1dba4747bdbccced6c4d\", \"values of new_fruit.shape are not correct\"\n",
    "assert sha1(str(new_fruit.shape).encode(\"utf-8\")+b\"e3aefa0f36ef0d2f\").hexdigest() == \"01055a1d66a2322c9336f877a652da17a77ef025\", \"order of elements of new_fruit.shape is not correct\"\n",
    "\n",
    "assert sha1(str(type(new_fruit.mass.values)).encode(\"utf-8\")+b\"dd7ce6e267f3c34c\").hexdigest() == \"34989edebf2578a4910b1e6d9d704e153f6dd316\", \"type of new_fruit.mass.values is not correct\"\n",
    "assert sha1(str(new_fruit.mass.values).encode(\"utf-8\")+b\"dd7ce6e267f3c34c\").hexdigest() == \"6a54979c4686072de4c98bf222a991e035531cb1\", \"value of new_fruit.mass.values is not correct\"\n",
    "\n",
    "assert sha1(str(type(new_fruit.color_score.values)).encode(\"utf-8\")+b\"4242be496fd6567a\").hexdigest() == \"1fb6ccc45c22cd0db67bbc6c8c7ffcab23990060\", \"type of new_fruit.color_score.values is not correct\"\n",
    "assert sha1(str(new_fruit.color_score.values).encode(\"utf-8\")+b\"4242be496fd6567a\").hexdigest() == \"c8d2c9927919ac8da323399f11f816c70a76f860\", \"value of new_fruit.color_score.values is not correct\"\n",
    "\n",
    "assert sha1(str(type(fruit_predicted)).encode(\"utf-8\")+b\"1a6cdceb98df7859\").hexdigest() == \"0375cc262d0e65aeecd321e124d420716dc69bdb\", \"type of fruit_predicted is not correct\"\n",
    "assert sha1(str(fruit_predicted).encode(\"utf-8\")+b\"1a6cdceb98df7859\").hexdigest() == \"bfe087b00b30fda3c333dc0a2cf12af0c1b14984\", \"value of fruit_predicted is not correct\"\n",
    "\n",
    "print('Success!')"
   ]
  },
  {
   "cell_type": "markdown",
   "metadata": {
    "deletable": false,
    "editable": false,
    "nbgrader": {
     "cell_type": "markdown",
     "checksum": "d7067187d349cfb90cbb12bd4a44c04f",
     "grade": false,
     "grade_id": "cell-f967fbfa3edd4e40",
     "locked": true,
     "schema_version": 3,
     "solution": false
    }
   },
   "source": [
    "**Question 1.11** \n",
    "<br> {points: 3}\n",
    "\n",
    "Revisiting `fruit_plot` and considering the prediction given by K-nearest neighbours above, do you think the classification model did a \"good\" job predicting? Could you have done/do better? Given what we know this far in the course, what might we want to do to help with tricky prediction cases such as this?\n",
    "\n",
    "*You can use the code below to visualize the observation whose label we just tried to predict.*"
   ]
  },
  {
   "cell_type": "code",
   "execution_count": null,
   "metadata": {
    "deletable": false,
    "editable": false,
    "nbgrader": {
     "cell_type": "code",
     "checksum": "9775077326462ac0c7f6434b241f2a05",
     "grade": false,
     "grade_id": "cell-1569bb952f7f0597",
     "locked": true,
     "schema_version": 3,
     "solution": false,
     "task": false
    }
   },
   "outputs": [],
   "source": [
    "fruit_plot + (\n",
    "    alt.Chart(pd.DataFrame([[-0.3, -0.4]], columns=[\"x\", \"y\"]))\n",
    "    .mark_circle(size=50)\n",
    "    .encode(x=\"x\", y=\"y\", color=alt.value(\"black\"))\n",
    ")"
   ]
  },
  {
   "cell_type": "markdown",
   "metadata": {
    "deletable": false,
    "max_height": 100,
    "nbgrader": {
     "cell_type": "markdown",
     "checksum": "2be2062f7f7536947b1fa505d183e422",
     "grade": true,
     "grade_id": "cell-5a6f5622fdbb48fe",
     "locked": false,
     "points": 3,
     "schema_version": 3,
     "solution": true,
     "task": false
    }
   },
   "source": [
    "DOUBLE CLICK TO EDIT **THIS CELL** AND REPLACE THIS TEXT WITH YOUR ANSWER."
   ]
  },
  {
   "cell_type": "markdown",
   "metadata": {
    "deletable": false,
    "editable": false,
    "nbgrader": {
     "cell_type": "markdown",
     "checksum": "9d4ad1b8d35633f927aeb1c7955a7bcc",
     "grade": false,
     "grade_id": "cell-cc5156a4318b7185",
     "locked": true,
     "schema_version": 3,
     "solution": false
    }
   },
   "source": [
    "**Question 1.12**\n",
    "<br> {points: 1}\n",
    "\n",
    "Now do K-nearest neighbours classification again with the same data set, same K, and same new observation. However, this time, let's use **all the columns in the dataset as predictors (except for the categorical `fruit_label` and `fruit_subtype` variables).** Therefore, you would need to make a new preprocessor.\n",
    "\n",
    "We have provided the `new_fruit_all` dataframe below, which encodes the predictors for our new observation. Your job is to use K-nearest neighbours to predict the class of this point. You can reuse the model specification you created earlier. \n",
    "\n",
    "Name the new predictor as `X_2` and new target `y_2`.\n",
    "\n",
    "*Assign your answer (the output of `predict`) to an object called `fruit_all_predicted`.*"
   ]
  },
  {
   "cell_type": "code",
   "execution_count": null,
   "metadata": {
    "deletable": false,
    "nbgrader": {
     "cell_type": "code",
     "checksum": "4fdf750ba6a2b3a715bdddc0cf2992bc",
     "grade": false,
     "grade_id": "cell-11dfd75840c12acf",
     "locked": false,
     "schema_version": 3,
     "solution": true,
     "task": false
    }
   },
   "outputs": [],
   "source": [
    "# This is the new observation to predict class label for\n",
    "new_fruit_all = pd.DataFrame(\n",
    "    [[150, 6, 10, 0.73]],\n",
    "    columns=[\n",
    "        \"mass\",\n",
    "        \"width\",\n",
    "        \"height\",\n",
    "        \"color_score\",\n",
    "    ],\n",
    ")\n",
    "\n",
    "# no hints this time!\n",
    "\n",
    "# your code here\n",
    "raise NotImplementedError\n",
    "fruit_all_predicted"
   ]
  },
  {
   "cell_type": "code",
   "execution_count": null,
   "metadata": {
    "deletable": false,
    "editable": false,
    "max_height": 100,
    "nbgrader": {
     "cell_type": "code",
     "checksum": "fc5530d876fd643d02f8595e68c850ae",
     "grade": true,
     "grade_id": "cell-f4cbe01336a26636",
     "locked": true,
     "points": 1,
     "schema_version": 3,
     "solution": false,
     "task": false
    }
   },
   "outputs": [],
   "source": [
    "from hashlib import sha1\n",
    "assert sha1(str(type(fruit_all_predicted)).encode(\"utf-8\")+b\"f3fc7f4debd00044\").hexdigest() == \"3439e2e5ad5308bc2f02ddca8a7da70ae326ce20\", \"type of fruit_all_predicted is not correct\"\n",
    "assert sha1(str(fruit_all_predicted).encode(\"utf-8\")+b\"f3fc7f4debd00044\").hexdigest() == \"8418a29b45d0cf4aa31ef49c2126def519ade9a3\", \"value of fruit_all_predicted is not correct\"\n",
    "\n",
    "print('Success!')"
   ]
  },
  {
   "cell_type": "markdown",
   "metadata": {
    "deletable": false,
    "editable": false,
    "nbgrader": {
     "cell_type": "markdown",
     "checksum": "f91896964dd01c73a585e32a18158abc",
     "grade": false,
     "grade_id": "cell-ed80bda97a114689",
     "locked": true,
     "schema_version": 3,
     "solution": false
    }
   },
   "source": [
    "**Question 1.13** \n",
    "<br> {points: 3}\n",
    "\n",
    "Did your second classification on the same data set with the same K change the prediction? If so, why do you think this happened?"
   ]
  },
  {
   "cell_type": "markdown",
   "metadata": {
    "deletable": false,
    "max_height": 100,
    "nbgrader": {
     "cell_type": "markdown",
     "checksum": "78516303d9fd03bc863115aacaaa8ab0",
     "grade": true,
     "grade_id": "cell-8d91418ef5057475",
     "locked": false,
     "points": 3,
     "schema_version": 3,
     "solution": true,
     "task": false
    }
   },
   "source": [
    "DOUBLE CLICK TO EDIT **THIS CELL** AND REPLACE THIS TEXT WITH YOUR ANSWER."
   ]
  },
  {
   "cell_type": "markdown",
   "metadata": {
    "deletable": false,
    "editable": false,
    "nbgrader": {
     "cell_type": "markdown",
     "checksum": "792e065e4e2a5e26b4d6ddffaa893feb",
     "grade": false,
     "grade_id": "cell-da8d59e0f1753437",
     "locked": true,
     "schema_version": 3,
     "solution": false,
     "task": false
    }
   },
   "source": [
    "## 2. Wheat Seed Dataset\n",
    "\n",
    "X-ray images can be used to analyze and sort seeds. In [this data set](https://archive.ics.uci.edu/ml/datasets/seeds), we have 7 measurements from x-ray images from 3 varieties of wheat seeds (Kama, Rosa and Canadian). "
   ]
  },
  {
   "cell_type": "markdown",
   "metadata": {
    "deletable": false,
    "editable": false,
    "nbgrader": {
     "cell_type": "markdown",
     "checksum": "4c6b3b113630bdc13ef091bc82b11e78",
     "grade": false,
     "grade_id": "cell-8efa44bbbd0be10c",
     "locked": true,
     "schema_version": 3,
     "solution": false
    }
   },
   "source": [
    "**Question 2.0**\n",
    "<br> {points: 3}\n",
    "\n",
    "Let's use `scikit-learn` to perform K-nearest neighbours to classify the wheat variety of seeds. The data set is available here: https://archive.ics.uci.edu/ml/machine-learning-databases/00236/seeds_dataset.txt. **Download the data set directly from this URL using the `pd.read_csv` function with `delimiter='\\t'`**, which is helpful when the columns are separated by one or more white spaces.\n",
    "\n",
    "The seven measurements were taken below for each wheat kernel:\n",
    "1. area A, \n",
    "2. perimeter P, \n",
    "3. compactness C = 4*pi*A/P^2, \n",
    "4. length of kernel, \n",
    "5. width of kernel, \n",
    "6. asymmetry coefficient \n",
    "7. length of kernel groove. \n",
    "\n",
    "The last column in the data set is the variety label. The mapping for the numbers to varieties is listed below:\n",
    "\n",
    "- 1 == Kama\n",
    "- 2 == Rosa\n",
    "- 3 == Canadian\n",
    "\n",
    "Use `scikit-learn` with this data to perform K-nearest neighbours to classify the wheat variety of a new seed we measure with the given observed measurements (from an x-ray image) listed above. Specify that we want $K = 5$ neighbors to perform the classification. \n",
    "\n",
    "*Assign your answer to an object called `seed_predict`.*\n",
    "\n",
    "Hints: \n",
    "- `names` can be used to specify the column names of a data frame.\n",
    "- There are some nan values in the dataset, please use `dropna` to drop the nan values in the dataset before passing it into the K-nearest neighbours model."
   ]
  },
  {
   "cell_type": "code",
   "execution_count": null,
   "metadata": {
    "deletable": false,
    "max_height": 100,
    "nbgrader": {
     "cell_type": "code",
     "checksum": "73fb0540e2cacc5e7824a9a2fabd84ab",
     "grade": true,
     "grade_id": "cell-3c4ba3c5bf6b72e0",
     "locked": false,
     "points": 3,
     "schema_version": 3,
     "solution": true,
     "task": false
    }
   },
   "outputs": [],
   "source": [
    "# This is the new observation to predict\n",
    "new_seed = pd.DataFrame(\n",
    "    [[12.1, 14.2, 0.9, 4.9, 2.8, 3.0, 5.1]],\n",
    "    columns=[\n",
    "        \"area\",\n",
    "        \"perimeter\",\n",
    "        \"compactness\",\n",
    "        \"length\",\n",
    "        \"width\",\n",
    "        \"asymmetry_coefficient\",\n",
    "        \"groove_length\",\n",
    "    ],\n",
    ")\n",
    "\n",
    "# your code here\n",
    "raise NotImplementedError\n",
    "seed_predict"
   ]
  },
  {
   "cell_type": "markdown",
   "metadata": {
    "deletable": false,
    "editable": false,
    "nbgrader": {
     "cell_type": "markdown",
     "checksum": "ec126330a429c1fc8edadd89d5a9e468",
     "grade": false,
     "grade_id": "cell-8edaf785b47c00f9",
     "locked": true,
     "schema_version": 3,
     "solution": false
    }
   },
   "source": [
    "**Question 2.1** Multiple Choice:\n",
    "<br> {points: 1}\n",
    "\n",
    "What is classification of the `new_seed` observation?\n",
    "\n",
    "A. Kama\n",
    "\n",
    "B. Rosa\n",
    "\n",
    "C. Canadian\n",
    "\n",
    "*Assign your answer to an object called `answer2_1`. Make sure your answer is in uppercase and is surrounded by quotation marks (e.g. `\"F\"`).*\n"
   ]
  },
  {
   "cell_type": "code",
   "execution_count": null,
   "metadata": {
    "deletable": false,
    "nbgrader": {
     "cell_type": "code",
     "checksum": "14de510c068606d48f8f7de3583a1012",
     "grade": false,
     "grade_id": "cell-fb431a5154f21535",
     "locked": false,
     "schema_version": 3,
     "solution": true,
     "task": false
    }
   },
   "outputs": [],
   "source": [
    "# your code here\n",
    "raise NotImplementedError"
   ]
  },
  {
   "cell_type": "code",
   "execution_count": null,
   "metadata": {
    "deletable": false,
    "editable": false,
    "max_height": 100,
    "nbgrader": {
     "cell_type": "code",
     "checksum": "8e1fe1b5206814e91e3b845e3d32fd7a",
     "grade": true,
     "grade_id": "cell-6399b150c5034cd3",
     "locked": true,
     "points": 1,
     "schema_version": 3,
     "solution": false,
     "task": false
    }
   },
   "outputs": [],
   "source": [
    "from hashlib import sha1\n",
    "assert sha1(str(type(answer2_1)).encode(\"utf-8\")+b\"5184f8031f2bcfba\").hexdigest() == \"e2ab6eb25886ff45887345b0a732b93e18b47717\", \"type of answer2_1 is not str. answer2_1 should be an str\"\n",
    "assert sha1(str(len(answer2_1)).encode(\"utf-8\")+b\"5184f8031f2bcfba\").hexdigest() == \"3dd14138a255b00eeaee7f06e21d6ee7ed51a68c\", \"length of answer2_1 is not correct\"\n",
    "assert sha1(str(answer2_1.lower()).encode(\"utf-8\")+b\"5184f8031f2bcfba\").hexdigest() == \"213ee448c316f4f4edb30878dc15f182dd06c65d\", \"value of answer2_1 is not correct\"\n",
    "assert sha1(str(answer2_1).encode(\"utf-8\")+b\"5184f8031f2bcfba\").hexdigest() == \"9f874e70f664c55492674835ac7b7bf632f01427\", \"correct string value of answer2_1 but incorrect case of letters\"\n",
    "\n",
    "print('Success!')"
   ]
  },
  {
   "cell_type": "code",
   "execution_count": null,
   "metadata": {},
   "outputs": [],
   "source": []
  }
 ],
 "metadata": {
  "jupytext": {
   "encoding": "# -*- coding: utf-8 -*-"
  },
  "kernelspec": {
   "display_name": "Python 3 (ipykernel)",
   "language": "python",
   "name": "python3"
  },
  "language_info": {
   "codemirror_mode": {
    "name": "ipython",
    "version": 3
   },
   "file_extension": ".py",
   "mimetype": "text/x-python",
   "name": "python",
   "nbconvert_exporter": "python",
   "pygments_lexer": "ipython3",
   "version": "3.10.8"
  }
 },
 "nbformat": 4,
 "nbformat_minor": 4
}
