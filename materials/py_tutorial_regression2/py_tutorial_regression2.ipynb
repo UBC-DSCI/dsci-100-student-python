{
 "cells": [
  {
   "cell_type": "markdown",
   "metadata": {
    "deletable": false,
    "editable": false,
    "nbgrader": {
     "cell_type": "markdown",
     "checksum": "e4763a7ba53cee74cae4ee9ebbea497d",
     "grade": false,
     "grade_id": "cell-63e551f4dad255b8",
     "locked": true,
     "schema_version": 3,
     "solution": false,
     "task": false
    }
   },
   "source": [
    "# Tutorial 9: Regression Continued\n",
    "\n",
    "**Regression learning objectives**: \n",
    "\n",
    "* Recognize situations where a simple regression analysis would be appropriate for making predictions.\n",
    "* Explain the $k$-nearest neighbour regression algorithm and describe how it differs from k-nn classification.\n",
    "* Interpret the output of a $k$-nn regression.\n",
    "* In a dataset with two variables, perform $k$-nearest neighbour regression in Python using `scikit-learn` to predict the values for a test dataset.\n",
    "* Execute cross-validation in Python to choose the number of neighbours.\n",
    "* Using Python, evaluate $k$-nn regression prediction accuracy using a test data set and an appropriate metric (*e.g.*, root means square prediction error).\n",
    "* In a dataset with > 2 variables, perform $k$-nn regression in Python using `scikit-learn` to predict the values for a test dataset.\n",
    "* In the context of $k$-nn regression, compare and contrast goodness of fit and prediction properties (namely RMSE vs RMSPE).\n",
    "* Describe advantages and disadvantages of the $k$-nearest neighbour regression approach.\n",
    "* Perform ordinary least squares regression in Python using `scikit-learn` to predict the values for a test dataset.\n",
    "* Compare and contrast predictions obtained from $k$-nearest neighbour regression to those obtained using simple ordinary least squares regression from the same dataset.\n",
    "* In Python, overlay the ordinary least squares regression lines from `transform_regression` on a single plot. "
   ]
  },
  {
   "cell_type": "code",
   "execution_count": null,
   "metadata": {
    "deletable": false,
    "editable": false,
    "nbgrader": {
     "cell_type": "code",
     "checksum": "8997b9c2f2f573e995717962d14a37f2",
     "grade": false,
     "grade_id": "cell-7b457a3bc36388de",
     "locked": true,
     "schema_version": 3,
     "solution": false,
     "task": false
    }
   },
   "outputs": [],
   "source": [
    "### Run this cell before continuing.\n",
    "import altair as alt\n",
    "import numpy as np\n",
    "import pandas as pd\n",
    "from sklearn.linear_model import LinearRegression\n",
    "from sklearn.metrics import mean_squared_error\n",
    "from sklearn.model_selection import GridSearchCV, cross_validate, train_test_split\n",
    "from sklearn.neighbors import KNeighborsRegressor"
   ]
  },
  {
   "cell_type": "markdown",
   "metadata": {
    "deletable": false,
    "editable": false,
    "nbgrader": {
     "cell_type": "markdown",
     "checksum": "4dcf7fc04c1db294415cac5732c32b8a",
     "grade": false,
     "grade_id": "cell-c422b97008fe2c60",
     "locked": true,
     "schema_version": 3,
     "solution": false,
     "task": false
    }
   },
   "source": [
    "## Predicting credit card balance\n",
    "\n",
    "<img src='https://media.giphy.com/media/LCdPNT81vlv3y/giphy-downsized-large.gif' align=\"left\" width='400'>"
   ]
  },
  {
   "cell_type": "markdown",
   "metadata": {
    "deletable": false,
    "editable": false,
    "nbgrader": {
     "cell_type": "markdown",
     "checksum": "6506562d5a53e07a7e0982f0bd93acad",
     "grade": false,
     "grade_id": "cell-aeb97ae2fbcbdaa8",
     "locked": true,
     "schema_version": 3,
     "solution": false,
     "task": false
    }
   },
   "source": [
    "Source: https://media.giphy.com/media/LCdPNT81vlv3y/giphy-downsized-large.gif\n",
    "\n",
    "Here in this worksheet we will work with a simulated data set that contains information that we can use to create a model to predict customer credit card balance. A bank might use such information to predict which customers might be the most profitable to lend to (customers who carry a balance, but do not default, for example). Specifically, we wish to build a model to predict credit card balance (`Balance` column) based on income (`Income` column) and credit rating (`Rating` column).\n",
    "\n",
    "We access this data set by reading it from the `data` folder. Since the first column in the file doesn't have a column name, we should use it as index of the dataframe and then rename it as `ID`."
   ]
  },
  {
   "cell_type": "code",
   "execution_count": null,
   "metadata": {
    "deletable": false,
    "editable": false,
    "nbgrader": {
     "cell_type": "code",
     "checksum": "6588779c239331192fe8c8f3425efc00",
     "grade": false,
     "grade_id": "cell-7429888f4a5a274a",
     "locked": true,
     "schema_version": 3,
     "solution": false,
     "task": false
    }
   },
   "outputs": [],
   "source": [
    "credit_original = (\n",
    "    pd.read_csv(\"data/Credit.csv\", index_col=0)\n",
    "    .reset_index()\n",
    "    .rename(columns={\"index\": \"ID\"})\n",
    ")\n",
    "credit_original.head()"
   ]
  },
  {
   "cell_type": "markdown",
   "metadata": {
    "deletable": false,
    "editable": false,
    "nbgrader": {
     "cell_type": "markdown",
     "checksum": "69510076c112d3d0a989ab849c8dabe4",
     "grade": false,
     "grade_id": "cell-50099db20db03328",
     "locked": true,
     "schema_version": 3,
     "solution": false,
     "task": false
    }
   },
   "source": [
    "**Question 1.1**\n",
    "<br> {points: 1}\n",
    "\n",
    "Select only the columns of data we are interested in using for our prediction (both the predictors and the response variable) using the `.loc[]` function. \n",
    "\n",
    "*Note: We could alternatively just leave these variables in and specify them as predictors and response in data splitting steps. But for this worksheet, let's select the relevant columns first.*\n",
    "\n",
    "*Assign the modified data frame to a variable named `credit` (using a lowercase c).*"
   ]
  },
  {
   "cell_type": "code",
   "execution_count": null,
   "metadata": {
    "deletable": false,
    "nbgrader": {
     "cell_type": "code",
     "checksum": "b742fb723aa19181e845db176035a19d",
     "grade": false,
     "grade_id": "cell-f8ecf1ab64d52b66",
     "locked": false,
     "schema_version": 3,
     "solution": true
    }
   },
   "outputs": [],
   "source": [
    "# your code here\n",
    "raise NotImplementedError\n",
    "credit"
   ]
  },
  {
   "cell_type": "code",
   "execution_count": null,
   "metadata": {
    "deletable": false,
    "editable": false,
    "max_height": 100,
    "nbgrader": {
     "cell_type": "code",
     "checksum": "54ae405ac29eaa6a8c20981b256924fd",
     "grade": true,
     "grade_id": "cell-9342aee7f4b97ddf",
     "locked": true,
     "points": 1,
     "schema_version": 3,
     "solution": false
    }
   },
   "outputs": [],
   "source": [
    "from hashlib import sha1\n",
    "assert sha1(str(type(credit)).encode(\"utf-8\")+b\"c567a40ae36aa6ff\").hexdigest() == \"566724260c9b29e335d8257113497ce1b3b71939\", \"type of type(credit) is not correct\"\n",
    "\n",
    "assert sha1(str(type(credit.shape)).encode(\"utf-8\")+b\"217fd12244e5b95a\").hexdigest() == \"11695032671c4ecd76637e860f61a9e813731b86\", \"type of credit.shape is not tuple. credit.shape should be a tuple\"\n",
    "assert sha1(str(len(credit.shape)).encode(\"utf-8\")+b\"217fd12244e5b95a\").hexdigest() == \"4e4d680e4fe2a7f762d091480add11624140f4d5\", \"length of credit.shape is not correct\"\n",
    "assert sha1(str(sorted(map(str, credit.shape))).encode(\"utf-8\")+b\"217fd12244e5b95a\").hexdigest() == \"4fa1f5df796eefa87db3c6977031ae3e1444ff78\", \"values of credit.shape are not correct\"\n",
    "assert sha1(str(credit.shape).encode(\"utf-8\")+b\"217fd12244e5b95a\").hexdigest() == \"9287c7130dad2466456f1d0d3a934e2ab6a5da00\", \"order of elements of credit.shape is not correct\"\n",
    "\n",
    "assert sha1(str(type(\"Income\" in credit.columns)).encode(\"utf-8\")+b\"7b01c89259e88134\").hexdigest() == \"4e635241757ae8e2f685d90fadba75d803236a3e\", \"type of \\\"Income\\\" in credit.columns is not bool. \\\"Income\\\" in credit.columns should be a bool\"\n",
    "assert sha1(str(\"Income\" in credit.columns).encode(\"utf-8\")+b\"7b01c89259e88134\").hexdigest() == \"3c1178f5d880288d8c291eb8d52ae036d5645380\", \"boolean value of \\\"Income\\\" in credit.columns is not correct\"\n",
    "\n",
    "assert sha1(str(type(\"Balance\" in credit.columns)).encode(\"utf-8\")+b\"3ce7697da9fcd538\").hexdigest() == \"a5e6c4ca521a00f92184732cfd37e106855355f7\", \"type of \\\"Balance\\\" in credit.columns is not bool. \\\"Balance\\\" in credit.columns should be a bool\"\n",
    "assert sha1(str(\"Balance\" in credit.columns).encode(\"utf-8\")+b\"3ce7697da9fcd538\").hexdigest() == \"c8f8869ebaa3596bb602a8632cc43f331fdac0b9\", \"boolean value of \\\"Balance\\\" in credit.columns is not correct\"\n",
    "\n",
    "assert sha1(str(type(\"Rating\" in credit.columns)).encode(\"utf-8\")+b\"11e15bee81caa932\").hexdigest() == \"e165b8bc1ebf67749f5f1d3e6c7bc547f63a45d2\", \"type of \\\"Rating\\\" in credit.columns is not bool. \\\"Rating\\\" in credit.columns should be a bool\"\n",
    "assert sha1(str(\"Rating\" in credit.columns).encode(\"utf-8\")+b\"11e15bee81caa932\").hexdigest() == \"40e03214504ac287d96f5403eca6075ccbac6c03\", \"boolean value of \\\"Rating\\\" in credit.columns is not correct\"\n",
    "\n",
    "assert sha1(str(type(\"X1\" not in credit.columns)).encode(\"utf-8\")+b\"cb1f0e96506865ec\").hexdigest() == \"ca3f39d083ad2837357c6fa06b2d383c7c545b12\", \"type of \\\"X1\\\" not in credit.columns is not bool. \\\"X1\\\" not in credit.columns should be a bool\"\n",
    "assert sha1(str(\"X1\" not in credit.columns).encode(\"utf-8\")+b\"cb1f0e96506865ec\").hexdigest() == \"41d4bf54f9fec42043c11ea10f91736313fde618\", \"boolean value of \\\"X1\\\" not in credit.columns is not correct\"\n",
    "\n",
    "print('Success!')"
   ]
  },
  {
   "cell_type": "markdown",
   "metadata": {
    "deletable": false,
    "editable": false,
    "nbgrader": {
     "cell_type": "markdown",
     "checksum": "87966d088f86cdf7542b095c9ac011c9",
     "grade": false,
     "grade_id": "cell-505c4d1e16fc257f",
     "locked": true,
     "schema_version": 3,
     "solution": false,
     "task": false
    }
   },
   "source": [
    "**Question 1.2**\n",
    "<br> {points: 1}\n",
    "\n",
    "**Before** we perform exploratory data analysis, we should create our training and testing data sets. First, split the `credit` data set. Use 60% of the data and assign your answer to objects called `credit_training` and `credit_testing`. Please set the `random_state` as 2000. \n",
    "\n",
    "Set the variable we want to predict as the `y_train` and the predictors as `X_train` for `credit_training`. Set the variable we want to predict as the `y_test` and the predictors as `X_test` for `credit_testing`.  \n",
    "\n",
    "*Assign your answers to variables named `credit_training`, `credit_testing`, `X_train`, `y_train`, `X_test`, and `y_test`.*"
   ]
  },
  {
   "cell_type": "code",
   "execution_count": null,
   "metadata": {
    "deletable": false,
    "nbgrader": {
     "cell_type": "code",
     "checksum": "34ea487b6ab5baf1089d44d0ec1355d5",
     "grade": false,
     "grade_id": "cell-0a1b215548c7e884",
     "locked": false,
     "schema_version": 3,
     "solution": true,
     "task": false
    }
   },
   "outputs": [],
   "source": [
    "# _____, _____ = train_test_split(\n",
    "#    ____, ____, random_state=2000           # do not change the random_state\n",
    "# )\n",
    "\n",
    "# X_train = ...\n",
    "# y_train = ...\n",
    "\n",
    "# X_test = ...\n",
    "# y_test = ...\n",
    "\n",
    "# your code here\n",
    "raise NotImplementedError"
   ]
  },
  {
   "cell_type": "code",
   "execution_count": null,
   "metadata": {
    "deletable": false,
    "editable": false,
    "max_height": 100,
    "nbgrader": {
     "cell_type": "code",
     "checksum": "fca052387e3f2590d22267bb9663495a",
     "grade": true,
     "grade_id": "cell-c6bf91ef0c8f21b5",
     "locked": true,
     "points": 1,
     "schema_version": 3,
     "solution": false,
     "task": false
    }
   },
   "outputs": [],
   "source": [
    "from hashlib import sha1\n",
    "assert sha1(str(type(credit_training is None)).encode(\"utf-8\")+b\"d02af853941e4362\").hexdigest() == \"34425e48765db953639227aa4e07d0c68c1eec7e\", \"type of credit_training is None is not bool. credit_training is None should be a bool\"\n",
    "assert sha1(str(credit_training is None).encode(\"utf-8\")+b\"d02af853941e4362\").hexdigest() == \"080688b2a40f389bba99d4525c690e25050a161a\", \"boolean value of credit_training is None is not correct\"\n",
    "\n",
    "assert sha1(str(type(credit_training.shape)).encode(\"utf-8\")+b\"f6a580e8eda1203e\").hexdigest() == \"33690f7a75fd24811738fa6f30497b62a4cb4e7d\", \"type of credit_training.shape is not tuple. credit_training.shape should be a tuple\"\n",
    "assert sha1(str(len(credit_training.shape)).encode(\"utf-8\")+b\"f6a580e8eda1203e\").hexdigest() == \"168ac5c573a443dc9344b1fa7bc693f6600525d9\", \"length of credit_training.shape is not correct\"\n",
    "assert sha1(str(sorted(map(str, credit_training.shape))).encode(\"utf-8\")+b\"f6a580e8eda1203e\").hexdigest() == \"22d78ef0750549dc999773ce6f3744628f285213\", \"values of credit_training.shape are not correct\"\n",
    "assert sha1(str(credit_training.shape).encode(\"utf-8\")+b\"f6a580e8eda1203e\").hexdigest() == \"b0b3fe4849973b6c6095c0c6d81aea5d54e96df5\", \"order of elements of credit_training.shape is not correct\"\n",
    "\n",
    "assert sha1(str(type(sum(credit_training.Balance))).encode(\"utf-8\")+b\"b5bd34a20a3868c4\").hexdigest() == \"c0e1989b717cfa31b504cd9d904b0d8d5a5211ae\", \"type of sum(credit_training.Balance) is not int. Please make sure it is int and not np.int64, etc. You can cast your value into an int using int()\"\n",
    "assert sha1(str(sum(credit_training.Balance)).encode(\"utf-8\")+b\"b5bd34a20a3868c4\").hexdigest() == \"393a2e96c33ddc019cdda24da2e8e8e9cf4436ce\", \"value of sum(credit_training.Balance) is not correct\"\n",
    "\n",
    "assert sha1(str(type(sum(credit_training.Income))).encode(\"utf-8\")+b\"1fcd7e227086456a\").hexdigest() == \"a2a9e6eb8e8c2b8ce1606aa0436501db3a2ba62a\", \"type of sum(credit_training.Income) is not float. Please make sure it is float and not np.float64, etc. You can cast your value into a float using float()\"\n",
    "assert sha1(str(round(sum(credit_training.Income), 2)).encode(\"utf-8\")+b\"1fcd7e227086456a\").hexdigest() == \"a03af560a17f69aefa94683c4220e8587cc20d6b\", \"value of sum(credit_training.Income) is not correct (rounded to 2 decimal places)\"\n",
    "\n",
    "assert sha1(str(type(sum(credit_training.Rating))).encode(\"utf-8\")+b\"853cd328eeb8358b\").hexdigest() == \"9131892c716c4963fe226107bc652373a98cd234\", \"type of sum(credit_training.Rating) is not int. Please make sure it is int and not np.int64, etc. You can cast your value into an int using int()\"\n",
    "assert sha1(str(sum(credit_training.Rating)).encode(\"utf-8\")+b\"853cd328eeb8358b\").hexdigest() == \"5d5a7d437d655c70b09d255e9f408f0f856c62e1\", \"value of sum(credit_training.Rating) is not correct\"\n",
    "\n",
    "assert sha1(str(type(credit_testing is None)).encode(\"utf-8\")+b\"a52c85174f80143f\").hexdigest() == \"96e395c7fcbdf2294ce2d8657391e66ff9a6eb8a\", \"type of credit_testing is None is not bool. credit_testing is None should be a bool\"\n",
    "assert sha1(str(credit_testing is None).encode(\"utf-8\")+b\"a52c85174f80143f\").hexdigest() == \"76e80c20e8458350025e8621ebf1a4272a19dfc3\", \"boolean value of credit_testing is None is not correct\"\n",
    "\n",
    "assert sha1(str(type(credit_testing.shape)).encode(\"utf-8\")+b\"317c43c4ac88c558\").hexdigest() == \"b2d5fdc353bef2cdc587dee8148f9455710e2c39\", \"type of credit_testing.shape is not tuple. credit_testing.shape should be a tuple\"\n",
    "assert sha1(str(len(credit_testing.shape)).encode(\"utf-8\")+b\"317c43c4ac88c558\").hexdigest() == \"71baec937f2f38d5deeeff11772a7897bd21a815\", \"length of credit_testing.shape is not correct\"\n",
    "assert sha1(str(sorted(map(str, credit_testing.shape))).encode(\"utf-8\")+b\"317c43c4ac88c558\").hexdigest() == \"8d286a7cf9596816e10863412315e65d48498008\", \"values of credit_testing.shape are not correct\"\n",
    "assert sha1(str(credit_testing.shape).encode(\"utf-8\")+b\"317c43c4ac88c558\").hexdigest() == \"5a5d6662f2d593607ecc7f60ca493c8c7ae57ba8\", \"order of elements of credit_testing.shape is not correct\"\n",
    "\n",
    "assert sha1(str(type(sum(credit_testing.Balance))).encode(\"utf-8\")+b\"d08bfd7a7225cb9b\").hexdigest() == \"5bea01219bfbe5ca9f7f1db7b0073d204e5f7e04\", \"type of sum(credit_testing.Balance) is not int. Please make sure it is int and not np.int64, etc. You can cast your value into an int using int()\"\n",
    "assert sha1(str(sum(credit_testing.Balance)).encode(\"utf-8\")+b\"d08bfd7a7225cb9b\").hexdigest() == \"191ab1afb07495d6f25bfda89b3c463cd781b62c\", \"value of sum(credit_testing.Balance) is not correct\"\n",
    "\n",
    "assert sha1(str(type(sum(credit_testing.Income))).encode(\"utf-8\")+b\"2ec2853f0ffac31b\").hexdigest() == \"5800f9a53a4a408a212de89d0eed490ebe9b8cd2\", \"type of sum(credit_testing.Income) is not float. Please make sure it is float and not np.float64, etc. You can cast your value into a float using float()\"\n",
    "assert sha1(str(round(sum(credit_testing.Income), 2)).encode(\"utf-8\")+b\"2ec2853f0ffac31b\").hexdigest() == \"e7074e1a344efd5af956929b2cb73ad8fb72608a\", \"value of sum(credit_testing.Income) is not correct (rounded to 2 decimal places)\"\n",
    "\n",
    "assert sha1(str(type(sum(credit_testing.Rating))).encode(\"utf-8\")+b\"45640638ff41cd19\").hexdigest() == \"e6ebbb2d00cb3e73c587f3edda424b9a5b56ed8c\", \"type of sum(credit_testing.Rating) is not int. Please make sure it is int and not np.int64, etc. You can cast your value into an int using int()\"\n",
    "assert sha1(str(sum(credit_testing.Rating)).encode(\"utf-8\")+b\"45640638ff41cd19\").hexdigest() == \"f1f1e6c425b2ca96c3d2a96bd101442221483a1c\", \"value of sum(credit_testing.Rating) is not correct\"\n",
    "\n",
    "assert sha1(str(type(X_train.columns.values)).encode(\"utf-8\")+b\"add2211afd02100f\").hexdigest() == \"462b3f24d358f3a88fdb250ff6cf7bf67f09029b\", \"type of X_train.columns.values is not correct\"\n",
    "assert sha1(str(X_train.columns.values).encode(\"utf-8\")+b\"add2211afd02100f\").hexdigest() == \"40109dcc68d878195d5b4abff00edd7fa0508c15\", \"value of X_train.columns.values is not correct\"\n",
    "\n",
    "assert sha1(str(type(X_train.shape)).encode(\"utf-8\")+b\"e81cdfba924e206c\").hexdigest() == \"1717503307b529068f22603e390f0854c74cc2f1\", \"type of X_train.shape is not tuple. X_train.shape should be a tuple\"\n",
    "assert sha1(str(len(X_train.shape)).encode(\"utf-8\")+b\"e81cdfba924e206c\").hexdigest() == \"2ae06f9bf3a391dfe2e45a60afab2f3102ef9a3d\", \"length of X_train.shape is not correct\"\n",
    "assert sha1(str(sorted(map(str, X_train.shape))).encode(\"utf-8\")+b\"e81cdfba924e206c\").hexdigest() == \"ae280d1231c10decb317c93004c3e952a72ce298\", \"values of X_train.shape are not correct\"\n",
    "assert sha1(str(X_train.shape).encode(\"utf-8\")+b\"e81cdfba924e206c\").hexdigest() == \"5d555539f9ff712dfb423315395f6153304d3c32\", \"order of elements of X_train.shape is not correct\"\n",
    "\n",
    "assert sha1(str(type(y_train.name)).encode(\"utf-8\")+b\"ded0af6a1e70f078\").hexdigest() == \"769f17f599999e391aabcaf771bc094ea5b9682d\", \"type of y_train.name is not str. y_train.name should be an str\"\n",
    "assert sha1(str(len(y_train.name)).encode(\"utf-8\")+b\"ded0af6a1e70f078\").hexdigest() == \"5b78ff050fac19764d53e49228fe853ef0444d14\", \"length of y_train.name is not correct\"\n",
    "assert sha1(str(y_train.name.lower()).encode(\"utf-8\")+b\"ded0af6a1e70f078\").hexdigest() == \"f0615cc3772ea02186385ae4728a5b924e43c8fe\", \"value of y_train.name is not correct\"\n",
    "assert sha1(str(y_train.name).encode(\"utf-8\")+b\"ded0af6a1e70f078\").hexdigest() == \"9142d1425f673a4687ebdd96239c220fc1afc0b2\", \"correct string value of y_train.name but incorrect case of letters\"\n",
    "\n",
    "assert sha1(str(type(y_train.shape)).encode(\"utf-8\")+b\"e53beb670564c634\").hexdigest() == \"4c44b0a5ea29cd3c67bc12de92edd5bd4be94f8d\", \"type of y_train.shape is not tuple. y_train.shape should be a tuple\"\n",
    "assert sha1(str(len(y_train.shape)).encode(\"utf-8\")+b\"e53beb670564c634\").hexdigest() == \"5d0edc3c56c18b02eed55116c271647386a2de45\", \"length of y_train.shape is not correct\"\n",
    "assert sha1(str(sorted(map(str, y_train.shape))).encode(\"utf-8\")+b\"e53beb670564c634\").hexdigest() == \"b5997745d9fa60d31cf1c7999d267d55013a9356\", \"values of y_train.shape are not correct\"\n",
    "assert sha1(str(y_train.shape).encode(\"utf-8\")+b\"e53beb670564c634\").hexdigest() == \"abc35ecd1442ec11b6a0bb71c0989dddf6f6064c\", \"order of elements of y_train.shape is not correct\"\n",
    "\n",
    "assert sha1(str(type(X_test.columns.values)).encode(\"utf-8\")+b\"054a59701befc51f\").hexdigest() == \"c951d7122206c3302d0712a28ecf1dee8ffd584d\", \"type of X_test.columns.values is not correct\"\n",
    "assert sha1(str(X_test.columns.values).encode(\"utf-8\")+b\"054a59701befc51f\").hexdigest() == \"401c6ecd49635263e9033d1837cdceeb4df064ee\", \"value of X_test.columns.values is not correct\"\n",
    "\n",
    "assert sha1(str(type(X_test.shape)).encode(\"utf-8\")+b\"47327772648ee6d6\").hexdigest() == \"174f102ebe10475c6b4735d500e75c5afe6f6929\", \"type of X_test.shape is not tuple. X_test.shape should be a tuple\"\n",
    "assert sha1(str(len(X_test.shape)).encode(\"utf-8\")+b\"47327772648ee6d6\").hexdigest() == \"a84fb4b85e0ebfd93453f4b71e5a05232fba4c7e\", \"length of X_test.shape is not correct\"\n",
    "assert sha1(str(sorted(map(str, X_test.shape))).encode(\"utf-8\")+b\"47327772648ee6d6\").hexdigest() == \"a12840f56ec240d0e3d05a1cb95857ebe8bdf766\", \"values of X_test.shape are not correct\"\n",
    "assert sha1(str(X_test.shape).encode(\"utf-8\")+b\"47327772648ee6d6\").hexdigest() == \"4c0aa170e8d4ca6f95c5642bfee2d45fc66b8539\", \"order of elements of X_test.shape is not correct\"\n",
    "\n",
    "assert sha1(str(type(y_test.name)).encode(\"utf-8\")+b\"d568746a6820a016\").hexdigest() == \"cf0fd04136bece90025fca345af7cd2af2152043\", \"type of y_test.name is not str. y_test.name should be an str\"\n",
    "assert sha1(str(len(y_test.name)).encode(\"utf-8\")+b\"d568746a6820a016\").hexdigest() == \"12a0747fc1ad363baa34cf658fc3d3564eb645b1\", \"length of y_test.name is not correct\"\n",
    "assert sha1(str(y_test.name.lower()).encode(\"utf-8\")+b\"d568746a6820a016\").hexdigest() == \"ef8a1805a2841135426894f74730442a14cd8764\", \"value of y_test.name is not correct\"\n",
    "assert sha1(str(y_test.name).encode(\"utf-8\")+b\"d568746a6820a016\").hexdigest() == \"8f11c9a51a2c36156821424bce4cddb7e0f2ce70\", \"correct string value of y_test.name but incorrect case of letters\"\n",
    "\n",
    "assert sha1(str(type(y_test.shape)).encode(\"utf-8\")+b\"49c6ece4df6c9d35\").hexdigest() == \"adf4225359f368ad19b4118d871ede61ee91bb7f\", \"type of y_test.shape is not tuple. y_test.shape should be a tuple\"\n",
    "assert sha1(str(len(y_test.shape)).encode(\"utf-8\")+b\"49c6ece4df6c9d35\").hexdigest() == \"3f9ad75410b15930f3dfc597111b3e9dea34fc62\", \"length of y_test.shape is not correct\"\n",
    "assert sha1(str(sorted(map(str, y_test.shape))).encode(\"utf-8\")+b\"49c6ece4df6c9d35\").hexdigest() == \"74ffa0fdc4934ce22a2f0e5960710bac28b7e74b\", \"values of y_test.shape are not correct\"\n",
    "assert sha1(str(y_test.shape).encode(\"utf-8\")+b\"49c6ece4df6c9d35\").hexdigest() == \"ec01fb92b4565f520abb4775c1b8444a0c405d71\", \"order of elements of y_test.shape is not correct\"\n",
    "\n",
    "print('Success!')"
   ]
  },
  {
   "cell_type": "markdown",
   "metadata": {
    "deletable": false,
    "editable": false,
    "nbgrader": {
     "cell_type": "markdown",
     "checksum": "d30feedfbc31251c696c82d5a8e9f314",
     "grade": false,
     "grade_id": "cell-8fb9e925bafe7b08",
     "locked": true,
     "schema_version": 3,
     "solution": false,
     "task": false
    }
   },
   "source": [
    "**Question 1.3**\n",
    "<br> {points: 1}\n",
    "\n",
    "Using only the observations in the training data set, create a scatter plot matrix (or pairplot) of all the columns we are interested in including in our model. \n",
    "\n",
    "*Name the plot object `credit_eda`.*"
   ]
  },
  {
   "cell_type": "code",
   "execution_count": null,
   "metadata": {
    "deletable": false,
    "nbgrader": {
     "cell_type": "code",
     "checksum": "68c477509cb3c3cbc83a158fe9e7b9fc",
     "grade": false,
     "grade_id": "cell-4a1c52e071e0b23e",
     "locked": false,
     "schema_version": 3,
     "solution": true
    }
   },
   "outputs": [],
   "source": [
    "# your code here\n",
    "raise NotImplementedError\n",
    "credit_eda"
   ]
  },
  {
   "cell_type": "code",
   "execution_count": null,
   "metadata": {
    "deletable": false,
    "editable": false,
    "max_height": 100,
    "nbgrader": {
     "cell_type": "code",
     "checksum": "20684eedfd3209934f7e3c8a9cdad7a6",
     "grade": true,
     "grade_id": "cell-883edd273699e4b7",
     "locked": true,
     "points": 1,
     "schema_version": 3,
     "solution": false
    }
   },
   "outputs": [],
   "source": [
    "from hashlib import sha1\n",
    "assert sha1(str(type(credit_eda is None)).encode(\"utf-8\")+b\"865277805bac1aa2\").hexdigest() == \"8dab9d1bd97ee2b8c70e37c3b028e58f80dab20d\", \"type of credit_eda is None is not bool. credit_eda is None should be a bool\"\n",
    "assert sha1(str(credit_eda is None).encode(\"utf-8\")+b\"865277805bac1aa2\").hexdigest() == \"aa07690418f7675bda482db542e7f495f0158763\", \"boolean value of credit_eda is None is not correct\"\n",
    "\n",
    "assert sha1(str(type(credit_eda)).encode(\"utf-8\")+b\"c2b46c28842e4c6f\").hexdigest() == \"e303c2dcaf5444de05ec4b6bd2514ec6bcb214f0\", \"type of type(credit_eda) is not correct\"\n",
    "\n",
    "print('Success!')"
   ]
  },
  {
   "cell_type": "markdown",
   "metadata": {
    "deletable": false,
    "editable": false,
    "nbgrader": {
     "cell_type": "markdown",
     "checksum": "0b388e1d5fed00431f8d9ec9464c2c3b",
     "grade": false,
     "grade_id": "cell-8c160d0c2cc2e44b",
     "locked": true,
     "schema_version": 3,
     "solution": false,
     "task": false
    }
   },
   "source": [
    "**Question 1.4**\n",
    "<br> {points: 1} \n",
    "\n",
    "Looking at the pairplot above, which of the following statements is **incorrect**?\n",
    "\n",
    "A. There is a strong positive relationship between the response variable (`Balance`) and the `Rating` predictor\n",
    "\n",
    "B. There is a strong positive relationship between the two predictors (`Income` and `Rating`)\n",
    "\n",
    "C. There is a strong positive relationship between the response variable (`Balance`) and the `Income` predictor\n",
    "\n",
    "D. None of the above statements are incorrect\n",
    "\n",
    "*Assign your answer to an object called `answer1_4`. Make sure your answer is an uppercase letter and is surrounded by quotation marks (e.g. `\"F\"`).*"
   ]
  },
  {
   "cell_type": "code",
   "execution_count": null,
   "metadata": {
    "deletable": false,
    "nbgrader": {
     "cell_type": "code",
     "checksum": "eb673760fe8b57092184e9bd59b2dae9",
     "grade": false,
     "grade_id": "cell-60cc3240844fe505",
     "locked": false,
     "schema_version": 3,
     "solution": true,
     "task": false
    }
   },
   "outputs": [],
   "source": [
    "# your code here\n",
    "raise NotImplementedError\n",
    "answer1_4"
   ]
  },
  {
   "cell_type": "code",
   "execution_count": null,
   "metadata": {
    "deletable": false,
    "editable": false,
    "max_height": 100,
    "nbgrader": {
     "cell_type": "code",
     "checksum": "55d7381272c701e16a45c816315c3e22",
     "grade": true,
     "grade_id": "cell-921cf1869c166f49",
     "locked": true,
     "points": 1,
     "schema_version": 3,
     "solution": false,
     "task": false
    }
   },
   "outputs": [],
   "source": [
    "from hashlib import sha1\n",
    "assert sha1(str(type(answer1_4)).encode(\"utf-8\")+b\"779b2bbbe29ffa25\").hexdigest() == \"ff4b4edb17f3db618832cc7937566ca1a61c7df7\", \"type of answer1_4 is not str. answer1_4 should be an str\"\n",
    "assert sha1(str(len(answer1_4)).encode(\"utf-8\")+b\"779b2bbbe29ffa25\").hexdigest() == \"404af28d6c1217326125e09aed7098181806cef2\", \"length of answer1_4 is not correct\"\n",
    "assert sha1(str(answer1_4.lower()).encode(\"utf-8\")+b\"779b2bbbe29ffa25\").hexdigest() == \"f43f70ffa54b8f4dd4229476bb683664ea291f54\", \"value of answer1_4 is not correct\"\n",
    "assert sha1(str(answer1_4).encode(\"utf-8\")+b\"779b2bbbe29ffa25\").hexdigest() == \"6da28e6d16ceed289b21a7cc4573681f99c0ed04\", \"correct string value of answer1_4 but incorrect case of letters\"\n",
    "\n",
    "print('Success!')"
   ]
  },
  {
   "cell_type": "markdown",
   "metadata": {
    "deletable": false,
    "editable": false,
    "nbgrader": {
     "cell_type": "markdown",
     "checksum": "e6112c4cb58324229c7bc09e7d520282",
     "grade": false,
     "grade_id": "cell-ec78a305c07838f3",
     "locked": true,
     "schema_version": 3,
     "solution": false,
     "task": false
    }
   },
   "source": [
    "**Question 1.5**\n",
    "<br> {points: 1}\n",
    "\n",
    "Now that we have our training data, we will fit a linear regression model. Create a `LinearRegression` object.\n",
    "\n",
    "*Assign the object to a variable named `lm`.*"
   ]
  },
  {
   "cell_type": "code",
   "execution_count": null,
   "metadata": {
    "deletable": false,
    "nbgrader": {
     "cell_type": "code",
     "checksum": "4269477cb787aaee21d5f5aafabbd45d",
     "grade": false,
     "grade_id": "cell-9736241c0c2966b9",
     "locked": false,
     "schema_version": 3,
     "solution": true
    }
   },
   "outputs": [],
   "source": [
    "# lm = ___()\n",
    "\n",
    "# your code here\n",
    "raise NotImplementedError\n",
    "print(lm)"
   ]
  },
  {
   "cell_type": "code",
   "execution_count": null,
   "metadata": {
    "deletable": false,
    "editable": false,
    "max_height": 100,
    "nbgrader": {
     "cell_type": "code",
     "checksum": "316b9ab3e57145dda7dabd3ad1496873",
     "grade": true,
     "grade_id": "cell-a647adab28a3dfb2",
     "locked": true,
     "points": 1,
     "schema_version": 3,
     "solution": false
    }
   },
   "outputs": [],
   "source": [
    "from hashlib import sha1\n",
    "assert sha1(str(type(lm is None)).encode(\"utf-8\")+b\"0f5ad1158a213775\").hexdigest() == \"21fed1295e942a0b59a697bebd02456c1686015e\", \"type of lm is None is not bool. lm is None should be a bool\"\n",
    "assert sha1(str(lm is None).encode(\"utf-8\")+b\"0f5ad1158a213775\").hexdigest() == \"a46a6d36918d30f24c95f70e3dbc63dae40d35ce\", \"boolean value of lm is None is not correct\"\n",
    "\n",
    "assert sha1(str(type(type(lm))).encode(\"utf-8\")+b\"9d69b73925e66e22\").hexdigest() == \"f91891b3766bbb6e42481d61457029c3f5c77e6f\", \"type of type(lm) is not correct\"\n",
    "assert sha1(str(type(lm)).encode(\"utf-8\")+b\"9d69b73925e66e22\").hexdigest() == \"7cd16fccd54dac6de6abe05f6f597e03a30e5f5c\", \"value of type(lm) is not correct\"\n",
    "\n",
    "print('Success!')"
   ]
  },
  {
   "cell_type": "markdown",
   "metadata": {
    "deletable": false,
    "editable": false,
    "nbgrader": {
     "cell_type": "markdown",
     "checksum": "a40f47e9f8ffe50630f198a6ff133126",
     "grade": false,
     "grade_id": "cell-caf742da4236e6a8",
     "locked": true,
     "schema_version": 3,
     "solution": false,
     "task": false
    }
   },
   "source": [
    "**Question 1.6**\n",
    "<br> {points: 1}\n",
    "\n",
    "Now that we have our model, fit our simple linear regression model. \n",
    "\n",
    "*Assign the fit to an object called `credit_fit`.*"
   ]
  },
  {
   "cell_type": "code",
   "execution_count": null,
   "metadata": {
    "deletable": false,
    "nbgrader": {
     "cell_type": "code",
     "checksum": "ba58259c442f4d74f677f29bae86e163",
     "grade": false,
     "grade_id": "cell-6131349a47c37876",
     "locked": false,
     "schema_version": 3,
     "solution": true
    }
   },
   "outputs": [],
   "source": [
    "# your code here\n",
    "raise NotImplementedError\n",
    "print(credit_fit.coef_)\n",
    "print(credit_fit.intercept_)"
   ]
  },
  {
   "cell_type": "code",
   "execution_count": null,
   "metadata": {
    "deletable": false,
    "editable": false,
    "max_height": 100,
    "nbgrader": {
     "cell_type": "code",
     "checksum": "945bb78b5b7b9c0679dcfec91a4ef19b",
     "grade": true,
     "grade_id": "cell-4664079ebe7d0892",
     "locked": true,
     "points": 1,
     "schema_version": 3,
     "solution": false
    }
   },
   "outputs": [],
   "source": [
    "from hashlib import sha1\n",
    "assert sha1(str(type(credit_fit is None)).encode(\"utf-8\")+b\"11c3d40a4e4aca33\").hexdigest() == \"4062161e181a9d0ae2164819b9ef0b3bb21ff8d7\", \"type of credit_fit is None is not bool. credit_fit is None should be a bool\"\n",
    "assert sha1(str(credit_fit is None).encode(\"utf-8\")+b\"11c3d40a4e4aca33\").hexdigest() == \"65e9be04b01737bfbd7141f2fcfdf56d4093d003\", \"boolean value of credit_fit is None is not correct\"\n",
    "\n",
    "assert sha1(str(type(type(credit_fit))).encode(\"utf-8\")+b\"ade9198db4a502aa\").hexdigest() == \"a6aaf177d1e9c6156ec87d002fd9243598a45604\", \"type of type(credit_fit) is not correct\"\n",
    "assert sha1(str(type(credit_fit)).encode(\"utf-8\")+b\"ade9198db4a502aa\").hexdigest() == \"7c986cbb5d193aa2ebb3d7af630fba5ccb9ad7c1\", \"value of type(credit_fit) is not correct\"\n",
    "\n",
    "assert sha1(str(type(round(credit_fit.coef_[0], 2))).encode(\"utf-8\")+b\"0835df810275e08c\").hexdigest() == \"d9a21b9e05c0782641b44e47064049901272ef63\", \"type of round(credit_fit.coef_[0], 2) is not correct\"\n",
    "assert sha1(str(round(credit_fit.coef_[0], 2)).encode(\"utf-8\")+b\"0835df810275e08c\").hexdigest() == \"6dc00c4d913b58efb4509a86d8d82ec60ae8f48c\", \"value of round(credit_fit.coef_[0], 2) is not correct\"\n",
    "\n",
    "assert sha1(str(type(round(credit_fit.coef_[1], 2))).encode(\"utf-8\")+b\"46c87b0cf4b7d91e\").hexdigest() == \"fcc3120d5a9c7a126a6340e8c731218a48a9bce2\", \"type of round(credit_fit.coef_[1], 2) is not correct\"\n",
    "assert sha1(str(round(credit_fit.coef_[1], 2)).encode(\"utf-8\")+b\"46c87b0cf4b7d91e\").hexdigest() == \"b18107598ec9a6da4550da89903cb3bc9ab19a2c\", \"value of round(credit_fit.coef_[1], 2) is not correct\"\n",
    "\n",
    "assert sha1(str(type(round(credit_fit.fit_intercept, 2))).encode(\"utf-8\")+b\"691c60bea45f4a57\").hexdigest() == \"6b35f9884a594231c87d78dcb9fb1c4498273799\", \"type of round(credit_fit.fit_intercept, 2) is not int. Please make sure it is int and not np.int64, etc. You can cast your value into an int using int()\"\n",
    "assert sha1(str(round(credit_fit.fit_intercept, 2)).encode(\"utf-8\")+b\"691c60bea45f4a57\").hexdigest() == \"d07048b45ca5ec4ce9c96edca4d2416d3bfb0f12\", \"value of round(credit_fit.fit_intercept, 2) is not correct\"\n",
    "\n",
    "assert sha1(str(type(credit_fit.n_features_in_)).encode(\"utf-8\")+b\"f441cf7a75990acb\").hexdigest() == \"57d73b43791c73043e3630f0c27d5f9a922abb09\", \"type of credit_fit.n_features_in_ is not int. Please make sure it is int and not np.int64, etc. You can cast your value into an int using int()\"\n",
    "assert sha1(str(credit_fit.n_features_in_).encode(\"utf-8\")+b\"f441cf7a75990acb\").hexdigest() == \"197f78de065e98f8912d2077412ed7111e4255ad\", \"value of credit_fit.n_features_in_ is not correct\"\n",
    "\n",
    "print('Success!')"
   ]
  },
  {
   "cell_type": "markdown",
   "metadata": {
    "deletable": false,
    "editable": false,
    "nbgrader": {
     "cell_type": "markdown",
     "checksum": "e039c42b47e4858826fcec72d994dd73",
     "grade": false,
     "grade_id": "cell-7719909c65940401",
     "locked": true,
     "schema_version": 3,
     "solution": false,
     "task": false
    }
   },
   "source": [
    "**Question 1.7**\n",
    "<br> {points: 1}\n",
    "\n",
    "Examine the `credit_fit` to obtain the slopes/coefficients for each predictor and intercept. Which of the following mathematical equations is correct for your prediction model?\n",
    "\n",
    "A. $credit\\: card \\: balance = -530.674 -7.190*income  + 3.914*credit\\: card\\: rating$\n",
    "\n",
    "B. $credit\\: card \\: balance = -530.674 + 3.914*income  -7.190*credit\\: card\\: rating$\n",
    "\n",
    "C. $credit\\: card \\: balance = 530.674 -7.190*income  - 3.914*credit\\: card\\: rating$\n",
    "\n",
    "D. $credit\\: card \\: balance = 530.674 - 3.914*income  + 7.190*credit\\: card\\: rating$\n",
    "\n",
    "*Assign your answer to an object called `answer1_7`. Make sure your answer is an uppercase letter and is surrounded by quotation marks (e.g. `\"F\"`).*"
   ]
  },
  {
   "cell_type": "code",
   "execution_count": null,
   "metadata": {
    "deletable": false,
    "nbgrader": {
     "cell_type": "code",
     "checksum": "aab4ad637ba545630d828a66438622aa",
     "grade": false,
     "grade_id": "cell-9f0416355ca0cc31",
     "locked": false,
     "schema_version": 3,
     "solution": true,
     "task": false
    }
   },
   "outputs": [],
   "source": [
    "# your code here\n",
    "raise NotImplementedError\n",
    "answer1_7"
   ]
  },
  {
   "cell_type": "code",
   "execution_count": null,
   "metadata": {
    "deletable": false,
    "editable": false,
    "max_height": 100,
    "nbgrader": {
     "cell_type": "code",
     "checksum": "a017a130dac7f58a3f9f4dc5260744cf",
     "grade": true,
     "grade_id": "cell-27de14533c727dbc",
     "locked": true,
     "points": 1,
     "schema_version": 3,
     "solution": false,
     "task": false
    }
   },
   "outputs": [],
   "source": [
    "from hashlib import sha1\n",
    "assert sha1(str(type(answer1_7)).encode(\"utf-8\")+b\"28dab8ac13e95833\").hexdigest() == \"0d645c2a693aab258294816903b69bfbafd09e06\", \"type of answer1_7 is not str. answer1_7 should be an str\"\n",
    "assert sha1(str(len(answer1_7)).encode(\"utf-8\")+b\"28dab8ac13e95833\").hexdigest() == \"98922eed273d982b60ac060da483aff91c3d6398\", \"length of answer1_7 is not correct\"\n",
    "assert sha1(str(answer1_7.lower()).encode(\"utf-8\")+b\"28dab8ac13e95833\").hexdigest() == \"74de9198b0d76cc66500d452e912f1e173fc38a9\", \"value of answer1_7 is not correct\"\n",
    "assert sha1(str(answer1_7).encode(\"utf-8\")+b\"28dab8ac13e95833\").hexdigest() == \"3d421ddac8434c32fa7c4d79aee95dd31674c61c\", \"correct string value of answer1_7 but incorrect case of letters\"\n",
    "\n",
    "print('Success!')"
   ]
  },
  {
   "cell_type": "markdown",
   "metadata": {
    "deletable": false,
    "editable": false,
    "nbgrader": {
     "cell_type": "markdown",
     "checksum": "337a97cb8a2a5e3d6344bfa27a736257",
     "grade": false,
     "grade_id": "cell-7b9b2114fd06d867",
     "locked": true,
     "schema_version": 3,
     "solution": false,
     "task": false
    }
   },
   "source": [
    "**Question 1.8**\n",
    "<br> {points: 1}\n",
    "\n",
    "Evaluate the RMSE to assess goodness of fit on `credit_fit` (remember this is how well it predicts on the **training data** used to fit the model). First, calculate the predicted values for the test data and saved it in an object called `credit_predictions`. Next, use the `mean_squared_error` function to calculate the mean squared error between the predicted value and the training response variables. Finally, calculate the RMSE .\n",
    "\n",
    "*Assign your answer to a single numerical value called `lm_rmse`.*"
   ]
  },
  {
   "cell_type": "code",
   "execution_count": null,
   "metadata": {
    "deletable": false,
    "nbgrader": {
     "cell_type": "code",
     "checksum": "ccd2487c5b176f72fed8a1ef79930b57",
     "grade": false,
     "grade_id": "cell-12064d256dd640e2",
     "locked": false,
     "schema_version": 3,
     "solution": true
    }
   },
   "outputs": [],
   "source": [
    "# your code here\n",
    "raise NotImplementedError\n",
    "lm_rmse"
   ]
  },
  {
   "cell_type": "code",
   "execution_count": null,
   "metadata": {
    "deletable": false,
    "editable": false,
    "max_height": 100,
    "nbgrader": {
     "cell_type": "code",
     "checksum": "b04d9fd42c29d4db9bdcbed4d451d6b3",
     "grade": true,
     "grade_id": "cell-8de81bb18dedbb48",
     "locked": true,
     "points": 1,
     "schema_version": 3,
     "solution": false
    }
   },
   "outputs": [],
   "source": [
    "from hashlib import sha1\n",
    "assert sha1(str(type(lm_rmse)).encode(\"utf-8\")+b\"409e04a0eda2353e\").hexdigest() == \"c402f36eb1706c9ee72d6418ad02666a59198bcd\", \"type of lm_rmse is not correct\"\n",
    "assert sha1(str(lm_rmse).encode(\"utf-8\")+b\"409e04a0eda2353e\").hexdigest() == \"282e1be9984080334761dddf8ad42324e4708192\", \"value of lm_rmse is not correct\"\n",
    "\n",
    "print('Success!')"
   ]
  },
  {
   "cell_type": "markdown",
   "metadata": {
    "deletable": false,
    "editable": false,
    "nbgrader": {
     "cell_type": "markdown",
     "checksum": "cf7508d11ddce0765bdae17ebcb0fcd2",
     "grade": false,
     "grade_id": "cell-f873952538d4f725",
     "locked": true,
     "schema_version": 3,
     "solution": false,
     "task": false
    }
   },
   "source": [
    "**Question 1.9**\n",
    "<br> {points: 1}\n",
    "\n",
    "Now evaluate the RMSPE on the test data. Take the same steps as before, but compare the model's predictions and actual response variable values on the **test data.**\n",
    "\n",
    "*Assign your answer to a single numerical value called `lm_rmspe`.*"
   ]
  },
  {
   "cell_type": "code",
   "execution_count": null,
   "metadata": {
    "deletable": false,
    "nbgrader": {
     "cell_type": "code",
     "checksum": "c5a1151e41a6465239e5f9d39a28be03",
     "grade": false,
     "grade_id": "cell-5f42a9ac9068cfdf",
     "locked": false,
     "schema_version": 3,
     "solution": true
    }
   },
   "outputs": [],
   "source": [
    "# your code here\n",
    "raise NotImplementedError\n",
    "lm_rmse"
   ]
  },
  {
   "cell_type": "code",
   "execution_count": null,
   "metadata": {
    "deletable": false,
    "editable": false,
    "max_height": 100,
    "nbgrader": {
     "cell_type": "code",
     "checksum": "f94107c952608c3ef13a6933534439f3",
     "grade": true,
     "grade_id": "cell-41031aad5e75b436",
     "locked": true,
     "points": 1,
     "schema_version": 3,
     "solution": false
    }
   },
   "outputs": [],
   "source": [
    "from hashlib import sha1\n",
    "assert sha1(str(type(lm_rmse)).encode(\"utf-8\")+b\"2478befe19b6cb49\").hexdigest() == \"ecf0a6f6b5885ecdc583bc7c69cb61db9e2b8ca7\", \"type of lm_rmse is not correct\"\n",
    "assert sha1(str(lm_rmse).encode(\"utf-8\")+b\"2478befe19b6cb49\").hexdigest() == \"305b72e607b1902e272e7af9cf95b8bdd6f0bba6\", \"value of lm_rmse is not correct\"\n",
    "\n",
    "print('Success!')"
   ]
  },
  {
   "cell_type": "markdown",
   "metadata": {
    "deletable": false,
    "editable": false,
    "nbgrader": {
     "cell_type": "markdown",
     "checksum": "3c57b4ac877cd94bcff49ec511e7a332",
     "grade": false,
     "grade_id": "cell-f26f28bfc681966f",
     "locked": true,
     "schema_version": 3,
     "solution": false,
     "task": false
    }
   },
   "source": [
    "**Question 1.9.1**\n",
    "<br> {points: 3}\n",
    "\n",
    "Redo this analysis using $k$-nn regression instead of linear regression. Use the same predictors and train - test data splits as you used for linear regression. If you need help, follow the step-by-step instructions below. \n",
    "\n",
    "1. Create the $k$-nn regression model called `credit_knn`.\n",
    "\n",
    "2. Create a parameter grid for `n_neighbors`. Assign the parameter grid to an object called `gridvals`. \n",
    "\n",
    "3. Tune the # of neighbors using `GridSearchCV` for 5 cross validations and use `neg_root_mean_squared_error` as scoring method. Assign your answer to an object called `credit_tuned`.\n",
    "\n",
    "4. Fit your tuned model to `X_train` and `y_train`. \n",
    "\n",
    "5.  From your results, find the lowest value of RMSPE (the mean cross-validated RMSPE of the best estimator) and assign it to a single numerical value called `knn_rmspe`. Remember to add a negative sign `-` to the best score output by the cross validation, as it uses negative RMSPE internally!"
   ]
  },
  {
   "cell_type": "code",
   "execution_count": null,
   "metadata": {
    "deletable": false,
    "max_height": 100,
    "nbgrader": {
     "cell_type": "code",
     "checksum": "cb8bd6c7664b6887af02f558f412266e",
     "grade": true,
     "grade_id": "cell-99f8a777ffd9b3e7",
     "locked": false,
     "points": 3,
     "schema_version": 3,
     "solution": true,
     "task": false
    }
   },
   "outputs": [],
   "source": [
    "np.random.seed(2020) # Do not change!\n",
    "\n",
    "# your code here\n",
    "raise NotImplementedError\n",
    "knn_rmspe"
   ]
  },
  {
   "cell_type": "markdown",
   "metadata": {
    "deletable": false,
    "editable": false,
    "nbgrader": {
     "cell_type": "markdown",
     "checksum": "eac4896007ac91fc952be6aedf227196",
     "grade": false,
     "grade_id": "cell-8826c38ee017c109",
     "locked": true,
     "schema_version": 3,
     "solution": false,
     "task": false
    }
   },
   "source": [
    "**Question 1.9.2** \n",
    "<br> {points: 3}\n",
    "\n",
    "Discuss which model, linear regression versus $k$-nn regression, gives better predictions and why you think that might be happening."
   ]
  },
  {
   "cell_type": "markdown",
   "metadata": {
    "deletable": false,
    "max_height": 100,
    "nbgrader": {
     "cell_type": "markdown",
     "checksum": "c22fcd3031290228e3df02c09fecc609",
     "grade": true,
     "grade_id": "cell-051a638d3bfe7568",
     "locked": false,
     "points": 3,
     "schema_version": 3,
     "solution": true,
     "task": false
    }
   },
   "source": [
    "DOUBLE CLICK TO EDIT **THIS CELL** AND REPLACE THIS TEXT WITH YOUR ANSWER."
   ]
  },
  {
   "cell_type": "markdown",
   "metadata": {
    "deletable": false,
    "editable": false,
    "nbgrader": {
     "cell_type": "markdown",
     "checksum": "64289e0aede7c718007b9f18070269fc",
     "grade": false,
     "grade_id": "cell-053902c100826449",
     "locked": true,
     "schema_version": 3,
     "solution": false,
     "task": false
    }
   },
   "source": [
    "## 2. Ames Housing Prices\n",
    "\n",
    "<img src=\"https://media.giphy.com/media/xUPGGuzpmG3jfeYWIg/giphy.gif\" width = \"600\"/>\n",
    "\n",
    "Source: https://media.giphy.com/media/xUPGGuzpmG3jfeYWIg/giphy.gif\n",
    "\n",
    "If we take a look at the Business Insider report [What do millenials want in a home?](https://www.businessinsider.com/what-do-millennials-want-in-a-home-2017-2), we can see that millenials like newer houses that have their own defined spaces. Today we are going to be looking at housing data to understand how the sale price of a house is determined. Finding highly detailed housing data with the final sale prices is very hard, however researchers from Truman State Univeristy have studied and made available a dataset containing multiple variables for the city of Ames, Iowa. The data set describes the sale of individual residential property in Ames, Iowa\n",
    "from 2006 to 2010. You can read more about the data set [here](http://jse.amstat.org/v19n3/decock.pdf). Today we will be looking at 5 different variables to predict the sale price of a house. These variables are: \n",
    "\n",
    "- Lot Area: `lot_area`\n",
    "- Year Built: `year_built`\n",
    "- Basement Square Footage: `bsmt_sf`\n",
    "- First Floor Square Footage: `first_sf`\n",
    "- Second Floor Square Footage: `second_sf`\n",
    "\n",
    "First, load the data with the script given below. "
   ]
  },
  {
   "cell_type": "code",
   "execution_count": null,
   "metadata": {
    "deletable": false,
    "editable": false,
    "nbgrader": {
     "cell_type": "code",
     "checksum": "2aba1b2fcd6ba056979b2c7cbe48ddbe",
     "grade": false,
     "grade_id": "cell-789ffdb0a2a88b3b",
     "locked": true,
     "schema_version": 3,
     "solution": false,
     "task": false
    }
   },
   "outputs": [],
   "source": [
    "# run this cell\n",
    "\n",
    "ames_data = (\n",
    "    pd.read_csv(\"data/ames.csv\")\n",
    "    .loc[\n",
    "        :,\n",
    "        [\n",
    "            \"Lot.Area\",\n",
    "            \"Year.Built\",\n",
    "            \"Total.Bsmt.SF\",\n",
    "            \"X1st.Flr.SF\",\n",
    "            \"X2nd.Flr.SF\",\n",
    "            \"SalePrice\",\n",
    "        ],\n",
    "    ]\n",
    "    .rename(\n",
    "        columns={\n",
    "            \"Lot.Area\": \"lot_area\",\n",
    "            \"Year.Built\": \"year_built\",\n",
    "            \"Total.Bsmt.SF\": \"bsmt_sf\",\n",
    "            \"X1st.Flr.SF\": \"first_sf\",\n",
    "            \"X2nd.Flr.SF\": \"second_sf\",\n",
    "            \"SalePrice\": \"sale_price\",\n",
    "        }\n",
    "    )\n",
    "    .dropna()\n",
    ")\n",
    "\n",
    "ames_data"
   ]
  },
  {
   "cell_type": "markdown",
   "metadata": {
    "deletable": false,
    "editable": false,
    "nbgrader": {
     "cell_type": "markdown",
     "checksum": "f5064c4115589963f2fafa0a1494e851",
     "grade": false,
     "grade_id": "cell-e5207881e329c2a0",
     "locked": true,
     "schema_version": 3,
     "solution": false,
     "task": false
    }
   },
   "source": [
    "**Question 2.1**\n",
    "<br> {points: 3}\n",
    "\n",
    "Split the data into a train dataset and a test dataset, based on a 70%-30% train-test split. Use `random_state = 2019`. Remember that we want to predict the `sale_price` based on all of the other variables. \n",
    "\n",
    "*Assign the objects to `ames_training`, `ames_testing`, `X_train_ames`, `y_train_ames`, `X_test_ames` and `y_test_ames` respectively.*"
   ]
  },
  {
   "cell_type": "code",
   "execution_count": null,
   "metadata": {
    "deletable": false,
    "nbgrader": {
     "cell_type": "code",
     "checksum": "7d151913b14ad7530526b635cf090d42",
     "grade": false,
     "grade_id": "cell-4677940cbd08ded9",
     "locked": false,
     "schema_version": 3,
     "solution": true
    }
   },
   "outputs": [],
   "source": [
    "# ___, ___ = train_test_split(\n",
    "#     ___, ___, random_state=2019  # do not change the random state\n",
    "# )\n",
    "\n",
    "# X_train_ames = ...\n",
    "# y_train_ames = ...\n",
    "# X_test_ames = ...\n",
    "# y_test_ames = ...\n",
    "\n",
    "\n",
    "# your code here\n",
    "raise NotImplementedError"
   ]
  },
  {
   "cell_type": "code",
   "execution_count": null,
   "metadata": {
    "deletable": false,
    "editable": false,
    "max_height": 100,
    "nbgrader": {
     "cell_type": "code",
     "checksum": "b636f84b6a2150b40e41caf6265f2463",
     "grade": true,
     "grade_id": "cell-416374a3ce562c44",
     "locked": true,
     "points": 3,
     "schema_version": 3,
     "solution": false
    }
   },
   "outputs": [],
   "source": [
    "# Note: this question has hidden tests! You can't see these while you're working.\n",
    "# We list the objects you must create here to make sure you actually created them.\n",
    "\n",
    "X_train_ames\n",
    "y_train_ames\n",
    "X_test_ames\n",
    "y_test_ames\n",
    "\n",
    "print('Success!')"
   ]
  },
  {
   "cell_type": "markdown",
   "metadata": {
    "deletable": false,
    "editable": false,
    "nbgrader": {
     "cell_type": "markdown",
     "checksum": "bf70f5e1a7428e61b8a018c2ecdac1e4",
     "grade": false,
     "grade_id": "cell-1060b3c866d44767",
     "locked": true,
     "schema_version": 3,
     "solution": false,
     "task": false
    }
   },
   "source": [
    "**Question 2.2**\n",
    "<br> {points: 3}\n",
    "\n",
    "Let's start by exploring the training data. Create a scatter plot matrix (or pairplot) of all the columns to explore the relationships between the different variables. \n",
    "\n",
    "*Assign your plot object to a variable named `answer2_2`.*"
   ]
  },
  {
   "cell_type": "code",
   "execution_count": null,
   "metadata": {
    "deletable": false,
    "nbgrader": {
     "cell_type": "code",
     "checksum": "795bd7603cd8c37c1e429295945dbc0a",
     "grade": false,
     "grade_id": "cell-93bef9e4a6864e86",
     "locked": false,
     "schema_version": 3,
     "solution": true
    }
   },
   "outputs": [],
   "source": [
    "# your code here\n",
    "raise NotImplementedError\n",
    "answer2_2"
   ]
  },
  {
   "cell_type": "code",
   "execution_count": null,
   "metadata": {
    "deletable": false,
    "editable": false,
    "max_height": 100,
    "nbgrader": {
     "cell_type": "code",
     "checksum": "0b1294bef6b6a1b845d6113e9930523a",
     "grade": true,
     "grade_id": "cell-ee3115b616837197",
     "locked": true,
     "points": 3,
     "schema_version": 3,
     "solution": false
    }
   },
   "outputs": [],
   "source": [
    "# Note: this question has hidden tests! You can't see these while you're working.\n",
    "# We list the objects you must create here to make sure you actually created them.\n",
    "\n",
    "answer2_2\n",
    "\n",
    "print('Success!')"
   ]
  },
  {
   "cell_type": "markdown",
   "metadata": {
    "deletable": false,
    "editable": false,
    "nbgrader": {
     "cell_type": "markdown",
     "checksum": "acff2ad4079ff316b741ae4214761f1e",
     "grade": false,
     "grade_id": "cell-e69b196736971fb3",
     "locked": true,
     "schema_version": 3,
     "solution": false,
     "task": false
    }
   },
   "source": [
    "**Question 2.3**\n",
    "<br> {points: 1}\n",
    "\n",
    "Now that we have seen all the relationships between the variables, which of the following variables would be the strongest predictor for `sale_price`?\n",
    "\n",
    "A. `bsmt_sf`\n",
    "\n",
    "B. `year_built`\n",
    "\n",
    "C. `first_sf`\n",
    "\n",
    "D. `lot_area`\n",
    "\n",
    "E. `second_sf`\n",
    "\n",
    "F. It isn't clear from these plots\n",
    "\n",
    "*Assign your answer to an object called `answer2_3`. Make sure your answer is an uppercase letter and is surrounded by quotation marks (e.g. `\"F\"`).*"
   ]
  },
  {
   "cell_type": "code",
   "execution_count": null,
   "metadata": {
    "deletable": false,
    "nbgrader": {
     "cell_type": "code",
     "checksum": "985d46304f5483d88803761ea1b1be15",
     "grade": false,
     "grade_id": "cell-1a14adeddf034fe9",
     "locked": false,
     "schema_version": 3,
     "solution": true,
     "task": false
    }
   },
   "outputs": [],
   "source": [
    "# your code here\n",
    "raise NotImplementedError\n",
    "answer2_3"
   ]
  },
  {
   "cell_type": "code",
   "execution_count": null,
   "metadata": {
    "deletable": false,
    "editable": false,
    "max_height": 100,
    "nbgrader": {
     "cell_type": "code",
     "checksum": "d38ab23ef8fed5a8e5da4704d5073263",
     "grade": true,
     "grade_id": "cell-020aa6e5f8a70372",
     "locked": true,
     "points": 1,
     "schema_version": 3,
     "solution": false,
     "task": false
    }
   },
   "outputs": [],
   "source": [
    "# Note: this question has hidden tests! You can't see these while you're working.\n",
    "# We list the objects you must create here to make sure you actually created them.\n",
    "\n",
    "answer2_3\n",
    "\n",
    "print('Success!')"
   ]
  },
  {
   "cell_type": "markdown",
   "metadata": {
    "deletable": false,
    "editable": false,
    "nbgrader": {
     "cell_type": "markdown",
     "checksum": "c144870d50c73116789d2f3b24d36660",
     "grade": false,
     "grade_id": "cell-f133a2d80fdd9cd3",
     "locked": true,
     "schema_version": 3,
     "solution": false,
     "task": false
    }
   },
   "source": [
    "**Question 2.4**\n",
    "<br> {points: 3}\n",
    "\n",
    "Fit a linear regression model from `scikit-learn` with `X_train_ames` and `y_train_ames`. \n",
    "\n",
    "- create a linear regression model called `lm`\n",
    "- fit the model to `X_train_ames` and `y_train_ames` and name it as `ames_fit`\n",
    "\n",
    "*Save the fit to an object called `ames_fit`.*"
   ]
  },
  {
   "cell_type": "code",
   "execution_count": null,
   "metadata": {
    "deletable": false,
    "nbgrader": {
     "cell_type": "code",
     "checksum": "ef729e250b36fb850104f43ff9d44a83",
     "grade": false,
     "grade_id": "cell-a81625dc68efe574",
     "locked": false,
     "schema_version": 3,
     "solution": true
    }
   },
   "outputs": [],
   "source": [
    "# your code here\n",
    "raise NotImplementedError\n",
    "ames_fit"
   ]
  },
  {
   "cell_type": "code",
   "execution_count": null,
   "metadata": {
    "deletable": false,
    "editable": false,
    "max_height": 100,
    "nbgrader": {
     "cell_type": "code",
     "checksum": "97c36605f02d10be336e350d5632cc13",
     "grade": true,
     "grade_id": "cell-664d89562f972a45",
     "locked": true,
     "points": 3,
     "schema_version": 3,
     "solution": false
    }
   },
   "outputs": [],
   "source": [
    "# Note: this question has hidden tests! You can't see these while you're working.\n",
    "# We list the objects you must create here to make sure you actually created them.\n",
    "\n",
    "lm\n",
    "ames_fit\n",
    "\n",
    "print('Success!')"
   ]
  },
  {
   "cell_type": "markdown",
   "metadata": {
    "deletable": false,
    "editable": false,
    "nbgrader": {
     "cell_type": "markdown",
     "checksum": "364b31f2eb39bbd4ed4886907686d535",
     "grade": false,
     "grade_id": "cell-f5aa9d2d7559db6b",
     "locked": true,
     "schema_version": 3,
     "solution": false,
     "task": false
    }
   },
   "source": [
    "**Question 2.5**\n",
    "<br> {points: 1}\n",
    "\n",
    "True or false: \"Aside from the intercept, all the variables have a positive relationship with the `sale_price`. As the value of the variables decrease, the prices of the houses increase.\"\n",
    "\n",
    "*Assign your answer to an object called `answer2_5`. Make sure your answer is either `True` or `False`.*"
   ]
  },
  {
   "cell_type": "code",
   "execution_count": null,
   "metadata": {
    "deletable": false,
    "nbgrader": {
     "cell_type": "code",
     "checksum": "0664a9089d78359b909a4df225138431",
     "grade": false,
     "grade_id": "cell-b2700d5cb1ebe069",
     "locked": false,
     "schema_version": 3,
     "solution": true,
     "task": false
    }
   },
   "outputs": [],
   "source": [
    "# your code here\n",
    "raise NotImplementedError\n",
    "answer2_5"
   ]
  },
  {
   "cell_type": "code",
   "execution_count": null,
   "metadata": {
    "deletable": false,
    "editable": false,
    "max_height": 100,
    "nbgrader": {
     "cell_type": "code",
     "checksum": "d22044e49b8d885dadf3cbda6ec08581",
     "grade": true,
     "grade_id": "cell-d02d466ab600f590",
     "locked": true,
     "points": 1,
     "schema_version": 3,
     "solution": false,
     "task": false
    }
   },
   "outputs": [],
   "source": [
    "# Note: this question has hidden tests! You can't see these while you're working.\n",
    "# We list the objects you must create here to make sure you actually created them.\n",
    "\n",
    "answer2_5\n",
    "\n",
    "\n",
    "print('Success!')"
   ]
  },
  {
   "cell_type": "code",
   "execution_count": null,
   "metadata": {
    "deletable": false,
    "editable": false,
    "nbgrader": {
     "cell_type": "code",
     "checksum": "820e991c8a3e2ae48af9a815a9749e62",
     "grade": false,
     "grade_id": "cell-bb9de39d3d1ef72f",
     "locked": true,
     "schema_version": 3,
     "solution": false,
     "task": false
    }
   },
   "outputs": [],
   "source": [
    "# run this cell\n",
    "print(f\"coefficients: {ames_fit.coef_.tolist()}\")\n",
    "print(f\"intercept: {ames_fit.intercept_}\")"
   ]
  },
  {
   "cell_type": "markdown",
   "metadata": {
    "deletable": false,
    "editable": false,
    "nbgrader": {
     "cell_type": "markdown",
     "checksum": "d81aa1ca86b155426f5dc6cfabebb568",
     "grade": false,
     "grade_id": "cell-ffcca6c97ae145c9",
     "locked": true,
     "schema_version": 3,
     "solution": false,
     "task": false
    }
   },
   "source": [
    "**Question 2.6**\n",
    "<br> {points: 3}\n",
    "\n",
    "Looking at the coefficients and intercept produced from the cell block above, write down the equation for the linear model.\n",
    "\n",
    "Make sure to use correct math typesetting syntax (i.e., surround your answer with dollar signs, $a = b$)"
   ]
  },
  {
   "cell_type": "markdown",
   "metadata": {
    "deletable": false,
    "max_height": 100,
    "nbgrader": {
     "cell_type": "markdown",
     "checksum": "885eb92a051da5f3bff81612c6175550",
     "grade": true,
     "grade_id": "cell-8234d8869e1be009",
     "locked": false,
     "points": 3,
     "schema_version": 3,
     "solution": true,
     "task": false
    }
   },
   "source": [
    "DOUBLE CLICK TO EDIT **THIS CELL** AND REPLACE THIS TEXT WITH YOUR ANSWER.\n"
   ]
  },
  {
   "cell_type": "markdown",
   "metadata": {
    "deletable": false,
    "editable": false,
    "nbgrader": {
     "cell_type": "markdown",
     "checksum": "4460e796ecf1294914af752a7591feeb",
     "grade": false,
     "grade_id": "cell-33e696f6e5c6f880",
     "locked": true,
     "schema_version": 3,
     "solution": false,
     "task": false
    }
   },
   "source": [
    "**Question 2.7**\n",
    "<br> {points: 1}\n",
    "\n",
    "Why can we not easily visualize the model above as a line or a plane in a single plot?\n",
    "\n",
    "A. This is not true, we can actually easily visualize the model\n",
    "\n",
    "B. The intercept is much larger (6 digits) than the coefficients (single/double digits)\n",
    "\n",
    "C. There are more than 2 predictors\n",
    "\n",
    "D. None of the above\n",
    "\n",
    "*Assign your answer to an object called `answer2_7`. Make sure your answer is an uppercase letter and is surrounded by quotation marks (e.g. `\"F\"`).*"
   ]
  },
  {
   "cell_type": "code",
   "execution_count": null,
   "metadata": {
    "deletable": false,
    "nbgrader": {
     "cell_type": "code",
     "checksum": "3b209a26a79b5ec740badad1c6e5c8fb",
     "grade": false,
     "grade_id": "cell-9780a869a47de365",
     "locked": false,
     "schema_version": 3,
     "solution": true,
     "task": false
    }
   },
   "outputs": [],
   "source": [
    "# your code here\n",
    "raise NotImplementedError\n",
    "answer2_7"
   ]
  },
  {
   "cell_type": "code",
   "execution_count": null,
   "metadata": {
    "deletable": false,
    "editable": false,
    "max_height": 100,
    "nbgrader": {
     "cell_type": "code",
     "checksum": "e712a2fe15b4d87c0bbd0a4290b3815e",
     "grade": true,
     "grade_id": "cell-e9fe30e9345df159",
     "locked": true,
     "points": 1,
     "schema_version": 3,
     "solution": false,
     "task": false
    }
   },
   "outputs": [],
   "source": [
    "# Note: this question has hidden tests! You can't see these while you're working.\n",
    "# We list the objects you must create here to make sure you actually created them.\n",
    "\n",
    "answer2_7\n",
    "\n",
    "print('Success!')"
   ]
  },
  {
   "cell_type": "markdown",
   "metadata": {
    "deletable": false,
    "editable": false,
    "nbgrader": {
     "cell_type": "markdown",
     "checksum": "49711369f200096db888a27440a523cd",
     "grade": false,
     "grade_id": "cell-10c2a24200d6582f",
     "locked": true,
     "schema_version": 3,
     "solution": false,
     "task": false
    }
   },
   "source": [
    "**Question 2.8**\n",
    "<br> {points: 3}\n",
    "\n",
    "We need to evaluate how well our model is doing. For this question, calculate the RMSPE (a single numerical value) of the linear regression model using the test data set.\n",
    "\n",
    "*Assign your answer to an object named `ames_rmspe`.*"
   ]
  },
  {
   "cell_type": "code",
   "execution_count": null,
   "metadata": {
    "deletable": false,
    "nbgrader": {
     "cell_type": "code",
     "checksum": "881a108af833f819d56f60d0c9c4051f",
     "grade": false,
     "grade_id": "cell-d3d15c7887e2325a",
     "locked": false,
     "schema_version": 3,
     "solution": true
    }
   },
   "outputs": [],
   "source": [
    "np.random.seed(2020) # DO NOT REMOVE\n",
    "\n",
    "# ames_predictions = ...\n",
    "# ames_rmspe = ...\n",
    "\n",
    "# your code here\n",
    "raise NotImplementedError\n",
    "ames_rmspe"
   ]
  },
  {
   "cell_type": "code",
   "execution_count": null,
   "metadata": {
    "deletable": false,
    "editable": false,
    "max_height": 100,
    "nbgrader": {
     "cell_type": "code",
     "checksum": "9d98a7328ae7e8681d748e2872ce33e5",
     "grade": true,
     "grade_id": "cell-83731b933e194459",
     "locked": true,
     "points": 1,
     "schema_version": 3,
     "solution": false
    }
   },
   "outputs": [],
   "source": [
    "# Note: this question has hidden tests! You can't see these while you're working.\n",
    "# We list the objects you must create here to make sure you actually created them.\n",
    "\n",
    "ames_rmspe\n",
    "\n",
    "print('Success!')"
   ]
  },
  {
   "cell_type": "markdown",
   "metadata": {
    "deletable": false,
    "editable": false,
    "nbgrader": {
     "cell_type": "markdown",
     "checksum": "e67bbee6f55301d222532097c006d00e",
     "grade": false,
     "grade_id": "cell-7075ba3a0703c792",
     "locked": true,
     "schema_version": 3,
     "solution": false,
     "task": false
    }
   },
   "source": [
    "**Question 2.9**\n",
    "<br> {points: 1}\n",
    "\n",
    "Which of the following statements is **incorrect**?\n",
    "\n",
    "A. RMSE is a measure of goodness of fit \n",
    "\n",
    "B. RMSE measures how well the model predicts on data it was trained with \n",
    "\n",
    "C. RMSPE measures how well the model predicts on data it was not trained with \n",
    "\n",
    "D. RMSPE measures how well the model predicts on data it was trained with\n",
    "\n",
    "*Assign your answer to an object called `answer2_9`. Make sure your answer is an uppercase letter and is surrounded by quotation marks (e.g. `\"F\"`).*"
   ]
  },
  {
   "cell_type": "code",
   "execution_count": null,
   "metadata": {
    "deletable": false,
    "nbgrader": {
     "cell_type": "code",
     "checksum": "5e3bd6c9fd739e192ba6c48a8fa6f348",
     "grade": false,
     "grade_id": "cell-776d29fda029b788",
     "locked": false,
     "schema_version": 3,
     "solution": true,
     "task": false
    }
   },
   "outputs": [],
   "source": [
    "# your code here\n",
    "raise NotImplementedError\n",
    "answer2_9"
   ]
  },
  {
   "cell_type": "code",
   "execution_count": null,
   "metadata": {
    "deletable": false,
    "editable": false,
    "max_height": 100,
    "nbgrader": {
     "cell_type": "code",
     "checksum": "2b636ecc64752958bc3961bc4e4379b3",
     "grade": true,
     "grade_id": "cell-3831c36308e7c582",
     "locked": true,
     "points": 1,
     "schema_version": 3,
     "solution": false,
     "task": false
    }
   },
   "outputs": [],
   "source": [
    "# Note: this question has hidden tests! You can't see these while you're working.\n",
    "# We list the objects you must create here to make sure you actually created them.\n",
    "\n",
    "answer2_9\n",
    "\n",
    "print('Success!')"
   ]
  }
 ],
 "metadata": {
  "jupytext": {
   "encoding": "# -*- coding: utf-8 -*-"
  },
  "kernelspec": {
   "display_name": "Python 3 (ipykernel)",
   "language": "python",
   "name": "python3"
  },
  "language_info": {
   "codemirror_mode": {
    "name": "ipython",
    "version": 3
   },
   "file_extension": ".py",
   "mimetype": "text/x-python",
   "name": "python",
   "nbconvert_exporter": "python",
   "pygments_lexer": "ipython3",
   "version": "3.10.8"
  }
 },
 "nbformat": 4,
 "nbformat_minor": 4
}
