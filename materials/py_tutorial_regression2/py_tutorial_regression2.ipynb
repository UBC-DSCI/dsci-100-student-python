{
 "cells": [
  {
   "cell_type": "markdown",
   "metadata": {
    "deletable": false,
    "editable": false,
    "nbgrader": {
     "cell_type": "markdown",
     "checksum": "3cd14de14ef3f1923ed9bed2e95317cf",
     "grade": false,
     "grade_id": "cell-63e551f4dad255b8",
     "locked": true,
     "schema_version": 3,
     "solution": false,
     "task": false
    }
   },
   "source": [
    "# Tutorial 9: Regression Continued\n",
    "\n",
    "### Lecture and Tutorial Learning Goals:\n",
    "\n",
    "After completing this week's lecture and assignment work, you will be able to:\n",
    "\n",
    "* Recognize situations where a simple regression analysis would be appropriate for making predictions.\n",
    "* Explain the $k$-nearest neighbour regression algorithm and describe how it differs from k-nn classification.\n",
    "* Interpret the output of a $k$-nn regression.\n",
    "* In a dataset with two variables, perform $k$-nearest neighbour regression in Python using `scikit-learn` to predict the values for a test dataset.\n",
    "* Execute cross-validation in Python to choose the number of neighbours.\n",
    "* Using Python, evaluate $k$-nn regression prediction accuracy using a test data set and an appropriate metric (*e.g.*, root means square prediction error).\n",
    "* In a dataset with > 2 variables, perform $k$-nn regression in Python using `scikit-learn` to predict the values for a test dataset.\n",
    "* In the context of $k$-nn regression, compare and contrast goodness of fit and prediction properties (namely RMSE vs RMSPE).\n",
    "* Describe advantages and disadvantages of the $k$-nearest neighbour regression approach.\n",
    "* Perform ordinary least squares regression in Python using `scikit-learn` to predict the values for a test dataset.\n",
    "* Compare and contrast predictions obtained from $k$-nearest neighbour regression to those obtained using simple ordinary least squares regression from the same dataset.\n",
    "\n",
    "This tutorial covers parts of [Chapter 8](https://python.datasciencebook.ca/regression2) of the online textbook. You should read this chapter before attempting this assignment. Any place you see `___`, you must fill in the function, variable, or data to complete the code. Substitute the `raise NotImplementedError` with your completed code and answers then proceed to run the cell."
   ]
  },
  {
   "cell_type": "code",
   "execution_count": null,
   "metadata": {
    "deletable": false,
    "editable": false,
    "nbgrader": {
     "cell_type": "code",
     "checksum": "34e45b2ceece5a1aa5162a3aed364e5a",
     "grade": false,
     "grade_id": "cell-7b457a3bc36388de",
     "locked": true,
     "schema_version": 3,
     "solution": false,
     "task": false
    }
   },
   "outputs": [],
   "source": [
    "### Run this cell before continuing.\n",
    "import altair as alt\n",
    "import numpy as np\n",
    "import pandas as pd\n",
    "from sklearn import set_config\n",
    "from sklearn.linear_model import LinearRegression\n",
    "from sklearn.metrics import mean_squared_error\n",
    "from sklearn.model_selection import GridSearchCV, cross_validate, train_test_split\n",
    "from sklearn.neighbors import KNeighborsRegressor\n",
    "\n",
    "# Simplify working with large datasets in Altair\n",
    "alt.data_transformers.enable('vegafusion')\n",
    "\n",
    "# Output dataframes instead of arrays\n",
    "set_config(transform_output=\"pandas\")"
   ]
  },
  {
   "cell_type": "markdown",
   "metadata": {
    "deletable": false,
    "editable": false,
    "nbgrader": {
     "cell_type": "markdown",
     "checksum": "4dcf7fc04c1db294415cac5732c32b8a",
     "grade": false,
     "grade_id": "cell-c422b97008fe2c60",
     "locked": true,
     "schema_version": 3,
     "solution": false,
     "task": false
    }
   },
   "source": [
    "## Predicting credit card balance\n",
    "\n",
    "<img src='https://media.giphy.com/media/LCdPNT81vlv3y/giphy-downsized-large.gif' align=\"left\" width='400'>"
   ]
  },
  {
   "cell_type": "markdown",
   "metadata": {
    "deletable": false,
    "editable": false,
    "nbgrader": {
     "cell_type": "markdown",
     "checksum": "bdf11cdff26b726d4bbc1041ed1a2bce",
     "grade": false,
     "grade_id": "cell-aeb97ae2fbcbdaa8",
     "locked": true,
     "schema_version": 3,
     "solution": false,
     "task": false
    }
   },
   "source": [
    "Source: https://media.giphy.com/media/LCdPNT81vlv3y/giphy-downsized-large.gif\n",
    "\n",
    "Here in this assignment we will work with a simulated data set that contains information that we can use to create a model to predict customer credit card balance. A bank might use such information to predict which customers might be the most profitable to lend to (customers who carry a balance, but do not default, for example). Specifically, we wish to build a model to predict credit card balance (`Balance` column) based on income (`Income` column) and credit rating (`Rating` column).\n",
    "\n",
    "We access this data set by reading it from the `data` folder. The unnamed column in the data is the `ID` of each of the customers, so we rename it as such."
   ]
  },
  {
   "cell_type": "code",
   "execution_count": null,
   "metadata": {
    "deletable": false,
    "editable": false,
    "nbgrader": {
     "cell_type": "code",
     "checksum": "a54fa3c636559259f863efc1ae74f567",
     "grade": false,
     "grade_id": "cell-7429888f4a5a274a",
     "locked": true,
     "schema_version": 3,
     "solution": false,
     "task": false
    }
   },
   "outputs": [],
   "source": [
    "credit_original = (\n",
    "    pd.read_csv(\"data/Credit.csv\")\n",
    "    .rename(columns={\"Unnamed: 0\": \"ID\"})\n",
    ")\n",
    "credit_original.head()"
   ]
  },
  {
   "cell_type": "markdown",
   "metadata": {
    "deletable": false,
    "editable": false,
    "nbgrader": {
     "cell_type": "markdown",
     "checksum": "c83ab3c47d41d3be041e9bbac78706da",
     "grade": false,
     "grade_id": "cell-50099db20db03328",
     "locked": true,
     "schema_version": 3,
     "solution": false,
     "task": false
    }
   },
   "source": [
    "**Question 1.1**\n",
    "<br> {points: 1}\n",
    "\n",
    "Select only the columns of data we are interested in using for our prediction (both the predictors and the response variable). \n",
    "\n",
    "*Note: We could alternatively just leave these variables in and specify them as predictors and response in data splitting steps. But for this worksheet, let's select the relevant columns first.*\n",
    "\n",
    "*Assign the modified data frame to a variable named `credit`.*"
   ]
  },
  {
   "cell_type": "code",
   "execution_count": null,
   "metadata": {
    "deletable": false,
    "nbgrader": {
     "cell_type": "code",
     "checksum": "b742fb723aa19181e845db176035a19d",
     "grade": false,
     "grade_id": "cell-f8ecf1ab64d52b66",
     "locked": false,
     "schema_version": 3,
     "solution": true
    }
   },
   "outputs": [],
   "source": [
    "# your code here\n",
    "raise NotImplementedError\n",
    "credit"
   ]
  },
  {
   "cell_type": "code",
   "execution_count": null,
   "metadata": {
    "deletable": false,
    "editable": false,
    "nbgrader": {
     "cell_type": "code",
     "checksum": "2c9b1ed7124f4b43330ea0a27d15a591",
     "grade": true,
     "grade_id": "cell-9342aee7f4b97ddf",
     "locked": true,
     "points": 1,
     "schema_version": 3,
     "solution": false
    }
   },
   "outputs": [],
   "source": [
    "from hashlib import sha1\n",
    "assert sha1(str(type(credit)).encode(\"utf-8\")+b\"79aa\").hexdigest() == \"7f14a0661e8152ac645fcf739950a148b1e3e8a5\", \"type of type(credit) is not correct\"\n",
    "\n",
    "assert sha1(str(type(credit.shape)).encode(\"utf-8\")+b\"79ab\").hexdigest() == \"682686ad11993a0962e231173ace4f5c7eebfe63\", \"type of credit.shape is not tuple. credit.shape should be a tuple\"\n",
    "assert sha1(str(len(credit.shape)).encode(\"utf-8\")+b\"79ab\").hexdigest() == \"4716fbed56b644f0ee319a6180fae97bdb2eeb92\", \"length of credit.shape is not correct\"\n",
    "assert sha1(str(sorted(map(str, credit.shape))).encode(\"utf-8\")+b\"79ab\").hexdigest() == \"26274d7832f33fc97b0f5ac5ea1184296ac41d14\", \"values of credit.shape are not correct\"\n",
    "assert sha1(str(credit.shape).encode(\"utf-8\")+b\"79ab\").hexdigest() == \"bdaf6b488b757ee5f1864a82462e09aa5e2e28e3\", \"order of elements of credit.shape is not correct\"\n",
    "\n",
    "assert sha1(str(type(\"Income\" in credit.columns)).encode(\"utf-8\")+b\"79ac\").hexdigest() == \"0b6bb82887a64653db56f34b09cb2fbd519e8989\", \"type of \\\"Income\\\" in credit.columns is not bool. \\\"Income\\\" in credit.columns should be a bool\"\n",
    "assert sha1(str(\"Income\" in credit.columns).encode(\"utf-8\")+b\"79ac\").hexdigest() == \"0aa73defc5c176620f2934eeca054b54b493f9de\", \"boolean value of \\\"Income\\\" in credit.columns is not correct\"\n",
    "\n",
    "assert sha1(str(type(\"Balance\" in credit.columns)).encode(\"utf-8\")+b\"79ad\").hexdigest() == \"e62a2a57b8f3cf0310f15c492020b2c35b26b296\", \"type of \\\"Balance\\\" in credit.columns is not bool. \\\"Balance\\\" in credit.columns should be a bool\"\n",
    "assert sha1(str(\"Balance\" in credit.columns).encode(\"utf-8\")+b\"79ad\").hexdigest() == \"1ab5380f25da06c827873bd595106711b2109b76\", \"boolean value of \\\"Balance\\\" in credit.columns is not correct\"\n",
    "\n",
    "assert sha1(str(type(\"Rating\" in credit.columns)).encode(\"utf-8\")+b\"79ae\").hexdigest() == \"bc931b18e206834bc66e1ba54d5bc3d2cdf3e97a\", \"type of \\\"Rating\\\" in credit.columns is not bool. \\\"Rating\\\" in credit.columns should be a bool\"\n",
    "assert sha1(str(\"Rating\" in credit.columns).encode(\"utf-8\")+b\"79ae\").hexdigest() == \"f74105efe6125682f426c2183b5fbff2e3990b72\", \"boolean value of \\\"Rating\\\" in credit.columns is not correct\"\n",
    "\n",
    "assert sha1(str(type(\"X1\" not in credit.columns)).encode(\"utf-8\")+b\"79af\").hexdigest() == \"3ebb9d798a931bff247bf4c7ef1617c1923ebdc3\", \"type of \\\"X1\\\" not in credit.columns is not bool. \\\"X1\\\" not in credit.columns should be a bool\"\n",
    "assert sha1(str(\"X1\" not in credit.columns).encode(\"utf-8\")+b\"79af\").hexdigest() == \"cb4efad96e2bbd1a901ecee0e9be1d3a6ab446ca\", \"boolean value of \\\"X1\\\" not in credit.columns is not correct\"\n",
    "\n",
    "print('Success!')"
   ]
  },
  {
   "cell_type": "markdown",
   "metadata": {
    "deletable": false,
    "editable": false,
    "nbgrader": {
     "cell_type": "markdown",
     "checksum": "87966d088f86cdf7542b095c9ac011c9",
     "grade": false,
     "grade_id": "cell-505c4d1e16fc257f",
     "locked": true,
     "schema_version": 3,
     "solution": false,
     "task": false
    }
   },
   "source": [
    "**Question 1.2**\n",
    "<br> {points: 1}\n",
    "\n",
    "**Before** we perform exploratory data analysis, we should create our training and testing data sets. First, split the `credit` data set. Use 60% of the data and assign your answer to objects called `credit_training` and `credit_testing`. Please set the `random_state` as 2000. \n",
    "\n",
    "Set the variable we want to predict as the `y_train` and the predictors as `X_train` for `credit_training`. Set the variable we want to predict as the `y_test` and the predictors as `X_test` for `credit_testing`.  \n",
    "\n",
    "*Assign your answers to variables named `credit_training`, `credit_testing`, `X_train`, `y_train`, `X_test`, and `y_test`.*"
   ]
  },
  {
   "cell_type": "code",
   "execution_count": null,
   "metadata": {
    "deletable": false,
    "nbgrader": {
     "cell_type": "code",
     "checksum": "b184cd95e2f582861805740ee1691bac",
     "grade": false,
     "grade_id": "cell-0a1b215548c7e884",
     "locked": false,
     "schema_version": 3,
     "solution": true,
     "task": false
    }
   },
   "outputs": [],
   "source": [
    "# _____, _____ = train_test_split(\n",
    "#    ____, ____, random_state=2000           # do not change the random_state\n",
    "# )\n",
    "\n",
    "# X_train = ___\n",
    "# y_train = ___\n",
    "\n",
    "# X_test = ___\n",
    "# y_test = ___\n",
    "\n",
    "# your code here\n",
    "raise NotImplementedError"
   ]
  },
  {
   "cell_type": "code",
   "execution_count": null,
   "metadata": {
    "deletable": false,
    "editable": false,
    "nbgrader": {
     "cell_type": "code",
     "checksum": "69393b7da64f9ac73b246596e8cb305c",
     "grade": true,
     "grade_id": "cell-c6bf91ef0c8f21b5",
     "locked": true,
     "points": 1,
     "schema_version": 3,
     "solution": false,
     "task": false
    }
   },
   "outputs": [],
   "source": [
    "from hashlib import sha1\n",
    "assert sha1(str(type(credit_training is None)).encode(\"utf-8\")+b\"5b6b6\").hexdigest() == \"0643e7828f98abdd0904911b71990c43510b20b3\", \"type of credit_training is None is not bool. credit_training is None should be a bool\"\n",
    "assert sha1(str(credit_training is None).encode(\"utf-8\")+b\"5b6b6\").hexdigest() == \"6c58811182bd3cd2a15a93d721a55836593e2c65\", \"boolean value of credit_training is None is not correct\"\n",
    "\n",
    "assert sha1(str(type(credit_training.shape)).encode(\"utf-8\")+b\"5b6b7\").hexdigest() == \"906073ae13ed5cdb8e2a80b6be53ba8adecf7492\", \"type of credit_training.shape is not tuple. credit_training.shape should be a tuple\"\n",
    "assert sha1(str(len(credit_training.shape)).encode(\"utf-8\")+b\"5b6b7\").hexdigest() == \"31d69b19db724af89ae14661ede5a982d4116e49\", \"length of credit_training.shape is not correct\"\n",
    "assert sha1(str(sorted(map(str, credit_training.shape))).encode(\"utf-8\")+b\"5b6b7\").hexdigest() == \"c8e5bc653aa0be47c05ba7fade2d12f5c388e9c1\", \"values of credit_training.shape are not correct\"\n",
    "assert sha1(str(credit_training.shape).encode(\"utf-8\")+b\"5b6b7\").hexdigest() == \"683450f01a1502c4e5a80ce49cb5c6c7b204eee3\", \"order of elements of credit_training.shape is not correct\"\n",
    "\n",
    "assert sha1(str(type(sum(credit_training.Balance))).encode(\"utf-8\")+b\"5b6b8\").hexdigest() == \"95633c0b56cc2dbe0bad4fa8ec62465684ab8f31\", \"type of sum(credit_training.Balance) is not int. Please make sure it is int and not np.int64, etc. You can cast your value into an int using int()\"\n",
    "assert sha1(str(sum(credit_training.Balance)).encode(\"utf-8\")+b\"5b6b8\").hexdigest() == \"c0ea6a7dfd046d3e68ef426e756f20c264899bed\", \"value of sum(credit_training.Balance) is not correct\"\n",
    "\n",
    "assert sha1(str(type(sum(credit_training.Income))).encode(\"utf-8\")+b\"5b6b9\").hexdigest() == \"bf48b4c5d6d0692f3e57efdace6e0a38e2f9cd18\", \"type of sum(credit_training.Income) is not float. Please make sure it is float and not np.float64, etc. You can cast your value into a float using float()\"\n",
    "assert sha1(str(round(sum(credit_training.Income), 2)).encode(\"utf-8\")+b\"5b6b9\").hexdigest() == \"16daef4e51ec9fc615a9dcbb532486a3095ac981\", \"value of sum(credit_training.Income) is not correct (rounded to 2 decimal places)\"\n",
    "\n",
    "assert sha1(str(type(sum(credit_training.Rating))).encode(\"utf-8\")+b\"5b6ba\").hexdigest() == \"128f575f6cfa2ad3035587d92a4c291b74de12e1\", \"type of sum(credit_training.Rating) is not int. Please make sure it is int and not np.int64, etc. You can cast your value into an int using int()\"\n",
    "assert sha1(str(sum(credit_training.Rating)).encode(\"utf-8\")+b\"5b6ba\").hexdigest() == \"830d061e041f5b2b8350834515c123eed78b0e4e\", \"value of sum(credit_training.Rating) is not correct\"\n",
    "\n",
    "assert sha1(str(type(credit_testing is None)).encode(\"utf-8\")+b\"5b6bb\").hexdigest() == \"03698b90613c3de9e6d5b5a783c3a827fe7c5eb2\", \"type of credit_testing is None is not bool. credit_testing is None should be a bool\"\n",
    "assert sha1(str(credit_testing is None).encode(\"utf-8\")+b\"5b6bb\").hexdigest() == \"c333b9d73c0bff7e9066f164cfc9c0329050e9eb\", \"boolean value of credit_testing is None is not correct\"\n",
    "\n",
    "assert sha1(str(type(credit_testing.shape)).encode(\"utf-8\")+b\"5b6bc\").hexdigest() == \"be4374999948f978c6d38168ad1e02033fd7b02b\", \"type of credit_testing.shape is not tuple. credit_testing.shape should be a tuple\"\n",
    "assert sha1(str(len(credit_testing.shape)).encode(\"utf-8\")+b\"5b6bc\").hexdigest() == \"811fee65d3b546a8381b938365999c8493caa903\", \"length of credit_testing.shape is not correct\"\n",
    "assert sha1(str(sorted(map(str, credit_testing.shape))).encode(\"utf-8\")+b\"5b6bc\").hexdigest() == \"28186a462c5ea6dac71f24f80e4141a6d71bb705\", \"values of credit_testing.shape are not correct\"\n",
    "assert sha1(str(credit_testing.shape).encode(\"utf-8\")+b\"5b6bc\").hexdigest() == \"c82fb4bdbfac99e205051b2bffb13c29da2d1a08\", \"order of elements of credit_testing.shape is not correct\"\n",
    "\n",
    "assert sha1(str(type(sum(credit_testing.Balance))).encode(\"utf-8\")+b\"5b6bd\").hexdigest() == \"bcffdf806aec8c156f06d6b3f5db826937faa462\", \"type of sum(credit_testing.Balance) is not int. Please make sure it is int and not np.int64, etc. You can cast your value into an int using int()\"\n",
    "assert sha1(str(sum(credit_testing.Balance)).encode(\"utf-8\")+b\"5b6bd\").hexdigest() == \"028ad075f3bd0125cd8fc8ed5ac5156120eec122\", \"value of sum(credit_testing.Balance) is not correct\"\n",
    "\n",
    "assert sha1(str(type(sum(credit_testing.Income))).encode(\"utf-8\")+b\"5b6be\").hexdigest() == \"c14a7d0ca215c88565b1708081f5531e2740139d\", \"type of sum(credit_testing.Income) is not float. Please make sure it is float and not np.float64, etc. You can cast your value into a float using float()\"\n",
    "assert sha1(str(round(sum(credit_testing.Income), 2)).encode(\"utf-8\")+b\"5b6be\").hexdigest() == \"5bd6c6195a0ead22b877be2ad0a4fde3baf34641\", \"value of sum(credit_testing.Income) is not correct (rounded to 2 decimal places)\"\n",
    "\n",
    "assert sha1(str(type(sum(credit_testing.Rating))).encode(\"utf-8\")+b\"5b6bf\").hexdigest() == \"85bb188fbe826269d3c32d3b378e9ec2e9fd4e72\", \"type of sum(credit_testing.Rating) is not int. Please make sure it is int and not np.int64, etc. You can cast your value into an int using int()\"\n",
    "assert sha1(str(sum(credit_testing.Rating)).encode(\"utf-8\")+b\"5b6bf\").hexdigest() == \"1dce6998bfd32fba33d9cd4a512f26f17ba81dad\", \"value of sum(credit_testing.Rating) is not correct\"\n",
    "\n",
    "assert sha1(str(type(X_train.columns.values)).encode(\"utf-8\")+b\"5b6c0\").hexdigest() == \"b149934c168d766f04cc4d425bf6ac2fa2f00c91\", \"type of X_train.columns.values is not correct\"\n",
    "assert sha1(str(X_train.columns.values).encode(\"utf-8\")+b\"5b6c0\").hexdigest() == \"245f0d4ffc032e6a765e687e316342749ef4f015\", \"value of X_train.columns.values is not correct\"\n",
    "\n",
    "assert sha1(str(type(X_train.shape)).encode(\"utf-8\")+b\"5b6c1\").hexdigest() == \"563045ad0714b38009b5ec6ea852d6fd49c2b951\", \"type of X_train.shape is not tuple. X_train.shape should be a tuple\"\n",
    "assert sha1(str(len(X_train.shape)).encode(\"utf-8\")+b\"5b6c1\").hexdigest() == \"41b16d15ed633c26254fca98382205bb8f3dfed8\", \"length of X_train.shape is not correct\"\n",
    "assert sha1(str(sorted(map(str, X_train.shape))).encode(\"utf-8\")+b\"5b6c1\").hexdigest() == \"8a9bbbd1284f43218d04cc4cedb4652564bb0047\", \"values of X_train.shape are not correct\"\n",
    "assert sha1(str(X_train.shape).encode(\"utf-8\")+b\"5b6c1\").hexdigest() == \"c2c2761afc1e6d04d7839fb3e129c9ed0d827644\", \"order of elements of X_train.shape is not correct\"\n",
    "\n",
    "assert sha1(str(type(y_train.name)).encode(\"utf-8\")+b\"5b6c2\").hexdigest() == \"ac801b80c84560d52acfb00645e5ea2e977a6873\", \"type of y_train.name is not str. y_train.name should be an str\"\n",
    "assert sha1(str(len(y_train.name)).encode(\"utf-8\")+b\"5b6c2\").hexdigest() == \"3a752ec4910d27c15a979f9da8393694241290e6\", \"length of y_train.name is not correct\"\n",
    "assert sha1(str(y_train.name.lower()).encode(\"utf-8\")+b\"5b6c2\").hexdigest() == \"da28db7742b68afc58a1f064d9e79962eab2e14a\", \"value of y_train.name is not correct\"\n",
    "assert sha1(str(y_train.name).encode(\"utf-8\")+b\"5b6c2\").hexdigest() == \"38d073666728f4d19e8c9f06fe6cecf78677a9bc\", \"correct string value of y_train.name but incorrect case of letters\"\n",
    "\n",
    "assert sha1(str(type(y_train.shape)).encode(\"utf-8\")+b\"5b6c3\").hexdigest() == \"832727290287c713a26a814ea8d042afd5ed347e\", \"type of y_train.shape is not tuple. y_train.shape should be a tuple\"\n",
    "assert sha1(str(len(y_train.shape)).encode(\"utf-8\")+b\"5b6c3\").hexdigest() == \"657261ad0918701cddb18f7af595dea4150597cf\", \"length of y_train.shape is not correct\"\n",
    "assert sha1(str(sorted(map(str, y_train.shape))).encode(\"utf-8\")+b\"5b6c3\").hexdigest() == \"b28f94cbfc8169d863cb84ab255d38818d45167e\", \"values of y_train.shape are not correct\"\n",
    "assert sha1(str(y_train.shape).encode(\"utf-8\")+b\"5b6c3\").hexdigest() == \"a7aee2bab4046c92c592f65c0b7ca5c1fb6caa76\", \"order of elements of y_train.shape is not correct\"\n",
    "\n",
    "assert sha1(str(type(X_test.columns.values)).encode(\"utf-8\")+b\"5b6c4\").hexdigest() == \"207ce30876cd4414bb6b8083450032e49684c771\", \"type of X_test.columns.values is not correct\"\n",
    "assert sha1(str(X_test.columns.values).encode(\"utf-8\")+b\"5b6c4\").hexdigest() == \"c20cfee816e588134da866e4ab3d1c8018dad053\", \"value of X_test.columns.values is not correct\"\n",
    "\n",
    "assert sha1(str(type(X_test.shape)).encode(\"utf-8\")+b\"5b6c5\").hexdigest() == \"39e27560d78cc9089778d7b38e06986b5046af11\", \"type of X_test.shape is not tuple. X_test.shape should be a tuple\"\n",
    "assert sha1(str(len(X_test.shape)).encode(\"utf-8\")+b\"5b6c5\").hexdigest() == \"c328d2056fda57741caf1a750fd9e683eb49bac4\", \"length of X_test.shape is not correct\"\n",
    "assert sha1(str(sorted(map(str, X_test.shape))).encode(\"utf-8\")+b\"5b6c5\").hexdigest() == \"b2ab8d8c244d68b931e435c55c2932c8309e70aa\", \"values of X_test.shape are not correct\"\n",
    "assert sha1(str(X_test.shape).encode(\"utf-8\")+b\"5b6c5\").hexdigest() == \"6c6483bd826440262ce80439f0d79bf473aeaf4b\", \"order of elements of X_test.shape is not correct\"\n",
    "\n",
    "assert sha1(str(type(y_test.name)).encode(\"utf-8\")+b\"5b6c6\").hexdigest() == \"a74eb7360eb0de9b3cbcf2797eee3738fd6cdc38\", \"type of y_test.name is not str. y_test.name should be an str\"\n",
    "assert sha1(str(len(y_test.name)).encode(\"utf-8\")+b\"5b6c6\").hexdigest() == \"1f97cc105ff094fd4eec0160ebcb9d1c97d4ba01\", \"length of y_test.name is not correct\"\n",
    "assert sha1(str(y_test.name.lower()).encode(\"utf-8\")+b\"5b6c6\").hexdigest() == \"4cdc0492dcf9f60d98979d3598fd9a4cb816b172\", \"value of y_test.name is not correct\"\n",
    "assert sha1(str(y_test.name).encode(\"utf-8\")+b\"5b6c6\").hexdigest() == \"123dc585975579792de5da28ac3a0493f8c74df4\", \"correct string value of y_test.name but incorrect case of letters\"\n",
    "\n",
    "assert sha1(str(type(y_test.shape)).encode(\"utf-8\")+b\"5b6c7\").hexdigest() == \"2ee6925409d3c57110e7d1bd0b1943cdadd6e78a\", \"type of y_test.shape is not tuple. y_test.shape should be a tuple\"\n",
    "assert sha1(str(len(y_test.shape)).encode(\"utf-8\")+b\"5b6c7\").hexdigest() == \"280792b3ef063a4aa63280024a9eb9ee4c6bf497\", \"length of y_test.shape is not correct\"\n",
    "assert sha1(str(sorted(map(str, y_test.shape))).encode(\"utf-8\")+b\"5b6c7\").hexdigest() == \"359bcb738ca5db660eb890b2b70f0b39c901692c\", \"values of y_test.shape are not correct\"\n",
    "assert sha1(str(y_test.shape).encode(\"utf-8\")+b\"5b6c7\").hexdigest() == \"386094d7bec2a94e337637b4b208e9e5f5d33ca7\", \"order of elements of y_test.shape is not correct\"\n",
    "\n",
    "print('Success!')"
   ]
  },
  {
   "cell_type": "markdown",
   "metadata": {
    "deletable": false,
    "editable": false,
    "nbgrader": {
     "cell_type": "markdown",
     "checksum": "1e74fbf0b6cd34adedccc41877796545",
     "grade": false,
     "grade_id": "cell-8fb9e925bafe7b08",
     "locked": true,
     "schema_version": 3,
     "solution": false,
     "task": false
    }
   },
   "source": [
    "**Question 1.3**\n",
    "<br> {points: 1}\n",
    "\n",
    "Using only the observations in the training data set, create a pairplot (also called \"scatter plot matrix\") of all the columns we are interested in including in our model. Since we have not covered how to create these in the textbook, we have provided you with most of the code below and you just need to provide a list out the column names we are interesting in plotting.\n",
    "\n",
    "The pairplot contains a scatter plot of each pair of columns that you are plotting, so that you can explore the pairwise relationship between the variables. The diagonal is not of value, as it compares each column against itself. Also note that the plots above and below the diagonal have flipped axes; so you can study either the upper or lower set of plots, but not both.\n",
    "\n",
    "*Name the plot object `credit_pairplot`.*"
   ]
  },
  {
   "cell_type": "code",
   "execution_count": null,
   "metadata": {
    "deletable": false,
    "nbgrader": {
     "cell_type": "code",
     "checksum": "2e2b3afdf1dc4896e20d60a6877d5939",
     "grade": false,
     "grade_id": "cell-4a1c52e071e0b23e",
     "locked": false,
     "schema_version": 3,
     "solution": true
    }
   },
   "outputs": [],
   "source": [
    "# columns_to_plot = ___\n",
    "# \n",
    "# credit_pairplot = alt.Chart(credit_training).mark_point().encode(\n",
    "#     alt.X(alt.repeat(\"row\"), type=\"quantitative\"),\n",
    "#     alt.Y(alt.repeat(\"column\"), type=\"quantitative\"),\n",
    "# ).properties(\n",
    "#     width=200,\n",
    "#     height=200\n",
    "# ).repeat(\n",
    "#     column=columns_to_plot,\n",
    "#     row=columns_to_plot\n",
    "# )\n",
    "\n",
    "# your code here\n",
    "raise NotImplementedError\n",
    "credit_pairplot"
   ]
  },
  {
   "cell_type": "code",
   "execution_count": null,
   "metadata": {
    "deletable": false,
    "editable": false,
    "nbgrader": {
     "cell_type": "code",
     "checksum": "a30e014dd2ac2bbbb5b03086f1d83fb1",
     "grade": true,
     "grade_id": "cell-883edd273699e4b7",
     "locked": true,
     "points": 1,
     "schema_version": 3,
     "solution": false
    }
   },
   "outputs": [],
   "source": [
    "from hashlib import sha1\n",
    "assert sha1(str(type(credit_pairplot is None)).encode(\"utf-8\")+b\"28657\").hexdigest() == \"5bd6f78f6d9d91addb73078cb8b53e51eae3139a\", \"type of credit_pairplot is None is not bool. credit_pairplot is None should be a bool\"\n",
    "assert sha1(str(credit_pairplot is None).encode(\"utf-8\")+b\"28657\").hexdigest() == \"380e8396744559d6884906ec7e5b7eb9484e840d\", \"boolean value of credit_pairplot is None is not correct\"\n",
    "\n",
    "assert sha1(str(type(credit_pairplot)).encode(\"utf-8\")+b\"28658\").hexdigest() == \"dee60d2af170b4d15438b0ae2f82bcda2e6af195\", \"type of type(credit_pairplot) is not correct\"\n",
    "\n",
    "print('Success!')"
   ]
  },
  {
   "cell_type": "markdown",
   "metadata": {
    "deletable": false,
    "editable": false,
    "nbgrader": {
     "cell_type": "markdown",
     "checksum": "0b388e1d5fed00431f8d9ec9464c2c3b",
     "grade": false,
     "grade_id": "cell-8c160d0c2cc2e44b",
     "locked": true,
     "schema_version": 3,
     "solution": false,
     "task": false
    }
   },
   "source": [
    "**Question 1.4**\n",
    "<br> {points: 1} \n",
    "\n",
    "Looking at the pairplot above, which of the following statements is **incorrect**?\n",
    "\n",
    "A. There is a strong positive relationship between the response variable (`Balance`) and the `Rating` predictor\n",
    "\n",
    "B. There is a strong positive relationship between the two predictors (`Income` and `Rating`)\n",
    "\n",
    "C. There is a strong positive relationship between the response variable (`Balance`) and the `Income` predictor\n",
    "\n",
    "D. None of the above statements are incorrect\n",
    "\n",
    "*Assign your answer to an object called `answer1_4`. Make sure your answer is an uppercase letter and is surrounded by quotation marks (e.g. `\"F\"`).*"
   ]
  },
  {
   "cell_type": "code",
   "execution_count": null,
   "metadata": {
    "deletable": false,
    "nbgrader": {
     "cell_type": "code",
     "checksum": "eb673760fe8b57092184e9bd59b2dae9",
     "grade": false,
     "grade_id": "cell-60cc3240844fe505",
     "locked": false,
     "schema_version": 3,
     "solution": true,
     "task": false
    }
   },
   "outputs": [],
   "source": [
    "# your code here\n",
    "raise NotImplementedError\n",
    "answer1_4"
   ]
  },
  {
   "cell_type": "code",
   "execution_count": null,
   "metadata": {
    "deletable": false,
    "editable": false,
    "nbgrader": {
     "cell_type": "code",
     "checksum": "f358cf9e2156d4775a29b61fc7b7d779",
     "grade": true,
     "grade_id": "cell-921cf1869c166f49",
     "locked": true,
     "points": 1,
     "schema_version": 3,
     "solution": false,
     "task": false
    }
   },
   "outputs": [],
   "source": [
    "from hashlib import sha1\n",
    "assert sha1(str(type(answer1_4)).encode(\"utf-8\")+b\"a7864\").hexdigest() == \"39bfe7803b3f5f8f25c82c2c27666043b6e1687e\", \"type of answer1_4 is not str. answer1_4 should be an str\"\n",
    "assert sha1(str(len(answer1_4)).encode(\"utf-8\")+b\"a7864\").hexdigest() == \"2858a1f50abfbec50df9738efe6f22dbcd885178\", \"length of answer1_4 is not correct\"\n",
    "assert sha1(str(answer1_4.lower()).encode(\"utf-8\")+b\"a7864\").hexdigest() == \"c734019739169b4d02d2fc8e33cce31f76051d69\", \"value of answer1_4 is not correct\"\n",
    "assert sha1(str(answer1_4).encode(\"utf-8\")+b\"a7864\").hexdigest() == \"9d0659ac142a4dd94e15c705d4112d1f3f2061fe\", \"correct string value of answer1_4 but incorrect case of letters\"\n",
    "\n",
    "print('Success!')"
   ]
  },
  {
   "cell_type": "markdown",
   "metadata": {
    "deletable": false,
    "editable": false,
    "nbgrader": {
     "cell_type": "markdown",
     "checksum": "e6112c4cb58324229c7bc09e7d520282",
     "grade": false,
     "grade_id": "cell-ec78a305c07838f3",
     "locked": true,
     "schema_version": 3,
     "solution": false,
     "task": false
    }
   },
   "source": [
    "**Question 1.5**\n",
    "<br> {points: 1}\n",
    "\n",
    "Now that we have our training data, we will fit a linear regression model. Create a `LinearRegression` object.\n",
    "\n",
    "*Assign the object to a variable named `lm`.*"
   ]
  },
  {
   "cell_type": "code",
   "execution_count": null,
   "metadata": {
    "deletable": false,
    "nbgrader": {
     "cell_type": "code",
     "checksum": "a951d7e3d27eaa41d4dc0b04fb583f65",
     "grade": false,
     "grade_id": "cell-9736241c0c2966b9",
     "locked": false,
     "schema_version": 3,
     "solution": true
    }
   },
   "outputs": [],
   "source": [
    "# lm = ___()\n",
    "\n",
    "# your code here\n",
    "raise NotImplementedError\n",
    "lm"
   ]
  },
  {
   "cell_type": "code",
   "execution_count": null,
   "metadata": {
    "deletable": false,
    "editable": false,
    "nbgrader": {
     "cell_type": "code",
     "checksum": "9d6e8b5729477ce17925c3428e047aa9",
     "grade": true,
     "grade_id": "cell-a647adab28a3dfb2",
     "locked": true,
     "points": 1,
     "schema_version": 3,
     "solution": false
    }
   },
   "outputs": [],
   "source": [
    "from hashlib import sha1\n",
    "assert sha1(str(type(lm is None)).encode(\"utf-8\")+b\"80879\").hexdigest() == \"a4d135c07965eed6831af05e96c8754fb133d589\", \"type of lm is None is not bool. lm is None should be a bool\"\n",
    "assert sha1(str(lm is None).encode(\"utf-8\")+b\"80879\").hexdigest() == \"27ec70fc9ebbe0252de51e6fc53ad3755d96e2ae\", \"boolean value of lm is None is not correct\"\n",
    "\n",
    "assert sha1(str(type(type(lm))).encode(\"utf-8\")+b\"8087a\").hexdigest() == \"0f7397288c89c8da318697b23e16c71c20e0b8c4\", \"type of type(lm) is not correct\"\n",
    "assert sha1(str(type(lm)).encode(\"utf-8\")+b\"8087a\").hexdigest() == \"41915031a8b1d5e2c453389bf76025614e184e89\", \"value of type(lm) is not correct\"\n",
    "\n",
    "print('Success!')"
   ]
  },
  {
   "cell_type": "markdown",
   "metadata": {
    "deletable": false,
    "editable": false,
    "nbgrader": {
     "cell_type": "markdown",
     "checksum": "a40f47e9f8ffe50630f198a6ff133126",
     "grade": false,
     "grade_id": "cell-caf742da4236e6a8",
     "locked": true,
     "schema_version": 3,
     "solution": false,
     "task": false
    }
   },
   "source": [
    "**Question 1.6**\n",
    "<br> {points: 1}\n",
    "\n",
    "Now that we have our model, fit our simple linear regression model. \n",
    "\n",
    "*Assign the fit to an object called `credit_fit`.*"
   ]
  },
  {
   "cell_type": "code",
   "execution_count": null,
   "metadata": {
    "deletable": false,
    "nbgrader": {
     "cell_type": "code",
     "checksum": "ba58259c442f4d74f677f29bae86e163",
     "grade": false,
     "grade_id": "cell-6131349a47c37876",
     "locked": false,
     "schema_version": 3,
     "solution": true
    }
   },
   "outputs": [],
   "source": [
    "# your code here\n",
    "raise NotImplementedError\n",
    "print(credit_fit.coef_)\n",
    "print(credit_fit.intercept_)"
   ]
  },
  {
   "cell_type": "code",
   "execution_count": null,
   "metadata": {
    "deletable": false,
    "editable": false,
    "nbgrader": {
     "cell_type": "code",
     "checksum": "607c3de7ba3893830082bd46540ea066",
     "grade": true,
     "grade_id": "cell-4664079ebe7d0892",
     "locked": true,
     "points": 1,
     "schema_version": 3,
     "solution": false
    }
   },
   "outputs": [],
   "source": [
    "from hashlib import sha1\n",
    "assert sha1(str(type(credit_fit is None)).encode(\"utf-8\")+b\"551b2\").hexdigest() == \"f95a1e12a8d41945889865cb18ea74e98b30cacf\", \"type of credit_fit is None is not bool. credit_fit is None should be a bool\"\n",
    "assert sha1(str(credit_fit is None).encode(\"utf-8\")+b\"551b2\").hexdigest() == \"d1e6f0ae616ab70a649a2758a4697763012d1332\", \"boolean value of credit_fit is None is not correct\"\n",
    "\n",
    "assert sha1(str(type(type(credit_fit))).encode(\"utf-8\")+b\"551b3\").hexdigest() == \"811d8f5c5f0a23291a92b582f542b68192646cd3\", \"type of type(credit_fit) is not correct\"\n",
    "assert sha1(str(type(credit_fit)).encode(\"utf-8\")+b\"551b3\").hexdigest() == \"086b9221d5902c90b94fe523b9da7c96b1222d47\", \"value of type(credit_fit) is not correct\"\n",
    "\n",
    "assert sha1(str(type(round(credit_fit.coef_[0], 2))).encode(\"utf-8\")+b\"551b4\").hexdigest() == \"f6e1c542bc2655ef0512328d63eeeb78b52fdba5\", \"type of round(credit_fit.coef_[0], 2) is not correct\"\n",
    "assert sha1(str(round(credit_fit.coef_[0], 2)).encode(\"utf-8\")+b\"551b4\").hexdigest() == \"a6815745da23638f47856b3837a9838c612279e1\", \"value of round(credit_fit.coef_[0], 2) is not correct\"\n",
    "\n",
    "assert sha1(str(type(round(credit_fit.coef_[1], 2))).encode(\"utf-8\")+b\"551b5\").hexdigest() == \"215b2365885129d242de9af49ab3ff982a324a1e\", \"type of round(credit_fit.coef_[1], 2) is not correct\"\n",
    "assert sha1(str(round(credit_fit.coef_[1], 2)).encode(\"utf-8\")+b\"551b5\").hexdigest() == \"a04c99bc6e71e22558bf1f84dc0a088bbe59d6f3\", \"value of round(credit_fit.coef_[1], 2) is not correct\"\n",
    "\n",
    "assert sha1(str(type(round(credit_fit.fit_intercept, 2))).encode(\"utf-8\")+b\"551b6\").hexdigest() == \"54099bf4f8e1fb2b265fe7000fc0fb307cb04357\", \"type of round(credit_fit.fit_intercept, 2) is not int. Please make sure it is int and not np.int64, etc. You can cast your value into an int using int()\"\n",
    "assert sha1(str(round(credit_fit.fit_intercept, 2)).encode(\"utf-8\")+b\"551b6\").hexdigest() == \"2b366d8fdc167ec79fd38b7d3b06b90bd755d13f\", \"value of round(credit_fit.fit_intercept, 2) is not correct\"\n",
    "\n",
    "assert sha1(str(type(credit_fit.n_features_in_)).encode(\"utf-8\")+b\"551b7\").hexdigest() == \"7da1701547a743887bf350ffd692fa9a06cfba0c\", \"type of credit_fit.n_features_in_ is not int. Please make sure it is int and not np.int64, etc. You can cast your value into an int using int()\"\n",
    "assert sha1(str(credit_fit.n_features_in_).encode(\"utf-8\")+b\"551b7\").hexdigest() == \"7b6d83d9f7612f6f5abf8f7d54d03d73a5b18926\", \"value of credit_fit.n_features_in_ is not correct\"\n",
    "\n",
    "print('Success!')"
   ]
  },
  {
   "cell_type": "markdown",
   "metadata": {
    "deletable": false,
    "editable": false,
    "nbgrader": {
     "cell_type": "markdown",
     "checksum": "e039c42b47e4858826fcec72d994dd73",
     "grade": false,
     "grade_id": "cell-7719909c65940401",
     "locked": true,
     "schema_version": 3,
     "solution": false,
     "task": false
    }
   },
   "source": [
    "**Question 1.7**\n",
    "<br> {points: 1}\n",
    "\n",
    "Examine the `credit_fit` to obtain the slopes/coefficients for each predictor and intercept. Which of the following mathematical equations is correct for your prediction model?\n",
    "\n",
    "A. $credit\\: card \\: balance = -530.674 -7.190*income  + 3.914*credit\\: card\\: rating$\n",
    "\n",
    "B. $credit\\: card \\: balance = -530.674 + 3.914*income  -7.190*credit\\: card\\: rating$\n",
    "\n",
    "C. $credit\\: card \\: balance = 530.674 -7.190*income  - 3.914*credit\\: card\\: rating$\n",
    "\n",
    "D. $credit\\: card \\: balance = 530.674 - 3.914*income  + 7.190*credit\\: card\\: rating$\n",
    "\n",
    "*Assign your answer to an object called `answer1_7`. Make sure your answer is an uppercase letter and is surrounded by quotation marks (e.g. `\"F\"`).*"
   ]
  },
  {
   "cell_type": "code",
   "execution_count": null,
   "metadata": {
    "deletable": false,
    "nbgrader": {
     "cell_type": "code",
     "checksum": "aab4ad637ba545630d828a66438622aa",
     "grade": false,
     "grade_id": "cell-9f0416355ca0cc31",
     "locked": false,
     "schema_version": 3,
     "solution": true,
     "task": false
    }
   },
   "outputs": [],
   "source": [
    "# your code here\n",
    "raise NotImplementedError\n",
    "answer1_7"
   ]
  },
  {
   "cell_type": "code",
   "execution_count": null,
   "metadata": {
    "deletable": false,
    "editable": false,
    "nbgrader": {
     "cell_type": "code",
     "checksum": "4a98c3cbd504e7891aa1aa9ff5100657",
     "grade": true,
     "grade_id": "cell-27de14533c727dbc",
     "locked": true,
     "points": 1,
     "schema_version": 3,
     "solution": false,
     "task": false
    }
   },
   "outputs": [],
   "source": [
    "from hashlib import sha1\n",
    "assert sha1(str(type(answer1_7)).encode(\"utf-8\")+b\"a1ff6\").hexdigest() == \"dd15c298e5f75c0a5a5fc8d50fcc7f2453235cca\", \"type of answer1_7 is not str. answer1_7 should be an str\"\n",
    "assert sha1(str(len(answer1_7)).encode(\"utf-8\")+b\"a1ff6\").hexdigest() == \"e61872b236019acb84a411f696aa3b6dd917601b\", \"length of answer1_7 is not correct\"\n",
    "assert sha1(str(answer1_7.lower()).encode(\"utf-8\")+b\"a1ff6\").hexdigest() == \"e965efe73c947084363d66198310612b55c681a1\", \"value of answer1_7 is not correct\"\n",
    "assert sha1(str(answer1_7).encode(\"utf-8\")+b\"a1ff6\").hexdigest() == \"ebe19764498b055e96523af351080071b27a8df6\", \"correct string value of answer1_7 but incorrect case of letters\"\n",
    "\n",
    "print('Success!')"
   ]
  },
  {
   "cell_type": "markdown",
   "metadata": {
    "deletable": false,
    "editable": false,
    "nbgrader": {
     "cell_type": "markdown",
     "checksum": "337a97cb8a2a5e3d6344bfa27a736257",
     "grade": false,
     "grade_id": "cell-7b9b2114fd06d867",
     "locked": true,
     "schema_version": 3,
     "solution": false,
     "task": false
    }
   },
   "source": [
    "**Question 1.8**\n",
    "<br> {points: 1}\n",
    "\n",
    "Evaluate the RMSE to assess goodness of fit on `credit_fit` (remember this is how well it predicts on the **training data** used to fit the model). First, calculate the predicted values for the test data and saved it in an object called `credit_predictions`. Next, use the `mean_squared_error` function to calculate the mean squared error between the predicted value and the training response variables. Finally, calculate the RMSE .\n",
    "\n",
    "*Assign your answer to a single numerical value called `lm_rmse`.*"
   ]
  },
  {
   "cell_type": "code",
   "execution_count": null,
   "metadata": {
    "deletable": false,
    "nbgrader": {
     "cell_type": "code",
     "checksum": "ccd2487c5b176f72fed8a1ef79930b57",
     "grade": false,
     "grade_id": "cell-12064d256dd640e2",
     "locked": false,
     "schema_version": 3,
     "solution": true
    }
   },
   "outputs": [],
   "source": [
    "# your code here\n",
    "raise NotImplementedError\n",
    "lm_rmse"
   ]
  },
  {
   "cell_type": "code",
   "execution_count": null,
   "metadata": {
    "deletable": false,
    "editable": false,
    "nbgrader": {
     "cell_type": "code",
     "checksum": "6a9ae125bd0d6e07b1831c158a998cf1",
     "grade": true,
     "grade_id": "cell-8de81bb18dedbb48",
     "locked": true,
     "points": 1,
     "schema_version": 3,
     "solution": false
    }
   },
   "outputs": [],
   "source": [
    "from hashlib import sha1\n",
    "assert sha1(str(type(round(lm_rmse, 2))).encode(\"utf-8\")+b\"1afe\").hexdigest() == \"abf61a98ebcb8fc705a5e63886e9b053b46aee5c\", \"type of round(lm_rmse, 2) is not correct\"\n",
    "assert sha1(str(round(lm_rmse, 2)).encode(\"utf-8\")+b\"1afe\").hexdigest() == \"cddf54d8ba66186196ab1e21239ab11e38d9528c\", \"value of round(lm_rmse, 2) is not correct\"\n",
    "\n",
    "print('Success!')"
   ]
  },
  {
   "cell_type": "markdown",
   "metadata": {
    "deletable": false,
    "editable": false,
    "nbgrader": {
     "cell_type": "markdown",
     "checksum": "cf7508d11ddce0765bdae17ebcb0fcd2",
     "grade": false,
     "grade_id": "cell-f873952538d4f725",
     "locked": true,
     "schema_version": 3,
     "solution": false,
     "task": false
    }
   },
   "source": [
    "**Question 1.9**\n",
    "<br> {points: 1}\n",
    "\n",
    "Now evaluate the RMSPE on the test data. Take the same steps as before, but compare the model's predictions and actual response variable values on the **test data.**\n",
    "\n",
    "*Assign your answer to a single numerical value called `lm_rmspe`.*"
   ]
  },
  {
   "cell_type": "code",
   "execution_count": null,
   "metadata": {
    "deletable": false,
    "nbgrader": {
     "cell_type": "code",
     "checksum": "c5a1151e41a6465239e5f9d39a28be03",
     "grade": false,
     "grade_id": "cell-5f42a9ac9068cfdf",
     "locked": false,
     "schema_version": 3,
     "solution": true
    }
   },
   "outputs": [],
   "source": [
    "# your code here\n",
    "raise NotImplementedError\n",
    "lm_rmse"
   ]
  },
  {
   "cell_type": "code",
   "execution_count": null,
   "metadata": {
    "deletable": false,
    "editable": false,
    "nbgrader": {
     "cell_type": "code",
     "checksum": "39b2a97480c1bc1577e76ee3be264d81",
     "grade": true,
     "grade_id": "cell-41031aad5e75b436",
     "locked": true,
     "points": 1,
     "schema_version": 3,
     "solution": false
    }
   },
   "outputs": [],
   "source": [
    "from hashlib import sha1\n",
    "assert sha1(str(type(round(lm_rmse, 2))).encode(\"utf-8\")+b\"6ad1a\").hexdigest() == \"22fc8930eb920d1dd9adb575f3740f856057cb28\", \"type of round(lm_rmse, 2) is not correct\"\n",
    "assert sha1(str(round(lm_rmse, 2)).encode(\"utf-8\")+b\"6ad1a\").hexdigest() == \"a0ea00b725785a35fb451b826e590cefcaca7264\", \"value of round(lm_rmse, 2) is not correct\"\n",
    "\n",
    "print('Success!')"
   ]
  },
  {
   "cell_type": "markdown",
   "metadata": {
    "deletable": false,
    "editable": false,
    "nbgrader": {
     "cell_type": "markdown",
     "checksum": "3c57b4ac877cd94bcff49ec511e7a332",
     "grade": false,
     "grade_id": "cell-f26f28bfc681966f",
     "locked": true,
     "schema_version": 3,
     "solution": false,
     "task": false
    }
   },
   "source": [
    "**Question 1.9.1**\n",
    "<br> {points: 3}\n",
    "\n",
    "Redo this analysis using $k$-nn regression instead of linear regression. Use the same predictors and train - test data splits as you used for linear regression. If you need help, follow the step-by-step instructions below. \n",
    "\n",
    "1. Create the $k$-nn regression model called `credit_knn`.\n",
    "\n",
    "2. Create a parameter grid for `n_neighbors`. Assign the parameter grid to an object called `gridvals`. \n",
    "\n",
    "3. Tune the # of neighbors using `GridSearchCV` for 5 cross validations and use `neg_root_mean_squared_error` as scoring method. Assign your answer to an object called `credit_tuned`.\n",
    "\n",
    "4. Fit your tuned model to `X_train` and `y_train`. \n",
    "\n",
    "5.  From your results, find the lowest value of RMSPE (the mean cross-validated RMSPE of the best estimator) and assign it to a single numerical value called `knn_rmspe`. Remember to add a negative sign `-` to the best score output by the cross validation, as it uses negative RMSPE internally!"
   ]
  },
  {
   "cell_type": "code",
   "execution_count": null,
   "metadata": {
    "deletable": false,
    "nbgrader": {
     "cell_type": "code",
     "checksum": "cb8bd6c7664b6887af02f558f412266e",
     "grade": true,
     "grade_id": "cell-99f8a777ffd9b3e7",
     "locked": false,
     "points": 3,
     "schema_version": 3,
     "solution": true,
     "task": false
    }
   },
   "outputs": [],
   "source": [
    "np.random.seed(2020) # Do not change!\n",
    "\n",
    "# your code here\n",
    "raise NotImplementedError\n",
    "knn_rmspe"
   ]
  },
  {
   "cell_type": "markdown",
   "metadata": {
    "deletable": false,
    "editable": false,
    "nbgrader": {
     "cell_type": "markdown",
     "checksum": "eac4896007ac91fc952be6aedf227196",
     "grade": false,
     "grade_id": "cell-8826c38ee017c109",
     "locked": true,
     "schema_version": 3,
     "solution": false,
     "task": false
    }
   },
   "source": [
    "**Question 1.9.2** \n",
    "<br> {points: 3}\n",
    "\n",
    "Discuss which model, linear regression versus $k$-nn regression, gives better predictions and why you think that might be happening."
   ]
  },
  {
   "cell_type": "markdown",
   "metadata": {
    "deletable": false,
    "nbgrader": {
     "cell_type": "markdown",
     "checksum": "c22fcd3031290228e3df02c09fecc609",
     "grade": true,
     "grade_id": "cell-051a638d3bfe7568",
     "locked": false,
     "points": 3,
     "schema_version": 3,
     "solution": true,
     "task": false
    }
   },
   "source": [
    "DOUBLE CLICK TO EDIT **THIS CELL** AND REPLACE THIS TEXT WITH YOUR ANSWER."
   ]
  },
  {
   "cell_type": "markdown",
   "metadata": {
    "deletable": false,
    "editable": false,
    "nbgrader": {
     "cell_type": "markdown",
     "checksum": "64289e0aede7c718007b9f18070269fc",
     "grade": false,
     "grade_id": "cell-053902c100826449",
     "locked": true,
     "schema_version": 3,
     "solution": false,
     "task": false
    }
   },
   "source": [
    "## 2. Ames Housing Prices\n",
    "\n",
    "<img src=\"https://media.giphy.com/media/xUPGGuzpmG3jfeYWIg/giphy.gif\" width = \"600\"/>\n",
    "\n",
    "Source: https://media.giphy.com/media/xUPGGuzpmG3jfeYWIg/giphy.gif\n",
    "\n",
    "If we take a look at the Business Insider report [What do millenials want in a home?](https://www.businessinsider.com/what-do-millennials-want-in-a-home-2017-2), we can see that millenials like newer houses that have their own defined spaces. Today we are going to be looking at housing data to understand how the sale price of a house is determined. Finding highly detailed housing data with the final sale prices is very hard, however researchers from Truman State Univeristy have studied and made available a dataset containing multiple variables for the city of Ames, Iowa. The data set describes the sale of individual residential property in Ames, Iowa\n",
    "from 2006 to 2010. You can read more about the data set [here](http://jse.amstat.org/v19n3/decock.pdf). Today we will be looking at 5 different variables to predict the sale price of a house. These variables are: \n",
    "\n",
    "- Lot Area: `lot_area`\n",
    "- Year Built: `year_built`\n",
    "- Basement Square Footage: `bsmt_sf`\n",
    "- First Floor Square Footage: `first_sf`\n",
    "- Second Floor Square Footage: `second_sf`\n",
    "\n",
    "First, load the data with the script given below. "
   ]
  },
  {
   "cell_type": "code",
   "execution_count": null,
   "metadata": {
    "deletable": false,
    "editable": false,
    "nbgrader": {
     "cell_type": "code",
     "checksum": "c175c86422d321362dac41da68a7eedb",
     "grade": false,
     "grade_id": "cell-789ffdb0a2a88b3b",
     "locked": true,
     "schema_version": 3,
     "solution": false,
     "task": false
    }
   },
   "outputs": [],
   "source": [
    "# run this cell\n",
    "\n",
    "ames_data = (\n",
    "    pd.read_csv(\"data/ames.csv\")\n",
    "    [[\n",
    "        \"Lot.Area\",\n",
    "        \"Year.Built\",\n",
    "        \"Total.Bsmt.SF\",\n",
    "        \"X1st.Flr.SF\",\n",
    "        \"X2nd.Flr.SF\",\n",
    "        \"SalePrice\",\n",
    "    ]]\n",
    "    .rename(\n",
    "        columns={\n",
    "            \"Lot.Area\": \"lot_area\",\n",
    "            \"Year.Built\": \"year_built\",\n",
    "            \"Total.Bsmt.SF\": \"bsmt_sf\",\n",
    "            \"X1st.Flr.SF\": \"first_sf\",\n",
    "            \"X2nd.Flr.SF\": \"second_sf\",\n",
    "            \"SalePrice\": \"sale_price\",\n",
    "        }\n",
    "    )\n",
    "    .dropna()\n",
    ")\n",
    "\n",
    "ames_data"
   ]
  },
  {
   "cell_type": "markdown",
   "metadata": {
    "deletable": false,
    "editable": false,
    "nbgrader": {
     "cell_type": "markdown",
     "checksum": "f5064c4115589963f2fafa0a1494e851",
     "grade": false,
     "grade_id": "cell-e5207881e329c2a0",
     "locked": true,
     "schema_version": 3,
     "solution": false,
     "task": false
    }
   },
   "source": [
    "**Question 2.1**\n",
    "<br> {points: 3}\n",
    "\n",
    "Split the data into a train dataset and a test dataset, based on a 70%-30% train-test split. Use `random_state = 2019`. Remember that we want to predict the `sale_price` based on all of the other variables. \n",
    "\n",
    "*Assign the objects to `ames_training`, `ames_testing`, `X_train_ames`, `y_train_ames`, `X_test_ames` and `y_test_ames` respectively.*"
   ]
  },
  {
   "cell_type": "code",
   "execution_count": null,
   "metadata": {
    "deletable": false,
    "nbgrader": {
     "cell_type": "code",
     "checksum": "7d151913b14ad7530526b635cf090d42",
     "grade": false,
     "grade_id": "cell-4677940cbd08ded9",
     "locked": false,
     "schema_version": 3,
     "solution": true
    }
   },
   "outputs": [],
   "source": [
    "# ___, ___ = train_test_split(\n",
    "#     ___, ___, random_state=2019  # do not change the random state\n",
    "# )\n",
    "\n",
    "# X_train_ames = ...\n",
    "# y_train_ames = ...\n",
    "# X_test_ames = ...\n",
    "# y_test_ames = ...\n",
    "\n",
    "\n",
    "# your code here\n",
    "raise NotImplementedError"
   ]
  },
  {
   "cell_type": "code",
   "execution_count": null,
   "metadata": {
    "deletable": false,
    "editable": false,
    "nbgrader": {
     "cell_type": "code",
     "checksum": "b636f84b6a2150b40e41caf6265f2463",
     "grade": true,
     "grade_id": "cell-416374a3ce562c44",
     "locked": true,
     "points": 3,
     "schema_version": 3,
     "solution": false
    }
   },
   "outputs": [],
   "source": [
    "# Note: this question has hidden tests! You can't see these while you're working.\n",
    "# We list the objects you must create here to make sure you actually created them.\n",
    "\n",
    "X_train_ames\n",
    "y_train_ames\n",
    "X_test_ames\n",
    "y_test_ames\n",
    "\n",
    "print('Success!')"
   ]
  },
  {
   "cell_type": "markdown",
   "metadata": {
    "deletable": false,
    "editable": false,
    "nbgrader": {
     "cell_type": "markdown",
     "checksum": "c89ba34e0c36f50ece8f5c33a807fd0d",
     "grade": false,
     "grade_id": "cell-1060b3c866d44767",
     "locked": true,
     "schema_version": 3,
     "solution": false,
     "task": false
    }
   },
   "source": [
    "**Question 2.2**\n",
    "<br> {points: 3}\n",
    "\n",
    "Let's start by exploring the training data. Create a scatter plot matrix (or pairplot) of all the columns to explore the relationships between the different variables. You can copy the code from Q1.3 as a starting point and modify the data used, which columns to plot, and the size of the plots as needed.\n",
    "\n",
    "*Assign your plot object to a variable named `answer2_2`.*"
   ]
  },
  {
   "cell_type": "code",
   "execution_count": null,
   "metadata": {
    "deletable": false,
    "nbgrader": {
     "cell_type": "code",
     "checksum": "795bd7603cd8c37c1e429295945dbc0a",
     "grade": false,
     "grade_id": "cell-93bef9e4a6864e86",
     "locked": false,
     "schema_version": 3,
     "solution": true
    }
   },
   "outputs": [],
   "source": [
    "# your code here\n",
    "raise NotImplementedError\n",
    "answer2_2"
   ]
  },
  {
   "cell_type": "code",
   "execution_count": null,
   "metadata": {
    "deletable": false,
    "editable": false,
    "nbgrader": {
     "cell_type": "code",
     "checksum": "0b1294bef6b6a1b845d6113e9930523a",
     "grade": true,
     "grade_id": "cell-ee3115b616837197",
     "locked": true,
     "points": 3,
     "schema_version": 3,
     "solution": false
    }
   },
   "outputs": [],
   "source": [
    "# Note: this question has hidden tests! You can't see these while you're working.\n",
    "# We list the objects you must create here to make sure you actually created them.\n",
    "\n",
    "answer2_2\n",
    "\n",
    "print('Success!')"
   ]
  },
  {
   "cell_type": "markdown",
   "metadata": {
    "deletable": false,
    "editable": false,
    "nbgrader": {
     "cell_type": "markdown",
     "checksum": "acff2ad4079ff316b741ae4214761f1e",
     "grade": false,
     "grade_id": "cell-e69b196736971fb3",
     "locked": true,
     "schema_version": 3,
     "solution": false,
     "task": false
    }
   },
   "source": [
    "**Question 2.3**\n",
    "<br> {points: 1}\n",
    "\n",
    "Now that we have seen all the relationships between the variables, which of the following variables would be the strongest predictor for `sale_price`?\n",
    "\n",
    "A. `bsmt_sf`\n",
    "\n",
    "B. `year_built`\n",
    "\n",
    "C. `first_sf`\n",
    "\n",
    "D. `lot_area`\n",
    "\n",
    "E. `second_sf`\n",
    "\n",
    "F. It isn't clear from these plots\n",
    "\n",
    "*Assign your answer to an object called `answer2_3`. Make sure your answer is an uppercase letter and is surrounded by quotation marks (e.g. `\"F\"`).*"
   ]
  },
  {
   "cell_type": "code",
   "execution_count": null,
   "metadata": {
    "deletable": false,
    "nbgrader": {
     "cell_type": "code",
     "checksum": "985d46304f5483d88803761ea1b1be15",
     "grade": false,
     "grade_id": "cell-1a14adeddf034fe9",
     "locked": false,
     "schema_version": 3,
     "solution": true,
     "task": false
    }
   },
   "outputs": [],
   "source": [
    "# your code here\n",
    "raise NotImplementedError\n",
    "answer2_3"
   ]
  },
  {
   "cell_type": "code",
   "execution_count": null,
   "metadata": {
    "deletable": false,
    "editable": false,
    "nbgrader": {
     "cell_type": "code",
     "checksum": "d38ab23ef8fed5a8e5da4704d5073263",
     "grade": true,
     "grade_id": "cell-020aa6e5f8a70372",
     "locked": true,
     "points": 1,
     "schema_version": 3,
     "solution": false,
     "task": false
    }
   },
   "outputs": [],
   "source": [
    "# Note: this question has hidden tests! You can't see these while you're working.\n",
    "# We list the objects you must create here to make sure you actually created them.\n",
    "\n",
    "answer2_3\n",
    "\n",
    "print('Success!')"
   ]
  },
  {
   "cell_type": "markdown",
   "metadata": {
    "deletable": false,
    "editable": false,
    "nbgrader": {
     "cell_type": "markdown",
     "checksum": "c144870d50c73116789d2f3b24d36660",
     "grade": false,
     "grade_id": "cell-f133a2d80fdd9cd3",
     "locked": true,
     "schema_version": 3,
     "solution": false,
     "task": false
    }
   },
   "source": [
    "**Question 2.4**\n",
    "<br> {points: 3}\n",
    "\n",
    "Fit a linear regression model from `scikit-learn` with `X_train_ames` and `y_train_ames`. \n",
    "\n",
    "- create a linear regression model called `lm`\n",
    "- fit the model to `X_train_ames` and `y_train_ames` and name it as `ames_fit`\n",
    "\n",
    "*Save the fit to an object called `ames_fit`.*"
   ]
  },
  {
   "cell_type": "code",
   "execution_count": null,
   "metadata": {
    "deletable": false,
    "nbgrader": {
     "cell_type": "code",
     "checksum": "ef729e250b36fb850104f43ff9d44a83",
     "grade": false,
     "grade_id": "cell-a81625dc68efe574",
     "locked": false,
     "schema_version": 3,
     "solution": true
    }
   },
   "outputs": [],
   "source": [
    "# your code here\n",
    "raise NotImplementedError\n",
    "ames_fit"
   ]
  },
  {
   "cell_type": "code",
   "execution_count": null,
   "metadata": {
    "deletable": false,
    "editable": false,
    "nbgrader": {
     "cell_type": "code",
     "checksum": "97c36605f02d10be336e350d5632cc13",
     "grade": true,
     "grade_id": "cell-664d89562f972a45",
     "locked": true,
     "points": 3,
     "schema_version": 3,
     "solution": false
    }
   },
   "outputs": [],
   "source": [
    "# Note: this question has hidden tests! You can't see these while you're working.\n",
    "# We list the objects you must create here to make sure you actually created them.\n",
    "\n",
    "lm\n",
    "ames_fit\n",
    "\n",
    "print('Success!')"
   ]
  },
  {
   "cell_type": "markdown",
   "metadata": {
    "deletable": false,
    "editable": false,
    "nbgrader": {
     "cell_type": "markdown",
     "checksum": "364b31f2eb39bbd4ed4886907686d535",
     "grade": false,
     "grade_id": "cell-f5aa9d2d7559db6b",
     "locked": true,
     "schema_version": 3,
     "solution": false,
     "task": false
    }
   },
   "source": [
    "**Question 2.5**\n",
    "<br> {points: 1}\n",
    "\n",
    "True or false: \"Aside from the intercept, all the variables have a positive relationship with the `sale_price`. As the value of the variables decrease, the prices of the houses increase.\"\n",
    "\n",
    "*Assign your answer to an object called `answer2_5`. Make sure your answer is either `True` or `False`.*"
   ]
  },
  {
   "cell_type": "code",
   "execution_count": null,
   "metadata": {
    "deletable": false,
    "editable": false,
    "nbgrader": {
     "cell_type": "code",
     "checksum": "820e991c8a3e2ae48af9a815a9749e62",
     "grade": false,
     "grade_id": "cell-bb9de39d3d1ef72f",
     "locked": true,
     "schema_version": 3,
     "solution": false,
     "task": false
    }
   },
   "outputs": [],
   "source": [
    "# run this cell\n",
    "print(f\"coefficients: {ames_fit.coef_.tolist()}\")\n",
    "print(f\"intercept: {ames_fit.intercept_}\")"
   ]
  },
  {
   "cell_type": "code",
   "execution_count": null,
   "metadata": {
    "deletable": false,
    "nbgrader": {
     "cell_type": "code",
     "checksum": "0664a9089d78359b909a4df225138431",
     "grade": false,
     "grade_id": "cell-b2700d5cb1ebe069",
     "locked": false,
     "schema_version": 3,
     "solution": true,
     "task": false
    }
   },
   "outputs": [],
   "source": [
    "# your code here\n",
    "raise NotImplementedError\n",
    "answer2_5"
   ]
  },
  {
   "cell_type": "code",
   "execution_count": null,
   "metadata": {
    "deletable": false,
    "editable": false,
    "nbgrader": {
     "cell_type": "code",
     "checksum": "d22044e49b8d885dadf3cbda6ec08581",
     "grade": true,
     "grade_id": "cell-d02d466ab600f590",
     "locked": true,
     "points": 1,
     "schema_version": 3,
     "solution": false,
     "task": false
    }
   },
   "outputs": [],
   "source": [
    "# Note: this question has hidden tests! You can't see these while you're working.\n",
    "# We list the objects you must create here to make sure you actually created them.\n",
    "\n",
    "answer2_5\n",
    "\n",
    "\n",
    "print('Success!')"
   ]
  },
  {
   "cell_type": "markdown",
   "metadata": {
    "deletable": false,
    "editable": false,
    "nbgrader": {
     "cell_type": "markdown",
     "checksum": "cf3e4515adfe6af758c6ed01ed679c4c",
     "grade": false,
     "grade_id": "cell-ffcca6c97ae145c9",
     "locked": true,
     "schema_version": 3,
     "solution": false,
     "task": false
    }
   },
   "source": [
    "**Question 2.6**\n",
    "<br> {points: 3}\n",
    "\n",
    "Looking at the coefficients and intercept produced from the cell block above, write down the equation for the linear model.\n",
    "\n",
    "Make sure to use correct math typesetting syntax (surround your answer with dollar signs, e.g. `$0.5 * a$`)"
   ]
  },
  {
   "cell_type": "markdown",
   "metadata": {
    "deletable": false,
    "nbgrader": {
     "cell_type": "markdown",
     "checksum": "885eb92a051da5f3bff81612c6175550",
     "grade": true,
     "grade_id": "cell-8234d8869e1be009",
     "locked": false,
     "points": 3,
     "schema_version": 3,
     "solution": true,
     "task": false
    }
   },
   "source": [
    "DOUBLE CLICK TO EDIT **THIS CELL** AND REPLACE THIS TEXT WITH YOUR ANSWER.\n"
   ]
  },
  {
   "cell_type": "markdown",
   "metadata": {
    "deletable": false,
    "editable": false,
    "nbgrader": {
     "cell_type": "markdown",
     "checksum": "4460e796ecf1294914af752a7591feeb",
     "grade": false,
     "grade_id": "cell-33e696f6e5c6f880",
     "locked": true,
     "schema_version": 3,
     "solution": false,
     "task": false
    }
   },
   "source": [
    "**Question 2.7**\n",
    "<br> {points: 1}\n",
    "\n",
    "Why can we not easily visualize the model above as a line or a plane in a single plot?\n",
    "\n",
    "A. This is not true, we can actually easily visualize the model\n",
    "\n",
    "B. The intercept is much larger (6 digits) than the coefficients (single/double digits)\n",
    "\n",
    "C. There are more than 2 predictors\n",
    "\n",
    "D. None of the above\n",
    "\n",
    "*Assign your answer to an object called `answer2_7`. Make sure your answer is an uppercase letter and is surrounded by quotation marks (e.g. `\"F\"`).*"
   ]
  },
  {
   "cell_type": "code",
   "execution_count": null,
   "metadata": {
    "deletable": false,
    "nbgrader": {
     "cell_type": "code",
     "checksum": "3b209a26a79b5ec740badad1c6e5c8fb",
     "grade": false,
     "grade_id": "cell-9780a869a47de365",
     "locked": false,
     "schema_version": 3,
     "solution": true,
     "task": false
    }
   },
   "outputs": [],
   "source": [
    "# your code here\n",
    "raise NotImplementedError\n",
    "answer2_7"
   ]
  },
  {
   "cell_type": "code",
   "execution_count": null,
   "metadata": {
    "deletable": false,
    "editable": false,
    "nbgrader": {
     "cell_type": "code",
     "checksum": "e712a2fe15b4d87c0bbd0a4290b3815e",
     "grade": true,
     "grade_id": "cell-e9fe30e9345df159",
     "locked": true,
     "points": 1,
     "schema_version": 3,
     "solution": false,
     "task": false
    }
   },
   "outputs": [],
   "source": [
    "# Note: this question has hidden tests! You can't see these while you're working.\n",
    "# We list the objects you must create here to make sure you actually created them.\n",
    "\n",
    "answer2_7\n",
    "\n",
    "print('Success!')"
   ]
  },
  {
   "cell_type": "markdown",
   "metadata": {
    "deletable": false,
    "editable": false,
    "nbgrader": {
     "cell_type": "markdown",
     "checksum": "49711369f200096db888a27440a523cd",
     "grade": false,
     "grade_id": "cell-10c2a24200d6582f",
     "locked": true,
     "schema_version": 3,
     "solution": false,
     "task": false
    }
   },
   "source": [
    "**Question 2.8**\n",
    "<br> {points: 3}\n",
    "\n",
    "We need to evaluate how well our model is doing. For this question, calculate the RMSPE (a single numerical value) of the linear regression model using the test data set.\n",
    "\n",
    "*Assign your answer to an object named `ames_rmspe`.*"
   ]
  },
  {
   "cell_type": "code",
   "execution_count": null,
   "metadata": {
    "deletable": false,
    "nbgrader": {
     "cell_type": "code",
     "checksum": "881a108af833f819d56f60d0c9c4051f",
     "grade": false,
     "grade_id": "cell-d3d15c7887e2325a",
     "locked": false,
     "schema_version": 3,
     "solution": true
    }
   },
   "outputs": [],
   "source": [
    "np.random.seed(2020) # DO NOT REMOVE\n",
    "\n",
    "# ames_predictions = ...\n",
    "# ames_rmspe = ...\n",
    "\n",
    "# your code here\n",
    "raise NotImplementedError\n",
    "ames_rmspe"
   ]
  },
  {
   "cell_type": "code",
   "execution_count": null,
   "metadata": {
    "deletable": false,
    "editable": false,
    "nbgrader": {
     "cell_type": "code",
     "checksum": "9d98a7328ae7e8681d748e2872ce33e5",
     "grade": true,
     "grade_id": "cell-83731b933e194459",
     "locked": true,
     "points": 1,
     "schema_version": 3,
     "solution": false
    }
   },
   "outputs": [],
   "source": [
    "# Note: this question has hidden tests! You can't see these while you're working.\n",
    "# We list the objects you must create here to make sure you actually created them.\n",
    "\n",
    "ames_rmspe\n",
    "\n",
    "print('Success!')"
   ]
  },
  {
   "cell_type": "markdown",
   "metadata": {
    "deletable": false,
    "editable": false,
    "nbgrader": {
     "cell_type": "markdown",
     "checksum": "e67bbee6f55301d222532097c006d00e",
     "grade": false,
     "grade_id": "cell-7075ba3a0703c792",
     "locked": true,
     "schema_version": 3,
     "solution": false,
     "task": false
    }
   },
   "source": [
    "**Question 2.9**\n",
    "<br> {points: 1}\n",
    "\n",
    "Which of the following statements is **incorrect**?\n",
    "\n",
    "A. RMSE is a measure of goodness of fit \n",
    "\n",
    "B. RMSE measures how well the model predicts on data it was trained with \n",
    "\n",
    "C. RMSPE measures how well the model predicts on data it was not trained with \n",
    "\n",
    "D. RMSPE measures how well the model predicts on data it was trained with\n",
    "\n",
    "*Assign your answer to an object called `answer2_9`. Make sure your answer is an uppercase letter and is surrounded by quotation marks (e.g. `\"F\"`).*"
   ]
  },
  {
   "cell_type": "code",
   "execution_count": null,
   "metadata": {
    "deletable": false,
    "nbgrader": {
     "cell_type": "code",
     "checksum": "5e3bd6c9fd739e192ba6c48a8fa6f348",
     "grade": false,
     "grade_id": "cell-776d29fda029b788",
     "locked": false,
     "schema_version": 3,
     "solution": true,
     "task": false
    }
   },
   "outputs": [],
   "source": [
    "# your code here\n",
    "raise NotImplementedError\n",
    "answer2_9"
   ]
  },
  {
   "cell_type": "code",
   "execution_count": null,
   "metadata": {
    "deletable": false,
    "editable": false,
    "nbgrader": {
     "cell_type": "code",
     "checksum": "2b636ecc64752958bc3961bc4e4379b3",
     "grade": true,
     "grade_id": "cell-3831c36308e7c582",
     "locked": true,
     "points": 1,
     "schema_version": 3,
     "solution": false,
     "task": false
    }
   },
   "outputs": [],
   "source": [
    "# Note: this question has hidden tests! You can't see these while you're working.\n",
    "# We list the objects you must create here to make sure you actually created them.\n",
    "\n",
    "answer2_9\n",
    "\n",
    "print('Success!')"
   ]
  }
 ],
 "metadata": {
  "jupytext": {
   "encoding": "# -*- coding: utf-8 -*-"
  },
  "kernelspec": {
   "display_name": "Python 3 (ipykernel)",
   "language": "python",
   "name": "python3"
  },
  "language_info": {
   "codemirror_mode": {
    "name": "ipython",
    "version": 3
   },
   "file_extension": ".py",
   "mimetype": "text/x-python",
   "name": "python",
   "nbconvert_exporter": "python",
   "pygments_lexer": "ipython3",
   "version": "3.11.5"
  }
 },
 "nbformat": 4,
 "nbformat_minor": 4
}
