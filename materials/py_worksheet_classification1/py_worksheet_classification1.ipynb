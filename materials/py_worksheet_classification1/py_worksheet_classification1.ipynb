{
 "cells": [
  {
   "cell_type": "markdown",
   "metadata": {
    "deletable": false,
    "editable": false,
    "nbgrader": {
     "cell_type": "markdown",
     "checksum": "3391ee1e14b7c593dd9d8f50758518cc",
     "grade": false,
     "grade_id": "cell-56451645af3178ba",
     "locked": true,
     "schema_version": 3,
     "solution": false,
     "task": false
    }
   },
   "source": [
    "# Worksheet 6 - Classification\n",
    "\n",
    "### Lecture and Tutorial Learning Goals:\n",
    "\n",
    "After completing this week's lecture and tutorial work, you will be able to:\n",
    "\n",
    "* Recognize situations where a simple classifier would be appropriate for making predictions.\n",
    "* Explain the $K$-nearest neighbour classification algorithm.\n",
    "* Interpret the output of a classifier.\n",
    "* Compute, by hand, the distance between points when there are two explanatory variables/predictors.\n",
    "* Describe what a training data set is and how it is used in classification.\n",
    "* Given a dataset with two explanatory variables/predictors, use $K$-nearest neighbour classification in Python using the `scikit-learn` framework to predict the class of a single new observation.\n",
    "\n",
    "This worksheet covers parts of Chapter 6 of the online textbook. You should read this chapter before attempting the worksheet."
   ]
  },
  {
   "cell_type": "code",
   "execution_count": null,
   "metadata": {
    "deletable": false,
    "editable": false,
    "nbgrader": {
     "cell_type": "code",
     "checksum": "d1f78bcb9fc69c8aa2519f167eb2c495",
     "grade": false,
     "grade_id": "cell-9ca533e5e836f7e3",
     "locked": true,
     "schema_version": 3,
     "solution": false,
     "task": false
    }
   },
   "outputs": [],
   "source": [
    "### Run this cell before continuing.\n",
    "import random\n",
    "\n",
    "import altair as alt\n",
    "import pandas as pd\n",
    "import sklearn\n",
    "from sklearn.compose import make_column_transformer\n",
    "from sklearn.neighbors import KNeighborsClassifier\n",
    "from sklearn.pipeline import Pipeline, make_pipeline\n",
    "from sklearn.metrics.pairwise import euclidean_distances\n",
    "\n",
    "alt.data_transformers.disable_max_rows()"
   ]
  },
  {
   "cell_type": "markdown",
   "metadata": {
    "deletable": false,
    "editable": false,
    "nbgrader": {
     "cell_type": "markdown",
     "checksum": "99d46d99d2b631d0b270ade6bfebea39",
     "grade": false,
     "grade_id": "cell-1b949a8db8729285",
     "locked": true,
     "schema_version": 3,
     "solution": false
    }
   },
   "source": [
    "**Question 0.1** Multiple Choice: \n",
    "<br> {points: 1}\n",
    "\n",
    "**Which of the following statements is NOT true of a training data set (in the context of classification)?**\n",
    "\n",
    "A. A training data set is a collection of observations for which we know the true classes.\n",
    "\n",
    "B. We can use a training set to explore and build our classifier.\n",
    "\n",
    "C. The training data set is the underlying collection of observations for which we don't know the true classes.\n",
    "\n",
    "*Assign your answer to an object called `answer0_1`. Make sure the correct answer is an uppercase letter. Remember to surround your answer with quotation marks (e.g. \"D\").*"
   ]
  },
  {
   "cell_type": "code",
   "execution_count": null,
   "metadata": {
    "deletable": false,
    "nbgrader": {
     "cell_type": "code",
     "checksum": "94d02735e3d133ba5eda081d874bd5e1",
     "grade": false,
     "grade_id": "cell-f0a0878626777907",
     "locked": false,
     "schema_version": 3,
     "solution": true
    }
   },
   "outputs": [],
   "source": [
    "# your code here\n",
    "raise NotImplementedError"
   ]
  },
  {
   "cell_type": "code",
   "execution_count": null,
   "metadata": {
    "deletable": false,
    "editable": false,
    "max_height": 100,
    "nbgrader": {
     "cell_type": "code",
     "checksum": "30f19b8c5cba1dbad229c12a0baf4ead",
     "grade": true,
     "grade_id": "cell-5cb2c8e6177337fd",
     "locked": true,
     "points": 3,
     "schema_version": 3,
     "solution": false
    }
   },
   "outputs": [],
   "source": [
    "from hashlib import sha1\n",
    "assert sha1(str(type(answer0_1)).encode(\"utf-8\")+b\"41f90ccf04a6ff4a\").hexdigest() == \"1f6cfadb74d6bd3ab657fbcc831c024701ebb697\", \"type of answer0_1 is not str. answer0_1 should be an str\"\n",
    "assert sha1(str(len(answer0_1)).encode(\"utf-8\")+b\"41f90ccf04a6ff4a\").hexdigest() == \"ad6f56598cc830deb93ea86518d250fd4656d89c\", \"length of answer0_1 is not correct\"\n",
    "assert sha1(str(answer0_1.lower()).encode(\"utf-8\")+b\"41f90ccf04a6ff4a\").hexdigest() == \"83aa789008babe5e0432d1394ceeebf9f6219ee8\", \"value of answer0_1 is not correct\"\n",
    "assert sha1(str(answer0_1).encode(\"utf-8\")+b\"41f90ccf04a6ff4a\").hexdigest() == \"55bd0e17ccaa0c7f2b26e7271eb0d5259c566e22\", \"correct string value of answer0_1 but incorrect case of letters\"\n",
    "\n",
    "print('Success!')"
   ]
  },
  {
   "cell_type": "markdown",
   "metadata": {
    "deletable": false,
    "editable": false,
    "nbgrader": {
     "cell_type": "markdown",
     "checksum": "757c49374677b53811641456866ac212",
     "grade": false,
     "grade_id": "cell-7996c030ec20bf5c",
     "locked": true,
     "schema_version": 3,
     "solution": false
    }
   },
   "source": [
    "**Question 0.2** Multiple Choice\n",
    "<br> {points: 1}\n",
    "\n",
    "(Adapted from James et al, \"[An introduction to statistical learning](http://www-bcf.usc.edu/~gareth/ISL/)\" (page 53))\n",
    "\n",
    "Consider the scenario below: \n",
    "\n",
    "We collect data on 20 similar products. For each product we have recorded whether it was a success or failure (labelled as such by the Sales team), price charged for the product, marketing budget, competition price, customer data, and ten other variables. \n",
    "\n",
    "**Which of the following is a classification problem?**\n",
    "\n",
    "A. We are interested in comparing the profit margins for products that are a success and products that are a failure. \n",
    "\n",
    "B. We are considering launching a new product and wish to know whether it will be a success or a failure. \n",
    "\n",
    "C. We wish to group customers based on their preferences and use that knowledge to develop targeted marketing programs. \n",
    "\n",
    "*Assign your answer to an object called `answer0_2`. Make sure the correct answer is an uppercase letter. Remember to surround your answer with quotation marks (e.g. \"F\").*"
   ]
  },
  {
   "cell_type": "code",
   "execution_count": null,
   "metadata": {
    "deletable": false,
    "nbgrader": {
     "cell_type": "code",
     "checksum": "d5b8dc21e2c953fb2513876edfc8ece3",
     "grade": false,
     "grade_id": "cell-62c49be2ada51acc",
     "locked": false,
     "schema_version": 3,
     "solution": true
    }
   },
   "outputs": [],
   "source": [
    "# your code here\n",
    "raise NotImplementedError"
   ]
  },
  {
   "cell_type": "code",
   "execution_count": null,
   "metadata": {
    "deletable": false,
    "editable": false,
    "max_height": 100,
    "nbgrader": {
     "cell_type": "code",
     "checksum": "0bac7e4276a5f1db4cbfabb2b3c41c2d",
     "grade": true,
     "grade_id": "cell-61c63c0827e2a73e",
     "locked": true,
     "points": 3,
     "schema_version": 3,
     "solution": false
    }
   },
   "outputs": [],
   "source": [
    "from hashlib import sha1\n",
    "assert sha1(str(type(answer0_2)).encode(\"utf-8\")+b\"cafeaa22f4d1b081\").hexdigest() == \"b33c0be79d04d3e53166c661f4cdd1d7b7441b2f\", \"type of answer0_2 is not str. answer0_2 should be an str\"\n",
    "assert sha1(str(len(answer0_2)).encode(\"utf-8\")+b\"cafeaa22f4d1b081\").hexdigest() == \"294874473a3e05a52334676951850ebd2c58f3c5\", \"length of answer0_2 is not correct\"\n",
    "assert sha1(str(answer0_2.lower()).encode(\"utf-8\")+b\"cafeaa22f4d1b081\").hexdigest() == \"58b43ea40800242f48734102c35f9f688e2c6b02\", \"value of answer0_2 is not correct\"\n",
    "assert sha1(str(answer0_2).encode(\"utf-8\")+b\"cafeaa22f4d1b081\").hexdigest() == \"73a13a63020ae9d02890175acab900b125bff241\", \"correct string value of answer0_2 but incorrect case of letters\"\n",
    "\n",
    "print('Success!')"
   ]
  },
  {
   "cell_type": "markdown",
   "metadata": {
    "deletable": false,
    "editable": false,
    "nbgrader": {
     "cell_type": "markdown",
     "checksum": "f7d68784cae2955bfc549e6498296a52",
     "grade": false,
     "grade_id": "cell-e5066772a12351f8",
     "locked": true,
     "schema_version": 3,
     "solution": false
    }
   },
   "source": [
    "## 1. Breast Cancer Data Set \n",
    "We will work with the breast cancer data from this week's pre-reading. \n",
    "> Note that the breast cancer data in this worksheet have been **standardized (centred and scaled)** for you already. We will implement these steps in future worksheets/tutorials later, but for now, know the data has been standardized. Therefore the variables are unitless and hence why we have zero and negative values for variables like Radius. \n",
    "\n",
    "**Question 1.0**\n",
    "<br> {points: 1}\n",
    "\n",
    "Read the `clean-wdbc-data.csv` file (found in the `data` directory) using the `pd.read_csv` function into the notebook and store it as a data frame. *Name it `cancer`.*"
   ]
  },
  {
   "cell_type": "code",
   "execution_count": null,
   "metadata": {
    "deletable": false,
    "nbgrader": {
     "cell_type": "code",
     "checksum": "a07a9c14cef4594f8ed569286efe27fa",
     "grade": false,
     "grade_id": "cell-bc7e6d59f6a48ff4",
     "locked": false,
     "schema_version": 3,
     "solution": true
    }
   },
   "outputs": [],
   "source": [
    "# your code here\n",
    "raise NotImplementedError\n",
    "cancer"
   ]
  },
  {
   "cell_type": "code",
   "execution_count": null,
   "metadata": {
    "deletable": false,
    "editable": false,
    "max_height": 100,
    "nbgrader": {
     "cell_type": "code",
     "checksum": "8b268e01185bc09d6dbc75ecfa81d7a9",
     "grade": true,
     "grade_id": "cell-b7dada2851cb2d39",
     "locked": true,
     "points": 1,
     "schema_version": 3,
     "solution": false
    }
   },
   "outputs": [],
   "source": [
    "from hashlib import sha1\n",
    "assert sha1(str(type(cancer is None)).encode(\"utf-8\")+b\"4b83edfc598e5a8b\").hexdigest() == \"5bf5e53830fa14dd56c40090508ad783e06f009b\", \"type of cancer is None is not bool. cancer is None should be a bool\"\n",
    "assert sha1(str(cancer is None).encode(\"utf-8\")+b\"4b83edfc598e5a8b\").hexdigest() == \"0ab087d6f27f312dad96107dd084d51483a0b099\", \"boolean value of cancer is None is not correct\"\n",
    "\n",
    "assert sha1(str(type(cancer)).encode(\"utf-8\")+b\"9a60d838803cd0a5\").hexdigest() == \"9a1a77dd66a4188c5b06590372932ed1dbbb6557\", \"type of type(cancer) is not correct\"\n",
    "\n",
    "assert sha1(str(type(cancer.shape)).encode(\"utf-8\")+b\"9a558d9e9f3a7a5c\").hexdigest() == \"b4ba672ee7901b5208efc8494684c0f2e7cbf122\", \"type of cancer.shape is not tuple. cancer.shape should be a tuple\"\n",
    "assert sha1(str(len(cancer.shape)).encode(\"utf-8\")+b\"9a558d9e9f3a7a5c\").hexdigest() == \"0a1ec20db5b52b4155319070087cb75f00d60629\", \"length of cancer.shape is not correct\"\n",
    "assert sha1(str(sorted(map(str, cancer.shape))).encode(\"utf-8\")+b\"9a558d9e9f3a7a5c\").hexdigest() == \"2108c7092cb5ad718d464d9a50d81a5595c94db5\", \"values of cancer.shape are not correct\"\n",
    "assert sha1(str(cancer.shape).encode(\"utf-8\")+b\"9a558d9e9f3a7a5c\").hexdigest() == \"f2a250beb8178e4ad7ecce029295ace851d89029\", \"order of elements of cancer.shape is not correct\"\n",
    "\n",
    "assert sha1(str(type(sum(cancer.Area))).encode(\"utf-8\")+b\"b9305b003e18597e\").hexdigest() == \"a4da4fefde36df843462b2e033ab3f3bde6f2894\", \"type of sum(cancer.Area) is not float. Please make sure it is float and not np.float64, etc. You can cast your value into a float using float()\"\n",
    "assert sha1(str(round(sum(cancer.Area), 2)).encode(\"utf-8\")+b\"b9305b003e18597e\").hexdigest() == \"f592c5944bca10254f2970f29d851bd996c6c398\", \"value of sum(cancer.Area) is not correct (rounded to 2 decimal places)\"\n",
    "\n",
    "assert sha1(str(type(cancer.columns.values)).encode(\"utf-8\")+b\"24387a140178334c\").hexdigest() == \"562fc67142fae75147be0f1653f96b707fb8db1b\", \"type of cancer.columns.values is not correct\"\n",
    "assert sha1(str(cancer.columns.values).encode(\"utf-8\")+b\"24387a140178334c\").hexdigest() == \"951ba9d23768b4d997cb9878263c449c410fc330\", \"value of cancer.columns.values is not correct\"\n",
    "\n",
    "assert sha1(str(type(cancer['Class'].dtype)).encode(\"utf-8\")+b\"e1721de215f9934b\").hexdigest() == \"73cb1313f6be05cb579c3af78051be4587ed1bd4\", \"type of cancer['Class'].dtype is not correct\"\n",
    "assert sha1(str(cancer['Class'].dtype).encode(\"utf-8\")+b\"e1721de215f9934b\").hexdigest() == \"3cc752f79b88dea4a405acf6acdfb18aa5bbd86c\", \"value of cancer['Class'].dtype is not correct\"\n",
    "\n",
    "print('Success!')"
   ]
  },
  {
   "cell_type": "markdown",
   "metadata": {
    "deletable": false,
    "editable": false,
    "nbgrader": {
     "cell_type": "markdown",
     "checksum": "d75978768753be37eea081f588dc09b4",
     "grade": false,
     "grade_id": "cell-4abc7741b213ce9e",
     "locked": true,
     "schema_version": 3,
     "solution": false
    }
   },
   "source": [
    "**Question 1.1** True or False: \n",
    "<br> {points: 1}\n",
    "\n",
    "After looking at the first six rows of the `cancer` data fame, suppose we asked you to predict the variable \"area\" for a new observation. **Is this a classification problem?**\n",
    "\n",
    "*Assign your answer to an object called `answer1_1`. Make sure the correct answer is a boolean. i.e. `True` or `False`.*"
   ]
  },
  {
   "cell_type": "code",
   "execution_count": null,
   "metadata": {
    "deletable": false,
    "nbgrader": {
     "cell_type": "code",
     "checksum": "ba6decd9db010e62ada7ec4c2624dc0e",
     "grade": false,
     "grade_id": "cell-787de50bba80be9c",
     "locked": false,
     "schema_version": 3,
     "solution": true
    }
   },
   "outputs": [],
   "source": [
    "# your code here\n",
    "raise NotImplementedError"
   ]
  },
  {
   "cell_type": "code",
   "execution_count": null,
   "metadata": {
    "deletable": false,
    "editable": false,
    "max_height": 100,
    "nbgrader": {
     "cell_type": "code",
     "checksum": "7d2872396271ec01f0e3b6030b535bce",
     "grade": true,
     "grade_id": "cell-8c2ac2ec68bc2ef2",
     "locked": true,
     "points": 3,
     "schema_version": 3,
     "solution": false
    }
   },
   "outputs": [],
   "source": [
    "from hashlib import sha1\n",
    "assert sha1(str(type(answer1_1)).encode(\"utf-8\")+b\"3b00d7a4ab42a80b\").hexdigest() == \"1054470427d752344ad08f92e17d0d62811e83de\", \"type of answer1_1 is not bool. answer1_1 should be a bool\"\n",
    "assert sha1(str(answer1_1).encode(\"utf-8\")+b\"3b00d7a4ab42a80b\").hexdigest() == \"8aea66f5e088ec679807fe8f5f29ae832ed8baf9\", \"boolean value of answer1_1 is not correct\"\n",
    "\n",
    "print('Success!')"
   ]
  },
  {
   "cell_type": "markdown",
   "metadata": {
    "deletable": false,
    "editable": false,
    "nbgrader": {
     "cell_type": "markdown",
     "checksum": "e6d11716f31d5beb94f1ea050fc2e455",
     "grade": false,
     "grade_id": "cell-d668650abd9bc1df",
     "locked": true,
     "schema_version": 3,
     "solution": false
    }
   },
   "source": [
    "**Question 1.2** \n",
    "<br> {points: 1}\n",
    "\n",
    "Create a scatterplot of the data with `Symmetry` on the x-axis and `Radius` on the y-axis. Modify your aesthetics by colouring for `Class`. As you create this plot, ensure you follow the guidelines for creating effective visualizations. In particular, note on the plot axes whether the data is standardized or not.\n",
    "\n",
    "*Assign your plot to an object called `cancer_plot`.*"
   ]
  },
  {
   "cell_type": "code",
   "execution_count": null,
   "metadata": {
    "deletable": false,
    "nbgrader": {
     "cell_type": "code",
     "checksum": "d66c477d0d334e9d827a96ada4dd6bc8",
     "grade": false,
     "grade_id": "cell-6dadc99c524407f7",
     "locked": false,
     "schema_version": 3,
     "solution": true
    }
   },
   "outputs": [],
   "source": [
    "# your code here\n",
    "raise NotImplementedError\n",
    "cancer_plot"
   ]
  },
  {
   "cell_type": "code",
   "execution_count": null,
   "metadata": {
    "deletable": false,
    "editable": false,
    "max_height": 100,
    "nbgrader": {
     "cell_type": "code",
     "checksum": "acb770952a17cda2ef276d522dfc1c80",
     "grade": true,
     "grade_id": "cell-82ee9aaeac954391",
     "locked": true,
     "points": 1,
     "schema_version": 3,
     "solution": false
    }
   },
   "outputs": [],
   "source": [
    "from hashlib import sha1\n",
    "assert sha1(str(type(cancer_plot is None)).encode(\"utf-8\")+b\"40148780f7bd856c\").hexdigest() == \"c91a848776d9eacc41cf9e4f4838af89fe42b040\", \"type of cancer_plot is None is not bool. cancer_plot is None should be a bool\"\n",
    "assert sha1(str(cancer_plot is None).encode(\"utf-8\")+b\"40148780f7bd856c\").hexdigest() == \"82a6414492a99b396b5f78062d97360971cfdb34\", \"boolean value of cancer_plot is None is not correct\"\n",
    "\n",
    "assert sha1(str(type(cancer_plot.encoding.x.field)).encode(\"utf-8\")+b\"9f75e40a902972a0\").hexdigest() == \"df641e9913ab49ef7c4cb7804d4cabcc3e2f279c\", \"type of cancer_plot.encoding.x.field is not str. cancer_plot.encoding.x.field should be an str\"\n",
    "assert sha1(str(len(cancer_plot.encoding.x.field)).encode(\"utf-8\")+b\"9f75e40a902972a0\").hexdigest() == \"acd1307c04cf84d3ee250b9c4be8369e07f1bd71\", \"length of cancer_plot.encoding.x.field is not correct\"\n",
    "assert sha1(str(cancer_plot.encoding.x.field.lower()).encode(\"utf-8\")+b\"9f75e40a902972a0\").hexdigest() == \"967717bf379cc9cb0fcbcdec16d6319a7410ec10\", \"value of cancer_plot.encoding.x.field is not correct\"\n",
    "assert sha1(str(cancer_plot.encoding.x.field).encode(\"utf-8\")+b\"9f75e40a902972a0\").hexdigest() == \"0d727d6ebb0b418c965b895d4f433531a691c9e5\", \"correct string value of cancer_plot.encoding.x.field but incorrect case of letters\"\n",
    "\n",
    "assert sha1(str(type(cancer_plot.encoding.y.field)).encode(\"utf-8\")+b\"ae25c6890fe2e0b9\").hexdigest() == \"aa70b6b69fb13a14ba9f37b3a1e12be5246f1a9f\", \"type of cancer_plot.encoding.y.field is not str. cancer_plot.encoding.y.field should be an str\"\n",
    "assert sha1(str(len(cancer_plot.encoding.y.field)).encode(\"utf-8\")+b\"ae25c6890fe2e0b9\").hexdigest() == \"2f733c47d500f1be2ddc7f7b5c71ad37caffb8f9\", \"length of cancer_plot.encoding.y.field is not correct\"\n",
    "assert sha1(str(cancer_plot.encoding.y.field.lower()).encode(\"utf-8\")+b\"ae25c6890fe2e0b9\").hexdigest() == \"82e8b0f74ab7a147b22e52c439567d847a80166f\", \"value of cancer_plot.encoding.y.field is not correct\"\n",
    "assert sha1(str(cancer_plot.encoding.y.field).encode(\"utf-8\")+b\"ae25c6890fe2e0b9\").hexdigest() == \"6a7d50f92a2185c8c3e6fa684d33235efbd3ddc4\", \"correct string value of cancer_plot.encoding.y.field but incorrect case of letters\"\n",
    "\n",
    "assert sha1(str(type(cancer_plot.encoding.color.field)).encode(\"utf-8\")+b\"d111b26a7daaa0df\").hexdigest() == \"2dd78f2daebd631fb13ef2c96213c735532c7af7\", \"type of cancer_plot.encoding.color.field is not str. cancer_plot.encoding.color.field should be an str\"\n",
    "assert sha1(str(len(cancer_plot.encoding.color.field)).encode(\"utf-8\")+b\"d111b26a7daaa0df\").hexdigest() == \"bdec1dcc6d3e007dde03bffb00d13939418f0dbb\", \"length of cancer_plot.encoding.color.field is not correct\"\n",
    "assert sha1(str(cancer_plot.encoding.color.field.lower()).encode(\"utf-8\")+b\"d111b26a7daaa0df\").hexdigest() == \"815fc71fc2321bd0e23c9fffde7983bc33a0018e\", \"value of cancer_plot.encoding.color.field is not correct\"\n",
    "assert sha1(str(cancer_plot.encoding.color.field).encode(\"utf-8\")+b\"d111b26a7daaa0df\").hexdigest() == \"4bbb7916798611a417f72a3d8e1c6671c73b365a\", \"correct string value of cancer_plot.encoding.color.field but incorrect case of letters\"\n",
    "\n",
    "assert sha1(str(type(cancer_plot.mark.type)).encode(\"utf-8\")+b\"989fdad08b35c0ec\").hexdigest() == \"d2ebb06cf7fa5d6f537dffeda7676f5a9158f9e4\", \"type of cancer_plot.mark.type is not str. cancer_plot.mark.type should be an str\"\n",
    "assert sha1(str(len(cancer_plot.mark.type)).encode(\"utf-8\")+b\"989fdad08b35c0ec\").hexdigest() == \"6c1dba8b01649fbdc8c25804f23d9d592b4f6133\", \"length of cancer_plot.mark.type is not correct\"\n",
    "assert sha1(str(cancer_plot.mark.type.lower()).encode(\"utf-8\")+b\"989fdad08b35c0ec\").hexdigest() == \"f69d9bc70ad42dd8b148dcbee210bda6d376cd26\", \"value of cancer_plot.mark.type is not correct\"\n",
    "assert sha1(str(cancer_plot.mark.type).encode(\"utf-8\")+b\"989fdad08b35c0ec\").hexdigest() == \"f69d9bc70ad42dd8b148dcbee210bda6d376cd26\", \"correct string value of cancer_plot.mark.type but incorrect case of letters\"\n",
    "\n",
    "assert sha1(str(type(cancer_plot.encoding.color.field)).encode(\"utf-8\")+b\"71fc002ca7377f48\").hexdigest() == \"3d2780cbef4560c41e5b9ab0e34c9ba611034172\", \"type of cancer_plot.encoding.color.field is not str. cancer_plot.encoding.color.field should be an str\"\n",
    "assert sha1(str(len(cancer_plot.encoding.color.field)).encode(\"utf-8\")+b\"71fc002ca7377f48\").hexdigest() == \"5df162643b355cdc1ae0928c4c898451c047d088\", \"length of cancer_plot.encoding.color.field is not correct\"\n",
    "assert sha1(str(cancer_plot.encoding.color.field.lower()).encode(\"utf-8\")+b\"71fc002ca7377f48\").hexdigest() == \"87bddd1766e05be348ee032ee3efd38ea5d0db40\", \"value of cancer_plot.encoding.color.field is not correct\"\n",
    "assert sha1(str(cancer_plot.encoding.color.field).encode(\"utf-8\")+b\"71fc002ca7377f48\").hexdigest() == \"581d9dce336719dbda5eed2754b15ca8235193a0\", \"correct string value of cancer_plot.encoding.color.field but incorrect case of letters\"\n",
    "\n",
    "assert sha1(str(type(cancer_plot.encoding.x.title != cancer_plot.encoding.x.field)).encode(\"utf-8\")+b\"e7f8e4720c2d4449\").hexdigest() == \"61a20d79f32f9bbf5dfd99ec6cc1afddc4df6215\", \"type of cancer_plot.encoding.x.title != cancer_plot.encoding.x.field is not bool. cancer_plot.encoding.x.title != cancer_plot.encoding.x.field should be a bool\"\n",
    "assert sha1(str(cancer_plot.encoding.x.title != cancer_plot.encoding.x.field).encode(\"utf-8\")+b\"e7f8e4720c2d4449\").hexdigest() == \"8ad472433696825d529cf265cd1c03eb57270c4e\", \"boolean value of cancer_plot.encoding.x.title != cancer_plot.encoding.x.field is not correct\"\n",
    "\n",
    "assert sha1(str(type(cancer_plot.encoding.y.title != cancer_plot.encoding.y.field)).encode(\"utf-8\")+b\"9b0f7d3d74bd3658\").hexdigest() == \"a04fa104868e57a095a612dd7f5e47cc99aff587\", \"type of cancer_plot.encoding.y.title != cancer_plot.encoding.y.field is not bool. cancer_plot.encoding.y.title != cancer_plot.encoding.y.field should be a bool\"\n",
    "assert sha1(str(cancer_plot.encoding.y.title != cancer_plot.encoding.y.field).encode(\"utf-8\")+b\"9b0f7d3d74bd3658\").hexdigest() == \"65529d040822cc135bb01731775877a3563409ba\", \"boolean value of cancer_plot.encoding.y.title != cancer_plot.encoding.y.field is not correct\"\n",
    "\n",
    "print('Success!')"
   ]
  },
  {
   "cell_type": "markdown",
   "metadata": {
    "deletable": false,
    "editable": false,
    "nbgrader": {
     "cell_type": "markdown",
     "checksum": "5ba7287255d74f7b6dda894e8a4de724",
     "grade": false,
     "grade_id": "cell-19b9839a8f31d445",
     "locked": true,
     "schema_version": 3,
     "solution": false
    }
   },
   "source": [
    "**Question 1.3** \n",
    "<br> {points: 1}\n",
    "\n",
    "Just by looking at the scatterplot above, how would you classify an observation with `Symmetry` = 1 and `Radius` = 1 (Benign or Malignant)?\n",
    "\n",
    "*Assign your answer to an object called `answer1_3`. Make sure the correct answer is written fully. Remember to surround your answer with quotation marks (e.g. \"Benign\" / \"Malignant\").*"
   ]
  },
  {
   "cell_type": "code",
   "execution_count": null,
   "metadata": {
    "deletable": false,
    "nbgrader": {
     "cell_type": "code",
     "checksum": "1c5fc1838f3adb6952868d3531cbe1b6",
     "grade": false,
     "grade_id": "cell-4770d75e12811ba2",
     "locked": false,
     "schema_version": 3,
     "solution": true
    }
   },
   "outputs": [],
   "source": [
    "# your code here\n",
    "raise NotImplementedError"
   ]
  },
  {
   "cell_type": "code",
   "execution_count": null,
   "metadata": {
    "deletable": false,
    "editable": false,
    "max_height": 100,
    "nbgrader": {
     "cell_type": "code",
     "checksum": "2e024dd0964ad3700933915141f5c0f4",
     "grade": true,
     "grade_id": "cell-927ef1b1abe0452a",
     "locked": true,
     "points": 3,
     "schema_version": 3,
     "solution": false
    }
   },
   "outputs": [],
   "source": [
    "from hashlib import sha1\n",
    "assert sha1(str(type(answer1_3)).encode(\"utf-8\")+b\"a3b51616524a2c89\").hexdigest() == \"0d40e540194cf402062e7a440e23efb7758da4b7\", \"type of answer1_3 is not str. answer1_3 should be an str\"\n",
    "assert sha1(str(len(answer1_3)).encode(\"utf-8\")+b\"a3b51616524a2c89\").hexdigest() == \"56c8b5beccca9065c95bababbbba6dea99036b0e\", \"length of answer1_3 is not correct\"\n",
    "assert sha1(str(answer1_3.lower()).encode(\"utf-8\")+b\"a3b51616524a2c89\").hexdigest() == \"574f109d394e747b43038ab30dedf22ed1039c78\", \"value of answer1_3 is not correct\"\n",
    "assert sha1(str(answer1_3).encode(\"utf-8\")+b\"a3b51616524a2c89\").hexdigest() == \"ae320f21ebc4ae09a04f328d9c8d87d459e6f7e8\", \"correct string value of answer1_3 but incorrect case of letters\"\n",
    "\n",
    "print('Success!')"
   ]
  },
  {
   "cell_type": "markdown",
   "metadata": {
    "deletable": false,
    "editable": false,
    "nbgrader": {
     "cell_type": "markdown",
     "checksum": "8a15e17fd6fe6355a848228d4dc29920",
     "grade": false,
     "grade_id": "cell-042f2da9a72d7533",
     "locked": true,
     "schema_version": 3,
     "solution": false,
     "task": false
    }
   },
   "source": [
    "We will now compute the distance between the first and second observation in the breast cancer dataset using the explanatory variables/predictors `Symmetry` and `Radius`. Recall we can calculate the distance between two points using the following formula: \n",
    "$$Distance = \\sqrt{(x_a -x_b)^2 + (y_a - y_b)^2}$$"
   ]
  },
  {
   "cell_type": "markdown",
   "metadata": {
    "deletable": false,
    "editable": false,
    "nbgrader": {
     "cell_type": "markdown",
     "checksum": "7661118d206f4db358e6c19ecbc9ab27",
     "grade": false,
     "grade_id": "cell-6c27f7d3e70cb8f5",
     "locked": true,
     "schema_version": 3,
     "solution": false
    }
   },
   "source": [
    "**Question 1.4** \n",
    "<br> {points: 1}\n",
    "\n",
    "First, extract the coordinates for the two observations and assign them to objects called: \n",
    "\n",
    "- `xa` (Symmetry value for the first row)\n",
    "- `ya` (Radius value for the first row)\n",
    "- `xb` (Symmetry value for the second row)\n",
    "- `yb` (Radius value for the second row).\n",
    "\n",
    "*Scaffolding for `xa` is given*."
   ]
  },
  {
   "cell_type": "code",
   "execution_count": null,
   "metadata": {
    "deletable": false,
    "nbgrader": {
     "cell_type": "code",
     "checksum": "a35966e116c3e3f17cba0de6a94ec961",
     "grade": false,
     "grade_id": "cell-9aa7e3751578c8c5",
     "locked": false,
     "schema_version": 3,
     "solution": true
    }
   },
   "outputs": [],
   "source": [
    "# xa = cancer.loc[0,\"Symmetry\"] # selecting the first observation from cancer and pulling the value from the Symmetry column as a numeric value only\n",
    "\n",
    "# your code here\n",
    "raise NotImplementedError"
   ]
  },
  {
   "cell_type": "code",
   "execution_count": null,
   "metadata": {},
   "outputs": [],
   "source": [
    "xa"
   ]
  },
  {
   "cell_type": "code",
   "execution_count": null,
   "metadata": {
    "deletable": false,
    "editable": false,
    "max_height": 100,
    "nbgrader": {
     "cell_type": "code",
     "checksum": "6fb34365ca1aed184aab64f51816acef",
     "grade": true,
     "grade_id": "cell-9117ab916552d6a6",
     "locked": true,
     "points": 1,
     "schema_version": 3,
     "solution": false
    }
   },
   "outputs": [],
   "source": [
    "from hashlib import sha1\n",
    "assert sha1(str(type(xa)).encode(\"utf-8\")+b\"bc8a93dec6cc301a\").hexdigest() == \"92b7c5f4f9aaa9c83e6941f3b63fbac6f8b3d016\", \"type of xa is not correct\"\n",
    "assert sha1(str(xa).encode(\"utf-8\")+b\"bc8a93dec6cc301a\").hexdigest() == \"d59036fa4e28be29217293db131488424c4f59db\", \"value of xa is not correct\"\n",
    "\n",
    "assert sha1(str(type(ya)).encode(\"utf-8\")+b\"0e4bc57900f89750\").hexdigest() == \"f6b3df10c314fac4d81726e4a71141f1952f64fb\", \"type of ya is not correct\"\n",
    "assert sha1(str(ya).encode(\"utf-8\")+b\"0e4bc57900f89750\").hexdigest() == \"d72e51a23232c6369684c07f6f870a0e22505374\", \"value of ya is not correct\"\n",
    "\n",
    "assert sha1(str(type(xb)).encode(\"utf-8\")+b\"24a4f135920eebfc\").hexdigest() == \"53ef05519428d87c2399e81e8087225459451592\", \"type of xb is not correct\"\n",
    "assert sha1(str(xb).encode(\"utf-8\")+b\"24a4f135920eebfc\").hexdigest() == \"7eeb5630f08cc7aeebe381b3c1903d718b295d64\", \"value of xb is not correct\"\n",
    "\n",
    "assert sha1(str(type(yb)).encode(\"utf-8\")+b\"e61b5f893f9b5eb2\").hexdigest() == \"f55dd75f111c49e2215b9d70c42a49b9bd7d440e\", \"type of yb is not correct\"\n",
    "assert sha1(str(yb).encode(\"utf-8\")+b\"e61b5f893f9b5eb2\").hexdigest() == \"583fefdf4bff0b328260032cf3a57fbf921ec150\", \"value of yb is not correct\"\n",
    "\n",
    "print('Success!')"
   ]
  },
  {
   "cell_type": "markdown",
   "metadata": {
    "deletable": false,
    "editable": false,
    "nbgrader": {
     "cell_type": "markdown",
     "checksum": "a3c4cd0a0e84143515031f80d130402e",
     "grade": false,
     "grade_id": "cell-d3cdd3053b1b28f3",
     "locked": true,
     "schema_version": 3,
     "solution": false
    }
   },
   "source": [
    "**Question 1.5**\n",
    "<br> {points: 1}\n",
    "\n",
    "Plug the coordinates into the distance equation. Hint: `**` is the exponent symbol in Python.\n",
    "\n",
    "*Assign your answer to an object called `answer1_5`.*\n",
    "\n",
    "Fill in the `___` in the cell below. "
   ]
  },
  {
   "cell_type": "code",
   "execution_count": null,
   "metadata": {
    "deletable": false,
    "nbgrader": {
     "cell_type": "code",
     "checksum": "809581cf16d27f472328be640c3210af",
     "grade": false,
     "grade_id": "cell-df5b6355c3c1fb5e",
     "locked": false,
     "schema_version": 3,
     "solution": true
    }
   },
   "outputs": [],
   "source": [
    "# ___ = ((___ - ___)**___ + (___ - ___)**___)**___\n",
    "\n",
    "# your code here\n",
    "raise NotImplementedError\n",
    "answer1_5"
   ]
  },
  {
   "cell_type": "code",
   "execution_count": null,
   "metadata": {
    "deletable": false,
    "editable": false,
    "max_height": 100,
    "nbgrader": {
     "cell_type": "code",
     "checksum": "43fbbcb88667d3de843d907679513c5e",
     "grade": true,
     "grade_id": "cell-3d5f251a3d1cd4d4",
     "locked": true,
     "points": 3,
     "schema_version": 3,
     "solution": false
    }
   },
   "outputs": [],
   "source": [
    "from hashlib import sha1\n",
    "assert sha1(str(type(answer1_5)).encode(\"utf-8\")+b\"e74c95d3634e866b\").hexdigest() == \"fa7816c94da4689b39d2ec40ac9541f8e543922b\", \"type of answer1_5 is not correct\"\n",
    "assert sha1(str(answer1_5).encode(\"utf-8\")+b\"e74c95d3634e866b\").hexdigest() == \"cddd3140852f15268043e8121107a1d595a31604\", \"value of answer1_5 is not correct\"\n",
    "\n",
    "print('Success!')"
   ]
  },
  {
   "cell_type": "markdown",
   "metadata": {
    "deletable": false,
    "editable": false,
    "nbgrader": {
     "cell_type": "markdown",
     "checksum": "06506ec0db1cb8c74ce59ee6e42413ae",
     "grade": false,
     "grade_id": "cell-7497aeecdc763d29",
     "locked": true,
     "schema_version": 3,
     "solution": false
    }
   },
   "source": [
    "**Question 1.6**\n",
    "<br> {points: 1}\n",
    "\n",
    "Now we'll do the same thing *with 3 explanatory variables/predictors*: `Symmetry`, `Radius` and `Concavity`. Again, use the first two rows in the data set as the points you are calculating the distance between (point $a$ is row 0, and point $b$ is row 1).\n",
    "\n",
    "\n",
    "*Find the coordinates for the third variable (Concavity) and assign them to objects called `za` and `zb`. Use the scaffolding given in **Question 1.4** as a guide.*"
   ]
  },
  {
   "cell_type": "code",
   "execution_count": null,
   "metadata": {
    "deletable": false,
    "nbgrader": {
     "cell_type": "code",
     "checksum": "7b5b5c0e6c009ed6451085d65fe676a2",
     "grade": false,
     "grade_id": "cell-2eaff08bf3baaeb4",
     "locked": false,
     "schema_version": 3,
     "solution": true
    }
   },
   "outputs": [],
   "source": [
    "# your code here\n",
    "raise NotImplementedError"
   ]
  },
  {
   "cell_type": "code",
   "execution_count": null,
   "metadata": {
    "deletable": false,
    "editable": false,
    "max_height": 100,
    "nbgrader": {
     "cell_type": "code",
     "checksum": "cd2fab1f4fe9c597fc8405f3eb3afd3b",
     "grade": true,
     "grade_id": "cell-4944fdeee6a1485f",
     "locked": true,
     "points": 1,
     "schema_version": 3,
     "solution": false
    }
   },
   "outputs": [],
   "source": [
    "from hashlib import sha1\n",
    "assert sha1(str(type(za)).encode(\"utf-8\")+b\"80c6158975dbdd7a\").hexdigest() == \"e91432c378365cade072782c7d27d971afcc4e11\", \"type of za is not correct\"\n",
    "assert sha1(str(za).encode(\"utf-8\")+b\"80c6158975dbdd7a\").hexdigest() == \"0129f7f57d77093f5aa5c9b8843851e410049048\", \"value of za is not correct\"\n",
    "\n",
    "assert sha1(str(type(zb)).encode(\"utf-8\")+b\"43013b8e7dfbd1ce\").hexdigest() == \"fc99d886d9eed5641d47e81b56a3b36996cfd424\", \"type of zb is not correct\"\n",
    "assert sha1(str(zb).encode(\"utf-8\")+b\"43013b8e7dfbd1ce\").hexdigest() == \"dc3d020752f55c704a52a491f03efeca2b7dff55\", \"value of zb is not correct\"\n",
    "\n",
    "print('Success!')"
   ]
  },
  {
   "cell_type": "markdown",
   "metadata": {
    "deletable": false,
    "editable": false,
    "nbgrader": {
     "cell_type": "markdown",
     "checksum": "58e2d424d2135a156b4f4e61c1ad6b49",
     "grade": false,
     "grade_id": "cell-a2b93620a52ffd2b",
     "locked": true,
     "schema_version": 3,
     "solution": false
    }
   },
   "source": [
    "**Question 1.7**\n",
    "<br> {points: 1}\n",
    "\n",
    "Again, calculate the distance between the first and second observation in the breast cancer dataset using 3 explanatory variables/predictors: `Symmetry`, `Radius` and `Concavity`.\n",
    "\n",
    "*Assign your answer to an object called `answer1_7`. Use the scaffolding given to calculate `answer1_5` as a guide.*"
   ]
  },
  {
   "cell_type": "code",
   "execution_count": null,
   "metadata": {
    "deletable": false,
    "nbgrader": {
     "cell_type": "code",
     "checksum": "a3c566227c25ad5e3c0ab91cf2b04622",
     "grade": false,
     "grade_id": "cell-7cee650ed7204a98",
     "locked": false,
     "schema_version": 3,
     "solution": true
    }
   },
   "outputs": [],
   "source": [
    "# your code here\n",
    "raise NotImplementedError\n",
    "answer1_7"
   ]
  },
  {
   "cell_type": "code",
   "execution_count": null,
   "metadata": {
    "deletable": false,
    "editable": false,
    "max_height": 100,
    "nbgrader": {
     "cell_type": "code",
     "checksum": "9e53e67adacd83ec497731c74b12e8b1",
     "grade": true,
     "grade_id": "cell-e5b8f9dc0531ad16",
     "locked": true,
     "points": 3,
     "schema_version": 3,
     "solution": false
    }
   },
   "outputs": [],
   "source": [
    "from hashlib import sha1\n",
    "assert sha1(str(type(round(answer1_7, 2))).encode(\"utf-8\")+b\"bdcf3cba1c45be6e\").hexdigest() == \"de5f5b513e3113f1c5345fb3384ddffac23c20eb\", \"type of round(answer1_7, 2) is not correct\"\n",
    "assert sha1(str(round(answer1_7, 2)).encode(\"utf-8\")+b\"bdcf3cba1c45be6e\").hexdigest() == \"b7071528c8b0184e49b2b1bdf8746491c5c60afa\", \"value of round(answer1_7, 2) is not correct\"\n",
    "\n",
    "print('Success!')"
   ]
  },
  {
   "cell_type": "markdown",
   "metadata": {
    "deletable": false,
    "editable": false,
    "nbgrader": {
     "cell_type": "markdown",
     "checksum": "b42f04eed009fe55d55ab6674e5f7ea3",
     "grade": false,
     "grade_id": "cell-eab0518c6e0ee567",
     "locked": true,
     "schema_version": 3,
     "solution": false
    }
   },
   "source": [
    "**Question 1.8**\n",
    "<br> {points: 1}\n",
    "\n",
    "Let's do this without explicitly making coordinate variables!\n",
    "\n",
    "Create a panda series of the coordinates for each point. Name one series `point_a` and the other series `point_b`. Within the series, the order of coordinates should be: `Symmetry`, `Radius`, `Concavity`.\n",
    "\n",
    "Fill in the `___` in the cell below.\n"
   ]
  },
  {
   "cell_type": "code",
   "execution_count": null,
   "metadata": {
    "deletable": false,
    "nbgrader": {
     "cell_type": "code",
     "checksum": "a452470aa0defd657fa43844d8d5cc24",
     "grade": false,
     "grade_id": "cell-78df392f18904edd",
     "locked": false,
     "schema_version": 3,
     "solution": true
    }
   },
   "outputs": [],
   "source": [
    "# This is only the scaffolding for one point (you need to make another one for row number 1)\n",
    "\n",
    "# ___ =  cancer.loc[0, [___, \"Radius\", ___]]\n",
    "\n",
    "\n",
    "# your code here\n",
    "raise NotImplementedError\n",
    "print(point_a)\n",
    "print(point_b)"
   ]
  },
  {
   "cell_type": "code",
   "execution_count": null,
   "metadata": {
    "deletable": false,
    "editable": false,
    "max_height": 100,
    "nbgrader": {
     "cell_type": "code",
     "checksum": "d42b0c07566a198ea7db5ce684a7284a",
     "grade": true,
     "grade_id": "cell-c20cf45fef3d389b",
     "locked": true,
     "points": 1,
     "schema_version": 3,
     "solution": false
    }
   },
   "outputs": [],
   "source": [
    "from hashlib import sha1\n",
    "assert sha1(str(type(round(sum(point_a), 2))).encode(\"utf-8\")+b\"de8d4fa4b37d7b4e\").hexdigest() == \"f4a63f97fcf505ad4c2350f85fab06144e4909d0\", \"type of round(sum(point_a), 2) is not correct\"\n",
    "assert sha1(str(round(sum(point_a), 2)).encode(\"utf-8\")+b\"de8d4fa4b37d7b4e\").hexdigest() == \"24617af24b4f59c897d6e589c4ea1562a0fcb7c0\", \"value of round(sum(point_a), 2) is not correct\"\n",
    "\n",
    "assert sha1(str(type(round(sum(point_b), 2))).encode(\"utf-8\")+b\"60e221e136838b6d\").hexdigest() == \"70eb67e8c4ee732a2f08877cd7bcf8f8b93b1c2d\", \"type of round(sum(point_b), 2) is not correct\"\n",
    "assert sha1(str(round(sum(point_b), 2)).encode(\"utf-8\")+b\"60e221e136838b6d\").hexdigest() == \"57839b9e34b60e8cbf5f5f60295003a7c585f5cc\", \"value of round(sum(point_b), 2) is not correct\"\n",
    "\n",
    "print('Success!')"
   ]
  },
  {
   "cell_type": "markdown",
   "metadata": {
    "deletable": false,
    "editable": false,
    "nbgrader": {
     "cell_type": "markdown",
     "checksum": "75dc464cd9d17c8ba2fb42692eb4e56e",
     "grade": false,
     "grade_id": "cell-c5b5b0129c7b8e60",
     "locked": true,
     "schema_version": 3,
     "solution": false
    }
   },
   "source": [
    "**Question 1.9**\n",
    "<br> {points: 1}\n",
    "\n",
    "Compute the squared differences between the two series, `point_a` and `point_b`. The result should be a series of length 3 named `dif_square`. *Hint: `**` is the exponent symbol in Python.*"
   ]
  },
  {
   "cell_type": "code",
   "execution_count": null,
   "metadata": {
    "deletable": false,
    "nbgrader": {
     "cell_type": "code",
     "checksum": "0a57813061262beb93ae4f4f117800c9",
     "grade": false,
     "grade_id": "cell-8244086b2edb3999",
     "locked": false,
     "schema_version": 3,
     "solution": true
    }
   },
   "outputs": [],
   "source": [
    "# your code here\n",
    "raise NotImplementedError\n",
    "dif_square"
   ]
  },
  {
   "cell_type": "code",
   "execution_count": null,
   "metadata": {
    "deletable": false,
    "editable": false,
    "max_height": 100,
    "nbgrader": {
     "cell_type": "code",
     "checksum": "6d5a812fa024f3748792a710446e350d",
     "grade": true,
     "grade_id": "cell-fb099b82bbaac1f5",
     "locked": true,
     "points": 3,
     "schema_version": 3,
     "solution": false
    }
   },
   "outputs": [],
   "source": [
    "from hashlib import sha1\n",
    "assert sha1(str(type(sum(dif_square))).encode(\"utf-8\")+b\"dc6c46d0590a55e3\").hexdigest() == \"9fa64d63cd3a30337a9edbcd3e6f69387f79eab6\", \"type of sum(dif_square) is not correct\"\n",
    "assert sha1(str(sum(dif_square)).encode(\"utf-8\")+b\"dc6c46d0590a55e3\").hexdigest() == \"3aa87da582fe9604a03f39d3588745be5fa21fbc\", \"value of sum(dif_square) is not correct\"\n",
    "\n",
    "print('Success!')"
   ]
  },
  {
   "cell_type": "markdown",
   "metadata": {
    "deletable": false,
    "editable": false,
    "nbgrader": {
     "cell_type": "markdown",
     "checksum": "f55778b50453c6e9a10a794122c5e48b",
     "grade": false,
     "grade_id": "cell-2f2f6160dfde75a1",
     "locked": true,
     "schema_version": 3,
     "solution": false
    }
   },
   "source": [
    "**Question 1.09.1**\n",
    "<br> {points: 1}\n",
    "\n",
    "Sum the squared differences between the two points, `point_a` and `point_b`. The result should be a single number named `dif_sum`. \n",
    "\n",
    "*Hint: the `sum` function in Python returns the sum of the elements of a series*"
   ]
  },
  {
   "cell_type": "code",
   "execution_count": null,
   "metadata": {
    "deletable": false,
    "nbgrader": {
     "cell_type": "code",
     "checksum": "48eca56133082aa0819ba3bbeaf8a571",
     "grade": false,
     "grade_id": "cell-86ab5cef9257a578",
     "locked": false,
     "schema_version": 3,
     "solution": true
    }
   },
   "outputs": [],
   "source": [
    "# your code here\n",
    "raise NotImplementedError\n",
    "dif_sum"
   ]
  },
  {
   "cell_type": "code",
   "execution_count": null,
   "metadata": {
    "deletable": false,
    "editable": false,
    "max_height": 100,
    "nbgrader": {
     "cell_type": "code",
     "checksum": "c0caddde79abaf5482185e81fb78b9be",
     "grade": true,
     "grade_id": "cell-629beff90c931f51",
     "locked": true,
     "points": 3,
     "schema_version": 3,
     "solution": false
    }
   },
   "outputs": [],
   "source": [
    "from hashlib import sha1\n",
    "assert sha1(str(type(dif_sum)).encode(\"utf-8\")+b\"b77ee8082f78c290\").hexdigest() == \"ccc98434ebe8779db5bb7df088e334092caefc91\", \"type of dif_sum is not correct\"\n",
    "assert sha1(str(dif_sum).encode(\"utf-8\")+b\"b77ee8082f78c290\").hexdigest() == \"34ef92bf1c84389883c0ff442f2358dcfa480912\", \"value of dif_sum is not correct\"\n",
    "\n",
    "print('Success!')"
   ]
  },
  {
   "cell_type": "markdown",
   "metadata": {
    "deletable": false,
    "editable": false,
    "nbgrader": {
     "cell_type": "markdown",
     "checksum": "c89e70beda90ab61fc9f35b4ed7c4cda",
     "grade": false,
     "grade_id": "cell-7e182c22fa4eec69",
     "locked": true,
     "schema_version": 3,
     "solution": false
    }
   },
   "source": [
    "**Question 1.09.2**\n",
    "<br> {points: 1}\n",
    "\n",
    "Square root the sum of your squared differences. The result should be a number named `root_dif_sum`. "
   ]
  },
  {
   "cell_type": "code",
   "execution_count": null,
   "metadata": {
    "deletable": false,
    "nbgrader": {
     "cell_type": "code",
     "checksum": "9b850385ac41a93fa5c6ec15e6f3f820",
     "grade": false,
     "grade_id": "cell-660055c1546fc78c",
     "locked": false,
     "schema_version": 3,
     "solution": true
    }
   },
   "outputs": [],
   "source": [
    "# your code here\n",
    "raise NotImplementedError\n",
    "root_dif_sum"
   ]
  },
  {
   "cell_type": "code",
   "execution_count": null,
   "metadata": {
    "deletable": false,
    "editable": false,
    "max_height": 100,
    "nbgrader": {
     "cell_type": "code",
     "checksum": "2976c6a4ee53950d0a7e3a40f2f5c33e",
     "grade": true,
     "grade_id": "cell-d144868a6cbc8b3f",
     "locked": true,
     "points": 3,
     "schema_version": 3,
     "solution": false
    }
   },
   "outputs": [],
   "source": [
    "from hashlib import sha1\n",
    "assert sha1(str(type(root_dif_sum)).encode(\"utf-8\")+b\"6d4436f7db6bce22\").hexdigest() == \"88c8bf42f96b3e265c02ae74ffca4a2569436b6c\", \"type of root_dif_sum is not correct\"\n",
    "assert sha1(str(root_dif_sum).encode(\"utf-8\")+b\"6d4436f7db6bce22\").hexdigest() == \"5ab7d958570c2ad4ffdad329fa277e8dc6cb5967\", \"value of root_dif_sum is not correct\"\n",
    "\n",
    "print('Success!')"
   ]
  },
  {
   "cell_type": "markdown",
   "metadata": {
    "deletable": false,
    "editable": false,
    "nbgrader": {
     "cell_type": "markdown",
     "checksum": "e95e7b329b27cbedee190f47ae773fce",
     "grade": false,
     "grade_id": "cell-fe94f79e97960c76",
     "locked": true,
     "schema_version": 3,
     "solution": false
    }
   },
   "source": [
    "**Question 1.09.3**\n",
    "<br> {points: 1}\n",
    "\n",
    "If we have more than a few points, calculating distances as we did in the previous questions is VERY tedious. Let's use the `euclidean_distances` function from `scikit-learn` package to find the distance between the first and second observation in the breast cancer dataset using Symmetry, Radius and Concavity. \n",
    "\n",
    "Fill in the `___` in the cell below. \n",
    "\n",
    "*Assign your answer to an object called `dist_cancer_two_rows`.*"
   ]
  },
  {
   "cell_type": "code",
   "execution_count": null,
   "metadata": {
    "deletable": false,
    "nbgrader": {
     "cell_type": "code",
     "checksum": "b82bc5a833f6516b59de08de15c88985",
     "grade": false,
     "grade_id": "cell-49a6780a9752e7d0",
     "locked": false,
     "schema_version": 3,
     "solution": true
    }
   },
   "outputs": [],
   "source": [
    "# from sklearn.metrics.pairwise import euclidean_distances\n",
    "# dist_cancer_two_rows = euclidean_distances(\n",
    "#     cancer.loc[0:1, [___, \"Radius\", ___]]\n",
    "# )\n",
    "\n",
    "# your code here\n",
    "raise NotImplementedError\n",
    "dist_cancer_two_rows"
   ]
  },
  {
   "cell_type": "code",
   "execution_count": null,
   "metadata": {},
   "outputs": [],
   "source": [
    "dist_cancer_two_rows[0, 1]"
   ]
  },
  {
   "cell_type": "code",
   "execution_count": null,
   "metadata": {
    "deletable": false,
    "editable": false,
    "max_height": 100,
    "nbgrader": {
     "cell_type": "code",
     "checksum": "02a3fa9253aea762d5bf8f6601e27903",
     "grade": true,
     "grade_id": "cell-657a6cc18a3bf8ce",
     "locked": true,
     "points": 3,
     "schema_version": 3,
     "solution": false
    }
   },
   "outputs": [],
   "source": [
    "from hashlib import sha1\n",
    "assert sha1(str(type(dist_cancer_two_rows[0, 0])).encode(\"utf-8\")+b\"9cc0a14fc58aabf0\").hexdigest() == \"dadee18e7d4ea801a3cde23aee080068bfe6607c\", \"type of dist_cancer_two_rows[0, 0] is not correct\"\n",
    "assert sha1(str(dist_cancer_two_rows[0, 0]).encode(\"utf-8\")+b\"9cc0a14fc58aabf0\").hexdigest() == \"3c09bc4930ff3b7d74832f3b2ce46e6d84b4fe98\", \"value of dist_cancer_two_rows[0, 0] is not correct\"\n",
    "\n",
    "assert sha1(str(type(dist_cancer_two_rows[0, 1])).encode(\"utf-8\")+b\"70f9b2b573aeea83\").hexdigest() == \"1b25dc29c44810561eec41a483424bca307ec981\", \"type of dist_cancer_two_rows[0, 1] is not correct\"\n",
    "assert sha1(str(dist_cancer_two_rows[0, 1]).encode(\"utf-8\")+b\"70f9b2b573aeea83\").hexdigest() == \"315a63f23304dbaaf69ba6a1b786ea8f60ea08a7\", \"value of dist_cancer_two_rows[0, 1] is not correct\"\n",
    "\n",
    "assert sha1(str(type(dist_cancer_two_rows[1, 0])).encode(\"utf-8\")+b\"8569da1ec4af96b8\").hexdigest() == \"13c2b2c564d964a344dd0c4af24a2f95cea89250\", \"type of dist_cancer_two_rows[1, 0] is not correct\"\n",
    "assert sha1(str(dist_cancer_two_rows[1, 0]).encode(\"utf-8\")+b\"8569da1ec4af96b8\").hexdigest() == \"67d3d647cd1c864db682d6fac940c6a597c087b8\", \"value of dist_cancer_two_rows[1, 0] is not correct\"\n",
    "\n",
    "assert sha1(str(type(dist_cancer_two_rows[1, 1])).encode(\"utf-8\")+b\"300da68f06be5cf0\").hexdigest() == \"ec5c9ff1d14708e8f6bfe18c9d9b43b42c2add3d\", \"type of dist_cancer_two_rows[1, 1] is not correct\"\n",
    "assert sha1(str(dist_cancer_two_rows[1, 1]).encode(\"utf-8\")+b\"300da68f06be5cf0\").hexdigest() == \"44e8c3298ccaae2e2a9303db8b70b31462ba4a01\", \"value of dist_cancer_two_rows[1, 1] is not correct\"\n",
    "\n",
    "print('Success!')"
   ]
  },
  {
   "cell_type": "markdown",
   "metadata": {
    "deletable": false,
    "editable": false,
    "nbgrader": {
     "cell_type": "markdown",
     "checksum": "3cc638a5f6d4382a0a3bdab3c23a849d",
     "grade": false,
     "grade_id": "cell-d2b6719023a2ec78",
     "locked": true,
     "schema_version": 3,
     "solution": false
    }
   },
   "source": [
    "**Question 1.09.4** True or False: \n",
    "<br> {points: 1}\n",
    "\n",
    "Compare `answer1_7`, `root_dif_sum`, and `dist_cancer_two_rows`. \n",
    "\n",
    "**Are they all the same value?** \n",
    "\n",
    "*Assign your answer to an object called `answer1_09_4`. Make sure the correct answer is a boolean. i.e. `True` or `False`.*"
   ]
  },
  {
   "cell_type": "code",
   "execution_count": null,
   "metadata": {
    "deletable": false,
    "nbgrader": {
     "cell_type": "code",
     "checksum": "33d70059ff697b0289b01c2e3eed073f",
     "grade": false,
     "grade_id": "cell-083ba5d559495244",
     "locked": false,
     "schema_version": 3,
     "solution": true
    }
   },
   "outputs": [],
   "source": [
    "# your code here\n",
    "raise NotImplementedError"
   ]
  },
  {
   "cell_type": "code",
   "execution_count": null,
   "metadata": {
    "deletable": false,
    "editable": false,
    "max_height": 100,
    "nbgrader": {
     "cell_type": "code",
     "checksum": "779a67c606bebce4e65a85f18135de8d",
     "grade": true,
     "grade_id": "cell-15ea031e7e016f14",
     "locked": true,
     "points": 3,
     "schema_version": 3,
     "solution": false
    }
   },
   "outputs": [],
   "source": [
    "from hashlib import sha1\n",
    "assert sha1(str(type(answer1_09_4)).encode(\"utf-8\")+b\"426129099c7f2876\").hexdigest() == \"ffa863b36ca048a23ea36cab62c0a83624d33517\", \"type of answer1_09_4 is not bool. answer1_09_4 should be a bool\"\n",
    "assert sha1(str(answer1_09_4).encode(\"utf-8\")+b\"426129099c7f2876\").hexdigest() == \"ef12050bb233c14e6f3fd1d3a4c7fd04e16b7f09\", \"boolean value of answer1_09_4 is not correct\"\n",
    "\n",
    "print('Success!')"
   ]
  },
  {
   "cell_type": "markdown",
   "metadata": {
    "deletable": false,
    "editable": false,
    "nbgrader": {
     "cell_type": "markdown",
     "checksum": "15cc821fdf930bee1ef15a01b2082d74",
     "grade": false,
     "grade_id": "cell-098264eb921f8d92",
     "locked": true,
     "schema_version": 3,
     "solution": false
    }
   },
   "source": [
    "## 2. Classification - A Simple Example Done Manually\n",
    "\n",
    "**Question 2.0.0**\n",
    "<br> {points: 1}\n",
    "\n",
    "Let's take a random sample of 5 observations from the breast cancer dataset using the `sample` function. To make this random sample reproducible, we will use `random_state=20` inside the `sample` function. This means that the random number generator will start at the same point each time when we run the code and we will always get back the same random samples. \n",
    "\n",
    "We will focus on the predictors Symmetry and Radius only. Thus, we will need to select the columns `Symmetry` and `Radius` and `Class`. Save these 5 rows and 3 columns to a data frame named `small_sample`.\n",
    "\n",
    "Fill in the `___` in the scaffolding provided below."
   ]
  },
  {
   "cell_type": "code",
   "execution_count": null,
   "metadata": {
    "deletable": false,
    "nbgrader": {
     "cell_type": "code",
     "checksum": "0cad33287ac7e5fdd3dff2237d891eab",
     "grade": false,
     "grade_id": "cell-42f7c13ee9d9b055",
     "locked": false,
     "schema_version": 3,
     "solution": true,
     "task": false
    }
   },
   "outputs": [],
   "source": [
    "# ___ = cancer.sample(5, random_state=20)[[___, ___, ___]]\n",
    "\n",
    "# your code here\n",
    "raise NotImplementedError"
   ]
  },
  {
   "cell_type": "code",
   "execution_count": null,
   "metadata": {
    "deletable": false,
    "editable": false,
    "max_height": 100,
    "nbgrader": {
     "cell_type": "code",
     "checksum": "ed7fd932e28df47ab90c5674d9f41e8c",
     "grade": true,
     "grade_id": "cell-48197ca917cfaeb9",
     "locked": true,
     "points": 1,
     "schema_version": 3,
     "solution": false,
     "task": false
    }
   },
   "outputs": [],
   "source": [
    "from hashlib import sha1\n",
    "assert sha1(str(type(small_sample is None)).encode(\"utf-8\")+b\"6c52840682c3f10c\").hexdigest() == \"476a666180ba47858f3a6269470707f5eb76d6eb\", \"type of small_sample is None is not bool. small_sample is None should be a bool\"\n",
    "assert sha1(str(small_sample is None).encode(\"utf-8\")+b\"6c52840682c3f10c\").hexdigest() == \"6b82f2ff6e7bdb3118c9169a1b11243152d50e13\", \"boolean value of small_sample is None is not correct\"\n",
    "\n",
    "assert sha1(str(type(small_sample)).encode(\"utf-8\")+b\"573b8e3acaff7974\").hexdigest() == \"6f1189abc2dab84cc3f667606978e96eb0e9271b\", \"type of type(small_sample) is not correct\"\n",
    "\n",
    "assert sha1(str(type(small_sample.shape)).encode(\"utf-8\")+b\"ddb9b71d86608f56\").hexdigest() == \"9da5f579bb3766941e3130c94ea511fd65f4fcae\", \"type of small_sample.shape is not tuple. small_sample.shape should be a tuple\"\n",
    "assert sha1(str(len(small_sample.shape)).encode(\"utf-8\")+b\"ddb9b71d86608f56\").hexdigest() == \"a1ca0ce30dc3e6ebc7cd8489e09c30d9557a89e0\", \"length of small_sample.shape is not correct\"\n",
    "assert sha1(str(sorted(map(str, small_sample.shape))).encode(\"utf-8\")+b\"ddb9b71d86608f56\").hexdigest() == \"49af0a87131af4b79f658cedaa903d40324babbb\", \"values of small_sample.shape are not correct\"\n",
    "assert sha1(str(small_sample.shape).encode(\"utf-8\")+b\"ddb9b71d86608f56\").hexdigest() == \"47c029a162b79a1e7c582db047795193f5968d69\", \"order of elements of small_sample.shape is not correct\"\n",
    "\n",
    "assert sha1(str(type(\"Symmetry\" in small_sample.columns)).encode(\"utf-8\")+b\"0d21c1ce900fb59d\").hexdigest() == \"4aa7bebe7eadec1b256f8edcb732063534231d95\", \"type of \\\"Symmetry\\\" in small_sample.columns is not bool. \\\"Symmetry\\\" in small_sample.columns should be a bool\"\n",
    "assert sha1(str(\"Symmetry\" in small_sample.columns).encode(\"utf-8\")+b\"0d21c1ce900fb59d\").hexdigest() == \"1a7e06d3ebc22066d6b14e851efaa4d5688e6748\", \"boolean value of \\\"Symmetry\\\" in small_sample.columns is not correct\"\n",
    "\n",
    "assert sha1(str(type(\"Radius\" in small_sample.columns)).encode(\"utf-8\")+b\"fc03ef9838a26fc0\").hexdigest() == \"21eba07e66bb60798c143cf13266965eab505cc4\", \"type of \\\"Radius\\\" in small_sample.columns is not bool. \\\"Radius\\\" in small_sample.columns should be a bool\"\n",
    "assert sha1(str(\"Radius\" in small_sample.columns).encode(\"utf-8\")+b\"fc03ef9838a26fc0\").hexdigest() == \"1ee3494c13dec15d2b4254ae21b0b4c53cb65bb8\", \"boolean value of \\\"Radius\\\" in small_sample.columns is not correct\"\n",
    "\n",
    "assert sha1(str(type(\"Class\" in small_sample.columns)).encode(\"utf-8\")+b\"f988f6257fb8e804\").hexdigest() == \"16c6bf0c479e019f09bb006bfab846be61f1c7ab\", \"type of \\\"Class\\\" in small_sample.columns is not bool. \\\"Class\\\" in small_sample.columns should be a bool\"\n",
    "assert sha1(str(\"Class\" in small_sample.columns).encode(\"utf-8\")+b\"f988f6257fb8e804\").hexdigest() == \"237f58ae6086db67c14ca359d94f03948eefad99\", \"boolean value of \\\"Class\\\" in small_sample.columns is not correct\"\n",
    "\n",
    "print('Success!')"
   ]
  },
  {
   "cell_type": "markdown",
   "metadata": {
    "deletable": false,
    "editable": false,
    "nbgrader": {
     "cell_type": "markdown",
     "checksum": "58df97068dc162580d59f0dbd4957c02",
     "grade": false,
     "grade_id": "cell-d85472a31a22f709",
     "locked": true,
     "schema_version": 3,
     "solution": false,
     "task": false
    }
   },
   "source": [
    "**Question 2.0.1**\n",
    "<br> {points: 1}\n",
    "\n",
    "Finally, create a scatter plot where `Symmetry` is on the x-axis, and `Radius` is on the y-axis. Color the points by `Class`. Name your plot `small_sample_plot`.\n",
    "\n",
    "Fill in the `___` in the scaffolding provided below.\n",
    "\n",
    "As you create this plot, ensure you follow the guidelines for creating effective visualizations. In particular, note on the plot axes whether the data is standardized or not."
   ]
  },
  {
   "cell_type": "code",
   "execution_count": null,
   "metadata": {
    "deletable": false,
    "nbgrader": {
     "cell_type": "code",
     "checksum": "79b8b3b4cccec02883bb6ef9af691c6c",
     "grade": false,
     "grade_id": "cell-7b3aa8c412086b6a",
     "locked": false,
     "schema_version": 3,
     "solution": true
    }
   },
   "outputs": [],
   "source": [
    "# ___ = (\n",
    "#     alt.Chart(___)\n",
    "#     .___()\n",
    "#     .encode(___)\n",
    "#     .properties(width=380, height=300)\n",
    "#     .configure_axis(labelFontSize=18, titleFontSize=18)\n",
    "# )\n",
    "\n",
    "# your code here\n",
    "raise NotImplementedError\n",
    "small_sample_plot"
   ]
  },
  {
   "cell_type": "code",
   "execution_count": null,
   "metadata": {
    "deletable": false,
    "editable": false,
    "max_height": 100,
    "nbgrader": {
     "cell_type": "code",
     "checksum": "3eece27dcc6b3e36c1d055880d5f661c",
     "grade": true,
     "grade_id": "cell-c224b6ae53340848",
     "locked": true,
     "points": 1,
     "schema_version": 3,
     "solution": false
    }
   },
   "outputs": [],
   "source": [
    "from hashlib import sha1\n",
    "assert sha1(str(type(small_sample_plot is None)).encode(\"utf-8\")+b\"a9783e50827e0634\").hexdigest() == \"8fd1df82928d2cc32e75c2824c3dcda08421ebd7\", \"type of small_sample_plot is None is not bool. small_sample_plot is None should be a bool\"\n",
    "assert sha1(str(small_sample_plot is None).encode(\"utf-8\")+b\"a9783e50827e0634\").hexdigest() == \"27a80e64a7823cb7d075d1214c5f4d2c3805823e\", \"boolean value of small_sample_plot is None is not correct\"\n",
    "\n",
    "assert sha1(str(type(sum(small_sample_plot.data.Symmetry))).encode(\"utf-8\")+b\"30a1cf2fb14cfb90\").hexdigest() == \"47fb802fa87c332f15556f1a0571d28733f37e9f\", \"type of sum(small_sample_plot.data.Symmetry) is not float. Please make sure it is float and not np.float64, etc. You can cast your value into a float using float()\"\n",
    "assert sha1(str(round(sum(small_sample_plot.data.Symmetry), 2)).encode(\"utf-8\")+b\"30a1cf2fb14cfb90\").hexdigest() == \"04cfb4a34b690fee77b2e677df2d46d5a8a7fd02\", \"value of sum(small_sample_plot.data.Symmetry) is not correct (rounded to 2 decimal places)\"\n",
    "\n",
    "assert sha1(str(type(small_sample_plot.encoding.x.field)).encode(\"utf-8\")+b\"5179669def7efcaa\").hexdigest() == \"19b6c64e0143357ee0bb124986cf2f2c6354ac46\", \"type of small_sample_plot.encoding.x.field is not str. small_sample_plot.encoding.x.field should be an str\"\n",
    "assert sha1(str(len(small_sample_plot.encoding.x.field)).encode(\"utf-8\")+b\"5179669def7efcaa\").hexdigest() == \"9b32f7c9d8f9301cb140b0af4025b4e4bae7d63a\", \"length of small_sample_plot.encoding.x.field is not correct\"\n",
    "assert sha1(str(small_sample_plot.encoding.x.field.lower()).encode(\"utf-8\")+b\"5179669def7efcaa\").hexdigest() == \"04f1e7e3b77ca5dd9055e50fc1b2c6da91d7a7f6\", \"value of small_sample_plot.encoding.x.field is not correct\"\n",
    "assert sha1(str(small_sample_plot.encoding.x.field).encode(\"utf-8\")+b\"5179669def7efcaa\").hexdigest() == \"f57a4092163ba44fd627fab1cbcca579afb5227c\", \"correct string value of small_sample_plot.encoding.x.field but incorrect case of letters\"\n",
    "\n",
    "assert sha1(str(type(small_sample_plot.encoding.y.field)).encode(\"utf-8\")+b\"667b6780ffa5a1f2\").hexdigest() == \"1ecf4e7064cd393b7d324f5b95a5c81acbbff84f\", \"type of small_sample_plot.encoding.y.field is not str. small_sample_plot.encoding.y.field should be an str\"\n",
    "assert sha1(str(len(small_sample_plot.encoding.y.field)).encode(\"utf-8\")+b\"667b6780ffa5a1f2\").hexdigest() == \"6daa39d78f65e602cc5c561bdc934ac806b3dd44\", \"length of small_sample_plot.encoding.y.field is not correct\"\n",
    "assert sha1(str(small_sample_plot.encoding.y.field.lower()).encode(\"utf-8\")+b\"667b6780ffa5a1f2\").hexdigest() == \"e1e7f817ed258ec3a2d9cbc558c985cefd35f8dd\", \"value of small_sample_plot.encoding.y.field is not correct\"\n",
    "assert sha1(str(small_sample_plot.encoding.y.field).encode(\"utf-8\")+b\"667b6780ffa5a1f2\").hexdigest() == \"484eda2c8ed2b66ff536da6ce1e229bf76319e13\", \"correct string value of small_sample_plot.encoding.y.field but incorrect case of letters\"\n",
    "\n",
    "assert sha1(str(type(small_sample_plot.mark)).encode(\"utf-8\")+b\"12c1920cdb0f1333\").hexdigest() == \"0821fd4b203a4a095d99d1e3e6c8310f99c5b68a\", \"type of small_sample_plot.mark is not str. small_sample_plot.mark should be an str\"\n",
    "assert sha1(str(len(small_sample_plot.mark)).encode(\"utf-8\")+b\"12c1920cdb0f1333\").hexdigest() == \"0715bcc67a144d721b27576bb6a55616d92bef1b\", \"length of small_sample_plot.mark is not correct\"\n",
    "assert sha1(str(small_sample_plot.mark.lower()).encode(\"utf-8\")+b\"12c1920cdb0f1333\").hexdigest() == \"963e89a6ea329cbd6cdb24824b2e6e19eb3c88bf\", \"value of small_sample_plot.mark is not correct\"\n",
    "assert sha1(str(small_sample_plot.mark).encode(\"utf-8\")+b\"12c1920cdb0f1333\").hexdigest() == \"963e89a6ea329cbd6cdb24824b2e6e19eb3c88bf\", \"correct string value of small_sample_plot.mark but incorrect case of letters\"\n",
    "\n",
    "assert sha1(str(type(small_sample_plot.encoding.color.field)).encode(\"utf-8\")+b\"336e9a01c63e5d10\").hexdigest() == \"9434d4b257fa68da25578b71d081cc3d3f116f23\", \"type of small_sample_plot.encoding.color.field is not str. small_sample_plot.encoding.color.field should be an str\"\n",
    "assert sha1(str(len(small_sample_plot.encoding.color.field)).encode(\"utf-8\")+b\"336e9a01c63e5d10\").hexdigest() == \"5f8dfaf9c177e51f3f818e60986193d9469bcf04\", \"length of small_sample_plot.encoding.color.field is not correct\"\n",
    "assert sha1(str(small_sample_plot.encoding.color.field.lower()).encode(\"utf-8\")+b\"336e9a01c63e5d10\").hexdigest() == \"d5923bf35f8eb0e2c1393f4d84881914c86ae15b\", \"value of small_sample_plot.encoding.color.field is not correct\"\n",
    "assert sha1(str(small_sample_plot.encoding.color.field).encode(\"utf-8\")+b\"336e9a01c63e5d10\").hexdigest() == \"47e257b59580eadf9f8ecaf8e3a769cd9ddb15cb\", \"correct string value of small_sample_plot.encoding.color.field but incorrect case of letters\"\n",
    "\n",
    "assert sha1(str(type(small_sample_plot.encoding.x.title != small_sample_plot.encoding.x.field)).encode(\"utf-8\")+b\"104e7e3649906676\").hexdigest() == \"598c125f95615cae8dc10d914086ab4e4ccd4c9b\", \"type of small_sample_plot.encoding.x.title != small_sample_plot.encoding.x.field is not bool. small_sample_plot.encoding.x.title != small_sample_plot.encoding.x.field should be a bool\"\n",
    "assert sha1(str(small_sample_plot.encoding.x.title != small_sample_plot.encoding.x.field).encode(\"utf-8\")+b\"104e7e3649906676\").hexdigest() == \"0103626921a0d800bf6467577ce415a211dc4ac2\", \"boolean value of small_sample_plot.encoding.x.title != small_sample_plot.encoding.x.field is not correct\"\n",
    "\n",
    "assert sha1(str(type(small_sample_plot.encoding.y.title != small_sample_plot.encoding.y.field)).encode(\"utf-8\")+b\"9d902b2e07bef151\").hexdigest() == \"c525f124e3e8179a11e0d1ec50a0aa8aeec4ef36\", \"type of small_sample_plot.encoding.y.title != small_sample_plot.encoding.y.field is not bool. small_sample_plot.encoding.y.title != small_sample_plot.encoding.y.field should be a bool\"\n",
    "assert sha1(str(small_sample_plot.encoding.y.title != small_sample_plot.encoding.y.field).encode(\"utf-8\")+b\"9d902b2e07bef151\").hexdigest() == \"4c5ab04bdcfdaa8ad5cb7ca58c17ad5277202a51\", \"boolean value of small_sample_plot.encoding.y.title != small_sample_plot.encoding.y.field is not correct\"\n",
    "\n",
    "print('Success!')"
   ]
  },
  {
   "cell_type": "markdown",
   "metadata": {
    "deletable": false,
    "editable": false,
    "nbgrader": {
     "cell_type": "markdown",
     "checksum": "f48da8317201c90659240d958f8f1b0d",
     "grade": false,
     "grade_id": "cell-ea9b69d1eb8ef76c",
     "locked": true,
     "schema_version": 3,
     "solution": false
    }
   },
   "source": [
    "**Question 2.1** \n",
    "<br> {points: 1}\n",
    "\n",
    "Suppose we are interested in classifying a new observation with `Symmetry = 0.5` and `Radius = 0`, but unknown `Class`. Using the `small_sample` data frame, add another row with `Symmetry = 0.5`, `Radius = 0`, and `Class = \"unknown\"`.\n",
    "\n",
    "Fill in the `___` in the scaffolding provided below.\n",
    "\n",
    "*Assign your answer to an object called `newData`.*"
   ]
  },
  {
   "cell_type": "code",
   "execution_count": null,
   "metadata": {
    "deletable": false,
    "nbgrader": {
     "cell_type": "code",
     "checksum": "560dc2280daf6f0cd8a1525b8b90fb1b",
     "grade": false,
     "grade_id": "cell-96047e4736208b46",
     "locked": false,
     "schema_version": 3,
     "solution": true
    }
   },
   "outputs": [],
   "source": [
    "# ___ = ___.append(\n",
    "#     {\"Symmetry\": ___, ___: 0, \"Class\":___}, ignore_index=True\n",
    "# )\n",
    "\n",
    "# your code here\n",
    "raise NotImplementedError\n",
    "newData"
   ]
  },
  {
   "cell_type": "code",
   "execution_count": null,
   "metadata": {
    "deletable": false,
    "editable": false,
    "max_height": 100,
    "nbgrader": {
     "cell_type": "code",
     "checksum": "e55e1835db0908182bc161cd60e8d168",
     "grade": true,
     "grade_id": "cell-136ec7a4a7af2698",
     "locked": true,
     "points": 1,
     "schema_version": 3,
     "solution": false
    }
   },
   "outputs": [],
   "source": [
    "from hashlib import sha1\n",
    "assert sha1(str(type(newData is None)).encode(\"utf-8\")+b\"345ac41d93386b2d\").hexdigest() == \"654d0f1558f0c3f35c8cffbd5bff5978a2fae92a\", \"type of newData is None is not bool. newData is None should be a bool\"\n",
    "assert sha1(str(newData is None).encode(\"utf-8\")+b\"345ac41d93386b2d\").hexdigest() == \"3ca374d6b8d2574b6db65b272d53aec6233559e7\", \"boolean value of newData is None is not correct\"\n",
    "\n",
    "assert sha1(str(type(newData)).encode(\"utf-8\")+b\"f516e4b518628935\").hexdigest() == \"0543ee68e85012b997b4c5a8a88109b3b3aa2b8e\", \"type of type(newData) is not correct\"\n",
    "\n",
    "assert sha1(str(type(newData.Class[5])).encode(\"utf-8\")+b\"18854767324978ad\").hexdigest() == \"e568dd2297d0e7ce8c7433f7227e2d37ec5e1502\", \"type of newData.Class[5] is not str. newData.Class[5] should be an str\"\n",
    "assert sha1(str(len(newData.Class[5])).encode(\"utf-8\")+b\"18854767324978ad\").hexdigest() == \"6ad4d474bfd4884dbc7b7a7ce7cf3bcf5ce1d4b3\", \"length of newData.Class[5] is not correct\"\n",
    "assert sha1(str(newData.Class[5].lower()).encode(\"utf-8\")+b\"18854767324978ad\").hexdigest() == \"e194e17dfe177f6ee3919c81d46b2f7a0defa9e9\", \"value of newData.Class[5] is not correct\"\n",
    "assert sha1(str(newData.Class[5]).encode(\"utf-8\")+b\"18854767324978ad\").hexdigest() == \"e194e17dfe177f6ee3919c81d46b2f7a0defa9e9\", \"correct string value of newData.Class[5] but incorrect case of letters\"\n",
    "\n",
    "assert sha1(str(type(newData.shape)).encode(\"utf-8\")+b\"1ec7fc7af47d3c45\").hexdigest() == \"33c22409418c6a109b596ce855e690d4614c32cd\", \"type of newData.shape is not tuple. newData.shape should be a tuple\"\n",
    "assert sha1(str(len(newData.shape)).encode(\"utf-8\")+b\"1ec7fc7af47d3c45\").hexdigest() == \"3279c2449d9e2b39d645ba2d6d5f496e8757eea1\", \"length of newData.shape is not correct\"\n",
    "assert sha1(str(sorted(map(str, newData.shape))).encode(\"utf-8\")+b\"1ec7fc7af47d3c45\").hexdigest() == \"83f3ed08525be3555cc68602f0e162247c8a3d35\", \"values of newData.shape are not correct\"\n",
    "assert sha1(str(newData.shape).encode(\"utf-8\")+b\"1ec7fc7af47d3c45\").hexdigest() == \"62cab79853c6022b350e0cda011a739ec5127dbc\", \"order of elements of newData.shape is not correct\"\n",
    "\n",
    "assert sha1(str(type(sum(newData.Radius))).encode(\"utf-8\")+b\"23d0687ea5ff7270\").hexdigest() == \"5c69c0366f69e5d0a3daf61d474d9c58b78c81e6\", \"type of sum(newData.Radius) is not float. Please make sure it is float and not np.float64, etc. You can cast your value into a float using float()\"\n",
    "assert sha1(str(round(sum(newData.Radius), 2)).encode(\"utf-8\")+b\"23d0687ea5ff7270\").hexdigest() == \"16b08c539827b41077b226cdbc175c5e6d814148\", \"value of sum(newData.Radius) is not correct (rounded to 2 decimal places)\"\n",
    "\n",
    "assert sha1(str(type(sum(newData.Symmetry))).encode(\"utf-8\")+b\"58185682c431622a\").hexdigest() == \"160cf34cecd4f8fc7da1241606ddf130dac6daef\", \"type of sum(newData.Symmetry) is not float. Please make sure it is float and not np.float64, etc. You can cast your value into a float using float()\"\n",
    "assert sha1(str(round(sum(newData.Symmetry), 2)).encode(\"utf-8\")+b\"58185682c431622a\").hexdigest() == \"81920b15c7496f80f620984dfd94dbdda45750a7\", \"value of sum(newData.Symmetry) is not correct (rounded to 2 decimal places)\"\n",
    "\n",
    "print('Success!')"
   ]
  },
  {
   "cell_type": "markdown",
   "metadata": {
    "deletable": false,
    "editable": false,
    "nbgrader": {
     "cell_type": "markdown",
     "checksum": "8a5cd42953cd3dc8e05959ed2ca534ea",
     "grade": false,
     "grade_id": "cell-0c2e46a6b87bc2f2",
     "locked": true,
     "schema_version": 3,
     "solution": false
    }
   },
   "source": [
    "**Question 2.2**\n",
    "<br> {points: 1}\n",
    "\n",
    "Compute the distance between each pair of the 6 observations in the `newData` dataframe using the `euclidean_distances` function based on two variables: `Symmetry` and `Radius`. Fill in the `___` in the scaffolding provided below.\n",
    "\n",
    "\n",
    "*Assign your answer to an object called `dist_matrix`.*"
   ]
  },
  {
   "cell_type": "code",
   "execution_count": null,
   "metadata": {
    "deletable": false,
    "nbgrader": {
     "cell_type": "code",
     "checksum": "0bef5f7b403050351a196f5fcfb701cf",
     "grade": false,
     "grade_id": "cell-e08fcfbf45d4e190",
     "locked": false,
     "schema_version": 3,
     "solution": true
    }
   },
   "outputs": [],
   "source": [
    "# dist_matrix = pd.DataFrame(___(newData[[___, ___]]))\n",
    "\n",
    "# your code here\n",
    "raise NotImplementedError\n",
    "dist_matrix"
   ]
  },
  {
   "cell_type": "code",
   "execution_count": null,
   "metadata": {
    "deletable": false,
    "editable": false,
    "max_height": 100,
    "nbgrader": {
     "cell_type": "code",
     "checksum": "217f2c56d259ad8829c8101e6c149b8c",
     "grade": true,
     "grade_id": "cell-a8cd3d77bfcea0b0",
     "locked": true,
     "points": 1,
     "schema_version": 3,
     "solution": false
    }
   },
   "outputs": [],
   "source": [
    "from hashlib import sha1\n",
    "assert sha1(str(type(dist_matrix is None)).encode(\"utf-8\")+b\"dec7bb20e3e82408\").hexdigest() == \"7a8b997eb68290a276b07b4ddf3a23c8a4135ae5\", \"type of dist_matrix is None is not bool. dist_matrix is None should be a bool\"\n",
    "assert sha1(str(dist_matrix is None).encode(\"utf-8\")+b\"dec7bb20e3e82408\").hexdigest() == \"c7e126b21568456589bad79d2e4691abc43cd5ad\", \"boolean value of dist_matrix is None is not correct\"\n",
    "\n",
    "assert sha1(str(type(dist_matrix)).encode(\"utf-8\")+b\"b3b2bbbf0a9b5006\").hexdigest() == \"2abddaac8a09c9c430bfb20eabe76af862bfdeee\", \"type of type(dist_matrix) is not correct\"\n",
    "\n",
    "assert sha1(str(type(dist_matrix.shape)).encode(\"utf-8\")+b\"d25e52082891d5be\").hexdigest() == \"97a116e9b9ced65b57603d8e2fa8d72c2f130058\", \"type of dist_matrix.shape is not tuple. dist_matrix.shape should be a tuple\"\n",
    "assert sha1(str(len(dist_matrix.shape)).encode(\"utf-8\")+b\"d25e52082891d5be\").hexdigest() == \"f7a107d244e7c7aa442fab7f3cbb92fe8d71b8e4\", \"length of dist_matrix.shape is not correct\"\n",
    "assert sha1(str(sorted(map(str, dist_matrix.shape))).encode(\"utf-8\")+b\"d25e52082891d5be\").hexdigest() == \"d00c5496aafaa0cc53e91f04db75d56224a56102\", \"values of dist_matrix.shape are not correct\"\n",
    "assert sha1(str(dist_matrix.shape).encode(\"utf-8\")+b\"d25e52082891d5be\").hexdigest() == \"592d503aa6774da3e6b080be9b4f30a8ad9a73a0\", \"order of elements of dist_matrix.shape is not correct\"\n",
    "\n",
    "assert sha1(str(type(sum(dist_matrix.iloc[0]))).encode(\"utf-8\")+b\"766fc568af5363cd\").hexdigest() == \"01facf436a435398a7ac9253c5c27968d289a973\", \"type of sum(dist_matrix.iloc[0]) is not float. Please make sure it is float and not np.float64, etc. You can cast your value into a float using float()\"\n",
    "assert sha1(str(round(sum(dist_matrix.iloc[0]), 2)).encode(\"utf-8\")+b\"766fc568af5363cd\").hexdigest() == \"90e6dbd0388096470e2949be717d5279df986867\", \"value of sum(dist_matrix.iloc[0]) is not correct (rounded to 2 decimal places)\"\n",
    "\n",
    "assert sha1(str(type(sum(dist_matrix.iloc[1]))).encode(\"utf-8\")+b\"f069895193ca86c6\").hexdigest() == \"d1d159d03c171d0db9a7d54940ce668af7a1a245\", \"type of sum(dist_matrix.iloc[1]) is not float. Please make sure it is float and not np.float64, etc. You can cast your value into a float using float()\"\n",
    "assert sha1(str(round(sum(dist_matrix.iloc[1]), 2)).encode(\"utf-8\")+b\"f069895193ca86c6\").hexdigest() == \"10dd82aef44fa5aa4700d957eeafdc3f24417699\", \"value of sum(dist_matrix.iloc[1]) is not correct (rounded to 2 decimal places)\"\n",
    "\n",
    "assert sha1(str(type(sum(dist_matrix.iloc[4]))).encode(\"utf-8\")+b\"d8783b2a2507c94a\").hexdigest() == \"fc5760bb4e37f520b3013607534abb6acdfd9cd4\", \"type of sum(dist_matrix.iloc[4]) is not float. Please make sure it is float and not np.float64, etc. You can cast your value into a float using float()\"\n",
    "assert sha1(str(round(sum(dist_matrix.iloc[4]), 2)).encode(\"utf-8\")+b\"d8783b2a2507c94a\").hexdigest() == \"0ad18729ac10c405679c9636476c532bd3d9d898\", \"value of sum(dist_matrix.iloc[4]) is not correct (rounded to 2 decimal places)\"\n",
    "\n",
    "assert sha1(str(type(sum(dist_matrix.iloc[5]))).encode(\"utf-8\")+b\"4d80e870cb838dd9\").hexdigest() == \"e3a2f05b3c6d6c1f9d2a2395683f3b35d6ee3879\", \"type of sum(dist_matrix.iloc[5]) is not float. Please make sure it is float and not np.float64, etc. You can cast your value into a float using float()\"\n",
    "assert sha1(str(round(sum(dist_matrix.iloc[5]), 2)).encode(\"utf-8\")+b\"4d80e870cb838dd9\").hexdigest() == \"4decb87cf63dcfcb5b72a797a9c8bb571f049ee9\", \"value of sum(dist_matrix.iloc[5]) is not correct (rounded to 2 decimal places)\"\n",
    "\n",
    "print('Success!')"
   ]
  },
  {
   "cell_type": "markdown",
   "metadata": {
    "deletable": false,
    "editable": false,
    "nbgrader": {
     "cell_type": "markdown",
     "checksum": "7ec7ce46ce9d262b66ef34ab6563931a",
     "grade": false,
     "grade_id": "cell-aba0edb4c4788627",
     "locked": true,
     "schema_version": 3,
     "solution": false
    }
   },
   "source": [
    "**Question 2.3** Multiple Choice:\n",
    "<br> {points: 1}\n",
    "\n",
    "In the table above, the row and column numbers reflect the row number from the data frame the `euclidean_distances` function was applied to. The values in `dist_matrix` are the distances between the points of the row and column number. For example, the distance between the point 2 and point 4 is 2.444209. And the distance between point 3 and point 3 (the same point) is 0.\n",
    "\n",
    "**Which observation is the nearest to our new point?**\n",
    "\n",
    "*Assign your answer to an object called `answer2_3`. Make sure your answer is a number."
   ]
  },
  {
   "cell_type": "code",
   "execution_count": null,
   "metadata": {
    "deletable": false,
    "nbgrader": {
     "cell_type": "code",
     "checksum": "10c3bcc9b0db2d4b3fb2ee608a2f834e",
     "grade": false,
     "grade_id": "cell-bdbdb888f697f310",
     "locked": false,
     "schema_version": 3,
     "solution": true
    }
   },
   "outputs": [],
   "source": [
    "# your code here\n",
    "raise NotImplementedError"
   ]
  },
  {
   "cell_type": "code",
   "execution_count": null,
   "metadata": {
    "deletable": false,
    "editable": false,
    "max_height": 100,
    "nbgrader": {
     "cell_type": "code",
     "checksum": "0a8bf88c3703790d2320d5c54eea14a6",
     "grade": true,
     "grade_id": "cell-371a2959d06316e2",
     "locked": true,
     "points": 3,
     "schema_version": 3,
     "solution": false
    }
   },
   "outputs": [],
   "source": [
    "from hashlib import sha1\n",
    "assert sha1(str(type(answer2_3)).encode(\"utf-8\")+b\"62d56c226d56a31b\").hexdigest() == \"d54e132852ddf5de5ebff316e0c5fed61d6db504\", \"type of answer2_3 is not int. Please make sure it is int and not np.int64, etc. You can cast your value into an int using int()\"\n",
    "assert sha1(str(answer2_3).encode(\"utf-8\")+b\"62d56c226d56a31b\").hexdigest() == \"3eebc579fa26284bfb2582ca9cd368bd1355f73c\", \"value of answer2_3 is not correct\"\n",
    "\n",
    "print('Success!')"
   ]
  },
  {
   "cell_type": "markdown",
   "metadata": {
    "deletable": false,
    "editable": false,
    "nbgrader": {
     "cell_type": "markdown",
     "checksum": "7b692e8014baae67bc6807ff850b719c",
     "grade": false,
     "grade_id": "cell-d2210381e32e3b13",
     "locked": true,
     "schema_version": 3,
     "solution": false
    }
   },
   "source": [
    "**Question 2.4** Multiple Choice: \n",
    "<br> {points: 1}\n",
    "\n",
    "If we use the K-nearest neighbour classification algorithm with K = 1 to classify the new observation using your answers to **Questions 2.2 & 2.3**, is the new data point predicted to be benign or malignant?\n",
    "\n",
    "*Assign your answer to an object called `answer2_4`. Make sure the correct answer is written fully as either \"Benign\" or \"Malignant\". Remember to surround your answer with quotation marks.* "
   ]
  },
  {
   "cell_type": "code",
   "execution_count": null,
   "metadata": {
    "deletable": false,
    "nbgrader": {
     "cell_type": "code",
     "checksum": "e9019b11b6b8c9f74d38162fd941c18f",
     "grade": false,
     "grade_id": "cell-22366d4a160c0c16",
     "locked": false,
     "schema_version": 3,
     "solution": true
    }
   },
   "outputs": [],
   "source": [
    "# your code here\n",
    "raise NotImplementedError"
   ]
  },
  {
   "cell_type": "code",
   "execution_count": null,
   "metadata": {
    "deletable": false,
    "editable": false,
    "max_height": 100,
    "nbgrader": {
     "cell_type": "code",
     "checksum": "77b434bdae4b9cd1da0099eb8081c0a6",
     "grade": true,
     "grade_id": "cell-bf715d3502c96d7e",
     "locked": true,
     "points": 3,
     "schema_version": 3,
     "solution": false
    }
   },
   "outputs": [],
   "source": [
    "from hashlib import sha1\n",
    "assert sha1(str(type(answer2_4)).encode(\"utf-8\")+b\"cb12135544cdb066\").hexdigest() == \"6a1672c0ee03a9addb07820e7137af72cb45ac8b\", \"type of answer2_4 is not str. answer2_4 should be an str\"\n",
    "assert sha1(str(len(answer2_4)).encode(\"utf-8\")+b\"cb12135544cdb066\").hexdigest() == \"5563743f586fc8479d854b520fb80cd7960c37ed\", \"length of answer2_4 is not correct\"\n",
    "assert sha1(str(answer2_4.lower()).encode(\"utf-8\")+b\"cb12135544cdb066\").hexdigest() == \"b663a18748c876e01d2531ff4a9b9ac6dcb82538\", \"value of answer2_4 is not correct\"\n",
    "assert sha1(str(answer2_4).encode(\"utf-8\")+b\"cb12135544cdb066\").hexdigest() == \"218f04fce56827ef82ad8ee82383ea10f2606163\", \"correct string value of answer2_4 but incorrect case of letters\"\n",
    "\n",
    "print('Success!')"
   ]
  },
  {
   "cell_type": "markdown",
   "metadata": {
    "deletable": false,
    "editable": false,
    "nbgrader": {
     "cell_type": "markdown",
     "checksum": "ea0850f0241b59a478d23c49767d41cd",
     "grade": false,
     "grade_id": "cell-066b94daf2bb2b53",
     "locked": true,
     "schema_version": 3,
     "solution": false
    }
   },
   "source": [
    "**Question 2.5** Multiple Choice:\n",
    "<br> {points: 1}\n",
    "\n",
    "Using your answers to **Questions 2.2 & 2.3**, what are the three closest observations to your new point?\n",
    "\n",
    "A. 1, 3, 2\n",
    "\n",
    "B. 0, 1, 3\n",
    "\n",
    "C. 5, 2, 4\n",
    "\n",
    "D. 3, 4, 2\n",
    "\n",
    "*Assign your answer to an object called `answer2_5`. Make sure the correct answer is an uppercase letter. Remember to surround your answer with quotation marks (e.g. \"F\").*"
   ]
  },
  {
   "cell_type": "code",
   "execution_count": null,
   "metadata": {
    "deletable": false,
    "nbgrader": {
     "cell_type": "code",
     "checksum": "0660932897a5435430dabc3908249f22",
     "grade": false,
     "grade_id": "cell-559773dc29d9781f",
     "locked": false,
     "schema_version": 3,
     "solution": true
    }
   },
   "outputs": [],
   "source": [
    "# your code here\n",
    "raise NotImplementedError"
   ]
  },
  {
   "cell_type": "code",
   "execution_count": null,
   "metadata": {
    "deletable": false,
    "editable": false,
    "max_height": 100,
    "nbgrader": {
     "cell_type": "code",
     "checksum": "bf8440716a1ed1d3a2ca8479e8363780",
     "grade": true,
     "grade_id": "cell-377f6fc0e8af55a9",
     "locked": true,
     "points": 3,
     "schema_version": 3,
     "solution": false
    }
   },
   "outputs": [],
   "source": [
    "from hashlib import sha1\n",
    "assert sha1(str(type(answer2_5)).encode(\"utf-8\")+b\"ab94a11c661a6fbc\").hexdigest() == \"c9611049a47f18cd53ca3f5bcdd125892293c11c\", \"type of answer2_5 is not str. answer2_5 should be an str\"\n",
    "assert sha1(str(len(answer2_5)).encode(\"utf-8\")+b\"ab94a11c661a6fbc\").hexdigest() == \"0f29f858285e4a21abf0bcfc16df8659121240cb\", \"length of answer2_5 is not correct\"\n",
    "assert sha1(str(answer2_5.lower()).encode(\"utf-8\")+b\"ab94a11c661a6fbc\").hexdigest() == \"9b2891556a6df4bae57f4ef3309fde65a1fd96f9\", \"value of answer2_5 is not correct\"\n",
    "assert sha1(str(answer2_5).encode(\"utf-8\")+b\"ab94a11c661a6fbc\").hexdigest() == \"31cbb0c8ccacded4faebda34c46a250da7e0e668\", \"correct string value of answer2_5 but incorrect case of letters\"\n",
    "\n",
    "print('Success!')"
   ]
  },
  {
   "cell_type": "markdown",
   "metadata": {
    "deletable": false,
    "editable": false,
    "nbgrader": {
     "cell_type": "markdown",
     "checksum": "dcfdc0e4c35f32a74cdf8f14deab2299",
     "grade": false,
     "grade_id": "cell-bf7fd236053daada",
     "locked": true,
     "schema_version": 3,
     "solution": false
    }
   },
   "source": [
    "**Question 2.6** Multiple Choice: \n",
    "<br> {points: 1}\n",
    "\n",
    "We will now use the K-nearest neighbour classification algorithm with K = 3 to classify the new observation using your answers to **Questions 2.2 & 2.3**. Is the new data point predicted to be benign or malignant?\n",
    "\n",
    "*Assign your answer to an object called `answer2_6`. Make sure the correct answer is written fully. Remember to surround your answer with quotation marks (e.g. \"Benign\" / \"Malignant\").*"
   ]
  },
  {
   "cell_type": "code",
   "execution_count": null,
   "metadata": {
    "deletable": false,
    "nbgrader": {
     "cell_type": "code",
     "checksum": "03ade657f4654214091bf3dac2f324cd",
     "grade": false,
     "grade_id": "cell-258763f514ce8d52",
     "locked": false,
     "schema_version": 3,
     "solution": true
    }
   },
   "outputs": [],
   "source": [
    "# your code here\n",
    "raise NotImplementedError"
   ]
  },
  {
   "cell_type": "code",
   "execution_count": null,
   "metadata": {
    "deletable": false,
    "editable": false,
    "max_height": 100,
    "nbgrader": {
     "cell_type": "code",
     "checksum": "0a4991e79ac54fcf74c97dbe9aaa897b",
     "grade": true,
     "grade_id": "cell-2a8fd7a3457fb02a",
     "locked": true,
     "points": 3,
     "schema_version": 3,
     "solution": false
    }
   },
   "outputs": [],
   "source": [
    "from hashlib import sha1\n",
    "assert sha1(str(type(answer2_6)).encode(\"utf-8\")+b\"d98f86faa2dc26a4\").hexdigest() == \"f522da42dfc4d80bbc8c9d8d8932a91debedb668\", \"type of answer2_6 is not str. answer2_6 should be an str\"\n",
    "assert sha1(str(len(answer2_6)).encode(\"utf-8\")+b\"d98f86faa2dc26a4\").hexdigest() == \"13e74b2d0cefe1e44c02f158ff9d79286d1325f6\", \"length of answer2_6 is not correct\"\n",
    "assert sha1(str(answer2_6.lower()).encode(\"utf-8\")+b\"d98f86faa2dc26a4\").hexdigest() == \"4d305f1d0a0ac99a5a3ee413204b1eda1b12bcdb\", \"value of answer2_6 is not correct\"\n",
    "assert sha1(str(answer2_6).encode(\"utf-8\")+b\"d98f86faa2dc26a4\").hexdigest() == \"a78f9b083dc71f9d0e7f13d84299dc3a19b55cdc\", \"correct string value of answer2_6 but incorrect case of letters\"\n",
    "\n",
    "print('Success!')"
   ]
  },
  {
   "cell_type": "markdown",
   "metadata": {
    "deletable": false,
    "editable": false,
    "nbgrader": {
     "cell_type": "markdown",
     "checksum": "6aef431522c8dba8d06f105ac210ecfd",
     "grade": false,
     "grade_id": "cell-070238e3e7380252",
     "locked": true,
     "schema_version": 3,
     "solution": false
    }
   },
   "source": [
    "**Question 2.7**\n",
    "<br> {points: 1}\n",
    "\n",
    "Compare your answers in 2.4 and 2.6. Are they the same?\n",
    "\n",
    "*Assign your answer to an object called `answer2_7`. Make sure the correct answer is written in lower-case. Remember to surround your answer with quotation marks (e.g. \"yes\" / \"no\").* "
   ]
  },
  {
   "cell_type": "code",
   "execution_count": null,
   "metadata": {
    "deletable": false,
    "nbgrader": {
     "cell_type": "code",
     "checksum": "e969c267f7269cfcdb58d807dcadd0a3",
     "grade": false,
     "grade_id": "cell-5eb56b54aae58afa",
     "locked": false,
     "schema_version": 3,
     "solution": true
    }
   },
   "outputs": [],
   "source": [
    "# your code here\n",
    "raise NotImplementedError"
   ]
  },
  {
   "cell_type": "code",
   "execution_count": null,
   "metadata": {
    "deletable": false,
    "editable": false,
    "max_height": 100,
    "nbgrader": {
     "cell_type": "code",
     "checksum": "1c69cf718c688236ae60943b531dc7d8",
     "grade": true,
     "grade_id": "cell-067dc96bdc43046c",
     "locked": true,
     "points": 3,
     "schema_version": 3,
     "solution": false
    }
   },
   "outputs": [],
   "source": [
    "from hashlib import sha1\n",
    "assert sha1(str(type(answer2_7)).encode(\"utf-8\")+b\"2fb5cc87925a2bf2\").hexdigest() == \"c0422a326a2544d0bb63c79805c185dd0ee2d94b\", \"type of answer2_7 is not str. answer2_7 should be an str\"\n",
    "assert sha1(str(len(answer2_7)).encode(\"utf-8\")+b\"2fb5cc87925a2bf2\").hexdigest() == \"0f0bc2dc5b842aefcd85ea85ea34a30a2bd2ace9\", \"length of answer2_7 is not correct\"\n",
    "assert sha1(str(answer2_7.lower()).encode(\"utf-8\")+b\"2fb5cc87925a2bf2\").hexdigest() == \"f36f2f4aba5bfe732d18d9c6077ef04cd1ccd713\", \"value of answer2_7 is not correct\"\n",
    "assert sha1(str(answer2_7).encode(\"utf-8\")+b\"2fb5cc87925a2bf2\").hexdigest() == \"f36f2f4aba5bfe732d18d9c6077ef04cd1ccd713\", \"correct string value of answer2_7 but incorrect case of letters\"\n",
    "\n",
    "print('Success!')"
   ]
  },
  {
   "cell_type": "markdown",
   "metadata": {
    "deletable": false,
    "editable": false,
    "nbgrader": {
     "cell_type": "markdown",
     "checksum": "6c0e438ec1491f860d3e075295498e0e",
     "grade": false,
     "grade_id": "cell-c279ff71adbb5d92",
     "locked": true,
     "schema_version": 3,
     "solution": false,
     "task": false
    }
   },
   "source": [
    "## 3. Using `scikit-learn` to perform k-nearest neighbours\n",
    "\n",
    "Now that we understand how K-nearest neighbours (k-nn) classification works, let's get familar with the `scikit-learn` Python package. The benefit of using `scikit-learn` is that it will keep our code simple, readable and accurate. Coding less and in a tidier format means that there is less chance for errors to occur.  \n",
    "\n",
    "We'll again focus on `Radius` and `Symmetry` as the two predictors. This time, we would like to predict the class of a new observation with `Symmetry = 1` and `Radius = 0`. This one is a bit tricky to do visually from the plot below, and so is a motivating example for us to compute the prediction using k-nn with the `scikit-learn` package. Let's use `K = 7`."
   ]
  },
  {
   "cell_type": "code",
   "execution_count": null,
   "metadata": {
    "deletable": false,
    "editable": false,
    "nbgrader": {
     "cell_type": "code",
     "checksum": "025f63ba07834f092b2c668defffaa10",
     "grade": false,
     "grade_id": "cell-56677f538700d703",
     "locked": true,
     "schema_version": 3,
     "solution": false,
     "task": false
    }
   },
   "outputs": [],
   "source": [
    "cancer_plot"
   ]
  },
  {
   "cell_type": "markdown",
   "metadata": {
    "deletable": false,
    "editable": false,
    "nbgrader": {
     "cell_type": "markdown",
     "checksum": "9eda1dc50d63ab186380d08c86d1bc5c",
     "grade": false,
     "grade_id": "cell-0be2bf18a64cc945",
     "locked": true,
     "schema_version": 3,
     "solution": false
    }
   },
   "source": [
    "**Question 3.1** \n",
    "<br> {points: 1}\n",
    "\n",
    "Create a **model** for K-nearest neighbours classification by using the `KNeighborsClassifier` function. Specify that we want to set `n_neighbors = 7`.\n",
    "\n",
    "Name your model specification `knn_spec`."
   ]
  },
  {
   "cell_type": "code",
   "execution_count": null,
   "metadata": {
    "deletable": false,
    "nbgrader": {
     "cell_type": "code",
     "checksum": "02af91221f9fdb4855c5737f2525182a",
     "grade": false,
     "grade_id": "cell-6c32562496f83241",
     "locked": false,
     "schema_version": 3,
     "solution": true,
     "task": false
    }
   },
   "outputs": [],
   "source": [
    "# ___ = KNeighborsClassifier(n_neighbors=___)\n",
    "\n",
    "# your code here\n",
    "raise NotImplementedError\n",
    "knn_spec"
   ]
  },
  {
   "cell_type": "code",
   "execution_count": null,
   "metadata": {
    "deletable": false,
    "editable": false,
    "max_height": 100,
    "nbgrader": {
     "cell_type": "code",
     "checksum": "cd7b81bb0c1fcd4dc1e56e16ce612e4f",
     "grade": true,
     "grade_id": "cell-685a4e4330f23a90",
     "locked": true,
     "points": 1,
     "schema_version": 3,
     "solution": false
    }
   },
   "outputs": [],
   "source": [
    "from hashlib import sha1\n",
    "assert sha1(str(type(knn_spec is None)).encode(\"utf-8\")+b\"9f37840f97d1f8f3\").hexdigest() == \"f1083f09fed5967f1cd5d97923c39df658db02b9\", \"type of knn_spec is None is not bool. knn_spec is None should be a bool\"\n",
    "assert sha1(str(knn_spec is None).encode(\"utf-8\")+b\"9f37840f97d1f8f3\").hexdigest() == \"bcdcfcda73f2b24744f9d9318ac160efc3471a6d\", \"boolean value of knn_spec is None is not correct\"\n",
    "\n",
    "assert sha1(str(type(knn_spec.n_neighbors)).encode(\"utf-8\")+b\"d40f5706c76cb49c\").hexdigest() == \"caef63f133b2faf1907c90512b3b473bfd6048cc\", \"type of knn_spec.n_neighbors is not int. Please make sure it is int and not np.int64, etc. You can cast your value into an int using int()\"\n",
    "assert sha1(str(knn_spec.n_neighbors).encode(\"utf-8\")+b\"d40f5706c76cb49c\").hexdigest() == \"0ebd160774765d82266250ed8fa79b8cc8a55d66\", \"value of knn_spec.n_neighbors is not correct\"\n",
    "\n",
    "assert sha1(str(type(knn_spec.algorithm)).encode(\"utf-8\")+b\"def850b9d937b644\").hexdigest() == \"8662d73dc77df9d96a2a25f2d350d363a53661d8\", \"type of knn_spec.algorithm is not str. knn_spec.algorithm should be an str\"\n",
    "assert sha1(str(len(knn_spec.algorithm)).encode(\"utf-8\")+b\"def850b9d937b644\").hexdigest() == \"a0e1e010f0b8d8a1044b27fe77d7cfc16d46c092\", \"length of knn_spec.algorithm is not correct\"\n",
    "assert sha1(str(knn_spec.algorithm.lower()).encode(\"utf-8\")+b\"def850b9d937b644\").hexdigest() == \"a7b904fc58f775e1e6a8a52745ad75db9b4879da\", \"value of knn_spec.algorithm is not correct\"\n",
    "assert sha1(str(knn_spec.algorithm).encode(\"utf-8\")+b\"def850b9d937b644\").hexdigest() == \"a7b904fc58f775e1e6a8a52745ad75db9b4879da\", \"correct string value of knn_spec.algorithm but incorrect case of letters\"\n",
    "\n",
    "print('Success!')"
   ]
  },
  {
   "cell_type": "markdown",
   "metadata": {
    "deletable": false,
    "editable": false,
    "nbgrader": {
     "cell_type": "markdown",
     "checksum": "eb2399b350c7d343589ed39615f585c5",
     "grade": false,
     "grade_id": "cell-5ccafffc3a34805b",
     "locked": true,
     "schema_version": 3,
     "solution": false
    }
   },
   "source": [
    "**Question 3.2**\n",
    "<br> {points: 1}\n",
    "\n",
    "To train the model on the breast cancer dataset, pass `knn_spec` and the `cancer` dataset to the `.fit` function. Specify `Class` as your target variable and the `Symmetry` and `Radius` variables as your predictors. Name your fitted model as `knn_fit`."
   ]
  },
  {
   "cell_type": "code",
   "execution_count": null,
   "metadata": {
    "deletable": false,
    "nbgrader": {
     "cell_type": "code",
     "checksum": "72f73386ec37bfcfb94b48055f369ade",
     "grade": false,
     "grade_id": "cell-cdee2d8667038f6a",
     "locked": false,
     "schema_version": 3,
     "solution": true
    }
   },
   "outputs": [],
   "source": [
    "# X = ___[[\"Symmetry\", ___]]\n",
    "# y = ___[___]\n",
    "# ___ = ___.fit(___, ___)\n",
    "\n",
    "# your code here\n",
    "raise NotImplementedError\n",
    "knn_fit"
   ]
  },
  {
   "cell_type": "code",
   "execution_count": null,
   "metadata": {
    "deletable": false,
    "editable": false,
    "max_height": 100,
    "nbgrader": {
     "cell_type": "code",
     "checksum": "b3f1b0f696a689f46d9d52a4e9b219fb",
     "grade": true,
     "grade_id": "cell-f99ed1dee272d06a",
     "locked": true,
     "points": 1,
     "schema_version": 3,
     "solution": false
    }
   },
   "outputs": [],
   "source": [
    "from hashlib import sha1\n",
    "assert sha1(str(type(knn_fit is None)).encode(\"utf-8\")+b\"e3515cd496b24274\").hexdigest() == \"f822fa009ee855f978736627ab9c254e9a13a804\", \"type of knn_fit is None is not bool. knn_fit is None should be a bool\"\n",
    "assert sha1(str(knn_fit is None).encode(\"utf-8\")+b\"e3515cd496b24274\").hexdigest() == \"8b429addc1783bfe49d843b3eaa42a9ba19675fd\", \"boolean value of knn_fit is None is not correct\"\n",
    "\n",
    "assert sha1(str(type(type(knn_fit))).encode(\"utf-8\")+b\"8e999a8f93c4a41b\").hexdigest() == \"82325f93c6318a43713eb101dac92500ec884edd\", \"type of type(knn_fit) is not correct\"\n",
    "assert sha1(str(type(knn_fit)).encode(\"utf-8\")+b\"8e999a8f93c4a41b\").hexdigest() == \"40544f1c56e3b0ee9f62f5afcfbc573dc96005e6\", \"value of type(knn_fit) is not correct\"\n",
    "\n",
    "assert sha1(str(type(knn_fit.classes_)).encode(\"utf-8\")+b\"d7072130e79dad08\").hexdigest() == \"15da5c5b047f1471e607272739356a27cc9c31f0\", \"type of knn_fit.classes_ is not correct\"\n",
    "assert sha1(str(knn_fit.classes_).encode(\"utf-8\")+b\"d7072130e79dad08\").hexdigest() == \"c167675f967f20213c08c94a1faaad1190189a63\", \"value of knn_fit.classes_ is not correct\"\n",
    "\n",
    "assert sha1(str(type(knn_fit.effective_metric_)).encode(\"utf-8\")+b\"733780d370b2ff24\").hexdigest() == \"83d1ea1e76551d65b2f267f8088eff8f0d3b107f\", \"type of knn_fit.effective_metric_ is not str. knn_fit.effective_metric_ should be an str\"\n",
    "assert sha1(str(len(knn_fit.effective_metric_)).encode(\"utf-8\")+b\"733780d370b2ff24\").hexdigest() == \"368f14da71aef579f1eca8f0a5827e84a9be3b86\", \"length of knn_fit.effective_metric_ is not correct\"\n",
    "assert sha1(str(knn_fit.effective_metric_.lower()).encode(\"utf-8\")+b\"733780d370b2ff24\").hexdigest() == \"a21cc5cdcaad3e6243bb33ee1e8f2b1024e22412\", \"value of knn_fit.effective_metric_ is not correct\"\n",
    "assert sha1(str(knn_fit.effective_metric_).encode(\"utf-8\")+b\"733780d370b2ff24\").hexdigest() == \"a21cc5cdcaad3e6243bb33ee1e8f2b1024e22412\", \"correct string value of knn_fit.effective_metric_ but incorrect case of letters\"\n",
    "\n",
    "assert sha1(str(type(knn_fit.n_features_in_)).encode(\"utf-8\")+b\"6561903eb5afac3b\").hexdigest() == \"6f71926f8a3345e40f65fffa871325a8516b67df\", \"type of knn_fit.n_features_in_ is not int. Please make sure it is int and not np.int64, etc. You can cast your value into an int using int()\"\n",
    "assert sha1(str(knn_fit.n_features_in_).encode(\"utf-8\")+b\"6561903eb5afac3b\").hexdigest() == \"5a6c65b701a5154b9c6d64618e9a5551af7e4e70\", \"value of knn_fit.n_features_in_ is not correct\"\n",
    "\n",
    "assert sha1(str(type(X.columns.values)).encode(\"utf-8\")+b\"40d16f7832b7caa6\").hexdigest() == \"a3a9d958e9916e2f24b30dca270fc02ec1846f20\", \"type of X.columns.values is not correct\"\n",
    "assert sha1(str(X.columns.values).encode(\"utf-8\")+b\"40d16f7832b7caa6\").hexdigest() == \"befe2bdbabce853d4b12e1b3d09230fd519e0587\", \"value of X.columns.values is not correct\"\n",
    "\n",
    "assert sha1(str(type(y.name)).encode(\"utf-8\")+b\"40282a9fed51c29d\").hexdigest() == \"2f10270d250fe818587c34a24f224959fbc2cc5f\", \"type of y.name is not str. y.name should be an str\"\n",
    "assert sha1(str(len(y.name)).encode(\"utf-8\")+b\"40282a9fed51c29d\").hexdigest() == \"1bd04dedd7bb3251a3d26a567f7c8c69eae1df24\", \"length of y.name is not correct\"\n",
    "assert sha1(str(y.name.lower()).encode(\"utf-8\")+b\"40282a9fed51c29d\").hexdigest() == \"cdb7fa99ddb69ba42c8e1d6a90f58884d6353d36\", \"value of y.name is not correct\"\n",
    "assert sha1(str(y.name).encode(\"utf-8\")+b\"40282a9fed51c29d\").hexdigest() == \"4b6dd3cba49bf322d9945059bdcca682022ca46d\", \"correct string value of y.name but incorrect case of letters\"\n",
    "\n",
    "assert sha1(str(type(sum(X.Symmetry))).encode(\"utf-8\")+b\"086147b83767187e\").hexdigest() == \"c7e900c3d9e4c56f7fe7b00979763ba8deca9415\", \"type of sum(X.Symmetry) is not float. Please make sure it is float and not np.float64, etc. You can cast your value into a float using float()\"\n",
    "assert sha1(str(round(sum(X.Symmetry), 2)).encode(\"utf-8\")+b\"086147b83767187e\").hexdigest() == \"825d434cb6bfc872c9968016f7cb7f90f21eab9a\", \"value of sum(X.Symmetry) is not correct (rounded to 2 decimal places)\"\n",
    "\n",
    "assert sha1(str(type(sum(X.Radius))).encode(\"utf-8\")+b\"acbce76638baf531\").hexdigest() == \"f882cc20265cb5770d2007cabbb7cbee4d2273cc\", \"type of sum(X.Radius) is not float. Please make sure it is float and not np.float64, etc. You can cast your value into a float using float()\"\n",
    "assert sha1(str(round(sum(X.Radius), 2)).encode(\"utf-8\")+b\"acbce76638baf531\").hexdigest() == \"ea1d1726345118151845ba8234d9f11bea76675b\", \"value of sum(X.Radius) is not correct (rounded to 2 decimal places)\"\n",
    "\n",
    "print('Success!')"
   ]
  },
  {
   "cell_type": "markdown",
   "metadata": {
    "deletable": false,
    "editable": false,
    "nbgrader": {
     "cell_type": "markdown",
     "checksum": "247c7c6fb6c0a8485a26007733e7e0d6",
     "grade": false,
     "grade_id": "cell-51e9956deb5ca6fd",
     "locked": true,
     "schema_version": 3,
     "solution": false,
     "task": false
    }
   },
   "source": [
    "**Question 3.3**\n",
    "<br>{points: 1}\n",
    "\n",
    "Now we will make our prediction on the `Class` of a new observation with a `Symmetry` of 1 and a `Radius` of 0. First, create a dataframe with these variables and values and call it `new_obs`. Next, use the `.predict` function to obtain our prediction by passing `knn_fit` and `new_obs` to it. Name your predicted class as `class_prediction`."
   ]
  },
  {
   "cell_type": "code",
   "execution_count": null,
   "metadata": {
    "deletable": false,
    "nbgrader": {
     "cell_type": "code",
     "checksum": "95b6b6409bbe8ad405dd630070e68dc7",
     "grade": false,
     "grade_id": "cell-29520122db413f38",
     "locked": false,
     "schema_version": 3,
     "solution": true,
     "task": false
    }
   },
   "outputs": [],
   "source": [
    "# ___ = pd.DataFrame([[1, 0]], columns=[___, ___])\n",
    "# ___ = ___.predict(___)\n",
    "\n",
    "# your code here\n",
    "raise NotImplementedError\n",
    "class_prediction"
   ]
  },
  {
   "cell_type": "code",
   "execution_count": null,
   "metadata": {
    "deletable": false,
    "editable": false,
    "max_height": 100,
    "nbgrader": {
     "cell_type": "code",
     "checksum": "267b8b0567bd28d2fe31f6dda5dc6068",
     "grade": true,
     "grade_id": "cell-8ccf0ef821e9d0de",
     "locked": true,
     "points": 1,
     "schema_version": 3,
     "solution": false,
     "task": false
    }
   },
   "outputs": [],
   "source": [
    "from hashlib import sha1\n",
    "assert sha1(str(type(new_obs is None)).encode(\"utf-8\")+b\"c1fd041374dbc685\").hexdigest() == \"a4d78f399e54641ab82b23f01fa6a79f64785d51\", \"type of new_obs is None is not bool. new_obs is None should be a bool\"\n",
    "assert sha1(str(new_obs is None).encode(\"utf-8\")+b\"c1fd041374dbc685\").hexdigest() == \"f52aab84725b1a830b9c5f33a3f80861925ab07a\", \"boolean value of new_obs is None is not correct\"\n",
    "\n",
    "assert sha1(str(type(new_obs)).encode(\"utf-8\")+b\"efed1661a67bb44e\").hexdigest() == \"b6a4b43f7d9d268fcbe440c060d1c0905e4bef15\", \"type of type(new_obs) is not correct\"\n",
    "\n",
    "assert sha1(str(type(new_obs.Symmetry.values)).encode(\"utf-8\")+b\"99c36964bbbafd10\").hexdigest() == \"db81dfcdf02d7ba860e64e0b6f350a4b5720116e\", \"type of new_obs.Symmetry.values is not correct\"\n",
    "assert sha1(str(new_obs.Symmetry.values).encode(\"utf-8\")+b\"99c36964bbbafd10\").hexdigest() == \"7582af4427c654f0e064760b898742992b0fc828\", \"value of new_obs.Symmetry.values is not correct\"\n",
    "\n",
    "assert sha1(str(type(new_obs.Radius.values)).encode(\"utf-8\")+b\"763b69b15771549d\").hexdigest() == \"a1716c75effa7881d98cb56122b78739de07218d\", \"type of new_obs.Radius.values is not correct\"\n",
    "assert sha1(str(new_obs.Radius.values).encode(\"utf-8\")+b\"763b69b15771549d\").hexdigest() == \"379fbf29b9ef170f2a38d77f3bc6038ee3ba0be5\", \"value of new_obs.Radius.values is not correct\"\n",
    "\n",
    "assert sha1(str(type(class_prediction is None)).encode(\"utf-8\")+b\"36616ce23ffe8f67\").hexdigest() == \"c87fd1927d2ee0bebcce5588d2ab3b0a6816ecf5\", \"type of class_prediction is None is not bool. class_prediction is None should be a bool\"\n",
    "assert sha1(str(class_prediction is None).encode(\"utf-8\")+b\"36616ce23ffe8f67\").hexdigest() == \"b8095cd92f297ec4d92521e416b6117edf4cee75\", \"boolean value of class_prediction is None is not correct\"\n",
    "\n",
    "assert sha1(str(type(class_prediction)).encode(\"utf-8\")+b\"5a3c4e923a472161\").hexdigest() == \"74896cc7a7fbeee3a51bf91bc7a67adf41041cb8\", \"type of class_prediction is not correct\"\n",
    "assert sha1(str(class_prediction).encode(\"utf-8\")+b\"5a3c4e923a472161\").hexdigest() == \"4b37871fe5694d814155e31104faf4fc3dd25a74\", \"value of class_prediction is not correct\"\n",
    "\n",
    "print('Success!')"
   ]
  },
  {
   "cell_type": "markdown",
   "metadata": {
    "deletable": false,
    "editable": false,
    "nbgrader": {
     "cell_type": "markdown",
     "checksum": "766b5be770dafd182ab615790f809c4d",
     "grade": false,
     "grade_id": "cell-df0b5140effdf82e",
     "locked": true,
     "schema_version": 3,
     "solution": false
    }
   },
   "source": [
    "**Question 3.4**\n",
    "<br> {points: 1}\n",
    "\n",
    "Let's perform K-nearest neighbour classification again, but with three predictors. Use the `scikit-learn` package and `K = 7` to classify a new observation where we measure `Symmetry = 1`, `Radius = 0` and `Concavity = 1`. Use the scaffolding from **Questions 3.2** and **3.3** to help you.\n",
    "\n",
    "- Pass the same `knn_spec` from before to `fit`, but this time specify `Symmetry`, `Radius`, and `Concavity` as the predictors. Save the predictor as `X_2` and the target as `y_2`. Store the output in `knn_fit_2`. \n",
    "- store the new observation values in an object called `new_obs_2`\n",
    "- store the output of `predict` in an object called `class_prediction_2`"
   ]
  },
  {
   "cell_type": "code",
   "execution_count": null,
   "metadata": {
    "deletable": false,
    "nbgrader": {
     "cell_type": "code",
     "checksum": "1fe1b45ae173c6b6944a1ad13611fe34",
     "grade": false,
     "grade_id": "cell-9ebae1c9d403b859",
     "locked": false,
     "schema_version": 3,
     "solution": true
    }
   },
   "outputs": [],
   "source": [
    "# your code here\n",
    "raise NotImplementedError"
   ]
  },
  {
   "cell_type": "code",
   "execution_count": null,
   "metadata": {
    "deletable": false,
    "editable": false,
    "max_height": 100,
    "nbgrader": {
     "cell_type": "code",
     "checksum": "6337233e642211e8be3354f256507fcd",
     "grade": true,
     "grade_id": "cell-ae8bad16e80bdfef",
     "locked": true,
     "points": 1,
     "schema_version": 3,
     "solution": false
    }
   },
   "outputs": [],
   "source": [
    "from hashlib import sha1\n",
    "assert sha1(str(type(knn_fit_2 is None)).encode(\"utf-8\")+b\"d3732ee3d523876d\").hexdigest() == \"ffd450bda5a175b273ec57b43b26a0e59ee03eef\", \"type of knn_fit_2 is None is not bool. knn_fit_2 is None should be a bool\"\n",
    "assert sha1(str(knn_fit_2 is None).encode(\"utf-8\")+b\"d3732ee3d523876d\").hexdigest() == \"cd173cc7492b61370dd926603491f86da596cb2f\", \"boolean value of knn_fit_2 is None is not correct\"\n",
    "\n",
    "assert sha1(str(type(knn_fit_2.kneighbors)).encode(\"utf-8\")+b\"51d260eb10bc2f7a\").hexdigest() == \"9840a58c8af3eab54e8fa1a6b0ba11ef1e955113\", \"type of knn_fit_2.kneighbors is not correct\"\n",
    "assert sha1(str(knn_fit_2.kneighbors).encode(\"utf-8\")+b\"51d260eb10bc2f7a\").hexdigest() == \"affc7c674a1375d2b1e189a27538003d6af41654\", \"value of knn_fit_2.kneighbors is not correct\"\n",
    "\n",
    "assert sha1(str(type(knn_fit_2.effective_metric_)).encode(\"utf-8\")+b\"41a7f28b2479d413\").hexdigest() == \"be37cd635a57601b71f067548c17dfb7632888b9\", \"type of knn_fit_2.effective_metric_ is not str. knn_fit_2.effective_metric_ should be an str\"\n",
    "assert sha1(str(len(knn_fit_2.effective_metric_)).encode(\"utf-8\")+b\"41a7f28b2479d413\").hexdigest() == \"f05e43dce01e9931b2ce637ff0b14023ed89992f\", \"length of knn_fit_2.effective_metric_ is not correct\"\n",
    "assert sha1(str(knn_fit_2.effective_metric_.lower()).encode(\"utf-8\")+b\"41a7f28b2479d413\").hexdigest() == \"ad6d5ff770527ce6d4387ed7fe26cad1d331f5c7\", \"value of knn_fit_2.effective_metric_ is not correct\"\n",
    "assert sha1(str(knn_fit_2.effective_metric_).encode(\"utf-8\")+b\"41a7f28b2479d413\").hexdigest() == \"ad6d5ff770527ce6d4387ed7fe26cad1d331f5c7\", \"correct string value of knn_fit_2.effective_metric_ but incorrect case of letters\"\n",
    "\n",
    "assert sha1(str(type(type(knn_fit_2))).encode(\"utf-8\")+b\"c60b48c846c38ea9\").hexdigest() == \"ef2f370a0a287f4923d16decb895bd899261d134\", \"type of type(knn_fit_2) is not correct\"\n",
    "assert sha1(str(type(knn_fit_2)).encode(\"utf-8\")+b\"c60b48c846c38ea9\").hexdigest() == \"41e682377f78e236cbb900d6d0808b08fe4502cd\", \"value of type(knn_fit_2) is not correct\"\n",
    "\n",
    "assert sha1(str(type(knn_fit_2.n_features_in_)).encode(\"utf-8\")+b\"66c78d242a25e87f\").hexdigest() == \"fa1c58da90e0632217bc251e5ed9cae6e438d22a\", \"type of knn_fit_2.n_features_in_ is not int. Please make sure it is int and not np.int64, etc. You can cast your value into an int using int()\"\n",
    "assert sha1(str(knn_fit_2.n_features_in_).encode(\"utf-8\")+b\"66c78d242a25e87f\").hexdigest() == \"bc62b085088028a3edb027002ddc86fbcef99b04\", \"value of knn_fit_2.n_features_in_ is not correct\"\n",
    "\n",
    "assert sha1(str(type(X_2.columns.values)).encode(\"utf-8\")+b\"c65943b32e1ef579\").hexdigest() == \"47da80a4f87718289146f8b272708fd318fafcf6\", \"type of X_2.columns.values is not correct\"\n",
    "assert sha1(str(X_2.columns.values).encode(\"utf-8\")+b\"c65943b32e1ef579\").hexdigest() == \"73ec62bca28f30270e32984b3ce9f0fa7cd68b2c\", \"value of X_2.columns.values is not correct\"\n",
    "\n",
    "assert sha1(str(type(y_2.name)).encode(\"utf-8\")+b\"774ab73ded6244a0\").hexdigest() == \"fe190f73a920759aa60c4bddd1e969753a69beda\", \"type of y_2.name is not str. y_2.name should be an str\"\n",
    "assert sha1(str(len(y_2.name)).encode(\"utf-8\")+b\"774ab73ded6244a0\").hexdigest() == \"8b786adbb86bfcb308f3a2836636ec9e26fbd7cb\", \"length of y_2.name is not correct\"\n",
    "assert sha1(str(y_2.name.lower()).encode(\"utf-8\")+b\"774ab73ded6244a0\").hexdigest() == \"d021b956bb78d90dd9294565e45d10f7265dd407\", \"value of y_2.name is not correct\"\n",
    "assert sha1(str(y_2.name).encode(\"utf-8\")+b\"774ab73ded6244a0\").hexdigest() == \"d42c988691c20575791103ee0251f75b4a835cd0\", \"correct string value of y_2.name but incorrect case of letters\"\n",
    "\n",
    "assert sha1(str(type(y_2.values)).encode(\"utf-8\")+b\"d82a2e6f771769b0\").hexdigest() == \"351ad342ee63068fde5f872fba1c8961578f7e8f\", \"type of y_2.values is not correct\"\n",
    "assert sha1(str(y_2.values).encode(\"utf-8\")+b\"d82a2e6f771769b0\").hexdigest() == \"52fb42596de96f6a76c1e21da37cb46a5a791467\", \"value of y_2.values is not correct\"\n",
    "\n",
    "assert sha1(str(type(sum(X_2.Symmetry))).encode(\"utf-8\")+b\"41f83421b922904b\").hexdigest() == \"e37d3f733abacb9e6d69aa4ddc592815f67fe24b\", \"type of sum(X_2.Symmetry) is not float. Please make sure it is float and not np.float64, etc. You can cast your value into a float using float()\"\n",
    "assert sha1(str(round(sum(X_2.Symmetry), 2)).encode(\"utf-8\")+b\"41f83421b922904b\").hexdigest() == \"a1b19853b9796b110bc30072af58cdf43926ab00\", \"value of sum(X_2.Symmetry) is not correct (rounded to 2 decimal places)\"\n",
    "\n",
    "assert sha1(str(type(sum(X_2.Radius))).encode(\"utf-8\")+b\"19bad0011562ecdd\").hexdigest() == \"04b5e3a460117f0790693a95846cb159b8253b9a\", \"type of sum(X_2.Radius) is not float. Please make sure it is float and not np.float64, etc. You can cast your value into a float using float()\"\n",
    "assert sha1(str(round(sum(X_2.Radius), 2)).encode(\"utf-8\")+b\"19bad0011562ecdd\").hexdigest() == \"d96df2121f43f662bc170cef5c3b0da6f4aa8ec6\", \"value of sum(X_2.Radius) is not correct (rounded to 2 decimal places)\"\n",
    "\n",
    "assert sha1(str(type(sum(X_2.Concavity))).encode(\"utf-8\")+b\"ff2b40b3187e8684\").hexdigest() == \"a1983f7fb4f88d2c620bca8bf8746c348f5fe9f6\", \"type of sum(X_2.Concavity) is not float. Please make sure it is float and not np.float64, etc. You can cast your value into a float using float()\"\n",
    "assert sha1(str(round(sum(X_2.Concavity), 2)).encode(\"utf-8\")+b\"ff2b40b3187e8684\").hexdigest() == \"17ae8ffdf4b8e15307643179592aef5d6f481246\", \"value of sum(X_2.Concavity) is not correct (rounded to 2 decimal places)\"\n",
    "\n",
    "assert sha1(str(type(new_obs_2 is None)).encode(\"utf-8\")+b\"9ebee594789d0fbd\").hexdigest() == \"a33c59e22e250b55d8a1b9314ecff37c89fddef0\", \"type of new_obs_2 is None is not bool. new_obs_2 is None should be a bool\"\n",
    "assert sha1(str(new_obs_2 is None).encode(\"utf-8\")+b\"9ebee594789d0fbd\").hexdigest() == \"280ce671d80d3dabcae97df61dc962cbf2d2a64b\", \"boolean value of new_obs_2 is None is not correct\"\n",
    "\n",
    "assert sha1(str(type(new_obs_2)).encode(\"utf-8\")+b\"b91ecc9acb96bb4f\").hexdigest() == \"4a71bc55c6b430a79502e35da05f930b84981388\", \"type of type(new_obs_2) is not correct\"\n",
    "\n",
    "assert sha1(str(type(new_obs_2.Symmetry.values)).encode(\"utf-8\")+b\"d1f8cf6b2e46fb74\").hexdigest() == \"c0d62199a4576faf7dae035bbfde2690837b89f2\", \"type of new_obs_2.Symmetry.values is not correct\"\n",
    "assert sha1(str(new_obs_2.Symmetry.values).encode(\"utf-8\")+b\"d1f8cf6b2e46fb74\").hexdigest() == \"7d0b506beb3109151f369e77b6a23e7b44769303\", \"value of new_obs_2.Symmetry.values is not correct\"\n",
    "\n",
    "assert sha1(str(type(new_obs_2.Radius.values)).encode(\"utf-8\")+b\"07dcefebc517a51d\").hexdigest() == \"d17a21ee801fb95a53ed36e21dd73aedc2dd1d1a\", \"type of new_obs_2.Radius.values is not correct\"\n",
    "assert sha1(str(new_obs_2.Radius.values).encode(\"utf-8\")+b\"07dcefebc517a51d\").hexdigest() == \"51884c1d897a961b287a500fdbccd5f4230e4b52\", \"value of new_obs_2.Radius.values is not correct\"\n",
    "\n",
    "assert sha1(str(type(new_obs_2.Concavity.values)).encode(\"utf-8\")+b\"3716b4a00b2f6af3\").hexdigest() == \"2507cf3c01c002de6d2dfb26cb3fe2610acf7dd1\", \"type of new_obs_2.Concavity.values is not correct\"\n",
    "assert sha1(str(new_obs_2.Concavity.values).encode(\"utf-8\")+b\"3716b4a00b2f6af3\").hexdigest() == \"156974d69d434daece4ae5e8707cd1b6fe9dd2e7\", \"value of new_obs_2.Concavity.values is not correct\"\n",
    "\n",
    "assert sha1(str(type(class_prediction_2 is None)).encode(\"utf-8\")+b\"89308a384dcf7fde\").hexdigest() == \"8a169fd4d6843d1331a5ef0d474a05174c027171\", \"type of class_prediction_2 is None is not bool. class_prediction_2 is None should be a bool\"\n",
    "assert sha1(str(class_prediction_2 is None).encode(\"utf-8\")+b\"89308a384dcf7fde\").hexdigest() == \"9f019caa16560ed524e8d48abb334209d96a664e\", \"boolean value of class_prediction_2 is None is not correct\"\n",
    "\n",
    "assert sha1(str(type(class_prediction_2)).encode(\"utf-8\")+b\"48dc0813a6bdc431\").hexdigest() == \"2bfbd4db748638231b7e715e5c40f58a73e04105\", \"type of class_prediction_2 is not correct\"\n",
    "assert sha1(str(class_prediction_2).encode(\"utf-8\")+b\"48dc0813a6bdc431\").hexdigest() == \"8268048cf375c789f92754e69bb68601a11b4eb5\", \"value of class_prediction_2 is not correct\"\n",
    "\n",
    "print('Success!')"
   ]
  },
  {
   "cell_type": "markdown",
   "metadata": {
    "deletable": false,
    "editable": false,
    "nbgrader": {
     "cell_type": "markdown",
     "checksum": "610e1dbbc94f19c413440d50e09c8269",
     "grade": false,
     "grade_id": "cell-5758f98a43d755fe",
     "locked": true,
     "schema_version": 3,
     "solution": false,
     "task": false
    }
   },
   "source": [
    "**Question 3.5**\n",
    "<br>{points: 1}\n",
    "\n",
    "Finally, we will perform K-nearest neighbour classification again, using the `scikit-learn` package and `K = 7` to classify a new observation where we use **all the predictors** in our data set (we give you the values in the code below). \n",
    "\n",
    "But we first have to do one important thing: we need to remove the ID variable from the analysis (it's not a numerical measurement that we should use for classification). Thankfully, `scikit-learn` provides a nice way of combining data preprocessing and training into a single consistent pipeline.\n",
    "\n",
    "We will first create a preprocessor to remove the `ID` variable using the `drop` preprocessing step. Since we aren't doing any preprocessing to other columns, we will pass them through using the `passthrough` preprocessing step. Do so below using the provided scaffolding. Name the preprocessor object `knn_preprocessor`.\n"
   ]
  },
  {
   "cell_type": "code",
   "execution_count": null,
   "metadata": {
    "deletable": false,
    "nbgrader": {
     "cell_type": "code",
     "checksum": "6557903b7ecdd46149ef32091f7972c7",
     "grade": false,
     "grade_id": "cell-4b45e92db544f078",
     "locked": false,
     "schema_version": 3,
     "solution": true,
     "task": false
    }
   },
   "outputs": [],
   "source": [
    "# ___ = make_column_transformer(\n",
    "#     (\n",
    "#         \"passthrough\",\n",
    "#         [\n",
    "#             \"Radius\",\n",
    "#             \"Texture\",\n",
    "#             \"Perimeter\",\n",
    "#             \"Area\",\n",
    "#             \"Smoothness\",\n",
    "#             \"Compactness\",\n",
    "#             \"Concavity\",\n",
    "#             \"Concave_points\",\n",
    "#             \"Symmetry\",\n",
    "#             \"Fractal_dimension\",\n",
    "#         ],\n",
    "#     ),\n",
    "#     (\"drop\", [___]),\n",
    "# )\n",
    "\n",
    "# your code here\n",
    "raise NotImplementedError\n",
    "knn_preprocessor"
   ]
  },
  {
   "cell_type": "code",
   "execution_count": null,
   "metadata": {
    "deletable": false,
    "editable": false,
    "max_height": 100,
    "nbgrader": {
     "cell_type": "code",
     "checksum": "6eeeebca519527c203389935d80e0407",
     "grade": true,
     "grade_id": "cell-c6b6f36644c1de32",
     "locked": true,
     "points": 1,
     "schema_version": 3,
     "solution": false,
     "task": false
    }
   },
   "outputs": [],
   "source": [
    "from hashlib import sha1\n",
    "assert sha1(str(type(knn_preprocessor is None)).encode(\"utf-8\")+b\"821c73f02984205a\").hexdigest() == \"4a0f2b55a37d56d3bdc75ca2a9eb93898cc04b82\", \"type of knn_preprocessor is None is not bool. knn_preprocessor is None should be a bool\"\n",
    "assert sha1(str(knn_preprocessor is None).encode(\"utf-8\")+b\"821c73f02984205a\").hexdigest() == \"0afd9f189e88fd669720be4f4e7b7f0cd99aaf86\", \"boolean value of knn_preprocessor is None is not correct\"\n",
    "\n",
    "assert sha1(str(type(type(knn_preprocessor))).encode(\"utf-8\")+b\"0e45ab9dc4157d81\").hexdigest() == \"82d6955782d48d4ef1d72e6b84e6fa7b5e7f47b8\", \"type of type(knn_preprocessor) is not correct\"\n",
    "assert sha1(str(type(knn_preprocessor)).encode(\"utf-8\")+b\"0e45ab9dc4157d81\").hexdigest() == \"157db6d325e5694a0c2e8fe8eed8e323d20ad695\", \"value of type(knn_preprocessor) is not correct\"\n",
    "\n",
    "assert sha1(str(type(knn_preprocessor.get_feature_names_out)).encode(\"utf-8\")+b\"308d0cbde9cc1791\").hexdigest() == \"593fdb76fcfe3e643efdb5672478e0845a7ae253\", \"type of knn_preprocessor.get_feature_names_out is not correct\"\n",
    "assert sha1(str(knn_preprocessor.get_feature_names_out).encode(\"utf-8\")+b\"308d0cbde9cc1791\").hexdigest() == \"a12cdc25c5e674f041678a9218bbae06c09e5eb4\", \"value of knn_preprocessor.get_feature_names_out is not correct\"\n",
    "\n",
    "print('Success!')"
   ]
  },
  {
   "cell_type": "markdown",
   "metadata": {
    "deletable": false,
    "editable": false,
    "nbgrader": {
     "cell_type": "markdown",
     "checksum": "cf7f976e89a5c9e9f17e07358a223cf4",
     "grade": false,
     "grade_id": "cell-f2205e10137bba29",
     "locked": true,
     "schema_version": 3,
     "solution": false,
     "task": false
    }
   },
   "source": [
    "**Question 3.6**\n",
    "<br> {points: 1}\n",
    "\n",
    "Create a **pipeline** that includes the new preprocessor (`knn_preprocessor`) and the model specification (`knn_spec`) using the scaffolding below. Name the pipeline object `knn_pipeline`."
   ]
  },
  {
   "cell_type": "code",
   "execution_count": null,
   "metadata": {
    "deletable": false,
    "nbgrader": {
     "cell_type": "code",
     "checksum": "3d4ab70626ac09d16b3e7a6dc453fdfe",
     "grade": false,
     "grade_id": "cell-ad1115a24af76299",
     "locked": false,
     "schema_version": 3,
     "solution": true,
     "task": false
    }
   },
   "outputs": [],
   "source": [
    "# ___ = make_pipeline(___, ___)\n",
    "\n",
    "# your code here\n",
    "raise NotImplementedError\n",
    "knn_pipeline"
   ]
  },
  {
   "cell_type": "code",
   "execution_count": null,
   "metadata": {
    "deletable": false,
    "editable": false,
    "max_height": 100,
    "nbgrader": {
     "cell_type": "code",
     "checksum": "a54e2380b0c0ced6dc875e7d1442b3d4",
     "grade": true,
     "grade_id": "cell-a091b39308a96640",
     "locked": true,
     "points": 1,
     "schema_version": 3,
     "solution": false,
     "task": false
    }
   },
   "outputs": [],
   "source": [
    "from hashlib import sha1\n",
    "assert sha1(str(type(knn_pipeline is None)).encode(\"utf-8\")+b\"c53451ab0bb9ae15\").hexdigest() == \"3ef7e3d1ee8ba7f118a879ebbdf99e0edea92415\", \"type of knn_pipeline is None is not bool. knn_pipeline is None should be a bool\"\n",
    "assert sha1(str(knn_pipeline is None).encode(\"utf-8\")+b\"c53451ab0bb9ae15\").hexdigest() == \"ab0b7c6b9332fa05943a09c10dc04c31570a1fd9\", \"boolean value of knn_pipeline is None is not correct\"\n",
    "\n",
    "assert sha1(str(type(type(knn_pipeline))).encode(\"utf-8\")+b\"72aee092cc9dfcc8\").hexdigest() == \"419118fb1413b1ab7454502a9667b567d7828483\", \"type of type(knn_pipeline) is not correct\"\n",
    "assert sha1(str(type(knn_pipeline)).encode(\"utf-8\")+b\"72aee092cc9dfcc8\").hexdigest() == \"8af45ce3f4366f43e36eba3a2b99acb8aa59a833\", \"value of type(knn_pipeline) is not correct\"\n",
    "\n",
    "assert sha1(str(type(knn_pipeline.named_steps.kneighborsclassifier.n_neighbors)).encode(\"utf-8\")+b\"8b599dce34c7c756\").hexdigest() == \"cc6513f50655d17bf27fd7ea9bdfd50a32628889\", \"type of knn_pipeline.named_steps.kneighborsclassifier.n_neighbors is not int. Please make sure it is int and not np.int64, etc. You can cast your value into an int using int()\"\n",
    "assert sha1(str(knn_pipeline.named_steps.kneighborsclassifier.n_neighbors).encode(\"utf-8\")+b\"8b599dce34c7c756\").hexdigest() == \"32314f54add237501e918d6d664c9a93a2b4e900\", \"value of knn_pipeline.named_steps.kneighborsclassifier.n_neighbors is not correct\"\n",
    "\n",
    "print('Success!')"
   ]
  },
  {
   "cell_type": "markdown",
   "metadata": {
    "deletable": false,
    "editable": false,
    "nbgrader": {
     "cell_type": "markdown",
     "checksum": "ad8fe156d4918254e41e1606f024227d",
     "grade": false,
     "grade_id": "cell-f5f5e1eb6b4eae96",
     "locked": true,
     "schema_version": 3,
     "solution": false,
     "task": false
    }
   },
   "source": [
    "**Question 3.7**\n",
    "{points: 1}\n",
    "\n",
    "Finally, `fit` the pipeline and predict the class label for the new observation named `new_obs_all`. Name the `fit` object `knn_fit_all`, and the class prediction `class_prediction_all`. Name the new predictor as `X_3` and the new target as `y_3`."
   ]
  },
  {
   "cell_type": "code",
   "execution_count": null,
   "metadata": {
    "deletable": false,
    "nbgrader": {
     "cell_type": "code",
     "checksum": "de540dbaf10c7e0c1ed2d9e6fec8bc78",
     "grade": false,
     "grade_id": "cell-1a574f5403a0315e",
     "locked": false,
     "schema_version": 3,
     "solution": true
    }
   },
   "outputs": [],
   "source": [
    "new_obs_all = pd.DataFrame(\n",
    "    [[None, 0, 0, 0, 0, 0.5, 0, 1, 0, 1, 0]],\n",
    "    columns=[\n",
    "        \"ID\",\n",
    "        \"Radius\",\n",
    "        \"Texture\",\n",
    "        \"Perimeter\",\n",
    "        \"Area\",\n",
    "        \"Smoothness\",\n",
    "        \"Compactness\",\n",
    "        \"Concavity\",\n",
    "        \"Concave_points\",\n",
    "        \"Symmetry\",\n",
    "        \"Fractal_dimension\",\n",
    "    ],\n",
    ")\n",
    "# X_3 = cancer.drop(columns=[___])\n",
    "# y_3 = cancer[___]\n",
    "# ___ = knn_pipeline.fit(___, ___)\n",
    "# ___ = knn_fit_all.____(____)\n",
    "\n",
    "# your code here\n",
    "raise NotImplementedError\n",
    "class_prediction_all"
   ]
  },
  {
   "cell_type": "code",
   "execution_count": null,
   "metadata": {
    "deletable": false,
    "editable": false,
    "max_height": 100,
    "nbgrader": {
     "cell_type": "code",
     "checksum": "962e8ce4f8dddcf0e48d6a1e6e968844",
     "grade": true,
     "grade_id": "cell-036a77a7a92f0c3d",
     "locked": true,
     "points": 1,
     "schema_version": 3,
     "solution": false
    }
   },
   "outputs": [],
   "source": [
    "from hashlib import sha1\n",
    "assert sha1(str(type(class_prediction_all)).encode(\"utf-8\")+b\"08d495240064884e\").hexdigest() == \"06dca2860285f3ead19d542b8a268964148f23ef\", \"type of class_prediction_all is not correct\"\n",
    "assert sha1(str(class_prediction_all).encode(\"utf-8\")+b\"08d495240064884e\").hexdigest() == \"dde72361e19c565dc973c94522fb5607251b8de1\", \"value of class_prediction_all is not correct\"\n",
    "\n",
    "print('Success!')"
   ]
  },
  {
   "cell_type": "markdown",
   "metadata": {
    "deletable": false,
    "editable": false,
    "nbgrader": {
     "cell_type": "markdown",
     "checksum": "9e58b841ef09ca686d209a1e2317eb80",
     "grade": false,
     "grade_id": "cell-9fe84a61d314cfed",
     "locked": true,
     "schema_version": 3,
     "solution": false,
     "task": false
    }
   },
   "source": [
    "## 4. Reviewing Some Concepts\n",
    "\n",
    "We will conclude with two multiple choice questions to reinforce some key concepts when doing classification with K-nearest neighbours."
   ]
  },
  {
   "cell_type": "markdown",
   "metadata": {
    "deletable": false,
    "editable": false,
    "nbgrader": {
     "cell_type": "markdown",
     "checksum": "486de8a86ebe4009219df6b5358bb550",
     "grade": false,
     "grade_id": "cell-b904a53540f32475",
     "locked": true,
     "schema_version": 3,
     "solution": false
    }
   },
   "source": [
    "**Question 4.0**\n",
    "<br> {points: 1}\n",
    "\n",
    "In the K-nearest neighbours classification algorithm, we calculate the distance between the new observation (for which we are trying to predict the class/label/outcome) and each of the observations in the training data set so that we can:\n",
    "\n",
    "A. Find the `K` nearest neighbours of the new observation\n",
    "\n",
    "B. Assess how well our model fits the data\n",
    "\n",
    "C. Find outliers\n",
    "\n",
    "D. Assign the new observation to a cluster\n",
    "\n",
    "*Assign your answer (e.g. \"E\") to an object called: `answer4_0`. Make sure your answer is an uppercase letter and is surrounded with quotation marks.*"
   ]
  },
  {
   "cell_type": "code",
   "execution_count": null,
   "metadata": {
    "deletable": false,
    "nbgrader": {
     "cell_type": "code",
     "checksum": "fb615604ca1e21ab81a688c7c0c884a8",
     "grade": false,
     "grade_id": "cell-13d8575850bc1390",
     "locked": false,
     "schema_version": 3,
     "solution": true
    }
   },
   "outputs": [],
   "source": [
    "# your code here\n",
    "raise NotImplementedError"
   ]
  },
  {
   "cell_type": "code",
   "execution_count": null,
   "metadata": {
    "deletable": false,
    "editable": false,
    "max_height": 100,
    "nbgrader": {
     "cell_type": "code",
     "checksum": "f6651b9cf0045b0664a09e192310de91",
     "grade": true,
     "grade_id": "cell-437eb5f41aed17bc",
     "locked": true,
     "points": 1,
     "schema_version": 3,
     "solution": false
    }
   },
   "outputs": [],
   "source": [
    "from hashlib import sha1\n",
    "assert sha1(str(type(answer4_0)).encode(\"utf-8\")+b\"087dd45c4049e650\").hexdigest() == \"e802c5835bd76397694377dbfa273708dc93d05f\", \"type of answer4_0 is not str. answer4_0 should be an str\"\n",
    "assert sha1(str(len(answer4_0)).encode(\"utf-8\")+b\"087dd45c4049e650\").hexdigest() == \"e8ea555805f7e3932935564aa52c4518c219faeb\", \"length of answer4_0 is not correct\"\n",
    "assert sha1(str(answer4_0.lower()).encode(\"utf-8\")+b\"087dd45c4049e650\").hexdigest() == \"4aebef7caae387688baa332d80270c63b8287602\", \"value of answer4_0 is not correct\"\n",
    "assert sha1(str(answer4_0).encode(\"utf-8\")+b\"087dd45c4049e650\").hexdigest() == \"58b07b9d011b20139b72963a8105809e0f593444\", \"correct string value of answer4_0 but incorrect case of letters\"\n",
    "\n",
    "print('Success!')"
   ]
  },
  {
   "cell_type": "markdown",
   "metadata": {
    "deletable": false,
    "editable": false,
    "nbgrader": {
     "cell_type": "markdown",
     "checksum": "76ab4ea5bf55a3e8c0235e5ce82c7ff6",
     "grade": false,
     "grade_id": "cell-a60b11b11c972d2c",
     "locked": true,
     "schema_version": 3,
     "solution": false,
     "task": false
    }
   },
   "source": [
    "**Question 4.1**\n",
    "<br> {points: 1}\n",
    "\n",
    "In the K-nearest neighbours classification algorithm, we choose the label/class for a new observation by:\n",
    "\n",
    "A. Taking the mean (average value) label/class of the K nearest neighbours \n",
    "\n",
    "B. Taking the median (middle value) label/class of the K nearest neighbours \n",
    "\n",
    "C. Taking the mode (value that appears most often, *i.e.*, the majority vote) label/class of the K nearest neighbours \n",
    "\n",
    "*Assign your answer (e.g., \"E\") to an object called `answer4_1`. Make sure your answer is an uppercase letter and is surrounded with quotation marks.*"
   ]
  },
  {
   "cell_type": "code",
   "execution_count": null,
   "metadata": {
    "deletable": false,
    "nbgrader": {
     "cell_type": "code",
     "checksum": "63c2b6bfa4c158fbdb4b84ed619b1ecc",
     "grade": false,
     "grade_id": "cell-ed504d5d3d6f58ea",
     "locked": false,
     "schema_version": 3,
     "solution": true
    }
   },
   "outputs": [],
   "source": [
    "# your code here\n",
    "raise NotImplementedError"
   ]
  },
  {
   "cell_type": "code",
   "execution_count": null,
   "metadata": {
    "deletable": false,
    "editable": false,
    "max_height": 100,
    "nbgrader": {
     "cell_type": "code",
     "checksum": "3c78aace55081a808ddf312e5fa9616b",
     "grade": true,
     "grade_id": "cell-303f4a3bd9b343f2",
     "locked": true,
     "points": 1,
     "schema_version": 3,
     "solution": false
    }
   },
   "outputs": [],
   "source": [
    "from hashlib import sha1\n",
    "assert sha1(str(type(answer4_1)).encode(\"utf-8\")+b\"7e00e84b96e6b169\").hexdigest() == \"d15b88c8cb2bc161f353541cd0afb69f8fc29796\", \"type of answer4_1 is not str. answer4_1 should be an str\"\n",
    "assert sha1(str(len(answer4_1)).encode(\"utf-8\")+b\"7e00e84b96e6b169\").hexdigest() == \"e00eb91ecc6c9bc4bad3f4f953567194156875af\", \"length of answer4_1 is not correct\"\n",
    "assert sha1(str(answer4_1.lower()).encode(\"utf-8\")+b\"7e00e84b96e6b169\").hexdigest() == \"bbb8023b6edd142d963d5b391870e029aa0fac6f\", \"value of answer4_1 is not correct\"\n",
    "assert sha1(str(answer4_1).encode(\"utf-8\")+b\"7e00e84b96e6b169\").hexdigest() == \"b024af254a1547eb5a8bc55da22da7468b9bf7f6\", \"correct string value of answer4_1 but incorrect case of letters\"\n",
    "\n",
    "print('Success!')"
   ]
  }
 ],
 "metadata": {
  "kernelspec": {
   "display_name": "Python 3 (ipykernel)",
   "language": "python",
   "name": "python3"
  },
  "language_info": {
   "codemirror_mode": {
    "name": "ipython",
    "version": 3
   },
   "file_extension": ".py",
   "mimetype": "text/x-python",
   "name": "python",
   "nbconvert_exporter": "python",
   "pygments_lexer": "ipython3",
   "version": "3.10.8"
  }
 },
 "nbformat": 4,
 "nbformat_minor": 4
}
