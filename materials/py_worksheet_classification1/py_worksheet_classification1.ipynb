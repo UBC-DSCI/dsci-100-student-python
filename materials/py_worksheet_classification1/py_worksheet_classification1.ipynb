{
 "cells": [
  {
   "cell_type": "markdown",
   "metadata": {
    "deletable": false,
    "editable": false,
    "nbgrader": {
     "cell_type": "markdown",
     "checksum": "3391ee1e14b7c593dd9d8f50758518cc",
     "grade": false,
     "grade_id": "cell-56451645af3178ba",
     "locked": true,
     "schema_version": 3,
     "solution": false,
     "task": false
    }
   },
   "source": [
    "# Worksheet 6 - Classification\n",
    "\n",
    "### Lecture and Tutorial Learning Goals:\n",
    "\n",
    "After completing this week's lecture and tutorial work, you will be able to:\n",
    "\n",
    "* Recognize situations where a simple classifier would be appropriate for making predictions.\n",
    "* Explain the $K$-nearest neighbour classification algorithm.\n",
    "* Interpret the output of a classifier.\n",
    "* Compute, by hand, the distance between points when there are two explanatory variables/predictors.\n",
    "* Describe what a training data set is and how it is used in classification.\n",
    "* Given a dataset with two explanatory variables/predictors, use $K$-nearest neighbour classification in Python using the `scikit-learn` framework to predict the class of a single new observation.\n",
    "\n",
    "This worksheet covers parts of Chapter 6 of the online textbook. You should read this chapter before attempting the worksheet."
   ]
  },
  {
   "cell_type": "code",
   "execution_count": null,
   "metadata": {
    "deletable": false,
    "editable": false,
    "nbgrader": {
     "cell_type": "code",
     "checksum": "d1f78bcb9fc69c8aa2519f167eb2c495",
     "grade": false,
     "grade_id": "cell-9ca533e5e836f7e3",
     "locked": true,
     "schema_version": 3,
     "solution": false,
     "task": false
    }
   },
   "outputs": [],
   "source": [
    "### Run this cell before continuing.\n",
    "import random\n",
    "\n",
    "import altair as alt\n",
    "import pandas as pd\n",
    "import sklearn\n",
    "from sklearn.compose import make_column_transformer\n",
    "from sklearn.neighbors import KNeighborsClassifier\n",
    "from sklearn.pipeline import Pipeline, make_pipeline\n",
    "from sklearn.metrics.pairwise import euclidean_distances\n",
    "\n",
    "alt.data_transformers.disable_max_rows()"
   ]
  },
  {
   "cell_type": "markdown",
   "metadata": {
    "deletable": false,
    "editable": false,
    "nbgrader": {
     "cell_type": "markdown",
     "checksum": "99d46d99d2b631d0b270ade6bfebea39",
     "grade": false,
     "grade_id": "cell-1b949a8db8729285",
     "locked": true,
     "schema_version": 3,
     "solution": false
    }
   },
   "source": [
    "**Question 0.1** Multiple Choice: \n",
    "<br> {points: 1}\n",
    "\n",
    "**Which of the following statements is NOT true of a training data set (in the context of classification)?**\n",
    "\n",
    "A. A training data set is a collection of observations for which we know the true classes.\n",
    "\n",
    "B. We can use a training set to explore and build our classifier.\n",
    "\n",
    "C. The training data set is the underlying collection of observations for which we don't know the true classes.\n",
    "\n",
    "*Assign your answer to an object called `answer0_1`. Make sure the correct answer is an uppercase letter. Remember to surround your answer with quotation marks (e.g. \"D\").*"
   ]
  },
  {
   "cell_type": "code",
   "execution_count": null,
   "metadata": {
    "deletable": false,
    "nbgrader": {
     "cell_type": "code",
     "checksum": "94d02735e3d133ba5eda081d874bd5e1",
     "grade": false,
     "grade_id": "cell-f0a0878626777907",
     "locked": false,
     "schema_version": 3,
     "solution": true
    }
   },
   "outputs": [],
   "source": [
    "# your code here\n",
    "raise NotImplementedError"
   ]
  },
  {
   "cell_type": "code",
   "execution_count": null,
   "metadata": {
    "deletable": false,
    "editable": false,
    "max_height": 100,
    "nbgrader": {
     "cell_type": "code",
     "checksum": "a5035658a5ab52c6f0c528a1367e7bff",
     "grade": true,
     "grade_id": "cell-5cb2c8e6177337fd",
     "locked": true,
     "points": 3,
     "schema_version": 3,
     "solution": false
    }
   },
   "outputs": [],
   "source": [
    "from hashlib import sha1\n",
    "assert sha1(str(type(answer0_1)).encode(\"utf-8\")+b\"2c921749282cf070\").hexdigest() == \"d3df836e5539cfc6b461c0a0d012a399cc83da6b\", \"type of answer0_1 is not str. answer0_1 should be an str\"\n",
    "assert sha1(str(len(answer0_1)).encode(\"utf-8\")+b\"2c921749282cf070\").hexdigest() == \"50b4099d0cb99ab9bf386a234ff3b45e70089d8a\", \"length of answer0_1 is not correct\"\n",
    "assert sha1(str(answer0_1.lower()).encode(\"utf-8\")+b\"2c921749282cf070\").hexdigest() == \"403e5dc297535dd019973fd41d40d4dd58843fda\", \"value of answer0_1 is not correct\"\n",
    "assert sha1(str(answer0_1).encode(\"utf-8\")+b\"2c921749282cf070\").hexdigest() == \"8d5c63f84ce51c71ccb695d463590067af578190\", \"correct string value of answer0_1 but incorrect case of letters\"\n",
    "\n",
    "print('Success!')"
   ]
  },
  {
   "cell_type": "markdown",
   "metadata": {
    "deletable": false,
    "editable": false,
    "nbgrader": {
     "cell_type": "markdown",
     "checksum": "757c49374677b53811641456866ac212",
     "grade": false,
     "grade_id": "cell-7996c030ec20bf5c",
     "locked": true,
     "schema_version": 3,
     "solution": false
    }
   },
   "source": [
    "**Question 0.2** Multiple Choice\n",
    "<br> {points: 1}\n",
    "\n",
    "(Adapted from James et al, \"[An introduction to statistical learning](http://www-bcf.usc.edu/~gareth/ISL/)\" (page 53))\n",
    "\n",
    "Consider the scenario below: \n",
    "\n",
    "We collect data on 20 similar products. For each product we have recorded whether it was a success or failure (labelled as such by the Sales team), price charged for the product, marketing budget, competition price, customer data, and ten other variables. \n",
    "\n",
    "**Which of the following is a classification problem?**\n",
    "\n",
    "A. We are interested in comparing the profit margins for products that are a success and products that are a failure. \n",
    "\n",
    "B. We are considering launching a new product and wish to know whether it will be a success or a failure. \n",
    "\n",
    "C. We wish to group customers based on their preferences and use that knowledge to develop targeted marketing programs. \n",
    "\n",
    "*Assign your answer to an object called `answer0_2`. Make sure the correct answer is an uppercase letter. Remember to surround your answer with quotation marks (e.g. \"F\").*"
   ]
  },
  {
   "cell_type": "code",
   "execution_count": null,
   "metadata": {
    "deletable": false,
    "nbgrader": {
     "cell_type": "code",
     "checksum": "d5b8dc21e2c953fb2513876edfc8ece3",
     "grade": false,
     "grade_id": "cell-62c49be2ada51acc",
     "locked": false,
     "schema_version": 3,
     "solution": true
    }
   },
   "outputs": [],
   "source": [
    "# your code here\n",
    "raise NotImplementedError"
   ]
  },
  {
   "cell_type": "code",
   "execution_count": null,
   "metadata": {
    "deletable": false,
    "editable": false,
    "max_height": 100,
    "nbgrader": {
     "cell_type": "code",
     "checksum": "5e58e2e38ba38748ff6f558e688e7f86",
     "grade": true,
     "grade_id": "cell-61c63c0827e2a73e",
     "locked": true,
     "points": 3,
     "schema_version": 3,
     "solution": false
    }
   },
   "outputs": [],
   "source": [
    "from hashlib import sha1\n",
    "assert sha1(str(type(answer0_2)).encode(\"utf-8\")+b\"839e544ba7171e2d\").hexdigest() == \"3e877125469e206fecdf9ab9036bcd6e9a9b4504\", \"type of answer0_2 is not str. answer0_2 should be an str\"\n",
    "assert sha1(str(len(answer0_2)).encode(\"utf-8\")+b\"839e544ba7171e2d\").hexdigest() == \"ed69ecd23a18fe45b6e34fafb279f05c240e589e\", \"length of answer0_2 is not correct\"\n",
    "assert sha1(str(answer0_2.lower()).encode(\"utf-8\")+b\"839e544ba7171e2d\").hexdigest() == \"e5bdd79515ee8f27adfbabb70bf37594c2b6a88d\", \"value of answer0_2 is not correct\"\n",
    "assert sha1(str(answer0_2).encode(\"utf-8\")+b\"839e544ba7171e2d\").hexdigest() == \"3af4ed5dcda2570a30d2ae0687ea6dd2facb93a2\", \"correct string value of answer0_2 but incorrect case of letters\"\n",
    "\n",
    "print('Success!')"
   ]
  },
  {
   "cell_type": "markdown",
   "metadata": {
    "deletable": false,
    "editable": false,
    "nbgrader": {
     "cell_type": "markdown",
     "checksum": "f7d68784cae2955bfc549e6498296a52",
     "grade": false,
     "grade_id": "cell-e5066772a12351f8",
     "locked": true,
     "schema_version": 3,
     "solution": false
    }
   },
   "source": [
    "## 1. Breast Cancer Data Set \n",
    "We will work with the breast cancer data from this week's pre-reading. \n",
    "> Note that the breast cancer data in this worksheet have been **standardized (centred and scaled)** for you already. We will implement these steps in future worksheets/tutorials later, but for now, know the data has been standardized. Therefore the variables are unitless and hence why we have zero and negative values for variables like Radius. \n",
    "\n",
    "**Question 1.0**\n",
    "<br> {points: 1}\n",
    "\n",
    "Read the `clean-wdbc-data.csv` file (found in the `data` directory) using the `pd.read_csv` function into the notebook and store it as a data frame. *Name it `cancer`.*"
   ]
  },
  {
   "cell_type": "code",
   "execution_count": null,
   "metadata": {
    "deletable": false,
    "nbgrader": {
     "cell_type": "code",
     "checksum": "a07a9c14cef4594f8ed569286efe27fa",
     "grade": false,
     "grade_id": "cell-bc7e6d59f6a48ff4",
     "locked": false,
     "schema_version": 3,
     "solution": true
    }
   },
   "outputs": [],
   "source": [
    "# your code here\n",
    "raise NotImplementedError\n",
    "cancer"
   ]
  },
  {
   "cell_type": "code",
   "execution_count": null,
   "metadata": {
    "deletable": false,
    "editable": false,
    "max_height": 100,
    "nbgrader": {
     "cell_type": "code",
     "checksum": "85163f61d47fe86cb3d6e5b03dc44938",
     "grade": true,
     "grade_id": "cell-b7dada2851cb2d39",
     "locked": true,
     "points": 1,
     "schema_version": 3,
     "solution": false
    }
   },
   "outputs": [],
   "source": [
    "from hashlib import sha1\n",
    "assert sha1(str(type(cancer is None)).encode(\"utf-8\")+b\"d2892b4d552c7e05\").hexdigest() == \"a81b075d431e77a1110995f591c93d647b7a2f20\", \"type of cancer is None is not bool. cancer is None should be a bool\"\n",
    "assert sha1(str(cancer is None).encode(\"utf-8\")+b\"d2892b4d552c7e05\").hexdigest() == \"e1ece228a6ee5c8d62a82e419576b8de8bf7b000\", \"boolean value of cancer is None is not correct\"\n",
    "\n",
    "assert sha1(str(type(cancer)).encode(\"utf-8\")+b\"e016589c06355b04\").hexdigest() == \"7d8f59968353f547f4034a9f5ac1105427a54c34\", \"type of type(cancer) is not correct\"\n",
    "\n",
    "assert sha1(str(type(cancer.shape)).encode(\"utf-8\")+b\"d82a126ef060d686\").hexdigest() == \"481c56b51b328b0bf362a8cb792faa261ac0085a\", \"type of cancer.shape is not tuple. cancer.shape should be a tuple\"\n",
    "assert sha1(str(len(cancer.shape)).encode(\"utf-8\")+b\"d82a126ef060d686\").hexdigest() == \"6afd333ac131bfb0794a1e6bdb5badd1997528e0\", \"length of cancer.shape is not correct\"\n",
    "assert sha1(str(sorted(map(str, cancer.shape))).encode(\"utf-8\")+b\"d82a126ef060d686\").hexdigest() == \"31aad241fdbfe8becc4584d272c9630f2785e5d0\", \"values of cancer.shape are not correct\"\n",
    "assert sha1(str(cancer.shape).encode(\"utf-8\")+b\"d82a126ef060d686\").hexdigest() == \"d2a55985985d1d3e03712fdff8042d0656bd484b\", \"order of elements of cancer.shape is not correct\"\n",
    "\n",
    "assert sha1(str(type(sum(cancer.Area))).encode(\"utf-8\")+b\"193b8e400edef7cb\").hexdigest() == \"43f55443ec33edc769fa3dfa76e061e66a03cfb4\", \"type of sum(cancer.Area) is not float. Please make sure it is float and not np.float64, etc. You can cast your value into a float using float()\"\n",
    "assert sha1(str(round(sum(cancer.Area), 2)).encode(\"utf-8\")+b\"193b8e400edef7cb\").hexdigest() == \"4c7b41f91bf9c06a2a27c339a7ad2fed7600b252\", \"value of sum(cancer.Area) is not correct (rounded to 2 decimal places)\"\n",
    "\n",
    "assert sha1(str(type(cancer.columns.values)).encode(\"utf-8\")+b\"9a2cfc9807ab4f7b\").hexdigest() == \"a29ff141121d3a96f1f50b897bc4b9cb94d3dd07\", \"type of cancer.columns.values is not correct\"\n",
    "assert sha1(str(cancer.columns.values).encode(\"utf-8\")+b\"9a2cfc9807ab4f7b\").hexdigest() == \"7b9014ff987618046b8bf35cf4c6be7339991dd1\", \"value of cancer.columns.values is not correct\"\n",
    "\n",
    "assert sha1(str(type(cancer['Class'].dtype)).encode(\"utf-8\")+b\"e576df3c57d0bd0d\").hexdigest() == \"7d9bea8b1affdfa181a9462b1fbefe122ac8e0c2\", \"type of cancer['Class'].dtype is not correct\"\n",
    "assert sha1(str(cancer['Class'].dtype).encode(\"utf-8\")+b\"e576df3c57d0bd0d\").hexdigest() == \"0d033d358ebffd11398c573ab0e3db20b177b50c\", \"value of cancer['Class'].dtype is not correct\"\n",
    "\n",
    "print('Success!')"
   ]
  },
  {
   "cell_type": "markdown",
   "metadata": {
    "deletable": false,
    "editable": false,
    "nbgrader": {
     "cell_type": "markdown",
     "checksum": "d75978768753be37eea081f588dc09b4",
     "grade": false,
     "grade_id": "cell-4abc7741b213ce9e",
     "locked": true,
     "schema_version": 3,
     "solution": false
    }
   },
   "source": [
    "**Question 1.1** True or False: \n",
    "<br> {points: 1}\n",
    "\n",
    "After looking at the first six rows of the `cancer` data fame, suppose we asked you to predict the variable \"area\" for a new observation. **Is this a classification problem?**\n",
    "\n",
    "*Assign your answer to an object called `answer1_1`. Make sure the correct answer is a boolean. i.e. `True` or `False`.*"
   ]
  },
  {
   "cell_type": "code",
   "execution_count": null,
   "metadata": {
    "deletable": false,
    "nbgrader": {
     "cell_type": "code",
     "checksum": "ba6decd9db010e62ada7ec4c2624dc0e",
     "grade": false,
     "grade_id": "cell-787de50bba80be9c",
     "locked": false,
     "schema_version": 3,
     "solution": true
    }
   },
   "outputs": [],
   "source": [
    "# your code here\n",
    "raise NotImplementedError"
   ]
  },
  {
   "cell_type": "code",
   "execution_count": null,
   "metadata": {
    "deletable": false,
    "editable": false,
    "max_height": 100,
    "nbgrader": {
     "cell_type": "code",
     "checksum": "64592abb3731a199c516f9f16e013b80",
     "grade": true,
     "grade_id": "cell-8c2ac2ec68bc2ef2",
     "locked": true,
     "points": 3,
     "schema_version": 3,
     "solution": false
    }
   },
   "outputs": [],
   "source": [
    "from hashlib import sha1\n",
    "assert sha1(str(type(answer1_1)).encode(\"utf-8\")+b\"2a23c762f0a1b8cf\").hexdigest() == \"b6f2506c89d890e2c6b18779b9a6c68b8e94ea26\", \"type of answer1_1 is not bool. answer1_1 should be a bool\"\n",
    "assert sha1(str(answer1_1).encode(\"utf-8\")+b\"2a23c762f0a1b8cf\").hexdigest() == \"9f5537e0a75001686606116b89cdd9e9755da841\", \"boolean value of answer1_1 is not correct\"\n",
    "\n",
    "print('Success!')"
   ]
  },
  {
   "cell_type": "markdown",
   "metadata": {
    "deletable": false,
    "editable": false,
    "nbgrader": {
     "cell_type": "markdown",
     "checksum": "e6d11716f31d5beb94f1ea050fc2e455",
     "grade": false,
     "grade_id": "cell-d668650abd9bc1df",
     "locked": true,
     "schema_version": 3,
     "solution": false
    }
   },
   "source": [
    "**Question 1.2** \n",
    "<br> {points: 1}\n",
    "\n",
    "Create a scatterplot of the data with `Symmetry` on the x-axis and `Radius` on the y-axis. Modify your aesthetics by colouring for `Class`. As you create this plot, ensure you follow the guidelines for creating effective visualizations. In particular, note on the plot axes whether the data is standardized or not.\n",
    "\n",
    "*Assign your plot to an object called `cancer_plot`.*"
   ]
  },
  {
   "cell_type": "code",
   "execution_count": null,
   "metadata": {
    "deletable": false,
    "nbgrader": {
     "cell_type": "code",
     "checksum": "d66c477d0d334e9d827a96ada4dd6bc8",
     "grade": false,
     "grade_id": "cell-6dadc99c524407f7",
     "locked": false,
     "schema_version": 3,
     "solution": true
    }
   },
   "outputs": [],
   "source": [
    "# your code here\n",
    "raise NotImplementedError\n",
    "cancer_plot"
   ]
  },
  {
   "cell_type": "code",
   "execution_count": null,
   "metadata": {
    "deletable": false,
    "editable": false,
    "max_height": 100,
    "nbgrader": {
     "cell_type": "code",
     "checksum": "c07b1c164550f1d21b409ee21c7d8004",
     "grade": true,
     "grade_id": "cell-82ee9aaeac954391",
     "locked": true,
     "points": 1,
     "schema_version": 3,
     "solution": false
    }
   },
   "outputs": [],
   "source": [
    "from hashlib import sha1\n",
    "assert sha1(str(type(cancer_plot is None)).encode(\"utf-8\")+b\"c4fdcc80ac264f09\").hexdigest() == \"1c039acc3b1a8b53975c37e497c0f92a97b7aada\", \"type of cancer_plot is None is not bool. cancer_plot is None should be a bool\"\n",
    "assert sha1(str(cancer_plot is None).encode(\"utf-8\")+b\"c4fdcc80ac264f09\").hexdigest() == \"db71cb8ff8f76eebe22332d8ee7e37d1dc45fcac\", \"boolean value of cancer_plot is None is not correct\"\n",
    "\n",
    "assert sha1(str(type(cancer_plot.encoding.x.field)).encode(\"utf-8\")+b\"a3e1b2b2f36127d2\").hexdigest() == \"a99364c718cb85141482790c590e63c87a2fbd7f\", \"type of cancer_plot.encoding.x.field is not str. cancer_plot.encoding.x.field should be an str\"\n",
    "assert sha1(str(len(cancer_plot.encoding.x.field)).encode(\"utf-8\")+b\"a3e1b2b2f36127d2\").hexdigest() == \"4dfab7a603c027c1dcc4968eee9f85b0b9efdfd6\", \"length of cancer_plot.encoding.x.field is not correct\"\n",
    "assert sha1(str(cancer_plot.encoding.x.field.lower()).encode(\"utf-8\")+b\"a3e1b2b2f36127d2\").hexdigest() == \"c425f25a00166cf851d7daf4c0863f6f9e888561\", \"value of cancer_plot.encoding.x.field is not correct\"\n",
    "assert sha1(str(cancer_plot.encoding.x.field).encode(\"utf-8\")+b\"a3e1b2b2f36127d2\").hexdigest() == \"1639a3d7518d94d1a7b719ac7db9068206151c70\", \"correct string value of cancer_plot.encoding.x.field but incorrect case of letters\"\n",
    "\n",
    "assert sha1(str(type(cancer_plot.encoding.y.field)).encode(\"utf-8\")+b\"2e9f6471757afd85\").hexdigest() == \"fed25313e87436be1d846fdece0358893964a375\", \"type of cancer_plot.encoding.y.field is not str. cancer_plot.encoding.y.field should be an str\"\n",
    "assert sha1(str(len(cancer_plot.encoding.y.field)).encode(\"utf-8\")+b\"2e9f6471757afd85\").hexdigest() == \"8ef63cf0816bce6b1a7a7ff1c11825bb856f3851\", \"length of cancer_plot.encoding.y.field is not correct\"\n",
    "assert sha1(str(cancer_plot.encoding.y.field.lower()).encode(\"utf-8\")+b\"2e9f6471757afd85\").hexdigest() == \"5e3d3c28d548a7016aff162a11d4df9ecca30ff6\", \"value of cancer_plot.encoding.y.field is not correct\"\n",
    "assert sha1(str(cancer_plot.encoding.y.field).encode(\"utf-8\")+b\"2e9f6471757afd85\").hexdigest() == \"f3c2f53bd8a5b871f83abce69734d795d98f8176\", \"correct string value of cancer_plot.encoding.y.field but incorrect case of letters\"\n",
    "\n",
    "assert sha1(str(type(cancer_plot.encoding.color.field)).encode(\"utf-8\")+b\"233cf432975041ec\").hexdigest() == \"b23f5c5a38b51b9a2819ccc821518cf238799c39\", \"type of cancer_plot.encoding.color.field is not str. cancer_plot.encoding.color.field should be an str\"\n",
    "assert sha1(str(len(cancer_plot.encoding.color.field)).encode(\"utf-8\")+b\"233cf432975041ec\").hexdigest() == \"e7e9543895a7d71ea2f862bc5d31c67ff5174e4d\", \"length of cancer_plot.encoding.color.field is not correct\"\n",
    "assert sha1(str(cancer_plot.encoding.color.field.lower()).encode(\"utf-8\")+b\"233cf432975041ec\").hexdigest() == \"6e9163e4066ffb050f650571e95eddf5df6d5304\", \"value of cancer_plot.encoding.color.field is not correct\"\n",
    "assert sha1(str(cancer_plot.encoding.color.field).encode(\"utf-8\")+b\"233cf432975041ec\").hexdigest() == \"8f842196614d09658f879a9f60ebe73b1f4dd185\", \"correct string value of cancer_plot.encoding.color.field but incorrect case of letters\"\n",
    "\n",
    "assert sha1(str(type(cancer_plot.mark.type)).encode(\"utf-8\")+b\"e66ff41594bbaad1\").hexdigest() == \"8d77124d213b68d53b5459a886e5479e53aac720\", \"type of cancer_plot.mark.type is not str. cancer_plot.mark.type should be an str\"\n",
    "assert sha1(str(len(cancer_plot.mark.type)).encode(\"utf-8\")+b\"e66ff41594bbaad1\").hexdigest() == \"0ae9d62542b79d27362bb1b3d793cfe7edee47a4\", \"length of cancer_plot.mark.type is not correct\"\n",
    "assert sha1(str(cancer_plot.mark.type.lower()).encode(\"utf-8\")+b\"e66ff41594bbaad1\").hexdigest() == \"4d0770b42df77a973f58ce94c69865d2f4e9ed70\", \"value of cancer_plot.mark.type is not correct\"\n",
    "assert sha1(str(cancer_plot.mark.type).encode(\"utf-8\")+b\"e66ff41594bbaad1\").hexdigest() == \"4d0770b42df77a973f58ce94c69865d2f4e9ed70\", \"correct string value of cancer_plot.mark.type but incorrect case of letters\"\n",
    "\n",
    "assert sha1(str(type(cancer_plot.encoding.color.field)).encode(\"utf-8\")+b\"c39d969a1851309a\").hexdigest() == \"e27de4e94aad0d5b7c6fe5d7c919fbf15e51737e\", \"type of cancer_plot.encoding.color.field is not str. cancer_plot.encoding.color.field should be an str\"\n",
    "assert sha1(str(len(cancer_plot.encoding.color.field)).encode(\"utf-8\")+b\"c39d969a1851309a\").hexdigest() == \"4e1f9bea93e247c6441ab3543ce74d738cd3c4fb\", \"length of cancer_plot.encoding.color.field is not correct\"\n",
    "assert sha1(str(cancer_plot.encoding.color.field.lower()).encode(\"utf-8\")+b\"c39d969a1851309a\").hexdigest() == \"1195ff2aeaf57c2bfec4a3f49e8651255e22977a\", \"value of cancer_plot.encoding.color.field is not correct\"\n",
    "assert sha1(str(cancer_plot.encoding.color.field).encode(\"utf-8\")+b\"c39d969a1851309a\").hexdigest() == \"c20a443411b0f13c6e3615a8bb05a9abdc0147a7\", \"correct string value of cancer_plot.encoding.color.field but incorrect case of letters\"\n",
    "\n",
    "assert sha1(str(type(cancer_plot.encoding.x.title != cancer_plot.encoding.x.field)).encode(\"utf-8\")+b\"0991af512f4ae4ac\").hexdigest() == \"479b2166d89f59effa08c1b7add1e1d489972874\", \"type of cancer_plot.encoding.x.title != cancer_plot.encoding.x.field is not bool. cancer_plot.encoding.x.title != cancer_plot.encoding.x.field should be a bool\"\n",
    "assert sha1(str(cancer_plot.encoding.x.title != cancer_plot.encoding.x.field).encode(\"utf-8\")+b\"0991af512f4ae4ac\").hexdigest() == \"8091ffa377e62c35b02ccc1478fc7c5f757a1a81\", \"boolean value of cancer_plot.encoding.x.title != cancer_plot.encoding.x.field is not correct\"\n",
    "\n",
    "assert sha1(str(type(cancer_plot.encoding.y.title != cancer_plot.encoding.y.field)).encode(\"utf-8\")+b\"d6d0f1cd2b8ebf5b\").hexdigest() == \"2c48cf9a1a622ff0d70a30912689191f11a58edc\", \"type of cancer_plot.encoding.y.title != cancer_plot.encoding.y.field is not bool. cancer_plot.encoding.y.title != cancer_plot.encoding.y.field should be a bool\"\n",
    "assert sha1(str(cancer_plot.encoding.y.title != cancer_plot.encoding.y.field).encode(\"utf-8\")+b\"d6d0f1cd2b8ebf5b\").hexdigest() == \"4b7a6ca24ce94e87224a4026899fed4c485327f3\", \"boolean value of cancer_plot.encoding.y.title != cancer_plot.encoding.y.field is not correct\"\n",
    "\n",
    "print('Success!')"
   ]
  },
  {
   "cell_type": "markdown",
   "metadata": {
    "deletable": false,
    "editable": false,
    "nbgrader": {
     "cell_type": "markdown",
     "checksum": "5ba7287255d74f7b6dda894e8a4de724",
     "grade": false,
     "grade_id": "cell-19b9839a8f31d445",
     "locked": true,
     "schema_version": 3,
     "solution": false
    }
   },
   "source": [
    "**Question 1.3** \n",
    "<br> {points: 1}\n",
    "\n",
    "Just by looking at the scatterplot above, how would you classify an observation with `Symmetry` = 1 and `Radius` = 1 (Benign or Malignant)?\n",
    "\n",
    "*Assign your answer to an object called `answer1_3`. Make sure the correct answer is written fully. Remember to surround your answer with quotation marks (e.g. \"Benign\" / \"Malignant\").*"
   ]
  },
  {
   "cell_type": "code",
   "execution_count": null,
   "metadata": {
    "deletable": false,
    "nbgrader": {
     "cell_type": "code",
     "checksum": "1c5fc1838f3adb6952868d3531cbe1b6",
     "grade": false,
     "grade_id": "cell-4770d75e12811ba2",
     "locked": false,
     "schema_version": 3,
     "solution": true
    }
   },
   "outputs": [],
   "source": [
    "# your code here\n",
    "raise NotImplementedError"
   ]
  },
  {
   "cell_type": "code",
   "execution_count": null,
   "metadata": {
    "deletable": false,
    "editable": false,
    "max_height": 100,
    "nbgrader": {
     "cell_type": "code",
     "checksum": "07a759370458c09f9b86caa3f251ba84",
     "grade": true,
     "grade_id": "cell-927ef1b1abe0452a",
     "locked": true,
     "points": 3,
     "schema_version": 3,
     "solution": false
    }
   },
   "outputs": [],
   "source": [
    "from hashlib import sha1\n",
    "assert sha1(str(type(answer1_3)).encode(\"utf-8\")+b\"7f6aeb0c4483a827\").hexdigest() == \"26e0f9656c15f2b44fcf8481d16a52140fcb7f94\", \"type of answer1_3 is not str. answer1_3 should be an str\"\n",
    "assert sha1(str(len(answer1_3)).encode(\"utf-8\")+b\"7f6aeb0c4483a827\").hexdigest() == \"775d5f351ece02a5cf6fd7be20a24c3424a1f1a7\", \"length of answer1_3 is not correct\"\n",
    "assert sha1(str(answer1_3.lower()).encode(\"utf-8\")+b\"7f6aeb0c4483a827\").hexdigest() == \"483d62409a26f71aae76122a666bf147f6f044a6\", \"value of answer1_3 is not correct\"\n",
    "assert sha1(str(answer1_3).encode(\"utf-8\")+b\"7f6aeb0c4483a827\").hexdigest() == \"88e6c0b8b6bf792a24a125712b9bc9ec402ee824\", \"correct string value of answer1_3 but incorrect case of letters\"\n",
    "\n",
    "print('Success!')"
   ]
  },
  {
   "cell_type": "markdown",
   "metadata": {
    "deletable": false,
    "editable": false,
    "nbgrader": {
     "cell_type": "markdown",
     "checksum": "8a15e17fd6fe6355a848228d4dc29920",
     "grade": false,
     "grade_id": "cell-042f2da9a72d7533",
     "locked": true,
     "schema_version": 3,
     "solution": false,
     "task": false
    }
   },
   "source": [
    "We will now compute the distance between the first and second observation in the breast cancer dataset using the explanatory variables/predictors `Symmetry` and `Radius`. Recall we can calculate the distance between two points using the following formula: \n",
    "$$Distance = \\sqrt{(x_a -x_b)^2 + (y_a - y_b)^2}$$"
   ]
  },
  {
   "cell_type": "markdown",
   "metadata": {
    "deletable": false,
    "editable": false,
    "nbgrader": {
     "cell_type": "markdown",
     "checksum": "7661118d206f4db358e6c19ecbc9ab27",
     "grade": false,
     "grade_id": "cell-6c27f7d3e70cb8f5",
     "locked": true,
     "schema_version": 3,
     "solution": false
    }
   },
   "source": [
    "**Question 1.4** \n",
    "<br> {points: 1}\n",
    "\n",
    "First, extract the coordinates for the two observations and assign them to objects called: \n",
    "\n",
    "- `xa` (Symmetry value for the first row)\n",
    "- `ya` (Radius value for the first row)\n",
    "- `xb` (Symmetry value for the second row)\n",
    "- `yb` (Radius value for the second row).\n",
    "\n",
    "*Scaffolding for `xa` is given*."
   ]
  },
  {
   "cell_type": "code",
   "execution_count": null,
   "metadata": {
    "deletable": false,
    "nbgrader": {
     "cell_type": "code",
     "checksum": "a35966e116c3e3f17cba0de6a94ec961",
     "grade": false,
     "grade_id": "cell-9aa7e3751578c8c5",
     "locked": false,
     "schema_version": 3,
     "solution": true
    }
   },
   "outputs": [],
   "source": [
    "# xa = cancer.loc[0,\"Symmetry\"] # selecting the first observation from cancer and pulling the value from the Symmetry column as a numeric value only\n",
    "\n",
    "# your code here\n",
    "raise NotImplementedError"
   ]
  },
  {
   "cell_type": "code",
   "execution_count": null,
   "metadata": {},
   "outputs": [],
   "source": [
    "xa"
   ]
  },
  {
   "cell_type": "code",
   "execution_count": null,
   "metadata": {
    "deletable": false,
    "editable": false,
    "max_height": 100,
    "nbgrader": {
     "cell_type": "code",
     "checksum": "409c1828d75a3a562a27d9600ecb9a3e",
     "grade": true,
     "grade_id": "cell-9117ab916552d6a6",
     "locked": true,
     "points": 1,
     "schema_version": 3,
     "solution": false
    }
   },
   "outputs": [],
   "source": [
    "from hashlib import sha1\n",
    "assert sha1(str(type(xa)).encode(\"utf-8\")+b\"fc49ea75e9724695\").hexdigest() == \"7367e1b179e3246de7f1d40570e8df09360fd9a8\", \"type of xa is not correct\"\n",
    "assert sha1(str(xa).encode(\"utf-8\")+b\"fc49ea75e9724695\").hexdigest() == \"de848ff61898600a6e415878982d5fc75705c2f9\", \"value of xa is not correct\"\n",
    "\n",
    "assert sha1(str(type(ya)).encode(\"utf-8\")+b\"8371083911f60b7b\").hexdigest() == \"06458d7d3313d2b0c10425366a31eedce928b8c4\", \"type of ya is not correct\"\n",
    "assert sha1(str(ya).encode(\"utf-8\")+b\"8371083911f60b7b\").hexdigest() == \"0f03a1d030382bb8b461f8a1491c2f64b44ea038\", \"value of ya is not correct\"\n",
    "\n",
    "assert sha1(str(type(xb)).encode(\"utf-8\")+b\"19fe3f51538d5077\").hexdigest() == \"9fb2a1f1b4dab5493eec16356faa4ca9f950ddd8\", \"type of xb is not correct\"\n",
    "assert sha1(str(xb).encode(\"utf-8\")+b\"19fe3f51538d5077\").hexdigest() == \"70454c97ce884c3bc3296fea1c0148ff4af03e5b\", \"value of xb is not correct\"\n",
    "\n",
    "assert sha1(str(type(yb)).encode(\"utf-8\")+b\"3288faeb6907a713\").hexdigest() == \"51fe6bbec998cef4bef25651b5a752d45f2468f0\", \"type of yb is not correct\"\n",
    "assert sha1(str(yb).encode(\"utf-8\")+b\"3288faeb6907a713\").hexdigest() == \"521bc1b64d7f4cc1aee72064e41e76b73a41b027\", \"value of yb is not correct\"\n",
    "\n",
    "print('Success!')"
   ]
  },
  {
   "cell_type": "markdown",
   "metadata": {
    "deletable": false,
    "editable": false,
    "nbgrader": {
     "cell_type": "markdown",
     "checksum": "a3c4cd0a0e84143515031f80d130402e",
     "grade": false,
     "grade_id": "cell-d3cdd3053b1b28f3",
     "locked": true,
     "schema_version": 3,
     "solution": false
    }
   },
   "source": [
    "**Question 1.5**\n",
    "<br> {points: 1}\n",
    "\n",
    "Plug the coordinates into the distance equation. Hint: `**` is the exponent symbol in Python.\n",
    "\n",
    "*Assign your answer to an object called `answer1_5`.*\n",
    "\n",
    "Fill in the `___` in the cell below. "
   ]
  },
  {
   "cell_type": "code",
   "execution_count": null,
   "metadata": {
    "deletable": false,
    "nbgrader": {
     "cell_type": "code",
     "checksum": "809581cf16d27f472328be640c3210af",
     "grade": false,
     "grade_id": "cell-df5b6355c3c1fb5e",
     "locked": false,
     "schema_version": 3,
     "solution": true
    }
   },
   "outputs": [],
   "source": [
    "# ___ = ((___ - ___)**___ + (___ - ___)**___)**___\n",
    "\n",
    "# your code here\n",
    "raise NotImplementedError\n",
    "answer1_5"
   ]
  },
  {
   "cell_type": "code",
   "execution_count": null,
   "metadata": {
    "deletable": false,
    "editable": false,
    "max_height": 100,
    "nbgrader": {
     "cell_type": "code",
     "checksum": "b61ff438356110cbd794e19488aa37b6",
     "grade": true,
     "grade_id": "cell-3d5f251a3d1cd4d4",
     "locked": true,
     "points": 3,
     "schema_version": 3,
     "solution": false
    }
   },
   "outputs": [],
   "source": [
    "from hashlib import sha1\n",
    "assert sha1(str(type(answer1_5)).encode(\"utf-8\")+b\"010825b44d222b95\").hexdigest() == \"268d54eb2e7df9e9354b2c2f3f1c8fbe4324b493\", \"type of answer1_5 is not correct\"\n",
    "assert sha1(str(answer1_5).encode(\"utf-8\")+b\"010825b44d222b95\").hexdigest() == \"b10556721a9c61d04e4dac4886728d1f1eea27bd\", \"value of answer1_5 is not correct\"\n",
    "\n",
    "print('Success!')"
   ]
  },
  {
   "cell_type": "markdown",
   "metadata": {
    "deletable": false,
    "editable": false,
    "nbgrader": {
     "cell_type": "markdown",
     "checksum": "06506ec0db1cb8c74ce59ee6e42413ae",
     "grade": false,
     "grade_id": "cell-7497aeecdc763d29",
     "locked": true,
     "schema_version": 3,
     "solution": false
    }
   },
   "source": [
    "**Question 1.6**\n",
    "<br> {points: 1}\n",
    "\n",
    "Now we'll do the same thing *with 3 explanatory variables/predictors*: `Symmetry`, `Radius` and `Concavity`. Again, use the first two rows in the data set as the points you are calculating the distance between (point $a$ is row 0, and point $b$ is row 1).\n",
    "\n",
    "\n",
    "*Find the coordinates for the third variable (Concavity) and assign them to objects called `za` and `zb`. Use the scaffolding given in **Question 1.4** as a guide.*"
   ]
  },
  {
   "cell_type": "code",
   "execution_count": null,
   "metadata": {
    "deletable": false,
    "nbgrader": {
     "cell_type": "code",
     "checksum": "7b5b5c0e6c009ed6451085d65fe676a2",
     "grade": false,
     "grade_id": "cell-2eaff08bf3baaeb4",
     "locked": false,
     "schema_version": 3,
     "solution": true
    }
   },
   "outputs": [],
   "source": [
    "# your code here\n",
    "raise NotImplementedError"
   ]
  },
  {
   "cell_type": "code",
   "execution_count": null,
   "metadata": {
    "deletable": false,
    "editable": false,
    "max_height": 100,
    "nbgrader": {
     "cell_type": "code",
     "checksum": "a4c90015150a0bb14f529533917cbb7b",
     "grade": true,
     "grade_id": "cell-4944fdeee6a1485f",
     "locked": true,
     "points": 1,
     "schema_version": 3,
     "solution": false
    }
   },
   "outputs": [],
   "source": [
    "from hashlib import sha1\n",
    "assert sha1(str(type(za)).encode(\"utf-8\")+b\"62fc63248115f34a\").hexdigest() == \"1bfaa790899314cb3dc5001bd9895f8d59437696\", \"type of za is not correct\"\n",
    "assert sha1(str(za).encode(\"utf-8\")+b\"62fc63248115f34a\").hexdigest() == \"2620071815625eef92ceb524b2e2426047183d8e\", \"value of za is not correct\"\n",
    "\n",
    "assert sha1(str(type(zb)).encode(\"utf-8\")+b\"4706d578a9e8bc1e\").hexdigest() == \"df795c2ea8d023b125971da74698b8c99ef741a8\", \"type of zb is not correct\"\n",
    "assert sha1(str(zb).encode(\"utf-8\")+b\"4706d578a9e8bc1e\").hexdigest() == \"884ded92cd1ef9e5802f91f904f227417fe2e0a6\", \"value of zb is not correct\"\n",
    "\n",
    "print('Success!')"
   ]
  },
  {
   "cell_type": "markdown",
   "metadata": {
    "deletable": false,
    "editable": false,
    "nbgrader": {
     "cell_type": "markdown",
     "checksum": "58e2d424d2135a156b4f4e61c1ad6b49",
     "grade": false,
     "grade_id": "cell-a2b93620a52ffd2b",
     "locked": true,
     "schema_version": 3,
     "solution": false
    }
   },
   "source": [
    "**Question 1.7**\n",
    "<br> {points: 1}\n",
    "\n",
    "Again, calculate the distance between the first and second observation in the breast cancer dataset using 3 explanatory variables/predictors: `Symmetry`, `Radius` and `Concavity`.\n",
    "\n",
    "*Assign your answer to an object called `answer1_7`. Use the scaffolding given to calculate `answer1_5` as a guide.*"
   ]
  },
  {
   "cell_type": "code",
   "execution_count": null,
   "metadata": {
    "deletable": false,
    "nbgrader": {
     "cell_type": "code",
     "checksum": "a3c566227c25ad5e3c0ab91cf2b04622",
     "grade": false,
     "grade_id": "cell-7cee650ed7204a98",
     "locked": false,
     "schema_version": 3,
     "solution": true
    }
   },
   "outputs": [],
   "source": [
    "# your code here\n",
    "raise NotImplementedError\n",
    "answer1_7"
   ]
  },
  {
   "cell_type": "code",
   "execution_count": null,
   "metadata": {
    "deletable": false,
    "editable": false,
    "max_height": 100,
    "nbgrader": {
     "cell_type": "code",
     "checksum": "e4387a00e3eb7bda490caaee37eb3563",
     "grade": true,
     "grade_id": "cell-e5b8f9dc0531ad16",
     "locked": true,
     "points": 3,
     "schema_version": 3,
     "solution": false
    }
   },
   "outputs": [],
   "source": [
    "from hashlib import sha1\n",
    "assert sha1(str(type(round(answer1_7, 2))).encode(\"utf-8\")+b\"9e0df937b490b22b\").hexdigest() == \"9006aa16d1032be51827267eda74b69f1faadf79\", \"type of round(answer1_7, 2) is not correct\"\n",
    "assert sha1(str(round(answer1_7, 2)).encode(\"utf-8\")+b\"9e0df937b490b22b\").hexdigest() == \"9b9723ae95a509a0f0d175e414898c392f6bf5a8\", \"value of round(answer1_7, 2) is not correct\"\n",
    "\n",
    "print('Success!')"
   ]
  },
  {
   "cell_type": "markdown",
   "metadata": {
    "deletable": false,
    "editable": false,
    "nbgrader": {
     "cell_type": "markdown",
     "checksum": "b42f04eed009fe55d55ab6674e5f7ea3",
     "grade": false,
     "grade_id": "cell-eab0518c6e0ee567",
     "locked": true,
     "schema_version": 3,
     "solution": false
    }
   },
   "source": [
    "**Question 1.8**\n",
    "<br> {points: 1}\n",
    "\n",
    "Let's do this without explicitly making coordinate variables!\n",
    "\n",
    "Create a panda series of the coordinates for each point. Name one series `point_a` and the other series `point_b`. Within the series, the order of coordinates should be: `Symmetry`, `Radius`, `Concavity`.\n",
    "\n",
    "Fill in the `___` in the cell below.\n"
   ]
  },
  {
   "cell_type": "code",
   "execution_count": null,
   "metadata": {
    "deletable": false,
    "nbgrader": {
     "cell_type": "code",
     "checksum": "a452470aa0defd657fa43844d8d5cc24",
     "grade": false,
     "grade_id": "cell-78df392f18904edd",
     "locked": false,
     "schema_version": 3,
     "solution": true
    }
   },
   "outputs": [],
   "source": [
    "# This is only the scaffolding for one point (you need to make another one for row number 1)\n",
    "\n",
    "# ___ =  cancer.loc[0, [___, \"Radius\", ___]]\n",
    "\n",
    "\n",
    "# your code here\n",
    "raise NotImplementedError\n",
    "print(point_a)\n",
    "print(point_b)"
   ]
  },
  {
   "cell_type": "code",
   "execution_count": null,
   "metadata": {
    "deletable": false,
    "editable": false,
    "max_height": 100,
    "nbgrader": {
     "cell_type": "code",
     "checksum": "f7e8a59a48c98e683873cd069284dad8",
     "grade": true,
     "grade_id": "cell-c20cf45fef3d389b",
     "locked": true,
     "points": 1,
     "schema_version": 3,
     "solution": false
    }
   },
   "outputs": [],
   "source": [
    "from hashlib import sha1\n",
    "assert sha1(str(type(round(sum(point_a), 2))).encode(\"utf-8\")+b\"b7d2724081d6b778\").hexdigest() == \"cd2c05f8ff1abd79f3c0b5436b09e785c1560021\", \"type of round(sum(point_a), 2) is not correct\"\n",
    "assert sha1(str(round(sum(point_a), 2)).encode(\"utf-8\")+b\"b7d2724081d6b778\").hexdigest() == \"3a5fee8d2e6996ec76ea075720a06e275d6d6432\", \"value of round(sum(point_a), 2) is not correct\"\n",
    "\n",
    "assert sha1(str(type(round(sum(point_b), 2))).encode(\"utf-8\")+b\"9128cc658fc62754\").hexdigest() == \"3283cfe66375530af391e1e7be6082e11859b739\", \"type of round(sum(point_b), 2) is not correct\"\n",
    "assert sha1(str(round(sum(point_b), 2)).encode(\"utf-8\")+b\"9128cc658fc62754\").hexdigest() == \"7e945200b3fd896939ff51bb3ace11444efb83a1\", \"value of round(sum(point_b), 2) is not correct\"\n",
    "\n",
    "print('Success!')"
   ]
  },
  {
   "cell_type": "markdown",
   "metadata": {
    "deletable": false,
    "editable": false,
    "nbgrader": {
     "cell_type": "markdown",
     "checksum": "75dc464cd9d17c8ba2fb42692eb4e56e",
     "grade": false,
     "grade_id": "cell-c5b5b0129c7b8e60",
     "locked": true,
     "schema_version": 3,
     "solution": false
    }
   },
   "source": [
    "**Question 1.9**\n",
    "<br> {points: 1}\n",
    "\n",
    "Compute the squared differences between the two series, `point_a` and `point_b`. The result should be a series of length 3 named `dif_square`. *Hint: `**` is the exponent symbol in Python.*"
   ]
  },
  {
   "cell_type": "code",
   "execution_count": null,
   "metadata": {
    "deletable": false,
    "nbgrader": {
     "cell_type": "code",
     "checksum": "0a57813061262beb93ae4f4f117800c9",
     "grade": false,
     "grade_id": "cell-8244086b2edb3999",
     "locked": false,
     "schema_version": 3,
     "solution": true
    }
   },
   "outputs": [],
   "source": [
    "# your code here\n",
    "raise NotImplementedError\n",
    "dif_square"
   ]
  },
  {
   "cell_type": "code",
   "execution_count": null,
   "metadata": {
    "deletable": false,
    "editable": false,
    "max_height": 100,
    "nbgrader": {
     "cell_type": "code",
     "checksum": "7cd24842183657b229de14fa197fc64f",
     "grade": true,
     "grade_id": "cell-fb099b82bbaac1f5",
     "locked": true,
     "points": 3,
     "schema_version": 3,
     "solution": false
    }
   },
   "outputs": [],
   "source": [
    "from hashlib import sha1\n",
    "assert sha1(str(type(sum(dif_square))).encode(\"utf-8\")+b\"0a869320ce9bdf96\").hexdigest() == \"bd9093647bff2c9ddb1e3ea2e124775319d4fa47\", \"type of sum(dif_square) is not correct\"\n",
    "assert sha1(str(sum(dif_square)).encode(\"utf-8\")+b\"0a869320ce9bdf96\").hexdigest() == \"1c1d5a6c8c5ba106f6652a46b24b310f4994ab7f\", \"value of sum(dif_square) is not correct\"\n",
    "\n",
    "print('Success!')"
   ]
  },
  {
   "cell_type": "markdown",
   "metadata": {
    "deletable": false,
    "editable": false,
    "nbgrader": {
     "cell_type": "markdown",
     "checksum": "f55778b50453c6e9a10a794122c5e48b",
     "grade": false,
     "grade_id": "cell-2f2f6160dfde75a1",
     "locked": true,
     "schema_version": 3,
     "solution": false
    }
   },
   "source": [
    "**Question 1.09.1**\n",
    "<br> {points: 1}\n",
    "\n",
    "Sum the squared differences between the two points, `point_a` and `point_b`. The result should be a single number named `dif_sum`. \n",
    "\n",
    "*Hint: the `sum` function in Python returns the sum of the elements of a series*"
   ]
  },
  {
   "cell_type": "code",
   "execution_count": null,
   "metadata": {
    "deletable": false,
    "nbgrader": {
     "cell_type": "code",
     "checksum": "48eca56133082aa0819ba3bbeaf8a571",
     "grade": false,
     "grade_id": "cell-86ab5cef9257a578",
     "locked": false,
     "schema_version": 3,
     "solution": true
    }
   },
   "outputs": [],
   "source": [
    "# your code here\n",
    "raise NotImplementedError\n",
    "dif_sum"
   ]
  },
  {
   "cell_type": "code",
   "execution_count": null,
   "metadata": {
    "deletable": false,
    "editable": false,
    "max_height": 100,
    "nbgrader": {
     "cell_type": "code",
     "checksum": "e13b43337dc4f500c40885af859bba78",
     "grade": true,
     "grade_id": "cell-629beff90c931f51",
     "locked": true,
     "points": 3,
     "schema_version": 3,
     "solution": false
    }
   },
   "outputs": [],
   "source": [
    "from hashlib import sha1\n",
    "assert sha1(str(type(dif_sum)).encode(\"utf-8\")+b\"647d2f915fdfb179\").hexdigest() == \"05f6cc308d846b0f8ba15d9e1212c50f6d6c3ada\", \"type of dif_sum is not correct\"\n",
    "assert sha1(str(dif_sum).encode(\"utf-8\")+b\"647d2f915fdfb179\").hexdigest() == \"cd9f3ac196a6009dc7b5ad360661c00ba5c9db9a\", \"value of dif_sum is not correct\"\n",
    "\n",
    "print('Success!')"
   ]
  },
  {
   "cell_type": "markdown",
   "metadata": {
    "deletable": false,
    "editable": false,
    "nbgrader": {
     "cell_type": "markdown",
     "checksum": "c89e70beda90ab61fc9f35b4ed7c4cda",
     "grade": false,
     "grade_id": "cell-7e182c22fa4eec69",
     "locked": true,
     "schema_version": 3,
     "solution": false
    }
   },
   "source": [
    "**Question 1.09.2**\n",
    "<br> {points: 1}\n",
    "\n",
    "Square root the sum of your squared differences. The result should be a number named `root_dif_sum`. "
   ]
  },
  {
   "cell_type": "code",
   "execution_count": null,
   "metadata": {
    "deletable": false,
    "nbgrader": {
     "cell_type": "code",
     "checksum": "9b850385ac41a93fa5c6ec15e6f3f820",
     "grade": false,
     "grade_id": "cell-660055c1546fc78c",
     "locked": false,
     "schema_version": 3,
     "solution": true
    }
   },
   "outputs": [],
   "source": [
    "# your code here\n",
    "raise NotImplementedError\n",
    "root_dif_sum"
   ]
  },
  {
   "cell_type": "code",
   "execution_count": null,
   "metadata": {
    "deletable": false,
    "editable": false,
    "max_height": 100,
    "nbgrader": {
     "cell_type": "code",
     "checksum": "1020dc6635ad2727cda9cbd349e8240c",
     "grade": true,
     "grade_id": "cell-d144868a6cbc8b3f",
     "locked": true,
     "points": 3,
     "schema_version": 3,
     "solution": false
    }
   },
   "outputs": [],
   "source": [
    "from hashlib import sha1\n",
    "assert sha1(str(type(root_dif_sum)).encode(\"utf-8\")+b\"3d0484104aad06d0\").hexdigest() == \"96e5633fa19f3368f138014208d5bad3ff628e68\", \"type of root_dif_sum is not correct\"\n",
    "assert sha1(str(root_dif_sum).encode(\"utf-8\")+b\"3d0484104aad06d0\").hexdigest() == \"7e2803c211242d346a9a824b60fc8754cd5e94cd\", \"value of root_dif_sum is not correct\"\n",
    "\n",
    "print('Success!')"
   ]
  },
  {
   "cell_type": "markdown",
   "metadata": {
    "deletable": false,
    "editable": false,
    "nbgrader": {
     "cell_type": "markdown",
     "checksum": "e95e7b329b27cbedee190f47ae773fce",
     "grade": false,
     "grade_id": "cell-fe94f79e97960c76",
     "locked": true,
     "schema_version": 3,
     "solution": false
    }
   },
   "source": [
    "**Question 1.09.3**\n",
    "<br> {points: 1}\n",
    "\n",
    "If we have more than a few points, calculating distances as we did in the previous questions is VERY tedious. Let's use the `euclidean_distances` function from `scikit-learn` package to find the distance between the first and second observation in the breast cancer dataset using Symmetry, Radius and Concavity. \n",
    "\n",
    "Fill in the `___` in the cell below. \n",
    "\n",
    "*Assign your answer to an object called `dist_cancer_two_rows`.*"
   ]
  },
  {
   "cell_type": "code",
   "execution_count": null,
   "metadata": {
    "deletable": false,
    "nbgrader": {
     "cell_type": "code",
     "checksum": "b82bc5a833f6516b59de08de15c88985",
     "grade": false,
     "grade_id": "cell-49a6780a9752e7d0",
     "locked": false,
     "schema_version": 3,
     "solution": true
    }
   },
   "outputs": [],
   "source": [
    "# from sklearn.metrics.pairwise import euclidean_distances\n",
    "# dist_cancer_two_rows = euclidean_distances(\n",
    "#     cancer.loc[0:1, [___, \"Radius\", ___]]\n",
    "# )\n",
    "\n",
    "# your code here\n",
    "raise NotImplementedError\n",
    "dist_cancer_two_rows"
   ]
  },
  {
   "cell_type": "code",
   "execution_count": null,
   "metadata": {},
   "outputs": [],
   "source": [
    "dist_cancer_two_rows[0, 1]"
   ]
  },
  {
   "cell_type": "code",
   "execution_count": null,
   "metadata": {
    "deletable": false,
    "editable": false,
    "max_height": 100,
    "nbgrader": {
     "cell_type": "code",
     "checksum": "e5bbcb6f35b729e28c1d89feff7d80ce",
     "grade": true,
     "grade_id": "cell-657a6cc18a3bf8ce",
     "locked": true,
     "points": 3,
     "schema_version": 3,
     "solution": false
    }
   },
   "outputs": [],
   "source": [
    "from hashlib import sha1\n",
    "assert sha1(str(type(dist_cancer_two_rows[0, 0])).encode(\"utf-8\")+b\"ed43255faf416c94\").hexdigest() == \"684f1389cba2c62e053e7397eff104f12d11f88c\", \"type of dist_cancer_two_rows[0, 0] is not correct\"\n",
    "assert sha1(str(dist_cancer_two_rows[0, 0]).encode(\"utf-8\")+b\"ed43255faf416c94\").hexdigest() == \"c50eda3f7410bac3c9656a2c4103c83401339094\", \"value of dist_cancer_two_rows[0, 0] is not correct\"\n",
    "\n",
    "assert sha1(str(type(dist_cancer_two_rows[0, 1])).encode(\"utf-8\")+b\"df364e47749b184b\").hexdigest() == \"6c8631e0ca706b1da441264eede37aae8b410797\", \"type of dist_cancer_two_rows[0, 1] is not correct\"\n",
    "assert sha1(str(dist_cancer_two_rows[0, 1]).encode(\"utf-8\")+b\"df364e47749b184b\").hexdigest() == \"710678b3871b40c95847040c40c27b57ef0c4ab7\", \"value of dist_cancer_two_rows[0, 1] is not correct\"\n",
    "\n",
    "assert sha1(str(type(dist_cancer_two_rows[1, 0])).encode(\"utf-8\")+b\"51895eb40644d068\").hexdigest() == \"785988c1f0b8fb3b20be5deeba55abe083271f9a\", \"type of dist_cancer_two_rows[1, 0] is not correct\"\n",
    "assert sha1(str(dist_cancer_two_rows[1, 0]).encode(\"utf-8\")+b\"51895eb40644d068\").hexdigest() == \"883c8f4d8423694993e5012ca5fc3b83245f1f22\", \"value of dist_cancer_two_rows[1, 0] is not correct\"\n",
    "\n",
    "assert sha1(str(type(dist_cancer_two_rows[1, 1])).encode(\"utf-8\")+b\"661f49d976872337\").hexdigest() == \"b7b1662d2a3806369b389f7d306d4305c096d8cc\", \"type of dist_cancer_two_rows[1, 1] is not correct\"\n",
    "assert sha1(str(dist_cancer_two_rows[1, 1]).encode(\"utf-8\")+b\"661f49d976872337\").hexdigest() == \"fd102a2d886d4e2d5d8db9a7fbfc4803fb4b3d55\", \"value of dist_cancer_two_rows[1, 1] is not correct\"\n",
    "\n",
    "print('Success!')"
   ]
  },
  {
   "cell_type": "markdown",
   "metadata": {
    "deletable": false,
    "editable": false,
    "nbgrader": {
     "cell_type": "markdown",
     "checksum": "3cc638a5f6d4382a0a3bdab3c23a849d",
     "grade": false,
     "grade_id": "cell-d2b6719023a2ec78",
     "locked": true,
     "schema_version": 3,
     "solution": false
    }
   },
   "source": [
    "**Question 1.09.4** True or False: \n",
    "<br> {points: 1}\n",
    "\n",
    "Compare `answer1_7`, `root_dif_sum`, and `dist_cancer_two_rows`. \n",
    "\n",
    "**Are they all the same value?** \n",
    "\n",
    "*Assign your answer to an object called `answer1_09_4`. Make sure the correct answer is a boolean. i.e. `True` or `False`.*"
   ]
  },
  {
   "cell_type": "code",
   "execution_count": null,
   "metadata": {
    "deletable": false,
    "nbgrader": {
     "cell_type": "code",
     "checksum": "33d70059ff697b0289b01c2e3eed073f",
     "grade": false,
     "grade_id": "cell-083ba5d559495244",
     "locked": false,
     "schema_version": 3,
     "solution": true
    }
   },
   "outputs": [],
   "source": [
    "# your code here\n",
    "raise NotImplementedError"
   ]
  },
  {
   "cell_type": "code",
   "execution_count": null,
   "metadata": {
    "deletable": false,
    "editable": false,
    "max_height": 100,
    "nbgrader": {
     "cell_type": "code",
     "checksum": "bdf04ac5a46c540dbab7f5bb327d3882",
     "grade": true,
     "grade_id": "cell-15ea031e7e016f14",
     "locked": true,
     "points": 3,
     "schema_version": 3,
     "solution": false
    }
   },
   "outputs": [],
   "source": [
    "from hashlib import sha1\n",
    "assert sha1(str(type(answer1_09_4)).encode(\"utf-8\")+b\"8a520bf0ba3154eb\").hexdigest() == \"3c111317bdee3632e60469e19a03a30a632b179a\", \"type of answer1_09_4 is not bool. answer1_09_4 should be a bool\"\n",
    "assert sha1(str(answer1_09_4).encode(\"utf-8\")+b\"8a520bf0ba3154eb\").hexdigest() == \"f7770409383b66eedda81ef2e872777dde3ea5db\", \"boolean value of answer1_09_4 is not correct\"\n",
    "\n",
    "print('Success!')"
   ]
  },
  {
   "cell_type": "markdown",
   "metadata": {
    "deletable": false,
    "editable": false,
    "nbgrader": {
     "cell_type": "markdown",
     "checksum": "15cc821fdf930bee1ef15a01b2082d74",
     "grade": false,
     "grade_id": "cell-098264eb921f8d92",
     "locked": true,
     "schema_version": 3,
     "solution": false
    }
   },
   "source": [
    "## 2. Classification - A Simple Example Done Manually\n",
    "\n",
    "**Question 2.0.0**\n",
    "<br> {points: 1}\n",
    "\n",
    "Let's take a random sample of 5 observations from the breast cancer dataset using the `sample` function. To make this random sample reproducible, we will use `random_state=20` inside the `sample` function. This means that the random number generator will start at the same point each time when we run the code and we will always get back the same random samples. \n",
    "\n",
    "We will focus on the predictors Symmetry and Radius only. Thus, we will need to select the columns `Symmetry` and `Radius` and `Class`. Save these 5 rows and 3 columns to a data frame named `small_sample`.\n",
    "\n",
    "Fill in the `___` in the scaffolding provided below."
   ]
  },
  {
   "cell_type": "code",
   "execution_count": null,
   "metadata": {
    "deletable": false,
    "nbgrader": {
     "cell_type": "code",
     "checksum": "0cad33287ac7e5fdd3dff2237d891eab",
     "grade": false,
     "grade_id": "cell-42f7c13ee9d9b055",
     "locked": false,
     "schema_version": 3,
     "solution": true,
     "task": false
    }
   },
   "outputs": [],
   "source": [
    "# ___ = cancer.sample(5, random_state=20)[[___, ___, ___]]\n",
    "\n",
    "# your code here\n",
    "raise NotImplementedError"
   ]
  },
  {
   "cell_type": "code",
   "execution_count": null,
   "metadata": {
    "deletable": false,
    "editable": false,
    "max_height": 100,
    "nbgrader": {
     "cell_type": "code",
     "checksum": "0e0ee8513d77dc71f9842e986c7ae299",
     "grade": true,
     "grade_id": "cell-48197ca917cfaeb9",
     "locked": true,
     "points": 1,
     "schema_version": 3,
     "solution": false,
     "task": false
    }
   },
   "outputs": [],
   "source": [
    "from hashlib import sha1\n",
    "assert sha1(str(type(small_sample is None)).encode(\"utf-8\")+b\"6c4f6cbc798af45d\").hexdigest() == \"4ffb7c9324754137a869084a8988e14c339261ac\", \"type of small_sample is None is not bool. small_sample is None should be a bool\"\n",
    "assert sha1(str(small_sample is None).encode(\"utf-8\")+b\"6c4f6cbc798af45d\").hexdigest() == \"5da941e85152987fd857ce91268db4395be2679d\", \"boolean value of small_sample is None is not correct\"\n",
    "\n",
    "assert sha1(str(type(small_sample)).encode(\"utf-8\")+b\"2c57b43229f78c03\").hexdigest() == \"c83cde5580ac56041486a834a04c91ec3988e4bb\", \"type of type(small_sample) is not correct\"\n",
    "\n",
    "assert sha1(str(type(small_sample.shape)).encode(\"utf-8\")+b\"762c13920299b2f8\").hexdigest() == \"fa5eef7f880848265d7721d7e9637cf6fec6ee71\", \"type of small_sample.shape is not tuple. small_sample.shape should be a tuple\"\n",
    "assert sha1(str(len(small_sample.shape)).encode(\"utf-8\")+b\"762c13920299b2f8\").hexdigest() == \"73c8252222c26d47dd6a48245b4fa46986fd9cb5\", \"length of small_sample.shape is not correct\"\n",
    "assert sha1(str(sorted(map(str, small_sample.shape))).encode(\"utf-8\")+b\"762c13920299b2f8\").hexdigest() == \"6c124cfcc914253209e130c3f6df2a27144462fc\", \"values of small_sample.shape are not correct\"\n",
    "assert sha1(str(small_sample.shape).encode(\"utf-8\")+b\"762c13920299b2f8\").hexdigest() == \"629e2d874b4bb58290f937b1cd9c9bb2ac5e347a\", \"order of elements of small_sample.shape is not correct\"\n",
    "\n",
    "assert sha1(str(type(\"Symmetry\" in small_sample.columns)).encode(\"utf-8\")+b\"558da3e5487bd4eb\").hexdigest() == \"84a3cfaa1ab7754bb72b98adc2bb3f15ffbb71ca\", \"type of \\\"Symmetry\\\" in small_sample.columns is not bool. \\\"Symmetry\\\" in small_sample.columns should be a bool\"\n",
    "assert sha1(str(\"Symmetry\" in small_sample.columns).encode(\"utf-8\")+b\"558da3e5487bd4eb\").hexdigest() == \"66f776c882c53ec8da75dab805bc130e08270a16\", \"boolean value of \\\"Symmetry\\\" in small_sample.columns is not correct\"\n",
    "\n",
    "assert sha1(str(type(\"Radius\" in small_sample.columns)).encode(\"utf-8\")+b\"20031cb73137a709\").hexdigest() == \"de7ef51927f650e55405ae44a9cf386ce5f13a46\", \"type of \\\"Radius\\\" in small_sample.columns is not bool. \\\"Radius\\\" in small_sample.columns should be a bool\"\n",
    "assert sha1(str(\"Radius\" in small_sample.columns).encode(\"utf-8\")+b\"20031cb73137a709\").hexdigest() == \"f2f4175abfa8815f5739a9e793e698f14b948f59\", \"boolean value of \\\"Radius\\\" in small_sample.columns is not correct\"\n",
    "\n",
    "assert sha1(str(type(\"Class\" in small_sample.columns)).encode(\"utf-8\")+b\"4c8aa2673f7aa56a\").hexdigest() == \"5570dafad76c13297958730a58eefe9dbc96411d\", \"type of \\\"Class\\\" in small_sample.columns is not bool. \\\"Class\\\" in small_sample.columns should be a bool\"\n",
    "assert sha1(str(\"Class\" in small_sample.columns).encode(\"utf-8\")+b\"4c8aa2673f7aa56a\").hexdigest() == \"6fbfae709deefa325395e6ee857d52cce599b2e0\", \"boolean value of \\\"Class\\\" in small_sample.columns is not correct\"\n",
    "\n",
    "print('Success!')"
   ]
  },
  {
   "cell_type": "markdown",
   "metadata": {
    "deletable": false,
    "editable": false,
    "nbgrader": {
     "cell_type": "markdown",
     "checksum": "58df97068dc162580d59f0dbd4957c02",
     "grade": false,
     "grade_id": "cell-d85472a31a22f709",
     "locked": true,
     "schema_version": 3,
     "solution": false,
     "task": false
    }
   },
   "source": [
    "**Question 2.0.1**\n",
    "<br> {points: 1}\n",
    "\n",
    "Finally, create a scatter plot where `Symmetry` is on the x-axis, and `Radius` is on the y-axis. Color the points by `Class`. Name your plot `small_sample_plot`.\n",
    "\n",
    "Fill in the `___` in the scaffolding provided below.\n",
    "\n",
    "As you create this plot, ensure you follow the guidelines for creating effective visualizations. In particular, note on the plot axes whether the data is standardized or not."
   ]
  },
  {
   "cell_type": "code",
   "execution_count": null,
   "metadata": {
    "deletable": false,
    "nbgrader": {
     "cell_type": "code",
     "checksum": "79b8b3b4cccec02883bb6ef9af691c6c",
     "grade": false,
     "grade_id": "cell-7b3aa8c412086b6a",
     "locked": false,
     "schema_version": 3,
     "solution": true
    }
   },
   "outputs": [],
   "source": [
    "# ___ = (\n",
    "#     alt.Chart(___)\n",
    "#     .___()\n",
    "#     .encode(___)\n",
    "#     .properties(width=380, height=300)\n",
    "#     .configure_axis(labelFontSize=18, titleFontSize=18)\n",
    "# )\n",
    "\n",
    "# your code here\n",
    "raise NotImplementedError\n",
    "small_sample_plot"
   ]
  },
  {
   "cell_type": "code",
   "execution_count": null,
   "metadata": {
    "deletable": false,
    "editable": false,
    "max_height": 100,
    "nbgrader": {
     "cell_type": "code",
     "checksum": "7e324df356eb3fdfb461cee16b3fea53",
     "grade": true,
     "grade_id": "cell-c224b6ae53340848",
     "locked": true,
     "points": 1,
     "schema_version": 3,
     "solution": false
    }
   },
   "outputs": [],
   "source": [
    "from hashlib import sha1\n",
    "assert sha1(str(type(small_sample_plot is None)).encode(\"utf-8\")+b\"5428a477cab76a64\").hexdigest() == \"c93b943d00dc27d68985a74ad65a10721e282872\", \"type of small_sample_plot is None is not bool. small_sample_plot is None should be a bool\"\n",
    "assert sha1(str(small_sample_plot is None).encode(\"utf-8\")+b\"5428a477cab76a64\").hexdigest() == \"f89916e94f0542797b004c777c59d210e41b30a9\", \"boolean value of small_sample_plot is None is not correct\"\n",
    "\n",
    "assert sha1(str(type(sum(small_sample_plot.data.Symmetry))).encode(\"utf-8\")+b\"d1fa376a289acc20\").hexdigest() == \"cb34461fce747eb4f905522d917d0d307aa18fe8\", \"type of sum(small_sample_plot.data.Symmetry) is not float. Please make sure it is float and not np.float64, etc. You can cast your value into a float using float()\"\n",
    "assert sha1(str(round(sum(small_sample_plot.data.Symmetry), 2)).encode(\"utf-8\")+b\"d1fa376a289acc20\").hexdigest() == \"70ee7e7f9d8fd123ffc5562ff6f01ae67ca3f978\", \"value of sum(small_sample_plot.data.Symmetry) is not correct (rounded to 2 decimal places)\"\n",
    "\n",
    "assert sha1(str(type(small_sample_plot.encoding.x.field)).encode(\"utf-8\")+b\"8b02dba4c8066c51\").hexdigest() == \"f46ab6c46d65ef32094e4e94ff045ee9633d18d9\", \"type of small_sample_plot.encoding.x.field is not str. small_sample_plot.encoding.x.field should be an str\"\n",
    "assert sha1(str(len(small_sample_plot.encoding.x.field)).encode(\"utf-8\")+b\"8b02dba4c8066c51\").hexdigest() == \"41466645b3e453f1502b7a9ff2decb7fb4535005\", \"length of small_sample_plot.encoding.x.field is not correct\"\n",
    "assert sha1(str(small_sample_plot.encoding.x.field.lower()).encode(\"utf-8\")+b\"8b02dba4c8066c51\").hexdigest() == \"3633efad87d9a2d4e2456720d5603c53b37308ba\", \"value of small_sample_plot.encoding.x.field is not correct\"\n",
    "assert sha1(str(small_sample_plot.encoding.x.field).encode(\"utf-8\")+b\"8b02dba4c8066c51\").hexdigest() == \"a14c1f72e7655027999819f375ed103514ecba6e\", \"correct string value of small_sample_plot.encoding.x.field but incorrect case of letters\"\n",
    "\n",
    "assert sha1(str(type(small_sample_plot.encoding.y.field)).encode(\"utf-8\")+b\"b2de4ad2dfb05eca\").hexdigest() == \"101a0f2331e3ca163ddfbb920c94e965adf00843\", \"type of small_sample_plot.encoding.y.field is not str. small_sample_plot.encoding.y.field should be an str\"\n",
    "assert sha1(str(len(small_sample_plot.encoding.y.field)).encode(\"utf-8\")+b\"b2de4ad2dfb05eca\").hexdigest() == \"5019ae525817e2fbda6e30a62e91ea211f8a465a\", \"length of small_sample_plot.encoding.y.field is not correct\"\n",
    "assert sha1(str(small_sample_plot.encoding.y.field.lower()).encode(\"utf-8\")+b\"b2de4ad2dfb05eca\").hexdigest() == \"b31a265552f3618ac7263ea068ce03460a0d51b1\", \"value of small_sample_plot.encoding.y.field is not correct\"\n",
    "assert sha1(str(small_sample_plot.encoding.y.field).encode(\"utf-8\")+b\"b2de4ad2dfb05eca\").hexdigest() == \"fd0b20e4f50d11a1853b9ebb138c6ce02a51faa2\", \"correct string value of small_sample_plot.encoding.y.field but incorrect case of letters\"\n",
    "\n",
    "assert sha1(str(type(small_sample_plot.mark)).encode(\"utf-8\")+b\"d126d1ae8fa35250\").hexdigest() == \"924652979211ef629d014e4b4ea104733093a985\", \"type of small_sample_plot.mark is not str. small_sample_plot.mark should be an str\"\n",
    "assert sha1(str(len(small_sample_plot.mark)).encode(\"utf-8\")+b\"d126d1ae8fa35250\").hexdigest() == \"bb3354a3bbc41b684a50f4a3998fb526583c9dc9\", \"length of small_sample_plot.mark is not correct\"\n",
    "assert sha1(str(small_sample_plot.mark.lower()).encode(\"utf-8\")+b\"d126d1ae8fa35250\").hexdigest() == \"45ae6c7b43b6fcd5752f362569f892df89f8b38c\", \"value of small_sample_plot.mark is not correct\"\n",
    "assert sha1(str(small_sample_plot.mark).encode(\"utf-8\")+b\"d126d1ae8fa35250\").hexdigest() == \"45ae6c7b43b6fcd5752f362569f892df89f8b38c\", \"correct string value of small_sample_plot.mark but incorrect case of letters\"\n",
    "\n",
    "assert sha1(str(type(small_sample_plot.encoding.color.field)).encode(\"utf-8\")+b\"b336660df4eabab6\").hexdigest() == \"e982c21ba7a625f9ebc0b8e048ed2c068347b046\", \"type of small_sample_plot.encoding.color.field is not str. small_sample_plot.encoding.color.field should be an str\"\n",
    "assert sha1(str(len(small_sample_plot.encoding.color.field)).encode(\"utf-8\")+b\"b336660df4eabab6\").hexdigest() == \"22b584d46b52b8bd003ecb875fa14b6b567a45d6\", \"length of small_sample_plot.encoding.color.field is not correct\"\n",
    "assert sha1(str(small_sample_plot.encoding.color.field.lower()).encode(\"utf-8\")+b\"b336660df4eabab6\").hexdigest() == \"02764949b981b7e2c62d8521dc61e48ec388973f\", \"value of small_sample_plot.encoding.color.field is not correct\"\n",
    "assert sha1(str(small_sample_plot.encoding.color.field).encode(\"utf-8\")+b\"b336660df4eabab6\").hexdigest() == \"b104d6b82c3afba4f2c9ffbe4117f5025e334db7\", \"correct string value of small_sample_plot.encoding.color.field but incorrect case of letters\"\n",
    "\n",
    "assert sha1(str(type(small_sample_plot.encoding.x.title != small_sample_plot.encoding.x.field)).encode(\"utf-8\")+b\"7fb64a4cccc2775d\").hexdigest() == \"8c8d49daf5d65189de2f82fd9459f5ced12cd567\", \"type of small_sample_plot.encoding.x.title != small_sample_plot.encoding.x.field is not bool. small_sample_plot.encoding.x.title != small_sample_plot.encoding.x.field should be a bool\"\n",
    "assert sha1(str(small_sample_plot.encoding.x.title != small_sample_plot.encoding.x.field).encode(\"utf-8\")+b\"7fb64a4cccc2775d\").hexdigest() == \"801f112b4bf8ee0a14286dd8999b6b77c2b94e5c\", \"boolean value of small_sample_plot.encoding.x.title != small_sample_plot.encoding.x.field is not correct\"\n",
    "\n",
    "assert sha1(str(type(small_sample_plot.encoding.y.title != small_sample_plot.encoding.y.field)).encode(\"utf-8\")+b\"6cf8fcfa3bba9f54\").hexdigest() == \"e055f39608a3bb9563e09dfe32d9e292550fb902\", \"type of small_sample_plot.encoding.y.title != small_sample_plot.encoding.y.field is not bool. small_sample_plot.encoding.y.title != small_sample_plot.encoding.y.field should be a bool\"\n",
    "assert sha1(str(small_sample_plot.encoding.y.title != small_sample_plot.encoding.y.field).encode(\"utf-8\")+b\"6cf8fcfa3bba9f54\").hexdigest() == \"6c1b25436491ca07e93436b087f922d26c00f170\", \"boolean value of small_sample_plot.encoding.y.title != small_sample_plot.encoding.y.field is not correct\"\n",
    "\n",
    "print('Success!')"
   ]
  },
  {
   "cell_type": "markdown",
   "metadata": {
    "deletable": false,
    "editable": false,
    "nbgrader": {
     "cell_type": "markdown",
     "checksum": "f48da8317201c90659240d958f8f1b0d",
     "grade": false,
     "grade_id": "cell-ea9b69d1eb8ef76c",
     "locked": true,
     "schema_version": 3,
     "solution": false
    }
   },
   "source": [
    "**Question 2.1** \n",
    "<br> {points: 1}\n",
    "\n",
    "Suppose we are interested in classifying a new observation with `Symmetry = 0.5` and `Radius = 0`, but unknown `Class`. Using the `small_sample` data frame, add another row with `Symmetry = 0.5`, `Radius = 0`, and `Class = \"unknown\"`.\n",
    "\n",
    "Fill in the `___` in the scaffolding provided below.\n",
    "\n",
    "*Assign your answer to an object called `newData`.*"
   ]
  },
  {
   "cell_type": "code",
   "execution_count": null,
   "metadata": {
    "deletable": false,
    "nbgrader": {
     "cell_type": "code",
     "checksum": "560dc2280daf6f0cd8a1525b8b90fb1b",
     "grade": false,
     "grade_id": "cell-96047e4736208b46",
     "locked": false,
     "schema_version": 3,
     "solution": true
    }
   },
   "outputs": [],
   "source": [
    "# ___ = ___.append(\n",
    "#     {\"Symmetry\": ___, ___: 0, \"Class\":___}, ignore_index=True\n",
    "# )\n",
    "\n",
    "# your code here\n",
    "raise NotImplementedError\n",
    "newData"
   ]
  },
  {
   "cell_type": "code",
   "execution_count": null,
   "metadata": {
    "deletable": false,
    "editable": false,
    "max_height": 100,
    "nbgrader": {
     "cell_type": "code",
     "checksum": "7f2daef798c7ab9032f6c9fbfbb9e840",
     "grade": true,
     "grade_id": "cell-136ec7a4a7af2698",
     "locked": true,
     "points": 1,
     "schema_version": 3,
     "solution": false
    }
   },
   "outputs": [],
   "source": [
    "from hashlib import sha1\n",
    "assert sha1(str(type(newData is None)).encode(\"utf-8\")+b\"db63d068e3ae6692\").hexdigest() == \"92484d52b7eb73721edca61c0596793b6269d7c2\", \"type of newData is None is not bool. newData is None should be a bool\"\n",
    "assert sha1(str(newData is None).encode(\"utf-8\")+b\"db63d068e3ae6692\").hexdigest() == \"b73cda45d9619806b3b53b6f6d90139ec935497c\", \"boolean value of newData is None is not correct\"\n",
    "\n",
    "assert sha1(str(type(newData)).encode(\"utf-8\")+b\"fff3833a2c70a49e\").hexdigest() == \"d2093604ad4097f3ea6bf592a5cc7e915cdcdee1\", \"type of type(newData) is not correct\"\n",
    "\n",
    "assert sha1(str(type(newData.Class[5])).encode(\"utf-8\")+b\"a5a33f9336894bc1\").hexdigest() == \"ebee8820000f4764dc3fa7d955e0be0b32ea472c\", \"type of newData.Class[5] is not str. newData.Class[5] should be an str\"\n",
    "assert sha1(str(len(newData.Class[5])).encode(\"utf-8\")+b\"a5a33f9336894bc1\").hexdigest() == \"079c49d387b28835809fc4f59b292516e1c87182\", \"length of newData.Class[5] is not correct\"\n",
    "assert sha1(str(newData.Class[5].lower()).encode(\"utf-8\")+b\"a5a33f9336894bc1\").hexdigest() == \"2794e3e88d2dec7119e22eb2057bdafcb278ee13\", \"value of newData.Class[5] is not correct\"\n",
    "assert sha1(str(newData.Class[5]).encode(\"utf-8\")+b\"a5a33f9336894bc1\").hexdigest() == \"2794e3e88d2dec7119e22eb2057bdafcb278ee13\", \"correct string value of newData.Class[5] but incorrect case of letters\"\n",
    "\n",
    "assert sha1(str(type(newData.shape)).encode(\"utf-8\")+b\"53612554d5e97b5f\").hexdigest() == \"38fe741c09cc64c9a18107c9ca4c97a3f04ce774\", \"type of newData.shape is not tuple. newData.shape should be a tuple\"\n",
    "assert sha1(str(len(newData.shape)).encode(\"utf-8\")+b\"53612554d5e97b5f\").hexdigest() == \"9e2875ce725ad0f47def59f06c1d5b4a3fa80cb4\", \"length of newData.shape is not correct\"\n",
    "assert sha1(str(sorted(map(str, newData.shape))).encode(\"utf-8\")+b\"53612554d5e97b5f\").hexdigest() == \"0a2350719cc54bb0aff7b3f6d8ce8926ffd43a46\", \"values of newData.shape are not correct\"\n",
    "assert sha1(str(newData.shape).encode(\"utf-8\")+b\"53612554d5e97b5f\").hexdigest() == \"ee182395bc1fd4fda8575d4b0533c3b22ce4e338\", \"order of elements of newData.shape is not correct\"\n",
    "\n",
    "assert sha1(str(type(sum(newData.Radius))).encode(\"utf-8\")+b\"66890822e6041912\").hexdigest() == \"9af6ffdc17db656afaf9d02c4f59128fe845a2b4\", \"type of sum(newData.Radius) is not float. Please make sure it is float and not np.float64, etc. You can cast your value into a float using float()\"\n",
    "assert sha1(str(round(sum(newData.Radius), 2)).encode(\"utf-8\")+b\"66890822e6041912\").hexdigest() == \"5b95a53460d105703b02b519a05c561b9e5f4d53\", \"value of sum(newData.Radius) is not correct (rounded to 2 decimal places)\"\n",
    "\n",
    "assert sha1(str(type(sum(newData.Symmetry))).encode(\"utf-8\")+b\"80d1cabc2a65514e\").hexdigest() == \"a0f8c5c6dc373a9becf5fef772c29e55e8f11468\", \"type of sum(newData.Symmetry) is not float. Please make sure it is float and not np.float64, etc. You can cast your value into a float using float()\"\n",
    "assert sha1(str(round(sum(newData.Symmetry), 2)).encode(\"utf-8\")+b\"80d1cabc2a65514e\").hexdigest() == \"b1fdaadf9cfe3f5b79ebacebac38246cfeed774c\", \"value of sum(newData.Symmetry) is not correct (rounded to 2 decimal places)\"\n",
    "\n",
    "print('Success!')"
   ]
  },
  {
   "cell_type": "markdown",
   "metadata": {
    "deletable": false,
    "editable": false,
    "nbgrader": {
     "cell_type": "markdown",
     "checksum": "8a5cd42953cd3dc8e05959ed2ca534ea",
     "grade": false,
     "grade_id": "cell-0c2e46a6b87bc2f2",
     "locked": true,
     "schema_version": 3,
     "solution": false
    }
   },
   "source": [
    "**Question 2.2**\n",
    "<br> {points: 1}\n",
    "\n",
    "Compute the distance between each pair of the 6 observations in the `newData` dataframe using the `euclidean_distances` function based on two variables: `Symmetry` and `Radius`. Fill in the `___` in the scaffolding provided below.\n",
    "\n",
    "\n",
    "*Assign your answer to an object called `dist_matrix`.*"
   ]
  },
  {
   "cell_type": "code",
   "execution_count": null,
   "metadata": {
    "deletable": false,
    "nbgrader": {
     "cell_type": "code",
     "checksum": "0bef5f7b403050351a196f5fcfb701cf",
     "grade": false,
     "grade_id": "cell-e08fcfbf45d4e190",
     "locked": false,
     "schema_version": 3,
     "solution": true
    }
   },
   "outputs": [],
   "source": [
    "# dist_matrix = pd.DataFrame(___(newData[[___, ___]]))\n",
    "\n",
    "# your code here\n",
    "raise NotImplementedError\n",
    "dist_matrix"
   ]
  },
  {
   "cell_type": "code",
   "execution_count": null,
   "metadata": {
    "deletable": false,
    "editable": false,
    "max_height": 100,
    "nbgrader": {
     "cell_type": "code",
     "checksum": "e949d381e064c50eb869997055937a1a",
     "grade": true,
     "grade_id": "cell-a8cd3d77bfcea0b0",
     "locked": true,
     "points": 1,
     "schema_version": 3,
     "solution": false
    }
   },
   "outputs": [],
   "source": [
    "from hashlib import sha1\n",
    "assert sha1(str(type(dist_matrix is None)).encode(\"utf-8\")+b\"f1ef142a06c062d0\").hexdigest() == \"35453d04379a8c42883d4c8685aefefcbf798930\", \"type of dist_matrix is None is not bool. dist_matrix is None should be a bool\"\n",
    "assert sha1(str(dist_matrix is None).encode(\"utf-8\")+b\"f1ef142a06c062d0\").hexdigest() == \"7bfa8d36e8ada6456048619ac97a7dd1d51ad635\", \"boolean value of dist_matrix is None is not correct\"\n",
    "\n",
    "assert sha1(str(type(dist_matrix)).encode(\"utf-8\")+b\"52768a25a0002841\").hexdigest() == \"5712eaea451abc0cbcf92ee177b89ceca7232361\", \"type of type(dist_matrix) is not correct\"\n",
    "\n",
    "assert sha1(str(type(dist_matrix.shape)).encode(\"utf-8\")+b\"e59e6f5a42479264\").hexdigest() == \"47e202d422c59dd054e2da3990f4803f8ea2cf5c\", \"type of dist_matrix.shape is not tuple. dist_matrix.shape should be a tuple\"\n",
    "assert sha1(str(len(dist_matrix.shape)).encode(\"utf-8\")+b\"e59e6f5a42479264\").hexdigest() == \"e43564e10cdb7e1a6e0ef19a3fa67200ddf1511c\", \"length of dist_matrix.shape is not correct\"\n",
    "assert sha1(str(sorted(map(str, dist_matrix.shape))).encode(\"utf-8\")+b\"e59e6f5a42479264\").hexdigest() == \"f27954de85796ff78f6137377cdbcb386ffc93b0\", \"values of dist_matrix.shape are not correct\"\n",
    "assert sha1(str(dist_matrix.shape).encode(\"utf-8\")+b\"e59e6f5a42479264\").hexdigest() == \"7c92ccc8da3c80bae8f76ccd5ad464586d0b5d22\", \"order of elements of dist_matrix.shape is not correct\"\n",
    "\n",
    "assert sha1(str(type(sum(dist_matrix.iloc[0]))).encode(\"utf-8\")+b\"bc0d82966e698cd7\").hexdigest() == \"7208635aa96d91483beab1926bb64314e192efa4\", \"type of sum(dist_matrix.iloc[0]) is not float. Please make sure it is float and not np.float64, etc. You can cast your value into a float using float()\"\n",
    "assert sha1(str(round(sum(dist_matrix.iloc[0]), 2)).encode(\"utf-8\")+b\"bc0d82966e698cd7\").hexdigest() == \"63fb983753b29ecdc47803f4cf27e197b3fe4c4d\", \"value of sum(dist_matrix.iloc[0]) is not correct (rounded to 2 decimal places)\"\n",
    "\n",
    "assert sha1(str(type(sum(dist_matrix.iloc[1]))).encode(\"utf-8\")+b\"e944b02678b08c3d\").hexdigest() == \"23282b0812b8649bfe5002f0937ab3158e89e1e0\", \"type of sum(dist_matrix.iloc[1]) is not float. Please make sure it is float and not np.float64, etc. You can cast your value into a float using float()\"\n",
    "assert sha1(str(round(sum(dist_matrix.iloc[1]), 2)).encode(\"utf-8\")+b\"e944b02678b08c3d\").hexdigest() == \"f82a3aea98cda142995498230ea497a597255361\", \"value of sum(dist_matrix.iloc[1]) is not correct (rounded to 2 decimal places)\"\n",
    "\n",
    "assert sha1(str(type(sum(dist_matrix.iloc[4]))).encode(\"utf-8\")+b\"9bfad76e5555e653\").hexdigest() == \"df7be6e764fcbe057a482cae13dec9f7639ca8db\", \"type of sum(dist_matrix.iloc[4]) is not float. Please make sure it is float and not np.float64, etc. You can cast your value into a float using float()\"\n",
    "assert sha1(str(round(sum(dist_matrix.iloc[4]), 2)).encode(\"utf-8\")+b\"9bfad76e5555e653\").hexdigest() == \"d9545ab17a435b3f9edcd4cfb7409ab89a0e8ef6\", \"value of sum(dist_matrix.iloc[4]) is not correct (rounded to 2 decimal places)\"\n",
    "\n",
    "assert sha1(str(type(sum(dist_matrix.iloc[5]))).encode(\"utf-8\")+b\"4d84105532388a42\").hexdigest() == \"8b229442111bd4e9075d374ac76b789e1f47916d\", \"type of sum(dist_matrix.iloc[5]) is not float. Please make sure it is float and not np.float64, etc. You can cast your value into a float using float()\"\n",
    "assert sha1(str(round(sum(dist_matrix.iloc[5]), 2)).encode(\"utf-8\")+b\"4d84105532388a42\").hexdigest() == \"a14d343384bae13197a30b88e7946aaa5bb735e7\", \"value of sum(dist_matrix.iloc[5]) is not correct (rounded to 2 decimal places)\"\n",
    "\n",
    "print('Success!')"
   ]
  },
  {
   "cell_type": "markdown",
   "metadata": {
    "deletable": false,
    "editable": false,
    "nbgrader": {
     "cell_type": "markdown",
     "checksum": "7ec7ce46ce9d262b66ef34ab6563931a",
     "grade": false,
     "grade_id": "cell-aba0edb4c4788627",
     "locked": true,
     "schema_version": 3,
     "solution": false
    }
   },
   "source": [
    "**Question 2.3** Multiple Choice:\n",
    "<br> {points: 1}\n",
    "\n",
    "In the table above, the row and column numbers reflect the row number from the data frame the `euclidean_distances` function was applied to. The values in `dist_matrix` are the distances between the points of the row and column number. For example, the distance between the point 2 and point 4 is 2.444209. And the distance between point 3 and point 3 (the same point) is 0.\n",
    "\n",
    "**Which observation is the nearest to our new point?**\n",
    "\n",
    "*Assign your answer to an object called `answer2_3`. Make sure your answer is a number."
   ]
  },
  {
   "cell_type": "code",
   "execution_count": null,
   "metadata": {
    "deletable": false,
    "nbgrader": {
     "cell_type": "code",
     "checksum": "10c3bcc9b0db2d4b3fb2ee608a2f834e",
     "grade": false,
     "grade_id": "cell-bdbdb888f697f310",
     "locked": false,
     "schema_version": 3,
     "solution": true
    }
   },
   "outputs": [],
   "source": [
    "# your code here\n",
    "raise NotImplementedError"
   ]
  },
  {
   "cell_type": "code",
   "execution_count": null,
   "metadata": {
    "deletable": false,
    "editable": false,
    "max_height": 100,
    "nbgrader": {
     "cell_type": "code",
     "checksum": "cb1b14f598596ae437ca270a4b96cf56",
     "grade": true,
     "grade_id": "cell-371a2959d06316e2",
     "locked": true,
     "points": 3,
     "schema_version": 3,
     "solution": false
    }
   },
   "outputs": [],
   "source": [
    "from hashlib import sha1\n",
    "assert sha1(str(type(answer2_3)).encode(\"utf-8\")+b\"b15b6a736efadb43\").hexdigest() == \"31fb4d3eed4602a8b12a0e3ad8226ce555c64b18\", \"type of answer2_3 is not int. Please make sure it is int and not np.int64, etc. You can cast your value into an int using int()\"\n",
    "assert sha1(str(answer2_3).encode(\"utf-8\")+b\"b15b6a736efadb43\").hexdigest() == \"7f8732ccac81a387ae2f5bd83e8479fb25466fce\", \"value of answer2_3 is not correct\"\n",
    "\n",
    "print('Success!')"
   ]
  },
  {
   "cell_type": "markdown",
   "metadata": {
    "deletable": false,
    "editable": false,
    "nbgrader": {
     "cell_type": "markdown",
     "checksum": "7b692e8014baae67bc6807ff850b719c",
     "grade": false,
     "grade_id": "cell-d2210381e32e3b13",
     "locked": true,
     "schema_version": 3,
     "solution": false
    }
   },
   "source": [
    "**Question 2.4** Multiple Choice: \n",
    "<br> {points: 1}\n",
    "\n",
    "If we use the K-nearest neighbour classification algorithm with K = 1 to classify the new observation using your answers to **Questions 2.2 & 2.3**, is the new data point predicted to be benign or malignant?\n",
    "\n",
    "*Assign your answer to an object called `answer2_4`. Make sure the correct answer is written fully as either \"Benign\" or \"Malignant\". Remember to surround your answer with quotation marks.* "
   ]
  },
  {
   "cell_type": "code",
   "execution_count": null,
   "metadata": {
    "deletable": false,
    "nbgrader": {
     "cell_type": "code",
     "checksum": "e9019b11b6b8c9f74d38162fd941c18f",
     "grade": false,
     "grade_id": "cell-22366d4a160c0c16",
     "locked": false,
     "schema_version": 3,
     "solution": true
    }
   },
   "outputs": [],
   "source": [
    "# your code here\n",
    "raise NotImplementedError"
   ]
  },
  {
   "cell_type": "code",
   "execution_count": null,
   "metadata": {
    "deletable": false,
    "editable": false,
    "max_height": 100,
    "nbgrader": {
     "cell_type": "code",
     "checksum": "2157c09377923d2386816b4fe9042d0f",
     "grade": true,
     "grade_id": "cell-bf715d3502c96d7e",
     "locked": true,
     "points": 3,
     "schema_version": 3,
     "solution": false
    }
   },
   "outputs": [],
   "source": [
    "from hashlib import sha1\n",
    "assert sha1(str(type(answer2_4)).encode(\"utf-8\")+b\"e764257d9e925b2e\").hexdigest() == \"463112ccada2961ea2dc1cf9e97946fc7e7005ec\", \"type of answer2_4 is not str. answer2_4 should be an str\"\n",
    "assert sha1(str(len(answer2_4)).encode(\"utf-8\")+b\"e764257d9e925b2e\").hexdigest() == \"c22edf00371a132e93e2241a23b2a1775e331220\", \"length of answer2_4 is not correct\"\n",
    "assert sha1(str(answer2_4.lower()).encode(\"utf-8\")+b\"e764257d9e925b2e\").hexdigest() == \"06ee43e910cc8fe2b0e3f056d516b42a138c6d0a\", \"value of answer2_4 is not correct\"\n",
    "assert sha1(str(answer2_4).encode(\"utf-8\")+b\"e764257d9e925b2e\").hexdigest() == \"5f6810ee4c011994256e9cb2de6b5671fdca4b4d\", \"correct string value of answer2_4 but incorrect case of letters\"\n",
    "\n",
    "print('Success!')"
   ]
  },
  {
   "cell_type": "markdown",
   "metadata": {
    "deletable": false,
    "editable": false,
    "nbgrader": {
     "cell_type": "markdown",
     "checksum": "ea0850f0241b59a478d23c49767d41cd",
     "grade": false,
     "grade_id": "cell-066b94daf2bb2b53",
     "locked": true,
     "schema_version": 3,
     "solution": false
    }
   },
   "source": [
    "**Question 2.5** Multiple Choice:\n",
    "<br> {points: 1}\n",
    "\n",
    "Using your answers to **Questions 2.2 & 2.3**, what are the three closest observations to your new point?\n",
    "\n",
    "A. 1, 3, 2\n",
    "\n",
    "B. 0, 1, 3\n",
    "\n",
    "C. 5, 2, 4\n",
    "\n",
    "D. 3, 4, 2\n",
    "\n",
    "*Assign your answer to an object called `answer2_5`. Make sure the correct answer is an uppercase letter. Remember to surround your answer with quotation marks (e.g. \"F\").*"
   ]
  },
  {
   "cell_type": "code",
   "execution_count": null,
   "metadata": {
    "deletable": false,
    "nbgrader": {
     "cell_type": "code",
     "checksum": "0660932897a5435430dabc3908249f22",
     "grade": false,
     "grade_id": "cell-559773dc29d9781f",
     "locked": false,
     "schema_version": 3,
     "solution": true
    }
   },
   "outputs": [],
   "source": [
    "# your code here\n",
    "raise NotImplementedError"
   ]
  },
  {
   "cell_type": "code",
   "execution_count": null,
   "metadata": {
    "deletable": false,
    "editable": false,
    "max_height": 100,
    "nbgrader": {
     "cell_type": "code",
     "checksum": "93afcd6e5245b2028f93bbc6c6d9c418",
     "grade": true,
     "grade_id": "cell-377f6fc0e8af55a9",
     "locked": true,
     "points": 3,
     "schema_version": 3,
     "solution": false
    }
   },
   "outputs": [],
   "source": [
    "from hashlib import sha1\n",
    "assert sha1(str(type(answer2_5)).encode(\"utf-8\")+b\"8d0654972620d0ca\").hexdigest() == \"c2dfb16b97d76145942a3c0f7fde522551fc5f3e\", \"type of answer2_5 is not str. answer2_5 should be an str\"\n",
    "assert sha1(str(len(answer2_5)).encode(\"utf-8\")+b\"8d0654972620d0ca\").hexdigest() == \"47744873a06ab3ba4a4f4238e9de8b97a679a0b7\", \"length of answer2_5 is not correct\"\n",
    "assert sha1(str(answer2_5.lower()).encode(\"utf-8\")+b\"8d0654972620d0ca\").hexdigest() == \"a17145ec3a9e8583b6aa60f974b91d25d5fcd8e2\", \"value of answer2_5 is not correct\"\n",
    "assert sha1(str(answer2_5).encode(\"utf-8\")+b\"8d0654972620d0ca\").hexdigest() == \"4fb8ba5b721782e8ae6aebf391949c91d6ee1c71\", \"correct string value of answer2_5 but incorrect case of letters\"\n",
    "\n",
    "print('Success!')"
   ]
  },
  {
   "cell_type": "markdown",
   "metadata": {
    "deletable": false,
    "editable": false,
    "nbgrader": {
     "cell_type": "markdown",
     "checksum": "dcfdc0e4c35f32a74cdf8f14deab2299",
     "grade": false,
     "grade_id": "cell-bf7fd236053daada",
     "locked": true,
     "schema_version": 3,
     "solution": false
    }
   },
   "source": [
    "**Question 2.6** Multiple Choice: \n",
    "<br> {points: 1}\n",
    "\n",
    "We will now use the K-nearest neighbour classification algorithm with K = 3 to classify the new observation using your answers to **Questions 2.2 & 2.3**. Is the new data point predicted to be benign or malignant?\n",
    "\n",
    "*Assign your answer to an object called `answer2_6`. Make sure the correct answer is written fully. Remember to surround your answer with quotation marks (e.g. \"Benign\" / \"Malignant\").*"
   ]
  },
  {
   "cell_type": "code",
   "execution_count": null,
   "metadata": {
    "deletable": false,
    "nbgrader": {
     "cell_type": "code",
     "checksum": "03ade657f4654214091bf3dac2f324cd",
     "grade": false,
     "grade_id": "cell-258763f514ce8d52",
     "locked": false,
     "schema_version": 3,
     "solution": true
    }
   },
   "outputs": [],
   "source": [
    "# your code here\n",
    "raise NotImplementedError"
   ]
  },
  {
   "cell_type": "code",
   "execution_count": null,
   "metadata": {
    "deletable": false,
    "editable": false,
    "max_height": 100,
    "nbgrader": {
     "cell_type": "code",
     "checksum": "b7cf4c307a708910a5b30f422d300708",
     "grade": true,
     "grade_id": "cell-2a8fd7a3457fb02a",
     "locked": true,
     "points": 3,
     "schema_version": 3,
     "solution": false
    }
   },
   "outputs": [],
   "source": [
    "from hashlib import sha1\n",
    "assert sha1(str(type(answer2_6)).encode(\"utf-8\")+b\"5c6e8654ba48cb5d\").hexdigest() == \"bc5e649c65c48c979b6377d3fd5e19d61897dcdf\", \"type of answer2_6 is not str. answer2_6 should be an str\"\n",
    "assert sha1(str(len(answer2_6)).encode(\"utf-8\")+b\"5c6e8654ba48cb5d\").hexdigest() == \"2ba8cf213604db76f0eed65affd65e705557d58c\", \"length of answer2_6 is not correct\"\n",
    "assert sha1(str(answer2_6.lower()).encode(\"utf-8\")+b\"5c6e8654ba48cb5d\").hexdigest() == \"695440bf4722215c7184c4ba77153a5a82ddc21d\", \"value of answer2_6 is not correct\"\n",
    "assert sha1(str(answer2_6).encode(\"utf-8\")+b\"5c6e8654ba48cb5d\").hexdigest() == \"89026aa5e3cb633bd72b1edbbcffb19e5ff4e77c\", \"correct string value of answer2_6 but incorrect case of letters\"\n",
    "\n",
    "print('Success!')"
   ]
  },
  {
   "cell_type": "markdown",
   "metadata": {
    "deletable": false,
    "editable": false,
    "nbgrader": {
     "cell_type": "markdown",
     "checksum": "6aef431522c8dba8d06f105ac210ecfd",
     "grade": false,
     "grade_id": "cell-070238e3e7380252",
     "locked": true,
     "schema_version": 3,
     "solution": false
    }
   },
   "source": [
    "**Question 2.7**\n",
    "<br> {points: 1}\n",
    "\n",
    "Compare your answers in 2.4 and 2.6. Are they the same?\n",
    "\n",
    "*Assign your answer to an object called `answer2_7`. Make sure the correct answer is written in lower-case. Remember to surround your answer with quotation marks (e.g. \"yes\" / \"no\").* "
   ]
  },
  {
   "cell_type": "code",
   "execution_count": null,
   "metadata": {
    "deletable": false,
    "nbgrader": {
     "cell_type": "code",
     "checksum": "e969c267f7269cfcdb58d807dcadd0a3",
     "grade": false,
     "grade_id": "cell-5eb56b54aae58afa",
     "locked": false,
     "schema_version": 3,
     "solution": true
    }
   },
   "outputs": [],
   "source": [
    "# your code here\n",
    "raise NotImplementedError"
   ]
  },
  {
   "cell_type": "code",
   "execution_count": null,
   "metadata": {
    "deletable": false,
    "editable": false,
    "max_height": 100,
    "nbgrader": {
     "cell_type": "code",
     "checksum": "63882f2825e6bc30b7195df58838d76d",
     "grade": true,
     "grade_id": "cell-067dc96bdc43046c",
     "locked": true,
     "points": 3,
     "schema_version": 3,
     "solution": false
    }
   },
   "outputs": [],
   "source": [
    "from hashlib import sha1\n",
    "assert sha1(str(type(answer2_7)).encode(\"utf-8\")+b\"66a1746d7d4c677c\").hexdigest() == \"1bcd0714a7576a3f5a61d2f91d7aec841f6dc8df\", \"type of answer2_7 is not str. answer2_7 should be an str\"\n",
    "assert sha1(str(len(answer2_7)).encode(\"utf-8\")+b\"66a1746d7d4c677c\").hexdigest() == \"1fbda9e6895d011826c5ee71b74ea8b11be48f0b\", \"length of answer2_7 is not correct\"\n",
    "assert sha1(str(answer2_7.lower()).encode(\"utf-8\")+b\"66a1746d7d4c677c\").hexdigest() == \"60d3cdbadd018fadcb8e4e9e1f1cbf3424146d92\", \"value of answer2_7 is not correct\"\n",
    "assert sha1(str(answer2_7).encode(\"utf-8\")+b\"66a1746d7d4c677c\").hexdigest() == \"60d3cdbadd018fadcb8e4e9e1f1cbf3424146d92\", \"correct string value of answer2_7 but incorrect case of letters\"\n",
    "\n",
    "print('Success!')"
   ]
  },
  {
   "cell_type": "markdown",
   "metadata": {
    "deletable": false,
    "editable": false,
    "nbgrader": {
     "cell_type": "markdown",
     "checksum": "6c0e438ec1491f860d3e075295498e0e",
     "grade": false,
     "grade_id": "cell-c279ff71adbb5d92",
     "locked": true,
     "schema_version": 3,
     "solution": false,
     "task": false
    }
   },
   "source": [
    "## 3. Using `scikit-learn` to perform k-nearest neighbours\n",
    "\n",
    "Now that we understand how K-nearest neighbours (k-nn) classification works, let's get familar with the `scikit-learn` Python package. The benefit of using `scikit-learn` is that it will keep our code simple, readable and accurate. Coding less and in a tidier format means that there is less chance for errors to occur.  \n",
    "\n",
    "We'll again focus on `Radius` and `Symmetry` as the two predictors. This time, we would like to predict the class of a new observation with `Symmetry = 1` and `Radius = 0`. This one is a bit tricky to do visually from the plot below, and so is a motivating example for us to compute the prediction using k-nn with the `scikit-learn` package. Let's use `K = 7`."
   ]
  },
  {
   "cell_type": "code",
   "execution_count": null,
   "metadata": {
    "deletable": false,
    "editable": false,
    "nbgrader": {
     "cell_type": "code",
     "checksum": "025f63ba07834f092b2c668defffaa10",
     "grade": false,
     "grade_id": "cell-56677f538700d703",
     "locked": true,
     "schema_version": 3,
     "solution": false,
     "task": false
    }
   },
   "outputs": [],
   "source": [
    "cancer_plot"
   ]
  },
  {
   "cell_type": "markdown",
   "metadata": {
    "deletable": false,
    "editable": false,
    "nbgrader": {
     "cell_type": "markdown",
     "checksum": "9eda1dc50d63ab186380d08c86d1bc5c",
     "grade": false,
     "grade_id": "cell-0be2bf18a64cc945",
     "locked": true,
     "schema_version": 3,
     "solution": false
    }
   },
   "source": [
    "**Question 3.1** \n",
    "<br> {points: 1}\n",
    "\n",
    "Create a **model** for K-nearest neighbours classification by using the `KNeighborsClassifier` function. Specify that we want to set `n_neighbors = 7`.\n",
    "\n",
    "Name your model specification `knn_spec`."
   ]
  },
  {
   "cell_type": "code",
   "execution_count": null,
   "metadata": {
    "deletable": false,
    "nbgrader": {
     "cell_type": "code",
     "checksum": "02af91221f9fdb4855c5737f2525182a",
     "grade": false,
     "grade_id": "cell-6c32562496f83241",
     "locked": false,
     "schema_version": 3,
     "solution": true,
     "task": false
    }
   },
   "outputs": [],
   "source": [
    "# ___ = KNeighborsClassifier(n_neighbors=___)\n",
    "\n",
    "# your code here\n",
    "raise NotImplementedError\n",
    "knn_spec"
   ]
  },
  {
   "cell_type": "code",
   "execution_count": null,
   "metadata": {
    "deletable": false,
    "editable": false,
    "max_height": 100,
    "nbgrader": {
     "cell_type": "code",
     "checksum": "da268f8aa329088317cea698fdeb26a2",
     "grade": true,
     "grade_id": "cell-685a4e4330f23a90",
     "locked": true,
     "points": 1,
     "schema_version": 3,
     "solution": false
    }
   },
   "outputs": [],
   "source": [
    "from hashlib import sha1\n",
    "assert sha1(str(type(knn_spec is None)).encode(\"utf-8\")+b\"ece470fb29b2cdd1\").hexdigest() == \"48fbe634664dbc8124273b0d036908b686cd0804\", \"type of knn_spec is None is not bool. knn_spec is None should be a bool\"\n",
    "assert sha1(str(knn_spec is None).encode(\"utf-8\")+b\"ece470fb29b2cdd1\").hexdigest() == \"84da54d1fba73cc4d5b4aa85601c121c1fe688fb\", \"boolean value of knn_spec is None is not correct\"\n",
    "\n",
    "assert sha1(str(type(knn_spec.n_neighbors)).encode(\"utf-8\")+b\"5794cd4c301ea412\").hexdigest() == \"383f1f0d32b3c25386a39f769fd56525822cc088\", \"type of knn_spec.n_neighbors is not int. Please make sure it is int and not np.int64, etc. You can cast your value into an int using int()\"\n",
    "assert sha1(str(knn_spec.n_neighbors).encode(\"utf-8\")+b\"5794cd4c301ea412\").hexdigest() == \"fecb8ef99847f8dff12222f78816d99acae6b006\", \"value of knn_spec.n_neighbors is not correct\"\n",
    "\n",
    "assert sha1(str(type(knn_spec.algorithm)).encode(\"utf-8\")+b\"af67406ead0f4b7a\").hexdigest() == \"bb41b5f551afe94f89e09a90c89a9b58ca8dbfb2\", \"type of knn_spec.algorithm is not str. knn_spec.algorithm should be an str\"\n",
    "assert sha1(str(len(knn_spec.algorithm)).encode(\"utf-8\")+b\"af67406ead0f4b7a\").hexdigest() == \"ccb4f3b7eb289d82d1f110d54280cf5eae910a3d\", \"length of knn_spec.algorithm is not correct\"\n",
    "assert sha1(str(knn_spec.algorithm.lower()).encode(\"utf-8\")+b\"af67406ead0f4b7a\").hexdigest() == \"18d4ba1f6d6f41e32e2c777d00a1f3d3a3dc55b1\", \"value of knn_spec.algorithm is not correct\"\n",
    "assert sha1(str(knn_spec.algorithm).encode(\"utf-8\")+b\"af67406ead0f4b7a\").hexdigest() == \"18d4ba1f6d6f41e32e2c777d00a1f3d3a3dc55b1\", \"correct string value of knn_spec.algorithm but incorrect case of letters\"\n",
    "\n",
    "print('Success!')"
   ]
  },
  {
   "cell_type": "markdown",
   "metadata": {
    "deletable": false,
    "editable": false,
    "nbgrader": {
     "cell_type": "markdown",
     "checksum": "eb2399b350c7d343589ed39615f585c5",
     "grade": false,
     "grade_id": "cell-5ccafffc3a34805b",
     "locked": true,
     "schema_version": 3,
     "solution": false
    }
   },
   "source": [
    "**Question 3.2**\n",
    "<br> {points: 1}\n",
    "\n",
    "To train the model on the breast cancer dataset, pass `knn_spec` and the `cancer` dataset to the `.fit` function. Specify `Class` as your target variable and the `Symmetry` and `Radius` variables as your predictors. Name your fitted model as `knn_fit`."
   ]
  },
  {
   "cell_type": "code",
   "execution_count": null,
   "metadata": {
    "deletable": false,
    "nbgrader": {
     "cell_type": "code",
     "checksum": "72f73386ec37bfcfb94b48055f369ade",
     "grade": false,
     "grade_id": "cell-cdee2d8667038f6a",
     "locked": false,
     "schema_version": 3,
     "solution": true
    }
   },
   "outputs": [],
   "source": [
    "# X = ___[[\"Symmetry\", ___]]\n",
    "# y = ___[___]\n",
    "# ___ = ___.fit(___, ___)\n",
    "\n",
    "# your code here\n",
    "raise NotImplementedError\n",
    "knn_fit"
   ]
  },
  {
   "cell_type": "code",
   "execution_count": null,
   "metadata": {
    "deletable": false,
    "editable": false,
    "max_height": 100,
    "nbgrader": {
     "cell_type": "code",
     "checksum": "bbf1ce83463ee5cf4b46b778ad1ddcf8",
     "grade": true,
     "grade_id": "cell-f99ed1dee272d06a",
     "locked": true,
     "points": 1,
     "schema_version": 3,
     "solution": false
    }
   },
   "outputs": [],
   "source": [
    "from hashlib import sha1\n",
    "assert sha1(str(type(knn_fit is None)).encode(\"utf-8\")+b\"e08ef1c9f30337a8\").hexdigest() == \"87dd108ffef0ddcd51c1afb4851df3738a2c817e\", \"type of knn_fit is None is not bool. knn_fit is None should be a bool\"\n",
    "assert sha1(str(knn_fit is None).encode(\"utf-8\")+b\"e08ef1c9f30337a8\").hexdigest() == \"a12caf3ffb7408000b1a0718d477f2d7fc302948\", \"boolean value of knn_fit is None is not correct\"\n",
    "\n",
    "assert sha1(str(type(type(knn_fit))).encode(\"utf-8\")+b\"47c19c85d6c2f0d8\").hexdigest() == \"5f7b4de47858863022d4b6f492cac3568c9b4aea\", \"type of type(knn_fit) is not correct\"\n",
    "assert sha1(str(type(knn_fit)).encode(\"utf-8\")+b\"47c19c85d6c2f0d8\").hexdigest() == \"62e2e36c459ea2df9d98fb778bd7a31cf4ca9472\", \"value of type(knn_fit) is not correct\"\n",
    "\n",
    "assert sha1(str(type(knn_fit.classes_)).encode(\"utf-8\")+b\"98d4c8453c449d30\").hexdigest() == \"04ac9fbfe55e23b0a95235a5743797b4e0d9687c\", \"type of knn_fit.classes_ is not correct\"\n",
    "assert sha1(str(knn_fit.classes_).encode(\"utf-8\")+b\"98d4c8453c449d30\").hexdigest() == \"a233a7bcfa517d52f0df61dbb75046ebb6e44d82\", \"value of knn_fit.classes_ is not correct\"\n",
    "\n",
    "assert sha1(str(type(knn_fit.effective_metric_)).encode(\"utf-8\")+b\"b9c621ced07b6a5c\").hexdigest() == \"631f905c3e5a44f10893ed59a5229244699676be\", \"type of knn_fit.effective_metric_ is not str. knn_fit.effective_metric_ should be an str\"\n",
    "assert sha1(str(len(knn_fit.effective_metric_)).encode(\"utf-8\")+b\"b9c621ced07b6a5c\").hexdigest() == \"427a3eec673862da457271e6894f041236bab1ab\", \"length of knn_fit.effective_metric_ is not correct\"\n",
    "assert sha1(str(knn_fit.effective_metric_.lower()).encode(\"utf-8\")+b\"b9c621ced07b6a5c\").hexdigest() == \"9bd2ce27f2ab2aba1ad15f5d03f6cf9e220564e8\", \"value of knn_fit.effective_metric_ is not correct\"\n",
    "assert sha1(str(knn_fit.effective_metric_).encode(\"utf-8\")+b\"b9c621ced07b6a5c\").hexdigest() == \"9bd2ce27f2ab2aba1ad15f5d03f6cf9e220564e8\", \"correct string value of knn_fit.effective_metric_ but incorrect case of letters\"\n",
    "\n",
    "assert sha1(str(type(knn_fit.n_features_in_)).encode(\"utf-8\")+b\"69ea75869d918e8c\").hexdigest() == \"6a6b705ffd6d982f6450c62fa05ecf6d40dd549b\", \"type of knn_fit.n_features_in_ is not int. Please make sure it is int and not np.int64, etc. You can cast your value into an int using int()\"\n",
    "assert sha1(str(knn_fit.n_features_in_).encode(\"utf-8\")+b\"69ea75869d918e8c\").hexdigest() == \"02816167ab2f60d30805979a54adbd90f9c04af2\", \"value of knn_fit.n_features_in_ is not correct\"\n",
    "\n",
    "assert sha1(str(type(X.columns.values)).encode(\"utf-8\")+b\"90b14725cf6a853f\").hexdigest() == \"db8a8317cd97d17ad608848034f86a56b7cc3a84\", \"type of X.columns.values is not correct\"\n",
    "assert sha1(str(X.columns.values).encode(\"utf-8\")+b\"90b14725cf6a853f\").hexdigest() == \"97be04ceca2419960ab6d2a24b37a9f93bb98a80\", \"value of X.columns.values is not correct\"\n",
    "\n",
    "assert sha1(str(type(y.name)).encode(\"utf-8\")+b\"176786d91ba9d122\").hexdigest() == \"31e433253d80b49323566cad71aa16d3668cf033\", \"type of y.name is not str. y.name should be an str\"\n",
    "assert sha1(str(len(y.name)).encode(\"utf-8\")+b\"176786d91ba9d122\").hexdigest() == \"9a650df429bc058a75ea749a3c13b39c3a0f8e23\", \"length of y.name is not correct\"\n",
    "assert sha1(str(y.name.lower()).encode(\"utf-8\")+b\"176786d91ba9d122\").hexdigest() == \"3e29834a964969e03564cf28df373b684bd829f6\", \"value of y.name is not correct\"\n",
    "assert sha1(str(y.name).encode(\"utf-8\")+b\"176786d91ba9d122\").hexdigest() == \"d9daebd2c6de7b5beac194a63581f0cff7f4b30b\", \"correct string value of y.name but incorrect case of letters\"\n",
    "\n",
    "assert sha1(str(type(sum(X.Symmetry))).encode(\"utf-8\")+b\"70a0b685feb53849\").hexdigest() == \"4a5f838e2db3646ff3aab4228509d7ac4fc2e8c6\", \"type of sum(X.Symmetry) is not float. Please make sure it is float and not np.float64, etc. You can cast your value into a float using float()\"\n",
    "assert sha1(str(round(sum(X.Symmetry), 2)).encode(\"utf-8\")+b\"70a0b685feb53849\").hexdigest() == \"382cc22cfb1cc00c059ea9188d5c4bff6def6cf3\", \"value of sum(X.Symmetry) is not correct (rounded to 2 decimal places)\"\n",
    "\n",
    "assert sha1(str(type(sum(X.Radius))).encode(\"utf-8\")+b\"c278a3102c42e36d\").hexdigest() == \"99238d2116affc72b739a8a8d7ef1eff53d7c771\", \"type of sum(X.Radius) is not float. Please make sure it is float and not np.float64, etc. You can cast your value into a float using float()\"\n",
    "assert sha1(str(round(sum(X.Radius), 2)).encode(\"utf-8\")+b\"c278a3102c42e36d\").hexdigest() == \"780032d4e0e1cee99da5a8af4d1126520d6ed691\", \"value of sum(X.Radius) is not correct (rounded to 2 decimal places)\"\n",
    "\n",
    "print('Success!')"
   ]
  },
  {
   "cell_type": "markdown",
   "metadata": {
    "deletable": false,
    "editable": false,
    "nbgrader": {
     "cell_type": "markdown",
     "checksum": "247c7c6fb6c0a8485a26007733e7e0d6",
     "grade": false,
     "grade_id": "cell-51e9956deb5ca6fd",
     "locked": true,
     "schema_version": 3,
     "solution": false,
     "task": false
    }
   },
   "source": [
    "**Question 3.3**\n",
    "<br>{points: 1}\n",
    "\n",
    "Now we will make our prediction on the `Class` of a new observation with a `Symmetry` of 1 and a `Radius` of 0. First, create a dataframe with these variables and values and call it `new_obs`. Next, use the `.predict` function to obtain our prediction by passing `knn_fit` and `new_obs` to it. Name your predicted class as `class_prediction`."
   ]
  },
  {
   "cell_type": "code",
   "execution_count": null,
   "metadata": {
    "deletable": false,
    "nbgrader": {
     "cell_type": "code",
     "checksum": "95b6b6409bbe8ad405dd630070e68dc7",
     "grade": false,
     "grade_id": "cell-29520122db413f38",
     "locked": false,
     "schema_version": 3,
     "solution": true,
     "task": false
    }
   },
   "outputs": [],
   "source": [
    "# ___ = pd.DataFrame([[1, 0]], columns=[___, ___])\n",
    "# ___ = ___.predict(___)\n",
    "\n",
    "# your code here\n",
    "raise NotImplementedError\n",
    "class_prediction"
   ]
  },
  {
   "cell_type": "code",
   "execution_count": null,
   "metadata": {
    "deletable": false,
    "editable": false,
    "max_height": 100,
    "nbgrader": {
     "cell_type": "code",
     "checksum": "34f95dd518e280b3fbeee41b2cf766e5",
     "grade": true,
     "grade_id": "cell-8ccf0ef821e9d0de",
     "locked": true,
     "points": 1,
     "schema_version": 3,
     "solution": false,
     "task": false
    }
   },
   "outputs": [],
   "source": [
    "from hashlib import sha1\n",
    "assert sha1(str(type(new_obs is None)).encode(\"utf-8\")+b\"3ca66df5fa5db6f9\").hexdigest() == \"feb6cee79df5fee67613f8478728352ad99e464b\", \"type of new_obs is None is not bool. new_obs is None should be a bool\"\n",
    "assert sha1(str(new_obs is None).encode(\"utf-8\")+b\"3ca66df5fa5db6f9\").hexdigest() == \"08b7a2017f7f8610ae97a824ea16cbb9afa023b9\", \"boolean value of new_obs is None is not correct\"\n",
    "\n",
    "assert sha1(str(type(new_obs)).encode(\"utf-8\")+b\"7c60cfe67bb8ebef\").hexdigest() == \"fb9e0e136817949292d7b2872d8743a3bc1d668b\", \"type of type(new_obs) is not correct\"\n",
    "\n",
    "assert sha1(str(type(new_obs.Symmetry.values)).encode(\"utf-8\")+b\"882171ed89175ad4\").hexdigest() == \"3b03d4018266f7b8b3a42d92271033b4fe7a6e5d\", \"type of new_obs.Symmetry.values is not correct\"\n",
    "assert sha1(str(new_obs.Symmetry.values).encode(\"utf-8\")+b\"882171ed89175ad4\").hexdigest() == \"81cfcb21309005df1cb314605d96c7381377cd99\", \"value of new_obs.Symmetry.values is not correct\"\n",
    "\n",
    "assert sha1(str(type(new_obs.Radius.values)).encode(\"utf-8\")+b\"b120539c124c2290\").hexdigest() == \"aa6da03c8511dbeca07225dbc13b684b743b2f76\", \"type of new_obs.Radius.values is not correct\"\n",
    "assert sha1(str(new_obs.Radius.values).encode(\"utf-8\")+b\"b120539c124c2290\").hexdigest() == \"52f3bde627c48105a063e9ef2812f7ea382ef30a\", \"value of new_obs.Radius.values is not correct\"\n",
    "\n",
    "assert sha1(str(type(class_prediction is None)).encode(\"utf-8\")+b\"063ff54f46bb21c5\").hexdigest() == \"dd7a4fbc3b81a790f6abaff8a581d5e2152b1a51\", \"type of class_prediction is None is not bool. class_prediction is None should be a bool\"\n",
    "assert sha1(str(class_prediction is None).encode(\"utf-8\")+b\"063ff54f46bb21c5\").hexdigest() == \"dbe33fcc0d9afe8c52f41a97fbe2f2bbc118656b\", \"boolean value of class_prediction is None is not correct\"\n",
    "\n",
    "assert sha1(str(type(class_prediction)).encode(\"utf-8\")+b\"8a91245f39f87056\").hexdigest() == \"fdfdef7f330b1aa16b0c7364b2398b3dacde8361\", \"type of class_prediction is not correct\"\n",
    "assert sha1(str(class_prediction).encode(\"utf-8\")+b\"8a91245f39f87056\").hexdigest() == \"aa726abc71f2a02041b8b7fe049e99f2813f7adb\", \"value of class_prediction is not correct\"\n",
    "\n",
    "print('Success!')"
   ]
  },
  {
   "cell_type": "markdown",
   "metadata": {
    "deletable": false,
    "editable": false,
    "nbgrader": {
     "cell_type": "markdown",
     "checksum": "766b5be770dafd182ab615790f809c4d",
     "grade": false,
     "grade_id": "cell-df0b5140effdf82e",
     "locked": true,
     "schema_version": 3,
     "solution": false
    }
   },
   "source": [
    "**Question 3.4**\n",
    "<br> {points: 1}\n",
    "\n",
    "Let's perform K-nearest neighbour classification again, but with three predictors. Use the `scikit-learn` package and `K = 7` to classify a new observation where we measure `Symmetry = 1`, `Radius = 0` and `Concavity = 1`. Use the scaffolding from **Questions 3.2** and **3.3** to help you.\n",
    "\n",
    "- Pass the same `knn_spec` from before to `fit`, but this time specify `Symmetry`, `Radius`, and `Concavity` as the predictors. Save the predictor as `X_2` and the target as `y_2`. Store the output in `knn_fit_2`. \n",
    "- store the new observation values in an object called `new_obs_2`\n",
    "- store the output of `predict` in an object called `class_prediction_2`"
   ]
  },
  {
   "cell_type": "code",
   "execution_count": null,
   "metadata": {
    "deletable": false,
    "nbgrader": {
     "cell_type": "code",
     "checksum": "1fe1b45ae173c6b6944a1ad13611fe34",
     "grade": false,
     "grade_id": "cell-9ebae1c9d403b859",
     "locked": false,
     "schema_version": 3,
     "solution": true
    }
   },
   "outputs": [],
   "source": [
    "# your code here\n",
    "raise NotImplementedError"
   ]
  },
  {
   "cell_type": "code",
   "execution_count": null,
   "metadata": {
    "deletable": false,
    "editable": false,
    "max_height": 100,
    "nbgrader": {
     "cell_type": "code",
     "checksum": "aa30f42fe05d4991adbe321958721424",
     "grade": true,
     "grade_id": "cell-ae8bad16e80bdfef",
     "locked": true,
     "points": 1,
     "schema_version": 3,
     "solution": false
    }
   },
   "outputs": [],
   "source": [
    "from hashlib import sha1\n",
    "assert sha1(str(type(knn_fit_2 is None)).encode(\"utf-8\")+b\"2432ba68775ef70a\").hexdigest() == \"62e765f2494934d407814d845a0d15223e1a6297\", \"type of knn_fit_2 is None is not bool. knn_fit_2 is None should be a bool\"\n",
    "assert sha1(str(knn_fit_2 is None).encode(\"utf-8\")+b\"2432ba68775ef70a\").hexdigest() == \"f5b1bc2ba5e69f72c9e806c236bba145350dec34\", \"boolean value of knn_fit_2 is None is not correct\"\n",
    "\n",
    "assert sha1(str(type(knn_fit_2.kneighbors)).encode(\"utf-8\")+b\"67e0bf5998ed66a3\").hexdigest() == \"f70f7fe7f270280bae416bd0346275b6b921ef7b\", \"type of knn_fit_2.kneighbors is not correct\"\n",
    "assert sha1(str(knn_fit_2.kneighbors).encode(\"utf-8\")+b\"67e0bf5998ed66a3\").hexdigest() == \"929bca434195228a72cca6da50e213393a701e37\", \"value of knn_fit_2.kneighbors is not correct\"\n",
    "\n",
    "assert sha1(str(type(knn_fit_2.effective_metric_)).encode(\"utf-8\")+b\"a446d47012f755cc\").hexdigest() == \"56b2eea42cc1d4869979ec9191e6ec2b85aa4424\", \"type of knn_fit_2.effective_metric_ is not str. knn_fit_2.effective_metric_ should be an str\"\n",
    "assert sha1(str(len(knn_fit_2.effective_metric_)).encode(\"utf-8\")+b\"a446d47012f755cc\").hexdigest() == \"7ba95d88fb09840b57e82d87ef5b994b9faa1074\", \"length of knn_fit_2.effective_metric_ is not correct\"\n",
    "assert sha1(str(knn_fit_2.effective_metric_.lower()).encode(\"utf-8\")+b\"a446d47012f755cc\").hexdigest() == \"cf13567cf76e8e0d6d1e8eb992314e1b1d027689\", \"value of knn_fit_2.effective_metric_ is not correct\"\n",
    "assert sha1(str(knn_fit_2.effective_metric_).encode(\"utf-8\")+b\"a446d47012f755cc\").hexdigest() == \"cf13567cf76e8e0d6d1e8eb992314e1b1d027689\", \"correct string value of knn_fit_2.effective_metric_ but incorrect case of letters\"\n",
    "\n",
    "assert sha1(str(type(type(knn_fit_2))).encode(\"utf-8\")+b\"59dcd785b9cce531\").hexdigest() == \"a083d87e3e04af8be6f15b305174bf25ac7bd449\", \"type of type(knn_fit_2) is not correct\"\n",
    "assert sha1(str(type(knn_fit_2)).encode(\"utf-8\")+b\"59dcd785b9cce531\").hexdigest() == \"aca34b45062a3b74b9797a3f80e6c3ae22c0a3cc\", \"value of type(knn_fit_2) is not correct\"\n",
    "\n",
    "assert sha1(str(type(knn_fit_2.n_features_in_)).encode(\"utf-8\")+b\"91ce0fb909e7556e\").hexdigest() == \"676bad34fa32eb5404bb2019dc751c15810e694f\", \"type of knn_fit_2.n_features_in_ is not int. Please make sure it is int and not np.int64, etc. You can cast your value into an int using int()\"\n",
    "assert sha1(str(knn_fit_2.n_features_in_).encode(\"utf-8\")+b\"91ce0fb909e7556e\").hexdigest() == \"4ba37b707c5bb9750b2aea0536ace80483e6603c\", \"value of knn_fit_2.n_features_in_ is not correct\"\n",
    "\n",
    "assert sha1(str(type(X_2.columns.values)).encode(\"utf-8\")+b\"999633db26e36912\").hexdigest() == \"243424ac7f620f2ac49bafe48fb1462c8aa42763\", \"type of X_2.columns.values is not correct\"\n",
    "assert sha1(str(X_2.columns.values).encode(\"utf-8\")+b\"999633db26e36912\").hexdigest() == \"49e083c8bd2213464a9283200a5a5e89b3ec0c74\", \"value of X_2.columns.values is not correct\"\n",
    "\n",
    "assert sha1(str(type(y_2.name)).encode(\"utf-8\")+b\"c981d5ca8967ed0f\").hexdigest() == \"f097dd3aed9993b6421ab638fd14fc3d6a2e99b1\", \"type of y_2.name is not str. y_2.name should be an str\"\n",
    "assert sha1(str(len(y_2.name)).encode(\"utf-8\")+b\"c981d5ca8967ed0f\").hexdigest() == \"d4656595ddc79718908d6d7b806967252eaa7e76\", \"length of y_2.name is not correct\"\n",
    "assert sha1(str(y_2.name.lower()).encode(\"utf-8\")+b\"c981d5ca8967ed0f\").hexdigest() == \"128bd470a3677ef8bf04f4687ea3508fe8a7211f\", \"value of y_2.name is not correct\"\n",
    "assert sha1(str(y_2.name).encode(\"utf-8\")+b\"c981d5ca8967ed0f\").hexdigest() == \"556148e4317e2e41b90c2e129414eefef3a06290\", \"correct string value of y_2.name but incorrect case of letters\"\n",
    "\n",
    "assert sha1(str(type(y_2.values)).encode(\"utf-8\")+b\"4030550c18070c01\").hexdigest() == \"cdb6d701235b7903dd41f93e8c2e5639f42c7d4f\", \"type of y_2.values is not correct\"\n",
    "assert sha1(str(y_2.values).encode(\"utf-8\")+b\"4030550c18070c01\").hexdigest() == \"aed338b28c656984ef1aa03966830264f9c54c11\", \"value of y_2.values is not correct\"\n",
    "\n",
    "assert sha1(str(type(sum(X_2.Symmetry))).encode(\"utf-8\")+b\"ef7d74f6d2098ba6\").hexdigest() == \"8acb3496310b46c2e5a10d9858da708549d5b6a5\", \"type of sum(X_2.Symmetry) is not float. Please make sure it is float and not np.float64, etc. You can cast your value into a float using float()\"\n",
    "assert sha1(str(round(sum(X_2.Symmetry), 2)).encode(\"utf-8\")+b\"ef7d74f6d2098ba6\").hexdigest() == \"87ab7b93746505730957a859a2f38e1227bed09a\", \"value of sum(X_2.Symmetry) is not correct (rounded to 2 decimal places)\"\n",
    "\n",
    "assert sha1(str(type(sum(X_2.Radius))).encode(\"utf-8\")+b\"a3a5f539499c3b7f\").hexdigest() == \"57165a8a2381801f664a98f5e82c83c2cb5c7f5c\", \"type of sum(X_2.Radius) is not float. Please make sure it is float and not np.float64, etc. You can cast your value into a float using float()\"\n",
    "assert sha1(str(round(sum(X_2.Radius), 2)).encode(\"utf-8\")+b\"a3a5f539499c3b7f\").hexdigest() == \"6247fcd133ebd210624ba0421e9f0bb83a727f4b\", \"value of sum(X_2.Radius) is not correct (rounded to 2 decimal places)\"\n",
    "\n",
    "assert sha1(str(type(sum(X_2.Concavity))).encode(\"utf-8\")+b\"a44357a6b79beeee\").hexdigest() == \"b4f0aaa92ca8a24c66e8313e4785635dd6d2902d\", \"type of sum(X_2.Concavity) is not float. Please make sure it is float and not np.float64, etc. You can cast your value into a float using float()\"\n",
    "assert sha1(str(round(sum(X_2.Concavity), 2)).encode(\"utf-8\")+b\"a44357a6b79beeee\").hexdigest() == \"27f0a28716d555f4a6c9a1ae832f7ab55b43b594\", \"value of sum(X_2.Concavity) is not correct (rounded to 2 decimal places)\"\n",
    "\n",
    "assert sha1(str(type(new_obs_2 is None)).encode(\"utf-8\")+b\"143e7e75e2b63c46\").hexdigest() == \"546d3e556c12ed3576fa3b9fd098bbd871d1abfd\", \"type of new_obs_2 is None is not bool. new_obs_2 is None should be a bool\"\n",
    "assert sha1(str(new_obs_2 is None).encode(\"utf-8\")+b\"143e7e75e2b63c46\").hexdigest() == \"51852f811599279d7a63f110031e943908662d5c\", \"boolean value of new_obs_2 is None is not correct\"\n",
    "\n",
    "assert sha1(str(type(new_obs_2)).encode(\"utf-8\")+b\"66295b00ddcd0ce5\").hexdigest() == \"323dda3f832c1377b578fbb0954b6e84901e46a8\", \"type of type(new_obs_2) is not correct\"\n",
    "\n",
    "assert sha1(str(type(new_obs_2.Symmetry.values)).encode(\"utf-8\")+b\"3eb59a3701b69826\").hexdigest() == \"18a9a75caa6ebaf050676265e8e1972366425cc0\", \"type of new_obs_2.Symmetry.values is not correct\"\n",
    "assert sha1(str(new_obs_2.Symmetry.values).encode(\"utf-8\")+b\"3eb59a3701b69826\").hexdigest() == \"457739b438aea93566c8523d26926ed540741bdf\", \"value of new_obs_2.Symmetry.values is not correct\"\n",
    "\n",
    "assert sha1(str(type(new_obs_2.Radius.values)).encode(\"utf-8\")+b\"7c3f138c6a020da8\").hexdigest() == \"5d6a5f0886bf425f0936af10320d2d5dc2f3293b\", \"type of new_obs_2.Radius.values is not correct\"\n",
    "assert sha1(str(new_obs_2.Radius.values).encode(\"utf-8\")+b\"7c3f138c6a020da8\").hexdigest() == \"9ec3271d0332664b78b16a7fb42ff098c71391e0\", \"value of new_obs_2.Radius.values is not correct\"\n",
    "\n",
    "assert sha1(str(type(new_obs_2.Concavity.values)).encode(\"utf-8\")+b\"3ae5b5e68e3ac236\").hexdigest() == \"6b2e63879be3249f93ae1cd2187ffd536e525528\", \"type of new_obs_2.Concavity.values is not correct\"\n",
    "assert sha1(str(new_obs_2.Concavity.values).encode(\"utf-8\")+b\"3ae5b5e68e3ac236\").hexdigest() == \"541322a2a07731c4f19b21ae32323df85f047d38\", \"value of new_obs_2.Concavity.values is not correct\"\n",
    "\n",
    "assert sha1(str(type(class_prediction_2 is None)).encode(\"utf-8\")+b\"f693d2247e455952\").hexdigest() == \"88a1a0001e5fa5c0e2ef078c80a07864e6826478\", \"type of class_prediction_2 is None is not bool. class_prediction_2 is None should be a bool\"\n",
    "assert sha1(str(class_prediction_2 is None).encode(\"utf-8\")+b\"f693d2247e455952\").hexdigest() == \"941840f2ce627b95984e92e88273c6873737ea73\", \"boolean value of class_prediction_2 is None is not correct\"\n",
    "\n",
    "assert sha1(str(type(class_prediction_2)).encode(\"utf-8\")+b\"3f1d675346fca6c5\").hexdigest() == \"4914ba88f263b12190ef2784ea9c004bc090209f\", \"type of class_prediction_2 is not correct\"\n",
    "assert sha1(str(class_prediction_2).encode(\"utf-8\")+b\"3f1d675346fca6c5\").hexdigest() == \"a755efa57952f5f10ed6c7ec0b6f5c7258fa0a40\", \"value of class_prediction_2 is not correct\"\n",
    "\n",
    "print('Success!')"
   ]
  },
  {
   "cell_type": "markdown",
   "metadata": {
    "deletable": false,
    "editable": false,
    "nbgrader": {
     "cell_type": "markdown",
     "checksum": "610e1dbbc94f19c413440d50e09c8269",
     "grade": false,
     "grade_id": "cell-5758f98a43d755fe",
     "locked": true,
     "schema_version": 3,
     "solution": false,
     "task": false
    }
   },
   "source": [
    "**Question 3.5**\n",
    "<br>{points: 1}\n",
    "\n",
    "Finally, we will perform K-nearest neighbour classification again, using the `scikit-learn` package and `K = 7` to classify a new observation where we use **all the predictors** in our data set (we give you the values in the code below). \n",
    "\n",
    "But we first have to do one important thing: we need to remove the ID variable from the analysis (it's not a numerical measurement that we should use for classification). Thankfully, `scikit-learn` provides a nice way of combining data preprocessing and training into a single consistent pipeline.\n",
    "\n",
    "We will first create a preprocessor to remove the `ID` variable using the `drop` preprocessing step. Since we aren't doing any preprocessing to other columns, we will pass them through using the `passthrough` preprocessing step. Do so below using the provided scaffolding. Name the preprocessor object `knn_preprocessor`.\n"
   ]
  },
  {
   "cell_type": "code",
   "execution_count": null,
   "metadata": {
    "deletable": false,
    "nbgrader": {
     "cell_type": "code",
     "checksum": "6557903b7ecdd46149ef32091f7972c7",
     "grade": false,
     "grade_id": "cell-4b45e92db544f078",
     "locked": false,
     "schema_version": 3,
     "solution": true,
     "task": false
    }
   },
   "outputs": [],
   "source": [
    "# ___ = make_column_transformer(\n",
    "#     (\n",
    "#         \"passthrough\",\n",
    "#         [\n",
    "#             \"Radius\",\n",
    "#             \"Texture\",\n",
    "#             \"Perimeter\",\n",
    "#             \"Area\",\n",
    "#             \"Smoothness\",\n",
    "#             \"Compactness\",\n",
    "#             \"Concavity\",\n",
    "#             \"Concave_points\",\n",
    "#             \"Symmetry\",\n",
    "#             \"Fractal_dimension\",\n",
    "#         ],\n",
    "#     ),\n",
    "#     (\"drop\", [___]),\n",
    "# )\n",
    "\n",
    "# your code here\n",
    "raise NotImplementedError\n",
    "knn_preprocessor"
   ]
  },
  {
   "cell_type": "code",
   "execution_count": null,
   "metadata": {
    "deletable": false,
    "editable": false,
    "max_height": 100,
    "nbgrader": {
     "cell_type": "code",
     "checksum": "37b721b7a5eee0ce9d3815eb7aa24782",
     "grade": true,
     "grade_id": "cell-c6b6f36644c1de32",
     "locked": true,
     "points": 1,
     "schema_version": 3,
     "solution": false,
     "task": false
    }
   },
   "outputs": [],
   "source": [
    "from hashlib import sha1\n",
    "assert sha1(str(type(knn_preprocessor is None)).encode(\"utf-8\")+b\"63f2cb3adecff0a0\").hexdigest() == \"599e614e4dbecd22c7e6e307becacc5a1a1288ce\", \"type of knn_preprocessor is None is not bool. knn_preprocessor is None should be a bool\"\n",
    "assert sha1(str(knn_preprocessor is None).encode(\"utf-8\")+b\"63f2cb3adecff0a0\").hexdigest() == \"afc2e54ab47257f130ab5691ba05ed41a13c4af2\", \"boolean value of knn_preprocessor is None is not correct\"\n",
    "\n",
    "assert sha1(str(type(type(knn_preprocessor))).encode(\"utf-8\")+b\"656e5131596f3915\").hexdigest() == \"6b46726e72f1c3fda58c5c379ad57c7dd3fcb69d\", \"type of type(knn_preprocessor) is not correct\"\n",
    "assert sha1(str(type(knn_preprocessor)).encode(\"utf-8\")+b\"656e5131596f3915\").hexdigest() == \"c09763b3fa91fac3623a61bf15a86f76556d61e8\", \"value of type(knn_preprocessor) is not correct\"\n",
    "\n",
    "assert sha1(str(type(knn_preprocessor.get_feature_names_out)).encode(\"utf-8\")+b\"4f22978ad547f87c\").hexdigest() == \"696cb469484e68e740ee217d0d7c51cbb3701342\", \"type of knn_preprocessor.get_feature_names_out is not correct\"\n",
    "assert sha1(str(knn_preprocessor.get_feature_names_out).encode(\"utf-8\")+b\"4f22978ad547f87c\").hexdigest() == \"64b95af30768a1782bb344ceb16530e4241cc6ab\", \"value of knn_preprocessor.get_feature_names_out is not correct\"\n",
    "\n",
    "print('Success!')"
   ]
  },
  {
   "cell_type": "markdown",
   "metadata": {
    "deletable": false,
    "editable": false,
    "nbgrader": {
     "cell_type": "markdown",
     "checksum": "cf7f976e89a5c9e9f17e07358a223cf4",
     "grade": false,
     "grade_id": "cell-f2205e10137bba29",
     "locked": true,
     "schema_version": 3,
     "solution": false,
     "task": false
    }
   },
   "source": [
    "**Question 3.6**\n",
    "<br> {points: 1}\n",
    "\n",
    "Create a **pipeline** that includes the new preprocessor (`knn_preprocessor`) and the model specification (`knn_spec`) using the scaffolding below. Name the pipeline object `knn_pipeline`."
   ]
  },
  {
   "cell_type": "code",
   "execution_count": null,
   "metadata": {
    "deletable": false,
    "nbgrader": {
     "cell_type": "code",
     "checksum": "3d4ab70626ac09d16b3e7a6dc453fdfe",
     "grade": false,
     "grade_id": "cell-ad1115a24af76299",
     "locked": false,
     "schema_version": 3,
     "solution": true,
     "task": false
    }
   },
   "outputs": [],
   "source": [
    "# ___ = make_pipeline(___, ___)\n",
    "\n",
    "# your code here\n",
    "raise NotImplementedError\n",
    "knn_pipeline"
   ]
  },
  {
   "cell_type": "code",
   "execution_count": null,
   "metadata": {
    "deletable": false,
    "editable": false,
    "max_height": 100,
    "nbgrader": {
     "cell_type": "code",
     "checksum": "2ae7d03ab22b7b5bd531163105825909",
     "grade": true,
     "grade_id": "cell-a091b39308a96640",
     "locked": true,
     "points": 1,
     "schema_version": 3,
     "solution": false,
     "task": false
    }
   },
   "outputs": [],
   "source": [
    "from hashlib import sha1\n",
    "assert sha1(str(type(knn_pipeline is None)).encode(\"utf-8\")+b\"757ce837cd05eb04\").hexdigest() == \"340b98a68da0140442fdd530f59e58fac4a16395\", \"type of knn_pipeline is None is not bool. knn_pipeline is None should be a bool\"\n",
    "assert sha1(str(knn_pipeline is None).encode(\"utf-8\")+b\"757ce837cd05eb04\").hexdigest() == \"b27a28add89d938d16ca501c9f90297a41235fdc\", \"boolean value of knn_pipeline is None is not correct\"\n",
    "\n",
    "assert sha1(str(type(type(knn_pipeline))).encode(\"utf-8\")+b\"b9a3685dd918b562\").hexdigest() == \"906e061f8dca917a2ca15fe1664c65afff88a644\", \"type of type(knn_pipeline) is not correct\"\n",
    "assert sha1(str(type(knn_pipeline)).encode(\"utf-8\")+b\"b9a3685dd918b562\").hexdigest() == \"a3e385d9660b590dc2093156d41cbff8721f4931\", \"value of type(knn_pipeline) is not correct\"\n",
    "\n",
    "assert sha1(str(type(knn_pipeline.named_steps.kneighborsclassifier.n_neighbors)).encode(\"utf-8\")+b\"324aa90b879fe613\").hexdigest() == \"8d462bafa3975daacc652f52c8eb905a4f33310b\", \"type of knn_pipeline.named_steps.kneighborsclassifier.n_neighbors is not int. Please make sure it is int and not np.int64, etc. You can cast your value into an int using int()\"\n",
    "assert sha1(str(knn_pipeline.named_steps.kneighborsclassifier.n_neighbors).encode(\"utf-8\")+b\"324aa90b879fe613\").hexdigest() == \"06d16b6d4ff770bce42bee6409c3d60f6a3c4cdb\", \"value of knn_pipeline.named_steps.kneighborsclassifier.n_neighbors is not correct\"\n",
    "\n",
    "print('Success!')"
   ]
  },
  {
   "cell_type": "markdown",
   "metadata": {
    "deletable": false,
    "editable": false,
    "nbgrader": {
     "cell_type": "markdown",
     "checksum": "ad8fe156d4918254e41e1606f024227d",
     "grade": false,
     "grade_id": "cell-f5f5e1eb6b4eae96",
     "locked": true,
     "schema_version": 3,
     "solution": false,
     "task": false
    }
   },
   "source": [
    "**Question 3.7**\n",
    "{points: 1}\n",
    "\n",
    "Finally, `fit` the pipeline and predict the class label for the new observation named `new_obs_all`. Name the `fit` object `knn_fit_all`, and the class prediction `class_prediction_all`. Name the new predictor as `X_3` and the new target as `y_3`."
   ]
  },
  {
   "cell_type": "code",
   "execution_count": null,
   "metadata": {
    "deletable": false,
    "nbgrader": {
     "cell_type": "code",
     "checksum": "de540dbaf10c7e0c1ed2d9e6fec8bc78",
     "grade": false,
     "grade_id": "cell-1a574f5403a0315e",
     "locked": false,
     "schema_version": 3,
     "solution": true
    }
   },
   "outputs": [],
   "source": [
    "new_obs_all = pd.DataFrame(\n",
    "    [[None, 0, 0, 0, 0, 0.5, 0, 1, 0, 1, 0]],\n",
    "    columns=[\n",
    "        \"ID\",\n",
    "        \"Radius\",\n",
    "        \"Texture\",\n",
    "        \"Perimeter\",\n",
    "        \"Area\",\n",
    "        \"Smoothness\",\n",
    "        \"Compactness\",\n",
    "        \"Concavity\",\n",
    "        \"Concave_points\",\n",
    "        \"Symmetry\",\n",
    "        \"Fractal_dimension\",\n",
    "    ],\n",
    ")\n",
    "# X_3 = cancer.drop(columns=[___])\n",
    "# y_3 = cancer[___]\n",
    "# ___ = knn_pipeline.fit(___, ___)\n",
    "# ___ = knn_fit_all.____(____)\n",
    "\n",
    "# your code here\n",
    "raise NotImplementedError\n",
    "class_prediction_all"
   ]
  },
  {
   "cell_type": "code",
   "execution_count": null,
   "metadata": {
    "deletable": false,
    "editable": false,
    "max_height": 100,
    "nbgrader": {
     "cell_type": "code",
     "checksum": "2bcdf84fef1dac0c5236efcfb1ee5789",
     "grade": true,
     "grade_id": "cell-036a77a7a92f0c3d",
     "locked": true,
     "points": 1,
     "schema_version": 3,
     "solution": false
    }
   },
   "outputs": [],
   "source": [
    "from hashlib import sha1\n",
    "assert sha1(str(type(class_prediction_all)).encode(\"utf-8\")+b\"36c4c044fafeac5c\").hexdigest() == \"84eed37d0ad5966f69da686f62301dbd35ea9dab\", \"type of class_prediction_all is not correct\"\n",
    "assert sha1(str(class_prediction_all).encode(\"utf-8\")+b\"36c4c044fafeac5c\").hexdigest() == \"21ba26b4cd83eb5175c212e96d25ef34caba0ff4\", \"value of class_prediction_all is not correct\"\n",
    "\n",
    "print('Success!')"
   ]
  },
  {
   "cell_type": "markdown",
   "metadata": {
    "deletable": false,
    "editable": false,
    "nbgrader": {
     "cell_type": "markdown",
     "checksum": "9e58b841ef09ca686d209a1e2317eb80",
     "grade": false,
     "grade_id": "cell-9fe84a61d314cfed",
     "locked": true,
     "schema_version": 3,
     "solution": false,
     "task": false
    }
   },
   "source": [
    "## 4. Reviewing Some Concepts\n",
    "\n",
    "We will conclude with two multiple choice questions to reinforce some key concepts when doing classification with K-nearest neighbours."
   ]
  },
  {
   "cell_type": "markdown",
   "metadata": {
    "deletable": false,
    "editable": false,
    "nbgrader": {
     "cell_type": "markdown",
     "checksum": "486de8a86ebe4009219df6b5358bb550",
     "grade": false,
     "grade_id": "cell-b904a53540f32475",
     "locked": true,
     "schema_version": 3,
     "solution": false
    }
   },
   "source": [
    "**Question 4.0**\n",
    "<br> {points: 1}\n",
    "\n",
    "In the K-nearest neighbours classification algorithm, we calculate the distance between the new observation (for which we are trying to predict the class/label/outcome) and each of the observations in the training data set so that we can:\n",
    "\n",
    "A. Find the `K` nearest neighbours of the new observation\n",
    "\n",
    "B. Assess how well our model fits the data\n",
    "\n",
    "C. Find outliers\n",
    "\n",
    "D. Assign the new observation to a cluster\n",
    "\n",
    "*Assign your answer (e.g. \"E\") to an object called: `answer4_0`. Make sure your answer is an uppercase letter and is surrounded with quotation marks.*"
   ]
  },
  {
   "cell_type": "code",
   "execution_count": null,
   "metadata": {
    "deletable": false,
    "nbgrader": {
     "cell_type": "code",
     "checksum": "fb615604ca1e21ab81a688c7c0c884a8",
     "grade": false,
     "grade_id": "cell-13d8575850bc1390",
     "locked": false,
     "schema_version": 3,
     "solution": true
    }
   },
   "outputs": [],
   "source": [
    "# your code here\n",
    "raise NotImplementedError"
   ]
  },
  {
   "cell_type": "code",
   "execution_count": null,
   "metadata": {
    "deletable": false,
    "editable": false,
    "max_height": 100,
    "nbgrader": {
     "cell_type": "code",
     "checksum": "05fc33f123b54c33ac009bb17b933b8e",
     "grade": true,
     "grade_id": "cell-437eb5f41aed17bc",
     "locked": true,
     "points": 1,
     "schema_version": 3,
     "solution": false
    }
   },
   "outputs": [],
   "source": [
    "from hashlib import sha1\n",
    "assert sha1(str(type(answer4_0)).encode(\"utf-8\")+b\"55a8426a77aec1be\").hexdigest() == \"d1f937c1ae8f8fd2d68da8b423fad38b8a557164\", \"type of answer4_0 is not str. answer4_0 should be an str\"\n",
    "assert sha1(str(len(answer4_0)).encode(\"utf-8\")+b\"55a8426a77aec1be\").hexdigest() == \"0e3f6e35cc10c2e33072cdcdfa8ab2437c2c29b5\", \"length of answer4_0 is not correct\"\n",
    "assert sha1(str(answer4_0.lower()).encode(\"utf-8\")+b\"55a8426a77aec1be\").hexdigest() == \"4141c66fe8617d42bd6cb42a824f472673d35294\", \"value of answer4_0 is not correct\"\n",
    "assert sha1(str(answer4_0).encode(\"utf-8\")+b\"55a8426a77aec1be\").hexdigest() == \"0c69c18c0827a6019316664c9f5faafc8098c0a3\", \"correct string value of answer4_0 but incorrect case of letters\"\n",
    "\n",
    "print('Success!')"
   ]
  },
  {
   "cell_type": "markdown",
   "metadata": {
    "deletable": false,
    "editable": false,
    "nbgrader": {
     "cell_type": "markdown",
     "checksum": "76ab4ea5bf55a3e8c0235e5ce82c7ff6",
     "grade": false,
     "grade_id": "cell-a60b11b11c972d2c",
     "locked": true,
     "schema_version": 3,
     "solution": false,
     "task": false
    }
   },
   "source": [
    "**Question 4.1**\n",
    "<br> {points: 1}\n",
    "\n",
    "In the K-nearest neighbours classification algorithm, we choose the label/class for a new observation by:\n",
    "\n",
    "A. Taking the mean (average value) label/class of the K nearest neighbours \n",
    "\n",
    "B. Taking the median (middle value) label/class of the K nearest neighbours \n",
    "\n",
    "C. Taking the mode (value that appears most often, *i.e.*, the majority vote) label/class of the K nearest neighbours \n",
    "\n",
    "*Assign your answer (e.g., \"E\") to an object called `answer4_1`. Make sure your answer is an uppercase letter and is surrounded with quotation marks.*"
   ]
  },
  {
   "cell_type": "code",
   "execution_count": null,
   "metadata": {
    "deletable": false,
    "nbgrader": {
     "cell_type": "code",
     "checksum": "63c2b6bfa4c158fbdb4b84ed619b1ecc",
     "grade": false,
     "grade_id": "cell-ed504d5d3d6f58ea",
     "locked": false,
     "schema_version": 3,
     "solution": true
    }
   },
   "outputs": [],
   "source": [
    "# your code here\n",
    "raise NotImplementedError"
   ]
  },
  {
   "cell_type": "code",
   "execution_count": null,
   "metadata": {
    "deletable": false,
    "editable": false,
    "max_height": 100,
    "nbgrader": {
     "cell_type": "code",
     "checksum": "2df8fe5e34317b7e2c42253d3f799ef1",
     "grade": true,
     "grade_id": "cell-303f4a3bd9b343f2",
     "locked": true,
     "points": 1,
     "schema_version": 3,
     "solution": false
    }
   },
   "outputs": [],
   "source": [
    "from hashlib import sha1\n",
    "assert sha1(str(type(answer4_1)).encode(\"utf-8\")+b\"0de2e403e197d442\").hexdigest() == \"9122885613d15d290f9f0faa26899289aa8ed003\", \"type of answer4_1 is not str. answer4_1 should be an str\"\n",
    "assert sha1(str(len(answer4_1)).encode(\"utf-8\")+b\"0de2e403e197d442\").hexdigest() == \"ae9242d72485f13f1eebe82c586e60ec35717584\", \"length of answer4_1 is not correct\"\n",
    "assert sha1(str(answer4_1.lower()).encode(\"utf-8\")+b\"0de2e403e197d442\").hexdigest() == \"a62b87956afd9740fad5e1a4226a76be7a3bb077\", \"value of answer4_1 is not correct\"\n",
    "assert sha1(str(answer4_1).encode(\"utf-8\")+b\"0de2e403e197d442\").hexdigest() == \"5168897061e0291959c315ed1b33811a188911c1\", \"correct string value of answer4_1 but incorrect case of letters\"\n",
    "\n",
    "print('Success!')"
   ]
  }
 ],
 "metadata": {
  "kernelspec": {
   "display_name": "Python 3 (ipykernel)",
   "language": "python",
   "name": "python3"
  },
  "language_info": {
   "codemirror_mode": {
    "name": "ipython",
    "version": 3
   },
   "file_extension": ".py",
   "mimetype": "text/x-python",
   "name": "python",
   "nbconvert_exporter": "python",
   "pygments_lexer": "ipython3",
   "version": "3.10.8"
  }
 },
 "nbformat": 4,
 "nbformat_minor": 4
}
