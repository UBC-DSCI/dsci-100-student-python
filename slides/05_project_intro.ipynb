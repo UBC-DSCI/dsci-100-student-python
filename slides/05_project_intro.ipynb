{
 "cells": [
  {
   "cell_type": "markdown",
   "metadata": {
    "editable": true,
    "slideshow": {
     "slide_type": "slide"
    },
    "tags": []
   },
   "source": [
    "# DSCI 100: Introduction to Data Science\n",
    "\n",
    "![](https://plaicraft.ai/PLAICraftTitle.png)\n",
    "\n",
    "## Today: Project kickoff\n",
    "\n",
    "- Overview and requirements\n",
    "- Get a brief understanding of classification and regression (more in the next lecture!)\n",
    "- Project repository setup"
   ]
  },
  {
   "cell_type": "markdown",
   "metadata": {
    "editable": true,
    "slideshow": {
     "slide_type": "slide"
    },
    "tags": []
   },
   "source": [
    "## Project: Predicting Usage of a Video Game Research Server\n",
    "\n",
    "This year we have a **real data science project** with **real stakeholders** (new this semester!)\n",
    "- A group in CS at UBC is interested in understanding how people play video games\n",
    "- They've set up a server running MineCraft and are recording play sessions\n",
    "- Running the server is *not easy*: need to have the right hardware resources, software licenses, recruiting efforts, etc.\n",
    "- Their questions:\n",
    "    - What kinds of player tend to play the most?\n",
    "    - Demand forecasting: when do the most players tend to play?\n",
    "    - Can we tell whether a player will continue to contribute given past play sessions and demographics?\n",
    "- The data:\n",
    "    - Player skill level, demographic information\n",
    "    - Past play sessions\n",
    "\n",
    "## Your task\n",
    "\n",
    "Formulate and answer a **predictive question** about the data. Present the full analysis, from reading the data to communicating results."
   ]
  },
  {
   "cell_type": "markdown",
   "metadata": {
    "editable": true,
    "slideshow": {
     "slide_type": "slide"
    },
    "tags": []
   },
   "source": [
    "- What is *classification*?\n",
    "    - Predict a *class/category* for a new observation/measurement\n",
    "    - Using past observations with *known* class/category\n",
    "    - Learn more in lecture 6 & 7!"
   ]
  },
  {
   "cell_type": "markdown",
   "metadata": {
    "editable": true,
    "slideshow": {
     "slide_type": "fragment"
    },
    "tags": []
   },
   "source": [
    "- What is *regression*?\n",
    "    - Predict a *numerical value* for a new observation/measurement\n",
    "    - Using past observations with *known* numerical value\n",
    "    - Learn more in lecture 8 & 9! (you will have to read ahead if you want to do this!)"
   ]
  },
  {
   "cell_type": "markdown",
   "metadata": {
    "editable": true,
    "slideshow": {
     "slide_type": "slide"
    },
    "tags": []
   },
   "source": [
    "## Deliverables\n",
    "\n",
    "- **Team Contract**\n",
    "- **Project Planning Stage (Individual)**\n",
    "    - all the project details are in this item on Canvas!\n",
    "- **Final Project Report**\n",
    "- **Play Time**\n",
    "    - in exchange for this data, you'll be asked to contribute back to the study by playing *at least 3 hours* (total) over the semester.\n",
    "    - *Note:* The server has **limited capacity** (I think roughly 50 concurrent slots). So if you try to play but receive an error, it's because the cap has been reached. Try again later, you have the whole semester.\n",
    "    - If you enjoy your time, keep playing beyond 3 hours! It's free.\n",
    "    - The group in CS will monitor usage and increase capacity over time if the cap keeps getting hit.\n",
    "\n",
    "See dates on Canvas"
   ]
  },
  {
   "cell_type": "markdown",
   "metadata": {
    "editable": true,
    "slideshow": {
     "slide_type": "slide"
    },
    "tags": []
   },
   "source": [
    "## One Important Note\n",
    "\n",
    "This is new, untested *real data*. So the final conclusion of your project might be \"we couldn't get *anything* out of this data.\"\n",
    "\n",
    "**That's totally fine and is just as valuable as a report that says \"wow look at all the cool things we learned!\"**.\n",
    "\n",
    "Just make sure you:\n",
    "- Critically analyze what happened: *why* things worked, or *why* they didn't\n",
    "- Come up with suggestions for next steps (\"collect this other data to actually see a useful signal!\" or \"this data has a lot of info left over, maybe try a fancier model like X!\")\n"
   ]
  },
  {
   "cell_type": "markdown",
   "metadata": {
    "editable": true,
    "slideshow": {
     "slide_type": "slide"
    },
    "tags": []
   },
   "source": [
    "# Create Repo with Template\n",
    "\n",
    "![](img/group_project/project-template-use_template.png)"
   ]
  },
  {
   "cell_type": "markdown",
   "metadata": {
    "editable": true,
    "slideshow": {
     "slide_type": "slide"
    },
    "tags": []
   },
   "source": [
    "- Template URL: https://github.com/UBC-DSCI/dsci-100-project_template\n",
    "\n",
    "- Click on \"Use this template\"\n",
    "\n",
    "- Why are we doing this?\n",
    "    - jupyter creates temp \"checkpoint\" files (for backup in case issue) in a folder `.ipynb_checkpoints`\n",
    "    - We don't want to version control this file becuase it's not the actual work you want to track in version control\n",
    "    - You only want to version control files that matter, not temporary and backup files\n",
    "\n",
    "- The `.gitignore` file will \"disappear\" on jupyter lab, but you will see it in github\n",
    "\n",
    "- Using Git + Github is optional for the project, but it's by far the easiest way to collaborate effectively."
   ]
  },
  {
   "cell_type": "markdown",
   "metadata": {
    "editable": true,
    "slideshow": {
     "slide_type": "slide"
    },
    "tags": []
   },
   "source": [
    "# Give the project a name\n",
    "\n",
    "![](img/group_project/project-template-create_repository.png)"
   ]
  },
  {
   "cell_type": "markdown",
   "metadata": {
    "editable": true,
    "slideshow": {
     "slide_type": "slide"
    },
    "tags": []
   },
   "source": [
    "# Project Template Setup Recap\n",
    "\n",
    "1. Go to the template repository\n",
    "    - https://github.com/UBC-DSCI/dsci-100-project_template\n",
    "2. Click \"Use this template\" and create a repository with the template repository\n",
    "3. Clone the repository from the owner's repo into their JupyterHub\n",
    "    - https://datasciencebook.ca/version-control.html#cloning-a-repository-using-jupyter\n",
    "    - Note: Put this in your home folder, **DO NOT** clone into your `dsci-100-student` folder. If you do, move it out.\n",
    "    - multiple people can have the same repo name, but within any given user, all the repo names need to be unique\n",
    "    \n",
    "![](img/group_project/project-template-home_folder.png)"
   ]
  },
  {
   "cell_type": "markdown",
   "metadata": {
    "editable": true,
    "slideshow": {
     "slide_type": "slide"
    },
    "tags": []
   },
   "source": [
    "## Activity \\#1: Explore Datasets - Preliminary\n",
    " project assignment details on Canvas\n",
    "- Using what you have learnt in weeks 1-4, read the dataset, take a look at it, and write a short description about the dataset. \n",
    "- Some questions you should try to answer:\n",
    "    - What is the dataset about?\n",
    "    - How many variables are there?\n",
    "    - How many observations are there?\n",
    "## Activity \\#2: Explore Datasets Part 2 - Outcome Variable\n",
    "- Try to answer these questions now:\n",
    "    - Identify the main outcome/categorical/label variable in the dataset.\n",
    "    - How many values/groups are in this variable?\n",
    "    - How many observations are there in each value/group?\n",
    "- Tip: Think about how you are organising your workbook: add more code and markdown cells (and arranged them!) to keep your notebook neat\n",
    "## Activity \\#3: Explore Datasets Part 3 - Visualisations!\n",
    "- Make some visualisations of the outcome variable:\n",
    "    - What does the distribution of the variable look like?\n",
    "    - What relationship does it have with some of the other variables?\n",
    "- Tip: Try using a range of box plots, scatterplots, bar charts, line graphs, etc. "
   ]
  }
 ],
 "metadata": {
  "celltoolbar": "Slideshow",
  "kernelspec": {
   "display_name": "R",
   "language": "R",
   "name": "ir"
  },
  "language_info": {
   "codemirror_mode": "r",
   "file_extension": ".r",
   "mimetype": "text/x-r-source",
   "name": "R",
   "pygments_lexer": "r",
   "version": "4.3.3"
  },
  "rise": {
   "transition": "fade"
  }
 },
 "nbformat": 4,
 "nbformat_minor": 4
}
