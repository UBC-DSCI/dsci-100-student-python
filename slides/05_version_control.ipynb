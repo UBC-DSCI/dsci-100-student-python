{
 "cells": [
  {
   "cell_type": "markdown",
   "metadata": {
    "slideshow": {
     "slide_type": "slide"
    }
   },
   "source": [
    "# DSCI 100 - Introduction to Data Science\n",
    "\n",
    "\n",
    "## Lecture 5 - Collaboration with version control\n",
    "\n",
    "<img src=\"https://media.giphy.com/media/0Av9l0VIc01y1isrDw/giphy.gif\" width=400>\n",
    "\n",
    "Source: <https://media.giphy.com/media/0Av9l0VIc01y1isrDw/giphy.gif>"
   ]
  },
  {
   "cell_type": "markdown",
   "metadata": {
    "slideshow": {
     "slide_type": "slide"
    }
   },
   "source": [
    "# Housekeeping \n",
    "- Group projects posted\n",
    "- Project contract due this next week's Saturday (Oct 12)\n",
    "- No Tutorial assignment this week.\n",
    "- The midterm will be on Oct 16 during the tutorial. \n",
    "    - The midterm's duration will be 70 minutes.\n"
   ]
  },
  {
   "cell_type": "markdown",
   "metadata": {
    "slideshow": {
     "slide_type": "slide"
    }
   },
   "source": [
    "## Course policy on plagiarism.\n",
    "\n",
    "- The quiz format is closed-book, you can only consult the [Python Reference Sheet](https://canvas.ubc.ca/courses/153793/modules/items/7177701); \n",
    "    - No need to print this, you will have during the exam;\n",
    "\n",
    "- You can find more information on what happens if you violate academic integrity here: https://science.ubc.ca/students/blog/academic-integrity.\n",
    "    - This also applies to worksheets/tutorials\n"
   ]
  },
  {
   "cell_type": "markdown",
   "metadata": {
    "slideshow": {
     "slide_type": "slide"
    }
   },
   "source": [
    "## What is version control?\n",
    "\n",
    "- **Version control:** the process of keeping a record of changes to documents, including when the changes were made and who made them\n",
    "- lets you view earlier versions and revert changes\n",
    "- facilitates resolving conflicting edits\n",
    "- originally for software development, but is now used for many tasks (e.g. data analysis!)\n"
   ]
  },
  {
   "cell_type": "markdown",
   "metadata": {
    "slideshow": {
     "slide_type": "slide"
    }
   },
   "source": [
    "## Why do we need tools to help us collaborate? \n",
    "\n",
    "No big deal. Just send files to your teammates in emails. Right?\n",
    "\n",
    "<img align=\"left\" src=\"http://www.phdcomics.com/comics/archive/phd101212s.gif\" width=\"500\" />"
   ]
  },
  {
   "cell_type": "markdown",
   "metadata": {
    "slideshow": {
     "slide_type": "fragment"
    }
   },
   "source": [
    "Problems:\n",
    "- which version is the newest?\n",
    "- who made edits, when where they made?\n",
    "- what were you working on? (when you revisit the project 3 months from now)\n",
    "- can't easily revert changes (if something breaks)\n",
    "- no sane way to discuss todo items, issues, etc.\n"
   ]
  },
  {
   "cell_type": "markdown",
   "metadata": {
    "slideshow": {
     "slide_type": "slide"
    }
   },
   "source": [
    "## Why do we need tools to help us collaborate? \n",
    "\n",
    "OK, fine. Then let's just share and edit files on dropbox/google drive. Right?\n",
    "\n",
    "<img src=\"http://www.geekyedge.com/wp-content/uploads/2015/08/Dropbox-to-Google-Drive.jpg\" width=\"500\" />"
   ]
  },
  {
   "cell_type": "markdown",
   "metadata": {
    "slideshow": {
     "slide_type": "fragment"
    }
   },
   "source": [
    "These solve *only* the problem of knowing which version is the newest\n",
    "\n",
    "Still:\n",
    "- can't tell who made edits, when they were made\n",
    "- can't tell what you were working on when you revisit the project 3 months from now\n",
    "- can't easily revert changes\n",
    "- no sane way to discuss todo items, issues, etc\n",
    "\n",
    "(and honestly, you still usually end up with `final_revision_v3_Oct2020_final.docx`...)\n"
   ]
  },
  {
   "cell_type": "markdown",
   "metadata": {
    "slideshow": {
     "slide_type": "slide"
    }
   },
   "source": [
    "### Git and GitHub\n",
    "\n",
    "In this course we use two major tools for version control\n",
    "\n",
    "<img src=\"img/logo.png\" width=400>"
   ]
  },
  {
   "cell_type": "markdown",
   "metadata": {
    "slideshow": {
     "slide_type": "fragment"
    }
   },
   "source": [
    "**Git:** \n",
    "- keeps track of files in a **repository** (a folder that you tell Git to pay attention to)\n",
    "- responsible for keeping track of changes, sharing files with others, handling conflict resolution, etc\n",
    "- Git runs on your (and your teammates') machine"
   ]
  },
  {
   "cell_type": "markdown",
   "metadata": {
    "slideshow": {
     "slide_type": "fragment"
    }
   },
   "source": [
    "**GitHub:**\n",
    "- a service that hosts your repository in the cloud\n",
    "- helps manage permissions (who can view your project, who can edit it)\n",
    "- provides tools for project-specific communication (organized into *issues*)\n",
    "- can be used to build and host websites/blogs"
   ]
  },
  {
   "cell_type": "markdown",
   "metadata": {
    "slideshow": {
     "slide_type": "notes"
    }
   },
   "source": [
    "Git - works on your local computer (e.g., JupyterHub workspace or your laptop)\n",
    "\n",
    "GitHub - remote repository hosting service (stores a copy of your work on the cloud)"
   ]
  },
  {
   "cell_type": "markdown",
   "metadata": {
    "slideshow": {
     "slide_type": "slide"
    }
   },
   "source": [
    "### Key version control concepts and commands\n",
    "\n",
    "<img src=\"img/git_intro/Slide1.jpeg\" width=1000>"
   ]
  },
  {
   "cell_type": "markdown",
   "metadata": {
    "slideshow": {
     "slide_type": "notes"
    }
   },
   "source": [
    "Now we will introduce key version control concepts and commands. 4 \"places\" we need to know about to understand how these work are: your working directory, the staging area, the hidden`.git` directory, and the remote repository. Only the staging area is not a real location on your computer, it is a conceptual/abstract place that acts as a holding area. We will learn more about this in a minute.\n"
   ]
  },
  {
   "cell_type": "markdown",
   "metadata": {
    "slideshow": {
     "slide_type": "slide"
    }
   },
   "source": [
    "### Key version control concepts and commands\n",
    "\n",
    "<img src=\"img/git_intro/Slide2.jpeg\" width=1000>"
   ]
  },
  {
   "cell_type": "markdown",
   "metadata": {
    "slideshow": {
     "slide_type": "notes"
    }
   },
   "source": [
    "Here we made changes to three files, however, we only want to share the changes to `README.md` and `analysis.ipynb` as `notes.txt` is our own private notes file that we are not quite ready to share yet (or maybe it's a file we will always keep private)."
   ]
  },
  {
   "cell_type": "markdown",
   "metadata": {
    "slideshow": {
     "slide_type": "slide"
    }
   },
   "source": [
    "### Key version control concepts and commands\n",
    "\n",
    "<img src=\"img/git_intro/Slide3.jpeg\" width=1000>"
   ]
  },
  {
   "cell_type": "markdown",
   "metadata": {
    "slideshow": {
     "slide_type": "notes"
    }
   },
   "source": [
    "To tell Git which files' changes we would like to log as part of our version control, we tell Git what files we want to **add**. This moves the changes to a abstract place called the \"staging area\"."
   ]
  },
  {
   "cell_type": "markdown",
   "metadata": {
    "slideshow": {
     "slide_type": "slide"
    }
   },
   "source": [
    "### Key version control concepts and commands\n",
    "\n",
    "<img src=\"img/git_intro/Slide4.jpeg\" width=1000>"
   ]
  },
  {
   "cell_type": "markdown",
   "metadata": {
    "slideshow": {
     "slide_type": "notes"
    }
   },
   "source": [
    "Then, to actually log the changes in our version control history, we tell git that we'd like to **commit** the changes, and you'll see later in our demo, that when we do that, we will also a provide a relevant message that gets stored with the changes - allowing us to later understand what those changes were about.\n",
    "\n",
    "These changes get archived in a hidden `.git` folder. This special folder contains all the changes we ever logged, as well as who logged them, the messages associated with them, and the address of the remote reposiotry (if one exists)."
   ]
  },
  {
   "cell_type": "markdown",
   "metadata": {
    "slideshow": {
     "slide_type": "slide"
    }
   },
   "source": [
    "### Key version control concepts and commands\n",
    "\n",
    "<img src=\"img/git_intro/Slide5.jpeg\" width=1000>"
   ]
  },
  {
   "cell_type": "markdown",
   "metadata": {
    "slideshow": {
     "slide_type": "notes"
    }
   },
   "source": [
    "Finally, we tell Git to **push** our changes. When we do this, git uses the address in the hidden `.git` folder to send the changes from our local computer to the remote repository (e.g., on GitHub)."
   ]
  },
  {
   "cell_type": "markdown",
   "metadata": {
    "slideshow": {
     "slide_type": "slide"
    }
   },
   "source": [
    "### Key version control concepts and commands\n",
    "\n",
    "<img src=\"img/git_intro/Slide7.jpeg\" width=1000>"
   ]
  },
  {
   "cell_type": "markdown",
   "metadata": {
    "slideshow": {
     "slide_type": "notes"
    }
   },
   "source": [
    "Sometimes changes exist on the remote repository, but you don't yet have them on your local computer. This can happen because you edited a file directly using GitHub's web interface, or a collaborator pushed changes to the remote repository."
   ]
  },
  {
   "cell_type": "markdown",
   "metadata": {
    "slideshow": {
     "slide_type": "slide"
    }
   },
   "source": [
    "### Key version control concepts and commands\n",
    "\n",
    "<img src=\"img/git_intro/Slide8.jpeg\" width=1000>"
   ]
  },
  {
   "cell_type": "markdown",
   "metadata": {
    "slideshow": {
     "slide_type": "notes"
    }
   },
   "source": [
    "To get these changes on your local computer, you need to tell Git to **pull** these changes. This will bring the changes into your working directory and the version control history log in the hidder `.git` folder."
   ]
  },
  {
   "cell_type": "markdown",
   "metadata": {
    "slideshow": {
     "slide_type": "slide"
    }
   },
   "source": [
    "## Demo time!"
   ]
  },
  {
   "cell_type": "markdown",
   "metadata": {
    "slideshow": {
     "slide_type": "notes"
    }
   },
   "source": [
    "Show the students how to:\n",
    "\n",
    "1. create a public GitHub repo with a README\n",
    "    - Use the template repo since this is what students will use https://github.com/UBC-DSCI/dsci-100-project_template\n",
    "    - The advantage for the demo is that checkpoints files do not show up as untracked which makes it less confusing.\n",
    "2. edit a file there using the pen tool\n",
    "3. clone that repo to the JupyterHub using the Jupyter Git extension\n",
    "4. create a new Jupyter notebook that does something simple (like print hello world) and put it under version control (add and commit)\n",
    "5. push the committed changes to GitHub\n",
    "    - You also need to create a PAT https://docs.github.com/en/authentication/keeping-your-account-and-data-secure/creating-a-personal-access-token\n",
    "6. visit GitHub and see the changes (ooohhh ahhh!)"
   ]
  },
  {
   "cell_type": "markdown",
   "metadata": {
    "slideshow": {
     "slide_type": "slide"
    }
   },
   "source": [
    "### What did we learn?\n",
    "\n",
    "- \n",
    "- \n",
    "- \n"
   ]
  }
 ],
 "metadata": {
  "anaconda-cloud": {},
  "celltoolbar": "Slideshow",
  "kernelspec": {
   "display_name": "Python 3 (ipykernel)",
   "language": "python",
   "name": "python3"
  },
  "language_info": {
   "codemirror_mode": {
    "name": "ipython",
    "version": 3
   },
   "file_extension": ".py",
   "mimetype": "text/x-python",
   "name": "python",
   "nbconvert_exporter": "python",
   "pygments_lexer": "ipython3",
   "version": "3.11.6"
  },
  "rise": {
   "transition": "fade"
  }
 },
 "nbformat": 4,
 "nbformat_minor": 4
}
